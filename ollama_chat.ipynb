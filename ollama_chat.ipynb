{
 "cells": [
  {
   "cell_type": "markdown",
   "metadata": {},
   "source": [
    "Generate rationals"
   ]
  },
  {
   "cell_type": "code",
   "execution_count": 5,
   "metadata": {},
   "outputs": [
    {
     "name": "stdout",
     "output_type": "stream",
     "text": [
      "The sky appears blue due to a phenomenon called Rayleigh scattering. When sunlight enters the Earth's atmosphere, it encounters molecules and small particles in the air such as nitrogen and oxygen. Sunlight is made up of different colors, each of which has a different wavelength. Blue light waves are shorter and scatter more easily than other colors like red or yellow, which have longer wavelengths.\n",
      "\n",
      "When sunlight reaches the Earth's atmosphere, these blue light rays are scattered in all directions by the gas molecules and particles in the air. This scattering makes the sky appear blue during the daytime when you look up at it. At sunrise and sunset, the light has to travel through more of the Earth's atmosphere before reaching your eyes, so most of the blue and green light is filtered out, leaving primarily reds and yellows, which is why sunrises and sunsets often appear orange or red.\n",
      "\n",
      "This phenomenon was first explained by Lord Rayleigh in the late 19th century.\n"
     ]
    }
   ],
   "source": [
    "import ollama\n",
    "\n",
    "qwen = \"qwen2.5:7b\"\n",
    "llama = \"llama3.1:8b\"\n",
    "\n",
    "response = ollama.chat(model=qwen, messages=[\n",
    "  {\n",
    "    'role': 'user',\n",
    "    'content': 'Why is the sky blue?',\n",
    "  },\n",
    "])\n",
    "print(response['message']['content'])"
   ]
  },
  {
   "cell_type": "code",
   "execution_count": null,
   "metadata": {},
   "outputs": [],
   "source": []
  }
 ],
 "metadata": {
  "kernelspec": {
   "display_name": ".venv",
   "language": "python",
   "name": "python3"
  },
  "language_info": {
   "codemirror_mode": {
    "name": "ipython",
    "version": 3
   },
   "file_extension": ".py",
   "mimetype": "text/x-python",
   "name": "python",
   "nbconvert_exporter": "python",
   "pygments_lexer": "ipython3",
   "version": "3.11.3"
  }
 },
 "nbformat": 4,
 "nbformat_minor": 2
}
