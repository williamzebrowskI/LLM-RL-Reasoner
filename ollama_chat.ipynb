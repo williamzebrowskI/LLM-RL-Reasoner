{
 "cells": [
  {
   "cell_type": "markdown",
   "metadata": {},
   "source": [
    "Generate rationals"
   ]
  },
  {
   "cell_type": "code",
   "execution_count": 3,
   "metadata": {},
   "outputs": [
    {
     "name": "stdout",
     "output_type": "stream",
     "text": [
      "The sky appears blue to us during the daytime due to a phenomenon called Rayleigh scattering. This effect was named after the British physicist Lord Rayleigh, who first described it in the late 19th century.\n",
      "\n",
      "Here's how it works:\n",
      "\n",
      "1. **Sunlight enters Earth's atmosphere**: When sunlight from the sun enters our atmosphere, it encounters tiny molecules of gases such as nitrogen (N2) and oxygen (O2). These molecules are much smaller than the wavelength of light.\n",
      "2. **Light scattering occurs**: As the sunlight hits these gas molecules, it scatters in all directions. This is known as Rayleigh scattering. The shorter (blue) wavelengths are scattered more efficiently than the longer (red) wavelengths.\n",
      "3. **Blue light reaches our eyes**: Because blue light is scattered more than other colors, we see a lot of blue light reaching our eyes from the sky. If you were to travel into space and look back at Earth from a distance, the planet would appear white because all the light from the sun is being reflected equally in all directions.\n",
      "4. **Time of day and pollution effects**: The apparent color of the sky can change depending on the time of day and atmospheric conditions. During sunrise and sunset, the sky often appears red or orange due to the scattering of longer wavelengths by larger particles like dust and water vapor in the atmosphere.\n",
      "\n",
      "In summary, the sky is blue because the shorter (blue) wavelengths of sunlight are scattered more than other colors by the tiny molecules in our atmosphere, reaching our eyes from all directions.\n"
     ]
    }
   ],
   "source": [
    "import ollama\n",
    "response = ollama.chat(model='llama3.1:8b', messages=[\n",
    "  {\n",
    "    'role': 'user',\n",
    "    'content': 'Why is the sky blue?',\n",
    "  },\n",
    "])\n",
    "print(response['message']['content'])"
   ]
  },
  {
   "cell_type": "code",
   "execution_count": null,
   "metadata": {},
   "outputs": [],
   "source": []
  }
 ],
 "metadata": {
  "kernelspec": {
   "display_name": ".venv",
   "language": "python",
   "name": "python3"
  },
  "language_info": {
   "codemirror_mode": {
    "name": "ipython",
    "version": 3
   },
   "file_extension": ".py",
   "mimetype": "text/x-python",
   "name": "python",
   "nbconvert_exporter": "python",
   "pygments_lexer": "ipython3",
   "version": "3.11.3"
  }
 },
 "nbformat": 4,
 "nbformat_minor": 2
}
