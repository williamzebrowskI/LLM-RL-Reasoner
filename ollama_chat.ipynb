{
 "cells": [
  {
   "cell_type": "markdown",
   "metadata": {},
   "source": [
    "Generate rationals"
   ]
  },
  {
   "cell_type": "code",
   "execution_count": 4,
   "metadata": {},
   "outputs": [
    {
     "name": "stdout",
     "output_type": "stream",
     "text": [
      "The sky appears blue because of a phenomenon called Rayleigh scattering. When sunlight enters the Earth's atmosphere, it encounters gas molecules and small particles in the air. Sunlight is made up of different colors, each of which has a different wavelength. Blue light waves are shorter and scatter more than other colors when they interact with the gases and tiny particles in our atmosphere.\n",
      "\n",
      "The blue light scatters in all directions, making the sky appear blue when viewed from the ground during clear daytime hours. At sunrise or sunset, the light must travel through more of the Earth's atmosphere to reach your eyes, causing shorter (blue) wavelengths to scatter out even more than usual and leaving predominantly longer (red, orange) wavelengths to dominate the colors in the sky.\n",
      "\n",
      "This is why sunsets often appear red or orange – it's because those longer wavelengths are not scattered as much by the atmosphere.\n"
     ]
    }
   ],
   "source": [
    "import ollama\n",
    "\n",
    "qwen = \"qwen2.5:7b\"\n",
    "llama = \"llama3.1:8b\"\n",
    "\n",
    "response = ollama.chat(model=qwen, messages=[\n",
    "  {\n",
    "    'role': 'user',\n",
    "    'content': 'Why is the sky blue?',\n",
    "  },\n",
    "])\n",
    "print(response['message']['content'])"
   ]
  },
  {
   "cell_type": "code",
   "execution_count": null,
   "metadata": {},
   "outputs": [],
   "source": []
  }
 ],
 "metadata": {
  "kernelspec": {
   "display_name": ".venv",
   "language": "python",
   "name": "python3"
  },
  "language_info": {
   "codemirror_mode": {
    "name": "ipython",
    "version": 3
   },
   "file_extension": ".py",
   "mimetype": "text/x-python",
   "name": "python",
   "nbconvert_exporter": "python",
   "pygments_lexer": "ipython3",
   "version": "3.11.3"
  }
 },
 "nbformat": 4,
 "nbformat_minor": 2
}
