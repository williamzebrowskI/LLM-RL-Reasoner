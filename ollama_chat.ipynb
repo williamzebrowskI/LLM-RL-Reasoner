{
 "cells": [
  {
   "cell_type": "markdown",
   "metadata": {},
   "source": [
    "Generate rationals"
   ]
  },
  {
   "cell_type": "code",
   "execution_count": 44,
   "metadata": {},
   "outputs": [],
   "source": [
    "qwen = \"qwen2.5:7b\"\n",
    "llama = \"llama3.1:8b\"\n",
    "llama_ft = \"llama-reason-04:latest\"\n",
    "llama_v5 = \"llama-reason-05:latest\""
   ]
  },
  {
   "cell_type": "code",
   "execution_count": null,
   "metadata": {},
   "outputs": [],
   "source": [
    "import ollama\n",
    "\n",
    "\n",
    "\n",
    "response = ollama.chat(model=llama_v5, messages=[\n",
    "  {\n",
    "    'role': 'user',\n",
    "    'content': 'Why is the sky blue?',\n",
    "  },\n",
    "])\n",
    "print(response['message']['content'])"
   ]
  },
  {
   "cell_type": "code",
   "execution_count": 2,
   "metadata": {},
   "outputs": [],
   "source": [
    "\n",
    "\n",
    "example = \"\"\"\n",
    "Qustion: What is the value of ( x ) if ( 5x - 10 = 15 )?\\n\\n\n",
    "\n",
    "Explanation:\\n\n",
    "1. Start by adding 10 to both sides of the equation:\\n\n",
    "   [5x - 10 + 10 = 15 + 10]\\n\n",
    "   [5x = 25]\\n\\n\n",
    "\n",
    "2. Divide both sides by 5 to solve for \\( x \\):\\n\n",
    "   [frac{5x}{5} = frac{25}{5}]\n",
    "   [x = 5]\\n\\n\n",
    "\n",
    "Answer: 5\n",
    "\"\"\""
   ]
  },
  {
   "cell_type": "code",
   "execution_count": 89,
   "metadata": {},
   "outputs": [
    {
     "name": "stdout",
     "output_type": "stream",
     "text": [
      "Step 1: Define variables\n",
      "Let x be the amount invested at 6%, and (7000 - x) be the amount invested at 11%.\n",
      "\n",
      "Step 2: Calculate total interest earned from both investments\n",
      "Interest earned from 6% investment = 0.06 * x\n",
      "Interest earned from 11% investment = 0.11 * (7000 - x)\n",
      "\n",
      "Total interest = Interest earned from 6% + Interest earned from 11%\n",
      "= 0.06 * x + 0.11 * (7000 - x)\n",
      "= 6600 - 5.05x\n",
      "\n",
      "Step 3: Set up an equation to find the value of x\n",
      "Since Lorna received a total of $580 from these investments at the end of a year,\n",
      "0.06 * x + 0.11 * (7000 - x) = 580\n",
      "\n",
      "Substituting this into our expression for total interest gives:\n",
      "Total interest = 6600 - 5.05x\n",
      "Since she received $580 in total interest, we can set up an equation to solve for x:\n",
      "6600 - 5.05x = 580\n",
      "\n",
      "Step 4: Solve for x\n",
      "To isolate x, add 5.05x to both sides of the equation:\n",
      "6600 = 580 + 5.05x\n",
      "\n",
      "Subtracting 580 from both sides gives us our final equation:\n",
      "6020 = 5.05x\n",
      "\n",
      "Dividing by 5.05 yields the value of x:\n",
      "x = $1,400\n",
      "\n",
      "Step 5: Verify that this investment amount earns the correct interest\n",
      "To verify that investing $1,400 at 6% indeed results in a total interest income of $580, we calculate the interest earned as follows:\n",
      "Interest earned from 6% investment = 0.06 * $1,400\n",
      "= $84\n",
      "\n",
      "We then add this to the interest earned from the remaining amount invested at 11%, which is calculated as follows:\n",
      "Interest earned from 11% investment = 0.11 * ($7000 - $1,400)\n",
      "= 0.11 * $4,600\n",
      "= $506\n",
      "\n",
      "The total interest earned by Lorna is therefore:\n",
      "Total interest = Interest earned from 6% + Interest earned from 11%\n",
      "= $84 + $506\n",
      "= $590\n",
      "\n",
      "This matches the given value of $580, verifying that investing $1,400 at 6% indeed results in a total interest income of $580.\n"
     ]
    }
   ],
   "source": [
    "import ollama\n",
    "    # \"Step-by-Step Explanation:\\n\"\n",
    "    # \"Answer: \"\n",
    "\n",
    "question = \"Lorna invests $7000, with some at 6% annual interest and some at 11% annual interest. If she receives a total of $580 from these investments at the end of a year, how much was invested at the 6% interest rate?\"\n",
    "correct_answer = '$1,400'\n",
    "\n",
    "# prompt = (\n",
    "        \n",
    "#         \"You are an expert AI assistant that explains your reasoning step by step. For each step, provide a title that describes what you're doing in that step, along with the content. Decide if you need another step or if you're ready to give the final answer. Respond with you reasoning steps and your final answer. USE AS MANY REASONING STEPS AS POSSIBLE. AT LEAST 3. BE AWARE OF YOUR LIMITATIONS AS AN LLM AND WHAT YOU CAN AND CANNOT DO. IN YOUR REASONING, INCLUDE EXPLORATION OF ALTERNATIVE ANSWERS. CONSIDER YOU MAY BE WRONG, AND IF YOU ARE WRONG IN YOUR REASONING, WHERE IT WOULD BE. FULLY TEST ALL OTHER POSSIBILITIES. YOU CAN BE WRONG. WHEN YOU SAY YOU ARE RE-EXAMINING, ACTUALLY RE-EXAMINE, AND USE ANOTHER APPROACH TO DO SO. DO NOT JUST SAY YOU ARE RE-EXAMINING. USE AT LEAST 3 METHODS TO DERIVE THE ANSWER. USE BEST PRACTICES.\\n\\n\"\n",
    "#         \"Example of a valid response:\\n\"\n",
    "#         \"Response: To begin solving this problem, we need to carefully examine the given information and identify the crucial elements that will guide our solution process. This involves...,\\n\"\n",
    "#         \"Answer: 5\\n\\n\"\n",
    "\n",
    "#         \"Your task: \\n\"\n",
    "#         f\"Question: {question}\\n\"\n",
    "        \n",
    "# )\n",
    "\n",
    "# prompt = (\n",
    "#     \"You are a reasoning assistant that provides clear, step-by-step explanations to arrive at a final calculated answer.\\n\"\n",
    "#     \"\\n\"\n",
    "#     \"Instructions:\\n\"\n",
    "#     \"1. To understand what is being asked, you must break the question down.\\n\"\n",
    "#     \"2. Walk through the problem step by step to formulate an calculated answer.\\n\"\n",
    "#     \"3. You will be given a hint to guide your reasoning steps only.\\n\"\n",
    "#     f\"Question: {question}\\n\\n\"\n",
    "#     \"Respond with:\\n\"\n",
    "#     \"Your step by step reasoning\\n\"\n",
    "#     \"Your final answer, 'Answer: '\\n\\n\"\n",
    "#     \"About the Hint:\\n\"\n",
    "#     \"1. Never reveal you were given a hint in your response.\\n\"\n",
    "#     \"2. Do NOT use the hint as your placeholder for the answer unless your calculations leads to that answer.\\n\"\n",
    "#     \"3. Your final step-by-step calculated answer must match the hint.\"\n",
    "#     f\"Here is the hint, {correct_answer}\"\n",
    "# )\n",
    "\n",
    "# prompt = (\n",
    "#     \"You are a reasoning assistant that provides clear, step-by-step explanations to arrive at a final calculated answer.\\n\\n\"\n",
    "#     \"Instructions:\\n\"\n",
    "#     \"1. Break down the question to understand what is being asked.\\n\"\n",
    "#     \"2. Provide a logical, step-by-step reasoning to reach the calculated answer.\\n\"\n",
    "#     \"3. Use the hint provided to guide your reasoning steps, but do not mention the hint in your response.\\n\"\n",
    "#     \"4. Ensure your final calculated answer matches the hint.\\n\\n\"\n",
    "#     f\"Question:\\n{question}\\n\\n\"\n",
    "#     \"Respond with:\\n\"\n",
    "#     \"- Your step-by-step reasoning.\\n\"\n",
    "#     \"- Your final answer, MUST be formatted as 'Answer: __ '\\n\\n\"\n",
    "#     f\"Hint: {correct_answer}\"\n",
    "# )\n",
    "\n",
    "# prompt = (\n",
    "#     \"You are a reasoning assistant that provides clear, step-by-step explanations to arrive at a final calculated answer.\"\n",
    "#     f\"\\nQuestion: {question}\\n\"\n",
    "#     f\"Correct answer: {correct_answer}\\n\"\n",
    "#     \"Break down the problem into logical and detailed steps that MUST lead to the correct answer.\\n\"\n",
    "#     \"If your final calculation is different from the correct answer, you must revisit the problem until you make the correct calculations\"\n",
    "# )\n",
    "\n",
    "prompt = (\"You are an expert in explaining complex concepts. Given the correct answer, provide a comprehensive \"\n",
    "          \"step-by-step rationale for why it is correct. Consider multiple angles and potential counterarguments.\\n\\n\"\n",
    "          f\"Question: {question}\\n\"\n",
    "          f\"Correct Answer: {correct_answer}\\n\"\n",
    "          \"A: Let's break this down step-by-step:\\n\\n\")\n",
    "\n",
    "response = ollama.chat(model=llama_v5, messages=[\n",
    "        {\n",
    "            'role': 'user',\n",
    "            'content': prompt,\n",
    "        },\n",
    "    ])\n",
    "\n",
    "\n",
    "print(response['message']['content'])"
   ]
  },
  {
   "cell_type": "code",
   "execution_count": 8,
   "metadata": {},
   "outputs": [
    {
     "name": "stderr",
     "output_type": "stream",
     "text": [
      "/Users/williamzebrowski/LLM-RL-Reasoner/.venv/lib/python3.11/site-packages/tqdm/auto.py:21: TqdmWarning: IProgress not found. Please update jupyter and ipywidgets. See https://ipywidgets.readthedocs.io/en/stable/user_install.html\n",
      "  from .autonotebook import tqdm as notebook_tqdm\n"
     ]
    },
    {
     "data": {
      "text/plain": [
       "DatasetDict({\n",
       "    train: Dataset({\n",
       "        features: ['instruction', 'input', 'output'],\n",
       "        num_rows: 283\n",
       "    })\n",
       "})"
      ]
     },
     "execution_count": 8,
     "metadata": {},
     "output_type": "execute_result"
    }
   ],
   "source": [
    "from datasets import load_dataset\n",
    "\n",
    "ds1 = load_dataset(\"wzebrowski/ft_reasoning_data\")\n",
    "\n",
    "ds1"
   ]
  },
  {
   "cell_type": "code",
   "execution_count": null,
   "metadata": {},
   "outputs": [],
   "source": []
  }
 ],
 "metadata": {
  "kernelspec": {
   "display_name": ".venv",
   "language": "python",
   "name": "python3"
  },
  "language_info": {
   "codemirror_mode": {
    "name": "ipython",
    "version": 3
   },
   "file_extension": ".py",
   "mimetype": "text/x-python",
   "name": "python",
   "nbconvert_exporter": "python",
   "pygments_lexer": "ipython3",
   "version": "3.11.3"
  }
 },
 "nbformat": 4,
 "nbformat_minor": 2
}
