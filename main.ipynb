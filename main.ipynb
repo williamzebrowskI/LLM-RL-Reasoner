{
 "cells": [
  {
   "cell_type": "code",
   "execution_count": 1,
   "metadata": {},
   "outputs": [
    {
     "name": "stderr",
     "output_type": "stream",
     "text": [
      "/Users/williamzebrowski/LLM-RL-Reasoner/.venv/lib/python3.11/site-packages/tqdm/auto.py:21: TqdmWarning: IProgress not found. Please update jupyter and ipywidgets. See https://ipywidgets.readthedocs.io/en/stable/user_install.html\n",
      "  from .autonotebook import tqdm as notebook_tqdm\n"
     ]
    }
   ],
   "source": [
    "import re\n",
    "import ollama\n",
    "from src.data_loading import load_data\n",
    "from src.parsing import parse_options\n",
    "from src.rationale_generation import generate_rationale_and_answer\n",
    "from src.utils import is_rationale_correct\n",
    "from src.rationalization import rationalize\n",
    "from src.prompt_generation import create_prompt_examples, create_prompt_set, clean_options, get_correct_answer_text"
   ]
  },
  {
   "cell_type": "code",
   "execution_count": 624,
   "metadata": {},
   "outputs": [],
   "source": [
    "NUM_PROMPT_EXAMPLES = 5 # number of prompt examples\n",
    "NUM_EXAMPLES_TO_PROCESS = 10 # number of examples to process"
   ]
  },
  {
   "cell_type": "markdown",
   "metadata": {},
   "source": [
    "### Load Dataset"
   ]
  },
  {
   "cell_type": "code",
   "execution_count": 625,
   "metadata": {},
   "outputs": [
    {
     "name": "stdout",
     "output_type": "stream",
     "text": [
      "Dataset({\n",
      "    features: ['question', 'options', 'rationale', 'correct'],\n",
      "    num_rows: 10\n",
      "})\n"
     ]
    }
   ],
   "source": [
    "ds_train = load_data()\n",
    "\n",
    "# Step 1: Select the desired range from ds_train\n",
    "dataset_D = ds_train.select(range(NUM_PROMPT_EXAMPLES, len(ds_train)))\n",
    "\n",
    "# Step 2: Shuffle the selected dataset\n",
    "dataset_D_shuffled = dataset_D.shuffle()  # Use any seed you prefer\n",
    "\n",
    "# Step 3: Select a subset of examples to process\n",
    "dataset_D_subset = dataset_D_shuffled.select(range(NUM_EXAMPLES_TO_PROCESS))\n",
    "\n",
    "print(dataset_D_subset)"
   ]
  },
  {
   "cell_type": "markdown",
   "metadata": {},
   "source": [
    "### Create prompt examples"
   ]
  },
  {
   "cell_type": "code",
   "execution_count": 626,
   "metadata": {},
   "outputs": [
    {
     "data": {
      "text/plain": [
       "[{'question': \"Two friends plan to walk along a 43-km trail, starting at opposite ends of the trail at the same time. If Friend P's rate is 15% faster than Friend Q's, how many kilometers will Friend P have walked when they pass each other?\",\n",
       "  'rationale': 'If Q complete x kilometers, then P completes 1.15x kilometers.\\nx + 1.15x = 43\\n2.15x=43\\nx = 43/2.15 = 20\\nThen P will have have walked 1.15*20=23 km.\\nThe answer is E.',\n",
       "  'answer': 'E'},\n",
       " {'question': 'In the coordinate plane, points (x, 1) and (5, y) are on line k. If line k passes through the origin and has slope 1/5, then what are the values of x and y respectively?',\n",
       "  'rationale': 'Line k passes through the origin and has slope 1/5 means that its equation is y=1/5*x.\\nThus: (x, 1)=(5, 1) and (5, y) = (5,1) -->x=5 and y=1\\nAnswer: C',\n",
       "  'answer': 'C'},\n",
       " {'question': 'For all numbers p and q, the operation @ is defined by p@q = p^2 - pq. If xy ≠ 0, then which of the following can be equal to zero?\\nI. x@y\\nII. (xy)@y\\nIII. x@(x + y)',\n",
       "  'rationale': 'p@q = p^2 - pq=p(p-q).... so p@q will be zero if p=q or p=0.. but a cannot be equal to 0.. as per Q, x and y can take any int value except 0...\\nnow lets look at the choices..\\nwhen x=y, it will be 0... so ok...\\nwhen we put xy=y, it is possible when x=1 and y any integer... so ok again\\nwhen we put x=x+y.... only possibility when y=0 and it is given x and y cannot be 0....so not possible\\nonly l and ll possible ans B....',\n",
       "  'answer': 'B'},\n",
       " {'question': 'Carl is facing very difficult financial times and can only pay the interest on a $10,000 loan he has taken. The bank charges him a quarterly compound rate of 4%. What is the approximate interest he pays annually?',\n",
       "  'rationale': 'Usually, you are given the annual rate of interest and it is mentioned that it is annual rate.\\nThe bank charges him a quarterly compounded ANNUAL rate of 16%.\\nHere you find per quarter rate as (16/4)% = 4%\\nI have actually never seen a question with quarter rate given but since this question did not mentionannual rate of interestand since the options did not make sense with 4% annual rate of interest, it is apparent that the intent was a 4% quarterly rate. So the bank charges 4% every quarter and compounds it in the next quarter. Had it been a simple quarterly rate, we would have just found 4 * 4% of 10,000 = $1600 as our answer.\\nBut since, the interest is compounded, it will be a bit more than $1600. Option (A) looks correct.',\n",
       "  'answer': 'A'},\n",
       " {'question': 'The speed at which a man can row a boat in still water is 25 kmph. If he rows downstream, where the speed of current is 11 kmph, what time will he take to cover 80 metres?',\n",
       "  'rationale': 'Speed of the boat downstream = 25 +11\\n= 36 kmph\\n= 36 * 5/18 = 10 m/s\\nHence time taken to cover 80 m = 80/10\\n= 8 seconds.\\nAnswer:E',\n",
       "  'answer': 'E'}]"
      ]
     },
     "execution_count": 626,
     "metadata": {},
     "output_type": "execute_result"
    }
   ],
   "source": [
    "prompt_examples = create_prompt_examples(ds_train, NUM_PROMPT_EXAMPLES)\n",
    "\n",
    "prompt_examples"
   ]
  },
  {
   "cell_type": "markdown",
   "metadata": {},
   "source": [
    "### Create Prompt Sets"
   ]
  },
  {
   "cell_type": "code",
   "execution_count": 627,
   "metadata": {},
   "outputs": [
    {
     "name": "stdout",
     "output_type": "stream",
     "text": [
      "Question: Two friends plan to walk along a 43-km trail, starting at opposite ends of the trail at the same time. If Friend P's rate is 15% faster than Friend Q's, how many kilometers will Friend P have walked when they pass each other?\n",
      "Answer Explanation: If Q complete x kilometers, then P completes 1.15x kilometers.\\nx + 1.15x = 43\\n2.15x=43\\nx = 43/2.15 = 20\\nThen P will have have walked 1.15*20=23 km.\\nThe answer is E.\n",
      "Answer: 23\n",
      "###\n",
      "Question: In the coordinate plane, points (x, 1) and (5, y) are on line k. If line k passes through the origin and has slope 1/5, then what are the values of x and y respectively?\n",
      "Answer Explanation: Line k passes through the origin and has slope 1/5 means that its equation is y=1/5*x.\\nThus: (x, 1)=(5, 1) and (5, y) = (5,1) -->x=5 and y=1\\nAnswer: C\n",
      "Answer: 5 and 1\n",
      "###\n",
      "Question: For all numbers p and q, the operation @ is defined by p@q = p^2 - pq. If xy ≠ 0, then which of the following can be equal to zero?\n",
      "I. x@y\n",
      "II. (xy)@y\n",
      "III. x@(x + y)\n",
      "Answer Explanation: p@q = p^2 - pq=p(p-q).... so p@q will be zero if p=q or p=0.. but a cannot be equal to 0.. as per Q, x and y can take any int value except 0...\\nnow lets look at the choices..\\nwhen x=y, it will be 0... so ok...\\nwhen we put xy=y, it is possible when x=1 and y any integer... so ok again\\nwhen we put x=x+y.... only possibility when y=0 and it is given x and y cannot be 0....so not possible\\nonly l and ll possible ans B....\n",
      "Answer: I and II\n",
      "###\n",
      "Question: Carl is facing very difficult financial times and can only pay the interest on a $10,000 loan he has taken. The bank charges him a quarterly compound rate of 4%. What is the approximate interest he pays annually?\n",
      "Answer Explanation: Usually, you are given the annual rate of interest and it is mentioned that it is annual rate.\\nThe bank charges him a quarterly compounded ANNUAL rate of 16%.\\nHere you find per quarter rate as (16/4)% = 4%\\nI have actually never seen a question with quarter rate given but since this question did not mentionannual rate of interestand since the options did not make sense with 4% annual rate of interest, it is apparent that the intent was a 4% quarterly rate. So the bank charges 4% every quarter and compounds it in the next quarter. Had it been a simple quarterly rate, we would have just found 4 * 4% of 10,000 = $1600 as our answer.\\nBut since, the interest is compounded, it will be a bit more than $1600. Option (A) looks correct.\n",
      "Answer: $1600\n",
      "###\n",
      "Question: The speed at which a man can row a boat in still water is 25 kmph. If he rows downstream, where the speed of current is 11 kmph, what time will he take to cover 80 metres?\n",
      "Answer Explanation: Speed of the boat downstream = 25 +11\\n= 36 kmph\\n= 36 * 5/18 = 10 m/s\\nHence time taken to cover 80 m = 80/10\\n= 8 seconds.\\nAnswer:E\n",
      "Answer: 8 seconds\n",
      "###\n",
      "\n"
     ]
    }
   ],
   "source": [
    "prompt_set = create_prompt_set(ds_train, NUM_PROMPT_EXAMPLES)\n",
    "print(prompt_set)"
   ]
  },
  {
   "cell_type": "markdown",
   "metadata": {},
   "source": [
    "### Initialize lists to hold correct and incorrect pairs"
   ]
  },
  {
   "cell_type": "code",
   "execution_count": 628,
   "metadata": {},
   "outputs": [],
   "source": [
    "correct_pairs = []\n",
    "incorrect_pairs = []\n",
    "unanswered_paris = []"
   ]
  },
  {
   "cell_type": "markdown",
   "metadata": {},
   "source": [
    "### Iterate over each example in the subset"
   ]
  },
  {
   "cell_type": "code",
   "execution_count": 629,
   "metadata": {},
   "outputs": [],
   "source": [
    "def extract_answer_text(rationale):\n",
    "    \"\"\"\n",
    "    Extracts the answer text from the rationale using regex.\n",
    "    \n",
    "    Args:\n",
    "        rationale (str): Generated rationale string.\n",
    "    \n",
    "    Returns:\n",
    "        str or None: Extracted answer text if found, else None.\n",
    "    \"\"\"\n",
    "    # Attempt to extract the answer text after 'Answer:'\n",
    "    match = re.search(r'Answer:\\s*(.+)', rationale, re.IGNORECASE)\n",
    "    if match:\n",
    "        return match.group(1)\n",
    "    return None"
   ]
  },
  {
   "cell_type": "code",
   "execution_count": 630,
   "metadata": {},
   "outputs": [
    {
     "name": "stdout",
     "output_type": "stream",
     "text": [
      "correct_answer_text: 200\n",
      "clean options: ['A) 200', 'B) 162', 'C) 180', 'D) 152', 'E) 250']\n",
      "extracted answer: 200\n",
      "correct\n",
      "Correct: {'question': 'A company D has 30 percent of the employees are secretaries and 45 percent are salespeople. If there are 50 other employees of Company D, how many employees does Company D have?', 'rationale': \"To solve this problem, let's break it down step by step.\\n\\nStep 1: We know that 30% of the employees are secretaries and 45% are salespeople. This means that the remaining percentage of employees is not working in either category, which is:\\n\\n100% - (30% + 45%) = 25%\\n\\nThis 25% represents the other employees in the company.\\n\\nStep 2: We are given that there are 50 other employees who make up this 25%. Let's denote the total number of employees in the company as 'x'.\\n\\nWe can set up a proportion to find the value of 'x':\\n\\n25% of x = 50\\n\\nTo solve for 'x', we need to express 25% as a decimal and then isolate 'x':\\n\\n0.25 * x = 50\\nx = 50 / 0.25\\n\\nStep 3: Perform the division:\\n\\nx = 200\\n\\nTherefore, Company D has a total of 200 employees.\\n\\nAnswer: 200\", 'answer': '200'}\n",
      "Processed 1 questions.\n",
      "\n",
      "correct_answer_text: 2\n",
      "clean options: ['A) 2', 'B) 3', 'C) 4', 'D) 6', 'E) 12']\n",
      "extracted answer: None\n",
      "correct\n",
      "Correct: {'question': \"Angelina walked 200 meters from her home to the grocery at a constant speed. She then walked 300 meters to the gym at double the speed. She spent 50 seconds less on her way from the grocery to the gym than on her way from home to the grocery. What was Angelina's speed, in meters per second, from the grocery to the gym?\", 'rationale': \"Let's denote Angelina's speed from her home to the grocery as v (in m/s). Since she walked 200 meters from her home to the grocery at a constant speed, it took her 200/v seconds.\\n\\nOn her way from the grocery to the gym, which is 300 meters away, she walked at double the speed, so her speed was 2v. It took her 300/2v = 150/v seconds.\\n\\nAccording to the problem, she spent 50 seconds less on her way from the grocery to the gym than on her way from home to the grocery:\\n\\n200/v - 150/v = 50\\n\\nSimplifying this equation, we can cancel out v (since it's not zero), which results in:\\n\\n200 - 150 = 50v\\n\\nCombine like terms and simplify:\\n\\n50 = 50v\\n\\nDivide both sides by 50 to solve for v:\\n\\n1 = v\\n\\nSo, Angelina's speed from the grocery to the gym is actually equal to her speed from home to the grocery, which was given as v (in m/s). We were not provided with a specific value for v, but we can say that the speed from the grocery to the gym is also 1 meter per second, since 1 = v.\\n\\nHowever, this result seems suspiciously simple and does not match any of the answer choices. The given information implies that there should be some difference in speed, so this solution does not seem plausible. In a situation like this, it's better to verify the initial assumption or check if any calculation was done incorrectly.\\n\\nUpon re-reading the problem, we realize that our approach was correct initially but may have led us astray due to an incorrect interpretation of the given speeds.\\n\\nHowever, let's go back and examine the time taken for each leg. The total distance between home and gym is 200 + 300 = 500 meters. It took her 50 seconds less on the second part, so we can express this as:\\n\\nTime taken from home to grocery - Time taken from grocery to gym = 50\\n\\nLet's represent the time taken from home to grocery as t1 and the time taken from grocery to gym as t2. The given condition is then expressed as:\\n\\nt1 - t2 = 50\\n\\nFrom our initial solution, we know that t1 = 200/v and t2 = 150/v.\\n\\nWe can substitute these expressions into the equation above:\\n\\n200/v - 150/v = 50\\n\\nSince this was the initial problem, let's solve it correctly. In fact, when solving for v in the previous steps, I made a mistake by saying that we should get a specific value for v without any specific value given for v.\\n\\nThis is incorrect; we were supposed to find the relationship between t1 and t2 using their time expressions and find how their speeds are related instead of directly finding v.\", 'answer': None}\n",
      "Processed 2 questions.\n",
      "\n",
      "correct_answer_text: 130\n",
      "clean options: ['A) 80', 'B) 90', 'C) 110', 'D) 120', 'E) 130']\n",
      "extracted answer: 133\n",
      "incorrect\n",
      "Incorrect: {'question': '33 1/3% OF 390?', 'rationale': \"To find the solution, we need to calculate 33 1/3% of 390.\\n\\nFirst, let's convert the percentage to a decimal. We know that 100% = 1. Therefore, 33 1/3% can be written as (33 + 1/3)/100 or 34/100 in fractional form. Converting this fraction to a decimal gives us:\\n\\n34/100 = 0.34\\n\\nNow, we need to find 0.34 of 390.\\n\\n0.34 × 390 = 132.6\\n\\nRounding to the nearest whole number (as we cannot have a fraction of a unit in the final answer), we get:\\n\\nAnswer: 133\", 'answer': '133'}\n",
      "Processed 3 questions.\n",
      "\n",
      "correct_answer_text: 342\n",
      "clean options: ['A) 150', 'B) 339', 'C) 342', 'D) 359', 'E) 362']\n",
      "extracted answer: None\n",
      "incorrect\n",
      "Incorrect: {'question': 'If a number is formed by writing integers 1 to 150 one after another, like 12345...150. How many E digits does this integer consists of?', 'rationale': 'To determine how many times the digit E occurs from 1 to 150, we need to consider its frequency in each group of numbers.\\n\\nFrom 10 to 19 (i.e., 11, 12, ..., 19), there is one occurrence of E.\\nFrom 20 to 29, there are two occurrences (e.g., 21 and 28).\\nThis pattern continues up to the last digit, which is 9. So, we need to count how many times 9 appears in each group.\\n\\nNotice that 9 occurs only once every 10 numbers from 1 to 150. Therefore, it will occur nine times.\\n\\nIn a set of ten consecutive numbers (e.g., 1-10), the digit E appears five times because there is one occurrence of E for each digit from 1 to 9, plus an additional four occurrences due to its appearance in each of the tens places (20, 30, ..., 90).\\n\\nNow, we need to divide 150 by 10 to determine how many complete sets of ten numbers are present. When we do this division, we get two whole sets and a remainder.\\n\\nFrom 1 to 120 (which covers two sets of ten), the digit E will appear in each tens place for the numbers 20, 30, ..., 90; that\\'s five additional occurrences of E. The remaining set from 121 to 150 also contains five tens places where E is present: 130, 140, and so on.\\n\\nIn total, there are nine occurrences of E as a single-digit number (from 1 to 9), ten more occurrences due to its appearance in each tens place from 20-90, and three additional occurrences in the last set. We don\\'t need to consider any occurrences beyond these, since that would exceed the given bounds.\\n\\nTherefore, we sum up all these occurrences: nine as a single-digit number plus ten for the first set of tens places, five for the second set (since there\\'s only one E per set), and three more for the last group. That gives us a total of 27 times the digit E is present in our large integer from 1 to 150.\\n\\nHowever, I don\\'t see any occurrence in every ten numbers. We need to count occurrences where \"E\" appears as a single-digit number (9) within each set of 10 consecutive numbers. There are indeed 15 sets of ten numbers, so the total occurrences will be: \\n\\nSingle-digit \\'9\\' = 15,\\nTens place \\'0\\', \\'1\\' in each set of 10 numbers where E could possibly appear is incorrect. As stated above, this actually results in two extra occurrences per set beyond the single digit.\\n\\nEvery number has a zero and an occurrence of every other digit (including tens places) once, except 5 times ten which appears twice. However, for all other digits including \"E\" as a single-digit number within tens it occurs only once each time per group of ten numbers. So we will have to consider this:\\n\\n\\nExtra occurrences = (15 -1) *2  =14, and not 9.\\n\\nNow let\\'s recalculate the total occurrences:\\n\\nTotal occurrences =  Single-digit \\'9\\' + Extra occurrences\\n= 15 + 14\\n= 29\\n\\nHowever, I realized my earlier statement regarding occurrence as single digit numbers between every group of ten was wrong. There are actually one \"0\" one \"1\", and so on (every other digit besides \"E\") appearing in each set. In fact \"9\" does not occur any more than the others when we consider this. The only time a digit occurs at all is as part of a number where that same digit is tens place, i.e.  E as a single-digit number would never be present.\\n\\nSo let\\'s just count occurrence by ten since there is one occurrence per number of every other digit except \"E\" appearing in a tens place, where again only one \"0\", \"1\", and so on appears (every ten numbers from 10-20 one \"0\" and so on). And as single-digit it appears once each time between these same groupings (ten-twenty, twenty-thirty, thirty-forty etc) in a particular number i.e. the last digit of every number.\\n\\nThere are indeed one occurrence per ten for all digits except E within 1-150.\\nAnd also there is extra occurrence between each set of ten where we find single-digit occurrences from 10-20 (one \\'0\\') and so on up to (fifty, fifty-one, etc).', 'answer': 'No Answer Extracted'}\n",
      "Processed 4 questions.\n",
      "\n",
      "correct_answer_text: 14\n",
      "clean options: ['A) 0', 'B) 1', 'C) 10', 'D) 14', 'E) 17']\n",
      "extracted answer: 15\n",
      "incorrect\n",
      "Incorrect: {'question': 'The average of fifteen numbers is 0. In those 15, at the most, how many may be greater than zero?', 'rationale': 'Step 1: Understand what it means for the average of a set of numbers to be 0.\\nThe average of a set of numbers being 0 implies that the sum of all the numbers in the set is 0.\\n\\nStep 2: Determine the implications of having a sum of 0 with 15 numbers.\\nWith 15 numbers, if their sum is 0, it means that any number greater than zero must be balanced by another number less than or equal to zero. This is because for every positive number, there needs to be an equivalent negative value to cancel out the positive.\\n\\nStep 3: Consider how many numbers could be greater than zero.\\nSince each positive number requires a corresponding negative number to balance it, and we have 15 numbers in total, theoretically, all of them could be balanced by others if they are positive. However, this doesn\\'t limit their count; what\\'s crucial is the presence of enough negatives to balance any positives.\\n\\nStep 4: Identify the maximum number of positive values.\\nThe constraint isn\\'t on how many can be greater than zero but rather ensuring we have enough negative numbers to counterbalance them. Since all numbers (positive or negative) contribute to the sum being 0, the actual number of positive values is only limited by the requirement for balance.\\n\\nStep 5: Consider that there\\'s no minimum number of negative values needed.\\nSince any number can be negative and still contribute to balancing the positives, the question doesn\\'t ask how many negatives are required but rather what the maximum number of positives could be. Theoretically, all 15 numbers could be positive if we had enough negative counterparts.\\n\\nStep 6: Conclude based on the balance needed for the sum to be zero.\\nSince any set of 14 numbers can have one positive value (and thus 13 negatives) and still have a total sum of 0, and since we are looking for \"at most\" how many may be greater than zero, the answer is directly related to the number of values that could exist without breaking the balance.\\n\\nStep 7: Determine the exact number based on the understanding from previous steps.\\nConsidering all numbers need a counterpart to balance out to a sum of 0, but there\\'s no constraint on the maximum number of positives as long as negatives are present, we must think about what \"at most\" implies in this context. The actual question is not how many can be positive, but how many must be negative or positive for balance, but since it asks for the maximum that could be greater than zero without specifying a need for balance, the answer reflects a scenario where all 15 numbers could potentially contribute positively.\\n\\nStep 8: Finalize based on understanding of constraints and implications.\\nConsidering the context of \"at most\" and the requirement for all numbers to be balanced out to achieve an average of 0, we consider what that implies for the maximum possible number of positive values without a corresponding constraint on how many negatives must exist to balance them.\\n\\nAnswer: 15', 'answer': '15'}\n",
      "Processed 5 questions.\n",
      "\n",
      "correct_answer_text: 6 sec\n",
      "clean options: ['A) 6 sec', 'B) 9 sec', 'C) 12 sec', 'D) 15 sec', 'E) 18 sec']\n",
      "extracted answer: 6\n",
      "correct\n",
      "Correct: {'question': 'A train 100 m long is running at a speed of 68 kmph. How long does it take to pass a man who is running at 8 kmph in the same direction as the train?', 'rationale': \"To find out how long it takes for the train to pass the man, we need to determine the relative speed between the train and the man.\\n\\nFirst, let's convert the speed of the train from kilometers per hour (kmph) to meters per second (m/s):\\n\\nSpeed of train = 68 kmph\\n= 68 × (5/18) m/s (since 1 km = 1000 m and 1 hour = 3600 s)\\n= 18.89 m/s\\n\\nNow, let's find the relative speed between the train and the man:\\n\\nRelative speed = Speed of train - Speed of man\\n= 18.89 m/s - 2.22 m/s (since 8 kmph = 2.22 m/s)\\n= 16.67 m/s\\n\\nNext, we need to find out how much distance the train covers in passing the man:\\n\\nDistance covered = Length of train + Distance covered by man\\nSince the man is running in the same direction as the train, the distance covered by him will be negligible compared to the length of the train.\\n\\nSo, let's consider only the length of the train:\\n\\nDistance covered = 100 m\\n\\nNow, we can use the formula: Time = Distance / Speed to find out how long it takes for the train to pass the man:\\n\\nTime = Distance covered / Relative speed\\n= 100 m / 16.67 m/s\\n= 6 seconds\\n\\nAnswer: 6\", 'answer': '6'}\n",
      "Processed 6 questions.\n",
      "\n",
      "correct_answer_text: 14\n",
      "clean options: ['A) 12', 'B) 13', 'C) 14', 'D) 15', 'E) 16']\n",
      "extracted answer: 14\n",
      "correct\n",
      "Correct: {'question': 'x and y are positive integers. When x is divided by 9, the remainder is 2, and when x is divided by 7, the remainder is 4. When y is divided by 11, the remainder is 3, and when y is divided by 13, the remainder is 12. What is the least possible value of y - x?', 'rationale': \"To find the least possible value of y - x, we need to first determine the values of x and y based on the given conditions.\\n\\nWhen x is divided by 9, the remainder is 2, which means that x can be represented as x = 9k + 2, where k is a non-negative integer. Similarly, when x is divided by 7, the remainder is 4, so x can also be represented as x = 7m + 4, where m is another non-negative integer.\\n\\nWe can rewrite these equations as:\\n\\nx = 9k + 2\\nx = 7m + 4\\n\\nSince both expressions are equal to x, we can set them equal to each other and solve for k and m. This gives us the following equation:\\n\\n9k + 2 = 7m + 4\\n\\nSubtracting 2 from both sides, we get:\\n\\n9k = 7m + 2\\n\\nSince k and m are integers, we know that 9k must be a multiple of 9. Therefore, 7m + 2 must also be a multiple of 9.\\n\\nThe smallest possible value for m is 1, which gives us:\\n\\n7(1) + 2 = 9\\n\\nSo, k = 1 and x can be represented as x = 9(1) + 2 = 11.\\n\\nNow, let's consider the values of y. When y is divided by 11, the remainder is 3, so y can be represented as y = 11n + 3, where n is a non-negative integer. Similarly, when y is divided by 13, the remainder is 12, so y can also be represented as y = 13p + 12, where p is another non-negative integer.\\n\\nAgain, we can rewrite these equations as:\\n\\ny = 11n + 3\\ny = 13p + 12\\n\\nSince both expressions are equal to y, we can set them equal to each other and solve for n and p. This gives us the following equation:\\n\\n11n + 3 = 13p + 12\\n\\nSubtracting 3 from both sides, we get:\\n\\n11n = 13p + 9\\n\\nSince n and p are integers, we know that 11n must be a multiple of 11. Therefore, 13p + 9 must also be a multiple of 11.\\n\\nThe smallest possible value for p is 1, which gives us:\\n\\n13(1) + 9 = 22\\n\\nSo, n = 2 and y can be represented as y = 11(2) + 3 = 25.\\n\\nNow that we have values for x and y, we can calculate the least possible value of y - x. This is simply 25 - 11 = 14.\\n\\nAnswer: 14\", 'answer': '14'}\n",
      "Processed 7 questions.\n",
      "\n",
      "correct_answer_text: 272\n",
      "clean options: ['A) 199', 'B) 201', 'C) 211', 'D) 272', 'E) None']\n",
      "extracted answer: 272\n",
      "correct\n",
      "Correct: {'question': 'Find the sum of prime numbers lying between 60 and 75.', 'rationale': \"To find the sum of prime numbers lying between 60 and 75, we first need to identify all the prime numbers within this range.\\n\\nThe prime numbers between 60 and 75 are 61, 67, 71, and 73.\\n\\nNow, let's calculate the sum of these prime numbers:\\n\\n61 + 67 = 128\\n128 + 71 = 199\\n199 + 73 = 272\\n\\nTherefore, the sum of prime numbers lying between 60 and 75 is 272.\\n\\nAnswer: 272\", 'answer': '272'}\n",
      "Processed 8 questions.\n",
      "\n",
      "correct_answer_text: 1\n",
      "clean options: ['A) 1', 'B) 2', 'C) 3', 'D) 7', 'E) 9']\n",
      "extracted answer: $17^7 - 2$ ends with the digit \"1\".\n",
      "correct\n",
      "Correct: {'question': 'what is the units digit of the expression 17^7-2?', 'rationale': 'To find the units digit of the expression $17^7 - 2$, let\\'s break down the problem step by step.\\n\\nStep 1: Understand that we need to find the units digit of an expression, which means we are only concerned with the last digit of the result.\\n\\nStep 2: Recognize that the units digit of a number raised to a power follows a pattern. For example, $7^1 = 7$, $7^2 = 49$ (units digit is 9), $7^3 = 343$ (units digit is 3), and so on.\\n\\nStep 3: Notice that the units digits of powers of 7 repeat in a cycle: 7, 9, 3, 1. This cycle has a length of 4.\\n\\nStep 4: Since we need to find the units digit of $17^7$, let\\'s first simplify this expression by considering it as $(10 + 7)^7$. However, when calculating the units digit of powers, we can focus on the exponent of the number (in this case, 7) and its remainder when divided by the length of the cycle (which is 4).\\n\\nStep 5: The remainder when 7 is divided by 4 is 3. This means that the pattern for powers of 7 will repeat in a way that is consistent with the power having an exponent of 3.\\n\\nStep 6: Since we\\'re interested in $17^7$, but are focusing on the units digit, which comes from $7^7$, and knowing that this is equivalent to finding the units digit of some multiple of 4 (because the remainder is 3), let\\'s calculate $7^3$ and see its units digit. This will give us an understanding of what to expect for $7^7$. We already know that the units digit of powers of 7 cycles as follows: 7, 9, 3, 1.\\n\\nStep 7: The units digit of $7^3$ is 3 (because it\\'s part of the cycle 7, 9, 3, 1).\\n\\nStep 8: Given that we now understand the pattern for powers of 7, and knowing that $17^7$ simplifies down to a consideration of its units digit being equivalent to some power of 7, let\\'s calculate this units digit. Since we established that the cycle for units digits is 7, 9, 3, 1 and we\\'re interested in the $4^{th}$ position (because $7 \\\\mod 4 = 3$, which tells us where we are in the cycle), the units digit of $17^7$ would be equivalent to $7^3$. And since we know that $7^3 = 343$, its units digit is 3.\\n\\nStep 9: Now, let\\'s calculate $17^7 - 2$ and consider its units digit. We\\'re looking for the units digit of an expression that ends with a number with a units digit of 3 (because we determined this from calculating the equivalent power of 7).\\n\\nStep 10: Finally, knowing that the units digit is what we care about in this problem, let\\'s calculate $17^7 - 2$ and find its units digit.\\n\\nLet\\'s assume for simplicity sake that instead of 17 we are working with a smaller number like 7. When calculating 7^7 we know from previous knowledge that it ends in the digit \"3\". Now subtracting 2 gives us a result ending with the digit \"1\".\\n\\nThis simple example tells us that no matter what base number you\\'re raising to a power, as long as you end up getting a units digit of \"3\" (which is part of our cycle), and then you subtract 2 from it, the resulting units digit will always be \"1\".\\n\\nAnswer: $17^7 - 2$ ends with the digit \"1\".', 'answer': '$17^7 - 2$ ends with the digit \"1\".'}\n",
      "Processed 9 questions.\n",
      "\n",
      "correct_answer_text: 3\n",
      "clean options: ['A) −4', 'B) 0', 'C) 1', 'D) 2', 'E) 3']\n",
      "extracted answer: 1\n",
      "incorrect\n",
      "Incorrect: {'question': 'For any real number x, the operatoris defined as:\\n(x) = x(4 − x)\\nIf p + 1 =(p + 1), then p =', 'rationale': \"To find the value of p, we can start by substituting (p + 1) for x in the given expression.\\n\\n(p + 1) = (p + 1)(4 - (p + 1))\\n\\nFirst, let's simplify the right-hand side:\\n\\n(p + 1) = p(4 - (p + 1))\\n= p(3 - p)\\n= 3p - p^2\\n\\nNow, we can equate this expression to the left-hand side:\\n\\np + 1 = 3p - p^2\\n\\nNext, let's move all terms to one side of the equation by subtracting p from both sides and adding p^2 to both sides:\\n\\n1 = 3p - p^2 - p\\n= 3p - p^2 - p\\n= 2p - p^2\\n\\nSubtracting p from both sides again gives us:\\n\\n1 + p = -p^2\\n\\nNow, let's add p^2 to both sides and divide by p+1 (not 0!):\\n\\n(p^2 + p) / (p + 1) = 1\\n\\nWe can simplify the numerator using the difference of squares identity:\\n\\n(p^2 + p) = (p)(p + 1)\\n\\nSo, we have:\\n\\n(p)(p + 1) / (p + 1) = 1\\n\\nDividing both sides by (p+1) gives us:\\n\\np = 1\\n\\nTherefore, the value of p is 1.\\n\\nAnswer: 1\", 'answer': '1'}\n",
      "Processed 10 questions.\n",
      "\n"
     ]
    }
   ],
   "source": [
    "for idx, example in enumerate(dataset_D_subset):\n",
    "    question = example['question']\n",
    "    # Map 'correct' label to answer text\n",
    "    raw_options = example['options']\n",
    "    cleaned_options = clean_options(raw_options)\n",
    "    correct_label = example['correct'].strip().upper()\n",
    "    correct_answer_text = get_correct_answer_text(cleaned_options, correct_label)\n",
    "\n",
    "    print(f\"correct_answer_text: {correct_answer_text}\")\n",
    "    print(f\"clean options: {cleaned_options}\")\n",
    "    \n",
    "    if correct_answer_text is None:\n",
    "        print(f\"Skipping example {idx} due to missing correct answer.\")\n",
    "        continue  # Skip this example\n",
    "    \n",
    "    # Generate rationale and answer\n",
    "    generated_rationale = generate_rationale_and_answer(question, prompt_set)\n",
    "    \n",
    "    # Extract the answer text from the rationale\n",
    "    extracted_answer = extract_answer_text(generated_rationale)\n",
    "    print(f\"extracted answer: {extracted_answer}\")\n",
    "\n",
    "    response = ollama.chat(model=\"llama3.1:8b\", messages=[\n",
    "            {\n",
    "                'role': 'user',\n",
    "                'content':\n",
    "                f\"\"\"\n",
    "                    Your task is to compare two numerical answers and determine if they are the same answer, ignoring differences in units or formatting.\\n\\n\n",
    "                    Comparison Rules:\\n\\n\n",
    "                    - If the answers are the same, for example, First Answer: '90' and Second Answer: '90 miles' or ( km, %, sec, ml, etc) this is a match and return 'correct' in your response.\\n\n",
    "                    - If the answers are different, consider them NOT a match and return 'incorrect' in your response.\\n\\n\n",
    "                    Ignore differences in formatting, such as trailing zeros.\\n\\n\n",
    "\n",
    "                    Compare the Following Answers:\\n\n",
    "                    First answer: {extracted_answer}\\n\n",
    "                    Second answer: {correct_answer_text}\\n\\n\n",
    "                    Respond with:\\n\n",
    "                    \"correct\" if the two answers are the same\\n\n",
    "                    \"incorrect\" if the two answers are not the same\\n\\n\n",
    "                    Please respond with only one of the above options, without any explanations.\n",
    "                \"\"\"\n",
    "            },\n",
    "     ])\n",
    "    \n",
    "    decision = response['message']['content'].strip()\n",
    "    print(decision)\n",
    "    \n",
    "    # Categorize based on extracted answer\n",
    "    if decision.lower() == \"correct\":\n",
    "        correct_pairs.append({\n",
    "            'question': question,\n",
    "            'rationale': generated_rationale,\n",
    "            'answer': extracted_answer\n",
    "        })\n",
    "        print('Correct:', {\n",
    "            'question': question,\n",
    "            'rationale': generated_rationale,\n",
    "            'answer': extracted_answer\n",
    "        })\n",
    "    elif decision.lower() == \"incorrect\":\n",
    "        incorrect_pairs.append({\n",
    "            'question': question,\n",
    "            'rationale': generated_rationale,\n",
    "            'answer': extracted_answer if extracted_answer else \"No Answer Extracted\"\n",
    "        })\n",
    "        print(\"Incorrect:\",  {\n",
    "            'question': question,\n",
    "            'rationale': generated_rationale,\n",
    "            'answer': extracted_answer if extracted_answer else \"No Answer Extracted\"\n",
    "        })\n",
    "    else:\n",
    "        unanswered_paris.append({\n",
    "            'question': question,\n",
    "            'rationale': generated_rationale,\n",
    "            'answer': extracted_answer if extracted_answer else \"No Answer Extracted\"\n",
    "        })\n",
    "        print(\"Unanswered:\",  {\n",
    "            'question': question,\n",
    "            'rationale': generated_rationale,\n",
    "            'answer': extracted_answer if extracted_answer else \"No Answer Extracted\"\n",
    "        })\n",
    "        \n",
    "\n",
    "    # Print progress every example\n",
    "    print(f\"Processed {idx + 1} questions.\\n\")"
   ]
  },
  {
   "cell_type": "code",
   "execution_count": 632,
   "metadata": {},
   "outputs": [
    {
     "data": {
      "text/plain": [
       "[{'question': 'A company D has 30 percent of the employees are secretaries and 45 percent are salespeople. If there are 50 other employees of Company D, how many employees does Company D have?',\n",
       "  'rationale': \"To solve this problem, let's break it down step by step.\\n\\nStep 1: We know that 30% of the employees are secretaries and 45% are salespeople. This means that the remaining percentage of employees is not working in either category, which is:\\n\\n100% - (30% + 45%) = 25%\\n\\nThis 25% represents the other employees in the company.\\n\\nStep 2: We are given that there are 50 other employees who make up this 25%. Let's denote the total number of employees in the company as 'x'.\\n\\nWe can set up a proportion to find the value of 'x':\\n\\n25% of x = 50\\n\\nTo solve for 'x', we need to express 25% as a decimal and then isolate 'x':\\n\\n0.25 * x = 50\\nx = 50 / 0.25\\n\\nStep 3: Perform the division:\\n\\nx = 200\\n\\nTherefore, Company D has a total of 200 employees.\\n\\nAnswer: 200\",\n",
       "  'answer': '200'},\n",
       " {'question': \"Angelina walked 200 meters from her home to the grocery at a constant speed. She then walked 300 meters to the gym at double the speed. She spent 50 seconds less on her way from the grocery to the gym than on her way from home to the grocery. What was Angelina's speed, in meters per second, from the grocery to the gym?\",\n",
       "  'rationale': \"Let's denote Angelina's speed from her home to the grocery as v (in m/s). Since she walked 200 meters from her home to the grocery at a constant speed, it took her 200/v seconds.\\n\\nOn her way from the grocery to the gym, which is 300 meters away, she walked at double the speed, so her speed was 2v. It took her 300/2v = 150/v seconds.\\n\\nAccording to the problem, she spent 50 seconds less on her way from the grocery to the gym than on her way from home to the grocery:\\n\\n200/v - 150/v = 50\\n\\nSimplifying this equation, we can cancel out v (since it's not zero), which results in:\\n\\n200 - 150 = 50v\\n\\nCombine like terms and simplify:\\n\\n50 = 50v\\n\\nDivide both sides by 50 to solve for v:\\n\\n1 = v\\n\\nSo, Angelina's speed from the grocery to the gym is actually equal to her speed from home to the grocery, which was given as v (in m/s). We were not provided with a specific value for v, but we can say that the speed from the grocery to the gym is also 1 meter per second, since 1 = v.\\n\\nHowever, this result seems suspiciously simple and does not match any of the answer choices. The given information implies that there should be some difference in speed, so this solution does not seem plausible. In a situation like this, it's better to verify the initial assumption or check if any calculation was done incorrectly.\\n\\nUpon re-reading the problem, we realize that our approach was correct initially but may have led us astray due to an incorrect interpretation of the given speeds.\\n\\nHowever, let's go back and examine the time taken for each leg. The total distance between home and gym is 200 + 300 = 500 meters. It took her 50 seconds less on the second part, so we can express this as:\\n\\nTime taken from home to grocery - Time taken from grocery to gym = 50\\n\\nLet's represent the time taken from home to grocery as t1 and the time taken from grocery to gym as t2. The given condition is then expressed as:\\n\\nt1 - t2 = 50\\n\\nFrom our initial solution, we know that t1 = 200/v and t2 = 150/v.\\n\\nWe can substitute these expressions into the equation above:\\n\\n200/v - 150/v = 50\\n\\nSince this was the initial problem, let's solve it correctly. In fact, when solving for v in the previous steps, I made a mistake by saying that we should get a specific value for v without any specific value given for v.\\n\\nThis is incorrect; we were supposed to find the relationship between t1 and t2 using their time expressions and find how their speeds are related instead of directly finding v.\",\n",
       "  'answer': None},\n",
       " {'question': 'A train 100 m long is running at a speed of 68 kmph. How long does it take to pass a man who is running at 8 kmph in the same direction as the train?',\n",
       "  'rationale': \"To find out how long it takes for the train to pass the man, we need to determine the relative speed between the train and the man.\\n\\nFirst, let's convert the speed of the train from kilometers per hour (kmph) to meters per second (m/s):\\n\\nSpeed of train = 68 kmph\\n= 68 × (5/18) m/s (since 1 km = 1000 m and 1 hour = 3600 s)\\n= 18.89 m/s\\n\\nNow, let's find the relative speed between the train and the man:\\n\\nRelative speed = Speed of train - Speed of man\\n= 18.89 m/s - 2.22 m/s (since 8 kmph = 2.22 m/s)\\n= 16.67 m/s\\n\\nNext, we need to find out how much distance the train covers in passing the man:\\n\\nDistance covered = Length of train + Distance covered by man\\nSince the man is running in the same direction as the train, the distance covered by him will be negligible compared to the length of the train.\\n\\nSo, let's consider only the length of the train:\\n\\nDistance covered = 100 m\\n\\nNow, we can use the formula: Time = Distance / Speed to find out how long it takes for the train to pass the man:\\n\\nTime = Distance covered / Relative speed\\n= 100 m / 16.67 m/s\\n= 6 seconds\\n\\nAnswer: 6\",\n",
       "  'answer': '6'},\n",
       " {'question': 'x and y are positive integers. When x is divided by 9, the remainder is 2, and when x is divided by 7, the remainder is 4. When y is divided by 11, the remainder is 3, and when y is divided by 13, the remainder is 12. What is the least possible value of y - x?',\n",
       "  'rationale': \"To find the least possible value of y - x, we need to first determine the values of x and y based on the given conditions.\\n\\nWhen x is divided by 9, the remainder is 2, which means that x can be represented as x = 9k + 2, where k is a non-negative integer. Similarly, when x is divided by 7, the remainder is 4, so x can also be represented as x = 7m + 4, where m is another non-negative integer.\\n\\nWe can rewrite these equations as:\\n\\nx = 9k + 2\\nx = 7m + 4\\n\\nSince both expressions are equal to x, we can set them equal to each other and solve for k and m. This gives us the following equation:\\n\\n9k + 2 = 7m + 4\\n\\nSubtracting 2 from both sides, we get:\\n\\n9k = 7m + 2\\n\\nSince k and m are integers, we know that 9k must be a multiple of 9. Therefore, 7m + 2 must also be a multiple of 9.\\n\\nThe smallest possible value for m is 1, which gives us:\\n\\n7(1) + 2 = 9\\n\\nSo, k = 1 and x can be represented as x = 9(1) + 2 = 11.\\n\\nNow, let's consider the values of y. When y is divided by 11, the remainder is 3, so y can be represented as y = 11n + 3, where n is a non-negative integer. Similarly, when y is divided by 13, the remainder is 12, so y can also be represented as y = 13p + 12, where p is another non-negative integer.\\n\\nAgain, we can rewrite these equations as:\\n\\ny = 11n + 3\\ny = 13p + 12\\n\\nSince both expressions are equal to y, we can set them equal to each other and solve for n and p. This gives us the following equation:\\n\\n11n + 3 = 13p + 12\\n\\nSubtracting 3 from both sides, we get:\\n\\n11n = 13p + 9\\n\\nSince n and p are integers, we know that 11n must be a multiple of 11. Therefore, 13p + 9 must also be a multiple of 11.\\n\\nThe smallest possible value for p is 1, which gives us:\\n\\n13(1) + 9 = 22\\n\\nSo, n = 2 and y can be represented as y = 11(2) + 3 = 25.\\n\\nNow that we have values for x and y, we can calculate the least possible value of y - x. This is simply 25 - 11 = 14.\\n\\nAnswer: 14\",\n",
       "  'answer': '14'},\n",
       " {'question': 'Find the sum of prime numbers lying between 60 and 75.',\n",
       "  'rationale': \"To find the sum of prime numbers lying between 60 and 75, we first need to identify all the prime numbers within this range.\\n\\nThe prime numbers between 60 and 75 are 61, 67, 71, and 73.\\n\\nNow, let's calculate the sum of these prime numbers:\\n\\n61 + 67 = 128\\n128 + 71 = 199\\n199 + 73 = 272\\n\\nTherefore, the sum of prime numbers lying between 60 and 75 is 272.\\n\\nAnswer: 272\",\n",
       "  'answer': '272'},\n",
       " {'question': 'what is the units digit of the expression 17^7-2?',\n",
       "  'rationale': 'To find the units digit of the expression $17^7 - 2$, let\\'s break down the problem step by step.\\n\\nStep 1: Understand that we need to find the units digit of an expression, which means we are only concerned with the last digit of the result.\\n\\nStep 2: Recognize that the units digit of a number raised to a power follows a pattern. For example, $7^1 = 7$, $7^2 = 49$ (units digit is 9), $7^3 = 343$ (units digit is 3), and so on.\\n\\nStep 3: Notice that the units digits of powers of 7 repeat in a cycle: 7, 9, 3, 1. This cycle has a length of 4.\\n\\nStep 4: Since we need to find the units digit of $17^7$, let\\'s first simplify this expression by considering it as $(10 + 7)^7$. However, when calculating the units digit of powers, we can focus on the exponent of the number (in this case, 7) and its remainder when divided by the length of the cycle (which is 4).\\n\\nStep 5: The remainder when 7 is divided by 4 is 3. This means that the pattern for powers of 7 will repeat in a way that is consistent with the power having an exponent of 3.\\n\\nStep 6: Since we\\'re interested in $17^7$, but are focusing on the units digit, which comes from $7^7$, and knowing that this is equivalent to finding the units digit of some multiple of 4 (because the remainder is 3), let\\'s calculate $7^3$ and see its units digit. This will give us an understanding of what to expect for $7^7$. We already know that the units digit of powers of 7 cycles as follows: 7, 9, 3, 1.\\n\\nStep 7: The units digit of $7^3$ is 3 (because it\\'s part of the cycle 7, 9, 3, 1).\\n\\nStep 8: Given that we now understand the pattern for powers of 7, and knowing that $17^7$ simplifies down to a consideration of its units digit being equivalent to some power of 7, let\\'s calculate this units digit. Since we established that the cycle for units digits is 7, 9, 3, 1 and we\\'re interested in the $4^{th}$ position (because $7 \\\\mod 4 = 3$, which tells us where we are in the cycle), the units digit of $17^7$ would be equivalent to $7^3$. And since we know that $7^3 = 343$, its units digit is 3.\\n\\nStep 9: Now, let\\'s calculate $17^7 - 2$ and consider its units digit. We\\'re looking for the units digit of an expression that ends with a number with a units digit of 3 (because we determined this from calculating the equivalent power of 7).\\n\\nStep 10: Finally, knowing that the units digit is what we care about in this problem, let\\'s calculate $17^7 - 2$ and find its units digit.\\n\\nLet\\'s assume for simplicity sake that instead of 17 we are working with a smaller number like 7. When calculating 7^7 we know from previous knowledge that it ends in the digit \"3\". Now subtracting 2 gives us a result ending with the digit \"1\".\\n\\nThis simple example tells us that no matter what base number you\\'re raising to a power, as long as you end up getting a units digit of \"3\" (which is part of our cycle), and then you subtract 2 from it, the resulting units digit will always be \"1\".\\n\\nAnswer: $17^7 - 2$ ends with the digit \"1\".',\n",
       "  'answer': '$17^7 - 2$ ends with the digit \"1\".'}]"
      ]
     },
     "execution_count": 632,
     "metadata": {},
     "output_type": "execute_result"
    }
   ],
   "source": [
    "correct_pairs"
   ]
  },
  {
   "cell_type": "code",
   "execution_count": 604,
   "metadata": {},
   "outputs": [
    {
     "data": {
      "text/plain": [
       "[{'question': 'If two sides of a triangle have lengths 3 and 7, which of the following could be the perimeter of the triangle?\\nI. 9\\nII. 15\\nIII. 19',\n",
       "  'rationale': \"To determine the possible perimeters of the triangle, we need to consider the properties of triangles.\\n\\nStep 1: Recall the Triangle Inequality Theorem.\\nThe Triangle Inequality Theorem states that for any triangle with sides a, b, and c, the sum of the lengths of any two sides must be greater than the length of the remaining side. Mathematically, this can be expressed as:\\n\\na + b > c\\nb + c > a\\nc + a > b\\n\\nStep 2: Apply the Triangle Inequality Theorem to find possible values for the third side.\\nGiven that two sides have lengths 3 and 7, we know that the third side must satisfy the inequalities.\\n\\nSince 3 + 7 = 10, we can say that the third side must be less than 10. We can also determine that the third side cannot be greater than or equal to 3 or 7 since those would violate the triangle inequality for the respective pair of sides.\\n\\nStep 3: Consider possible perimeters based on combinations of side lengths.\\nLet's examine each possibility:\\n\\n- Option I (Perimeter = 9)\\nIf we assume one side is x, then 3 + 7 > x. Therefore, the third side must be less than 10. The smallest whole number value for the third side that satisfies this condition is 8 (since it cannot be greater than or equal to 3). Thus, if the sides were 3, 7, and 8, the perimeter would indeed be 18. However, we need to check other combinations as well.\\n\\nLet's calculate with another combination where the third side is 5. In this case, x = 5; therefore, 9 (the sum of all three sides) cannot be a valid answer for the given option I because it doesn't follow our previously derived conclusion.\\n\\n\\nStep 4: Further analysis and elimination.\\nSimilarly, we should eliminate options II and III if any possible combination of side lengths gives us those perimeters.\\n\\nFor instance, if x = 6, then 3 + 7 > 6 holds true. Therefore the perimeter is 16, not 15. And finally for x = 9, it violates the Triangle Inequality Theorem since 3+7 < 9 doesn't hold true.\\n\\n\\nStep 5: Now that we know none of the options meet the possible perimeter criteria based on the above analysis and elimination process we get our answer.\\n\\nAnswer: None\",\n",
       "  'answer': 'None'},\n",
       " {'question': 'If the price of a computer were reduced by 15 percent, which of the following could not be the final price of the computer? (Assume initial price to be integer in cents)',\n",
       "  'rationale': \"To solve this problem, we will first determine the possible final prices after a 15% reduction and then identify which of the given options cannot be the final price.\\n\\nStep 1: Calculate the amount by which the price is reduced.\\nThe price is reduced by 15%, which means that the final price is 85% of the initial price. This can also be expressed as (100 - 15) = 85% or a reduction of $0.15 per dollar.\\n\\nStep 2: Determine the relationship between the initial and final prices.\\nIf the initial price is reduced by $0.15, then the final price will be $0.85 for each dollar of the initial price. This can also be expressed as a fraction: $\\\\frac{4}{5}$ or 80%.\\n\\nStep 3: Consider possible scenarios where the final price is not an integer.\\nFor the final price to be non-integer (in cents), we need to consider the multiples of 0.85.\\n\\nMultiplying any number by 0.85 will result in a value that ends in .35, which means it's always going to have .35 in its decimal part and thus never be an integer.\\n\\nStep 4: Determine the final price.\\nGiven this information, we can conclude that there is no specific final price for the computer after applying the reduction of 15%, other than stating that it will not be an integer due to the multiplication factor of 0.85.\\n\\n\\n\\nAnswer: No possible answer.\",\n",
       "  'answer': 'No possible answer.'},\n",
       " {'question': 'A = {2, 3, 5, 7, 17}\\nB = {2, 4, 6, 13}\\nTwo integers will be randomly selected from sets A and B, one integer from set A and one from set B, and then multiplied together. How many different products can be obtained?',\n",
       "  'rationale': 'To find the number of different products that can be obtained, we need to consider all possible combinations of two integers, one from set A and one from set B.\\n\\nStep 1: List out the elements of sets A and B.\\nA = {2, 3, 5, 7, 17}\\nB = {2, 4, 6, 13}\\n\\nStep 2: Identify all possible pairs of integers, one from set A and one from set B.\\n\\nPossible pairs:\\n(2, 2), (2, 4), (2, 6), (2, 13)\\n(3, 2), (3, 4), (3, 6), (3, 13)\\n(5, 2), (5, 4), (5, 6), (5, 13)\\n(7, 2), (7, 4), (7, 6), (7, 13)\\n(17, 2), (17, 4), (17, 6), (17, 13)\\n\\nStep 3: Calculate the product for each pair.\\n\\nProducts:\\n(2, 2) = 4\\n(2, 4) = 8\\n(2, 6) = 12\\n(2, 13) = 26\\n(3, 2) = 6\\n(3, 4) = 12\\n(3, 6) = 18\\n(3, 13) = 39\\n(5, 2) = 10\\n(5, 4) = 20\\n(5, 6) = 30\\n(5, 13) = 65\\n(7, 2) = 14\\n(7, 4) = 28\\n(7, 6) = 42\\n(7, 13) = 91\\n(17, 2) = 34\\n(17, 4) = 68\\n(17, 6) = 102\\n(17, 13) = 221\\n\\nStep 4: Count the number of unique products.\\n\\nUnique products:\\n4, 8, 12, 26, 6, 12, 18, 39, 10, 20, 30, 65, 14, 28, 42, 91, 34, 68, 102, 221\\n\\nThere are 20 unique products.\\n\\nAnswer: 20',\n",
       "  'answer': '20'},\n",
       " {'question': 'Two trains are traveling on a collision course. If train A is traveling at a speed of 350 mph and train B is traveling 28% slower, how much time will it take the trains to collide if the initial distance between the two is 1806 miles?',\n",
       "  'rationale': 'To find the speed of train B, we need to calculate 28% of the speed of train A and subtract it from the speed of train A.\\n\\nSpeed of train A = 350 mph\\n28% of 350 = (28/100) * 350 = 98\\n\\nSo, the speed of train B is:\\n350 - 98 = 252 mph\\n\\nThe relative speed of the two trains is the sum of their speeds:\\nRelative speed = Speed of train A + Speed of train B\\n= 350 + 252\\n= 602 mph\\n\\nNow, we can use the formula: Time = Distance / Relative speed to find the time it will take for the trains to collide.\\n\\nDistance between the trains = 1806 miles\\nTime = 1806 / 602 ≈ 3 hours\\n\\nAnswer: 3',\n",
       "  'answer': '3'},\n",
       " {'question': 'A group consists of 4 men, 6 women and 5 children. In how many ways can 2 men , 3 women and 1 child selected from the given group?',\n",
       "  'rationale': 'To find the number of ways to select 2 men, 3 women, and 1 child from the given group, we need to calculate the combinations for each category separately and then multiply them together.\\n\\nStep 1: Selecting 2 men out of 4\\nWe can use the combination formula C(n, r) = n! / (r!(n-r)!) where n is the total number of items and r is the number of items to be chosen.\\nC(4, 2) = 4! / (2!(4-2)!)\\n= 24 / (2 x 2)\\n= 6\\n\\nStep 2: Selecting 3 women out of 6\\nUsing the same combination formula:\\nC(6, 3) = 6! / (3!(6-3)!)\\n= 720 / (6 x 6)\\n= 20\\n\\nStep 3: Selecting 1 child out of 5\\nAgain using the combination formula:\\nC(5, 1) = 5! / (1!(5-1)!)\\n= 120 / (1 x 4)\\n= 30\\n\\nNow that we have the combinations for each category, we can multiply them together to find the total number of ways to select 2 men, 3 women, and 1 child.\\n\\nTotal combinations = C(4, 2) x C(6, 3) x C(5, 1)\\n= 6 x 20 x 30\\n= 3600\\n\\nTherefore, there are 3600 different ways to select 2 men, 3 women, and 1 child from the given group.\\n\\nAnswer: 3600',\n",
       "  'answer': '3600'}]"
      ]
     },
     "execution_count": 604,
     "metadata": {},
     "output_type": "execute_result"
    }
   ],
   "source": [
    "incorrect_pairs"
   ]
  },
  {
   "cell_type": "code",
   "execution_count": 531,
   "metadata": {},
   "outputs": [
    {
     "data": {
      "text/plain": [
       "[]"
      ]
     },
     "execution_count": 531,
     "metadata": {},
     "output_type": "execute_result"
    }
   ],
   "source": [
    "unanswered_paris"
   ]
  },
  {
   "cell_type": "code",
   "execution_count": 519,
   "metadata": {},
   "outputs": [
    {
     "name": "stdout",
     "output_type": "stream",
     "text": [
      "Total questions processed: 10\n",
      "Correct answers: 5\n",
      "Incorrect answers: 5\n",
      "Unanswered answers: 0\n",
      "Accuracy: 50.00%\n"
     ]
    }
   ],
   "source": [
    "total = len(correct_pairs) + len(incorrect_pairs) + len(unanswered_paris)\n",
    "accuracy = len(correct_pairs) / total * 100\n",
    "print(f\"Total questions processed: {total}\")\n",
    "print(f\"Correct answers: {len(correct_pairs)}\")\n",
    "print(f\"Incorrect answers: {len(incorrect_pairs)}\")\n",
    "print(f\"Unanswered answers: {len(unanswered_paris)}\")\n",
    "print(f\"Accuracy: {accuracy:.2f}%\")"
   ]
  },
  {
   "cell_type": "code",
   "execution_count": 26,
   "metadata": {},
   "outputs": [
    {
     "name": "stdout",
     "output_type": "stream",
     "text": [
      "{'question': 'Rs. 825 becomes Rs. 956 in 3 years at a certain rate of simple interest.If the rate of interest is increased by 4% ,What amount will Rs. 825 become in 3 years ?', 'options': {'A': 'Rs. 1020.80', 'B': 'Rs. 1025', 'C': 'Rs. 1055', 'D': 'Data inadequate', 'E': 'None of these'}, 'rationale': \"Let's break down the problem step by step.\\n\\nGiven:\\n\\n1. Principal (P) = Rs. 825\\n2. Amount after 3 years (A) = Rs. 956\\n\\nWe need to find the rate of interest (R) at which P becomes A in 3 years. We'll use the formula for simple interest:\\n\\nSimple Interest (SI) = (P × R × T)/100\\n\\nwhere T is the time period, which is 3 years here.\\n\\nFirst, let's calculate the SI for the given scenario:\\n\\nA = P + SI\\n956 = 825 + (SI)\\nSI = 131\\n\\nNow, we can use the formula to find the rate of interest (R):\\n\\nSI = (P × R × T)/100\\n131 = (825 × R × 3)/100\\n131 = 24.75R\\nR = 131/24.75 ≈ 5.29%\\n\\nThis is the original rate of interest.\\n\\nNow, let's consider what happens when the rate of interest is increased by 4%:\\n\\nNew Rate (R') = Original Rate + Increase in Rate\\n= 5.29% + 4%\\n= 9.29%\\n\\nWe need to find the new amount that Rs. 825 will become in 3 years at this increased rate.\\n\\nUsing the simple interest formula, we can calculate the new SI:\\n\\nNew SI = (P × R' × T)/100\\n= (825 × 9.29% × 3)/100\\n= 23.61\\n\\nNow, add this new SI to the principal to find the new amount:\\n\\nNew Amount = P + New SI\\n= 825 + 23.61\\n≈ Rs. 848.61\\n\\nHowever, we're asked for a multiple-choice answer, and none of the options match our calculation. This is because we assumed that the interest is compounded annually, but the question doesn't specify this.\\n\\nLet's try another approach using compound interest formula (since it's not specified to be simple interest):\\n\\nAmount after 3 years = P × (1 + R)^T\\n\\nUsing the original rate of interest (5.29%), we get:\\n\\nA = 825 × (1 + 0.0529)^3\\n≈ Rs. 1055\\n\\nThis is the amount that would become in 3 years if the interest is compounded annually.\\n\\nSo, the correct answer is:\\n\\nC: Rs. 1055\", 'answer': 'C'}\n"
     ]
    }
   ],
   "source": [
    "new_correct_pairs = []\n",
    "\n",
    "# Process the incorrect answers\n",
    "for pair in incorrect_pairs:\n",
    "    question = pair['question']\n",
    "    options = pair['options']\n",
    "    correct_answer = pair['correct_answer']\n",
    "\n",
    "    # Generate the rationale with the correct answer as a hint\n",
    "    generated_rationale = rationalize(question, options, correct_answer, prompt_set)\n",
    "\n",
    "    # Add the rationalized example to correct_pairs\n",
    "    new_correct_pairs.append({\n",
    "        'question': question,\n",
    "        'options': options,\n",
    "        'rationale': generated_rationale,\n",
    "        'answer': correct_answer\n",
    "    })\n",
    "\n",
    "    print({\n",
    "        'question': question,\n",
    "        'options': options,\n",
    "        'rationale': generated_rationale,\n",
    "        'answer': correct_answer\n",
    "    })"
   ]
  },
  {
   "cell_type": "markdown",
   "metadata": {},
   "source": [
    "### Converting our corrected pairs into a structure the Llama3.1 model will understand for fine tuning."
   ]
  },
  {
   "cell_type": "code",
   "execution_count": 23,
   "metadata": {},
   "outputs": [
    {
     "name": "stdout",
     "output_type": "stream",
     "text": [
      "Error decoding JSON on line 18: Extra data: line 1 column 1471 (char 1470). Skipping.\n",
      "Error decoding JSON on line 84: Extra data: line 1 column 936 (char 935). Skipping.\n",
      "Conversion complete. New file saved as 'finetuning_data_new.jsonl'.\n"
     ]
    }
   ],
   "source": [
    "import json\n",
    "import re\n",
    "\n",
    "def extract_question(human_message):\n",
    "    \"\"\"\n",
    "    Extracts the question from the human message.\n",
    "\n",
    "    Args:\n",
    "        human_message (str): The message content from the human.\n",
    "\n",
    "    Returns:\n",
    "        str: Extracted question text or the original message if extraction fails.\n",
    "    \"\"\"\n",
    "    match = re.search(r'Question:\\s*(.+)', human_message, re.IGNORECASE)\n",
    "    if match:\n",
    "        return match.group(1).strip()\n",
    "    return human_message.strip()\n",
    "\n",
    "def extract_rationale(gpt_message):\n",
    "    \"\"\"\n",
    "    Extracts the rationale from the GPT message by removing any initial 'A: ...' lines,\n",
    "    removing 'Rationale:' labels, and excluding 'Answer: ...' sections.\n",
    "\n",
    "    Args:\n",
    "        gpt_message (str): The message content from GPT.\n",
    "\n",
    "    Returns:\n",
    "        str: Extracted rationale text or an empty string if extraction fails.\n",
    "    \"\"\"\n",
    "    # Step 1: Remove any initial \"A: ...\" lines\n",
    "    gpt_message = re.sub(r'^A:\\s*.+\\n', '', gpt_message, flags=re.IGNORECASE)\n",
    "\n",
    "    # Step 2: Extract text after \"Rationale:\" up to \"Answer:\" or end of string\n",
    "    match = re.search(r'Rationale:\\s*(.*?)(?:\\nAnswer:.*|$)', gpt_message, re.IGNORECASE | re.DOTALL)\n",
    "    if match:\n",
    "        rationale = match.group(1).strip()\n",
    "        return rationale\n",
    "    else:\n",
    "        # If \"Rationale:\" is not found, remove any trailing \"Answer: ...\" and return the rest\n",
    "        gpt_message = re.sub(r'\\n*Answer:\\s*.+$', '', gpt_message, flags=re.IGNORECASE | re.DOTALL).strip()\n",
    "        return gpt_message\n",
    "\n",
    "def convert_existing_jsonl(input_file, output_file):\n",
    "    \"\"\"\n",
    "    Converts the existing finetuning_data.jsonl file to the new Q&A format.\n",
    "\n",
    "    Args:\n",
    "        input_file (str): Path to the existing JSONL file.\n",
    "        output_file (str): Path to the new JSONL file to be created.\n",
    "\n",
    "    Returns:\n",
    "        None\n",
    "    \"\"\"\n",
    "    with open(input_file, 'r', encoding='utf-8') as infile, \\\n",
    "         open(output_file, 'w', encoding='utf-8') as outfile:\n",
    "        \n",
    "        for line_num, line in enumerate(infile, 1):\n",
    "            try:\n",
    "                # Each line is expected to be a JSON array of messages\n",
    "                messages = json.loads(line)\n",
    "                \n",
    "                # Ensure there are at least two messages: human and gpt\n",
    "                if len(messages) < 2:\n",
    "                    print(f\"Warning: Line {line_num} has less than 2 messages. Skipping.\")\n",
    "                    continue\n",
    "                \n",
    "                # Extract human and gpt messages\n",
    "                human_message = \"\"\n",
    "                gpt_message = \"\"\n",
    "                for msg in messages:\n",
    "                    if msg.get(\"from\") == \"human\":\n",
    "                        human_message = msg.get(\"value\", \"\").strip()\n",
    "                    elif msg.get(\"from\") == \"gpt\":\n",
    "                        gpt_message = msg.get(\"value\", \"\").strip()\n",
    "                \n",
    "                if not human_message or not gpt_message:\n",
    "                    print(f\"Warning: Line {line_num} is missing human or gpt message. Skipping.\")\n",
    "                    continue\n",
    "                \n",
    "                # Extract question and rationale\n",
    "                question = extract_question(human_message)\n",
    "                rationale = extract_rationale(gpt_message)\n",
    "                \n",
    "                if not question or not rationale:\n",
    "                    print(f\"Warning: Line {line_num} could not extract question or rationale. Skipping.\")\n",
    "                    continue\n",
    "                \n",
    "                # Create the new format\n",
    "                new_entry = {\n",
    "                    \"text\": f\"Q: {question}\\nA: {rationale}\"\n",
    "                }\n",
    "                \n",
    "                # Write to the new JSONL file\n",
    "                outfile.write(json.dumps(new_entry, ensure_ascii=False) + '\\n')\n",
    "            \n",
    "            except json.JSONDecodeError as e:\n",
    "                print(f\"Error decoding JSON on line {line_num}: {e}. Skipping.\")\n",
    "                continue\n",
    "\n",
    "    print(f\"Conversion complete. New file saved as '{output_file}'.\")\n",
    "\n",
    "if __name__ == \"__main__\":\n",
    "    input_jsonl = 'finetuning_data.jsonl'        # Existing file\n",
    "    output_jsonl = 'finetuning_data_new.jsonl'   # New file\n",
    "        \n",
    "    # Perform the conversion\n",
    "    convert_existing_jsonl(input_jsonl, output_jsonl)"
   ]
  },
  {
   "cell_type": "markdown",
   "metadata": {},
   "source": [
    "### Appending New Data"
   ]
  },
  {
   "cell_type": "code",
   "execution_count": 520,
   "metadata": {},
   "outputs": [],
   "source": [
    "import json\n",
    "import re\n",
    "import os\n",
    "\n",
    "def convert_correct_pairs_to_conversations(correct_pairs):\n",
    "    \"\"\"\n",
    "    Converts a list of correct_pairs to the new conversation format.\n",
    "    \n",
    "    Args:\n",
    "        correct_pairs (list): List of dictionaries with keys 'question', 'rationale', and 'answer'.\n",
    "    \n",
    "    Returns:\n",
    "        list: List of dictionaries in the format {\"text\": \"Q: ...\\nA: ...\"}\n",
    "    \"\"\"\n",
    "    new_conversations = []\n",
    "    for pair in correct_pairs:\n",
    "        question = pair.get('question', '').strip()\n",
    "        rationale = pair.get('rationale', '').strip()\n",
    "        \n",
    "        if not question or not rationale:\n",
    "            print(f\"Warning: Missing question or rationale in pair: {pair}. Skipping.\")\n",
    "            continue\n",
    "        \n",
    "        # Remove any trailing \"Answer: ...\" lines from the rationale\n",
    "        # This ensures that the rationale does not contain explicit \"Answer:\" labels\n",
    "        rationale_cleaned = re.sub(r'\\n*Answer:\\s*.*$', '', rationale, flags=re.IGNORECASE).strip()\n",
    "        \n",
    "        # Additionally, remove any \"Rationale:\" labels if present\n",
    "        rationale_cleaned = re.sub(r'^Rationale:\\s*', '', rationale_cleaned, flags=re.IGNORECASE).strip()\n",
    "        \n",
    "        # Create the new conversation format\n",
    "        convo = {\n",
    "            \"text\": f\"Q: {question}\\nA: {rationale_cleaned}\"\n",
    "        }\n",
    "        new_conversations.append(convo)\n",
    "    return new_conversations\n",
    "\n",
    "def append_conversations_to_jsonl(conversations, file_path='finetuning_data.jsonl'):\n",
    "    \"\"\"\n",
    "    Appends a list of conversations to an existing JSONL file in the desired format.\n",
    "    \n",
    "    Each conversation is a dict with 'text': 'Q: ...\\nA: ...'\n",
    "    This function ensures that any residual 'Answer:' labels are removed from the 'A: ...' section.\n",
    "    \n",
    "    Args:\n",
    "        conversations (list): List of conversations to append, each as {\"text\": \"Q: ...\\nA: ...\"}.\n",
    "        file_path (str): Path to the existing JSONL file.\n",
    "    \n",
    "    Returns:\n",
    "        None\n",
    "    \"\"\"\n",
    "    # Check if the file exists\n",
    "    if os.path.exists(file_path):\n",
    "        # Check if the file ends with a newline\n",
    "        with open(file_path, 'rb') as f:\n",
    "            try:\n",
    "                f.seek(-1, os.SEEK_END)\n",
    "                last_char = f.read(1)\n",
    "                if last_char != b'\\n':\n",
    "                    newline_needed = True\n",
    "                else:\n",
    "                    newline_needed = False\n",
    "            except OSError:\n",
    "                # File is empty\n",
    "                newline_needed = False\n",
    "    else:\n",
    "        # File does not exist; will be created\n",
    "        newline_needed = False\n",
    "\n",
    "    with open(file_path, 'a', encoding='utf-8') as f:\n",
    "        # If a newline is needed before appending, add it\n",
    "        if newline_needed:\n",
    "            f.write('\\n')\n",
    "        \n",
    "        for convo in conversations:\n",
    "            text = convo.get('text', '').strip()\n",
    "            \n",
    "            # Ensure that the text starts with \"Q: \" and contains \"A: \"\n",
    "            if not text.startswith(\"Q: \") or \"\\nA: \" not in text:\n",
    "                print(f\"Warning: Conversation does not follow the 'Q: ...\\nA: ...' format. Skipping: {convo}\")\n",
    "                continue\n",
    "            \n",
    "            # Split the text into Question and Answer parts\n",
    "            try:\n",
    "                q_part, a_part = text.split(\"\\nA: \", 1)\n",
    "            except ValueError:\n",
    "                print(f\"Warning: Unable to split 'Q' and 'A' parts. Skipping: {convo}\")\n",
    "                continue\n",
    "            \n",
    "            # Clean the Answer part by removing any \"Answer:\" labels if present\n",
    "            # Although it should already be cleaned, this is an extra safeguard\n",
    "            a_part_cleaned = re.sub(r'\\n*Answer:\\s*.*$', '', a_part, flags=re.IGNORECASE).strip()\n",
    "            a_part_cleaned = re.sub(r'^Answer:\\s*', '', a_part_cleaned, flags=re.IGNORECASE).strip()\n",
    "            \n",
    "            # Reconstruct the cleaned conversation text\n",
    "            new_text = f\"{q_part}\\nA: {a_part_cleaned}\"\n",
    "            \n",
    "            # Append the cleaned conversation to the list\n",
    "            processed_convo = {\"text\": new_text}\n",
    "            \n",
    "            # Serialize and write to the file\n",
    "            json_line = json.dumps(processed_convo, ensure_ascii=False)\n",
    "            f.write(json_line + '\\n')\n",
    "    \n",
    "    print(f\"Successfully appended {len(conversations)} conversations to '{file_path}'.\")"
   ]
  },
  {
   "cell_type": "code",
   "execution_count": 633,
   "metadata": {},
   "outputs": [
    {
     "name": "stdout",
     "output_type": "stream",
     "text": [
      "Successfully appended 6 conversations to 'finetuning_data_new.jsonl'.\n"
     ]
    }
   ],
   "source": [
    "new_conversations = convert_correct_pairs_to_conversations(correct_pairs)\n",
    "    \n",
    "    # Append to the new JSONL file\n",
    "append_conversations_to_jsonl(new_conversations, 'finetuning_data_new.jsonl')"
   ]
  },
  {
   "cell_type": "code",
   "execution_count": null,
   "metadata": {},
   "outputs": [],
   "source": []
  }
 ],
 "metadata": {
  "kernelspec": {
   "display_name": ".venv",
   "language": "python",
   "name": "python3"
  },
  "language_info": {
   "codemirror_mode": {
    "name": "ipython",
    "version": 3
   },
   "file_extension": ".py",
   "mimetype": "text/x-python",
   "name": "python",
   "nbconvert_exporter": "python",
   "pygments_lexer": "ipython3",
   "version": "3.11.8"
  }
 },
 "nbformat": 4,
 "nbformat_minor": 2
}
