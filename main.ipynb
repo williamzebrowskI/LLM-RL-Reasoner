{
 "cells": [
  {
   "cell_type": "code",
   "execution_count": 57,
   "metadata": {},
   "outputs": [],
   "source": [
    "import re\n",
    "import ollama\n",
    "from src.data_loading import load_data\n",
    "from src.parsing import parse_options\n",
    "from src.rationale_generation import generate_rationale_and_answer\n",
    "from src.utils import is_rationale_correct\n",
    "from src.rationalization import rationalize\n",
    "from src.prompt_generation import create_prompt_examples, create_prompt_set"
   ]
  },
  {
   "cell_type": "code",
   "execution_count": 58,
   "metadata": {},
   "outputs": [],
   "source": [
    "NUM_PROMPT_EXAMPLES = 10 # number of prompt examples\n",
    "NUM_EXAMPLES_TO_PROCESS = 25 # number of examples to process"
   ]
  },
  {
   "cell_type": "markdown",
   "metadata": {},
   "source": [
    "### Load Dataset"
   ]
  },
  {
   "cell_type": "code",
   "execution_count": 59,
   "metadata": {},
   "outputs": [],
   "source": [
    "ds_train = load_data()\n",
    "\n",
    "dataset_D = ds_train.select(range(NUM_PROMPT_EXAMPLES, len(ds_train)))\n",
    "dataset_D_subset = dataset_D.select(range(NUM_EXAMPLES_TO_PROCESS))"
   ]
  },
  {
   "cell_type": "markdown",
   "metadata": {},
   "source": [
    "### Create prompt examples"
   ]
  },
  {
   "cell_type": "code",
   "execution_count": 60,
   "metadata": {},
   "outputs": [
    {
     "data": {
      "text/plain": [
       "[{'question': \"Two friends plan to walk along a 43-km trail, starting at opposite ends of the trail at the same time. If Friend P's rate is 15% faster than Friend Q's, how many kilometers will Friend P have walked when they pass each other?\",\n",
       "  'options': ['A)21', 'B)21.5', 'C)22', 'D)22.5', 'E)23'],\n",
       "  'rationale': 'If Q complete x kilometers, then P completes 1.15x kilometers.\\nx + 1.15x = 43\\n2.15x=43\\nx = 43/2.15 = 20\\nThen P will have have walked 1.15*20=23 km.\\nThe answer is E.',\n",
       "  'answer': 'E'},\n",
       " {'question': 'In the coordinate plane, points (x, 1) and (5, y) are on line k. If line k passes through the origin and has slope 1/5, then what are the values of x and y respectively?',\n",
       "  'options': ['A)4 and 1', 'B)1 and 5', 'C)5 and 1', 'D)3 and 5', 'E)5 and 3'],\n",
       "  'rationale': 'Line k passes through the origin and has slope 1/5 means that its equation is y=1/5*x.\\nThus: (x, 1)=(5, 1) and (5, y) = (5,1) -->x=5 and y=1\\nAnswer: C',\n",
       "  'answer': 'C'},\n",
       " {'question': 'For all numbers p and q, the operation @ is defined by p@q = p^2 - pq. If xy ≠ 0, then which of the following can be equal to zero?\\nI. x@y\\nII. (xy)@y\\nIII. x@(x + y)',\n",
       "  'options': ['A)II',\n",
       "   'B)I and II',\n",
       "   'C)I and III',\n",
       "   'D)II and III',\n",
       "   'E)All of the above'],\n",
       "  'rationale': 'p@q = p^2 - pq=p(p-q).... so p@q will be zero if p=q or p=0.. but a cannot be equal to 0.. as per Q, x and y can take any int value except 0...\\nnow lets look at the choices..\\nwhen x=y, it will be 0... so ok...\\nwhen we put xy=y, it is possible when x=1 and y any integer... so ok again\\nwhen we put x=x+y.... only possibility when y=0 and it is given x and y cannot be 0....so not possible\\nonly l and ll possible ans B....',\n",
       "  'answer': 'B'},\n",
       " {'question': 'Carl is facing very difficult financial times and can only pay the interest on a $10,000 loan he has taken. The bank charges him a quarterly compound rate of 4%. What is the approximate interest he pays annually?',\n",
       "  'options': ['A)$1600', 'B)$2000', 'C)$2150', 'D)$2500', 'E)$12000'],\n",
       "  'rationale': 'Usually, you are given the annual rate of interest and it is mentioned that it is annual rate.\\nThe bank charges him a quarterly compounded ANNUAL rate of 16%.\\nHere you find per quarter rate as (16/4)% = 4%\\nI have actually never seen a question with quarter rate given but since this question did not mentionannual rate of interestand since the options did not make sense with 4% annual rate of interest, it is apparent that the intent was a 4% quarterly rate. So the bank charges 4% every quarter and compounds it in the next quarter. Had it been a simple quarterly rate, we would have just found 4 * 4% of 10,000 = $1600 as our answer.\\nBut since, the interest is compounded, it will be a bit more than $1600. Option (A) looks correct.',\n",
       "  'answer': 'A'},\n",
       " {'question': 'The speed at which a man can row a boat in still water is 25 kmph. If he rows downstream, where the speed of current is 11 kmph, what time will he take to cover 80 metres?',\n",
       "  'options': ['A)18 seconds',\n",
       "   'B)27 seconds',\n",
       "   'C)26 seconds',\n",
       "   'D)12 seconds',\n",
       "   'E)8 seconds'],\n",
       "  'rationale': 'Speed of the boat downstream = 25 +11\\n= 36 kmph\\n= 36 * 5/18 = 10 m/s\\nHence time taken to cover 80 m = 80/10\\n= 8 seconds.\\nAnswer:E',\n",
       "  'answer': 'E'},\n",
       " {'question': 'There are k-2 members in a certain band, including Jim and Ellen. Two members are to be selected to attend the Grammy awards ceremony. If there are 6 possible combinations in which Jim and Ellen are not selected, what is the value of k?',\n",
       "  'options': ['A)8', 'B)9', 'C)10', 'D)11', 'E)12'],\n",
       "  'rationale': 'There are k-2 members in the band, and k-4 members without Jim and Ellen.\\n(k-4)C2 = 6\\n(k-4)(k-5)/2 = 6\\n(k-4)(k-5) = 12 = 4*3\\nk = 8\\nThe answer is A.',\n",
       "  'answer': 'A'},\n",
       " {'question': 'If (x^2 + 4x - 11)/5 ≤ x + 1, then x could be represented by which of the following?',\n",
       "  'options': ['A)− 3 ≤ x ≤ 4',\n",
       "   'B)− 4 ≤ x ≤ 3',\n",
       "   'C)− 3 ≤ x ≤ 3',\n",
       "   'D)− 4 ≤ x ≤ − 3',\n",
       "   'E)3 ≤ x ≤ 4'],\n",
       "  'rationale': 'IMO A is correct answer\\nsolving through eqautions\\nx^2 +4x-11<= 5x+5\\n(x+3)(x-4)<=0',\n",
       "  'answer': 'A'},\n",
       " {'question': 'Find the smallest number of five digits exactly divisible by 22,33,66 and 44.',\n",
       "  'options': ['A)10101', 'B)11000', 'C)10110', 'D)10111', 'E)10100'],\n",
       "  'rationale': 'Smallest number of five digits is 10000.\\nRequired number must be divisible by L.C.M. of 22,33,66,44 i.e 132,\\nOn dividing 10000 by 132,we get 32 as remainder.\\nTherefore, Required number = 10000 +( 132 â€“ 32 ) = 10100.\\nAnswer is E.',\n",
       "  'answer': 'E'},\n",
       " {'question': 'The entrance fee for a fair is $5 for persons under the age of 18, and 20% more for persons older. Each ride at the fair costs $0.50. If Joe goes with her 6 years old twin brothers, and they each took 3 rides in total. How much money does Joe end up spending at the fair?',\n",
       "  'options': ['A)16', 'B)20.5', 'C)17.5', 'D)20', 'E)4.5'],\n",
       "  'rationale': 'Total entrance fee is (2*$5) + (1.20*5)= $16\\nTotal rides fee is (0.50*3)*3= $4.50\\nTotal money spent is $20.50\\nAnswer is B',\n",
       "  'answer': 'B'},\n",
       " {'question': 'If X and Y are digits and 8XY is a 3-digit number that is divisible by 2, which of the following is a possible product of X and Y?',\n",
       "  'options': ['A)15', 'B)31', 'C)12', 'D)27', 'E)91'],\n",
       "  'rationale': 'Key to this question is to remember the fact that a number divisible by 2 must end with even OR 0 (i.e Y).\\nIf Y had to be 0, product should also be 0 regardless of X.\\nOtherwise, product is a multiple of 2. Only one answer choice meets the requirement.\\nAns C.',\n",
       "  'answer': 'C'}]"
      ]
     },
     "execution_count": 60,
     "metadata": {},
     "output_type": "execute_result"
    }
   ],
   "source": [
    "prompt_examples = create_prompt_examples(ds_train, NUM_PROMPT_EXAMPLES)\n",
    "\n",
    "prompt_examples"
   ]
  },
  {
   "cell_type": "markdown",
   "metadata": {},
   "source": [
    "### Create Prompt Sets"
   ]
  },
  {
   "cell_type": "code",
   "execution_count": 61,
   "metadata": {},
   "outputs": [
    {
     "data": {
      "text/plain": [
       "\"Question: Two friends plan to walk along a 43-km trail, starting at opposite ends of the trail at the same time. If Friend P's rate is 15% faster than Friend Q's, how many kilometers will Friend P have walked when they pass each other?\\nOptions:\\nA)21\\nB)21.5\\nC)22\\nD)22.5\\nE)23\\nAnswer Explanation: If Q complete x kilometers, then P completes 1.15x kilometers.\\nx + 1.15x = 43\\n2.15x=43\\nx = 43/2.15 = 20\\nThen P will have have walked 1.15*20=23 km.\\nThe answer is E.\\nAnswer: E\\nPlease respond with only the letter corresponding to the correct answer (A, B, C, D, or E).\\n###\\nQuestion: In the coordinate plane, points (x, 1) and (5, y) are on line k. If line k passes through the origin and has slope 1/5, then what are the values of x and y respectively?\\nOptions:\\nA)4 and 1\\nB)1 and 5\\nC)5 and 1\\nD)3 and 5\\nE)5 and 3\\nAnswer Explanation: Line k passes through the origin and has slope 1/5 means that its equation is y=1/5*x.\\nThus: (x, 1)=(5, 1) and (5, y) = (5,1) -->x=5 and y=1\\nAnswer: C\\nAnswer: C\\nPlease respond with only the letter corresponding to the correct answer (A, B, C, D, or E).\\n###\\nQuestion: For all numbers p and q, the operation @ is defined by p@q = p^2 - pq. If xy ≠ 0, then which of the following can be equal to zero?\\nI. x@y\\nII. (xy)@y\\nIII. x@(x + y)\\nOptions:\\nA)II\\nB)I and II\\nC)I and III\\nD)II and III\\nE)All of the above\\nAnswer Explanation: p@q = p^2 - pq=p(p-q).... so p@q will be zero if p=q or p=0.. but a cannot be equal to 0.. as per Q, x and y can take any int value except 0...\\nnow lets look at the choices..\\nwhen x=y, it will be 0... so ok...\\nwhen we put xy=y, it is possible when x=1 and y any integer... so ok again\\nwhen we put x=x+y.... only possibility when y=0 and it is given x and y cannot be 0....so not possible\\nonly l and ll possible ans B....\\nAnswer: B\\nPlease respond with only the letter corresponding to the correct answer (A, B, C, D, or E).\\n###\\nQuestion: Carl is facing very difficult financial times and can only pay the interest on a $10,000 loan he has taken. The bank charges him a quarterly compound rate of 4%. What is the approximate interest he pays annually?\\nOptions:\\nA)$1600\\nB)$2000\\nC)$2150\\nD)$2500\\nE)$12000\\nAnswer Explanation: Usually, you are given the annual rate of interest and it is mentioned that it is annual rate.\\nThe bank charges him a quarterly compounded ANNUAL rate of 16%.\\nHere you find per quarter rate as (16/4)% = 4%\\nI have actually never seen a question with quarter rate given but since this question did not mentionannual rate of interestand since the options did not make sense with 4% annual rate of interest, it is apparent that the intent was a 4% quarterly rate. So the bank charges 4% every quarter and compounds it in the next quarter. Had it been a simple quarterly rate, we would have just found 4 * 4% of 10,000 = $1600 as our answer.\\nBut since, the interest is compounded, it will be a bit more than $1600. Option (A) looks correct.\\nAnswer: A\\nPlease respond with only the letter corresponding to the correct answer (A, B, C, D, or E).\\n###\\nQuestion: The speed at which a man can row a boat in still water is 25 kmph. If he rows downstream, where the speed of current is 11 kmph, what time will he take to cover 80 metres?\\nOptions:\\nA)18 seconds\\nB)27 seconds\\nC)26 seconds\\nD)12 seconds\\nE)8 seconds\\nAnswer Explanation: Speed of the boat downstream = 25 +11\\n= 36 kmph\\n= 36 * 5/18 = 10 m/s\\nHence time taken to cover 80 m = 80/10\\n= 8 seconds.\\nAnswer:E\\nAnswer: E\\nPlease respond with only the letter corresponding to the correct answer (A, B, C, D, or E).\\n###\\nQuestion: There are k-2 members in a certain band, including Jim and Ellen. Two members are to be selected to attend the Grammy awards ceremony. If there are 6 possible combinations in which Jim and Ellen are not selected, what is the value of k?\\nOptions:\\nA)8\\nB)9\\nC)10\\nD)11\\nE)12\\nAnswer Explanation: There are k-2 members in the band, and k-4 members without Jim and Ellen.\\n(k-4)C2 = 6\\n(k-4)(k-5)/2 = 6\\n(k-4)(k-5) = 12 = 4*3\\nk = 8\\nThe answer is A.\\nAnswer: A\\nPlease respond with only the letter corresponding to the correct answer (A, B, C, D, or E).\\n###\\nQuestion: If (x^2 + 4x - 11)/5 ≤ x + 1, then x could be represented by which of the following?\\nOptions:\\nA)− 3 ≤ x ≤ 4\\nB)− 4 ≤ x ≤ 3\\nC)− 3 ≤ x ≤ 3\\nD)− 4 ≤ x ≤ − 3\\nE)3 ≤ x ≤ 4\\nAnswer Explanation: IMO A is correct answer\\nsolving through eqautions\\nx^2 +4x-11<= 5x+5\\n(x+3)(x-4)<=0\\nAnswer: A\\nPlease respond with only the letter corresponding to the correct answer (A, B, C, D, or E).\\n###\\nQuestion: Find the smallest number of five digits exactly divisible by 22,33,66 and 44.\\nOptions:\\nA)10101\\nB)11000\\nC)10110\\nD)10111\\nE)10100\\nAnswer Explanation: Smallest number of five digits is 10000.\\nRequired number must be divisible by L.C.M. of 22,33,66,44 i.e 132,\\nOn dividing 10000 by 132,we get 32 as remainder.\\nTherefore, Required number = 10000 +( 132 â€“ 32 ) = 10100.\\nAnswer is E.\\nAnswer: E\\nPlease respond with only the letter corresponding to the correct answer (A, B, C, D, or E).\\n###\\nQuestion: The entrance fee for a fair is $5 for persons under the age of 18, and 20% more for persons older. Each ride at the fair costs $0.50. If Joe goes with her 6 years old twin brothers, and they each took 3 rides in total. How much money does Joe end up spending at the fair?\\nOptions:\\nA)16\\nB)20.5\\nC)17.5\\nD)20\\nE)4.5\\nAnswer Explanation: Total entrance fee is (2*$5) + (1.20*5)= $16\\nTotal rides fee is (0.50*3)*3= $4.50\\nTotal money spent is $20.50\\nAnswer is B\\nAnswer: B\\nPlease respond with only the letter corresponding to the correct answer (A, B, C, D, or E).\\n###\\nQuestion: If X and Y are digits and 8XY is a 3-digit number that is divisible by 2, which of the following is a possible product of X and Y?\\nOptions:\\nA)15\\nB)31\\nC)12\\nD)27\\nE)91\\nAnswer Explanation: Key to this question is to remember the fact that a number divisible by 2 must end with even OR 0 (i.e Y).\\nIf Y had to be 0, product should also be 0 regardless of X.\\nOtherwise, product is a multiple of 2. Only one answer choice meets the requirement.\\nAns C.\\nAnswer: C\\nPlease respond with only the letter corresponding to the correct answer (A, B, C, D, or E).\\n###\\n\""
      ]
     },
     "execution_count": 61,
     "metadata": {},
     "output_type": "execute_result"
    }
   ],
   "source": [
    "prompt_set = create_prompt_set(ds_train, NUM_PROMPT_EXAMPLES)\n",
    "prompt_set"
   ]
  },
  {
   "cell_type": "markdown",
   "metadata": {},
   "source": [
    "### Initialize lists to hold correct and incorrect pairs"
   ]
  },
  {
   "cell_type": "code",
   "execution_count": 62,
   "metadata": {},
   "outputs": [],
   "source": [
    "correct_pairs = []\n",
    "incorrect_pairs = []"
   ]
  },
  {
   "cell_type": "markdown",
   "metadata": {},
   "source": [
    "### Iterate over each example in the subset"
   ]
  },
  {
   "cell_type": "code",
   "execution_count": 63,
   "metadata": {},
   "outputs": [
    {
     "name": "stdout",
     "output_type": "stream",
     "text": [
      "Correct: {'question': 'If Tim had lunch at $50 and he gave 20% tip, how much did he spend?', 'options': {'A': '$60.00', 'B': '$35.42', 'C': '$60.60', 'D': '$21.56', 'E': '$78.45'}, 'rationale': \"To find out how much Tim spent on lunch, we need to calculate the total cost including the tip.\\n\\nFirst, let's calculate the amount of the tip:\\n20% of $50 = 0.2 x $50 = $10\\n\\nNow, let's add the tip to the original price of lunch:\\n$50 (lunch) + $10 (tip) = $60\\n\\nTherefore, Tim spent a total of $60 on lunch.\\n\\nAnd the answer is: A)\", 'generated_answer': 'A', 'correct_answer': 'A'}\n",
      "Processed 1 questions.\n",
      "\n",
      "Incorrect: {'question': 'Rs. 825 becomes Rs. 956 in 3 years at a certain rate of simple interest.If the rate of interest is increased by 4% ,What amount will Rs. 825 become in 3 years ?', 'options': {'A': 'Rs. 1020.80', 'B': 'Rs. 1025', 'C': 'Rs. 1055', 'D': 'Data inadequate', 'E': 'None of these'}, 'rationale': \"To solve this problem, we'll first find the rate at which the interest is calculated for the initial period, and then use that to determine the amount after the rate increase.\\n\\nLet's break it down step by step:\\n\\n1. The principal amount (initial investment) is Rs. 825.\\n2. After 3 years, the amount becomes Rs. 956 due to simple interest.\\n\\nFirst, we'll calculate the total interest earned in 3 years:\\nInterest = Amount - Principal\\n= 956 - 825\\n= Rs. 131\\n\\nSince this is a simple interest problem, we can use the formula:\\n\\nSimple Interest (SI) = (Principal × Rate × Time) / 100\\n\\nWe know that:\\nPrincipal = Rs. 825\\nTime = 3 years\\nInterest (SI) = Rs. 131\\n\\nLet's rearrange the formula to find the rate:\\nRate = (SI × 100) / (Principal × Time)\\n= (131 × 100) / (825 × 3)\\n= 4.5%\\n\\nNow that we have the initial interest rate, let's consider what happens when the rate is increased by 4%:\\n\\nNew Rate = Initial Rate + 4%\\n= 4.5% + 4%\\n= 8.5%\\n\\nWe'll now calculate the new simple interest for Rs. 825 at this increased rate over a period of 3 years:\\nInterest (SI) = (Principal × New Rate × Time) / 100\\n= (825 × 8.5 × 3) / 100\\n= (8.5 × 3)\\n= 25.5\\n\\nTo find the final amount, we'll add this interest to the principal:\\nNew Amount = Principal + Interest\\n= 825 + 25.5\\n= Rs. 850.50\\n\\nHowever, since Rs. 825 becomes an integer multiple of the principal (which is not possible with the given options), and we cannot have a fractional amount as the final answer, let's consider another option.\\n\\nUpon reviewing our previous steps, we made a calculation error in determining the new interest after increasing the rate by 4%. The correct procedure would involve using the compound interest formula for two periods of simple interest with different rates. However, this detailed explanation and recalculation led to confusion due to missing steps. We can still calculate the new amount correctly without considering the details of the intermediate step but acknowledging it might have caused an error.\\n\\n\\nLet's consider Rs. 825 becomes Rs. x in three years at 4.5% interest rate. Then, after increasing the rate by 4%, we get a total interest of:\\nInterest = (SI1 + SI2) where SI1 and SI2 are the interests earned during the two periods with different rates.\\n\\nWe already know that SI1 is Rs. 131 at a 4.5% rate for three years. To find SI2, we can calculate it as follows:\\n\\nRate = 8.5%\\nTime = 3 years\\n\\nSI2 = (825 × 8.5 × 3) / 100\\n= 207.75\\n\\nNow, adding the interests earned during both periods:\\nInterest (Total) = SI1 + SI2\\n= 131 + 207.75\\n= 338.75\\n\\nNew Amount = Principal + Interest (Total)\\n= Rs. 825 + Rs. 338.75\", 'generated_answer': None, 'correct_answer': 'C'}\n",
      "Processed 2 questions.\n",
      "\n",
      "Correct: {'question': 'q is a positive integer and multiple of 2; p = 4^q, what is the remainder when p is divided by 10?', 'options': {'A': '10', 'B': '6', 'C': '4', 'D': '0', 'E': 'It Cannot Be Determined'}, 'rationale': \"To solve this problem, let's analyze the situation step by step.\\n\\nGiven that q is a positive integer and multiple of 2, we can write it as:\\n\\nq = 2k, where k is an integer (k = 1, 2, 3, ...)\\n\\nNow, we are given p = 4^q. Substituting the value of q from above, we get:\\n\\np = 4^(2k)\\n= (4^2)^k\\n= 16^k\\n\\nAs we can see, no matter what positive integer k is, 16 raised to any power will always end with the digits 6.\\n\\nFor example:\\n\\n- 16^1 = 16 (ends with 6)\\n- 16^2 = 256 (ends with 6)\\n- 16^3 = 4096 (ends with 6)\\n... and so on\\n\\nTherefore, regardless of what value k takes, p will always have a remainder of 6 when divided by 10.\\n\\nAnd the answer is: B) 6\", 'generated_answer': 'B', 'correct_answer': 'B'}\n",
      "Processed 3 questions.\n",
      "\n",
      "Incorrect: {'question': 'If q is the square of a positive integer, which of the following must be equal to the square of the next positive integer?', 'options': {'A': '√n + 1', 'B': 'n + 1', 'C': 'n^2 + 1', 'D': 'q + 2√q + 1', 'E': 'n^2 + 2n + 1'}, 'rationale': \"To approach this problem, let's consider the given option and see which one must be equal to the square of the next positive integer.\\n\\nWe know that q is the square of a positive integer. Let's denote the positive integer as n, so we have:\\n\\nq = n^2\\n\\nNow, we want to find an expression that represents the square of the next positive integer. The next positive integer would be (n + 1), since we are incrementing n by 1.\\n\\nThe square of (n + 1) is given by:\\n\\n(n + 1)^2\\n= (n^2 + 2n + 1)\\n\\nNow, let's examine the options and see which one matches this expression.\\n\\nA) √n + 1\\n\\nThis option does not have an n^2 term, so it cannot be equal to the square of (n + 1).\\n\\nB) n + 1\\n\\nThis option is missing the quadratic term (2n), so it also cannot be equal to the square of (n + 1).\\n\\nC) n^2 + 1\\n\\nThis option has an extra n^2 term, but it's missing the 2n term and the constant term. It can't be equal to the square of (n + 1).\\n\\nD) q + 2√q + 1\\n\\nIn this expression, q is equal to n^2. The √q would result in just n, not 2n. So, it's missing a factor of 2.\\n\\nE) n^2 + 2n + 1\\n\\nThis option has all the necessary terms: an n^2 term (which is equivalent to q), a 2n term, and a constant term (+1). It matches the expression for the square of (n + 1).\\n\\nTherefore, we can conclude that:\\n\\nAnd the answer is: E\", 'generated_answer': 'E', 'correct_answer': 'D'}\n",
      "Processed 4 questions.\n",
      "\n",
      "Correct: {'question': 'Rs. 5600 is divided into three parts A, B and C. How much A is more than C if their ratio is 1/7:1/7:1/14?', 'options': {'A': '300', 'B': '992', 'C': '1120', 'D': '552', 'E': '312'}, 'rationale': \"Let's break down the problem step by step.\\n\\nThe ratio of A, B, and C is given as 1/7 : 1/7 : 1/14. To simplify this ratio, we can multiply each fraction by 14 to get rid of the denominators:\\n\\nA : B : C = 2 : 2 : 1\\n\\nThis means that A is twice as large as C.\\n\\nSince the total amount Rs. 5600 is divided into three parts, we can let the amounts be A, B, and C. We know that the ratio of these amounts is 2:2:1.\\n\\nLet's say the common multiplier for the ratio is x. Then, the amounts A, B, and C are:\\n\\nA = 2x\\nB = 2x\\nC = x\\n\\nWe also know that the total amount Rs. 5600 is equal to the sum of these three parts:\\n\\nA + B + C = 5600\\n\\nSubstituting the expressions for A, B, and C, we get:\\n\\n2x + 2x + x = 5600\\n\\nCombine like terms:\\n\\n5x = 5600\\n\\nDivide both sides by 5:\\n\\nx = 1120\\n\\nNow that we have found the value of x, we can substitute it back into the expressions for A and C to find their values:\\n\\nA = 2x = 2(1120) = 2240\\nC = x = 1120\\n\\nTo find how much more A is than C, we simply subtract C from A:\\n\\nA - C = 2240 - 1120 = 1120\\n\\nTherefore, A is 1120 rupees more than C.\\n\\nAnd the answer is: C) 1120\", 'generated_answer': 'C', 'correct_answer': 'C'}\n",
      "Processed 5 questions.\n",
      "\n",
      "Correct: {'question': 'If a/b=3/4 and 8a+5b=22,then find the value of a.', 'options': {'A': '1/2', 'B': '3/2', 'C': '5/2', 'D': '4/2', 'E': '7/2'}, 'rationale': 'To solve for the value of \"a\", we can start by using the given equation:\\n\\na/b = 3/4\\n\\nWe can cross-multiply to get:\\n\\n4a = 3b\\n\\nNext, we are given another equation:\\n\\n8a + 5b = 22\\n\\nLet\\'s substitute the expression from the first equation into this one:\\n\\n8(4a/3) + 5b = 22\\n\\nTo simplify, multiply both sides by 3 to eliminate the fraction:\\n\\n24a + 15b = 66\\n\\nNow we can use the original equation (a/b = 3/4) to express \"a\" in terms of \"b\":\\n\\na = (3/4)b\\n\\nSubstitute this expression into the modified equation above:\\n\\n24((3/4)b) + 15b = 66\\n\\nSimplify the left side:\\n\\n18b + 15b = 66\\n\\nCombine like terms:\\n\\n33b = 66\\n\\nNow, solve for \"b\":\\n\\nb = 66 / 33\\nb = 2\\n\\nNow that we have the value of \"b\", substitute it back into one of the earlier equations to find the value of \"a\". Let\\'s use the expression a = (3/4)b:\\n\\na = (3/4)(2)\\na = (6/4)\\na = 1.5\\n\\nHowever, none of the answer choices match this result directly. Since we need to provide an answer from the given options, let\\'s convert the fraction to a mixed number or simplify it further:\\n\\na = 3/2\\n\\nAnd the answer is: B', 'generated_answer': 'B', 'correct_answer': 'B'}\n",
      "Processed 6 questions.\n",
      "\n",
      "Correct: {'question': 'Given that k/l < 1, and both k and l are positive integers, which one of the following must be greater than 1?', 'options': {'A': 'k/l^2', 'B': 'k^2/l', 'C': 'k^2/l^2', 'D': 'l/k', 'E': '√(k/l)'}, 'rationale': \"Let's analyze each option:\\n\\nOption A: k/l^2 - This expression can be less than 1 if k < l^2, which is possible since we're given that k/l < 1. Therefore, this option does not necessarily have to be greater than 1.\\n\\nOption B: k^2/l - Since k/l < 1, we know that k < l. When we square both sides of the inequality (i.e., k^2 vs. l^2), we get a new set of possibilities where k^2 could indeed be less than or greater than l^2 (which becomes l^2). However, since the ratio is squared, it's possible that the value will become more significantly reduced to be less than 1; therefore, this expression does not necessarily have to be greater than 1.\\n\\nOption C: k^2/l^2 - Since we already know that k < l (from k/l < 1), squaring both sides of the inequality yields k^2 < l^2. When dividing both sides by l^2, we get k^2 / l^2 < 1, meaning this expression will always be less than 1.\\n\\nOption D: l/k - Since we know that k/l < 1, it implies that l is greater than k. Dividing both sides of the inequality (i.e., l by k) would result in a value greater than 1; therefore, this option must be greater than 1.\\n\\nOption E: √(k/l) - Taking the square root of an expression less than 1 will also yield a value less than 1. Thus, this option does not necessarily have to be greater than 1.\\n\\nAfter evaluating each option, we see that Option D is the correct choice, as l/k must be greater than 1 given the original condition k/l < 1 and both k and l being positive integers.\\n\\nAnd the answer is: D\", 'generated_answer': 'D', 'correct_answer': 'D'}\n",
      "Processed 7 questions.\n",
      "\n",
      "Correct: {'question': 'Mike took 5 mock tests before appearing for the GMAT. In each mock test he scored 10 points more than the previous mock test. If he scored 760 on the GMAT and his average score for the mocks and the GMAT was 716.67, what was the difference in the score of his last mock and his GMAT score?', 'options': {'A': '20', 'B': '32', 'C': '40', 'D': '50', 'E': '60'}, 'rationale': \"Let's denote Mike's score on the first mock test as x. Then, his scores for the subsequent four mock tests are x + 10, x + 20, x + 30, and x + 40.\\n\\nThe sum of his scores for all five mock tests is:\\nx + (x + 10) + (x + 20) + (x + 30) + (x + 40) = 5x + 100\\n\\nWe are given that Mike's average score for the mocks and the GMAT was 716.67. Therefore, we can set up an equation based on this information:\\n((5x + 100) + 760)/6 = 716.67\\n\\nTo solve for x, let's first simplify the left-hand side of the equation by combining like terms in the numerator:\\n(5x + 860)/6 = 716.67\\n\\nNext, multiply both sides of the equation by 6 to eliminate the fraction:\\n5x + 860 = 4300\\n\\nNow, subtract 860 from both sides:\\n5x = 3440\\n\\nDivide both sides by 5 to solve for x:\\nx = 688\\n\\nNow that we know Mike's score on the first mock test (x), let's find his score on the last mock test. Since each subsequent mock test is 10 points higher than the previous one, we can add 40 to the first mock test score to get the score on the fifth mock test:\\nLast mock test score = x + 40\\n= 688 + 40\\n= 728\\n\\nWe are also given that Mike's GMAT score was 760. To find the difference in the score of his last mock and his GMAT score, subtract the last mock test score from the GMAT score:\\nDifference = 760 - 728\\n= 32\\n\\nAnd the answer is: B\", 'generated_answer': 'B', 'correct_answer': 'B'}\n",
      "Processed 8 questions.\n",
      "\n",
      "Correct: {'question': 'John found that the average of 15 numbers is 40. If 10 is added to each number then the mean of number is?', 'options': {'A': '50', 'B': '45', 'C': '65', 'D': '78', 'E': '64'}, 'rationale': 'To find the new mean after adding 10 to each number, we first need to calculate the sum of the original numbers and then add 10 times the count of numbers (in this case, 15).\\n\\nThe average of 15 numbers is given as 40. To find the total sum of these numbers, we multiply the average by the count:\\n\\nTotal sum = Average × Count\\n= 40 × 15\\n= 600\\n\\nNow, when we add 10 to each number, the new total sum will be the original sum plus 10 times the count (since each of the 15 numbers gets a 10 added):\\n\\nNew total sum = Original total sum + 10 × Count\\n= 600 + 10 × 15\\n= 600 + 150\\n= 750\\n\\nTo find the new mean, we divide this new total sum by the same count:\\n\\nNew mean = New total sum ÷ Count\\n= 750 ÷ 15\\n= 50\\n\\nTherefore, after adding 10 to each number, the mean of the numbers is 50.\\n\\nAnd the answer is: A', 'generated_answer': 'A', 'correct_answer': 'A'}\n",
      "Processed 9 questions.\n",
      "\n",
      "Correct: {'question': 'A person is traveling at 20 km/hr and reached his destiny in 2.5 hr then find the distance?', 'options': {'A': '53 km', 'B': '55 km', 'C': '52 km', 'D': '60 km', 'E': '50 km'}, 'rationale': 'To find the distance traveled by the person, we can use the formula:\\n\\nDistance = Speed × Time\\n\\nGiven that the speed of the person is 20 km/hr and the time taken to reach the destination is 2.5 hours, we can plug in these values into the formula.\\n\\nDistance = 20 km/hr × 2.5 hr\\n= 50 km\\n\\nTherefore, the distance traveled by the person is 50 kilometers.\\n\\nAnd the answer is: E) 50 km', 'generated_answer': 'E', 'correct_answer': 'E'}\n",
      "Processed 10 questions.\n",
      "\n",
      "Incorrect: {'question': 'The first five numbers in a regular sequence are 4, 10, X, 46, and 94. What is x ?', 'options': {'A': '28', 'B': '26', 'C': '30', 'D': '22', 'E': '24'}, 'rationale': \"To find the value of X in the given sequence, we first need to identify the pattern of the sequence.\\n\\nThe sequence starts with 4 and then increases by a certain difference each time. Let's calculate the differences between consecutive terms:\\n\\n10 - 4 = 6\\nX - 10 = ?\\n46 - X = ?\\n94 - 46 = 48\\n\\nNotice that the differences are not constant, but they seem to be increasing by a certain pattern. The next differences (after 6) are +6 (not just an increase), and then it appears to decrease from there.\\n\\nLet's look at the difference between the first two terms: 10 - 4 = 6\\n\\nNow, if we add this same difference (6) to each of the subsequent terms to get a new term that follows the same pattern:\\n\\nX = 10 + 16\\n= 26\\n\\nThe next terms in the sequence would be:\\n46 = X + 20\\n94 = 46 + 48\\n\\nNow that we have the value of X, let's verify if it fits the given sequence. If X = 26, then indeed, when you add 20 to get the fourth term (46) and then add another 48 to get the fifth term (94), everything checks out.\\n\\nSo, after recalculating the correct difference pattern between terms in a regular sequence, we can confidently say that:\\n\\nX = 26\\n\\nAnd the answer is: B\", 'generated_answer': 'B', 'correct_answer': 'D'}\n",
      "Processed 11 questions.\n",
      "\n",
      "Correct: {'question': 'Tim has 350 pounds of cement in 100, 50, and 25 pound bags. He has an equal number of each size bag. How many bags of cement does Tim have?', 'options': {'A': '2', 'B': '4', 'C': '6', 'D': '8', 'E': '10'}, 'rationale': \"Let's say the number of each size bag is x.\\n\\nThe total weight of 100-pound bags is 100x pounds.\\nThe total weight of 50-pound bags is 50x pounds.\\nThe total weight of 25-pound bags is 25x pounds.\\n\\nSince Tim has a total of 350 pounds of cement, we can set up the equation:\\n\\n100x + 50x + 25x = 350\\n\\nCombine like terms:\\n\\n175x = 350\\n\\nDivide both sides by 175:\\n\\nx = 2\\n\\nSo, there are 2 bags of each size.\\n\\nThe number of total bags is 3 times x (since there are three types of bags), so the total number of bags is:\\n\\n3 * 2 = 6\\n\\nAnd the answer is: C\", 'generated_answer': 'C', 'correct_answer': 'C'}\n",
      "Processed 12 questions.\n",
      "\n",
      "Incorrect: {'question': 'What is the least value of x, So that 2x5475 is divisible by 9', 'options': {'A': '7', 'B': '8', 'C': '4', 'D': '3', 'E': '2'}, 'rationale': \"To find if a number is divisible by 9, we need to check if the sum of its digits is also divisible by 9.\\n\\nLet's break down the given number: 5475x.\\n\\nWe don't know what x is yet, but let's focus on the known part of the number: 5475. \\n\\nThe sum of its digits is 5 + 4 + 7 + 5 = 21.\\n\\nSince 21 is not divisible by 9 (it's a multiple of 3, though), we need to find the least value of x that will make 2x + 5475 divisible by 9. \\n\\nLet's rewrite this as: 2x + 5475 should be a multiple of 9.\\n\\nSince we want the smallest value of x, let's start with x = 1:\\n\\nIf x = 1, then 2x + 5475 becomes 3 + 5475 = 5478. \\nThe sum of its digits is 5 + 4 + 7 + 8 = 24.\\n\\nSince 24 is not divisible by 9, we need to increment x until the sum of the digits is a multiple of 9.\\n\\nIf x = 2, then 2x + 5475 becomes 4 + 5475 = 5479. \\nThe sum of its digits is 5 + 4 + 7 + 9 = 25.\\n\\nSince 25 is not divisible by 9, we need to increment x again.\\n\\nIf x = 3, then 2x + 5475 becomes 6 + 5475 = 5481. \\nThe sum of its digits is 5 + 4 + 8 + 1 = 18.\\n\\nSince 18 is a multiple of 9 (it's actually 9 * 2), we've found the least value of x that will make 2x + 5475 divisible by 9.\\n\\nSo, the answer is: D) 3\\n\\nAnd the answer is: D) 3\", 'generated_answer': 'D', 'correct_answer': 'C'}\n",
      "Processed 13 questions.\n",
      "\n",
      "Correct: {'question': 'Square P is inscribed in circle Q. If the perimeter of P is 40, what is the circumference of Q?', 'options': {'A': '11√ 2π', 'B': '10√ 2π', 'C': '9√ 2π', 'D': '8√ 2π', 'E': '7√ 2π'}, 'rationale': \"To solve this problem, we need to find the relationship between the perimeter of square P and the circumference of circle Q.\\n\\nLet's denote the side length of the square as 's'. Since the perimeter of the square is given as 40, we can write:\\n\\n4s = 40\\n\\nDividing both sides by 4 gives us:\\n\\ns = 10\\n\\nNow, let's think about the properties of an inscribed square in a circle. The diagonal of the square is equal to the diameter of the circle.\\n\\nThe diagonal of the square can be found using the Pythagorean theorem since it forms a right-angled triangle with the sides of the square:\\n\\nDiagonal² = s² + s²\\n\\nSimplifying, we get:\\n\\nDiagonal² = 2s²\\n\\nSubstituting s = 10, we have:\\n\\nDiagonal² = 200\\n\\nTaking the square root of both sides gives us:\\n\\nDiagonal = √200\\n= 10√2\\n\\nSince the diagonal is equal to the diameter, the circumference of circle Q is:\\n\\nCircumference = π × Diameter\\n= π × 10√2\\n= 10π√2\\n\\nAnd the answer is: B) 10√ 2π\", 'generated_answer': 'B', 'correct_answer': 'B'}\n",
      "Processed 14 questions.\n",
      "\n",
      "Incorrect: {'question': 'A debtor reached an agreement with his creditor to repay a loan by making a monthly payment which is double of the amount she paid the previous month. If the debtors first payment was $200, and he is expected to pay back 51200, how many months will it take to fully repay the loan?', 'options': {'A': '9', 'B': '10', 'C': '9', 'D': '12', 'E': '10'}, 'rationale': \"Let's break down the problem step by step.\\n\\nThe debtor's first payment is $200, and each subsequent payment is double the previous month's payment. This means that the payments will follow a geometric progression with a common ratio of 2.\\n\\nThe total amount to be repaid is $51,200.\\n\\nTo find out how many months it will take to fully repay the loan, we can set up an equation based on the fact that the sum of the infinite geometric series (starting from the first payment) will equal the total amount to be repaid.\\n\\nLet n be the number of payments. Then the total amount repaid is:\\n\\n200 + 400 + 800 + ... = 2^n \\\\* 200 - 200\\n\\nThis expression represents the sum of an infinite geometric series with a common ratio of 2, starting from $200.\\n\\nWe want to find n when this sum equals $51,200:\\n\\n2^n \\\\* 200 - 200 = 51200\\n\\nAdd 200 to both sides to get:\\n\\n2^n \\\\* 200 = 51200 + 200\\n= 51300\\n\\nDivide both sides by 200:\\n\\n2^n = 256.5\\n\\nTake the logarithm of both sides (base 2) to solve for n:\\n\\nn = log_2(256.5)\\n\\nUsing a calculator or logarithmic table, we find that:\\n\\nlog_2(256.5) ≈ 8\\n\\nHowever, this is not one of the answer choices.\\n\\nWe can try solving the equation again, but this time with some simplifications:\\n\\nSince the total amount to be repaid is $51,200 and the first payment is $200, which is less than half of the total (25,600), it will take at least 9 payments for the sum to exceed $51,200.\\n\\nLet's calculate the sum after 8 payments:\\n\\n200 + 400 + 800 + 1600 + 3200 + 6400 + 12800 + 25600 = 49120\\n\\nThis is close but still less than $51,200. Let's add one more payment to see if we exceed the target amount:\\n\\n49120 + 51200 = 100320\\n\\nNo, this exceeds the target amount.\\n\\nNow let's calculate how much of the total has been repaid after 9 payments:\\n\\n49120 + 102400 = 153520\\n\\nThis is still less than $51,200. We are getting closer to exceeding the target amount with more payments.\\n\\nAfter 10 payments:\\n\\n153520 + 204800 = 358320\\n\\nStill short of the target.\\n\\nAfter 11 payments:\\n\\n358320 + 409600 = 767920\\n\\nGetting close but not there yet.\\n\\nFinally, after 12 payments:\\n\\n767920 + 512000 = 1279920 (not possible since we're only repaying $51,200)\\n\\nWait a minute! \\n\\nIf we take the total amount ($51,200) and divide it by the first payment ($200), we get 256.5 ≈ 2^8.\\n\\nHence n is indeed 8 + 1 = 9 (since we are starting from the first payment, not zero).\\n\\nThe number of months required to fully repay the loan is indeed 10 (for the sum of payments after 9 months) or 11 if we only consider payments that exceed the total amount.\\n\\nHowever, considering that a part of the payment made in month 12 will be used to cover interest and not solely towards repaying the principal, the correct answer is actually 12.\\n\\nThe calculation above was just an attempt at making sense of it all. \\n\\nAnd the answer is: D\", 'generated_answer': 'D', 'correct_answer': 'A'}\n",
      "Processed 15 questions.\n",
      "\n",
      "Incorrect: {'question': 'As a bicycle salesperson, James earns a fixed salary of $30 per week plus $6 per bicycle for the first 6 bicycles he sells, $12 per bicycle for the next 6 bicycles he sells, and $18 per bicycle for every bicycle sold after first 12. This week, he earned more than twice as much as he did last week. If he sold x bicycles last week and y bicycles this week, which of the following statements must be true?\\nI. y<2x\\nII. y>x\\nIII. y>3', 'options': {'A': 'I,II only', 'B': 'I only', 'C': 'II,III only', 'D': 'II only', 'E': 'III only'}, 'rationale': \"Let's break down James' earnings for last week and this week.\\n\\nLast week, his total earnings were:\\n\\n$30 (fixed salary) + $6x (from the first 6 bicycles) + $12(y-6)(y-x>0)\\nSince he sold x bicycles last week, let's assume y>x. \\n\\nThis week, his total earnings were:\\n$30 (fixed salary) + $6(6)(since he sold more than 6 bikes this week) + $12(x)(x>y)\\n\\nThe problem states that James earned more than twice as much as he did last week, so we can set up the inequality:\\n\\n( fixed salary ) + ( earnings from first 6 bicycles ) + ( additional earnings from x-6 bicycles ) < 2 * ( fixed salary ) + 2 * ( earnings from first 6 bicycles ) + 2 * ( earnings from next 6 bicycles )\\n\\nSimplifying this, we get:\\n30 + 36 + 12(y-6) < 60 + 72 + 24(x)\\n66 + 12y - 72 < 132 + 24x\\n12y - 6 < 132 + 24x\\n\\nNow, let's consider each option:\\n\\nI. y<2x:\\nSince 12y - 6 < 132 + 24x and 6 > 0, we can divide the inequality by 6 to get:\\n2y - 1 < 22 + 4x\\nThis is not necessarily true, since x could be negative.\\n\\nII. y>x:\\nFrom the previous inequality, we have:\\n12y - 6 < 132 + 24x\\nSince 6 > 0, we can add 6 to both sides of the inequality and get:\\n12y < 138 + 24x\\n\\nDividing by 12 gives us:\\ny < (11.5 + 2x)\\n\\nThis is not necessarily true, since x could be negative or very large.\\n\\nIII. y>3:\\nSince James earned more than twice as much last week, he must have sold at least 1 bicycle this week to earn the additional $6. So, y > 0 and therefore y > 3.\\n\\nConsidering all options, we can conclude that:\\n\\nAnd the answer is: E\", 'generated_answer': 'E', 'correct_answer': 'C'}\n",
      "Processed 16 questions.\n",
      "\n",
      "Correct: {'question': 'A school currently maintains a fixed number of students per class. If the ratio of students per class were to be increased by 1, 10 fewer classes would be run for a total of 120 students. What is the current ratio Q of students per class?', 'options': {'A': 'Q=3', 'B': 'Q=4', 'C': '6', 'D': '8', 'E': '12'}, 'rationale': 'Let\\'s denote the current number of students per class as \"Q\" and the current number of classes as \"N\".\\n\\nWe are given that if the ratio of students per class were to be increased by 1, 10 fewer classes would be run for a total of 120 students. This means that the new ratio is Q+1.\\n\\nThe new total number of students is still 120, but now they are distributed across N-10 classes. The equation representing this situation is:\\n\\n(Q + 1)(N - 10) = 120\\n\\nTo solve this problem, we can use trial and error with the answer choices given. Let\\'s start by trying Q=3.\\n\\nIf Q=3, then (Q+1)=(3+1)=4.\\nSubstituting Q=3 into the equation gives us:\\n\\n(4)(N-10) = 120\\n\\nExpanding this equation, we get:\\n4N - 40 = 120\\nAdding 40 to both sides of the equation yields:\\n4N = 160\\n\\nDividing by 4, we find that N = 40.\\n\\nThis means there are currently 40 classes with a student ratio of 3 per class. Since the total number of students is also given as 120, we can verify this answer:\\n\\nCurrent student count: (Q * N) = (3 * 40) = 120\\nNew student count after increasing the ratio by 1: (4 * (N-10)) = (4 * 30) = 120\\n\\nBoth current and new calculations match the total of 120 students.\\n\\nTherefore, Q=3 is a valid solution.\\n\\n\\nAnd the answer is: A', 'generated_answer': 'A', 'correct_answer': 'A'}\n",
      "Processed 17 questions.\n",
      "\n",
      "Incorrect: {'question': 'A survey reveals that the average income of a company’s customers is $45,000 per year. If 50 customers respond to the survey and the average income of the wealthiest 10 of those customers is $95,000, what is the average income of the other 40 customers?\\nIs there a way to solve this using weighted average concept instead of doing tedious calculations?', 'options': {'A': '$32,500', 'B': '$35,000', 'C': '$37,500', 'D': '$42,500', 'E': '$50,000'}, 'rationale': \"Let's break down the problem step by step.\\n\\nWe know that the average income of all 50 customers is $45,000. This means that the total income of all 50 customers is:\\n\\n$45,000 x 50 = $2,250,000\\n\\nNow, we're given that the average income of the wealthiest 10 customers is $95,000. This means that the total income of these 10 customers is:\\n\\n$95,000 x 10 = $950,000\\n\\nWe also know that the total income of all 50 customers is $2,250,000. To find the total income of the remaining 40 customers, we subtract the total income of the wealthiest 10 customers from the total income of all 50 customers:\\n\\n$2,250,000 - $950,000 = $1,300,000\\n\\nNow, to find the average income of the other 40 customers, we divide their total income by the number of customers in this group:\\n\\nAverage income = Total income / Number of customers\\n= $1,300,000 / 40\\n= $32,500\\n\\nAlternatively, we can use the weighted average concept to solve this problem. Let's define two variables:\\n\\nx = Average income of the other 40 customers\\ny = Average income of all 50 customers (which is given as $45,000)\\n\\nWe know that the total income of all 50 customers is a weighted sum of the incomes of the wealthiest 10 and the remaining 40 customers. The weights are the proportions of the total number of customers:\\n\\nWeight for wealthiest 10 = 10/50 = 1/5\\nWeight for remaining 40 = 40/50 = 4/5\\n\\nUsing these weights, we can set up the following equation:\\n\\n0.2y + x = y (since the total income is $2,250,000 and the average income of all customers is $45,000)\\n\\nSubstituting the given value for y, we get:\\n\\n0.2 × 45,000 + x = 45,000\\n\\nExpanding and simplifying, we get:\\n\\n9,000 + x = 45,000\\nx = 36,000\\n\\nWait, what? This doesn't look like any of the answer choices! However, note that we've just calculated the average income of the other 40 customers as $36,000. We can now subtract this value from the given average income to find the average income of the wealthiest 10 customers:\\n\\n$45,000 - $36,000 = $9,000\\n\\nThis matches one of our intermediate calculations earlier (the total income of the wealthiest 10 customers was $950,000). To get the correct answer for the other 40 customers, we need to subtract this calculated value from their average income and add it to the total income. Let's simplify the equation:\\n\\nx = y - 0.9y\\n= 0.1y\\n\\nNow we can substitute the given value for y (average income of all customers):\\n\\nx = 0.1 × $45,000\\n= $4,500\\n\\nBut that's not correct either! What am I doing wrong?\\n\\nUpon reviewing my calculations, I see where I went astray. The key to this problem lies in using weighted averages correctly.\\n\\nLet's start again from the beginning. We know that the average income of all 50 customers is $45,000. This means that the total income of all 50 customers is:\\n\\n$45,000 x 50 = $2,250,000\\n\\nNow, we're given that the average income of the wealthiest 10 customers is $95,000. This means that the total income of these 10 customers is:\\n\\n$95,000 x 10 = $950,000\\n\\nThe average income of all 50 customers is a weighted sum of the incomes of the wealthiest 10 and the remaining 40 customers. Let's define two variables:\\n\\nx = Average income of the other 40 customers\\ny = Weighted average income (which we'll calculate later)\\n\\nThe weights are the proportions of the total number of customers:\\n\\nWeight for wealthiest 10 = 10/50 = 1/5\\nWeight for remaining 40 = 40/50 = 4/5\\n\\nNow, let's set up an equation using these weights. We know that the average income of all 50 customers is a weighted sum of the incomes of the wealthiest 10 and the remaining 40 customers:\\n\\nAverage income = (1/5)(Income of wealthiest 10) + (4/5)(Income of other 40)\\n\\nSubstituting the values, we get:\\n\\n$45,000 = (1/5)($95,000) + (4/5)x\\n\\nMultiplying both sides by 5 to eliminate fractions, we get:\\n\\n225,000 = $19,000 + 4x\\n\\nSimplifying and rearranging terms, we get:\\n\\n4x = $206,000\\nx = $51,500\\n\\nThis is the average income of the other 40 customers! However, this value doesn't match any of the answer choices either.\\n\\nLet's review our earlier work. We've calculated the total income of the wealthiest 10 customers as $950,000 and subtracted it from the total income of all 50 customers to find the total income of the remaining 40 customers:\\n\\n$2,250,000 - $950,000 = $1,300,000\\n\\nWe then divided this value by the number of customers in this group (40) to find their average income:\\n\\nAverage income = Total income / Number of customers\\n= $1,300,000 / 40\\n= $32,500\\n\\nWait a minute... What was I doing earlier? Ah, yes! The correct solution lies in using weighted averages correctly.\\n\\nLet's go back and review the key points. We know that the average income of all 50 customers is a weighted sum of the incomes of the wealthiest 10 and the remaining 40 customers. The weights are the proportions of the total number of customers:\\n\\nWeight for wealthiest 10 = 1/5\\nWeight for remaining 40 = 4/5\\n\\nWe can use these weights to set up an equation using the average income of all 50 customers as y:\\n\\n$45,000 = (1/5)(95,000) + (4/5)x\\n\\nMultiplying both sides by 5 and rearranging terms, we get:\\n\\n225,000 = $19,000 + 4x\\n206,000 = 4x\\n51,500 = x\\n\\nHowever, this value still doesn't match any of the answer choices! Ah...\\n\\nThe issue lies in my earlier simplification. Let's go back to that point and simplify correctly.\\n\\nWe know that the total income of all 50 customers is a weighted sum of the incomes of the wealthiest 10 and the remaining 40 customers:\\n\\nTotal income = (Weight for wealthiest 10)(Income of wealthiest 10) + (Weight for remaining 40)(Income of other 40)\\n\\nSubstituting the values, we get:\\n\\n$2,250,000 = (1/5)($950,000) + (4/5)x\\n\\nMultiplying both sides by 5 and simplifying correctly this time, we get:\\n\\n11,250,000 = $190,000 + 4x\\n11,060,000 = 4x\\n2,765,000 = x\\n\\nWait... What?\\n\\nDividing this value by the number of customers in this group (40), we get:\\n\\nAverage income = Total income / Number of customers\\n= $2,765,000 / 40\\n= $69,125\\n\\nThis matches none of the answer choices!\\n\\nBut wait... There's a much simpler solution. We know that the total income of all 50 customers is:\\n\\n$45,000 x 50 = $2,250,000\\n\\nThe average income of the wealthiest 10 customers is:\\n\\n$95,000 x 10 = $950,000\\n\\nTo find the average income of the other 40 customers, we subtract the average income of the wealthiest 10 from the total income and divide by the number of customers in this group (40). The correct answer will be a direct subtraction and division.\\n\\nAverage income = Total income - Average income of wealthiest 10\\n= ($2,250,000 - $950,000) / 40\\n\\n$1,300,000 / 40 = $32,500\\n\\nThe average income of the other 40 customers is indeed $32,500!\\n\\nI apologize for any confusion my earlier response may have caused. Thank you for your patience and understanding!\", 'generated_answer': None, 'correct_answer': 'A'}\n",
      "Processed 18 questions.\n",
      "\n",
      "Correct: {'question': 'The slant height of a cone is 35 cm and radius of the base is 14cm, find the curved surface of the cone.', 'options': {'A': '4150', 'B': '1780', 'C': '1540', 'D': '1500', 'E': '6100'}, 'rationale': \"To find the curved surface area of a cone, we can use the formula:\\n\\nCurved Surface Area = πr√(h² + r²)\\n\\nwhere:\\n- r is the radius of the base (14cm)\\n- h is the slant height (35cm)\\n- π is a constant approximately equal to 3.14159\\n\\nFirst, let's calculate the term inside the square root (√):\\n\\n(h² + r²) = (35² + 14²)\\n= (1225 + 196)\\n= 1421\\n\\nNow, we'll find the square root of this value:\\n\\n√(h² + r²) = √1421 ≈ 37.64\\n\\nNext, multiply by π and the radius to find the curved surface area:\\n\\nCurved Surface Area ≈ π × 14 × 37.64\\n≈ 3.14159 × 14 × 37.64\\n≈ 4448.36 cm²\\n\\nHowever, none of the options provided match our calculated result. It seems there was a mistake in considering the answer choices or an error occurred during calculation.\\n\\nRevisiting the formula and calculations:\\n\\nCorrect Curved Surface Area = πr√(h² + r²)\\n= 3.14159 × 14 × √(35² + 14²)\\n= 3.14159 × 14 × 37.64\\n≈ 4448.36 cm²\\n\\nGiven the options provided, none match our calculation. However, let's verify if there's an oversight in calculations:\\n\\n√(h² + r²) = √1421 ≈ 37.64 (approx)\\n\\nLet's calculate the actual value with a precise value for π and accurate rounding:\\n\\nCorrect Curved Surface Area ≈ π × 14 × √1421\\n≈ 3.14159 × 14 × 37.6384 (rounded to four decimal places)\\n≈ 4438.29 (using more precise calculation)\\n\\nRounding the actual result, we get a more realistic value closer to options provided:\\n\\nCurved Surface Area ≈ 4438 cm² (more accurately rounded)\\n\\nConsidering this corrected approach and acknowledging my earlier miscalculation:\\n\\nThe correct answer is not explicitly listed in your given choices based on our detailed explanation. However, considering standard rounding practices for an approximation suitable among the options given:\\n\\nAnd the answer is: C\", 'generated_answer': 'C', 'correct_answer': 'C'}\n",
      "Processed 19 questions.\n",
      "\n",
      "Incorrect: {'question': 'A cheese factory sells its cheese in rectangular blocks. A normal block has a volume of 8 cubic feet. If a small block has half the width, half the depth, and half the length of a normal block, what is the volume of cheese in a small block in cubic feet?', 'options': {'A': '1', 'B': '5', 'C': '4', 'D': '6', 'E': '2'}, 'rationale': \"To solve this problem, we need to find the volume of the small block of cheese.\\n\\nLet's start by identifying the dimensions of a normal block and a small block:\\n\\nNormal block:\\nWidth = W\\nDepth = D\\nLength = L\\nVolume = V = W × D × L = 8 cubic feet (given)\\n\\nSmall block:\\nWidth = W/2\\nDepth = D/2\\nLength = L/2\\n\\nThe volume of the small block is given by the formula:\\n\\nV_small = (W/2) × (D/2) × (L/2)\\n= (1/4) × W × D × L\\n\\nSince the volume of a normal block is 8 cubic feet, we can substitute this value into the equation above:\\n\\nV_small = (1/4) × 8\\n= 2 cubic feet\\n\\nTherefore, the volume of cheese in a small block is 2 cubic feet.\\n\\nAnd the answer is: E\", 'generated_answer': 'E', 'correct_answer': 'A'}\n",
      "Processed 20 questions.\n",
      "\n",
      "Correct: {'question': 'In a new housing development, trees are to be planted along the sidewalk of a certain street. Each tree takes up one square foot of sidewalk space, and there are to be 20 feet between each tree. How many trees can be planted if the road is 148 feet long?', 'options': {'A': '8', 'B': '9', 'C': '10', 'D': '11', 'E': '16'}, 'rationale': \"To find out how many trees can be planted, we need to first determine how much space each tree will occupy. Each tree takes up one square foot of sidewalk space, and there are 20 feet between each tree.\\n\\nSo, the total space occupied by each tree is the sum of its own space (1 square foot) and the space between it and the next tree (20 feet).\\n\\nThe total space occupied by each tree = 1 + 20 = 21 feet\\n\\nNow that we know how much space each tree will occupy, let's find out how many trees can be planted in a road of length 148 feet.\\n\\nLet x be the number of trees that can be planted. The total space occupied by these trees is given by:\\n\\nTotal space occupied = Number of trees × Space occupied per tree\\n= x × 21\\n\\nSince each tree takes up one square foot, we don't need to consider any extra space. Now, this total space should not exceed the length of the road.\\n\\nThe total space occupied by the trees cannot be more than the length of the road, so:\\n\\nx × 21 ≤ 148\\n\\nNow, let's solve for x:\\n\\nx ≤ 148/21\\nx ≤ 7.05 (approximately)\\n\\nSince we can't plant a fraction of a tree, we'll round down to the nearest whole number.\\n\\nSo, the maximum number of trees that can be planted is: x = 7\\n\\nHowever, I didn't find any option equal to 7, so let's see what we can get:\\n\\nWe know each tree takes up one square foot and there are 20 feet between them. To calculate how many pairs (one tree and the space before it) will fit in a 148-foot road, we'll divide by 21 (the sum of a tree's space and the preceding empty space).\\n\\nNumber of spaces occupied by trees = 148 / 21 ≈ 7\\n\\nIf each pair contains one tree, then:\\n\\n7 pairs → 7 trees\\n\\nHowever, we must not forget that there is an additional 20-foot space before the first tree. So, if a tree occupies the last spot on the sidewalk, there will be only six spaces occupied by trees.\\n\\nHence, the number of trees planted = 6\\nAnd the answer is: A\", 'generated_answer': 'A', 'correct_answer': 'A'}\n",
      "Processed 21 questions.\n",
      "\n",
      "Correct: {'question': 'What will be the difference in simple and compound interest on 2000 after three years at the rate of 10 percent per annum?', 'options': {'A': '160', 'B': '42', 'C': '62', 'D': '20', 'E': 'None of these'}, 'rationale': 'To find the difference in simple and compound interest, we need to calculate both interests first.\\n\\nSimple Interest (SI):\\nPrincipal (P) = 2000\\nRate (R) = 10% per annum\\nTime (T) = 3 years\\n\\nUsing the formula SI = (P × R × T)/100:\\n\\nSI = (2000 × 10 × 3)/100\\n= 60000/100\\n= 600\\n\\nCompound Interest (CI):\\nPrincipal (P) = 2000\\nRate (R) = 10% per annum\\nTime (T) = 3 years\\n\\nUsing the formula CI = P(1 + R/100)^T - P:\\n\\nCI = 2000(1 + 10/100)^3 - 2000\\n= 2000(1.1)^3 - 2000\\n= 2000(1.331) - 2000\\n= 2662 - 2000\\n= 662\\n\\nNow, we find the difference between Compound Interest and Simple Interest:\\n\\nDifference = CI - SI\\n= 662 - 600\\n= 62\\n\\nTherefore, the correct answer is:\\n\\nAnd the answer is: C', 'generated_answer': 'C', 'correct_answer': 'C'}\n",
      "Processed 22 questions.\n",
      "\n",
      "Correct: {'question': 'A $500 investment and a $1,500 investment have a combined yearly return of 19 percent of the total of the two investments. If the $500 investment has a yearly return of 7 percent, what percent yearly return does the $1,500 investment have?', 'options': {'A': '9%', 'B': '10%', 'C': '23%', 'D': '21%', 'E': '22%'}, 'rationale': \"Let's break down the problem step by step.\\n\\nFirst, we know that the combined yearly return of the two investments is 19% of the total amount. The total amount is $500 + $1,500 = $2,000. So, the combined yearly return is 19% of $2,000, which is:\\n\\n$2,000 x 0.19 = $380\\n\\nNow, we are given that the $500 investment has a yearly return of 7%. We can calculate this as follows:\\n\\nYearly return on $500 = $500 x 0.07 = $35\\n\\nThe combined yearly return for both investments is $380, and the $500 investment has a yearly return of $35. So, the remaining return comes from the $1,500 investment. Let's find out how much of this return belongs to the $1,500 investment:\\n\\nRemaining return = Combined yearly return - Yearly return on $500\\n= $380 - $35\\n= $345\\n\\nNow, we know that this remaining return is due to the $1,500 investment. We can calculate its yearly return as follows:\\n\\nYearly return on $1,500 = Remaining return / Total amount invested in $1,500\\n= $345 / $1,500\\n= 0.23 (or 23%)\\n\\nTherefore, the $1,500 investment has a yearly return of 23%.\\n\\nAnd the answer is: C\", 'generated_answer': 'C', 'correct_answer': 'C'}\n",
      "Processed 23 questions.\n",
      "\n",
      "Incorrect: {'question': 'Find the constant k so that : -x2 - (k + 11)x - 8 = -(x - 2)(x - 4)', 'options': {'A': '11', 'B': '12', 'C': '17', 'D': '14', 'E': '15'}, 'rationale': \"To find the constant k, we need to expand and compare the two expressions on both sides of the equation.\\n\\n-(x - 2)(x - 4) = -(x^2 - 6x + 8)\\n\\nExpanding this expression gives us:\\n\\n-x^2 + 6x - 8\\n\\nNow, let's rewrite the original equation with the expanded expression on the right-hand side:\\n\\n-x^2 - (k + 11)x - 8 = -x^2 + 6x - 8\\n\\nComparing the coefficients of x in both expressions, we can see that -(k + 11) must equal 6. To solve for k, we'll multiply both sides by -1:\\n\\nk + 11 = -6\\n\\nSubtracting 11 from both sides gives us:\\n\\nk = -17\\n\\nHowever, looking at the answer choices provided, there is no negative number among them. This could indicate that a mistake was made in comparing the coefficients of x.\\n\\nLet's go back to the original equation and try a different approach.\\n\\n-x^2 - (k + 11)x - 8 = -(x - 2)(x - 4)\\n\\nMultiplying out the right-hand side, we get:\\n\\n-x^2 + 6x - 8\\n\\nRearranging this expression by distributing the negative sign to both terms inside the parentheses gives us:\\n\\n-(x^2 - 6x + 8) = -x^2 + 6x - 8\\n\\nNow, comparing the constant term on both sides of the equation (-8 = -8), we can see that there is no issue with the constant terms.\\n\\nThe coefficient of x^2 in both expressions is also the same (-1).\\n\\nLooking at the coefficients of x, we have -(k + 11) = 6. However, instead of directly comparing the coefficients, let's rewrite the original equation as:\\n\\n-x^2 - (k + 11)x - 8 = -(x^2 - 6x + 8)\\n\\nDistributing the negative sign to both terms inside the parentheses on the right-hand side gives us:\\n\\n-x^2 + 6x - 8\\n\\nNow, we can rewrite this expression by multiplying it out as follows:\\n\\n-x^2 - (k + 11)x - 8 = -x^2 + 6x - 8\\n\\nSubtracting x^2 from both sides of the equation and adding (-8) to both sides gives us:\\n\\n-(k + 11)x = 6x\\n\\nDividing both sides by (-1), we get:\\n\\nk + 11 = -6\\n\\nAs previously mentioned, subtracting 11 from both sides should give us:\\n\\nk = -17\\n\\nHowever, looking at the original question and answer choices provided, it seems that another approach might be necessary.\\n\\nIn this case, let's try a different method. If we expand the right-hand side of the equation -(x - 2)(x - 4), we get:\\n\\n-(x^2 - 6x + 8)\\n\\nDistributing the negative sign to both terms inside the parentheses gives us:\\n\\n-x^2 + 6x - 8\\n\\nComparing this expression with the original equation, we can see that the constant term in both expressions is indeed -8.\\n\\nThe coefficient of x in both expressions is also the same (6).\\n\\nHowever, when comparing the coefficient of x^2 in the original equation to the right-hand side of the equation, it becomes clear that there was a mistake earlier on. The coefficient of x^2 in the original equation is indeed (-1), but the coefficient of x^2 in the expanded form of the right-hand side is also (-1).\\n\\nThe confusion arose from comparing the expressions -(k + 11)x and -6x, as these expressions were not equivalent.\\n\\nHowever, considering that we are trying to find a constant k so that:\\n\\n-x^2 - (k + 11)x - 8 = -(x - 2)(x - 4)\\n\\nwe can rewrite this equation by distributing the negative sign on the right-hand side:\\n\\n-x^2 - (k + 11)x - 8 = -x^2 + 6x - 8\\n\\nNow, comparing the coefficients of x in both expressions, we see that -(k + 11) = 6.\\n\\nThis is where the mistake was made earlier. The correct way to approach this problem would be to compare each corresponding term on both sides of the equation.\\n\\nIn order to find k, we can set up an equation by equating the coefficients:\\n\\n-(k+11)=6\\n\\nAdding 11 to both sides gives us:\\n\\n-k= -5\\n\\nDividing both sides by (-1) gives us:\\n\\nk = 5\\n\\nTherefore, considering this correct approach and looking at the answer choices provided, the value of k that satisfies the given equation is indeed D. 14.\\n\\nHowever, we can see that this conclusion was reached based on a misunderstanding in the original solution.\\n\\n\\nAnd the answer is: D\", 'generated_answer': 'D', 'correct_answer': 'C'}\n",
      "Processed 24 questions.\n",
      "\n",
      "Incorrect: {'question': 'A positive whole number has factors of 3 and 5. The number MUST be divisible by: I. 15 II. 30 III. 60', 'options': {'A': 'I & II', 'B': 'III', 'C': 'I & III', 'D': 'II & III', 'E': 'II'}, 'rationale': \"To solve this problem, we need to find the least common multiple (LCM) of 3 and 5.\\n\\nFactors of 3: 1, 3\\nFactors of 5: 1, 5\\n\\nThe LCM of 3 and 5 is 15. Since the number has factors of 3 and 5, it must be divisible by their product, which is 15.\\n\\nI. 15: This option is correct because 15 is a factor of the number (by definition).\\n\\nII. 30: To determine if the number is also divisible by 30, we need to consider the factors of 30: 1, 2, 3, 5, 6, 10, 15, and 30.\\n\\nThe prime factors of 30 are 2, 3, and 5. Since our original number has factors of 3 and 5, it must also have a factor of 2 to be divisible by 30. However, the problem does not specify that the number has any additional factors beyond those already mentioned (3 and 5).\\n\\nIII. 60: The prime factors of 60 are 2, 2, 3, and 5.\\n\\nTo be divisible by 60, our original number would need to have two factors of 2 (in addition to the factor of 3 and 5). However, we do not know that it has any additional factors beyond those already mentioned (3 and 5).\\n\\nConsidering these options:\\n\\nA) I & II: This option includes being divisible by 15, which is guaranteed, but also mentions being divisible by 30. While possible, it's not necessary.\\n\\nB) III: This option suggests the number must be divisible by 60, which requires two factors of 2 beyond what we know about the original number (no guarantee).\\n\\nC) I & III: Including both 15 and 60 as mandatory would mean that our number has factors 3, 5, and at least one more factor of 2.\\n\\nD) II & III: This choice suggests divisibility by both 30 and 60. For this to be true, the original number would have to include a second factor of 2 (which we cannot guarantee).\\n\\nE) II: Being divisible by 30 is not mandatory; only being divisible by 15 is guaranteed.\\n\\nThe correct answer can be determined as follows:\\n\\nWe know that our original number has factors 3 and 5. To confirm the correct option, consider whether any of them must also include a factor of 2.\\n\\nBeing divisible by both 15 (I) and 60 (III) means having at least one additional factor of 2 beyond what we are given (three and five).\\n\\nTherefore, only choices C, D, or E could be possible. Between these three, choice C would make the most sense because it combines divisibility by 15 and 60 (which includes an extra factor of 2) but is less restrictive than option B.\\n\\nAnd the answer is: C\", 'generated_answer': 'C', 'correct_answer': 'B'}\n",
      "Processed 25 questions.\n",
      "\n"
     ]
    }
   ],
   "source": [
    "for idx, example in enumerate(dataset_D_subset):\n",
    "    question = example['question']\n",
    "    options_list = [opt.strip() for opt in example['options']]\n",
    "    correct_option = example['correct'].strip().upper()\n",
    "    \n",
    "    # Parse options into a dictionary\n",
    "    options_dict = parse_options(options_list)\n",
    "    \n",
    "    # Extract the correct answer text\n",
    "    correct_answer_text = options_dict.get(correct_option, None)\n",
    "    \n",
    "    if correct_answer_text is None:\n",
    "        print(f\"Warning: Correct answer not found for index {idx}. Skipping this example.\")\n",
    "        continue  # Skip if the correct answer is missing\n",
    "    \n",
    "    # Generate rationale and answer using the updated function\n",
    "    generated_rationale, generated_answer_text = generate_rationale_and_answer(question, options_dict, prompt_set)\n",
    "    \n",
    "    # Initialize generated_answer_letter\n",
    "    generated_answer_letter = None\n",
    "    \n",
    "    # Map the generated answer text to the option letter\n",
    "    if generated_answer_text:\n",
    "        generated_answer_letter = generated_answer_text.strip().upper()\n",
    "    \n",
    "    match = re.search(r'And the answer is:\\s*([A-E])', generated_rationale, re.IGNORECASE)\n",
    "    if match:\n",
    "        generated_answer_letter = match.group(1).upper()\n",
    "    \n",
    "    # Categorize the example based on the accuracy of the generated answer\n",
    "    if (generated_answer_letter == correct_option) and is_rationale_correct(generated_rationale, correct_option, question):\n",
    "        # Correct answer\n",
    "        correct_pairs.append({\n",
    "            'question': question,\n",
    "            'options': options_dict,\n",
    "            'rationale': generated_rationale,\n",
    "            'answer': correct_option\n",
    "        })\n",
    "        print('Correct:', {\n",
    "            'question': question,\n",
    "            'options': options_dict,\n",
    "            'rationale': generated_rationale,\n",
    "            'generated_answer': generated_answer_letter,\n",
    "            'correct_answer': correct_option\n",
    "        })\n",
    "    else:\n",
    "        # Incorrect answer\n",
    "        incorrect_pairs.append({\n",
    "            'question': question,\n",
    "            'options': options_dict,\n",
    "            'rationale': generated_rationale,\n",
    "            'generated_answer': generated_answer_letter,\n",
    "            'correct_answer': correct_option\n",
    "        })\n",
    "        print(\"Incorrect:\",  {\n",
    "            'question': question,\n",
    "            'options': options_dict,\n",
    "            'rationale': generated_rationale,\n",
    "            'generated_answer': generated_answer_letter,\n",
    "            'correct_answer': correct_option\n",
    "        })\n",
    "    \n",
    "    # Print progress every example\n",
    "    print(f\"Processed {idx + 1} questions.\\n\")"
   ]
  },
  {
   "cell_type": "code",
   "execution_count": 22,
   "metadata": {},
   "outputs": [
    {
     "data": {
      "text/plain": [
       "[{'question': 'If Tim had lunch at $50 and he gave 20% tip, how much did he spend?',\n",
       "  'options': {'A': '$60.00',\n",
       "   'B': '$35.42',\n",
       "   'C': '$60.60',\n",
       "   'D': '$21.56',\n",
       "   'E': '$78.45'},\n",
       "  'rationale': \"To find out how much Tim spent in total, we need to calculate the tip first and then add it to the cost of lunch.\\n\\nThe cost of lunch is $50.\\nThe tip is 20% of the cost of lunch. To find 20% of a number, we multiply the number by 0.2 (which is equivalent to multiplying by 1/5).\\n\\nSo, the tip is: $50 x 0.2 = $10\\n\\nNow, let's add the tip to the cost of lunch:\\n$50 + $10 = $60\\n\\nTherefore, Tim spent a total of $60 on lunch.\\n\\nAnd the answer is: A)\",\n",
       "  'answer': 'A'},\n",
       " {'question': 'q is a positive integer and multiple of 2; p = 4^q, what is the remainder when p is divided by 10?',\n",
       "  'options': {'A': '10',\n",
       "   'B': '6',\n",
       "   'C': '4',\n",
       "   'D': '0',\n",
       "   'E': 'It Cannot Be Determined'},\n",
       "  'rationale': \"To find the remainder when p (which equals 4^q) is divided by 10, we need to examine the pattern of powers of 4.\\n\\nWhen q = 1, p = 4^1 = 4, which leaves a remainder of 4 when divided by 10.\\n\\nFor larger values of q, the exponentiation will not change the last digit (units place) because multiplying any number ending in 4 by itself will always result in a number ending in 6. For example:\\n\\n- 4^2 = 16, which leaves a remainder of 6 when divided by 10.\\n- 4^3 = 64, which also leaves a remainder of 4 when divided by 10.\\n- However, it's clear that the pattern will continue with powers of 4 always resulting in either 4 or 6 in the units place.\\n\\nSince we are dealing with an even power (2q), the result will be a number ending in 6. Therefore, regardless of the value of q as long as q is greater than 1, p = 4^q will leave a remainder of 6 when divided by 10.\\n\\nAnd the answer is: B)\",\n",
       "  'answer': 'B'},\n",
       " {'question': 'If q is the square of a positive integer, which of the following must be equal to the square of the next positive integer?',\n",
       "  'options': {'A': '√n + 1',\n",
       "   'B': 'n + 1',\n",
       "   'C': 'n^2 + 1',\n",
       "   'D': 'q + 2√q + 1',\n",
       "   'E': 'n^2 + 2n + 1'},\n",
       "  'rationale': \"Let's analyze the options.\\n\\nSince q is the square of a positive integer, we can write q = n^2 for some positive integer n.\\n\\nNow, let's examine each option:\\n\\nA) √q + 1\\n= √(n^2) + 1 (since q = n^2)\\n= n + 1\\n\\nB) n + 1\\nThis is just a simple increment of the positive integer n, which does not necessarily relate to the square of the next positive integer.\\n\\nC) n^2 + 1\\nThis option adds 1 to the square of the current positive integer n, but it doesn't necessarily correspond to the square of the next positive integer.\\n\\nD) q + 2√q + 1\\n= n^2 + 2n + 1 (since q = n^2 and √q = n)\\n\\nThis option looks promising because it involves adding a multiple of the current positive integer n, which could be related to the square of the next positive integer.\\n\\nE) n^2 + 2n + 1\\nThis is identical to option D, so we don't need to consider it separately.\\n\\nNow, let's think about what would happen if we had two consecutive positive integers: n and (n+1). The square of these numbers would be:\\n\\nq = n^2 (the given square)\\n(n+1)^2 = n^2 + 2n + 1 (by expanding the binomial)\\n\\nNotice that this option correctly expresses the relationship between the squares of two consecutive positive integers.\\n\\nTherefore, we can conclude that option D) q + 2√q + 1 = n^2 + 2n + 1 must be equal to the square of the next positive integer.\\n\\nAnd the answer is: D\",\n",
       "  'answer': 'D'},\n",
       " {'question': 'Rs. 5600 is divided into three parts A, B and C. How much A is more than C if their ratio is 1/7:1/7:1/14?',\n",
       "  'options': {'A': '300', 'B': '992', 'C': '1120', 'D': '552', 'E': '312'},\n",
       "  'rationale': \"To solve this problem, we need to first find the values of A, B, and C using the given ratio.\\n\\nThe ratio of A : B : C is 1/7 : 1/7 : 1/14. We can rewrite this as a single fraction by multiplying all three parts by the least common denominator (LCD), which is 14:\\n\\nA : B : C = 2 : 2 : 1\\n\\nSince the total amount is Rs. 5600, we can divide it among A, B, and C in the ratio 2:2:1.\\n\\nLet's assume that A gets 2x, B gets 2x, and C gets x.\\n\\nWe know that the sum of all three parts is equal to the total amount:\\n\\nA + B + C = 5600\\n2x + 2x + x = 5600\\n\\nCombine like terms:\\n\\n5x = 5600\\n\\nDivide by 5:\\n\\nx = 1120\\n\\nNow we can find the values of A, B, and C:\\n\\nA = 2x = 2(1120) = 2240\\nB = 2x = 2(1120) = 2240\\nC = x = 1120\\n\\nThe question asks how much more A is than C. We can find the difference by subtracting C from A:\\n\\nA - C = 2240 - 1120 = 1120\\n\\nSo, A is Rs. 1120 more than C.\\n\\nAnd the answer is: C) 1120\",\n",
       "  'answer': 'C'}]"
      ]
     },
     "execution_count": 22,
     "metadata": {},
     "output_type": "execute_result"
    }
   ],
   "source": [
    "correct_pairs"
   ]
  },
  {
   "cell_type": "code",
   "execution_count": 23,
   "metadata": {},
   "outputs": [
    {
     "data": {
      "text/plain": [
       "[{'question': 'Rs. 825 becomes Rs. 956 in 3 years at a certain rate of simple interest.If the rate of interest is increased by 4% ,What amount will Rs. 825 become in 3 years ?',\n",
       "  'options': {'A': 'Rs. 1020.80',\n",
       "   'B': 'Rs. 1025',\n",
       "   'C': 'Rs. 1055',\n",
       "   'D': 'Data inadequate',\n",
       "   'E': 'None of these'},\n",
       "  'rationale': \"Let's break down the problem step by step.\\n\\nFirst, we need to find the rate of interest (R) at which Rs. 825 becomes Rs. 956 in 3 years. We can use the simple interest formula:\\n\\nSimple Interest = (Principal × Rate × Time) / 100\\n\\nwhere Principal = Rs. 825, and Simple Interest = Rs. 956 - Rs. 825 = Rs. 131.\\n\\nWe are given that this happens over a period of 3 years. So,\\n\\nRs. 131 = (Rs. 825 × R × 3) / 100\\n\\nTo find the rate of interest (R), we can rearrange the formula:\\n\\nR = (Rs. 131 × 100) / (Rs. 825 × 3)\\n\\nR = Rs. 13,100 / Rs. 2,475\\n\\nR ≈ 5.29%\\n\\nNow that we have found the original rate of interest (R), let's say it increases by 4% to become R + 0.04.\\n\\nThe new rate of interest is:\\n\\nNew Rate = R + 0.04\\n= 5.29% + 4%\\n= 9.29%\\n\\nNow, if we apply this new rate of interest to the same principal amount (Rs. 825) over a period of 3 years, we can calculate the new simple interest as follows:\\n\\nNew Simple Interest = (Principal × New Rate × Time) / 100\\n\\n= (Rs. 825 × 9.29% × 3) / 100\\n\\n= Rs. 8226.45 / 100\\n\\n≈ Rs. 82.26\\n\\nNow, we need to add this new simple interest to the principal amount to find the total amount after 3 years:\\n\\nTotal Amount = Principal + New Simple Interest\\n= Rs. 825 + Rs. 82.26 (approx.)\\n= Rs. 907.26 (approx.)\\n\\nRounding off to two decimal places, we get:\\n\\nRs. 907.26 ≈ Rs. 907.25\\n\\nThis is very close to option A) Rs. 1020.80.\\n\\nHowever, I think there might be a slight error in the options provided, or maybe it's just my calculation that's incorrect! Let me recheck...\\n\\nLet me recalculate the simple interest for the new rate:\\n\\nNew Simple Interest = (Rs. 825 × 9.29% × 3) / 100\\n= Rs. 8226.45 / 100\\n≈ Rs. 82.27\\n\\nNow, let's find the total amount:\\n\\nTotal Amount = Principal + New Simple Interest\\n= Rs. 825 + Rs. 82.27 (approx.)\\n≈ Rs. 907.27\\n\\nRounding off to two decimal places, we get:\\nRs. 907.27 ≈ Rs. 907.26\\n\\nOh wait! I see what happened! My calculation is correct this time!\\n\\nThe total amount after 3 years at the increased rate of interest is indeed approximately Rs. 907.27.\\n\\nNow, let me find which option this value matches:\\n\\nThe closest option to my calculated answer (Rs. 907.27) is actually...\\n\\nNone of the above options are exactly equal to Rs. 907.27, but we can see that if we add Rs. 112.73 to the principal amount of Rs. 825, we get approximately Rs. 937.78 - which is close to option B) Rs. 1025.\\n\\nHowever, I'm going to choose option A) Rs. 1020.80 as my final answer since it's closer to my calculated value (Rs. 907.27).\",\n",
       "  'generated_answer': None,\n",
       "  'correct_answer': 'C'}]"
      ]
     },
     "execution_count": 23,
     "metadata": {},
     "output_type": "execute_result"
    }
   ],
   "source": [
    "incorrect_pairs"
   ]
  },
  {
   "cell_type": "markdown",
   "metadata": {},
   "source": [
    "Testing it out. "
   ]
  },
  {
   "cell_type": "code",
   "execution_count": null,
   "metadata": {},
   "outputs": [],
   "source": [
    "# # Test with a specific example\n",
    "# test_example = dataset_D_subset[2]  # Adjust the index as needed\n",
    "# question = test_example['question']\n",
    "# options_list = [opt.strip() for opt in test_example['options']]\n",
    "# correct_option = test_example['correct'].strip().upper()\n",
    "\n",
    "# # Parse options into a dictionary\n",
    "# options_dict = parse_options(options_list)\n",
    "\n",
    "# # Extract the correct answer\n",
    "# correct_answer = options_dict.get(correct_option, None)\n",
    "\n",
    "# print(\"Question:\", question)\n",
    "# print(\"Options:\", options_dict)\n",
    "# print(\"Correct Option:\", correct_option)\n",
    "# print(\"Correct Answer:\", correct_answer)\n",
    "\n",
    "# # Generate rationale and answer\n",
    "# generated_rationale, generated_answer_text = generate_rationale_and_answer(question, options_dict, prompt_set)\n",
    "\n",
    "# print(\"\\nGenerated Rationale:\")\n",
    "# print(generated_rationale)\n",
    "# print(\"\\nGenerated Answer:\", generated_answer_text)\n",
    "# print(\"Correct Answer:\", correct_answer)\n"
   ]
  },
  {
   "cell_type": "code",
   "execution_count": 64,
   "metadata": {},
   "outputs": [
    {
     "name": "stdout",
     "output_type": "stream",
     "text": [
      "Total questions processed: 25\n",
      "Correct answers: 15\n",
      "Incorrect answers: 10\n",
      "Accuracy: 60.00%\n"
     ]
    }
   ],
   "source": [
    "total = len(correct_pairs) + len(incorrect_pairs)\n",
    "accuracy = len(correct_pairs) / total * 100\n",
    "print(f\"Total questions processed: {total}\")\n",
    "print(f\"Correct answers: {len(correct_pairs)}\")\n",
    "print(f\"Incorrect answers: {len(incorrect_pairs)}\")\n",
    "print(f\"Accuracy: {accuracy:.2f}%\")"
   ]
  },
  {
   "cell_type": "code",
   "execution_count": 26,
   "metadata": {},
   "outputs": [
    {
     "name": "stdout",
     "output_type": "stream",
     "text": [
      "{'question': 'Rs. 825 becomes Rs. 956 in 3 years at a certain rate of simple interest.If the rate of interest is increased by 4% ,What amount will Rs. 825 become in 3 years ?', 'options': {'A': 'Rs. 1020.80', 'B': 'Rs. 1025', 'C': 'Rs. 1055', 'D': 'Data inadequate', 'E': 'None of these'}, 'rationale': \"Let's break down the problem step by step.\\n\\nGiven:\\n\\n1. Principal (P) = Rs. 825\\n2. Amount after 3 years (A) = Rs. 956\\n\\nWe need to find the rate of interest (R) at which P becomes A in 3 years. We'll use the formula for simple interest:\\n\\nSimple Interest (SI) = (P × R × T)/100\\n\\nwhere T is the time period, which is 3 years here.\\n\\nFirst, let's calculate the SI for the given scenario:\\n\\nA = P + SI\\n956 = 825 + (SI)\\nSI = 131\\n\\nNow, we can use the formula to find the rate of interest (R):\\n\\nSI = (P × R × T)/100\\n131 = (825 × R × 3)/100\\n131 = 24.75R\\nR = 131/24.75 ≈ 5.29%\\n\\nThis is the original rate of interest.\\n\\nNow, let's consider what happens when the rate of interest is increased by 4%:\\n\\nNew Rate (R') = Original Rate + Increase in Rate\\n= 5.29% + 4%\\n= 9.29%\\n\\nWe need to find the new amount that Rs. 825 will become in 3 years at this increased rate.\\n\\nUsing the simple interest formula, we can calculate the new SI:\\n\\nNew SI = (P × R' × T)/100\\n= (825 × 9.29% × 3)/100\\n= 23.61\\n\\nNow, add this new SI to the principal to find the new amount:\\n\\nNew Amount = P + New SI\\n= 825 + 23.61\\n≈ Rs. 848.61\\n\\nHowever, we're asked for a multiple-choice answer, and none of the options match our calculation. This is because we assumed that the interest is compounded annually, but the question doesn't specify this.\\n\\nLet's try another approach using compound interest formula (since it's not specified to be simple interest):\\n\\nAmount after 3 years = P × (1 + R)^T\\n\\nUsing the original rate of interest (5.29%), we get:\\n\\nA = 825 × (1 + 0.0529)^3\\n≈ Rs. 1055\\n\\nThis is the amount that would become in 3 years if the interest is compounded annually.\\n\\nSo, the correct answer is:\\n\\nC: Rs. 1055\", 'answer': 'C'}\n"
     ]
    }
   ],
   "source": [
    "new_correct_pairs = []\n",
    "\n",
    "# Process the incorrect answers\n",
    "for pair in incorrect_pairs:\n",
    "    question = pair['question']\n",
    "    options = pair['options']\n",
    "    correct_answer = pair['correct_answer']\n",
    "\n",
    "    # Generate the rationale with the correct answer as a hint\n",
    "    generated_rationale = rationalize(question, options, correct_answer, prompt_set)\n",
    "\n",
    "    # Add the rationalized example to correct_pairs\n",
    "    new_correct_pairs.append({\n",
    "        'question': question,\n",
    "        'options': options,\n",
    "        'rationale': generated_rationale,\n",
    "        'answer': correct_answer\n",
    "    })\n",
    "\n",
    "    print({\n",
    "        'question': question,\n",
    "        'options': options,\n",
    "        'rationale': generated_rationale,\n",
    "        'answer': correct_answer\n",
    "    })"
   ]
  },
  {
   "cell_type": "markdown",
   "metadata": {},
   "source": [
    "### Converting our corrected pairs into a structure the Llama3.1 model will understand for fine tuning."
   ]
  },
  {
   "cell_type": "code",
   "execution_count": 47,
   "metadata": {},
   "outputs": [
    {
     "name": "stdout",
     "output_type": "stream",
     "text": [
      "DatasetDict({\n",
      "    train: Dataset({\n",
      "        features: ['conversations'],\n",
      "        num_rows: 5\n",
      "    })\n",
      "})\n",
      "{'conversations': [{'from': 'human', 'value': \"Question: Rs. 825 becomes Rs. 956 in 3 years at a certain rate of simple interest.If the rate of interest is increased by 4% ,What amount will Rs. 825 become in 3 years ?\\nOptions:\\nA: Rs. 1020.80\\nB: Rs. 1025\\nC: Rs. 1055\\nD: Data inadequate\\nE: None of these\\n\\nPlease provide the correct answer and a detailed rationale explaining why it's correct.\"}, {'from': 'gpt', 'value': \"C\\nRationale: To solve this problem, we need to find the original rate of interest and then calculate the new amount.\\n\\n**Step 1: Find the original rate of interest**\\n\\nWe know that Rs. 825 becomes Rs. 956 in 3 years at a certain rate of simple interest. We can use the formula for simple interest:\\n\\nSimple Interest (SI) = (Principal × Rate × Time) / 100\\n\\nHere, Principal = Rs. 825, Time = 3 years, and we need to find the Rate.\\n\\nFirst, let's calculate the Simple Interest (SI):\\n\\nSI = Rs. 956 - Rs. 825 = Rs. 131\\n\\nNow, we can use the formula:\\n\\nRs. 131 = (Rs. 825 × Rate × 3) / 100\\n\\nSimplifying this equation, we get:\\n\\nRate = (Rs. 131 × 100) / (Rs. 825 × 3)\\n= 5.55%\\n\\n**Step 2: Calculate the new rate of interest**\\n\\nThe original rate of interest is 5.55%. If this rate is increased by 4%, the new rate becomes:\\n\\nNew Rate = 5.55% + 4%\\n= 9.55%\\n\\n**Step 3: Find the new amount after 3 years at the new rate**\\n\\nNow, we need to find the new amount after 3 years at the increased rate of 9.55%. We can use the same formula for simple interest:\\n\\nNew Amount = Principal + (Principal × New Rate × Time) / 100\\n\\nHere, Principal = Rs. 825, New Rate = 9.55%, and Time = 3 years.\\n\\nFirst, calculate the new Simple Interest (SI):\\n\\nNew SI = Rs. 825 × 9.55% × 3\\n= Rs. 239.13\\n\\nNow, add this to the principal:\\n\\nNew Amount = Rs. 825 + Rs. 239.13\\n= Rs. 1064.13\\n\\nRounding off to two decimal places (as in option C), we get:\\n\\nNew Amount ≈ Rs. 1055\\n\\nTherefore, the correct answer is **C: Rs. 1055**.\\n\\nThis explanation provides a step-by-step solution to the problem, ensuring that all calculations are accurate and justified.\"}]}\n"
     ]
    }
   ],
   "source": [
    "from datasets import Dataset, DatasetDict\n",
    "\n",
    "\n",
    "def convert_correct_pairs_to_conversations(correct_pairs):\n",
    "    \"\"\"\n",
    "    Converts correct_pairs into the desired conversations format.\n",
    "\n",
    "    Parameters:\n",
    "        correct_pairs (list): List of dictionaries containing question, options, correct_answer, and rationale.\n",
    "\n",
    "    Returns:\n",
    "        list: A list of conversations formatted for fine-tuning.\n",
    "    \"\"\"\n",
    "    conversations = []\n",
    "    \n",
    "    for pair in correct_pairs:\n",
    "        question = pair['question']\n",
    "        options = pair['options']\n",
    "        correct_answer = pair['answer']\n",
    "        rationale = pair['rationale']\n",
    "        \n",
    "        # Construct options text\n",
    "        options_text = '\\n'.join([f\"{key}: {value}\" for key, value in options.items()])\n",
    "        \n",
    "        # Human prompt\n",
    "        human_value = (\n",
    "            f\"Question: {question}\\n\"\n",
    "            f\"Options:\\n{options_text}\\n\\n\"\n",
    "            f\"Please provide the correct answer and a detailed rationale explaining why it's correct.\"\n",
    "        )\n",
    "        \n",
    "        # GPT response\n",
    "        gpt_value = (\n",
    "            f\"{correct_answer}\\nRationale: {rationale}\"\n",
    "        )\n",
    "        \n",
    "        # Append the conversation as a separate list\n",
    "        conversation = [\n",
    "            { \"from\": \"human\", \"value\": human_value },\n",
    "            { \"from\": \"gpt\", \"value\": gpt_value }\n",
    "        ]\n",
    "        \n",
    "        conversations.append(conversation)\n",
    "    \n",
    "    return conversations\n",
    "\n",
    "conversations = convert_correct_pairs_to_conversations(correct_pairs)\n",
    "\n",
    "# Create a Hugging Face Dataset\n",
    "dataset = Dataset.from_dict({\"conversations\": conversations})\n",
    "\n",
    "# Create a DatasetDict with only the 'train' split\n",
    "dataset_dict = DatasetDict({\n",
    "    \"train\": dataset\n",
    "})\n",
    "\n",
    "# Optionally, shuffle the dataset\n",
    "dataset_dict[\"train\"] = dataset_dict[\"train\"].shuffle(seed=42)\n",
    "\n",
    "# Verify the structure\n",
    "print(dataset_dict)\n",
    "print(dataset_dict[\"train\"][0])  # Print the first conversation"
   ]
  },
  {
   "cell_type": "markdown",
   "metadata": {},
   "source": [
    "### Save dataset to JSONL format"
   ]
  },
  {
   "cell_type": "code",
   "execution_count": 48,
   "metadata": {},
   "outputs": [
    {
     "name": "stdout",
     "output_type": "stream",
     "text": [
      "Dataset successfully saved to finetuning_data.jsonl\n"
     ]
    }
   ],
   "source": [
    "import json\n",
    "\n",
    "def save_dataset_to_jsonl(dataset_dict, file_path='finetuning_data.jsonl'):\n",
    "    \"\"\"\n",
    "    Saves the conversations in dataset_dict to a JSONL file.\n",
    "    \n",
    "    Parameters:\n",
    "        dataset_dict (DatasetDict): The dataset to save.\n",
    "        file_path (str): The path to the output JSONL file.\n",
    "        \n",
    "    Returns:\n",
    "        None\n",
    "    \"\"\"\n",
    "    with open(file_path, 'w', encoding='utf-8') as f:\n",
    "        for conversation in dataset_dict[\"train\"][\"conversations\"]:\n",
    "            json_line = json.dumps(conversation)\n",
    "            f.write(json_line + '\\n')\n",
    "    print(f\"Dataset successfully saved to {file_path}\")\n",
    "\n",
    "# Usage\n",
    "save_dataset_to_jsonl(dataset_dict, 'finetuning_data.jsonl')"
   ]
  },
  {
   "cell_type": "markdown",
   "metadata": {},
   "source": [
    "### Load dataset from JSONL (for appending new data)"
   ]
  },
  {
   "cell_type": "code",
   "execution_count": null,
   "metadata": {},
   "outputs": [],
   "source": [
    "def load_dataset_from_jsonl(file_path='finetuning_data.jsonl', validation_split=0.1):\n",
    "    \"\"\"\n",
    "    Loads conversations from a JSONL file and splits them into train and validation sets.\n",
    "\n",
    "    Parameters:\n",
    "        file_path (str): Path to the JSONL file.\n",
    "        validation_split (float): Proportion of data to use for validation.\n",
    "\n",
    "    Returns:\n",
    "        DatasetDict: A DatasetDict with 'train' and 'validation' splits.\n",
    "    \"\"\"\n",
    "    dataset = Dataset.from_json(file_path)\n",
    "    dataset = dataset.train_test_split(test_size=validation_split, seed=42)\n",
    "    dataset_dict = DatasetDict({\n",
    "        \"train\": dataset[\"train\"],\n",
    "        \"validation\": dataset[\"test\"]\n",
    "    })\n",
    "    print(f\"Loaded dataset with {len(dataset_dict['train'])} training and {len(dataset_dict['validation'])} validation conversations.\")\n",
    "    return dataset_dict"
   ]
  },
  {
   "cell_type": "markdown",
   "metadata": {},
   "source": [
    "### Appending New Data"
   ]
  },
  {
   "cell_type": "code",
   "execution_count": 50,
   "metadata": {},
   "outputs": [
    {
     "name": "stdout",
     "output_type": "stream",
     "text": [
      "Successfully appended 5 conversations to finetuning_data.jsonl\n"
     ]
    }
   ],
   "source": [
    "new_conversations = convert_correct_pairs_to_conversations(new_correct_pairs)\n",
    "\n",
    "def append_conversations_to_jsonl(conversations, file_path='finetuning_data.jsonl'):\n",
    "    \"\"\"\n",
    "    Appends a list of conversations to an existing JSONL file.\n",
    "\n",
    "    Parameters:\n",
    "        conversations (list): List of conversations to append.\n",
    "        file_path (str): Path to the existing JSONL file.\n",
    "\n",
    "    Returns:\n",
    "        None\n",
    "    \"\"\"\n",
    "    with open(file_path, 'a', encoding='utf-8') as f:\n",
    "        for convo in conversations:\n",
    "            json_line = json.dumps(convo)\n",
    "            f.write(json_line + '\\n')\n",
    "    print(f\"Successfully appended {len(conversations)} conversations to {file_path}\")\n",
    "    \n",
    "# Usage\n",
    "append_conversations_to_jsonl(new_conversations, 'finetuning_data.jsonl')"
   ]
  },
  {
   "cell_type": "code",
   "execution_count": null,
   "metadata": {},
   "outputs": [],
   "source": []
  }
 ],
 "metadata": {
  "kernelspec": {
   "display_name": ".venv",
   "language": "python",
   "name": "python3"
  },
  "language_info": {
   "codemirror_mode": {
    "name": "ipython",
    "version": 3
   },
   "file_extension": ".py",
   "mimetype": "text/x-python",
   "name": "python",
   "nbconvert_exporter": "python",
   "pygments_lexer": "ipython3",
   "version": "3.11.3"
  }
 },
 "nbformat": 4,
 "nbformat_minor": 2
}
