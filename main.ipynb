{
 "cells": [
  {
   "cell_type": "code",
   "execution_count": 74,
   "metadata": {},
   "outputs": [],
   "source": [
    "import re\n",
    "import ollama\n",
    "from src.data_loading import load_data\n",
    "from src.parsing import parse_options\n",
    "from src.rationale_generation import generate_rationale_and_answer\n",
    "from src.utils import is_rationale_correct\n",
    "from src.rationalization import rationalize\n",
    "from src.prompt_generation import create_prompt_examples, create_prompt_set, clean_options, get_correct_answer_text"
   ]
  },
  {
   "cell_type": "code",
   "execution_count": 113,
   "metadata": {},
   "outputs": [],
   "source": [
    "NUM_PROMPT_EXAMPLES = 5 # number of prompt examples\n",
    "NUM_EXAMPLES_TO_PROCESS = 7 # number of examples to process"
   ]
  },
  {
   "cell_type": "markdown",
   "metadata": {},
   "source": [
    "### Load Dataset"
   ]
  },
  {
   "cell_type": "code",
   "execution_count": 114,
   "metadata": {},
   "outputs": [
    {
     "name": "stdout",
     "output_type": "stream",
     "text": [
      "Dataset({\n",
      "    features: ['question', 'options', 'rationale', 'correct'],\n",
      "    num_rows: 7\n",
      "})\n"
     ]
    }
   ],
   "source": [
    "ds_train = load_data()\n",
    "\n",
    "# Step 1: Select the desired range from ds_train\n",
    "dataset_D = ds_train.select(range(NUM_PROMPT_EXAMPLES, len(ds_train)))\n",
    "\n",
    "# Step 2: Shuffle the selected dataset\n",
    "dataset_D_shuffled = dataset_D.shuffle()  # Use any seed you prefer\n",
    "\n",
    "# Step 3: Select a subset of examples to process\n",
    "dataset_D_subset = dataset_D_shuffled.select(range(NUM_EXAMPLES_TO_PROCESS))\n",
    "\n",
    "print(dataset_D_subset)"
   ]
  },
  {
   "cell_type": "markdown",
   "metadata": {},
   "source": [
    "### Create prompt examples"
   ]
  },
  {
   "cell_type": "code",
   "execution_count": 115,
   "metadata": {},
   "outputs": [
    {
     "data": {
      "text/plain": [
       "[{'question': \"Two friends plan to walk along a 43-km trail, starting at opposite ends of the trail at the same time. If Friend P's rate is 15% faster than Friend Q's, how many kilometers will Friend P have walked when they pass each other?\",\n",
       "  'rationale': 'If Q complete x kilometers, then P completes 1.15x kilometers.\\nx + 1.15x = 43\\n2.15x=43\\nx = 43/2.15 = 20\\nThen P will have have walked 1.15*20=23 km.\\nThe answer is E.',\n",
       "  'answer': 'E'},\n",
       " {'question': 'In the coordinate plane, points (x, 1) and (5, y) are on line k. If line k passes through the origin and has slope 1/5, then what are the values of x and y respectively?',\n",
       "  'rationale': 'Line k passes through the origin and has slope 1/5 means that its equation is y=1/5*x.\\nThus: (x, 1)=(5, 1) and (5, y) = (5,1) -->x=5 and y=1\\nAnswer: C',\n",
       "  'answer': 'C'},\n",
       " {'question': 'For all numbers p and q, the operation @ is defined by p@q = p^2 - pq. If xy ≠ 0, then which of the following can be equal to zero?\\nI. x@y\\nII. (xy)@y\\nIII. x@(x + y)',\n",
       "  'rationale': 'p@q = p^2 - pq=p(p-q).... so p@q will be zero if p=q or p=0.. but a cannot be equal to 0.. as per Q, x and y can take any int value except 0...\\nnow lets look at the choices..\\nwhen x=y, it will be 0... so ok...\\nwhen we put xy=y, it is possible when x=1 and y any integer... so ok again\\nwhen we put x=x+y.... only possibility when y=0 and it is given x and y cannot be 0....so not possible\\nonly l and ll possible ans B....',\n",
       "  'answer': 'B'},\n",
       " {'question': 'Carl is facing very difficult financial times and can only pay the interest on a $10,000 loan he has taken. The bank charges him a quarterly compound rate of 4%. What is the approximate interest he pays annually?',\n",
       "  'rationale': 'Usually, you are given the annual rate of interest and it is mentioned that it is annual rate.\\nThe bank charges him a quarterly compounded ANNUAL rate of 16%.\\nHere you find per quarter rate as (16/4)% = 4%\\nI have actually never seen a question with quarter rate given but since this question did not mentionannual rate of interestand since the options did not make sense with 4% annual rate of interest, it is apparent that the intent was a 4% quarterly rate. So the bank charges 4% every quarter and compounds it in the next quarter. Had it been a simple quarterly rate, we would have just found 4 * 4% of 10,000 = $1600 as our answer.\\nBut since, the interest is compounded, it will be a bit more than $1600. Option (A) looks correct.',\n",
       "  'answer': 'A'},\n",
       " {'question': 'The speed at which a man can row a boat in still water is 25 kmph. If he rows downstream, where the speed of current is 11 kmph, what time will he take to cover 80 metres?',\n",
       "  'rationale': 'Speed of the boat downstream = 25 +11\\n= 36 kmph\\n= 36 * 5/18 = 10 m/s\\nHence time taken to cover 80 m = 80/10\\n= 8 seconds.\\nAnswer:E',\n",
       "  'answer': 'E'}]"
      ]
     },
     "execution_count": 115,
     "metadata": {},
     "output_type": "execute_result"
    }
   ],
   "source": [
    "prompt_examples = create_prompt_examples(ds_train, NUM_PROMPT_EXAMPLES)\n",
    "\n",
    "prompt_examples"
   ]
  },
  {
   "cell_type": "markdown",
   "metadata": {},
   "source": [
    "### Create Prompt Sets"
   ]
  },
  {
   "cell_type": "code",
   "execution_count": 116,
   "metadata": {},
   "outputs": [
    {
     "name": "stdout",
     "output_type": "stream",
     "text": [
      "Question: Two friends plan to walk along a 43-km trail, starting at opposite ends of the trail at the same time. If Friend P's rate is 15% faster than Friend Q's, how many kilometers will Friend P have walked when they pass each other?\n",
      "Answer Explanation: If Q complete x kilometers, then P completes 1.15x kilometers.\\nx + 1.15x = 43\\n2.15x=43\\nx = 43/2.15 = 20\\nThen P will have have walked 1.15*20=23 km.\\nThe answer is E.\n",
      "Answer: 23\n",
      "###\n",
      "Question: In the coordinate plane, points (x, 1) and (5, y) are on line k. If line k passes through the origin and has slope 1/5, then what are the values of x and y respectively?\n",
      "Answer Explanation: Line k passes through the origin and has slope 1/5 means that its equation is y=1/5*x.\\nThus: (x, 1)=(5, 1) and (5, y) = (5,1) -->x=5 and y=1\\nAnswer: C\n",
      "Answer: 5 and 1\n",
      "###\n",
      "Question: For all numbers p and q, the operation @ is defined by p@q = p^2 - pq. If xy ≠ 0, then which of the following can be equal to zero?\n",
      "I. x@y\n",
      "II. (xy)@y\n",
      "III. x@(x + y)\n",
      "Answer Explanation: p@q = p^2 - pq=p(p-q).... so p@q will be zero if p=q or p=0.. but a cannot be equal to 0.. as per Q, x and y can take any int value except 0...\\nnow lets look at the choices..\\nwhen x=y, it will be 0... so ok...\\nwhen we put xy=y, it is possible when x=1 and y any integer... so ok again\\nwhen we put x=x+y.... only possibility when y=0 and it is given x and y cannot be 0....so not possible\\nonly l and ll possible ans B....\n",
      "Answer: I and II\n",
      "###\n",
      "Question: Carl is facing very difficult financial times and can only pay the interest on a $10,000 loan he has taken. The bank charges him a quarterly compound rate of 4%. What is the approximate interest he pays annually?\n",
      "Answer Explanation: Usually, you are given the annual rate of interest and it is mentioned that it is annual rate.\\nThe bank charges him a quarterly compounded ANNUAL rate of 16%.\\nHere you find per quarter rate as (16/4)% = 4%\\nI have actually never seen a question with quarter rate given but since this question did not mentionannual rate of interestand since the options did not make sense with 4% annual rate of interest, it is apparent that the intent was a 4% quarterly rate. So the bank charges 4% every quarter and compounds it in the next quarter. Had it been a simple quarterly rate, we would have just found 4 * 4% of 10,000 = $1600 as our answer.\\nBut since, the interest is compounded, it will be a bit more than $1600. Option (A) looks correct.\n",
      "Answer: $1600\n",
      "###\n",
      "Question: The speed at which a man can row a boat in still water is 25 kmph. If he rows downstream, where the speed of current is 11 kmph, what time will he take to cover 80 metres?\n",
      "Answer Explanation: Speed of the boat downstream = 25 +11\\n= 36 kmph\\n= 36 * 5/18 = 10 m/s\\nHence time taken to cover 80 m = 80/10\\n= 8 seconds.\\nAnswer:E\n",
      "Answer: 8 seconds\n",
      "###\n",
      "\n"
     ]
    }
   ],
   "source": [
    "prompt_set = create_prompt_set(ds_train, NUM_PROMPT_EXAMPLES)\n",
    "print(prompt_set)"
   ]
  },
  {
   "cell_type": "markdown",
   "metadata": {},
   "source": [
    "### Initialize lists to hold correct and incorrect pairs"
   ]
  },
  {
   "cell_type": "code",
   "execution_count": 134,
   "metadata": {},
   "outputs": [],
   "source": [
    "correct_pairs = []\n",
    "incorrect_pairs = []\n",
    "unanswered_paris = []"
   ]
  },
  {
   "cell_type": "markdown",
   "metadata": {},
   "source": [
    "### Iterate over each example in the subset"
   ]
  },
  {
   "cell_type": "code",
   "execution_count": 135,
   "metadata": {},
   "outputs": [],
   "source": [
    "def extract_answer_text(rationale):\n",
    "    \"\"\"\n",
    "    Extracts the answer text from the rationale using regex.\n",
    "    \n",
    "    Args:\n",
    "        rationale (str): Generated rationale string.\n",
    "    \n",
    "    Returns:\n",
    "        str or None: Extracted answer text if found, else None.\n",
    "    \"\"\"\n",
    "    # Attempt to extract the answer text after 'Answer:'\n",
    "    match = re.search(r'Answer:\\s*(.+)', rationale, re.IGNORECASE)\n",
    "    if match:\n",
    "        return match.group(1)\n",
    "    return None"
   ]
  },
  {
   "cell_type": "code",
   "execution_count": 136,
   "metadata": {},
   "outputs": [
    {
     "name": "stdout",
     "output_type": "stream",
     "text": [
      "correct_answer_text: 125\n",
      "clean options: ['A) 75', 'B) 100', 'C) 125', 'D) 175', 'E) 225']\n",
      "extracted answer: 125\n",
      "correct\n",
      "Correct: {'question': 'There are 750 male and female participants in a meeting. Half the female participants and one-quarterof the male participants are Democrats. One-third of all the participants are Democrats. How many of the Democrats are female?', 'rationale': \"Let's break down the problem step by step:\\n\\n1. We know that half the female participants and one-quarter of the male participants are Democrats.\\n\\nLet F be the number of female participants and M be the number of male participants. Since there are 750 total participants, we can write an equation:\\n\\nF + M = 750\\n\\n2. According to the problem, half the female participants are Democrats, so the number of Democratic female participants is F/2.\\n\\nSimilarly, one-quarter of the male participants are Democrats, so the number of Democratic male participants is M/4.\\n\\n3. We are also told that one-third of all the participants are Democrats. This means that the total number of Democratic participants (both male and female) is 1/3 * 750 = 250.\\n\\nSince we know the number of Democratic participants comes from both male and female, we can write another equation:\\n\\nF/2 + M/4 = 250\\n\\nMultiplying this equation by 4 to get rid of the fractions gives us:\\n\\n2F + M = 1000\\n\\n4. We have two equations now: F + M = 750 (from step 1) and 2F + M = 1000 (from step 3).\\n\\nSubtracting the first equation from the second, we get:\\n\\n2F + M - (F + M) = 1000 - 750\\nF = 250\\n\\n5. Now that we know F, we can find M by substituting F into one of our earlier equations:\\n\\nF + M = 750\\n250 + M = 750\\nM = 500\\n\\n6. Finally, to find how many Democrats are female, we divide the number of Democratic females (F/2) by the total number of Democratic participants (250):\\n\\nNumber of Democratic females = F/2 = 250/2 = 125\\n\\nAnswer: 125\", 'answer': '125'}\n",
      "Processed 1 questions.\n",
      "\n",
      "correct_answer_text: Rs.44\n",
      "clean options: ['A) Rs.45', 'B) Rs.78', 'C) Rs.44', 'D) Rs.40', 'E) Rs.46']\n",
      "extracted answer: Answer: £43.98\n",
      "correct\n",
      "Correct: {'question': 'A circular path of 13 m radius has marginal walk 2 m wide all round it. Find the cost of leveling the walk at 25p per m2?', 'rationale': 'To find the cost of leveling the walk, we first need to calculate the area of the walk.\\n\\nThe total width of the path is the sum of its radius and the marginal walk:\\n13 m (radius) + 2 m (marginal walk) = 15 m\\n15 m / 2 = 7.5 m (width of the outer boundary)\\n7.5 m - 6 m (original diameter) = 1.5 m (width of the marginal walk)\\n\\nThe area of the walk can be found by subtracting the area of the original circle from the area of the larger circle:\\nArea of the larger circle: π × (15 m)^2\\nArea of the original circle: π × (13 m)^2\\n\\nUsing the formula for the area of a circle (A = πr^2), we can calculate the areas:\\nArea of the larger circle: ≈ 3.14159 × 225 m^2 ≈ 706.8587 m^2\\nArea of the original circle: ≈ 3.14159 × 169 m^2 ≈ 530.9291 m^2\\n\\nNow, subtract the area of the original circle from the area of the larger circle to find the area of the walk:\\n706.8587 m^2 - 530.9291 m^2 = 175.9296 m^2 (approximately)\\n\\nTo find the cost of leveling the walk at 25p per m^2, we multiply the area by the cost per square meter:\\nCost = Area × Cost per m^2\\n= 175.9296 m^2 × 0.25 £/m^2 (since 25p = 0.25£)\\n≈ 43.9824 £\\n\\nRounding to two decimal places, we get the final answer:\\n\\nAnswer: £43.98', 'answer': 'Answer: £43.98'}\n",
      "Processed 2 questions.\n",
      "\n",
      "correct_answer_text: Rs. 1000\n",
      "clean options: ['A) Rs. 1500', 'B) Rs. 1000', 'C) Rs. 1200', 'D) Rs. 1400', 'E) Rs. 1600']\n",
      "extracted answer: $1000\n",
      "correct\n",
      "Correct: {'question': 'A sum is invested for 3 years compounded at 5%, 10% and 20 % respectively. In three years, if the sum amounts to Rs. 1386, then find the sum.', 'rationale': \"To find the initial sum that was invested, we can use the formula for compound interest:\\n\\nA = P(1 + r/100)^n\\n\\nwhere A is the final amount, P is the principal (initial) amount, r is the annual interest rate, and n is the number of years.\\n\\nIn this case, we have three different interest rates for each year, so we will apply the formula separately for each year and then multiply the results to get the final amount after three years.\\n\\nLet's denote the initial sum as P. After one year at 5%, the amount becomes:\\n\\nA1 = P(1 + 0.05)^1\\n= P(1.05)\\n\\nAfter two years, we add the interest for the second year (10%) to A1:\\n\\nA2 = A1(1 + 0.10)^1\\n= P(1.05)(1.10)\\n= P(1.05)(1.10)\\n= P(1.155)\\n\\nFinally, after three years, we add the interest for the third year (20%) to A2:\\n\\nA3 = A2(1 + 0.20)^1\\n= P(1.155)(1.20)\\n= P(1.155)(1.20)\\n= P(1.386)\\n\\nWe are given that A3 = Rs. 1386, so we can solve for P:\\n\\nP(1.386) = 1386\\n\\nDividing both sides by 1.386 gives us the initial sum:\\n\\nP = 1386 / 1.386\\n= 1000\\n\\nTherefore, the initial sum was Rs. 1000.\\n\\nAnswer: $1000\", 'answer': '$1000'}\n",
      "Processed 3 questions.\n",
      "\n",
      "correct_answer_text: 6\n",
      "clean options: ['A) 4', 'B) 6', 'C) 5', 'D) 7', 'E) 8']\n",
      "extracted answer: 7\n",
      "incorrect\n",
      "Incorrect: {'question': 'If x is an integer and y = 3x + 4, which of the following CANNOT be a divisor of y?', 'rationale': \"Let's analyze the problem step by step.\\n\\nWe are given that x is an integer and y = 3x + 4. We need to find a value that cannot be a divisor of y.\\n\\nStep 1: Let's try to understand how y is related to x. The expression y = 3x + 4 shows that y is obtained by adding 4 to the product of 3 and an integer (x).\\n\\nStep 2: Since x is an integer, the value of y will be determined by the sum of a multiple of 3 and 4.\\n\\nStep 3: We need to find a divisor that cannot divide y. To do this, let's analyze the possible divisors of y.\\n\\nSuppose y has a divisor d. Then, there exists an integer k such that y = kd.\\n\\nSubstituting y = 3x + 4 into this equation, we get:\\n\\n3x + 4 = kd\\n\\nStep 4: Rearranging the equation to isolate x, we have:\\n\\n3x = kd - 4\\n\\nSince 3 and d are relatively prime (d is a divisor of y), there exists an integer p such that:\\n\\n3p ≡ -4 (mod d)\\n\\nThis implies that d divides 12.\\n\\nStep 5: Now, let's examine the possible values of d. If d = 1 or 2, then any value can be a divisor of y. However, if d = 3 or 6, there are certain conditions on the integer k for which y will be divisible by 3 or 6.\\n\\nStep 6: If we take d > 6, say d = 7, we need to find an x that satisfies:\\n\\n3x ≡ -4 (mod 7)\\n\\nThis is equivalent to finding a solution to 3x ≡ 3 (mod 7).\\n\\nThe modular arithmetic shows that there are no solutions for x in this case.\\n\\nStep 7: Therefore, the value d = 7 cannot divide y.\\n\\n\\nAnswer: 7\", 'answer': '7'}\n",
      "Processed 4 questions.\n",
      "\n",
      "correct_answer_text: Rs. 3000\n",
      "clean options: ['A) Rs. 3000', 'B) Rs. 3250', 'C) Rs. 3500', 'D) Rs. 3750', 'E) None of these']\n",
      "extracted answer: Rs. 3000\n",
      "correct\n",
      "Correct: {'question': 'What will be the income tax payable by a person getting a taxable income of Rs. 30,000 during the year if the first Rs. 18000 is not taxable and the tax rates arc 25% of the next Rs. 25000 ?', 'rationale': \"To find the income tax payable, we need to calculate the tax on the taxable income.\\n\\nFirst, we subtract the non-taxable amount (Rs. 18,000) from the total income (Rs. 30,000).\\n\\nTaxable income = Total income - Non-taxable amount\\n= Rs. 30,000 - Rs. 18,000\\n= Rs. 12,000\\n\\nThe next step is to find out which part of the taxable income falls within the tax brackets specified.\\n\\nIn this case, we have a non-taxable amount (Rs. 18,000), followed by a tax slab of 25% on the next Rs. 25,000.\\n\\nWe already know that the taxable income is Rs. 12,000, which means it falls entirely within the first tax slab (Rs. 0 to Rs. 18,000) and doesn't extend into the second tax slab (Rs. 18,000 to Rs. 43,000).\\n\\nTherefore, we need to calculate the tax on the entire taxable income of Rs. 12,000.\\n\\nTax = Taxable income x Tax rate\\n= Rs. 12,000 x 25%\\n= Rs. 3,000\\n\\nSo, the income tax payable by the person is Rs. 3,000.\\n\\nAnswer: Rs. 3000\", 'answer': 'Rs. 3000'}\n",
      "Processed 5 questions.\n",
      "\n",
      "correct_answer_text: 0\n",
      "clean options: ['A) 0', 'B) 1', 'C) 2', 'D) 3', 'E) -1']\n",
      "extracted answer: 0\n",
      "correct\n",
      "Correct: {'question': 'The number that does not have a reciprocal is ____________.', 'rationale': \"To find the number that does not have a reciprocal, we need to understand what a reciprocal is. A reciprocal of a number is 1 divided by that number. For example, the reciprocal of 2 is 1/2 or 0.5.\\n\\nThe problem states that the number that does not have a reciprocal is ____________.\\n\\nTo find this number, let's consider what happens when we try to find the reciprocal of zero (0). The reciprocal of 0 would be 1/0, which is undefined in mathematics. This is because division by zero is not allowed in mathematics.\\n\\nTherefore, the number that does not have a reciprocal is zero (0).\\n\\nAnswer: 0\", 'answer': '0'}\n",
      "Processed 6 questions.\n",
      "\n",
      "correct_answer_text: 30\n",
      "clean options: ['A) 59', 'B) 30', 'C) 63', 'D) 65', 'E) 67']\n",
      "extracted answer: 30\n",
      "correct\n",
      "Correct: {'question': 'Find the mean proportional between 25 & 36?', 'rationale': \"To find the mean proportional between 25 and 36, we need to understand what a mean proportional is. A mean proportional between two numbers is a number that can be squared to get one of the original numbers when multiplied by the other.\\n\\nLet's denote the mean proportional as x. So, we have:\\n\\nx^2 = 25 * 36\\n\\nTo find x, we can take the square root of both sides:\\n\\nx = √(25 * 36)\\n\\nFirst, let's calculate the product of 25 and 36:\\n\\n25 * 36 = 900\\n\\nNow, take the square root of 900:\\n\\nx = √900\\n= 30\\n\\nSo, the mean proportional between 25 and 36 is 30.\\n\\nAnswer: 30\", 'answer': '30'}\n",
      "Processed 7 questions.\n",
      "\n"
     ]
    }
   ],
   "source": [
    "for idx, example in enumerate(dataset_D_subset):\n",
    "    question = example['question']\n",
    "    # Map 'correct' label to answer text\n",
    "    raw_options = example['options']\n",
    "    cleaned_options = clean_options(raw_options)\n",
    "    correct_label = example['correct'].strip().upper()\n",
    "    correct_answer_text = get_correct_answer_text(cleaned_options, correct_label)\n",
    "\n",
    "    print(f\"correct_answer_text: {correct_answer_text}\")\n",
    "    print(f\"clean options: {cleaned_options}\")\n",
    "    \n",
    "    if correct_answer_text is None:\n",
    "        print(f\"Skipping example {idx} due to missing correct answer.\")\n",
    "        continue  # Skip this example\n",
    "    \n",
    "    # Generate rationale and answer\n",
    "    generated_rationale = generate_rationale_and_answer(question, prompt_set)\n",
    "    \n",
    "    # Extract the answer text from the rationale\n",
    "    extracted_answer = extract_answer_text(generated_rationale)\n",
    "    print(f\"extracted answer: {extracted_answer}\")\n",
    "\n",
    "    response = ollama.chat(model=\"llama3.1:8b\", messages=[\n",
    "            {\n",
    "                'role': 'user',\n",
    "                'content':\n",
    "                f\"\"\"\n",
    "                    Your task is to compare two numerical answers and determine if they are the same answer, ignoring differences in units or formatting.\\n\\n\n",
    "                    Comparison Rules:\\n\\n\n",
    "                    - If the answers are the same, for example, First Answer: '90' and Second Answer: '90 miles' or ( km, %, sec, ml, etc) this is a match and return 'correct' in your response.\\n\n",
    "                    - If the answers are different, consider them NOT a match and return 'incorrect' in your response.\\n\\n\n",
    "                    Ignore differences in formatting, such as trailing zeros.\\n\\n\n",
    "\n",
    "                    Compare the Following Answers:\\n\n",
    "                    First answer: {extracted_answer}\\n\n",
    "                    Second answer: {correct_answer_text}\\n\\n\n",
    "                    Respond with:\\n\n",
    "                    \"correct\" if the two answers are the same\\n\n",
    "                    \"incorrect\" if the two answers are not the same\\n\\n\n",
    "                    Please respond with only one of the above options, without any explanations.\n",
    "                \"\"\"\n",
    "            },\n",
    "     ])\n",
    "    \n",
    "    decision = response['message']['content'].strip()\n",
    "    print(decision)\n",
    "    \n",
    "    # Categorize based on extracted answer\n",
    "    if decision.lower() == \"correct\":\n",
    "        correct_pairs.append({\n",
    "            'question': question,\n",
    "            'rationale': generated_rationale,\n",
    "            'answer': extracted_answer\n",
    "        })\n",
    "        print('Correct:', {\n",
    "            'question': question,\n",
    "            'rationale': generated_rationale,\n",
    "            'answer': extracted_answer\n",
    "        })\n",
    "    elif decision.lower() == \"incorrect\":\n",
    "        incorrect_pairs.append({\n",
    "            'question': question,\n",
    "            'rationale': generated_rationale,\n",
    "            'answer': extracted_answer if extracted_answer else \"No Answer Extracted\"\n",
    "        })\n",
    "        print(\"Incorrect:\",  {\n",
    "            'question': question,\n",
    "            'rationale': generated_rationale,\n",
    "            'answer': extracted_answer if extracted_answer else \"No Answer Extracted\"\n",
    "        })\n",
    "    else:\n",
    "        unanswered_paris.append({\n",
    "            'question': question,\n",
    "            'rationale': generated_rationale,\n",
    "            'answer': extracted_answer if extracted_answer else \"No Answer Extracted\"\n",
    "        })\n",
    "        print(\"Unanswered:\",  {\n",
    "            'question': question,\n",
    "            'rationale': generated_rationale,\n",
    "            'answer': extracted_answer if extracted_answer else \"No Answer Extracted\"\n",
    "        })\n",
    "        \n",
    "\n",
    "    # Print progress every example\n",
    "    print(f\"Processed {idx + 1} questions.\\n\")"
   ]
  },
  {
   "cell_type": "code",
   "execution_count": 137,
   "metadata": {},
   "outputs": [
    {
     "data": {
      "text/plain": [
       "[{'question': 'There are 750 male and female participants in a meeting. Half the female participants and one-quarterof the male participants are Democrats. One-third of all the participants are Democrats. How many of the Democrats are female?',\n",
       "  'rationale': \"Let's break down the problem step by step:\\n\\n1. We know that half the female participants and one-quarter of the male participants are Democrats.\\n\\nLet F be the number of female participants and M be the number of male participants. Since there are 750 total participants, we can write an equation:\\n\\nF + M = 750\\n\\n2. According to the problem, half the female participants are Democrats, so the number of Democratic female participants is F/2.\\n\\nSimilarly, one-quarter of the male participants are Democrats, so the number of Democratic male participants is M/4.\\n\\n3. We are also told that one-third of all the participants are Democrats. This means that the total number of Democratic participants (both male and female) is 1/3 * 750 = 250.\\n\\nSince we know the number of Democratic participants comes from both male and female, we can write another equation:\\n\\nF/2 + M/4 = 250\\n\\nMultiplying this equation by 4 to get rid of the fractions gives us:\\n\\n2F + M = 1000\\n\\n4. We have two equations now: F + M = 750 (from step 1) and 2F + M = 1000 (from step 3).\\n\\nSubtracting the first equation from the second, we get:\\n\\n2F + M - (F + M) = 1000 - 750\\nF = 250\\n\\n5. Now that we know F, we can find M by substituting F into one of our earlier equations:\\n\\nF + M = 750\\n250 + M = 750\\nM = 500\\n\\n6. Finally, to find how many Democrats are female, we divide the number of Democratic females (F/2) by the total number of Democratic participants (250):\\n\\nNumber of Democratic females = F/2 = 250/2 = 125\\n\\nAnswer: 125\",\n",
       "  'answer': '125'},\n",
       " {'question': 'A circular path of 13 m radius has marginal walk 2 m wide all round it. Find the cost of leveling the walk at 25p per m2?',\n",
       "  'rationale': 'To find the cost of leveling the walk, we first need to calculate the area of the walk.\\n\\nThe total width of the path is the sum of its radius and the marginal walk:\\n13 m (radius) + 2 m (marginal walk) = 15 m\\n15 m / 2 = 7.5 m (width of the outer boundary)\\n7.5 m - 6 m (original diameter) = 1.5 m (width of the marginal walk)\\n\\nThe area of the walk can be found by subtracting the area of the original circle from the area of the larger circle:\\nArea of the larger circle: π × (15 m)^2\\nArea of the original circle: π × (13 m)^2\\n\\nUsing the formula for the area of a circle (A = πr^2), we can calculate the areas:\\nArea of the larger circle: ≈ 3.14159 × 225 m^2 ≈ 706.8587 m^2\\nArea of the original circle: ≈ 3.14159 × 169 m^2 ≈ 530.9291 m^2\\n\\nNow, subtract the area of the original circle from the area of the larger circle to find the area of the walk:\\n706.8587 m^2 - 530.9291 m^2 = 175.9296 m^2 (approximately)\\n\\nTo find the cost of leveling the walk at 25p per m^2, we multiply the area by the cost per square meter:\\nCost = Area × Cost per m^2\\n= 175.9296 m^2 × 0.25 £/m^2 (since 25p = 0.25£)\\n≈ 43.9824 £\\n\\nRounding to two decimal places, we get the final answer:\\n\\nAnswer: £43.98',\n",
       "  'answer': 'Answer: £43.98'},\n",
       " {'question': 'A sum is invested for 3 years compounded at 5%, 10% and 20 % respectively. In three years, if the sum amounts to Rs. 1386, then find the sum.',\n",
       "  'rationale': \"To find the initial sum that was invested, we can use the formula for compound interest:\\n\\nA = P(1 + r/100)^n\\n\\nwhere A is the final amount, P is the principal (initial) amount, r is the annual interest rate, and n is the number of years.\\n\\nIn this case, we have three different interest rates for each year, so we will apply the formula separately for each year and then multiply the results to get the final amount after three years.\\n\\nLet's denote the initial sum as P. After one year at 5%, the amount becomes:\\n\\nA1 = P(1 + 0.05)^1\\n= P(1.05)\\n\\nAfter two years, we add the interest for the second year (10%) to A1:\\n\\nA2 = A1(1 + 0.10)^1\\n= P(1.05)(1.10)\\n= P(1.05)(1.10)\\n= P(1.155)\\n\\nFinally, after three years, we add the interest for the third year (20%) to A2:\\n\\nA3 = A2(1 + 0.20)^1\\n= P(1.155)(1.20)\\n= P(1.155)(1.20)\\n= P(1.386)\\n\\nWe are given that A3 = Rs. 1386, so we can solve for P:\\n\\nP(1.386) = 1386\\n\\nDividing both sides by 1.386 gives us the initial sum:\\n\\nP = 1386 / 1.386\\n= 1000\\n\\nTherefore, the initial sum was Rs. 1000.\\n\\nAnswer: $1000\",\n",
       "  'answer': '$1000'},\n",
       " {'question': 'What will be the income tax payable by a person getting a taxable income of Rs. 30,000 during the year if the first Rs. 18000 is not taxable and the tax rates arc 25% of the next Rs. 25000 ?',\n",
       "  'rationale': \"To find the income tax payable, we need to calculate the tax on the taxable income.\\n\\nFirst, we subtract the non-taxable amount (Rs. 18,000) from the total income (Rs. 30,000).\\n\\nTaxable income = Total income - Non-taxable amount\\n= Rs. 30,000 - Rs. 18,000\\n= Rs. 12,000\\n\\nThe next step is to find out which part of the taxable income falls within the tax brackets specified.\\n\\nIn this case, we have a non-taxable amount (Rs. 18,000), followed by a tax slab of 25% on the next Rs. 25,000.\\n\\nWe already know that the taxable income is Rs. 12,000, which means it falls entirely within the first tax slab (Rs. 0 to Rs. 18,000) and doesn't extend into the second tax slab (Rs. 18,000 to Rs. 43,000).\\n\\nTherefore, we need to calculate the tax on the entire taxable income of Rs. 12,000.\\n\\nTax = Taxable income x Tax rate\\n= Rs. 12,000 x 25%\\n= Rs. 3,000\\n\\nSo, the income tax payable by the person is Rs. 3,000.\\n\\nAnswer: Rs. 3000\",\n",
       "  'answer': 'Rs. 3000'},\n",
       " {'question': 'The number that does not have a reciprocal is ____________.',\n",
       "  'rationale': \"To find the number that does not have a reciprocal, we need to understand what a reciprocal is. A reciprocal of a number is 1 divided by that number. For example, the reciprocal of 2 is 1/2 or 0.5.\\n\\nThe problem states that the number that does not have a reciprocal is ____________.\\n\\nTo find this number, let's consider what happens when we try to find the reciprocal of zero (0). The reciprocal of 0 would be 1/0, which is undefined in mathematics. This is because division by zero is not allowed in mathematics.\\n\\nTherefore, the number that does not have a reciprocal is zero (0).\\n\\nAnswer: 0\",\n",
       "  'answer': '0'},\n",
       " {'question': 'Find the mean proportional between 25 & 36?',\n",
       "  'rationale': \"To find the mean proportional between 25 and 36, we need to understand what a mean proportional is. A mean proportional between two numbers is a number that can be squared to get one of the original numbers when multiplied by the other.\\n\\nLet's denote the mean proportional as x. So, we have:\\n\\nx^2 = 25 * 36\\n\\nTo find x, we can take the square root of both sides:\\n\\nx = √(25 * 36)\\n\\nFirst, let's calculate the product of 25 and 36:\\n\\n25 * 36 = 900\\n\\nNow, take the square root of 900:\\n\\nx = √900\\n= 30\\n\\nSo, the mean proportional between 25 and 36 is 30.\\n\\nAnswer: 30\",\n",
       "  'answer': '30'}]"
      ]
     },
     "execution_count": 137,
     "metadata": {},
     "output_type": "execute_result"
    }
   ],
   "source": [
    "correct_pairs"
   ]
  },
  {
   "cell_type": "code",
   "execution_count": 138,
   "metadata": {},
   "outputs": [
    {
     "data": {
      "text/plain": [
       "[{'question': 'If x is an integer and y = 3x + 4, which of the following CANNOT be a divisor of y?',\n",
       "  'rationale': \"Let's analyze the problem step by step.\\n\\nWe are given that x is an integer and y = 3x + 4. We need to find a value that cannot be a divisor of y.\\n\\nStep 1: Let's try to understand how y is related to x. The expression y = 3x + 4 shows that y is obtained by adding 4 to the product of 3 and an integer (x).\\n\\nStep 2: Since x is an integer, the value of y will be determined by the sum of a multiple of 3 and 4.\\n\\nStep 3: We need to find a divisor that cannot divide y. To do this, let's analyze the possible divisors of y.\\n\\nSuppose y has a divisor d. Then, there exists an integer k such that y = kd.\\n\\nSubstituting y = 3x + 4 into this equation, we get:\\n\\n3x + 4 = kd\\n\\nStep 4: Rearranging the equation to isolate x, we have:\\n\\n3x = kd - 4\\n\\nSince 3 and d are relatively prime (d is a divisor of y), there exists an integer p such that:\\n\\n3p ≡ -4 (mod d)\\n\\nThis implies that d divides 12.\\n\\nStep 5: Now, let's examine the possible values of d. If d = 1 or 2, then any value can be a divisor of y. However, if d = 3 or 6, there are certain conditions on the integer k for which y will be divisible by 3 or 6.\\n\\nStep 6: If we take d > 6, say d = 7, we need to find an x that satisfies:\\n\\n3x ≡ -4 (mod 7)\\n\\nThis is equivalent to finding a solution to 3x ≡ 3 (mod 7).\\n\\nThe modular arithmetic shows that there are no solutions for x in this case.\\n\\nStep 7: Therefore, the value d = 7 cannot divide y.\\n\\n\\nAnswer: 7\",\n",
       "  'answer': '7'}]"
      ]
     },
     "execution_count": 138,
     "metadata": {},
     "output_type": "execute_result"
    }
   ],
   "source": [
    "incorrect_pairs"
   ]
  },
  {
   "cell_type": "code",
   "execution_count": 139,
   "metadata": {},
   "outputs": [
    {
     "data": {
      "text/plain": [
       "[]"
      ]
     },
     "execution_count": 139,
     "metadata": {},
     "output_type": "execute_result"
    }
   ],
   "source": [
    "unanswered_paris"
   ]
  },
  {
   "cell_type": "code",
   "execution_count": 140,
   "metadata": {},
   "outputs": [
    {
     "name": "stdout",
     "output_type": "stream",
     "text": [
      "Total questions processed: 7\n",
      "Correct answers: 6\n",
      "Incorrect answers: 1\n",
      "Unanswered answers: 0\n",
      "Accuracy: 85.71%\n"
     ]
    }
   ],
   "source": [
    "total = len(correct_pairs) + len(incorrect_pairs) + len(unanswered_paris)\n",
    "accuracy = len(correct_pairs) / total * 100\n",
    "print(f\"Total questions processed: {total}\")\n",
    "print(f\"Correct answers: {len(correct_pairs)}\")\n",
    "print(f\"Incorrect answers: {len(incorrect_pairs)}\")\n",
    "print(f\"Unanswered answers: {len(unanswered_paris)}\")\n",
    "print(f\"Accuracy: {accuracy:.2f}%\")"
   ]
  },
  {
   "cell_type": "code",
   "execution_count": 26,
   "metadata": {},
   "outputs": [
    {
     "name": "stdout",
     "output_type": "stream",
     "text": [
      "{'question': 'Rs. 825 becomes Rs. 956 in 3 years at a certain rate of simple interest.If the rate of interest is increased by 4% ,What amount will Rs. 825 become in 3 years ?', 'options': {'A': 'Rs. 1020.80', 'B': 'Rs. 1025', 'C': 'Rs. 1055', 'D': 'Data inadequate', 'E': 'None of these'}, 'rationale': \"Let's break down the problem step by step.\\n\\nGiven:\\n\\n1. Principal (P) = Rs. 825\\n2. Amount after 3 years (A) = Rs. 956\\n\\nWe need to find the rate of interest (R) at which P becomes A in 3 years. We'll use the formula for simple interest:\\n\\nSimple Interest (SI) = (P × R × T)/100\\n\\nwhere T is the time period, which is 3 years here.\\n\\nFirst, let's calculate the SI for the given scenario:\\n\\nA = P + SI\\n956 = 825 + (SI)\\nSI = 131\\n\\nNow, we can use the formula to find the rate of interest (R):\\n\\nSI = (P × R × T)/100\\n131 = (825 × R × 3)/100\\n131 = 24.75R\\nR = 131/24.75 ≈ 5.29%\\n\\nThis is the original rate of interest.\\n\\nNow, let's consider what happens when the rate of interest is increased by 4%:\\n\\nNew Rate (R') = Original Rate + Increase in Rate\\n= 5.29% + 4%\\n= 9.29%\\n\\nWe need to find the new amount that Rs. 825 will become in 3 years at this increased rate.\\n\\nUsing the simple interest formula, we can calculate the new SI:\\n\\nNew SI = (P × R' × T)/100\\n= (825 × 9.29% × 3)/100\\n= 23.61\\n\\nNow, add this new SI to the principal to find the new amount:\\n\\nNew Amount = P + New SI\\n= 825 + 23.61\\n≈ Rs. 848.61\\n\\nHowever, we're asked for a multiple-choice answer, and none of the options match our calculation. This is because we assumed that the interest is compounded annually, but the question doesn't specify this.\\n\\nLet's try another approach using compound interest formula (since it's not specified to be simple interest):\\n\\nAmount after 3 years = P × (1 + R)^T\\n\\nUsing the original rate of interest (5.29%), we get:\\n\\nA = 825 × (1 + 0.0529)^3\\n≈ Rs. 1055\\n\\nThis is the amount that would become in 3 years if the interest is compounded annually.\\n\\nSo, the correct answer is:\\n\\nC: Rs. 1055\", 'answer': 'C'}\n"
     ]
    }
   ],
   "source": [
    "new_correct_pairs = []\n",
    "\n",
    "# Process the incorrect answers\n",
    "for pair in incorrect_pairs:\n",
    "    question = pair['question']\n",
    "    options = pair['options']\n",
    "    correct_answer = pair['correct_answer']\n",
    "\n",
    "    # Generate the rationale with the correct answer as a hint\n",
    "    generated_rationale = rationalize(question, options, correct_answer, prompt_set)\n",
    "\n",
    "    # Add the rationalized example to correct_pairs\n",
    "    new_correct_pairs.append({\n",
    "        'question': question,\n",
    "        'options': options,\n",
    "        'rationale': generated_rationale,\n",
    "        'answer': correct_answer\n",
    "    })\n",
    "\n",
    "    print({\n",
    "        'question': question,\n",
    "        'options': options,\n",
    "        'rationale': generated_rationale,\n",
    "        'answer': correct_answer\n",
    "    })"
   ]
  },
  {
   "cell_type": "markdown",
   "metadata": {},
   "source": [
    "### Converting our corrected pairs into a structure the Llama3.1 model will understand for fine tuning."
   ]
  },
  {
   "cell_type": "code",
   "execution_count": 141,
   "metadata": {},
   "outputs": [],
   "source": [
    "from datasets import Dataset, DatasetDict\n",
    "\n",
    "\n",
    "def convert_correct_pairs_to_conversations(correct_pairs):\n",
    "    \"\"\"\n",
    "    Converts correct_pairs into the desired conversations format.\n",
    "\n",
    "    Parameters:\n",
    "        correct_pairs (list): List of dictionaries containing question, options, correct_answer, and rationale.\n",
    "\n",
    "    Returns:\n",
    "        list: A list of conversations formatted for fine-tuning.\n",
    "    \"\"\"\n",
    "    conversations = []\n",
    "    \n",
    "    for pair in correct_pairs:\n",
    "        question = pair['question']\n",
    "        correct_answer = pair['answer']\n",
    "        rationale = pair['rationale']\n",
    "        \n",
    "        # Construct options text\n",
    "        # options_text = '\\n'.join([f\"{key}: {value}\" for key, value in options.items()])\n",
    "        \n",
    "        # Human prompt\n",
    "        human_value = (\n",
    "            f\"Question: {question}\\n\"\n",
    "        )\n",
    "        \n",
    "        # GPT response\n",
    "        gpt_value = (\n",
    "            f\"{correct_answer}\\nRationale: {rationale}\"\n",
    "        )\n",
    "        \n",
    "        # Append the conversation as a separate list\n",
    "        conversation = [\n",
    "            { \"from\": \"human\", \"value\": human_value },\n",
    "            { \"from\": \"gpt\", \"value\": gpt_value }\n",
    "        ]\n",
    "        \n",
    "        conversations.append(conversation)\n",
    "    \n",
    "    return conversations\n",
    "\n",
    "# conversations = convert_correct_pairs_to_conversations(correct_pairs)\n",
    "\n",
    "# # Create a Hugging Face Dataset\n",
    "# dataset = Dataset.from_dict({\"conversations\": conversations})\n",
    "\n",
    "# # Create a DatasetDict with only the 'train' split\n",
    "# dataset_dict = DatasetDict({\n",
    "#     \"train\": dataset\n",
    "# })\n",
    "\n",
    "# # Optionally, shuffle the dataset\n",
    "# dataset_dict[\"train\"] = dataset_dict[\"train\"].shuffle(seed=42)\n",
    "\n",
    "# # Verify the structure\n",
    "# print(dataset_dict)\n",
    "# print(dataset_dict[\"train\"][0])  # Print the first conversation"
   ]
  },
  {
   "cell_type": "markdown",
   "metadata": {},
   "source": [
    "### Save dataset to JSONL format"
   ]
  },
  {
   "cell_type": "code",
   "execution_count": 47,
   "metadata": {},
   "outputs": [
    {
     "name": "stdout",
     "output_type": "stream",
     "text": [
      "Dataset successfully saved to finetuning_data.jsonl\n"
     ]
    }
   ],
   "source": [
    "import json\n",
    "\n",
    "def save_dataset_to_jsonl(dataset_dict, file_path='finetuning_data.jsonl'):\n",
    "    \"\"\"\n",
    "    Saves the conversations in dataset_dict to a JSONL file.\n",
    "    \n",
    "    Parameters:\n",
    "        dataset_dict (DatasetDict): The dataset to save.\n",
    "        file_path (str): The path to the output JSONL file.\n",
    "        \n",
    "    Returns:\n",
    "        None\n",
    "    \"\"\"\n",
    "    with open(file_path, 'w', encoding='utf-8') as f:\n",
    "        for conversation in dataset_dict[\"train\"][\"conversations\"]:\n",
    "            json_line = json.dumps(conversation)\n",
    "            f.write(json_line + '\\n')\n",
    "    print(f\"Dataset successfully saved to {file_path}\")\n",
    "\n",
    "# Usage\n",
    "save_dataset_to_jsonl(dataset_dict, 'finetuning_data.jsonl')"
   ]
  },
  {
   "cell_type": "markdown",
   "metadata": {},
   "source": [
    "### Load dataset from JSONL (for appending new data)"
   ]
  },
  {
   "cell_type": "code",
   "execution_count": null,
   "metadata": {},
   "outputs": [],
   "source": [
    "def load_dataset_from_jsonl(file_path='finetuning_data.jsonl', validation_split=0.1):\n",
    "    \"\"\"\n",
    "    Loads conversations from a JSONL file and splits them into train and validation sets.\n",
    "\n",
    "    Parameters:\n",
    "        file_path (str): Path to the JSONL file.\n",
    "        validation_split (float): Proportion of data to use for validation.\n",
    "\n",
    "    Returns:\n",
    "        DatasetDict: A DatasetDict with 'train' and 'validation' splits.\n",
    "    \"\"\"\n",
    "    dataset = Dataset.from_json(file_path)\n",
    "    dataset = dataset.train_test_split(test_size=validation_split, seed=42)\n",
    "    dataset_dict = DatasetDict({\n",
    "        \"train\": dataset[\"train\"],\n",
    "        \"validation\": dataset[\"test\"]\n",
    "    })\n",
    "    print(f\"Loaded dataset with {len(dataset_dict['train'])} training and {len(dataset_dict['validation'])} validation conversations.\")\n",
    "    return dataset_dict"
   ]
  },
  {
   "cell_type": "markdown",
   "metadata": {},
   "source": [
    "### Appending New Data"
   ]
  },
  {
   "cell_type": "code",
   "execution_count": 142,
   "metadata": {},
   "outputs": [
    {
     "name": "stdout",
     "output_type": "stream",
     "text": [
      "Successfully appended 6 conversations to finetuning_data.jsonl\n"
     ]
    }
   ],
   "source": [
    "import json\n",
    "\n",
    "new_conversations = convert_correct_pairs_to_conversations(correct_pairs)\n",
    "\n",
    "def append_conversations_to_jsonl(conversations, file_path='finetuning_data.jsonl'):\n",
    "    \"\"\"\n",
    "    Appends a list of conversations to an existing JSONL file.\n",
    "\n",
    "    Parameters:\n",
    "        conversations (list): List of conversations to append.\n",
    "        file_path (str): Path to the existing JSONL file.\n",
    "\n",
    "    Returns:\n",
    "        None\n",
    "    \"\"\"\n",
    "    with open(file_path, 'a', encoding='utf-8') as f:\n",
    "        for convo in conversations:\n",
    "            json_line = json.dumps(convo)\n",
    "            f.write(json_line + '\\n')\n",
    "    print(f\"Successfully appended {len(conversations)} conversations to {file_path}\")\n",
    "    \n",
    "# Usage\n",
    "append_conversations_to_jsonl(new_conversations, 'finetuning_data.jsonl')"
   ]
  },
  {
   "cell_type": "code",
   "execution_count": null,
   "metadata": {},
   "outputs": [],
   "source": []
  }
 ],
 "metadata": {
  "kernelspec": {
   "display_name": ".venv",
   "language": "python",
   "name": "python3"
  },
  "language_info": {
   "codemirror_mode": {
    "name": "ipython",
    "version": 3
   },
   "file_extension": ".py",
   "mimetype": "text/x-python",
   "name": "python",
   "nbconvert_exporter": "python",
   "pygments_lexer": "ipython3",
   "version": "3.11.3"
  }
 },
 "nbformat": 4,
 "nbformat_minor": 2
}
