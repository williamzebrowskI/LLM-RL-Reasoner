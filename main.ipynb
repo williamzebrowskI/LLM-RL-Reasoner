{
 "cells": [
  {
   "cell_type": "code",
   "execution_count": 30,
   "metadata": {},
   "outputs": [],
   "source": [
    "import re\n",
    "import ollama\n",
    "from src.data_loading import load_data\n",
    "from src.parsing import parse_options\n",
    "from src.rationale_generation import generate_rationale_and_answer\n",
    "from src.utils import is_rationale_correct\n",
    "from src.rationalization import rationalize\n",
    "from src.prompt_generation import create_prompt_examples, create_prompt_set, clean_options, get_correct_answer_text"
   ]
  },
  {
   "cell_type": "code",
   "execution_count": 31,
   "metadata": {},
   "outputs": [],
   "source": [
    "NUM_PROMPT_EXAMPLES = 10 # number of prompt examples\n",
    "NUM_EXAMPLES_TO_PROCESS = 5 # number of examples to process"
   ]
  },
  {
   "cell_type": "markdown",
   "metadata": {},
   "source": [
    "### Load Dataset"
   ]
  },
  {
   "cell_type": "code",
   "execution_count": 32,
   "metadata": {},
   "outputs": [
    {
     "name": "stdout",
     "output_type": "stream",
     "text": [
      "Dataset({\n",
      "    features: ['question', 'options', 'rationale', 'correct'],\n",
      "    num_rows: 5\n",
      "})\n"
     ]
    }
   ],
   "source": [
    "ds_train = load_data()\n",
    "\n",
    "# Step 1: Select the desired range from ds_train\n",
    "dataset_D = ds_train.select(range(NUM_PROMPT_EXAMPLES, len(ds_train)))\n",
    "\n",
    "# Step 2: Shuffle the selected dataset\n",
    "dataset_D_shuffled = dataset_D.shuffle()  # Use any seed you prefer\n",
    "\n",
    "# Step 3: Select a subset of examples to process\n",
    "dataset_D_subset = dataset_D_shuffled.select(range(NUM_EXAMPLES_TO_PROCESS))\n",
    "\n",
    "print(dataset_D_subset)"
   ]
  },
  {
   "cell_type": "markdown",
   "metadata": {},
   "source": [
    "### Create prompt examples"
   ]
  },
  {
   "cell_type": "code",
   "execution_count": 33,
   "metadata": {},
   "outputs": [
    {
     "data": {
      "text/plain": [
       "[{'question': \"Two friends plan to walk along a 43-km trail, starting at opposite ends of the trail at the same time. If Friend P's rate is 15% faster than Friend Q's, how many kilometers will Friend P have walked when they pass each other?\",\n",
       "  'rationale': 'If Q complete x kilometers, then P completes 1.15x kilometers.\\nx + 1.15x = 43\\n2.15x=43\\nx = 43/2.15 = 20\\nThen P will have have walked 1.15*20=23 km.\\nThe answer is E.',\n",
       "  'answer': 'E'},\n",
       " {'question': 'In the coordinate plane, points (x, 1) and (5, y) are on line k. If line k passes through the origin and has slope 1/5, then what are the values of x and y respectively?',\n",
       "  'rationale': 'Line k passes through the origin and has slope 1/5 means that its equation is y=1/5*x.\\nThus: (x, 1)=(5, 1) and (5, y) = (5,1) -->x=5 and y=1\\nAnswer: C',\n",
       "  'answer': 'C'},\n",
       " {'question': 'For all numbers p and q, the operation @ is defined by p@q = p^2 - pq. If xy ≠ 0, then which of the following can be equal to zero?\\nI. x@y\\nII. (xy)@y\\nIII. x@(x + y)',\n",
       "  'rationale': 'p@q = p^2 - pq=p(p-q).... so p@q will be zero if p=q or p=0.. but a cannot be equal to 0.. as per Q, x and y can take any int value except 0...\\nnow lets look at the choices..\\nwhen x=y, it will be 0... so ok...\\nwhen we put xy=y, it is possible when x=1 and y any integer... so ok again\\nwhen we put x=x+y.... only possibility when y=0 and it is given x and y cannot be 0....so not possible\\nonly l and ll possible ans B....',\n",
       "  'answer': 'B'},\n",
       " {'question': 'Carl is facing very difficult financial times and can only pay the interest on a $10,000 loan he has taken. The bank charges him a quarterly compound rate of 4%. What is the approximate interest he pays annually?',\n",
       "  'rationale': 'Usually, you are given the annual rate of interest and it is mentioned that it is annual rate.\\nThe bank charges him a quarterly compounded ANNUAL rate of 16%.\\nHere you find per quarter rate as (16/4)% = 4%\\nI have actually never seen a question with quarter rate given but since this question did not mentionannual rate of interestand since the options did not make sense with 4% annual rate of interest, it is apparent that the intent was a 4% quarterly rate. So the bank charges 4% every quarter and compounds it in the next quarter. Had it been a simple quarterly rate, we would have just found 4 * 4% of 10,000 = $1600 as our answer.\\nBut since, the interest is compounded, it will be a bit more than $1600. Option (A) looks correct.',\n",
       "  'answer': 'A'},\n",
       " {'question': 'The speed at which a man can row a boat in still water is 25 kmph. If he rows downstream, where the speed of current is 11 kmph, what time will he take to cover 80 metres?',\n",
       "  'rationale': 'Speed of the boat downstream = 25 +11\\n= 36 kmph\\n= 36 * 5/18 = 10 m/s\\nHence time taken to cover 80 m = 80/10\\n= 8 seconds.\\nAnswer:E',\n",
       "  'answer': 'E'},\n",
       " {'question': 'There are k-2 members in a certain band, including Jim and Ellen. Two members are to be selected to attend the Grammy awards ceremony. If there are 6 possible combinations in which Jim and Ellen are not selected, what is the value of k?',\n",
       "  'rationale': 'There are k-2 members in the band, and k-4 members without Jim and Ellen.\\n(k-4)C2 = 6\\n(k-4)(k-5)/2 = 6\\n(k-4)(k-5) = 12 = 4*3\\nk = 8\\nThe answer is A.',\n",
       "  'answer': 'A'},\n",
       " {'question': 'If (x^2 + 4x - 11)/5 ≤ x + 1, then x could be represented by which of the following?',\n",
       "  'rationale': 'IMO A is correct answer\\nsolving through eqautions\\nx^2 +4x-11<= 5x+5\\n(x+3)(x-4)<=0',\n",
       "  'answer': 'A'},\n",
       " {'question': 'Find the smallest number of five digits exactly divisible by 22,33,66 and 44.',\n",
       "  'rationale': 'Smallest number of five digits is 10000.\\nRequired number must be divisible by L.C.M. of 22,33,66,44 i.e 132,\\nOn dividing 10000 by 132,we get 32 as remainder.\\nTherefore, Required number = 10000 +( 132 â€“ 32 ) = 10100.\\nAnswer is E.',\n",
       "  'answer': 'E'},\n",
       " {'question': 'The entrance fee for a fair is $5 for persons under the age of 18, and 20% more for persons older. Each ride at the fair costs $0.50. If Joe goes with her 6 years old twin brothers, and they each took 3 rides in total. How much money does Joe end up spending at the fair?',\n",
       "  'rationale': 'Total entrance fee is (2*$5) + (1.20*5)= $16\\nTotal rides fee is (0.50*3)*3= $4.50\\nTotal money spent is $20.50\\nAnswer is B',\n",
       "  'answer': 'B'},\n",
       " {'question': 'If X and Y are digits and 8XY is a 3-digit number that is divisible by 2, which of the following is a possible product of X and Y?',\n",
       "  'rationale': 'Key to this question is to remember the fact that a number divisible by 2 must end with even OR 0 (i.e Y).\\nIf Y had to be 0, product should also be 0 regardless of X.\\nOtherwise, product is a multiple of 2. Only one answer choice meets the requirement.\\nAns C.',\n",
       "  'answer': 'C'}]"
      ]
     },
     "execution_count": 33,
     "metadata": {},
     "output_type": "execute_result"
    }
   ],
   "source": [
    "prompt_examples = create_prompt_examples(ds_train, NUM_PROMPT_EXAMPLES)\n",
    "\n",
    "prompt_examples"
   ]
  },
  {
   "cell_type": "markdown",
   "metadata": {},
   "source": [
    "### Create Prompt Sets"
   ]
  },
  {
   "cell_type": "code",
   "execution_count": 34,
   "metadata": {},
   "outputs": [
    {
     "name": "stdout",
     "output_type": "stream",
     "text": [
      "Question: Two friends plan to walk along a 43-km trail, starting at opposite ends of the trail at the same time. If Friend P's rate is 15% faster than Friend Q's, how many kilometers will Friend P have walked when they pass each other?\n",
      "Answer Explanation: If Q complete x kilometers, then P completes 1.15x kilometers.\\nx + 1.15x = 43\\n2.15x=43\\nx = 43/2.15 = 20\\nThen P will have have walked 1.15*20=23 km.\\nThe answer is E.\n",
      "Answer: 23\n",
      "###\n",
      "Question: In the coordinate plane, points (x, 1) and (5, y) are on line k. If line k passes through the origin and has slope 1/5, then what are the values of x and y respectively?\n",
      "Answer Explanation: Line k passes through the origin and has slope 1/5 means that its equation is y=1/5*x.\\nThus: (x, 1)=(5, 1) and (5, y) = (5,1) -->x=5 and y=1\\nAnswer: C\n",
      "Answer: 5 and 1\n",
      "###\n",
      "Question: For all numbers p and q, the operation @ is defined by p@q = p^2 - pq. If xy ≠ 0, then which of the following can be equal to zero?\n",
      "I. x@y\n",
      "II. (xy)@y\n",
      "III. x@(x + y)\n",
      "Answer Explanation: p@q = p^2 - pq=p(p-q).... so p@q will be zero if p=q or p=0.. but a cannot be equal to 0.. as per Q, x and y can take any int value except 0...\\nnow lets look at the choices..\\nwhen x=y, it will be 0... so ok...\\nwhen we put xy=y, it is possible when x=1 and y any integer... so ok again\\nwhen we put x=x+y.... only possibility when y=0 and it is given x and y cannot be 0....so not possible\\nonly l and ll possible ans B....\n",
      "Answer: I and II\n",
      "###\n",
      "Question: Carl is facing very difficult financial times and can only pay the interest on a $10,000 loan he has taken. The bank charges him a quarterly compound rate of 4%. What is the approximate interest he pays annually?\n",
      "Answer Explanation: Usually, you are given the annual rate of interest and it is mentioned that it is annual rate.\\nThe bank charges him a quarterly compounded ANNUAL rate of 16%.\\nHere you find per quarter rate as (16/4)% = 4%\\nI have actually never seen a question with quarter rate given but since this question did not mentionannual rate of interestand since the options did not make sense with 4% annual rate of interest, it is apparent that the intent was a 4% quarterly rate. So the bank charges 4% every quarter and compounds it in the next quarter. Had it been a simple quarterly rate, we would have just found 4 * 4% of 10,000 = $1600 as our answer.\\nBut since, the interest is compounded, it will be a bit more than $1600. Option (A) looks correct.\n",
      "Answer: $1600\n",
      "###\n",
      "Question: The speed at which a man can row a boat in still water is 25 kmph. If he rows downstream, where the speed of current is 11 kmph, what time will he take to cover 80 metres?\n",
      "Answer Explanation: Speed of the boat downstream = 25 +11\\n= 36 kmph\\n= 36 * 5/18 = 10 m/s\\nHence time taken to cover 80 m = 80/10\\n= 8 seconds.\\nAnswer:E\n",
      "Answer: 8 seconds\n",
      "###\n",
      "Question: There are k-2 members in a certain band, including Jim and Ellen. Two members are to be selected to attend the Grammy awards ceremony. If there are 6 possible combinations in which Jim and Ellen are not selected, what is the value of k?\n",
      "Answer Explanation: There are k-2 members in the band, and k-4 members without Jim and Ellen.\\n(k-4)C2 = 6\\n(k-4)(k-5)/2 = 6\\n(k-4)(k-5) = 12 = 4*3\\nk = 8\\nThe answer is A.\n",
      "Answer: 8\n",
      "###\n",
      "Question: If (x^2 + 4x - 11)/5 ≤ x + 1, then x could be represented by which of the following?\n",
      "Answer Explanation: IMO A is correct answer\\nsolving through eqautions\\nx^2 +4x-11<= 5x+5\\n(x+3)(x-4)<=0\n",
      "Answer: − 3 ≤ x ≤ 4\n",
      "###\n",
      "Question: Find the smallest number of five digits exactly divisible by 22,33,66 and 44.\n",
      "Answer Explanation: Smallest number of five digits is 10000.\\nRequired number must be divisible by L.C.M. of 22,33,66,44 i.e 132,\\nOn dividing 10000 by 132,we get 32 as remainder.\\nTherefore, Required number = 10000 +( 132 â€“ 32 ) = 10100.\\nAnswer is E.\n",
      "Answer: 10100\n",
      "###\n",
      "Question: The entrance fee for a fair is $5 for persons under the age of 18, and 20% more for persons older. Each ride at the fair costs $0.50. If Joe goes with her 6 years old twin brothers, and they each took 3 rides in total. How much money does Joe end up spending at the fair?\n",
      "Answer Explanation: Total entrance fee is (2*$5) + (1.20*5)= $16\\nTotal rides fee is (0.50*3)*3= $4.50\\nTotal money spent is $20.50\\nAnswer is B\n",
      "Answer: 20.5\n",
      "###\n",
      "Question: If X and Y are digits and 8XY is a 3-digit number that is divisible by 2, which of the following is a possible product of X and Y?\n",
      "Answer Explanation: Key to this question is to remember the fact that a number divisible by 2 must end with even OR 0 (i.e Y).\\nIf Y had to be 0, product should also be 0 regardless of X.\\nOtherwise, product is a multiple of 2. Only one answer choice meets the requirement.\\nAns C.\n",
      "Answer: 12\n",
      "###\n",
      "\n"
     ]
    }
   ],
   "source": [
    "prompt_set = create_prompt_set(ds_train, NUM_PROMPT_EXAMPLES)\n",
    "print(prompt_set)"
   ]
  },
  {
   "cell_type": "markdown",
   "metadata": {},
   "source": [
    "### Initialize lists to hold correct and incorrect pairs"
   ]
  },
  {
   "cell_type": "code",
   "execution_count": 48,
   "metadata": {},
   "outputs": [],
   "source": [
    "correct_pairs = []\n",
    "incorrect_pairs = []\n",
    "unanswered_paris = []"
   ]
  },
  {
   "cell_type": "markdown",
   "metadata": {},
   "source": [
    "### Iterate over each example in the subset"
   ]
  },
  {
   "cell_type": "code",
   "execution_count": 49,
   "metadata": {},
   "outputs": [],
   "source": [
    "def extract_answer_text(rationale):\n",
    "    \"\"\"\n",
    "    Extracts the answer text from the rationale using regex.\n",
    "    \n",
    "    Args:\n",
    "        rationale (str): Generated rationale string.\n",
    "    \n",
    "    Returns:\n",
    "        str or None: Extracted answer text if found, else None.\n",
    "    \"\"\"\n",
    "    # Attempt to extract the answer text after 'Answer:'\n",
    "    match = re.search(r'Answer:\\s*(.+)', rationale, re.IGNORECASE)\n",
    "    if match:\n",
    "        return match.group(1)\n",
    "    return None"
   ]
  },
  {
   "cell_type": "code",
   "execution_count": 50,
   "metadata": {},
   "outputs": [
    {
     "name": "stdout",
     "output_type": "stream",
     "text": [
      "correct_answer_text: Rs 12000\n",
      "clean options: ['A) Rs 14000', 'B) Rs 15000', 'C) Rs 12000', 'D) Rs 17000', 'E) None of these']\n",
      "extracted answer: 12000\n",
      "Correct: {'question': 'A man took a loan at rate of 12% per annum simple interest. After 3 years he had to pay 4320 interest. The principal amount borrowed by him was.', 'rationale': \"To find the principal amount borrowed by the man, we can use the formula for simple interest:\\n\\nSimple Interest = (Principal x Rate x Time) / 100\\n\\nWe are given that:\\n- Simple Interest (SI) = 4320\\n- Rate of interest per annum = 12%\\n- Time period = 3 years\\n\\nLet's substitute these values into the formula:\\n\\n4320 = (P x 12 x 3) / 100\\n\\nTo find the principal amount, we can rearrange the formula to solve for P:\\n\\nP = (SI x 100) / (Rate x Time)\\n\\nSubstituting the given values, we get:\\n\\nP = (4320 x 100) / (12 x 3)\\n= 432000 / 36\\n= 12000\\n\\nTherefore, the principal amount borrowed by the man was 12000.\\n\\nAnswer: 12000\", 'answer': '12000'}\n",
      "Processed 1 questions.\n",
      "\n",
      "correct_answer_text: 153600\n",
      "clean options: ['A) 153200', 'B) 153400', 'C) 153600', 'D) 154000', 'E) 154200']\n",
      "extracted answer: 153600\n",
      "Correct: {'question': 'The ratio between the length and the breadth of a rectangular park is 3 : 2. If a man cycling along the boundary of the park at the speed of 12 km/hr completes one round in 8 minutes, then the area of the park (in sq. m) is', 'rationale': \"To find the area of the rectangular park, we need to first determine its dimensions.\\n\\nStep 1: Calculate the perimeter of the park.\\n\\nLet's assume the length and breadth of the park are 3x and 2x respectively. The ratio between the length and the breadth is given as 3:2.\\n\\nThe perimeter of a rectangle = 2(length + breadth)\\n\\nPerimeter = 2(3x + 2x)\\n= 10x\\n\\nStep 2: Find the speed of the man in meters per minute.\\n\\nSpeed (in km/hr) = 12 km/hr\\nWe need to convert this speed into meters per minute.\\n\\n1 km = 1000 meters\\n1 hour = 60 minutes\\n\\nSpeed (in m/min) = (12 * 1000) / 60\\n= 200 m/min\\n\\nStep 3: Use the speed of the man and time taken to complete one round to find the perimeter of the park.\\n\\nThe man completes one round in 8 minutes, so we can use the formula:\\n\\nDistance = Speed × Time\\n\\nPerimeter = (Speed in m/min) × Time (in min)\\n= 200 m/min × 8 min\\n= 1600 meters\\n\\nStep 4: Use the perimeter to find the value of x and hence the dimensions of the park.\\n\\nWe already know that Perimeter = 10x.\\nEquating this with the perimeter calculated earlier:\\n10x = 1600\\nx = 160\\n\\nNow we can find the length and breadth:\\nLength (3x) = 3 × 160 = 480 meters\\nBreadth (2x) = 2 × 160 = 320 meters\\n\\nStep 5: Find the area of the park.\\n\\nArea of a rectangle = Length × Breadth\\n= 480 m × 320 m\\n= 153600 sq.m\\n\\nTherefore, the area of the rectangular park is 153600 square meters.\\n\\nAnswer: 153600\", 'answer': '153600'}\n",
      "Processed 2 questions.\n",
      "\n",
      "correct_answer_text: 192\n",
      "clean options: ['A) 152', 'B) 189', 'C) 192', 'D) 195', 'E) 203']\n",
      "extracted answer: 99\n",
      "Incorrect: {'question': 'A little boy is numbering his collection of flowers by placing single-digit stickers under each specimen. If the boy has 100 flowers, how many stickers does he need? (The numbers are consecutive and the number of the first flower is 1).', 'rationale': \"To find out how many stickers the little boy needs, we need to determine the total number of single-digit numbers that can be used to label his collection of 100 flowers.\\n\\nSince the numbers on the stickers will be consecutive and start from 1, we can consider this as a sequence of numbers from 1 to 100. However, not all these numbers are single digits. For example, numbers like 10, 20, 30, ..., 90 have two digits.\\n\\nLet's count how many numbers in the range from 1 to 100 are two-digit numbers:\\n\\n- Numbers 10 to 99: Since we're considering each number as a separate label (e.g., both '10' and '11'), there are 90 such numbers. We include both 10 and 99 because they have different labels.\\n\\nHowever, when counting stickers for single digits from 1 to 9, every number counts once:\\n\\n- Numbers from 1 to 9: There are indeed 9 single-digit numbers (1 through 9).\\n\\nSince the boy has 100 flowers and needs a sticker for each one, we need to account for the total number of stickers needed. For 90 two-digit flowers, he'll use 90 stickers (for numbers like '10', '20', '30' up to '99'), in addition to the single digits from 1 to 9.\\n\\nTherefore, the total number of stickers the little boy needs is:\\n\\nStickers for two-digit flowers: 90\\nStickers for one-digit flowers: 9\\n\\nTotal Stickers = 90 + 9 = 99\\n\\nThe answer is not simply 100 because we need 9 single-digit stickers (for numbers like '1', '2', ..., '9') instead of the actual count of all the digits.\\n\\nAnswer: 99\", 'answer': '99'}\n",
      "Processed 3 questions.\n",
      "\n",
      "correct_answer_text: 62.5%\n",
      "clean options: ['A) 62.5%', 'B) 85%', 'C) 80.67%', 'D) 75.50%', 'E) 90.30%']\n",
      "extracted answer: 100%\n",
      "Correct: {'question': '9.6 , 9.6 , 10.0 , 10.0 , 10.0 , 10.1 , 10.2 , 10.5\\nThe mean and the standard deviation of the 8 numbers shown above is 10 and 0.278 respectively. What percent of the 8 numbers are within 1 standard deviation of the mean?', 'rationale': \"To find the percentage of numbers that are within 1 standard deviation of the mean, we need to calculate the range of values that are within this limit.\\n\\nFirst, let's determine the mean and standard deviation. The given data is already stated, so we can directly use it.\\n\\nMean (μ) = 10\\nStandard Deviation (σ) = 0.278\\n\\nThe range within 1 standard deviation from the mean is:\\nLower Limit = μ - σ = 10 - 0.278 = 9.722\\nUpper Limit = μ + σ = 10 + 0.278 = 10.278\\n\\nNow, let's identify which numbers in the list fall within this range.\\n\\nThe numbers are: 9.6 , 9.6 , 10.0 , 10.0 , 10.0 , 10.1 , 10.2 , 10.5\\n\\nNumbers within the range (9.722, 10.278):\\n- 9.6 is within the lower limit.\\n- 9.6 is within the lower limit.\\n- All numbers from 10.0 to 10.5 are within the upper limit.\\n\\nCounting the numbers that fall within this range:\\n1. 9.6 (first occurrence)\\n2. 9.6 (second occurrence)\\n3. 10.0\\n4. 10.0\\n5. 10.0\\n6. 10.1\\n7. 10.2\\n8. 10.5\\n\\nThere are 8 numbers that fall within this range.\\n\\nTo find the percentage, we take the count of numbers within the range (8) and divide it by the total number of data points (also 8), then multiply by 100:\\n\\n(8 / 8) * 100 = 100%\\n\\nTherefore, 100% of the numbers are within 1 standard deviation of the mean.\\n\\nAnswer: 100%\", 'answer': '100%'}\n",
      "Processed 4 questions.\n",
      "\n",
      "correct_answer_text: 1700\n",
      "clean options: ['A) 2004', 'B) 2012', 'C) 1700', 'D) 1704', 'E) 2008']\n",
      "extracted answer: 1900\n",
      "Unanswered: {'question': 'Which is not a leap year?', 'rationale': \"A leap year occurs every 4 years, which means that it is a year that is perfectly divisible by 4. This means that any year that can be divided evenly by 4 will be a leap year.\\n\\nStep 1: Identify the rule for determining a leap year.\\nThe rule states that a year must be perfectly divisible by 4 to be considered a leap year.\\n\\nStep 2: Look at each of the given years and determine if they meet the criteria for being a leap year.\\nLet's consider the following years:\\n\\n* 1900: This is not a leap year because it cannot be divided evenly by 4 (it can only be divided by 10).\\n* 2000: This is a leap year because it can be divided evenly by 4.\\n\\nStep 3: Based on the criteria, determine which of these years is not a leap year.\\nThe year 1900 does not meet the criteria for being a leap year since it cannot be divided evenly by 4.\\n\\n\\nAnswer: 1900\", 'answer': '1900'}\n",
      "Processed 5 questions.\n",
      "\n"
     ]
    }
   ],
   "source": [
    "for idx, example in enumerate(dataset_D_subset):\n",
    "    question = example['question']\n",
    "    # Map 'correct' label to answer text\n",
    "    raw_options = example['options']\n",
    "    cleaned_options = clean_options(raw_options)\n",
    "    correct_label = example['correct'].strip().upper()\n",
    "    correct_answer_text = get_correct_answer_text(cleaned_options, correct_label)\n",
    "\n",
    "    print(f\"correct_answer_text: {correct_answer_text}\")\n",
    "    print(f\"clean options: {cleaned_options}\")\n",
    "    \n",
    "    if correct_answer_text is None:\n",
    "        print(f\"Skipping example {idx} due to missing correct answer.\")\n",
    "        continue  # Skip this example\n",
    "    \n",
    "    # Generate rationale and answer\n",
    "    generated_rationale = generate_rationale_and_answer(question, prompt_set)\n",
    "    \n",
    "    # Extract the answer text from the rationale\n",
    "    extracted_answer = extract_answer_text(generated_rationale)\n",
    "    print(f\"extracted answer: {extracted_answer}\")\n",
    "\n",
    "    response = ollama.chat(model=\"llama3.1:8b\", messages=[\n",
    "            {\n",
    "                'role': 'user',\n",
    "                'content': f\"\"\"\n",
    "                You are tasked with comparing two answers to see if they are the same or not. Both may contain the same answer but missing some sort of measurement, for example, First Answer: 90, Second Answer: 90 km or others (%, sec, miles etc) -  These should be treated as a match since the underlying answer is correct. Any difference in numerical values will result in an 'incorrect'.  You will respond with only 'correct' or 'incorrect' to this comparison without any explanations.\\n\\n\n",
    "\n",
    "                First answer: {extracted_answer}.\\n\n",
    "                Second answer: {correct_answer_text}\\n\\n\n",
    "\n",
    "                Please compare carefully. Ignore differences in formatting, such as trailing zeros or units.\n",
    "                \"\"\"\n",
    "            },\n",
    "     ])\n",
    "    \n",
    "    decision = response['message']['content'].strip()\n",
    "    \n",
    "    # Categorize based on extracted answer\n",
    "    if decision == \"correct\":\n",
    "        correct_pairs.append({\n",
    "            'question': question,\n",
    "            'rationale': generated_rationale,\n",
    "            'answer': extracted_answer\n",
    "        })\n",
    "        print('Correct:', {\n",
    "            'question': question,\n",
    "            'rationale': generated_rationale,\n",
    "            'answer': extracted_answer\n",
    "        })\n",
    "    elif decision == \"incorrect\":\n",
    "        incorrect_pairs.append({\n",
    "            'question': question,\n",
    "            'rationale': generated_rationale,\n",
    "            'answer': extracted_answer if extracted_answer else \"No Answer Extracted\"\n",
    "        })\n",
    "        print(\"Incorrect:\",  {\n",
    "            'question': question,\n",
    "            'rationale': generated_rationale,\n",
    "            'answer': extracted_answer if extracted_answer else \"No Answer Extracted\"\n",
    "        })\n",
    "    else:\n",
    "        unanswered_paris.append({\n",
    "            'question': question,\n",
    "            'rationale': generated_rationale,\n",
    "            'answer': extracted_answer if extracted_answer else \"No Answer Extracted\"\n",
    "        })\n",
    "        print(\"Unanswered:\",  {\n",
    "            'question': question,\n",
    "            'rationale': generated_rationale,\n",
    "            'answer': extracted_answer if extracted_answer else \"No Answer Extracted\"\n",
    "        })\n",
    "        \n",
    "\n",
    "    # Print progress every example\n",
    "    print(f\"Processed {idx + 1} questions.\\n\")"
   ]
  },
  {
   "cell_type": "code",
   "execution_count": 51,
   "metadata": {},
   "outputs": [
    {
     "data": {
      "text/plain": [
       "[{'question': 'A man took a loan at rate of 12% per annum simple interest. After 3 years he had to pay 4320 interest. The principal amount borrowed by him was.',\n",
       "  'rationale': \"To find the principal amount borrowed by the man, we can use the formula for simple interest:\\n\\nSimple Interest = (Principal x Rate x Time) / 100\\n\\nWe are given that:\\n- Simple Interest (SI) = 4320\\n- Rate of interest per annum = 12%\\n- Time period = 3 years\\n\\nLet's substitute these values into the formula:\\n\\n4320 = (P x 12 x 3) / 100\\n\\nTo find the principal amount, we can rearrange the formula to solve for P:\\n\\nP = (SI x 100) / (Rate x Time)\\n\\nSubstituting the given values, we get:\\n\\nP = (4320 x 100) / (12 x 3)\\n= 432000 / 36\\n= 12000\\n\\nTherefore, the principal amount borrowed by the man was 12000.\\n\\nAnswer: 12000\",\n",
       "  'answer': '12000'},\n",
       " {'question': 'The ratio between the length and the breadth of a rectangular park is 3 : 2. If a man cycling along the boundary of the park at the speed of 12 km/hr completes one round in 8 minutes, then the area of the park (in sq. m) is',\n",
       "  'rationale': \"To find the area of the rectangular park, we need to first determine its dimensions.\\n\\nStep 1: Calculate the perimeter of the park.\\n\\nLet's assume the length and breadth of the park are 3x and 2x respectively. The ratio between the length and the breadth is given as 3:2.\\n\\nThe perimeter of a rectangle = 2(length + breadth)\\n\\nPerimeter = 2(3x + 2x)\\n= 10x\\n\\nStep 2: Find the speed of the man in meters per minute.\\n\\nSpeed (in km/hr) = 12 km/hr\\nWe need to convert this speed into meters per minute.\\n\\n1 km = 1000 meters\\n1 hour = 60 minutes\\n\\nSpeed (in m/min) = (12 * 1000) / 60\\n= 200 m/min\\n\\nStep 3: Use the speed of the man and time taken to complete one round to find the perimeter of the park.\\n\\nThe man completes one round in 8 minutes, so we can use the formula:\\n\\nDistance = Speed × Time\\n\\nPerimeter = (Speed in m/min) × Time (in min)\\n= 200 m/min × 8 min\\n= 1600 meters\\n\\nStep 4: Use the perimeter to find the value of x and hence the dimensions of the park.\\n\\nWe already know that Perimeter = 10x.\\nEquating this with the perimeter calculated earlier:\\n10x = 1600\\nx = 160\\n\\nNow we can find the length and breadth:\\nLength (3x) = 3 × 160 = 480 meters\\nBreadth (2x) = 2 × 160 = 320 meters\\n\\nStep 5: Find the area of the park.\\n\\nArea of a rectangle = Length × Breadth\\n= 480 m × 320 m\\n= 153600 sq.m\\n\\nTherefore, the area of the rectangular park is 153600 square meters.\\n\\nAnswer: 153600\",\n",
       "  'answer': '153600'},\n",
       " {'question': '9.6 , 9.6 , 10.0 , 10.0 , 10.0 , 10.1 , 10.2 , 10.5\\nThe mean and the standard deviation of the 8 numbers shown above is 10 and 0.278 respectively. What percent of the 8 numbers are within 1 standard deviation of the mean?',\n",
       "  'rationale': \"To find the percentage of numbers that are within 1 standard deviation of the mean, we need to calculate the range of values that are within this limit.\\n\\nFirst, let's determine the mean and standard deviation. The given data is already stated, so we can directly use it.\\n\\nMean (μ) = 10\\nStandard Deviation (σ) = 0.278\\n\\nThe range within 1 standard deviation from the mean is:\\nLower Limit = μ - σ = 10 - 0.278 = 9.722\\nUpper Limit = μ + σ = 10 + 0.278 = 10.278\\n\\nNow, let's identify which numbers in the list fall within this range.\\n\\nThe numbers are: 9.6 , 9.6 , 10.0 , 10.0 , 10.0 , 10.1 , 10.2 , 10.5\\n\\nNumbers within the range (9.722, 10.278):\\n- 9.6 is within the lower limit.\\n- 9.6 is within the lower limit.\\n- All numbers from 10.0 to 10.5 are within the upper limit.\\n\\nCounting the numbers that fall within this range:\\n1. 9.6 (first occurrence)\\n2. 9.6 (second occurrence)\\n3. 10.0\\n4. 10.0\\n5. 10.0\\n6. 10.1\\n7. 10.2\\n8. 10.5\\n\\nThere are 8 numbers that fall within this range.\\n\\nTo find the percentage, we take the count of numbers within the range (8) and divide it by the total number of data points (also 8), then multiply by 100:\\n\\n(8 / 8) * 100 = 100%\\n\\nTherefore, 100% of the numbers are within 1 standard deviation of the mean.\\n\\nAnswer: 100%\",\n",
       "  'answer': '100%'}]"
      ]
     },
     "execution_count": 51,
     "metadata": {},
     "output_type": "execute_result"
    }
   ],
   "source": [
    "correct_pairs"
   ]
  },
  {
   "cell_type": "code",
   "execution_count": 52,
   "metadata": {},
   "outputs": [
    {
     "data": {
      "text/plain": [
       "[{'question': 'A little boy is numbering his collection of flowers by placing single-digit stickers under each specimen. If the boy has 100 flowers, how many stickers does he need? (The numbers are consecutive and the number of the first flower is 1).',\n",
       "  'rationale': \"To find out how many stickers the little boy needs, we need to determine the total number of single-digit numbers that can be used to label his collection of 100 flowers.\\n\\nSince the numbers on the stickers will be consecutive and start from 1, we can consider this as a sequence of numbers from 1 to 100. However, not all these numbers are single digits. For example, numbers like 10, 20, 30, ..., 90 have two digits.\\n\\nLet's count how many numbers in the range from 1 to 100 are two-digit numbers:\\n\\n- Numbers 10 to 99: Since we're considering each number as a separate label (e.g., both '10' and '11'), there are 90 such numbers. We include both 10 and 99 because they have different labels.\\n\\nHowever, when counting stickers for single digits from 1 to 9, every number counts once:\\n\\n- Numbers from 1 to 9: There are indeed 9 single-digit numbers (1 through 9).\\n\\nSince the boy has 100 flowers and needs a sticker for each one, we need to account for the total number of stickers needed. For 90 two-digit flowers, he'll use 90 stickers (for numbers like '10', '20', '30' up to '99'), in addition to the single digits from 1 to 9.\\n\\nTherefore, the total number of stickers the little boy needs is:\\n\\nStickers for two-digit flowers: 90\\nStickers for one-digit flowers: 9\\n\\nTotal Stickers = 90 + 9 = 99\\n\\nThe answer is not simply 100 because we need 9 single-digit stickers (for numbers like '1', '2', ..., '9') instead of the actual count of all the digits.\\n\\nAnswer: 99\",\n",
       "  'answer': '99'}]"
      ]
     },
     "execution_count": 52,
     "metadata": {},
     "output_type": "execute_result"
    }
   ],
   "source": [
    "incorrect_pairs"
   ]
  },
  {
   "cell_type": "code",
   "execution_count": 53,
   "metadata": {},
   "outputs": [
    {
     "data": {
      "text/plain": [
       "[{'question': 'Which is not a leap year?',\n",
       "  'rationale': \"A leap year occurs every 4 years, which means that it is a year that is perfectly divisible by 4. This means that any year that can be divided evenly by 4 will be a leap year.\\n\\nStep 1: Identify the rule for determining a leap year.\\nThe rule states that a year must be perfectly divisible by 4 to be considered a leap year.\\n\\nStep 2: Look at each of the given years and determine if they meet the criteria for being a leap year.\\nLet's consider the following years:\\n\\n* 1900: This is not a leap year because it cannot be divided evenly by 4 (it can only be divided by 10).\\n* 2000: This is a leap year because it can be divided evenly by 4.\\n\\nStep 3: Based on the criteria, determine which of these years is not a leap year.\\nThe year 1900 does not meet the criteria for being a leap year since it cannot be divided evenly by 4.\\n\\n\\nAnswer: 1900\",\n",
       "  'answer': '1900'}]"
      ]
     },
     "execution_count": 53,
     "metadata": {},
     "output_type": "execute_result"
    }
   ],
   "source": [
    "unanswered_paris"
   ]
  },
  {
   "cell_type": "code",
   "execution_count": 25,
   "metadata": {},
   "outputs": [
    {
     "name": "stdout",
     "output_type": "stream",
     "text": [
      "Total questions processed: 5\n",
      "Correct answers: 4\n",
      "Incorrect answers: 1\n",
      "Unanswered answers: 0\n",
      "Accuracy: 80.00%\n"
     ]
    }
   ],
   "source": [
    "total = len(correct_pairs) + len(incorrect_pairs) + len(unanswered_paris)\n",
    "accuracy = len(correct_pairs) / total * 100\n",
    "print(f\"Total questions processed: {total}\")\n",
    "print(f\"Correct answers: {len(correct_pairs)}\")\n",
    "print(f\"Incorrect answers: {len(incorrect_pairs)}\")\n",
    "print(f\"Unanswered answers: {len(unanswered_paris)}\")\n",
    "print(f\"Accuracy: {accuracy:.2f}%\")"
   ]
  },
  {
   "cell_type": "code",
   "execution_count": 26,
   "metadata": {},
   "outputs": [
    {
     "name": "stdout",
     "output_type": "stream",
     "text": [
      "{'question': 'Rs. 825 becomes Rs. 956 in 3 years at a certain rate of simple interest.If the rate of interest is increased by 4% ,What amount will Rs. 825 become in 3 years ?', 'options': {'A': 'Rs. 1020.80', 'B': 'Rs. 1025', 'C': 'Rs. 1055', 'D': 'Data inadequate', 'E': 'None of these'}, 'rationale': \"Let's break down the problem step by step.\\n\\nGiven:\\n\\n1. Principal (P) = Rs. 825\\n2. Amount after 3 years (A) = Rs. 956\\n\\nWe need to find the rate of interest (R) at which P becomes A in 3 years. We'll use the formula for simple interest:\\n\\nSimple Interest (SI) = (P × R × T)/100\\n\\nwhere T is the time period, which is 3 years here.\\n\\nFirst, let's calculate the SI for the given scenario:\\n\\nA = P + SI\\n956 = 825 + (SI)\\nSI = 131\\n\\nNow, we can use the formula to find the rate of interest (R):\\n\\nSI = (P × R × T)/100\\n131 = (825 × R × 3)/100\\n131 = 24.75R\\nR = 131/24.75 ≈ 5.29%\\n\\nThis is the original rate of interest.\\n\\nNow, let's consider what happens when the rate of interest is increased by 4%:\\n\\nNew Rate (R') = Original Rate + Increase in Rate\\n= 5.29% + 4%\\n= 9.29%\\n\\nWe need to find the new amount that Rs. 825 will become in 3 years at this increased rate.\\n\\nUsing the simple interest formula, we can calculate the new SI:\\n\\nNew SI = (P × R' × T)/100\\n= (825 × 9.29% × 3)/100\\n= 23.61\\n\\nNow, add this new SI to the principal to find the new amount:\\n\\nNew Amount = P + New SI\\n= 825 + 23.61\\n≈ Rs. 848.61\\n\\nHowever, we're asked for a multiple-choice answer, and none of the options match our calculation. This is because we assumed that the interest is compounded annually, but the question doesn't specify this.\\n\\nLet's try another approach using compound interest formula (since it's not specified to be simple interest):\\n\\nAmount after 3 years = P × (1 + R)^T\\n\\nUsing the original rate of interest (5.29%), we get:\\n\\nA = 825 × (1 + 0.0529)^3\\n≈ Rs. 1055\\n\\nThis is the amount that would become in 3 years if the interest is compounded annually.\\n\\nSo, the correct answer is:\\n\\nC: Rs. 1055\", 'answer': 'C'}\n"
     ]
    }
   ],
   "source": [
    "new_correct_pairs = []\n",
    "\n",
    "# Process the incorrect answers\n",
    "for pair in incorrect_pairs:\n",
    "    question = pair['question']\n",
    "    options = pair['options']\n",
    "    correct_answer = pair['correct_answer']\n",
    "\n",
    "    # Generate the rationale with the correct answer as a hint\n",
    "    generated_rationale = rationalize(question, options, correct_answer, prompt_set)\n",
    "\n",
    "    # Add the rationalized example to correct_pairs\n",
    "    new_correct_pairs.append({\n",
    "        'question': question,\n",
    "        'options': options,\n",
    "        'rationale': generated_rationale,\n",
    "        'answer': correct_answer\n",
    "    })\n",
    "\n",
    "    print({\n",
    "        'question': question,\n",
    "        'options': options,\n",
    "        'rationale': generated_rationale,\n",
    "        'answer': correct_answer\n",
    "    })"
   ]
  },
  {
   "cell_type": "markdown",
   "metadata": {},
   "source": [
    "### Converting our corrected pairs into a structure the Llama3.1 model will understand for fine tuning."
   ]
  },
  {
   "cell_type": "code",
   "execution_count": 54,
   "metadata": {},
   "outputs": [],
   "source": [
    "from datasets import Dataset, DatasetDict\n",
    "\n",
    "\n",
    "def convert_correct_pairs_to_conversations(correct_pairs):\n",
    "    \"\"\"\n",
    "    Converts correct_pairs into the desired conversations format.\n",
    "\n",
    "    Parameters:\n",
    "        correct_pairs (list): List of dictionaries containing question, options, correct_answer, and rationale.\n",
    "\n",
    "    Returns:\n",
    "        list: A list of conversations formatted for fine-tuning.\n",
    "    \"\"\"\n",
    "    conversations = []\n",
    "    \n",
    "    for pair in correct_pairs:\n",
    "        question = pair['question']\n",
    "        correct_answer = pair['answer']\n",
    "        rationale = pair['rationale']\n",
    "        \n",
    "        # Construct options text\n",
    "        # options_text = '\\n'.join([f\"{key}: {value}\" for key, value in options.items()])\n",
    "        \n",
    "        # Human prompt\n",
    "        human_value = (\n",
    "            f\"Question: {question}\\n\"\n",
    "        )\n",
    "        \n",
    "        # GPT response\n",
    "        gpt_value = (\n",
    "            f\"{correct_answer}\\nRationale: {rationale}\"\n",
    "        )\n",
    "        \n",
    "        # Append the conversation as a separate list\n",
    "        conversation = [\n",
    "            { \"from\": \"human\", \"value\": human_value },\n",
    "            { \"from\": \"gpt\", \"value\": gpt_value }\n",
    "        ]\n",
    "        \n",
    "        conversations.append(conversation)\n",
    "    \n",
    "    return conversations\n",
    "\n",
    "# conversations = convert_correct_pairs_to_conversations(correct_pairs)\n",
    "\n",
    "# # Create a Hugging Face Dataset\n",
    "# dataset = Dataset.from_dict({\"conversations\": conversations})\n",
    "\n",
    "# # Create a DatasetDict with only the 'train' split\n",
    "# dataset_dict = DatasetDict({\n",
    "#     \"train\": dataset\n",
    "# })\n",
    "\n",
    "# # Optionally, shuffle the dataset\n",
    "# dataset_dict[\"train\"] = dataset_dict[\"train\"].shuffle(seed=42)\n",
    "\n",
    "# # Verify the structure\n",
    "# print(dataset_dict)\n",
    "# print(dataset_dict[\"train\"][0])  # Print the first conversation"
   ]
  },
  {
   "cell_type": "markdown",
   "metadata": {},
   "source": [
    "### Save dataset to JSONL format"
   ]
  },
  {
   "cell_type": "code",
   "execution_count": 47,
   "metadata": {},
   "outputs": [
    {
     "name": "stdout",
     "output_type": "stream",
     "text": [
      "Dataset successfully saved to finetuning_data.jsonl\n"
     ]
    }
   ],
   "source": [
    "import json\n",
    "\n",
    "def save_dataset_to_jsonl(dataset_dict, file_path='finetuning_data.jsonl'):\n",
    "    \"\"\"\n",
    "    Saves the conversations in dataset_dict to a JSONL file.\n",
    "    \n",
    "    Parameters:\n",
    "        dataset_dict (DatasetDict): The dataset to save.\n",
    "        file_path (str): The path to the output JSONL file.\n",
    "        \n",
    "    Returns:\n",
    "        None\n",
    "    \"\"\"\n",
    "    with open(file_path, 'w', encoding='utf-8') as f:\n",
    "        for conversation in dataset_dict[\"train\"][\"conversations\"]:\n",
    "            json_line = json.dumps(conversation)\n",
    "            f.write(json_line + '\\n')\n",
    "    print(f\"Dataset successfully saved to {file_path}\")\n",
    "\n",
    "# Usage\n",
    "save_dataset_to_jsonl(dataset_dict, 'finetuning_data.jsonl')"
   ]
  },
  {
   "cell_type": "markdown",
   "metadata": {},
   "source": [
    "### Load dataset from JSONL (for appending new data)"
   ]
  },
  {
   "cell_type": "code",
   "execution_count": null,
   "metadata": {},
   "outputs": [],
   "source": [
    "def load_dataset_from_jsonl(file_path='finetuning_data.jsonl', validation_split=0.1):\n",
    "    \"\"\"\n",
    "    Loads conversations from a JSONL file and splits them into train and validation sets.\n",
    "\n",
    "    Parameters:\n",
    "        file_path (str): Path to the JSONL file.\n",
    "        validation_split (float): Proportion of data to use for validation.\n",
    "\n",
    "    Returns:\n",
    "        DatasetDict: A DatasetDict with 'train' and 'validation' splits.\n",
    "    \"\"\"\n",
    "    dataset = Dataset.from_json(file_path)\n",
    "    dataset = dataset.train_test_split(test_size=validation_split, seed=42)\n",
    "    dataset_dict = DatasetDict({\n",
    "        \"train\": dataset[\"train\"],\n",
    "        \"validation\": dataset[\"test\"]\n",
    "    })\n",
    "    print(f\"Loaded dataset with {len(dataset_dict['train'])} training and {len(dataset_dict['validation'])} validation conversations.\")\n",
    "    return dataset_dict"
   ]
  },
  {
   "cell_type": "markdown",
   "metadata": {},
   "source": [
    "### Appending New Data"
   ]
  },
  {
   "cell_type": "code",
   "execution_count": 55,
   "metadata": {},
   "outputs": [
    {
     "name": "stdout",
     "output_type": "stream",
     "text": [
      "Successfully appended 3 conversations to finetuning_data.jsonl\n"
     ]
    }
   ],
   "source": [
    "import json\n",
    "\n",
    "new_conversations = convert_correct_pairs_to_conversations(correct_pairs)\n",
    "\n",
    "def append_conversations_to_jsonl(conversations, file_path='finetuning_data.jsonl'):\n",
    "    \"\"\"\n",
    "    Appends a list of conversations to an existing JSONL file.\n",
    "\n",
    "    Parameters:\n",
    "        conversations (list): List of conversations to append.\n",
    "        file_path (str): Path to the existing JSONL file.\n",
    "\n",
    "    Returns:\n",
    "        None\n",
    "    \"\"\"\n",
    "    with open(file_path, 'a', encoding='utf-8') as f:\n",
    "        for convo in conversations:\n",
    "            json_line = json.dumps(convo)\n",
    "            f.write(json_line + '\\n')\n",
    "    print(f\"Successfully appended {len(conversations)} conversations to {file_path}\")\n",
    "    \n",
    "# Usage\n",
    "append_conversations_to_jsonl(new_conversations, 'finetuning_data.jsonl')"
   ]
  },
  {
   "cell_type": "code",
   "execution_count": null,
   "metadata": {},
   "outputs": [],
   "source": []
  }
 ],
 "metadata": {
  "kernelspec": {
   "display_name": ".venv",
   "language": "python",
   "name": "python3"
  },
  "language_info": {
   "codemirror_mode": {
    "name": "ipython",
    "version": 3
   },
   "file_extension": ".py",
   "mimetype": "text/x-python",
   "name": "python",
   "nbconvert_exporter": "python",
   "pygments_lexer": "ipython3",
   "version": "3.11.3"
  }
 },
 "nbformat": 4,
 "nbformat_minor": 2
}
