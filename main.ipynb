{
 "cells": [
  {
   "cell_type": "code",
   "execution_count": 1,
   "metadata": {},
   "outputs": [
    {
     "name": "stderr",
     "output_type": "stream",
     "text": [
      "/Users/williamzebrowski/LLM-RL-Reasoner/.venv/lib/python3.11/site-packages/tqdm/auto.py:21: TqdmWarning: IProgress not found. Please update jupyter and ipywidgets. See https://ipywidgets.readthedocs.io/en/stable/user_install.html\n",
      "  from .autonotebook import tqdm as notebook_tqdm\n"
     ]
    }
   ],
   "source": [
    "import re\n",
    "import ollama\n",
    "from src.data_loading import load_data\n",
    "from src.parsing import parse_options\n",
    "from src.rationale_generation import generate_rationale_and_answer\n",
    "from src.utils import is_rationale_correct\n",
    "from src.rationalization import rationalize\n",
    "from src.prompt_generation import create_prompt_examples, create_prompt_set, clean_options, get_correct_answer_text"
   ]
  },
  {
   "cell_type": "code",
   "execution_count": 808,
   "metadata": {},
   "outputs": [],
   "source": [
    "NUM_PROMPT_EXAMPLES = 5 # number of prompt examples\n",
    "NUM_EXAMPLES_TO_PROCESS = 10 # number of examples to process"
   ]
  },
  {
   "cell_type": "markdown",
   "metadata": {},
   "source": [
    "### Load Dataset"
   ]
  },
  {
   "cell_type": "code",
   "execution_count": 809,
   "metadata": {},
   "outputs": [
    {
     "name": "stdout",
     "output_type": "stream",
     "text": [
      "Dataset({\n",
      "    features: ['question', 'options', 'rationale', 'correct'],\n",
      "    num_rows: 10\n",
      "})\n"
     ]
    }
   ],
   "source": [
    "ds_train = load_data()\n",
    "\n",
    "# Step 1: Select the desired range from ds_train\n",
    "dataset_D = ds_train.select(range(NUM_PROMPT_EXAMPLES, len(ds_train)))\n",
    "\n",
    "# Step 2: Shuffle the selected dataset\n",
    "dataset_D_shuffled = dataset_D.shuffle()  # Use any seed you prefer\n",
    "\n",
    "# Step 3: Select a subset of examples to process\n",
    "dataset_D_subset = dataset_D_shuffled.select(range(NUM_EXAMPLES_TO_PROCESS))\n",
    "\n",
    "print(dataset_D_subset)"
   ]
  },
  {
   "cell_type": "markdown",
   "metadata": {},
   "source": [
    "### Create prompt examples"
   ]
  },
  {
   "cell_type": "code",
   "execution_count": 810,
   "metadata": {},
   "outputs": [
    {
     "data": {
      "text/plain": [
       "[{'question': \"Two friends plan to walk along a 43-km trail, starting at opposite ends of the trail at the same time. If Friend P's rate is 15% faster than Friend Q's, how many kilometers will Friend P have walked when they pass each other?\",\n",
       "  'rationale': 'If Q complete x kilometers, then P completes 1.15x kilometers.\\nx + 1.15x = 43\\n2.15x=43\\nx = 43/2.15 = 20\\nThen P will have have walked 1.15*20=23 km.\\nThe answer is E.',\n",
       "  'answer': 'E'},\n",
       " {'question': 'In the coordinate plane, points (x, 1) and (5, y) are on line k. If line k passes through the origin and has slope 1/5, then what are the values of x and y respectively?',\n",
       "  'rationale': 'Line k passes through the origin and has slope 1/5 means that its equation is y=1/5*x.\\nThus: (x, 1)=(5, 1) and (5, y) = (5,1) -->x=5 and y=1\\nAnswer: C',\n",
       "  'answer': 'C'},\n",
       " {'question': 'For all numbers p and q, the operation @ is defined by p@q = p^2 - pq. If xy ≠ 0, then which of the following can be equal to zero?\\nI. x@y\\nII. (xy)@y\\nIII. x@(x + y)',\n",
       "  'rationale': 'p@q = p^2 - pq=p(p-q).... so p@q will be zero if p=q or p=0.. but a cannot be equal to 0.. as per Q, x and y can take any int value except 0...\\nnow lets look at the choices..\\nwhen x=y, it will be 0... so ok...\\nwhen we put xy=y, it is possible when x=1 and y any integer... so ok again\\nwhen we put x=x+y.... only possibility when y=0 and it is given x and y cannot be 0....so not possible\\nonly l and ll possible ans B....',\n",
       "  'answer': 'B'},\n",
       " {'question': 'Carl is facing very difficult financial times and can only pay the interest on a $10,000 loan he has taken. The bank charges him a quarterly compound rate of 4%. What is the approximate interest he pays annually?',\n",
       "  'rationale': 'Usually, you are given the annual rate of interest and it is mentioned that it is annual rate.\\nThe bank charges him a quarterly compounded ANNUAL rate of 16%.\\nHere you find per quarter rate as (16/4)% = 4%\\nI have actually never seen a question with quarter rate given but since this question did not mentionannual rate of interestand since the options did not make sense with 4% annual rate of interest, it is apparent that the intent was a 4% quarterly rate. So the bank charges 4% every quarter and compounds it in the next quarter. Had it been a simple quarterly rate, we would have just found 4 * 4% of 10,000 = $1600 as our answer.\\nBut since, the interest is compounded, it will be a bit more than $1600. Option (A) looks correct.',\n",
       "  'answer': 'A'},\n",
       " {'question': 'The speed at which a man can row a boat in still water is 25 kmph. If he rows downstream, where the speed of current is 11 kmph, what time will he take to cover 80 metres?',\n",
       "  'rationale': 'Speed of the boat downstream = 25 +11\\n= 36 kmph\\n= 36 * 5/18 = 10 m/s\\nHence time taken to cover 80 m = 80/10\\n= 8 seconds.\\nAnswer:E',\n",
       "  'answer': 'E'}]"
      ]
     },
     "execution_count": 810,
     "metadata": {},
     "output_type": "execute_result"
    }
   ],
   "source": [
    "prompt_examples = create_prompt_examples(ds_train, NUM_PROMPT_EXAMPLES)\n",
    "\n",
    "prompt_examples"
   ]
  },
  {
   "cell_type": "markdown",
   "metadata": {},
   "source": [
    "### Create Prompt Sets"
   ]
  },
  {
   "cell_type": "code",
   "execution_count": 811,
   "metadata": {},
   "outputs": [
    {
     "name": "stdout",
     "output_type": "stream",
     "text": [
      "Question: Two friends plan to walk along a 43-km trail, starting at opposite ends of the trail at the same time. If Friend P's rate is 15% faster than Friend Q's, how many kilometers will Friend P have walked when they pass each other?\n",
      "Answer Explanation: If Q complete x kilometers, then P completes 1.15x kilometers.\\nx + 1.15x = 43\\n2.15x=43\\nx = 43/2.15 = 20\\nThen P will have have walked 1.15*20=23 km.\\nThe answer is E.\n",
      "Answer: 23\n",
      "###\n",
      "Question: In the coordinate plane, points (x, 1) and (5, y) are on line k. If line k passes through the origin and has slope 1/5, then what are the values of x and y respectively?\n",
      "Answer Explanation: Line k passes through the origin and has slope 1/5 means that its equation is y=1/5*x.\\nThus: (x, 1)=(5, 1) and (5, y) = (5,1) -->x=5 and y=1\\nAnswer: C\n",
      "Answer: 5 and 1\n",
      "###\n",
      "Question: For all numbers p and q, the operation @ is defined by p@q = p^2 - pq. If xy ≠ 0, then which of the following can be equal to zero?\n",
      "I. x@y\n",
      "II. (xy)@y\n",
      "III. x@(x + y)\n",
      "Answer Explanation: p@q = p^2 - pq=p(p-q).... so p@q will be zero if p=q or p=0.. but a cannot be equal to 0.. as per Q, x and y can take any int value except 0...\\nnow lets look at the choices..\\nwhen x=y, it will be 0... so ok...\\nwhen we put xy=y, it is possible when x=1 and y any integer... so ok again\\nwhen we put x=x+y.... only possibility when y=0 and it is given x and y cannot be 0....so not possible\\nonly l and ll possible ans B....\n",
      "Answer: I and II\n",
      "###\n",
      "Question: Carl is facing very difficult financial times and can only pay the interest on a $10,000 loan he has taken. The bank charges him a quarterly compound rate of 4%. What is the approximate interest he pays annually?\n",
      "Answer Explanation: Usually, you are given the annual rate of interest and it is mentioned that it is annual rate.\\nThe bank charges him a quarterly compounded ANNUAL rate of 16%.\\nHere you find per quarter rate as (16/4)% = 4%\\nI have actually never seen a question with quarter rate given but since this question did not mentionannual rate of interestand since the options did not make sense with 4% annual rate of interest, it is apparent that the intent was a 4% quarterly rate. So the bank charges 4% every quarter and compounds it in the next quarter. Had it been a simple quarterly rate, we would have just found 4 * 4% of 10,000 = $1600 as our answer.\\nBut since, the interest is compounded, it will be a bit more than $1600. Option (A) looks correct.\n",
      "Answer: $1600\n",
      "###\n",
      "Question: The speed at which a man can row a boat in still water is 25 kmph. If he rows downstream, where the speed of current is 11 kmph, what time will he take to cover 80 metres?\n",
      "Answer Explanation: Speed of the boat downstream = 25 +11\\n= 36 kmph\\n= 36 * 5/18 = 10 m/s\\nHence time taken to cover 80 m = 80/10\\n= 8 seconds.\\nAnswer:E\n",
      "Answer: 8 seconds\n",
      "###\n",
      "\n"
     ]
    }
   ],
   "source": [
    "prompt_set = create_prompt_set(ds_train, NUM_PROMPT_EXAMPLES)\n",
    "print(prompt_set)"
   ]
  },
  {
   "cell_type": "markdown",
   "metadata": {},
   "source": [
    "### Initialize lists to hold correct and incorrect pairs"
   ]
  },
  {
   "cell_type": "code",
   "execution_count": 812,
   "metadata": {},
   "outputs": [],
   "source": [
    "correct_pairs = []\n",
    "incorrect_pairs = []\n",
    "unanswered_paris = []"
   ]
  },
  {
   "cell_type": "markdown",
   "metadata": {},
   "source": [
    "### Iterate over each example in the subset"
   ]
  },
  {
   "cell_type": "code",
   "execution_count": 813,
   "metadata": {},
   "outputs": [],
   "source": [
    "def extract_answer_text(rationale):\n",
    "    \"\"\"\n",
    "    Extracts the answer text from the rationale using regex.\n",
    "    \n",
    "    Args:\n",
    "        rationale (str): Generated rationale string.\n",
    "    \n",
    "    Returns:\n",
    "        str or None: Extracted answer text if found, else None.\n",
    "    \"\"\"\n",
    "    # Attempt to extract the answer text after 'Answer:'\n",
    "    match = re.search(r'Answer:\\s*(.+)', rationale, re.IGNORECASE)\n",
    "    if match:\n",
    "        return match.group(1)\n",
    "    return None"
   ]
  },
  {
   "cell_type": "code",
   "execution_count": 814,
   "metadata": {},
   "outputs": [
    {
     "name": "stdout",
     "output_type": "stream",
     "text": [
      "correct_answer_text: 20\n",
      "clean options: ['A) 20', 'B) 30', 'C) 40', 'D) 50', 'E) 60']\n",
      "extracted answer: 20\n",
      "correct\n",
      "Correct: {'question': 'Working at a constant rate, P can finish a job in 3 hours. Q, also working at a constant rate, can finish the same job in 9 hours. If they work together for 2 hours, how many more minutes will it take P to finish the job, working alone at his constant rate?', 'rationale': \"To solve this problem, we need to first find the individual rates of P and Q.\\n\\nLet's calculate their rates:\\n\\nRate of P = 1 job / 3 hours = 1/3 jobs per hour\\nRate of Q = 1 job / 9 hours = 1/9 jobs per hour\\n\\nNow, let's calculate how much work they can do together in 2 hours:\\n\\nCombined rate = Rate of P + Rate of Q = 1/3 + 1/9\\n= (3+1)/9\\n= 4/9 jobs per hour\\n\\nWork done by both in 2 hours = Combined rate × Time = 4/9 × 2 = 8/9\\n\\nThis means they completed 8/9 of the job together.\\n\\nNow, let's find out how much work is left for P to finish alone:\\n\\nWork left for P = Total work - Work done by both\\n= 1 - 8/9\\n= 1/9\\n\\nSince P can finish 1 job in 3 hours, he can complete 1/9 of the job in (1/9) × 3 hours = 1/3 hour.\\n\\nTo convert this to minutes, we multiply by 60:\\n\\n1/3 hour × 60 = 20 minutes\\n\\nSo, it will take P an additional 20 minutes to finish the job working alone at his constant rate.\\n\\nAnswer: 20\", 'answer': '20'}\n",
      "Processed 1 questions.\n",
      "\n",
      "correct_answer_text: 32\n",
      "clean options: ['A) 9', 'B) 16', 'C) 15', 'D) 32', 'E) 10']\n",
      "extracted answer: 32\n",
      "correct\n",
      "Correct: {'question': 'The average of first seven multiples of 8 is:', 'rationale': 'To find the average of the first seven multiples of 8, we need to list out the first seven multiples and then calculate their average.\\n\\nThe first seven multiples of 8 are:\\n1. 8\\n2. 16\\n3. 24\\n4. 32\\n5. 40\\n6. 48\\n7. 56\\n\\nTo find the sum of these numbers, we can use the formula for the sum of an arithmetic series: Sn = n/2 \\\\* (a1 + an), where Sn is the sum, n is the number of terms, a1 is the first term, and an is the last term.\\n\\nIn this case, n = 7, a1 = 8, and an = 56. Plugging these values into the formula gives us:\\n\\nSn = 7/2 \\\\* (8 + 56)\\n= 3.5 \\\\* 64\\n= 224\\n\\nNow that we have the sum of the first seven multiples of 8, we can find the average by dividing the sum by the number of terms:\\n\\nAverage = Sn / n\\n= 224 / 7\\n= 32\\n\\nTherefore, the average of the first seven multiples of 8 is 32.\\n\\nAnswer: 32', 'answer': '32'}\n",
      "Processed 2 questions.\n",
      "\n",
      "correct_answer_text: 342\n",
      "clean options: ['A) 345', 'B) 340', 'C) 342', 'D) 346', 'E) 341']\n",
      "extracted answer: Rs.342\n",
      "correct\n",
      "Correct: {'question': 'The sale price sarees listed for Rs.400 after successive discount is 10% and 5% is?', 'rationale': 'To find the final sale price of the saree, we need to apply both discounts successively.\\n\\nFirst, a 10% discount on the original price of Rs.400:\\nDiscount = 10% of Rs.400 = (10/100) × 400 = Rs.40\\nPrice after 1st discount = Original Price - Discount = Rs.400 - Rs.40 = Rs.360\\n\\nNext, a 5% discount on the price obtained after the first discount:\\nDiscount = 5% of Rs.360 = (5/100) × 360 = Rs.18\\nPrice after 2nd discount = Price after 1st discount - Discount = Rs.360 - Rs.18 = Rs.342\\n\\nTherefore, the final sale price of the saree is Rs.342.\\n\\nAnswer: Rs.342', 'answer': 'Rs.342'}\n",
      "Processed 3 questions.\n",
      "\n",
      "correct_answer_text: 56\n",
      "clean options: ['A) 54', 'B) 55', 'C) 56', 'D) 57', 'E) 58']\n",
      "extracted answer: 56\n",
      "correct\n",
      "Correct: {'question': 'The average of 11 numbers is 50. If the average of first 6 numbers is 49 and that of last 6 is 52.Find the 6th number.', 'rationale': \"To find the 6th number, we need to understand how the averages of the entire set of numbers and the two sub-sets (first 6 numbers and last 6 numbers) relate to each other.\\n\\nLet's denote the sum of all 11 numbers as S. Since the average of the 11 numbers is 50, we can express this as:\\n\\nS / 11 = 50\\n\\nFrom this equation, we can solve for the total sum S:\\n\\nS = 550 (since S = 50 * 11)\\n\\nNow, let's consider the two sub-sets separately.\\n\\nFor the first 6 numbers with an average of 49:\\nThe sum of these numbers is 6 * 49 = 294\\n\\nFor the last 6 numbers with an average of 52:\\nThe sum of these numbers is 6 * 52 = 312\\n\\nWe know that the total sum S (which we found to be 550) must be equal to the sum of the first 6 numbers and the sum of the last 6 numbers, because all 11 numbers are included in both sums.\\n\\nTherefore, let's add the two sub-set sums together:\\n\\n294 + 312 = 606\\n\\nHowever, this is the total sum of the first 6 and last 6 numbers combined. We need to find the actual value of the middle number (the 6th number). To do that, we'll subtract the total sum of the entire set of 11 numbers from the sum of the two sub-sets:\\n\\n606 - 550 = 56\\n\\nThis difference gives us the value of the 6th number.\\n\\nAnswer: 56\", 'answer': '56'}\n",
      "Processed 4 questions.\n",
      "\n",
      "correct_answer_text: 48\n",
      "clean options: ['A) 20', 'B) 30', 'C) 40', 'D) 48', 'E) 60']\n",
      "extracted answer: 333\n",
      "incorrect\n",
      "Incorrect: {'question': 'In a camp,there is a meal for 120 men or 200 children.If 120 children have taken the meal,how many men will be catered to with the remaining meal ?', 'rationale': \"To find out how many men can be catered to with the remaining meal, we first need to determine the total number of meals that were initially available.\\n\\nSince there is a meal for 120 men or 200 children, we can say that the initial number of meals is a multiple of both 120 and 200. Let's find the least common multiple (LCM) of 120 and 200.\\n\\nThe prime factorization of 120 is 2^3 * 3 * 5 and of 200 is 2^3 * 5 * 5. The LCM is 2^3 * 3 * 5 * 5 = 600.\\n\\nSo, the total number of meals initially available is 600.\\n\\nIf 120 children have taken the meal, then the remaining number of meals can be found by subtracting the number of meals consumed from the initial number of meals:\\n\\nRemaining meals = Initial meals - Meals consumed\\n= 600 - (200 * 120/600)\\n= 600 - 2400/6\\n= 600 - 400\\n= 200\\n\\nSince there is a meal for 120 men, the remaining meals can cater to 120 men. However, we need to find out how many men will be catered to with the remaining meal, not just 120 men.\\n\\nTo do this, let's first determine the number of meals that correspond to one man:\\n\\nMeals per man = Total meals / Men\\n= 200 children meals / 120 children\\n= 1.6667 (approximately)\\n\\nThis means that for every 120 children, there is a meal that can cater to approximately 1.6667 men.\\n\\nTo find the number of men who will be catered to with the remaining meal, we multiply the number of remaining meals by the meals per man:\\n\\nMen catered = Remaining meals * Meals per man\\n= 200 * 1.6667\\n≈ 333.33\\n\\nSince we can't have a fraction of a person, we round down to the nearest whole number.\\n\\nAnswer: 333\", 'answer': '333'}\n",
      "Processed 5 questions.\n",
      "\n",
      "correct_answer_text: 18\n",
      "clean options: ['A) 18', 'B) 15', 'C) 13', 'D) 19', 'E) 10']\n",
      "extracted answer: 18\n",
      "correct\n",
      "Correct: {'question': 'A guy was asked to specify his age in years. He said, “Take my age 3 years hence, multiply it by three and subtract thrice of my age 3 years ago and you will know my age.” What was the age of that guy?', 'rationale': \"Let's denote the guy's current age as x.\\n\\nAccording to the statement, if we take his age 3 years hence (which means 3 years in the future), multiply it by three, and subtract thrice of his age 3 years ago, we will get his current age:\\n\\n( Current age + 3 ) × 3 - 3 × ( Current age - 3 )\\n\\nLet's simplify this expression:\\n\\nCurrent age × 3 + 9 - 3Current age + 9\\n\\nCombine like terms:\\n\\n3Current age - 3Current age = 0\\n9 + 9 = 18\\n\\nSo, the equation becomes:\\n\\n18 = x\\n\\nTherefore, the guy is currently 18 years old.\\n\\nAnswer: 18\", 'answer': '18'}\n",
      "Processed 6 questions.\n",
      "\n",
      "correct_answer_text: 384\n",
      "clean options: ['A) 384', 'B) 374', 'C) 364', 'D) 394', 'E) 354']\n",
      "extracted answer: $768\n",
      "incorrect\n",
      "Incorrect: {'question': 'Mary got a weekly raise of $384. If she gets paid every other week, write an integer describing how the raise will affect her paycheck.', 'rationale': \"To determine how the raise will affect Mary's paycheck, we need to calculate the amount of the raise and divide it by 2 since she gets paid every other week.\\n\\nThe weekly raise is $384. To find out how much she will get in her next paycheck (every other week), we multiply the raise by 2:\\n\\n$384 * 2 = $768\\n\\nSo, the raise will increase Mary's paycheck by $768 every other week.\\n\\nAnswer: $768\", 'answer': '$768'}\n",
      "Processed 7 questions.\n",
      "\n",
      "correct_answer_text: 30%\n",
      "clean options: ['A) 75%', 'B) 58%', 'C) 30%', 'D) 34%', 'E) 25%']\n",
      "extracted answer: 30%\n",
      "correct\n",
      "Correct: {'question': 'An association of mathematics teachers has 1,260 members. Only 525 of these members cast votes in the election for president of the association. What percent of the total membership voted for the winning candidate if the winning candidate received 72 percent of the votes cast?', 'rationale': \"To find the percentage of the total membership that voted for the winning candidate, we need to calculate the number of members who voted for the winning candidate and then divide it by the total membership.\\n\\nFirst, let's calculate the number of members who voted for the winning candidate. We are given that 72% of the votes cast were for the winning candidate. Since 525 members cast votes in the election, we can find the number of votes for the winning candidate as follows:\\n\\nVotes for the winning candidate = 0.72 x 525\\n\\n= 378\\n\\nNext, let's calculate the percentage of the total membership that voted for the winning candidate. We can do this by dividing the number of members who voted for the winning candidate (378) by the total membership (1260), and then multiplying by 100 to get a percentage.\\n\\nPercentage = (378 / 1260) x 100\\n\\n= 30%\\n\\nTherefore, 30% of the total membership voted for the winning candidate.\\n\\nAnswer: 30%\", 'answer': '30%'}\n",
      "Processed 8 questions.\n",
      "\n",
      "correct_answer_text: 22/7 hr\n",
      "clean options: ['A) 60/17 hr', 'B) 22/7 hr', 'C) 52/11 hr', 'D) 6 hr', 'E) 63/19 hr']\n",
      "extracted answer: $\\boxed{3.43}$\n",
      "correct\n",
      "Correct: {'question': 'Pipes A and B can fill a tank in 4 and 6 hours. Pipe C can empty it in 8 hours. If all pipes are opened together, then the tank will be filled in?', 'rationale': \"To find out how long it takes to fill the tank with all pipes open, we need to consider their rates of work.\\n\\nFirst, let's determine the rate at which each pipe can fill or empty the tank:\\n\\n- Pipe A can fill 1/4 of the tank in one hour.\\n- Pipe B can fill 1/6 of the tank in one hour.\\n- Pipe C can empty 1/8 of the tank in one hour.\\n\\nSince there are three pipes, we need to find a common denominator for their rates. The least common multiple of 4, 6, and 8 is 24. So, let's convert each rate to a fraction with a denominator of 24:\\n\\n- Pipe A fills 1/4 * (24/24) = 6/24 of the tank in one hour.\\n- Pipe B fills 1/6 * (24/24) = 4/24 of the tank in one hour.\\n- Pipe C empties 1/8 * (24/24) = 3/24 of the tank in one hour.\\n\\nNow, we add the rates at which Pipes A and B fill the tank, and subtract the rate at which Pipe C empties it:\\n\\nRate = (6/24 + 4/24 - 3/24)\\n\\nCombine like terms:\\n\\nRate = 7/24\\n\\nThis means that together, all pipes can fill 7/24 of the tank in one hour.\\n\\nTo find out how long it takes to fill the entire tank, we can take the reciprocal of this rate:\\n\\nTime = 24/7 ≈ 3.43 hours\\n\\nTherefore, when all pipes are open together, the tank will be filled in approximately 3.43 hours.\\n\\nAnswer: $\\\\boxed{3.43}$\", 'answer': '$\\\\boxed{3.43}$'}\n",
      "Processed 9 questions.\n",
      "\n",
      "correct_answer_text: 30 days\n",
      "clean options: ['A) 26 days', 'B) 27 days', 'C) 30 days', 'D) 25 days', 'E) 24 days']\n",
      "extracted answer: 30\n",
      "incorrect\n",
      "Incorrect: {'question': 'This topic is locked. If you want to discuss this question please re-post it in the respective forum.\\nMatt and Peter can do together a piece of work in 20 days. After they have worked together for 12 days Matt stops and Peter completes the remaining work in 12 days. In how many days Peter complete the work separately.', 'rationale': \"Let's solve this problem step by step:\\n\\nStep 1: Calculate the rate at which Matt and Peter can do the work together.\\nSince they can complete the work together in 20 days, their combined rate is 1/20 of the work per day.\\n\\nStep 2: Calculate the portion of the work completed by Matt and Peter in 12 days.\\nIn 12 days, they can complete (12/20) = 3/5 of the work.\\n\\nStep 3: Calculate the remaining portion of the work to be completed.\\nSince they have completed 3/5 of the work, the remaining 2/5 is left for Peter to complete alone.\\n\\nStep 4: Determine the rate at which Peter can do the work alone.\\nPeter completes (2/5) of the work in 12 days. Therefore, his rate is (2/5)/12 = 1/30 of the work per day.\\n\\nStep 5: Calculate the time it takes for Peter to complete the entire work.\\nSince Peter's rate is 1/30 of the work per day, he can complete the entire work in 30 days.\\n\\nAnswer: 30\", 'answer': '30'}\n",
      "Processed 10 questions.\n",
      "\n"
     ]
    }
   ],
   "source": [
    "for idx, example in enumerate(dataset_D_subset):\n",
    "    question = example['question']\n",
    "    # Map 'correct' label to answer text\n",
    "    raw_options = example['options']\n",
    "    cleaned_options = clean_options(raw_options)\n",
    "    correct_label = example['correct'].strip().upper()\n",
    "    correct_answer_text = get_correct_answer_text(cleaned_options, correct_label)\n",
    "\n",
    "    print(f\"correct_answer_text: {correct_answer_text}\")\n",
    "    print(f\"clean options: {cleaned_options}\")\n",
    "    \n",
    "    if correct_answer_text is None:\n",
    "        print(f\"Skipping example {idx} due to missing correct answer.\")\n",
    "        continue  # Skip this example\n",
    "    \n",
    "    # Generate rationale and answer\n",
    "    generated_rationale = generate_rationale_and_answer(question, prompt_set)\n",
    "    \n",
    "    # Extract the answer text from the rationale\n",
    "    extracted_answer = extract_answer_text(generated_rationale)\n",
    "    print(f\"extracted answer: {extracted_answer}\")\n",
    "\n",
    "    response = ollama.chat(model=\"llama3.1:8b\", messages=[\n",
    "            {\n",
    "                'role': 'user',\n",
    "                'content':\n",
    "                f\"\"\"\n",
    "                    Your task is to compare two numerical answers and determine if they are the same answer, ignoring differences in units or formatting.\\n\\n\n",
    "                    Comparison Rules:\\n\\n\n",
    "                    - If the answers are the same, for example, First Answer: '90' and Second Answer: '90 miles' or ( km, %, sec, ml, etc) this is a match and return 'correct' in your response.\\n\n",
    "                    - If the answers are different, consider them NOT a match and return 'incorrect' in your response.\\n\\n\n",
    "                    Ignore differences in formatting, such as trailing zeros.\\n\\n\n",
    "\n",
    "                    Compare the Following Answers:\\n\n",
    "                    First answer: {extracted_answer}\\n\n",
    "                    Second answer: {correct_answer_text}\\n\\n\n",
    "                    Respond with:\\n\n",
    "                    \"correct\" if the two answers are the same\\n\n",
    "                    \"incorrect\" if the two answers are not the same\\n\\n\n",
    "                    Please respond with only one of the above options, without any explanations.\n",
    "                \"\"\"\n",
    "            },\n",
    "     ])\n",
    "    \n",
    "    decision = response['message']['content'].strip()\n",
    "    print(decision)\n",
    "    \n",
    "    # Categorize based on extracted answer\n",
    "    if decision.lower() == \"correct\":\n",
    "        correct_pairs.append({\n",
    "            'question': question,\n",
    "            'rationale': generated_rationale,\n",
    "            'answer': extracted_answer\n",
    "        })\n",
    "        print('Correct:', {\n",
    "            'question': question,\n",
    "            'rationale': generated_rationale,\n",
    "            'answer': extracted_answer\n",
    "        })\n",
    "    elif decision.lower() == \"incorrect\":\n",
    "        incorrect_pairs.append({\n",
    "            'question': question,\n",
    "            'rationale': generated_rationale,\n",
    "            'answer': extracted_answer if extracted_answer else \"No Answer Extracted\"\n",
    "        })\n",
    "        print(\"Incorrect:\",  {\n",
    "            'question': question,\n",
    "            'rationale': generated_rationale,\n",
    "            'answer': extracted_answer if extracted_answer else \"No Answer Extracted\"\n",
    "        })\n",
    "    else:\n",
    "        unanswered_paris.append({\n",
    "            'question': question,\n",
    "            'rationale': generated_rationale,\n",
    "            'answer': extracted_answer if extracted_answer else \"No Answer Extracted\"\n",
    "        })\n",
    "        print(\"Unanswered:\",  {\n",
    "            'question': question,\n",
    "            'rationale': generated_rationale,\n",
    "            'answer': extracted_answer if extracted_answer else \"No Answer Extracted\"\n",
    "        })\n",
    "        \n",
    "\n",
    "    # Print progress every example\n",
    "    print(f\"Processed {idx + 1} questions.\\n\")"
   ]
  },
  {
   "cell_type": "code",
   "execution_count": 818,
   "metadata": {},
   "outputs": [],
   "source": [
    "correct_pairs.append({'question': 'This topic is locked. If you want to discuss this question please re-post it in the respective forum.\\nMatt and Peter can do together a piece of work in 20 days. After they have worked together for 12 days Matt stops and Peter completes the remaining work in 12 days. In how many days Peter complete the work separately.',\n",
    "  'rationale': \"Let's solve this problem step by step:\\n\\nStep 1: Calculate the rate at which Matt and Peter can do the work together.\\nSince they can complete the work together in 20 days, their combined rate is 1/20 of the work per day.\\n\\nStep 2: Calculate the portion of the work completed by Matt and Peter in 12 days.\\nIn 12 days, they can complete (12/20) = 3/5 of the work.\\n\\nStep 3: Calculate the remaining portion of the work to be completed.\\nSince they have completed 3/5 of the work, the remaining 2/5 is left for Peter to complete alone.\\n\\nStep 4: Determine the rate at which Peter can do the work alone.\\nPeter completes (2/5) of the work in 12 days. Therefore, his rate is (2/5)/12 = 1/30 of the work per day.\\n\\nStep 5: Calculate the time it takes for Peter to complete the entire work.\\nSince Peter's rate is 1/30 of the work per day, he can complete the entire work in 30 days.\\n\\nAnswer: 30\",\n",
    "  'answer': '30'})"
   ]
  },
  {
   "cell_type": "code",
   "execution_count": 819,
   "metadata": {},
   "outputs": [
    {
     "data": {
      "text/plain": [
       "[{'question': 'Working at a constant rate, P can finish a job in 3 hours. Q, also working at a constant rate, can finish the same job in 9 hours. If they work together for 2 hours, how many more minutes will it take P to finish the job, working alone at his constant rate?',\n",
       "  'rationale': \"To solve this problem, we need to first find the individual rates of P and Q.\\n\\nLet's calculate their rates:\\n\\nRate of P = 1 job / 3 hours = 1/3 jobs per hour\\nRate of Q = 1 job / 9 hours = 1/9 jobs per hour\\n\\nNow, let's calculate how much work they can do together in 2 hours:\\n\\nCombined rate = Rate of P + Rate of Q = 1/3 + 1/9\\n= (3+1)/9\\n= 4/9 jobs per hour\\n\\nWork done by both in 2 hours = Combined rate × Time = 4/9 × 2 = 8/9\\n\\nThis means they completed 8/9 of the job together.\\n\\nNow, let's find out how much work is left for P to finish alone:\\n\\nWork left for P = Total work - Work done by both\\n= 1 - 8/9\\n= 1/9\\n\\nSince P can finish 1 job in 3 hours, he can complete 1/9 of the job in (1/9) × 3 hours = 1/3 hour.\\n\\nTo convert this to minutes, we multiply by 60:\\n\\n1/3 hour × 60 = 20 minutes\\n\\nSo, it will take P an additional 20 minutes to finish the job working alone at his constant rate.\\n\\nAnswer: 20\",\n",
       "  'answer': '20'},\n",
       " {'question': 'The average of first seven multiples of 8 is:',\n",
       "  'rationale': 'To find the average of the first seven multiples of 8, we need to list out the first seven multiples and then calculate their average.\\n\\nThe first seven multiples of 8 are:\\n1. 8\\n2. 16\\n3. 24\\n4. 32\\n5. 40\\n6. 48\\n7. 56\\n\\nTo find the sum of these numbers, we can use the formula for the sum of an arithmetic series: Sn = n/2 \\\\* (a1 + an), where Sn is the sum, n is the number of terms, a1 is the first term, and an is the last term.\\n\\nIn this case, n = 7, a1 = 8, and an = 56. Plugging these values into the formula gives us:\\n\\nSn = 7/2 \\\\* (8 + 56)\\n= 3.5 \\\\* 64\\n= 224\\n\\nNow that we have the sum of the first seven multiples of 8, we can find the average by dividing the sum by the number of terms:\\n\\nAverage = Sn / n\\n= 224 / 7\\n= 32\\n\\nTherefore, the average of the first seven multiples of 8 is 32.\\n\\nAnswer: 32',\n",
       "  'answer': '32'},\n",
       " {'question': 'The sale price sarees listed for Rs.400 after successive discount is 10% and 5% is?',\n",
       "  'rationale': 'To find the final sale price of the saree, we need to apply both discounts successively.\\n\\nFirst, a 10% discount on the original price of Rs.400:\\nDiscount = 10% of Rs.400 = (10/100) × 400 = Rs.40\\nPrice after 1st discount = Original Price - Discount = Rs.400 - Rs.40 = Rs.360\\n\\nNext, a 5% discount on the price obtained after the first discount:\\nDiscount = 5% of Rs.360 = (5/100) × 360 = Rs.18\\nPrice after 2nd discount = Price after 1st discount - Discount = Rs.360 - Rs.18 = Rs.342\\n\\nTherefore, the final sale price of the saree is Rs.342.\\n\\nAnswer: Rs.342',\n",
       "  'answer': 'Rs.342'},\n",
       " {'question': 'The average of 11 numbers is 50. If the average of first 6 numbers is 49 and that of last 6 is 52.Find the 6th number.',\n",
       "  'rationale': \"To find the 6th number, we need to understand how the averages of the entire set of numbers and the two sub-sets (first 6 numbers and last 6 numbers) relate to each other.\\n\\nLet's denote the sum of all 11 numbers as S. Since the average of the 11 numbers is 50, we can express this as:\\n\\nS / 11 = 50\\n\\nFrom this equation, we can solve for the total sum S:\\n\\nS = 550 (since S = 50 * 11)\\n\\nNow, let's consider the two sub-sets separately.\\n\\nFor the first 6 numbers with an average of 49:\\nThe sum of these numbers is 6 * 49 = 294\\n\\nFor the last 6 numbers with an average of 52:\\nThe sum of these numbers is 6 * 52 = 312\\n\\nWe know that the total sum S (which we found to be 550) must be equal to the sum of the first 6 numbers and the sum of the last 6 numbers, because all 11 numbers are included in both sums.\\n\\nTherefore, let's add the two sub-set sums together:\\n\\n294 + 312 = 606\\n\\nHowever, this is the total sum of the first 6 and last 6 numbers combined. We need to find the actual value of the middle number (the 6th number). To do that, we'll subtract the total sum of the entire set of 11 numbers from the sum of the two sub-sets:\\n\\n606 - 550 = 56\\n\\nThis difference gives us the value of the 6th number.\\n\\nAnswer: 56\",\n",
       "  'answer': '56'},\n",
       " {'question': 'A guy was asked to specify his age in years. He said, “Take my age 3 years hence, multiply it by three and subtract thrice of my age 3 years ago and you will know my age.” What was the age of that guy?',\n",
       "  'rationale': \"Let's denote the guy's current age as x.\\n\\nAccording to the statement, if we take his age 3 years hence (which means 3 years in the future), multiply it by three, and subtract thrice of his age 3 years ago, we will get his current age:\\n\\n( Current age + 3 ) × 3 - 3 × ( Current age - 3 )\\n\\nLet's simplify this expression:\\n\\nCurrent age × 3 + 9 - 3Current age + 9\\n\\nCombine like terms:\\n\\n3Current age - 3Current age = 0\\n9 + 9 = 18\\n\\nSo, the equation becomes:\\n\\n18 = x\\n\\nTherefore, the guy is currently 18 years old.\\n\\nAnswer: 18\",\n",
       "  'answer': '18'},\n",
       " {'question': 'An association of mathematics teachers has 1,260 members. Only 525 of these members cast votes in the election for president of the association. What percent of the total membership voted for the winning candidate if the winning candidate received 72 percent of the votes cast?',\n",
       "  'rationale': \"To find the percentage of the total membership that voted for the winning candidate, we need to calculate the number of members who voted for the winning candidate and then divide it by the total membership.\\n\\nFirst, let's calculate the number of members who voted for the winning candidate. We are given that 72% of the votes cast were for the winning candidate. Since 525 members cast votes in the election, we can find the number of votes for the winning candidate as follows:\\n\\nVotes for the winning candidate = 0.72 x 525\\n\\n= 378\\n\\nNext, let's calculate the percentage of the total membership that voted for the winning candidate. We can do this by dividing the number of members who voted for the winning candidate (378) by the total membership (1260), and then multiplying by 100 to get a percentage.\\n\\nPercentage = (378 / 1260) x 100\\n\\n= 30%\\n\\nTherefore, 30% of the total membership voted for the winning candidate.\\n\\nAnswer: 30%\",\n",
       "  'answer': '30%'},\n",
       " {'question': 'Pipes A and B can fill a tank in 4 and 6 hours. Pipe C can empty it in 8 hours. If all pipes are opened together, then the tank will be filled in?',\n",
       "  'rationale': \"To find out how long it takes to fill the tank with all pipes open, we need to consider their rates of work.\\n\\nFirst, let's determine the rate at which each pipe can fill or empty the tank:\\n\\n- Pipe A can fill 1/4 of the tank in one hour.\\n- Pipe B can fill 1/6 of the tank in one hour.\\n- Pipe C can empty 1/8 of the tank in one hour.\\n\\nSince there are three pipes, we need to find a common denominator for their rates. The least common multiple of 4, 6, and 8 is 24. So, let's convert each rate to a fraction with a denominator of 24:\\n\\n- Pipe A fills 1/4 * (24/24) = 6/24 of the tank in one hour.\\n- Pipe B fills 1/6 * (24/24) = 4/24 of the tank in one hour.\\n- Pipe C empties 1/8 * (24/24) = 3/24 of the tank in one hour.\\n\\nNow, we add the rates at which Pipes A and B fill the tank, and subtract the rate at which Pipe C empties it:\\n\\nRate = (6/24 + 4/24 - 3/24)\\n\\nCombine like terms:\\n\\nRate = 7/24\\n\\nThis means that together, all pipes can fill 7/24 of the tank in one hour.\\n\\nTo find out how long it takes to fill the entire tank, we can take the reciprocal of this rate:\\n\\nTime = 24/7 ≈ 3.43 hours\\n\\nTherefore, when all pipes are open together, the tank will be filled in approximately 3.43 hours.\\n\\nAnswer: $\\\\boxed{3.43}$\",\n",
       "  'answer': '$\\\\boxed{3.43}$'},\n",
       " {'question': 'This topic is locked. If you want to discuss this question please re-post it in the respective forum.\\nMatt and Peter can do together a piece of work in 20 days. After they have worked together for 12 days Matt stops and Peter completes the remaining work in 12 days. In how many days Peter complete the work separately.',\n",
       "  'rationale': \"Let's solve this problem step by step:\\n\\nStep 1: Calculate the rate at which Matt and Peter can do the work together.\\nSince they can complete the work together in 20 days, their combined rate is 1/20 of the work per day.\\n\\nStep 2: Calculate the portion of the work completed by Matt and Peter in 12 days.\\nIn 12 days, they can complete (12/20) = 3/5 of the work.\\n\\nStep 3: Calculate the remaining portion of the work to be completed.\\nSince they have completed 3/5 of the work, the remaining 2/5 is left for Peter to complete alone.\\n\\nStep 4: Determine the rate at which Peter can do the work alone.\\nPeter completes (2/5) of the work in 12 days. Therefore, his rate is (2/5)/12 = 1/30 of the work per day.\\n\\nStep 5: Calculate the time it takes for Peter to complete the entire work.\\nSince Peter's rate is 1/30 of the work per day, he can complete the entire work in 30 days.\\n\\nAnswer: 30\",\n",
       "  'answer': '30'}]"
      ]
     },
     "execution_count": 819,
     "metadata": {},
     "output_type": "execute_result"
    }
   ],
   "source": [
    "correct_pairs"
   ]
  },
  {
   "cell_type": "code",
   "execution_count": 817,
   "metadata": {},
   "outputs": [
    {
     "data": {
      "text/plain": [
       "[{'question': 'In a camp,there is a meal for 120 men or 200 children.If 120 children have taken the meal,how many men will be catered to with the remaining meal ?',\n",
       "  'rationale': \"To find out how many men can be catered to with the remaining meal, we first need to determine the total number of meals that were initially available.\\n\\nSince there is a meal for 120 men or 200 children, we can say that the initial number of meals is a multiple of both 120 and 200. Let's find the least common multiple (LCM) of 120 and 200.\\n\\nThe prime factorization of 120 is 2^3 * 3 * 5 and of 200 is 2^3 * 5 * 5. The LCM is 2^3 * 3 * 5 * 5 = 600.\\n\\nSo, the total number of meals initially available is 600.\\n\\nIf 120 children have taken the meal, then the remaining number of meals can be found by subtracting the number of meals consumed from the initial number of meals:\\n\\nRemaining meals = Initial meals - Meals consumed\\n= 600 - (200 * 120/600)\\n= 600 - 2400/6\\n= 600 - 400\\n= 200\\n\\nSince there is a meal for 120 men, the remaining meals can cater to 120 men. However, we need to find out how many men will be catered to with the remaining meal, not just 120 men.\\n\\nTo do this, let's first determine the number of meals that correspond to one man:\\n\\nMeals per man = Total meals / Men\\n= 200 children meals / 120 children\\n= 1.6667 (approximately)\\n\\nThis means that for every 120 children, there is a meal that can cater to approximately 1.6667 men.\\n\\nTo find the number of men who will be catered to with the remaining meal, we multiply the number of remaining meals by the meals per man:\\n\\nMen catered = Remaining meals * Meals per man\\n= 200 * 1.6667\\n≈ 333.33\\n\\nSince we can't have a fraction of a person, we round down to the nearest whole number.\\n\\nAnswer: 333\",\n",
       "  'answer': '333'},\n",
       " {'question': 'Mary got a weekly raise of $384. If she gets paid every other week, write an integer describing how the raise will affect her paycheck.',\n",
       "  'rationale': \"To determine how the raise will affect Mary's paycheck, we need to calculate the amount of the raise and divide it by 2 since she gets paid every other week.\\n\\nThe weekly raise is $384. To find out how much she will get in her next paycheck (every other week), we multiply the raise by 2:\\n\\n$384 * 2 = $768\\n\\nSo, the raise will increase Mary's paycheck by $768 every other week.\\n\\nAnswer: $768\",\n",
       "  'answer': '$768'},\n",
       " {'question': 'This topic is locked. If you want to discuss this question please re-post it in the respective forum.\\nMatt and Peter can do together a piece of work in 20 days. After they have worked together for 12 days Matt stops and Peter completes the remaining work in 12 days. In how many days Peter complete the work separately.',\n",
       "  'rationale': \"Let's solve this problem step by step:\\n\\nStep 1: Calculate the rate at which Matt and Peter can do the work together.\\nSince they can complete the work together in 20 days, their combined rate is 1/20 of the work per day.\\n\\nStep 2: Calculate the portion of the work completed by Matt and Peter in 12 days.\\nIn 12 days, they can complete (12/20) = 3/5 of the work.\\n\\nStep 3: Calculate the remaining portion of the work to be completed.\\nSince they have completed 3/5 of the work, the remaining 2/5 is left for Peter to complete alone.\\n\\nStep 4: Determine the rate at which Peter can do the work alone.\\nPeter completes (2/5) of the work in 12 days. Therefore, his rate is (2/5)/12 = 1/30 of the work per day.\\n\\nStep 5: Calculate the time it takes for Peter to complete the entire work.\\nSince Peter's rate is 1/30 of the work per day, he can complete the entire work in 30 days.\\n\\nAnswer: 30\",\n",
       "  'answer': '30'}]"
      ]
     },
     "execution_count": 817,
     "metadata": {},
     "output_type": "execute_result"
    }
   ],
   "source": [
    "incorrect_pairs"
   ]
  },
  {
   "cell_type": "code",
   "execution_count": 764,
   "metadata": {},
   "outputs": [
    {
     "data": {
      "text/plain": [
       "[]"
      ]
     },
     "execution_count": 764,
     "metadata": {},
     "output_type": "execute_result"
    }
   ],
   "source": [
    "unanswered_paris"
   ]
  },
  {
   "cell_type": "code",
   "execution_count": 765,
   "metadata": {},
   "outputs": [
    {
     "name": "stdout",
     "output_type": "stream",
     "text": [
      "Total questions processed: 10\n",
      "Correct answers: 2\n",
      "Incorrect answers: 8\n",
      "Unanswered answers: 0\n",
      "Accuracy: 20.00%\n"
     ]
    }
   ],
   "source": [
    "total = len(correct_pairs) + len(incorrect_pairs) + len(unanswered_paris)\n",
    "accuracy = len(correct_pairs) / total * 100\n",
    "print(f\"Total questions processed: {total}\")\n",
    "print(f\"Correct answers: {len(correct_pairs)}\")\n",
    "print(f\"Incorrect answers: {len(incorrect_pairs)}\")\n",
    "print(f\"Unanswered answers: {len(unanswered_paris)}\")\n",
    "print(f\"Accuracy: {accuracy:.2f}%\")"
   ]
  },
  {
   "cell_type": "code",
   "execution_count": 26,
   "metadata": {},
   "outputs": [
    {
     "name": "stdout",
     "output_type": "stream",
     "text": [
      "{'question': 'Rs. 825 becomes Rs. 956 in 3 years at a certain rate of simple interest.If the rate of interest is increased by 4% ,What amount will Rs. 825 become in 3 years ?', 'options': {'A': 'Rs. 1020.80', 'B': 'Rs. 1025', 'C': 'Rs. 1055', 'D': 'Data inadequate', 'E': 'None of these'}, 'rationale': \"Let's break down the problem step by step.\\n\\nGiven:\\n\\n1. Principal (P) = Rs. 825\\n2. Amount after 3 years (A) = Rs. 956\\n\\nWe need to find the rate of interest (R) at which P becomes A in 3 years. We'll use the formula for simple interest:\\n\\nSimple Interest (SI) = (P × R × T)/100\\n\\nwhere T is the time period, which is 3 years here.\\n\\nFirst, let's calculate the SI for the given scenario:\\n\\nA = P + SI\\n956 = 825 + (SI)\\nSI = 131\\n\\nNow, we can use the formula to find the rate of interest (R):\\n\\nSI = (P × R × T)/100\\n131 = (825 × R × 3)/100\\n131 = 24.75R\\nR = 131/24.75 ≈ 5.29%\\n\\nThis is the original rate of interest.\\n\\nNow, let's consider what happens when the rate of interest is increased by 4%:\\n\\nNew Rate (R') = Original Rate + Increase in Rate\\n= 5.29% + 4%\\n= 9.29%\\n\\nWe need to find the new amount that Rs. 825 will become in 3 years at this increased rate.\\n\\nUsing the simple interest formula, we can calculate the new SI:\\n\\nNew SI = (P × R' × T)/100\\n= (825 × 9.29% × 3)/100\\n= 23.61\\n\\nNow, add this new SI to the principal to find the new amount:\\n\\nNew Amount = P + New SI\\n= 825 + 23.61\\n≈ Rs. 848.61\\n\\nHowever, we're asked for a multiple-choice answer, and none of the options match our calculation. This is because we assumed that the interest is compounded annually, but the question doesn't specify this.\\n\\nLet's try another approach using compound interest formula (since it's not specified to be simple interest):\\n\\nAmount after 3 years = P × (1 + R)^T\\n\\nUsing the original rate of interest (5.29%), we get:\\n\\nA = 825 × (1 + 0.0529)^3\\n≈ Rs. 1055\\n\\nThis is the amount that would become in 3 years if the interest is compounded annually.\\n\\nSo, the correct answer is:\\n\\nC: Rs. 1055\", 'answer': 'C'}\n"
     ]
    }
   ],
   "source": [
    "new_correct_pairs = []\n",
    "\n",
    "# Process the incorrect answers\n",
    "for pair in incorrect_pairs:\n",
    "    question = pair['question']\n",
    "    options = pair['options']\n",
    "    correct_answer = pair['correct_answer']\n",
    "\n",
    "    # Generate the rationale with the correct answer as a hint\n",
    "    generated_rationale = rationalize(question, options, correct_answer, prompt_set)\n",
    "\n",
    "    # Add the rationalized example to correct_pairs\n",
    "    new_correct_pairs.append({\n",
    "        'question': question,\n",
    "        'options': options,\n",
    "        'rationale': generated_rationale,\n",
    "        'answer': correct_answer\n",
    "    })\n",
    "\n",
    "    print({\n",
    "        'question': question,\n",
    "        'options': options,\n",
    "        'rationale': generated_rationale,\n",
    "        'answer': correct_answer\n",
    "    })"
   ]
  },
  {
   "cell_type": "markdown",
   "metadata": {},
   "source": [
    "### Converting our corrected pairs into a structure the Llama3.1 model will understand for fine tuning."
   ]
  },
  {
   "cell_type": "code",
   "execution_count": 23,
   "metadata": {},
   "outputs": [
    {
     "name": "stdout",
     "output_type": "stream",
     "text": [
      "Error decoding JSON on line 18: Extra data: line 1 column 1471 (char 1470). Skipping.\n",
      "Error decoding JSON on line 84: Extra data: line 1 column 936 (char 935). Skipping.\n",
      "Conversion complete. New file saved as 'finetuning_data_new.jsonl'.\n"
     ]
    }
   ],
   "source": [
    "import json\n",
    "import re\n",
    "\n",
    "def extract_question(human_message):\n",
    "    \"\"\"\n",
    "    Extracts the question from the human message.\n",
    "\n",
    "    Args:\n",
    "        human_message (str): The message content from the human.\n",
    "\n",
    "    Returns:\n",
    "        str: Extracted question text or the original message if extraction fails.\n",
    "    \"\"\"\n",
    "    match = re.search(r'Question:\\s*(.+)', human_message, re.IGNORECASE)\n",
    "    if match:\n",
    "        return match.group(1).strip()\n",
    "    return human_message.strip()\n",
    "\n",
    "def extract_rationale(gpt_message):\n",
    "    \"\"\"\n",
    "    Extracts the rationale from the GPT message by removing any initial 'A: ...' lines,\n",
    "    removing 'Rationale:' labels, and excluding 'Answer: ...' sections.\n",
    "\n",
    "    Args:\n",
    "        gpt_message (str): The message content from GPT.\n",
    "\n",
    "    Returns:\n",
    "        str: Extracted rationale text or an empty string if extraction fails.\n",
    "    \"\"\"\n",
    "    # Step 1: Remove any initial \"A: ...\" lines\n",
    "    gpt_message = re.sub(r'^A:\\s*.+\\n', '', gpt_message, flags=re.IGNORECASE)\n",
    "\n",
    "    # Step 2: Extract text after \"Rationale:\" up to \"Answer:\" or end of string\n",
    "    match = re.search(r'Rationale:\\s*(.*?)(?:\\nAnswer:.*|$)', gpt_message, re.IGNORECASE | re.DOTALL)\n",
    "    if match:\n",
    "        rationale = match.group(1).strip()\n",
    "        return rationale\n",
    "    else:\n",
    "        # If \"Rationale:\" is not found, remove any trailing \"Answer: ...\" and return the rest\n",
    "        gpt_message = re.sub(r'\\n*Answer:\\s*.+$', '', gpt_message, flags=re.IGNORECASE | re.DOTALL).strip()\n",
    "        return gpt_message\n",
    "\n",
    "def convert_existing_jsonl(input_file, output_file):\n",
    "    \"\"\"\n",
    "    Converts the existing finetuning_data.jsonl file to the new Q&A format.\n",
    "\n",
    "    Args:\n",
    "        input_file (str): Path to the existing JSONL file.\n",
    "        output_file (str): Path to the new JSONL file to be created.\n",
    "\n",
    "    Returns:\n",
    "        None\n",
    "    \"\"\"\n",
    "    with open(input_file, 'r', encoding='utf-8') as infile, \\\n",
    "         open(output_file, 'w', encoding='utf-8') as outfile:\n",
    "        \n",
    "        for line_num, line in enumerate(infile, 1):\n",
    "            try:\n",
    "                # Each line is expected to be a JSON array of messages\n",
    "                messages = json.loads(line)\n",
    "                \n",
    "                # Ensure there are at least two messages: human and gpt\n",
    "                if len(messages) < 2:\n",
    "                    print(f\"Warning: Line {line_num} has less than 2 messages. Skipping.\")\n",
    "                    continue\n",
    "                \n",
    "                # Extract human and gpt messages\n",
    "                human_message = \"\"\n",
    "                gpt_message = \"\"\n",
    "                for msg in messages:\n",
    "                    if msg.get(\"from\") == \"human\":\n",
    "                        human_message = msg.get(\"value\", \"\").strip()\n",
    "                    elif msg.get(\"from\") == \"gpt\":\n",
    "                        gpt_message = msg.get(\"value\", \"\").strip()\n",
    "                \n",
    "                if not human_message or not gpt_message:\n",
    "                    print(f\"Warning: Line {line_num} is missing human or gpt message. Skipping.\")\n",
    "                    continue\n",
    "                \n",
    "                # Extract question and rationale\n",
    "                question = extract_question(human_message)\n",
    "                rationale = extract_rationale(gpt_message)\n",
    "                \n",
    "                if not question or not rationale:\n",
    "                    print(f\"Warning: Line {line_num} could not extract question or rationale. Skipping.\")\n",
    "                    continue\n",
    "                \n",
    "                # Create the new format\n",
    "                new_entry = {\n",
    "                    \"text\": f\"Q: {question}\\nA: {rationale}\"\n",
    "                }\n",
    "                \n",
    "                # Write to the new JSONL file\n",
    "                outfile.write(json.dumps(new_entry, ensure_ascii=False) + '\\n')\n",
    "            \n",
    "            except json.JSONDecodeError as e:\n",
    "                print(f\"Error decoding JSON on line {line_num}: {e}. Skipping.\")\n",
    "                continue\n",
    "\n",
    "    print(f\"Conversion complete. New file saved as '{output_file}'.\")\n",
    "\n",
    "if __name__ == \"__main__\":\n",
    "    input_jsonl = 'finetuning_data.jsonl'        # Existing file\n",
    "    output_jsonl = 'finetuning_data_new.jsonl'   # New file\n",
    "        \n",
    "    # Perform the conversion\n",
    "    convert_existing_jsonl(input_jsonl, output_jsonl)"
   ]
  },
  {
   "cell_type": "markdown",
   "metadata": {},
   "source": [
    "### Appending New Data"
   ]
  },
  {
   "cell_type": "code",
   "execution_count": 520,
   "metadata": {},
   "outputs": [],
   "source": [
    "import json\n",
    "import re\n",
    "import os\n",
    "\n",
    "def convert_correct_pairs_to_conversations(correct_pairs):\n",
    "    \"\"\"\n",
    "    Converts a list of correct_pairs to the new conversation format.\n",
    "    \n",
    "    Args:\n",
    "        correct_pairs (list): List of dictionaries with keys 'question', 'rationale', and 'answer'.\n",
    "    \n",
    "    Returns:\n",
    "        list: List of dictionaries in the format {\"text\": \"Q: ...\\nA: ...\"}\n",
    "    \"\"\"\n",
    "    new_conversations = []\n",
    "    for pair in correct_pairs:\n",
    "        question = pair.get('question', '').strip()\n",
    "        rationale = pair.get('rationale', '').strip()\n",
    "        \n",
    "        if not question or not rationale:\n",
    "            print(f\"Warning: Missing question or rationale in pair: {pair}. Skipping.\")\n",
    "            continue\n",
    "        \n",
    "        # Remove any trailing \"Answer: ...\" lines from the rationale\n",
    "        # This ensures that the rationale does not contain explicit \"Answer:\" labels\n",
    "        rationale_cleaned = re.sub(r'\\n*Answer:\\s*.*$', '', rationale, flags=re.IGNORECASE).strip()\n",
    "        \n",
    "        # Additionally, remove any \"Rationale:\" labels if present\n",
    "        rationale_cleaned = re.sub(r'^Rationale:\\s*', '', rationale_cleaned, flags=re.IGNORECASE).strip()\n",
    "        \n",
    "        # Create the new conversation format\n",
    "        convo = {\n",
    "            \"text\": f\"Q: {question}\\nA: {rationale_cleaned}\"\n",
    "        }\n",
    "        new_conversations.append(convo)\n",
    "    return new_conversations\n",
    "\n",
    "def append_conversations_to_jsonl(conversations, file_path='finetuning_data.jsonl'):\n",
    "    \"\"\"\n",
    "    Appends a list of conversations to an existing JSONL file in the desired format.\n",
    "    \n",
    "    Each conversation is a dict with 'text': 'Q: ...\\nA: ...'\n",
    "    This function ensures that any residual 'Answer:' labels are removed from the 'A: ...' section.\n",
    "    \n",
    "    Args:\n",
    "        conversations (list): List of conversations to append, each as {\"text\": \"Q: ...\\nA: ...\"}.\n",
    "        file_path (str): Path to the existing JSONL file.\n",
    "    \n",
    "    Returns:\n",
    "        None\n",
    "    \"\"\"\n",
    "    # Check if the file exists\n",
    "    if os.path.exists(file_path):\n",
    "        # Check if the file ends with a newline\n",
    "        with open(file_path, 'rb') as f:\n",
    "            try:\n",
    "                f.seek(-1, os.SEEK_END)\n",
    "                last_char = f.read(1)\n",
    "                if last_char != b'\\n':\n",
    "                    newline_needed = True\n",
    "                else:\n",
    "                    newline_needed = False\n",
    "            except OSError:\n",
    "                # File is empty\n",
    "                newline_needed = False\n",
    "    else:\n",
    "        # File does not exist; will be created\n",
    "        newline_needed = False\n",
    "\n",
    "    with open(file_path, 'a', encoding='utf-8') as f:\n",
    "        # If a newline is needed before appending, add it\n",
    "        if newline_needed:\n",
    "            f.write('\\n')\n",
    "        \n",
    "        for convo in conversations:\n",
    "            text = convo.get('text', '').strip()\n",
    "            \n",
    "            # Ensure that the text starts with \"Q: \" and contains \"A: \"\n",
    "            if not text.startswith(\"Q: \") or \"\\nA: \" not in text:\n",
    "                print(f\"Warning: Conversation does not follow the 'Q: ...\\nA: ...' format. Skipping: {convo}\")\n",
    "                continue\n",
    "            \n",
    "            # Split the text into Question and Answer parts\n",
    "            try:\n",
    "                q_part, a_part = text.split(\"\\nA: \", 1)\n",
    "            except ValueError:\n",
    "                print(f\"Warning: Unable to split 'Q' and 'A' parts. Skipping: {convo}\")\n",
    "                continue\n",
    "            \n",
    "            # Clean the Answer part by removing any \"Answer:\" labels if present\n",
    "            # Although it should already be cleaned, this is an extra safeguard\n",
    "            a_part_cleaned = re.sub(r'\\n*Answer:\\s*.*$', '', a_part, flags=re.IGNORECASE).strip()\n",
    "            a_part_cleaned = re.sub(r'^Answer:\\s*', '', a_part_cleaned, flags=re.IGNORECASE).strip()\n",
    "            \n",
    "            # Reconstruct the cleaned conversation text\n",
    "            new_text = f\"{q_part}\\nA: {a_part_cleaned}\"\n",
    "            \n",
    "            # Append the cleaned conversation to the list\n",
    "            processed_convo = {\"text\": new_text}\n",
    "            \n",
    "            # Serialize and write to the file\n",
    "            json_line = json.dumps(processed_convo, ensure_ascii=False)\n",
    "            f.write(json_line + '\\n')\n",
    "    \n",
    "    print(f\"Successfully appended {len(conversations)} conversations to '{file_path}'.\")"
   ]
  },
  {
   "cell_type": "code",
   "execution_count": 820,
   "metadata": {},
   "outputs": [
    {
     "name": "stdout",
     "output_type": "stream",
     "text": [
      "Successfully appended 8 conversations to 'finetuning_data_new.jsonl'.\n"
     ]
    }
   ],
   "source": [
    "new_conversations = convert_correct_pairs_to_conversations(correct_pairs)\n",
    "    \n",
    "    # Append to the new JSONL file\n",
    "append_conversations_to_jsonl(new_conversations, 'finetuning_data_new.jsonl')"
   ]
  },
  {
   "cell_type": "markdown",
   "metadata": {},
   "source": [
    "### Data split"
   ]
  },
  {
   "cell_type": "code",
   "execution_count": 821,
   "metadata": {},
   "outputs": [],
   "source": [
    "import json\n",
    "import random\n",
    "\n",
    "def split_jsonl_file(input_file, output_train, output_valid, output_test):\n",
    "    # Load the jsonl file\n",
    "    with open(input_file, 'r') as f:\n",
    "        data = [json.loads(line) for line in f]\n",
    "\n",
    "    # Shuffle the data to ensure random distribution\n",
    "    random.shuffle(data)\n",
    "\n",
    "    # Calculate split indices for 90% train, 5% valid, 5% test\n",
    "    train_split = int(0.90 * len(data))\n",
    "    valid_split = int(0.95 * len(data))\n",
    "\n",
    "    # Split the data\n",
    "    train_data = data[:train_split]\n",
    "    valid_data = data[train_split:valid_split]\n",
    "    test_data = data[valid_split:]\n",
    "\n",
    "    # Write the data into their respective jsonl files\n",
    "    with open(output_train, 'w') as f:\n",
    "        for item in train_data:\n",
    "            f.write(json.dumps(item) + '\\n')\n",
    "\n",
    "    with open(output_valid, 'w') as f:\n",
    "        for item in valid_data:\n",
    "            f.write(json.dumps(item) + '\\n')\n",
    "\n",
    "    with open(output_test, 'w') as f:\n",
    "        for item in test_data:\n",
    "            f.write(json.dumps(item) + '\\n')\n",
    "\n",
    "# Example usage\n",
    "split_jsonl_file('finetuning_data_new.jsonl', 'train.jsonl', 'valid.jsonl', 'test.jsonl')"
   ]
  },
  {
   "cell_type": "code",
   "execution_count": null,
   "metadata": {},
   "outputs": [],
   "source": []
  }
 ],
 "metadata": {
  "kernelspec": {
   "display_name": ".venv",
   "language": "python",
   "name": "python3"
  },
  "language_info": {
   "codemirror_mode": {
    "name": "ipython",
    "version": 3
   },
   "file_extension": ".py",
   "mimetype": "text/x-python",
   "name": "python",
   "nbconvert_exporter": "python",
   "pygments_lexer": "ipython3",
   "version": "3.11.8"
  }
 },
 "nbformat": 4,
 "nbformat_minor": 2
}
