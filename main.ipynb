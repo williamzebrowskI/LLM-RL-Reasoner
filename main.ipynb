{
 "cells": [
  {
   "cell_type": "code",
   "execution_count": 309,
   "metadata": {},
   "outputs": [],
   "source": [
    "import re\n",
    "import ollama\n",
    "from src.data_loading import load_data\n",
    "from src.parsing import parse_options\n",
    "from src.rationale_generation import generate_rationale_and_answer\n",
    "from src.utils import is_rationale_correct\n",
    "from src.rationalization import rationalize\n",
    "from src.prompt_generation import create_prompt_examples, create_prompt_set, clean_options, get_correct_answer_text"
   ]
  },
  {
   "cell_type": "code",
   "execution_count": 389,
   "metadata": {},
   "outputs": [],
   "source": [
    "NUM_PROMPT_EXAMPLES = 5 # number of prompt examples\n",
    "NUM_EXAMPLES_TO_PROCESS = 10 # number of examples to process"
   ]
  },
  {
   "cell_type": "markdown",
   "metadata": {},
   "source": [
    "### Load Dataset"
   ]
  },
  {
   "cell_type": "code",
   "execution_count": 390,
   "metadata": {},
   "outputs": [
    {
     "name": "stdout",
     "output_type": "stream",
     "text": [
      "Dataset({\n",
      "    features: ['question', 'options', 'rationale', 'correct'],\n",
      "    num_rows: 10\n",
      "})\n"
     ]
    }
   ],
   "source": [
    "ds_train = load_data()\n",
    "\n",
    "# Step 1: Select the desired range from ds_train\n",
    "dataset_D = ds_train.select(range(NUM_PROMPT_EXAMPLES, len(ds_train)))\n",
    "\n",
    "# Step 2: Shuffle the selected dataset\n",
    "dataset_D_shuffled = dataset_D.shuffle()  # Use any seed you prefer\n",
    "\n",
    "# Step 3: Select a subset of examples to process\n",
    "dataset_D_subset = dataset_D_shuffled.select(range(NUM_EXAMPLES_TO_PROCESS))\n",
    "\n",
    "print(dataset_D_subset)"
   ]
  },
  {
   "cell_type": "markdown",
   "metadata": {},
   "source": [
    "### Create prompt examples"
   ]
  },
  {
   "cell_type": "code",
   "execution_count": 391,
   "metadata": {},
   "outputs": [
    {
     "data": {
      "text/plain": [
       "[{'question': \"Two friends plan to walk along a 43-km trail, starting at opposite ends of the trail at the same time. If Friend P's rate is 15% faster than Friend Q's, how many kilometers will Friend P have walked when they pass each other?\",\n",
       "  'rationale': 'If Q complete x kilometers, then P completes 1.15x kilometers.\\nx + 1.15x = 43\\n2.15x=43\\nx = 43/2.15 = 20\\nThen P will have have walked 1.15*20=23 km.\\nThe answer is E.',\n",
       "  'answer': 'E'},\n",
       " {'question': 'In the coordinate plane, points (x, 1) and (5, y) are on line k. If line k passes through the origin and has slope 1/5, then what are the values of x and y respectively?',\n",
       "  'rationale': 'Line k passes through the origin and has slope 1/5 means that its equation is y=1/5*x.\\nThus: (x, 1)=(5, 1) and (5, y) = (5,1) -->x=5 and y=1\\nAnswer: C',\n",
       "  'answer': 'C'},\n",
       " {'question': 'For all numbers p and q, the operation @ is defined by p@q = p^2 - pq. If xy ≠ 0, then which of the following can be equal to zero?\\nI. x@y\\nII. (xy)@y\\nIII. x@(x + y)',\n",
       "  'rationale': 'p@q = p^2 - pq=p(p-q).... so p@q will be zero if p=q or p=0.. but a cannot be equal to 0.. as per Q, x and y can take any int value except 0...\\nnow lets look at the choices..\\nwhen x=y, it will be 0... so ok...\\nwhen we put xy=y, it is possible when x=1 and y any integer... so ok again\\nwhen we put x=x+y.... only possibility when y=0 and it is given x and y cannot be 0....so not possible\\nonly l and ll possible ans B....',\n",
       "  'answer': 'B'},\n",
       " {'question': 'Carl is facing very difficult financial times and can only pay the interest on a $10,000 loan he has taken. The bank charges him a quarterly compound rate of 4%. What is the approximate interest he pays annually?',\n",
       "  'rationale': 'Usually, you are given the annual rate of interest and it is mentioned that it is annual rate.\\nThe bank charges him a quarterly compounded ANNUAL rate of 16%.\\nHere you find per quarter rate as (16/4)% = 4%\\nI have actually never seen a question with quarter rate given but since this question did not mentionannual rate of interestand since the options did not make sense with 4% annual rate of interest, it is apparent that the intent was a 4% quarterly rate. So the bank charges 4% every quarter and compounds it in the next quarter. Had it been a simple quarterly rate, we would have just found 4 * 4% of 10,000 = $1600 as our answer.\\nBut since, the interest is compounded, it will be a bit more than $1600. Option (A) looks correct.',\n",
       "  'answer': 'A'},\n",
       " {'question': 'The speed at which a man can row a boat in still water is 25 kmph. If he rows downstream, where the speed of current is 11 kmph, what time will he take to cover 80 metres?',\n",
       "  'rationale': 'Speed of the boat downstream = 25 +11\\n= 36 kmph\\n= 36 * 5/18 = 10 m/s\\nHence time taken to cover 80 m = 80/10\\n= 8 seconds.\\nAnswer:E',\n",
       "  'answer': 'E'}]"
      ]
     },
     "execution_count": 391,
     "metadata": {},
     "output_type": "execute_result"
    }
   ],
   "source": [
    "prompt_examples = create_prompt_examples(ds_train, NUM_PROMPT_EXAMPLES)\n",
    "\n",
    "prompt_examples"
   ]
  },
  {
   "cell_type": "markdown",
   "metadata": {},
   "source": [
    "### Create Prompt Sets"
   ]
  },
  {
   "cell_type": "code",
   "execution_count": 392,
   "metadata": {},
   "outputs": [
    {
     "name": "stdout",
     "output_type": "stream",
     "text": [
      "Question: Two friends plan to walk along a 43-km trail, starting at opposite ends of the trail at the same time. If Friend P's rate is 15% faster than Friend Q's, how many kilometers will Friend P have walked when they pass each other?\n",
      "Answer Explanation: If Q complete x kilometers, then P completes 1.15x kilometers.\\nx + 1.15x = 43\\n2.15x=43\\nx = 43/2.15 = 20\\nThen P will have have walked 1.15*20=23 km.\\nThe answer is E.\n",
      "Answer: 23\n",
      "###\n",
      "Question: In the coordinate plane, points (x, 1) and (5, y) are on line k. If line k passes through the origin and has slope 1/5, then what are the values of x and y respectively?\n",
      "Answer Explanation: Line k passes through the origin and has slope 1/5 means that its equation is y=1/5*x.\\nThus: (x, 1)=(5, 1) and (5, y) = (5,1) -->x=5 and y=1\\nAnswer: C\n",
      "Answer: 5 and 1\n",
      "###\n",
      "Question: For all numbers p and q, the operation @ is defined by p@q = p^2 - pq. If xy ≠ 0, then which of the following can be equal to zero?\n",
      "I. x@y\n",
      "II. (xy)@y\n",
      "III. x@(x + y)\n",
      "Answer Explanation: p@q = p^2 - pq=p(p-q).... so p@q will be zero if p=q or p=0.. but a cannot be equal to 0.. as per Q, x and y can take any int value except 0...\\nnow lets look at the choices..\\nwhen x=y, it will be 0... so ok...\\nwhen we put xy=y, it is possible when x=1 and y any integer... so ok again\\nwhen we put x=x+y.... only possibility when y=0 and it is given x and y cannot be 0....so not possible\\nonly l and ll possible ans B....\n",
      "Answer: I and II\n",
      "###\n",
      "Question: Carl is facing very difficult financial times and can only pay the interest on a $10,000 loan he has taken. The bank charges him a quarterly compound rate of 4%. What is the approximate interest he pays annually?\n",
      "Answer Explanation: Usually, you are given the annual rate of interest and it is mentioned that it is annual rate.\\nThe bank charges him a quarterly compounded ANNUAL rate of 16%.\\nHere you find per quarter rate as (16/4)% = 4%\\nI have actually never seen a question with quarter rate given but since this question did not mentionannual rate of interestand since the options did not make sense with 4% annual rate of interest, it is apparent that the intent was a 4% quarterly rate. So the bank charges 4% every quarter and compounds it in the next quarter. Had it been a simple quarterly rate, we would have just found 4 * 4% of 10,000 = $1600 as our answer.\\nBut since, the interest is compounded, it will be a bit more than $1600. Option (A) looks correct.\n",
      "Answer: $1600\n",
      "###\n",
      "Question: The speed at which a man can row a boat in still water is 25 kmph. If he rows downstream, where the speed of current is 11 kmph, what time will he take to cover 80 metres?\n",
      "Answer Explanation: Speed of the boat downstream = 25 +11\\n= 36 kmph\\n= 36 * 5/18 = 10 m/s\\nHence time taken to cover 80 m = 80/10\\n= 8 seconds.\\nAnswer:E\n",
      "Answer: 8 seconds\n",
      "###\n",
      "\n"
     ]
    }
   ],
   "source": [
    "prompt_set = create_prompt_set(ds_train, NUM_PROMPT_EXAMPLES)\n",
    "print(prompt_set)"
   ]
  },
  {
   "cell_type": "markdown",
   "metadata": {},
   "source": [
    "### Initialize lists to hold correct and incorrect pairs"
   ]
  },
  {
   "cell_type": "code",
   "execution_count": 393,
   "metadata": {},
   "outputs": [],
   "source": [
    "correct_pairs = []\n",
    "incorrect_pairs = []\n",
    "unanswered_paris = []"
   ]
  },
  {
   "cell_type": "markdown",
   "metadata": {},
   "source": [
    "### Iterate over each example in the subset"
   ]
  },
  {
   "cell_type": "code",
   "execution_count": 394,
   "metadata": {},
   "outputs": [],
   "source": [
    "def extract_answer_text(rationale):\n",
    "    \"\"\"\n",
    "    Extracts the answer text from the rationale using regex.\n",
    "    \n",
    "    Args:\n",
    "        rationale (str): Generated rationale string.\n",
    "    \n",
    "    Returns:\n",
    "        str or None: Extracted answer text if found, else None.\n",
    "    \"\"\"\n",
    "    # Attempt to extract the answer text after 'Answer:'\n",
    "    match = re.search(r'Answer:\\s*(.+)', rationale, re.IGNORECASE)\n",
    "    if match:\n",
    "        return match.group(1)\n",
    "    return None"
   ]
  },
  {
   "cell_type": "code",
   "execution_count": 395,
   "metadata": {},
   "outputs": [
    {
     "name": "stdout",
     "output_type": "stream",
     "text": [
      "correct_answer_text: 28%\n",
      "clean options: ['A) 72%', 'B) 28%', 'C) 32%', 'D) 76%', 'E) 78%']\n",
      "extracted answer: 28\n",
      "incorrect\n",
      "Incorrect: {'question': 'A single discount equivalent to successive discount of 20%, 10% is', 'rationale': \"To find the single discount equivalent to successive discounts of 20% and 10%, we need to calculate the final price after both discounts have been applied.\\n\\nLet's assume the original price is $100.\\n\\nAfter a 20% discount, the price becomes:\\n$100 - (20% of $100) = $100 - $20 = $80\\n\\nThen, a 10% discount is applied to this reduced price of $80:\\n$80 - (10% of $80) = $80 - $8 = $72\\n\\nNow, we need to find the single discount that would bring the original price of $100 down to $72.\\n\\nLet's call the single discount rate x%. We can set up an equation based on the final price after this single discount:\\n$100 - (x% of $100) = $72\\n\\nSimplifying the equation, we get:\\n$100 - ($100 * x/100) = $72\\n$100 - $x = $72\\n\\nSubtracting $100 from both sides gives us:\\n-x = -$28\\n\\nDividing both sides by -1, we get:\\nx = 28%\\n\\nTherefore, a single discount of 28% is equivalent to the successive discounts of 20% and 10%.\\n\\nAnswer: 28\", 'answer': '28'}\n",
      "Processed 1 questions.\n",
      "\n",
      "correct_answer_text: 24%\n",
      "clean options: ['A) 24%', 'B) 20%', 'C) 17%', 'D) 18%', 'E) None of these']\n",
      "extracted answer: 14%\n",
      "incorrect\n",
      "Incorrect: {'question': 'A shopkeeper labeled the price of his articles so as to earn a profit of 20% on the cost price. He then sold the articles by offering a discount of 5% on the labeled price. What is the actual percent profit earned in the deal?', 'rationale': \"Step 1: First, let's understand what the shopkeeper did initially. He set up prices for his items to make a 20% profit over their cost.\\n\\nStep 2: Let's say the cost price of an item is $100. To make a 20% profit on this cost, he labels it at a selling price that includes this 20% profit.\\n\\nStep 3: The labeled (marked) price for a $100 item to achieve a 20% profit would be calculated as follows:\\n   - First, find the amount of profit by taking 20% of the cost.\\n     Profit = 20% of $100 = 0.20 * $100 = $20\\n   - Then, add this profit to the original cost to get the marked price (labeled price).\\n     Marked Price = Cost + Profit = $100 + $20 = $120\\n\\nStep 4: Now, let's calculate the actual selling price after applying a 5% discount on the labeled price of $120.\\n   - The discount amount is 5% of the marked price.\\n     Discount Amount = 5% of $120 = 0.05 * $120 = $6\\n   - To find the actual selling price, subtract this discount from the marked price.\\n     Actual Selling Price = Marked Price - Discount Amount = $120 - $6 = $114\\n\\nStep 5: Finally, calculate the profit made on the item by comparing the cost to the actual selling price. The difference between the actual selling price and the cost will give us the total profit earned.\\n\\n   Profit Made = Actual Selling Price - Cost\\n               = $114 - $100\\n               = $14\\n\\nStep 6: To find the percent profit, take the profit made and divide it by the original cost of the item. Then, multiply this result by 100 to convert it into a percentage.\\n\\n   Percent Profit Earned = (Profit Made / Cost) * 100\\n                          = ($14 / $100) * 100\\n                          = 0.14 * 100\\n                          = 14%\\n\\nStep 7: Therefore, the actual percent profit earned in this deal is 14%.\\n\\nAnswer: 14%\", 'answer': '14%'}\n",
      "Processed 2 questions.\n",
      "\n",
      "correct_answer_text: 1/3\n",
      "clean options: ['A) 1/4', 'B) 1/3', 'C) 1/2', 'D) 3/4', 'E) 1']\n",
      "extracted answer: None\n",
      "incorrect\n",
      "Incorrect: {'question': 'If s > x > y > z on the number line, y is halfway between x and z, and x is halfway between w and z, then (y - x)/(y - s) =', 'rationale': \"To solve this problem, let's first understand the given conditions.\\n\\n1. The points s, x, y, and z are on a number line and satisfy the condition s > x > y > z.\\n2. y is halfway between x and z, which means that the average of their positions is equal to y.\\n3. x is halfway between w and z, which means that the average of their positions is equal to x.\\n\\nFrom the second point, we know that (y + z) / 2 = y, as y is the midpoint between x and z. This simplifies to z = 0.\\n\\nUsing this result in the third point, we get (x + z) / 2 = x, which means z is already zero. Thus, s > x > y > 0.\\n\\nNow let's focus on the first condition: w is not given explicitly but can be deduced by considering that x is the midpoint between w and z. Since z = 0, we have (w + 0) / 2 = x, which simplifies to w = 2x.\\n\\nWe also know that y is halfway between x and z, so y = x/2.\\n\\nSince s > x, and y = x/2, it follows that s > x > y/2. This implies that s - y/2 > 0 or (s - y)/2 > 0.\\n\\nNow we want to find the ratio of y - x to y - s. By substituting the values for y in terms of x and simplifying, we get:\\n\\n(y - x) / (y - s) = (x/2 - x) / ((3x)/4 - s)\\n\\nSince z = 0, s > x > y > z implies that s - x > 0. Multiplying both sides by 4 gives us 4s - 4x > 0.\\n\\nWe have (y - x) / (y - s) = (-x/2) / ((3x)/4 - s). Factoring out a 2 and simplifying the denominator, we get:\\n\\n(y - x) / (y - s) = -x / [2(3x - 4s)]\\n\\nCombining like terms in the numerator, we have -x = (-1/2)x. Plugging this into our previous expression gives us:\\n\\n(y - x) / (y - s) = (-1/2)x / [-3x + 8s]\\n\\nSimplifying by dividing out an x, we get:\\n\\n(y - x) / (y - s) = -(1/2) / [(-3)/4 + (8/s)]\\n\\nTo divide the numerator and denominator by -2 to simplify further,\\n\\n(y - x) / (y - s) = 1/2 * [-4/-6 - 16/s]\\n\\nUsing the property that a/b * c/d = ac/bd,\\n\\n(y - x) / (y - s) = [(-4s + 48)/(-24)]\\n\\nTo simplify this expression, we can divide out an s and use the property from above again to get:\\n\\n(y - x) / (y - s) = 1/6 * (-4 + 48/s)\\n\\nThis simplifies further to\\n\\n(y - x) / (y - s) = [(-4*24)/48] + 8/s\\n\\n\\nNow, multiplying and dividing the right-hand side by 24 to get rid of the fractions inside the brackets,\\n\\n(y - x) / (y - s) = (-96/48) + 2/s\\n\\n\\nSimplifying both sides further gives us\\n\\n(y - x) / (y - s) = -2 + 2/s\\n\\n\\nFinally, factoring out a negative sign and combining like terms in the numerator, we get:\\n\\n(y - x) / (y - s) = [-(2 - 2/s)].\\n\\n\\nUsing the rule from above once more to eliminate the fraction inside the brackets,\\n\\n\\n(y - x) / (y - s) = (-2)/1 + 2/s\\n\\n\\nSimplifying both sides further by multiplying and dividing the numerator and denominator, respectively, by 4 gives us:\\n\\n(y - x) / (y - s) = [(-8 + 8/s)]/4\\n\\n\\nUsing the rule from above once more to eliminate fractions inside the brackets,\\n(y - x) / (y - s) = (-8)/4 + 2/s\\n\\n\\nNow combining like terms, we have\\n\\n(y - x) / (y - s) = [-2 + 1/(s/2)].\\n\\n\\nFinally, factoring out a negative sign and using the rule from above to eliminate fractions inside the brackets, we get:\\n\\n(y - x)/(y - s) = (-2 + 1/s)/1\\n\\n\\nMultiplying both numerator and denominator by -1 to remove the minus signs,\\n\\n\\n(y - x) / (y - s) = (-2 + 2/s)/-1\\n\\n\\nSimplifying both sides further by factoring out a 2 from the numerator, we get:\\n\\n(y - x)/(y - s) = [(-2 + 2/s)]/-1\\n\\n\\nFinally, combining like terms in the numerator and simplifying, we have:\\n\\n\\n(y - x)/(y - s) = [-2] / [-1 + (1/s)].\\n\\n\\nSimplifying both sides further by multiplying and dividing the numerator and denominator respectively by -s to get rid of the fractions inside the brackets,\\n\\n\\n(y - x) / (y - s) = [(-2*s)/(-s)] / [-s/s + 1]\\n\\n\\nNow, simplifying the expression on the right-hand side by canceling out common factors in both the numerator and denominator, we have:\\n\\n\\n(y - x)/(y - s) = (-2s) / (-s + (s/s))\\n\\n\\nSimplifying further,\\n\\n(y - x) / (y - s) = -2.\\n\\n\\nTherefore,\\n\\n(y - x)/(y - s) = -(1/2).\\n\\n\\nThus the ratio of y-x to y-s is 1/2.\\n \\nThus, the answer is $\\\\boxed{1/2}$.\", 'answer': 'No Answer Extracted'}\n",
      "Processed 3 questions.\n",
      "\n",
      "correct_answer_text: 16\n",
      "clean options: ['A) 16', 'B) 14', 'C) 15', 'D) 21', 'E) 22']\n",
      "extracted answer: 13104\n",
      "incorrect\n",
      "Incorrect: {'question': 'If the quantity 4^2+ 4^4 + 4^8 is written as (a + b)(a – b), in which both a and b are integers, which of the following could be the value of b?', 'rationale': \"To find the value of b, we need to factorize the expression 4^2+ 4^4 + 4^8.\\n\\nFirst, let's calculate the values:\\n\\n4^2 = 16\\n4^4 = 256\\n4^8 = 65536\\n\\nNow, let's add them up:\\n\\n16 + 256 + 65536 = 66208\\n\\nThis expression is equal to (a + b)(a - b), where a and b are integers. To find the value of b, we need to factorize 66208.\\n\\nLet's try to find two numbers whose sum and difference give us factors of 66208:\\n\\nWe can see that 16*262 = 3328, so (16+262)(16-262) is not a correct factorization.\\n\\nHowever, let's consider another pair: \\n\\n1*66207 = 66207\\n66208 - 1 = 66207\\n\\nNow we have the factorization:\\n\\n(1 + 66207)(1 - 66207)\\n\\nSince (a+b)(a-b) = 4^2+ 4^4 + 4^8, we can write it as:\\n\\n(a + b)(a - b) = (1 + 66207)(1 - 66207)\\n\\nComparing the expressions, we get:\\n\\na + b = 1 + 66207\\na - b = 1 - 66207\\n\\nSolving these equations, we find that a and b are huge numbers.\\n\\nHowever, for this problem, we only need to find the value of b. Looking at the expression (1 + 66207)(1 - 66207), we can see that if we multiply the two factors, we will get an extremely large number.\\n\\nNow, since 4^2+ 4^4 + 4^8 is much smaller than the product of (1 + 66207) and (1 - 66207), let's consider a different approach:\\n\\nWe know that b must be much smaller than a. We also know that both a and b are integers.\\n\\nLooking at our previous calculations, we can see that 4^8 is extremely large compared to the other two terms.\\n\\nThe only reasonable factorization of this expression would involve large factors for (a+b) and small factors for (a-b).\\n\\nLet's consider an alternative way to write the expression:\\n\\n(a + b)(a - b) = 66208\\n\\nSince we know that a+b should be much larger than a-b, let's try to find two numbers whose sum is significantly larger than their difference.\\n\\nOne such pair could be: \\n\\n66000 and 208\\n\\nHere, a+b = 66000 + 208 = 66208\\na - b = 66000 - 208 = 65792\\n\\nHowever, since (a-b) should be much smaller than (a+b), we can try to increase the difference:\\n\\n66020 and 188\\n\\nNow, a+b = 66020 + 188 = 66208\\na - b = 66020 - 188 = 65832\\n\\nWe are getting close, but this is still not our pair.\\n\\nLet's consider another option: \\n\\n66100 and 208\\n\\nHere, a+b = 66100 + 208 = 66308 (which does not match the given expression), so we cannot use it.\\n\\nHowever, let's try: \\n\\n66080 and 228\\n\\nWe get: \\na+b = 66080 + 228 = 66308 (too large again), but wait...\\n\\nLet's consider a smaller number for (a-b). What if we choose:\\n\\n66010 and 298\\n\\nThen: \\na+b = 66010 + 298 = 66208\\na - b = 66010 - 298 = 65712\\n\\nThis pair looks promising! However, it still does not match our target.\\n\\nLet's try to increase the value of (a-b) even more:\\n\\n66050 and 258\\n\\nWe get: \\na+b = 66050 + 258 = 66208\\na - b = 66050 - 258 = 65792\\n\\nNow we are very close. But, let's not make any assumptions!\\n\\nOne last option is:\\n\\n66010 doesn't work; what if we try: \\n\\n66020 and the other number would be...?\\n\\n66000 + 208 = 66208\\n66000 - 208 = 65992\\n\\nYes! Now we have a pair that works. We should confirm this by checking whether the product of (1+26207) and (1-26207) matches our initial expression.\\n\\nIndeed, it does!\\n\\n(1 + 26207)(1 - 26207) = 26208* - 26206\\n\\nNow, let's simplify the right side:\\n\\n26208*(-26206) = 66208\\n\\nYay! We finally have our factorization!\\n\\nSince we were given that a and b are integers, we can now write:\\n\\n(a + b)(a - b) = (26208)(-26206)\\n\\nHere, a+b = 26208\\na-b = -26206\\n\\nFrom the equation above, we get:\\n\\nb = 26208/2\\n= 13104\\n\\nSo, the value of b is 13104.\\n\\nAnswer: 13104\", 'answer': '13104'}\n",
      "Processed 4 questions.\n",
      "\n",
      "correct_answer_text: 40 days\n",
      "clean options: ['A) 30 days', 'B) 20 days', 'C) 10 days', 'D) 50 days', 'E) 40 days']\n",
      "extracted answer: The worker remained idle for 40 days.\n",
      "correct\n",
      "Correct: {'question': 'An emploer pays Rs. 20 for each day a worker works, and forfeits Rs. 3 for each day he is idle. At the end of 60 days, a worker gets Rs. 280 . For how many days did the worker remain idle?', 'rationale': \"To solve this problem, we need to set up an equation that represents the situation.\\n\\nLet's say the worker worked for x days and remained idle for y days.\\n\\nWe know that the worker gets paid Rs. 20 for each day they work, so their total earnings from working is 20x.\\n\\nThey also forfeit Rs. 3 for each day they are idle, so their total loss from being idle is 3y.\\n\\nSince the worker got a total of Rs. 280 at the end of 60 days, we can set up the equation:\\n\\n20x - 3y = 280\\n\\nWe also know that x + y = 60, since there are only 60 days in total.\\n\\nNow we have two equations and two variables. We can substitute y = 60 - x into the first equation to solve for x.\\n\\nSubstituting, we get:\\n\\n20x - 3(60 - x) = 280\\n\\nExpanding and simplifying, we get:\\n\\n20x - 180 + 3x = 280\\n\\nCombine like terms:\\n\\n23x = 460\\n\\nDivide by 23:\\n\\nx = 20\\n\\nNow that we have found x, we can find y by substituting x back into the equation x + y = 60.\\n\\ny = 60 - x\\n= 60 - 20\\n= 40\\n\\nSo the worker worked for 20 days and remained idle for 40 days.\\n\\nAnswer: The worker remained idle for 40 days.\", 'answer': 'The worker remained idle for 40 days.'}\n",
      "Processed 5 questions.\n",
      "\n",
      "correct_answer_text: 6\n",
      "clean options: ['A) 5', 'B) 6', 'C) 9', 'D) 10', 'E) 11']\n",
      "extracted answer: 10\n",
      "incorrect\n",
      "Incorrect: {'question': 'How many even multiples of 65 are there between 649 and 1301?', 'rationale': \"To find the number of even multiples of 65 between 649 and 1301, we need to follow these steps:\\n\\nStep 1: Find the smallest multiple of 65 that is greater than or equal to 650.\\n\\nThe first step is to divide 650 by 65. This will give us a quotient and a remainder. The quotient will be the smallest whole number that is less than or equal to the result, while the remainder will tell us how far off we are from having an exact multiple of 65.\\n\\n650 ÷ 65 = 10 with a remainder of 0\\n\\nThis tells us that 650 itself is a multiple of 65. However, since we're interested in even multiples and there's no information about including or excluding the endpoint (649), it seems reasonable to consider starting from the next even number after 650.\\n\\nThe smallest even multiple of 65 greater than or equal to 650 is therefore still 650 itself because it's an even multiple. \\n\\nStep 2: Find the largest multiple of 65 that is less than or equal to 1301.\\n\\nNow we divide 1301 by 65:\\n\\n1301 ÷ 65 = 20 with a remainder of 1\\n\\nThis tells us that the largest whole number multiple of 65 that is less than 1301 is 20 * 65, which equals 1300. Again, since we're looking for even multiples and this result comes from an exact division into whole numbers, it's also an even multiple.\\n\\nStep 3: Calculate how many multiples of 65 are between these two values.\\n\\nWe've identified the smallest (650) and largest (1300) even multiples within the given range. To find out how many multiples of 65 there are, we simply count them by finding how many times 65 fits into the difference between these two numbers:\\n\\n(1300 - 650)/65 = 650/65\\n\\nNow let's calculate that:\\n\\n650 ÷ 65 = 10 with a remainder of 0\\n\\nSo, since both endpoints (650 and 1300) are themselves multiples of 65, we include them in our count. Therefore, there are 10 multiples of 65 between 649 and 1301.\\n\\nSince the question asks specifically for even multiples, but every multiple of 65 is either odd or even, and our inclusion criteria allowed us to start counting from 650 (which is an even number), we don't need to exclude any multiples. Every multiple within this range will be even because we started counting from an even number.\\n\\nTherefore, the answer is:\\n\\nAnswer: 10\", 'answer': '10'}\n",
      "Processed 6 questions.\n",
      "\n",
      "correct_answer_text: 50%\n",
      "clean options: ['A) 25%', 'B) 30%', 'C) 50%', 'D) 65%', 'E) 70%']\n",
      "extracted answer: 50%\n",
      "correct\n",
      "Correct: {'question': 'The length of a rectangle ishalved, while its breadth is tripled. Watis the % change in area?', 'rationale': \"To find the percentage change in the area of the rectangle, we need to calculate the original and new areas.\\n\\nLet's assume the original length of the rectangle is L and its breadth is B.\\n\\nThe original area (A1) is given by:\\nA1 = Length × Breadth\\n= L × B\\n\\nNow, let's consider what happens when the length is halved and the breadth is tripled:\\n\\nNew length (L') = L / 2\\nNew breadth (B') = 3B\\n\\nThe new area (A2) is given by:\\nA2 = New length × New breadth\\n= (L/2) × (3B)\\n= 1.5LB\\n\\nTo find the percentage change in area, we need to calculate the difference between the original and new areas, divide it by the original area, and then multiply by 100.\\n\\nChange in area = A2 - A1\\n= 1.5LB - LB\\n= 0.5LB\\n\\nPercentage change in area = (Change in area / Original area) × 100\\n= (0.5LB / LB) × 100\\n= 50%\\n\\nTherefore, the percentage change in area is 50%.\\n\\nAnswer: 50%\", 'answer': '50%'}\n",
      "Processed 7 questions.\n",
      "\n",
      "correct_answer_text: 857\n",
      "clean options: ['A) 857', 'B) 859', 'C) 869', 'D) 4320', 'E) None of these']\n",
      "extracted answer: 857\n",
      "correct\n",
      "Correct: {'question': 'The least number which when increased by 7 each divisible by each one of 24, 32, 36 and 54 is :', 'rationale': \"To find the least number that meets the given criteria, let's first identify the Least Common Multiple (LCM) of 24, 32, 36, and 54.\\n\\nThe prime factorization of each number is:\\n- 24 = 2^3 * 3\\n- 32 = 2^5\\n- 36 = 2^2 * 3^2\\n- 54 = 2 * 3^3\\n\\nTo find the LCM, we take the highest power of each prime factor that appears in any of the numbers:\\nLCM = 2^5 * 3^3 = 32 * 27 = 864\\n\\nNow, we need to find the least number that, when increased by 7, is divisible by 864. Let's call this number x.\\n\\nWe know that (x + 7) must be a multiple of 864. So, we can write:\\nx + 7 = 864k\\n\\nwhere k is an integer.\\n\\nTo find the smallest possible value of x, we want to make k as small as possible while still satisfying the equation.\\n\\nThe smallest positive value of k that makes (x + 7) a multiple of 864 is k = 1.\\nSo, we have:\\nx + 7 = 864(1)\\nx + 7 = 864\\n\\nNow, solve for x:\\nx = 864 - 7\\nx = 857\\n\\nTherefore, the least number that meets the given criteria is 857.\\n\\nAnswer: 857\", 'answer': '857'}\n",
      "Processed 8 questions.\n",
      "\n",
      "correct_answer_text: 50%\n",
      "clean options: ['A) 25%', 'B) 30%', 'C) 37.5%', 'D) 56.25%', 'E) 50%']\n",
      "extracted answer: 50%\n",
      "correct\n",
      "Correct: {'question': \"Each customer of a networking company subscribes to one of two plans: Plan A or Plan B. Plan A costs $25 per month and Plan B costs $75 per month per customer. If the company’s average revenue per customer per month is $100, then what percent of the company's revenue comes from customers with Plan A?\", 'rationale': \"To solve this problem, let's break it down into steps.\\n\\nStep 1: Let's assume that the number of customers subscribing to Plan A is x and the number of customers subscribing to Plan B is y. We know that the total number of customers (x + y) multiplied by $100 (average revenue per customer per month) equals the total revenue for all customers, which can be expressed as $25x + $75y.\\n\\nStep 2: The equation from Step 1 is:\\n$100(x + y) = $25x + $75y\\nThis simplifies to:\\n$100x + $100y = $25x + $75y\\n\\nStep 3: To solve for x in terms of y, we can rearrange the equation by subtracting $25x and adding $75y to both sides. This yields:\\n$75x = -$25y\\n$x = -\\\\frac{25}{75}y$\\nSimplifying gives us:\\n$x = -\\\\frac{1}{3}y$\\n\\nStep 4: To find the ratio of customers subscribing to Plan A (x) to the total number of customers (x + y), we can substitute $-\\\\frac{1}{3}y$ for x in the expression (x + y). This gives us:\\nTotal Customers = $-\\\\frac{1}{3}y$ + y\\nSimplifying yields:\\nTotal Customers = $\\\\frac{2}{3}y$\\n\\nStep 5: The ratio of customers subscribing to Plan A is then given by the number of Plan A subscribers (x) divided by the total number of customers. Substituting $-\\\\frac{1}{3}y$ for x, we have:\\n$\\\\frac{x}{Total Customers}$ = $\\\\frac{-\\\\frac{1}{3}y}{\\\\frac{2}{3}y}$\\nSimplifying this expression gives us:\\n$\\\\frac{x}{Total Customers}$ = $-\\\\frac{1}{2}$\\n\\nStep 6: However, the negative sign is irrelevant in this context. We are interested in the percentage of customers subscribing to Plan A out of the total, so we take the absolute value of our ratio.\\n\\nTo convert this ratio into a percentage, we multiply by 100:\\n$\\\\left(\\\\frac{x}{Total Customers}\\\\right) * 100 = \\\\left(-\\\\frac{1}{2}\\\\right)*100$\\n\\nSimplifying yields:\\n\\n-50%\\n\\nSince percentages cannot be negative, and the problem is asking for the percent of revenue coming from customers with Plan A, we have misunderstood our calculation. The correct approach should consider that if x represents the number of customers on plan A, then y represents the customers on plan B.\\n\\nStep 7: Let’s re-evaluate Step 5 considering that a negative ratio doesn't apply here:\\nWe take the absolute value of $\\\\left(-\\\\frac{1}{2}\\\\right)$ which is $\\\\frac{1}{2}$ and convert it into percentage by multiplying with 100.\\n\\nThe final answer is:\\nAnswer: 50%\", 'answer': '50%'}\n",
      "Processed 9 questions.\n",
      "\n",
      "correct_answer_text: 20%\n",
      "clean options: ['A) 25%', 'B) 30%', 'C) 40%', 'D) 20%', 'E) 50%']\n",
      "extracted answer: None\n",
      "incorrect\n",
      "Incorrect: {'question': 'What percent of the different arrangements of the letters of the word AJICUX are those in which the vowels appear together?', 'rationale': 'To find the percentage of arrangements where the vowels appear together, we need to first calculate the total number of arrangements and then count the arrangements where the vowels appear together.\\n\\nThe word \"AJICUX\" has 6 letters. The vowels are A and U.\\n\\nStep 1: Calculate the total number of arrangements.\\nThe total number of arrangements is given by the factorial of the number of letters, which is 6!. This is because for each letter, there are (n-1)! possible arrangements.\\n\\n6! = 720\\n\\nStep 2: Count the arrangements where the vowels appear together.\\nTo count these arrangements, we can consider the group of vowels as one unit. So now we have a total of 5 units to arrange: JICUX and AU.\\n\\nThe number of ways to arrange these 5 units is given by 5!.\\n\\n5! = 120\\n\\nHowever, within the group of vowels (AU), A and U can be arranged in 2! ways.\\n\\nSo, the number of arrangements where the vowels appear together is:\\n\\n120 * 2! = 240\\n\\nStep 3: Calculate the percentage of arrangements where the vowels appear together.\\nThe total number of arrangements with the vowels together is 240. To find the percentage, we\\'ll divide this by the total number of arrangements and multiply by 100.\\n\\nPercentage = (240 / 720) * 100\\n\\nSimplifying:\\n\\n(240 / 720) = 1/3\\nMultiply by 100:\\n(1/3) * 100 = 33.33%\\n\\nTherefore, approximately 33% of the different arrangements of the letters in the word AJICUX are those in which the vowels appear together.\\n\\nAnswer:', 'answer': 'No Answer Extracted'}\n",
      "Processed 10 questions.\n",
      "\n"
     ]
    }
   ],
   "source": [
    "for idx, example in enumerate(dataset_D_subset):\n",
    "    question = example['question']\n",
    "    # Map 'correct' label to answer text\n",
    "    raw_options = example['options']\n",
    "    cleaned_options = clean_options(raw_options)\n",
    "    correct_label = example['correct'].strip().upper()\n",
    "    correct_answer_text = get_correct_answer_text(cleaned_options, correct_label)\n",
    "\n",
    "    print(f\"correct_answer_text: {correct_answer_text}\")\n",
    "    print(f\"clean options: {cleaned_options}\")\n",
    "    \n",
    "    if correct_answer_text is None:\n",
    "        print(f\"Skipping example {idx} due to missing correct answer.\")\n",
    "        continue  # Skip this example\n",
    "    \n",
    "    # Generate rationale and answer\n",
    "    generated_rationale = generate_rationale_and_answer(question, prompt_set)\n",
    "    \n",
    "    # Extract the answer text from the rationale\n",
    "    extracted_answer = extract_answer_text(generated_rationale)\n",
    "    print(f\"extracted answer: {extracted_answer}\")\n",
    "\n",
    "    response = ollama.chat(model=\"llama3.1:8b\", messages=[\n",
    "            {\n",
    "                'role': 'user',\n",
    "                'content':\n",
    "                f\"\"\"\n",
    "                    Your task is to compare two numerical answers and determine if they are the same answer, ignoring differences in units or formatting.\\n\\n\n",
    "                    Comparison Rules:\\n\\n\n",
    "                    - If the answers are the same, for example, First Answer: '90' and Second Answer: '90 miles' or ( km, %, sec, ml, etc) this is a match and return 'correct' in your response.\\n\n",
    "                    - If the answers are different, consider them NOT a match and return 'incorrect' in your response.\\n\\n\n",
    "                    Ignore differences in formatting, such as trailing zeros.\\n\\n\n",
    "\n",
    "                    Compare the Following Answers:\\n\n",
    "                    First answer: {extracted_answer}\\n\n",
    "                    Second answer: {correct_answer_text}\\n\\n\n",
    "                    Respond with:\\n\n",
    "                    \"correct\" if the two answers are the same\\n\n",
    "                    \"incorrect\" if the two answers are not the same\\n\\n\n",
    "                    Please respond with only one of the above options, without any explanations.\n",
    "                \"\"\"\n",
    "            },\n",
    "     ])\n",
    "    \n",
    "    decision = response['message']['content'].strip()\n",
    "    print(decision)\n",
    "    \n",
    "    # Categorize based on extracted answer\n",
    "    if decision.lower() == \"correct\":\n",
    "        correct_pairs.append({\n",
    "            'question': question,\n",
    "            'rationale': generated_rationale,\n",
    "            'answer': extracted_answer\n",
    "        })\n",
    "        print('Correct:', {\n",
    "            'question': question,\n",
    "            'rationale': generated_rationale,\n",
    "            'answer': extracted_answer\n",
    "        })\n",
    "    elif decision.lower() == \"incorrect\":\n",
    "        incorrect_pairs.append({\n",
    "            'question': question,\n",
    "            'rationale': generated_rationale,\n",
    "            'answer': extracted_answer if extracted_answer else \"No Answer Extracted\"\n",
    "        })\n",
    "        print(\"Incorrect:\",  {\n",
    "            'question': question,\n",
    "            'rationale': generated_rationale,\n",
    "            'answer': extracted_answer if extracted_answer else \"No Answer Extracted\"\n",
    "        })\n",
    "    else:\n",
    "        unanswered_paris.append({\n",
    "            'question': question,\n",
    "            'rationale': generated_rationale,\n",
    "            'answer': extracted_answer if extracted_answer else \"No Answer Extracted\"\n",
    "        })\n",
    "        print(\"Unanswered:\",  {\n",
    "            'question': question,\n",
    "            'rationale': generated_rationale,\n",
    "            'answer': extracted_answer if extracted_answer else \"No Answer Extracted\"\n",
    "        })\n",
    "        \n",
    "\n",
    "    # Print progress every example\n",
    "    print(f\"Processed {idx + 1} questions.\\n\")"
   ]
  },
  {
   "cell_type": "code",
   "execution_count": 396,
   "metadata": {},
   "outputs": [
    {
     "data": {
      "text/plain": [
       "[{'question': 'An emploer pays Rs. 20 for each day a worker works, and forfeits Rs. 3 for each day he is idle. At the end of 60 days, a worker gets Rs. 280 . For how many days did the worker remain idle?',\n",
       "  'rationale': \"To solve this problem, we need to set up an equation that represents the situation.\\n\\nLet's say the worker worked for x days and remained idle for y days.\\n\\nWe know that the worker gets paid Rs. 20 for each day they work, so their total earnings from working is 20x.\\n\\nThey also forfeit Rs. 3 for each day they are idle, so their total loss from being idle is 3y.\\n\\nSince the worker got a total of Rs. 280 at the end of 60 days, we can set up the equation:\\n\\n20x - 3y = 280\\n\\nWe also know that x + y = 60, since there are only 60 days in total.\\n\\nNow we have two equations and two variables. We can substitute y = 60 - x into the first equation to solve for x.\\n\\nSubstituting, we get:\\n\\n20x - 3(60 - x) = 280\\n\\nExpanding and simplifying, we get:\\n\\n20x - 180 + 3x = 280\\n\\nCombine like terms:\\n\\n23x = 460\\n\\nDivide by 23:\\n\\nx = 20\\n\\nNow that we have found x, we can find y by substituting x back into the equation x + y = 60.\\n\\ny = 60 - x\\n= 60 - 20\\n= 40\\n\\nSo the worker worked for 20 days and remained idle for 40 days.\\n\\nAnswer: The worker remained idle for 40 days.\",\n",
       "  'answer': 'The worker remained idle for 40 days.'},\n",
       " {'question': 'The length of a rectangle ishalved, while its breadth is tripled. Watis the % change in area?',\n",
       "  'rationale': \"To find the percentage change in the area of the rectangle, we need to calculate the original and new areas.\\n\\nLet's assume the original length of the rectangle is L and its breadth is B.\\n\\nThe original area (A1) is given by:\\nA1 = Length × Breadth\\n= L × B\\n\\nNow, let's consider what happens when the length is halved and the breadth is tripled:\\n\\nNew length (L') = L / 2\\nNew breadth (B') = 3B\\n\\nThe new area (A2) is given by:\\nA2 = New length × New breadth\\n= (L/2) × (3B)\\n= 1.5LB\\n\\nTo find the percentage change in area, we need to calculate the difference between the original and new areas, divide it by the original area, and then multiply by 100.\\n\\nChange in area = A2 - A1\\n= 1.5LB - LB\\n= 0.5LB\\n\\nPercentage change in area = (Change in area / Original area) × 100\\n= (0.5LB / LB) × 100\\n= 50%\\n\\nTherefore, the percentage change in area is 50%.\\n\\nAnswer: 50%\",\n",
       "  'answer': '50%'},\n",
       " {'question': 'The least number which when increased by 7 each divisible by each one of 24, 32, 36 and 54 is :',\n",
       "  'rationale': \"To find the least number that meets the given criteria, let's first identify the Least Common Multiple (LCM) of 24, 32, 36, and 54.\\n\\nThe prime factorization of each number is:\\n- 24 = 2^3 * 3\\n- 32 = 2^5\\n- 36 = 2^2 * 3^2\\n- 54 = 2 * 3^3\\n\\nTo find the LCM, we take the highest power of each prime factor that appears in any of the numbers:\\nLCM = 2^5 * 3^3 = 32 * 27 = 864\\n\\nNow, we need to find the least number that, when increased by 7, is divisible by 864. Let's call this number x.\\n\\nWe know that (x + 7) must be a multiple of 864. So, we can write:\\nx + 7 = 864k\\n\\nwhere k is an integer.\\n\\nTo find the smallest possible value of x, we want to make k as small as possible while still satisfying the equation.\\n\\nThe smallest positive value of k that makes (x + 7) a multiple of 864 is k = 1.\\nSo, we have:\\nx + 7 = 864(1)\\nx + 7 = 864\\n\\nNow, solve for x:\\nx = 864 - 7\\nx = 857\\n\\nTherefore, the least number that meets the given criteria is 857.\\n\\nAnswer: 857\",\n",
       "  'answer': '857'},\n",
       " {'question': \"Each customer of a networking company subscribes to one of two plans: Plan A or Plan B. Plan A costs $25 per month and Plan B costs $75 per month per customer. If the company’s average revenue per customer per month is $100, then what percent of the company's revenue comes from customers with Plan A?\",\n",
       "  'rationale': \"To solve this problem, let's break it down into steps.\\n\\nStep 1: Let's assume that the number of customers subscribing to Plan A is x and the number of customers subscribing to Plan B is y. We know that the total number of customers (x + y) multiplied by $100 (average revenue per customer per month) equals the total revenue for all customers, which can be expressed as $25x + $75y.\\n\\nStep 2: The equation from Step 1 is:\\n$100(x + y) = $25x + $75y\\nThis simplifies to:\\n$100x + $100y = $25x + $75y\\n\\nStep 3: To solve for x in terms of y, we can rearrange the equation by subtracting $25x and adding $75y to both sides. This yields:\\n$75x = -$25y\\n$x = -\\\\frac{25}{75}y$\\nSimplifying gives us:\\n$x = -\\\\frac{1}{3}y$\\n\\nStep 4: To find the ratio of customers subscribing to Plan A (x) to the total number of customers (x + y), we can substitute $-\\\\frac{1}{3}y$ for x in the expression (x + y). This gives us:\\nTotal Customers = $-\\\\frac{1}{3}y$ + y\\nSimplifying yields:\\nTotal Customers = $\\\\frac{2}{3}y$\\n\\nStep 5: The ratio of customers subscribing to Plan A is then given by the number of Plan A subscribers (x) divided by the total number of customers. Substituting $-\\\\frac{1}{3}y$ for x, we have:\\n$\\\\frac{x}{Total Customers}$ = $\\\\frac{-\\\\frac{1}{3}y}{\\\\frac{2}{3}y}$\\nSimplifying this expression gives us:\\n$\\\\frac{x}{Total Customers}$ = $-\\\\frac{1}{2}$\\n\\nStep 6: However, the negative sign is irrelevant in this context. We are interested in the percentage of customers subscribing to Plan A out of the total, so we take the absolute value of our ratio.\\n\\nTo convert this ratio into a percentage, we multiply by 100:\\n$\\\\left(\\\\frac{x}{Total Customers}\\\\right) * 100 = \\\\left(-\\\\frac{1}{2}\\\\right)*100$\\n\\nSimplifying yields:\\n\\n-50%\\n\\nSince percentages cannot be negative, and the problem is asking for the percent of revenue coming from customers with Plan A, we have misunderstood our calculation. The correct approach should consider that if x represents the number of customers on plan A, then y represents the customers on plan B.\\n\\nStep 7: Let’s re-evaluate Step 5 considering that a negative ratio doesn't apply here:\\nWe take the absolute value of $\\\\left(-\\\\frac{1}{2}\\\\right)$ which is $\\\\frac{1}{2}$ and convert it into percentage by multiplying with 100.\\n\\nThe final answer is:\\nAnswer: 50%\",\n",
       "  'answer': '50%'}]"
      ]
     },
     "execution_count": 396,
     "metadata": {},
     "output_type": "execute_result"
    }
   ],
   "source": [
    "correct_pairs"
   ]
  },
  {
   "cell_type": "code",
   "execution_count": 397,
   "metadata": {},
   "outputs": [
    {
     "data": {
      "text/plain": [
       "[{'question': 'A single discount equivalent to successive discount of 20%, 10% is',\n",
       "  'rationale': \"To find the single discount equivalent to successive discounts of 20% and 10%, we need to calculate the final price after both discounts have been applied.\\n\\nLet's assume the original price is $100.\\n\\nAfter a 20% discount, the price becomes:\\n$100 - (20% of $100) = $100 - $20 = $80\\n\\nThen, a 10% discount is applied to this reduced price of $80:\\n$80 - (10% of $80) = $80 - $8 = $72\\n\\nNow, we need to find the single discount that would bring the original price of $100 down to $72.\\n\\nLet's call the single discount rate x%. We can set up an equation based on the final price after this single discount:\\n$100 - (x% of $100) = $72\\n\\nSimplifying the equation, we get:\\n$100 - ($100 * x/100) = $72\\n$100 - $x = $72\\n\\nSubtracting $100 from both sides gives us:\\n-x = -$28\\n\\nDividing both sides by -1, we get:\\nx = 28%\\n\\nTherefore, a single discount of 28% is equivalent to the successive discounts of 20% and 10%.\\n\\nAnswer: 28\",\n",
       "  'answer': '28'},\n",
       " {'question': 'A shopkeeper labeled the price of his articles so as to earn a profit of 20% on the cost price. He then sold the articles by offering a discount of 5% on the labeled price. What is the actual percent profit earned in the deal?',\n",
       "  'rationale': \"Step 1: First, let's understand what the shopkeeper did initially. He set up prices for his items to make a 20% profit over their cost.\\n\\nStep 2: Let's say the cost price of an item is $100. To make a 20% profit on this cost, he labels it at a selling price that includes this 20% profit.\\n\\nStep 3: The labeled (marked) price for a $100 item to achieve a 20% profit would be calculated as follows:\\n   - First, find the amount of profit by taking 20% of the cost.\\n     Profit = 20% of $100 = 0.20 * $100 = $20\\n   - Then, add this profit to the original cost to get the marked price (labeled price).\\n     Marked Price = Cost + Profit = $100 + $20 = $120\\n\\nStep 4: Now, let's calculate the actual selling price after applying a 5% discount on the labeled price of $120.\\n   - The discount amount is 5% of the marked price.\\n     Discount Amount = 5% of $120 = 0.05 * $120 = $6\\n   - To find the actual selling price, subtract this discount from the marked price.\\n     Actual Selling Price = Marked Price - Discount Amount = $120 - $6 = $114\\n\\nStep 5: Finally, calculate the profit made on the item by comparing the cost to the actual selling price. The difference between the actual selling price and the cost will give us the total profit earned.\\n\\n   Profit Made = Actual Selling Price - Cost\\n               = $114 - $100\\n               = $14\\n\\nStep 6: To find the percent profit, take the profit made and divide it by the original cost of the item. Then, multiply this result by 100 to convert it into a percentage.\\n\\n   Percent Profit Earned = (Profit Made / Cost) * 100\\n                          = ($14 / $100) * 100\\n                          = 0.14 * 100\\n                          = 14%\\n\\nStep 7: Therefore, the actual percent profit earned in this deal is 14%.\\n\\nAnswer: 14%\",\n",
       "  'answer': '14%'},\n",
       " {'question': 'If s > x > y > z on the number line, y is halfway between x and z, and x is halfway between w and z, then (y - x)/(y - s) =',\n",
       "  'rationale': \"To solve this problem, let's first understand the given conditions.\\n\\n1. The points s, x, y, and z are on a number line and satisfy the condition s > x > y > z.\\n2. y is halfway between x and z, which means that the average of their positions is equal to y.\\n3. x is halfway between w and z, which means that the average of their positions is equal to x.\\n\\nFrom the second point, we know that (y + z) / 2 = y, as y is the midpoint between x and z. This simplifies to z = 0.\\n\\nUsing this result in the third point, we get (x + z) / 2 = x, which means z is already zero. Thus, s > x > y > 0.\\n\\nNow let's focus on the first condition: w is not given explicitly but can be deduced by considering that x is the midpoint between w and z. Since z = 0, we have (w + 0) / 2 = x, which simplifies to w = 2x.\\n\\nWe also know that y is halfway between x and z, so y = x/2.\\n\\nSince s > x, and y = x/2, it follows that s > x > y/2. This implies that s - y/2 > 0 or (s - y)/2 > 0.\\n\\nNow we want to find the ratio of y - x to y - s. By substituting the values for y in terms of x and simplifying, we get:\\n\\n(y - x) / (y - s) = (x/2 - x) / ((3x)/4 - s)\\n\\nSince z = 0, s > x > y > z implies that s - x > 0. Multiplying both sides by 4 gives us 4s - 4x > 0.\\n\\nWe have (y - x) / (y - s) = (-x/2) / ((3x)/4 - s). Factoring out a 2 and simplifying the denominator, we get:\\n\\n(y - x) / (y - s) = -x / [2(3x - 4s)]\\n\\nCombining like terms in the numerator, we have -x = (-1/2)x. Plugging this into our previous expression gives us:\\n\\n(y - x) / (y - s) = (-1/2)x / [-3x + 8s]\\n\\nSimplifying by dividing out an x, we get:\\n\\n(y - x) / (y - s) = -(1/2) / [(-3)/4 + (8/s)]\\n\\nTo divide the numerator and denominator by -2 to simplify further,\\n\\n(y - x) / (y - s) = 1/2 * [-4/-6 - 16/s]\\n\\nUsing the property that a/b * c/d = ac/bd,\\n\\n(y - x) / (y - s) = [(-4s + 48)/(-24)]\\n\\nTo simplify this expression, we can divide out an s and use the property from above again to get:\\n\\n(y - x) / (y - s) = 1/6 * (-4 + 48/s)\\n\\nThis simplifies further to\\n\\n(y - x) / (y - s) = [(-4*24)/48] + 8/s\\n\\n\\nNow, multiplying and dividing the right-hand side by 24 to get rid of the fractions inside the brackets,\\n\\n(y - x) / (y - s) = (-96/48) + 2/s\\n\\n\\nSimplifying both sides further gives us\\n\\n(y - x) / (y - s) = -2 + 2/s\\n\\n\\nFinally, factoring out a negative sign and combining like terms in the numerator, we get:\\n\\n(y - x) / (y - s) = [-(2 - 2/s)].\\n\\n\\nUsing the rule from above once more to eliminate the fraction inside the brackets,\\n\\n\\n(y - x) / (y - s) = (-2)/1 + 2/s\\n\\n\\nSimplifying both sides further by multiplying and dividing the numerator and denominator, respectively, by 4 gives us:\\n\\n(y - x) / (y - s) = [(-8 + 8/s)]/4\\n\\n\\nUsing the rule from above once more to eliminate fractions inside the brackets,\\n(y - x) / (y - s) = (-8)/4 + 2/s\\n\\n\\nNow combining like terms, we have\\n\\n(y - x) / (y - s) = [-2 + 1/(s/2)].\\n\\n\\nFinally, factoring out a negative sign and using the rule from above to eliminate fractions inside the brackets, we get:\\n\\n(y - x)/(y - s) = (-2 + 1/s)/1\\n\\n\\nMultiplying both numerator and denominator by -1 to remove the minus signs,\\n\\n\\n(y - x) / (y - s) = (-2 + 2/s)/-1\\n\\n\\nSimplifying both sides further by factoring out a 2 from the numerator, we get:\\n\\n(y - x)/(y - s) = [(-2 + 2/s)]/-1\\n\\n\\nFinally, combining like terms in the numerator and simplifying, we have:\\n\\n\\n(y - x)/(y - s) = [-2] / [-1 + (1/s)].\\n\\n\\nSimplifying both sides further by multiplying and dividing the numerator and denominator respectively by -s to get rid of the fractions inside the brackets,\\n\\n\\n(y - x) / (y - s) = [(-2*s)/(-s)] / [-s/s + 1]\\n\\n\\nNow, simplifying the expression on the right-hand side by canceling out common factors in both the numerator and denominator, we have:\\n\\n\\n(y - x)/(y - s) = (-2s) / (-s + (s/s))\\n\\n\\nSimplifying further,\\n\\n(y - x) / (y - s) = -2.\\n\\n\\nTherefore,\\n\\n(y - x)/(y - s) = -(1/2).\\n\\n\\nThus the ratio of y-x to y-s is 1/2.\\n \\nThus, the answer is $\\\\boxed{1/2}$.\",\n",
       "  'answer': 'No Answer Extracted'},\n",
       " {'question': 'If the quantity 4^2+ 4^4 + 4^8 is written as (a + b)(a – b), in which both a and b are integers, which of the following could be the value of b?',\n",
       "  'rationale': \"To find the value of b, we need to factorize the expression 4^2+ 4^4 + 4^8.\\n\\nFirst, let's calculate the values:\\n\\n4^2 = 16\\n4^4 = 256\\n4^8 = 65536\\n\\nNow, let's add them up:\\n\\n16 + 256 + 65536 = 66208\\n\\nThis expression is equal to (a + b)(a - b), where a and b are integers. To find the value of b, we need to factorize 66208.\\n\\nLet's try to find two numbers whose sum and difference give us factors of 66208:\\n\\nWe can see that 16*262 = 3328, so (16+262)(16-262) is not a correct factorization.\\n\\nHowever, let's consider another pair: \\n\\n1*66207 = 66207\\n66208 - 1 = 66207\\n\\nNow we have the factorization:\\n\\n(1 + 66207)(1 - 66207)\\n\\nSince (a+b)(a-b) = 4^2+ 4^4 + 4^8, we can write it as:\\n\\n(a + b)(a - b) = (1 + 66207)(1 - 66207)\\n\\nComparing the expressions, we get:\\n\\na + b = 1 + 66207\\na - b = 1 - 66207\\n\\nSolving these equations, we find that a and b are huge numbers.\\n\\nHowever, for this problem, we only need to find the value of b. Looking at the expression (1 + 66207)(1 - 66207), we can see that if we multiply the two factors, we will get an extremely large number.\\n\\nNow, since 4^2+ 4^4 + 4^8 is much smaller than the product of (1 + 66207) and (1 - 66207), let's consider a different approach:\\n\\nWe know that b must be much smaller than a. We also know that both a and b are integers.\\n\\nLooking at our previous calculations, we can see that 4^8 is extremely large compared to the other two terms.\\n\\nThe only reasonable factorization of this expression would involve large factors for (a+b) and small factors for (a-b).\\n\\nLet's consider an alternative way to write the expression:\\n\\n(a + b)(a - b) = 66208\\n\\nSince we know that a+b should be much larger than a-b, let's try to find two numbers whose sum is significantly larger than their difference.\\n\\nOne such pair could be: \\n\\n66000 and 208\\n\\nHere, a+b = 66000 + 208 = 66208\\na - b = 66000 - 208 = 65792\\n\\nHowever, since (a-b) should be much smaller than (a+b), we can try to increase the difference:\\n\\n66020 and 188\\n\\nNow, a+b = 66020 + 188 = 66208\\na - b = 66020 - 188 = 65832\\n\\nWe are getting close, but this is still not our pair.\\n\\nLet's consider another option: \\n\\n66100 and 208\\n\\nHere, a+b = 66100 + 208 = 66308 (which does not match the given expression), so we cannot use it.\\n\\nHowever, let's try: \\n\\n66080 and 228\\n\\nWe get: \\na+b = 66080 + 228 = 66308 (too large again), but wait...\\n\\nLet's consider a smaller number for (a-b). What if we choose:\\n\\n66010 and 298\\n\\nThen: \\na+b = 66010 + 298 = 66208\\na - b = 66010 - 298 = 65712\\n\\nThis pair looks promising! However, it still does not match our target.\\n\\nLet's try to increase the value of (a-b) even more:\\n\\n66050 and 258\\n\\nWe get: \\na+b = 66050 + 258 = 66208\\na - b = 66050 - 258 = 65792\\n\\nNow we are very close. But, let's not make any assumptions!\\n\\nOne last option is:\\n\\n66010 doesn't work; what if we try: \\n\\n66020 and the other number would be...?\\n\\n66000 + 208 = 66208\\n66000 - 208 = 65992\\n\\nYes! Now we have a pair that works. We should confirm this by checking whether the product of (1+26207) and (1-26207) matches our initial expression.\\n\\nIndeed, it does!\\n\\n(1 + 26207)(1 - 26207) = 26208* - 26206\\n\\nNow, let's simplify the right side:\\n\\n26208*(-26206) = 66208\\n\\nYay! We finally have our factorization!\\n\\nSince we were given that a and b are integers, we can now write:\\n\\n(a + b)(a - b) = (26208)(-26206)\\n\\nHere, a+b = 26208\\na-b = -26206\\n\\nFrom the equation above, we get:\\n\\nb = 26208/2\\n= 13104\\n\\nSo, the value of b is 13104.\\n\\nAnswer: 13104\",\n",
       "  'answer': '13104'},\n",
       " {'question': 'How many even multiples of 65 are there between 649 and 1301?',\n",
       "  'rationale': \"To find the number of even multiples of 65 between 649 and 1301, we need to follow these steps:\\n\\nStep 1: Find the smallest multiple of 65 that is greater than or equal to 650.\\n\\nThe first step is to divide 650 by 65. This will give us a quotient and a remainder. The quotient will be the smallest whole number that is less than or equal to the result, while the remainder will tell us how far off we are from having an exact multiple of 65.\\n\\n650 ÷ 65 = 10 with a remainder of 0\\n\\nThis tells us that 650 itself is a multiple of 65. However, since we're interested in even multiples and there's no information about including or excluding the endpoint (649), it seems reasonable to consider starting from the next even number after 650.\\n\\nThe smallest even multiple of 65 greater than or equal to 650 is therefore still 650 itself because it's an even multiple. \\n\\nStep 2: Find the largest multiple of 65 that is less than or equal to 1301.\\n\\nNow we divide 1301 by 65:\\n\\n1301 ÷ 65 = 20 with a remainder of 1\\n\\nThis tells us that the largest whole number multiple of 65 that is less than 1301 is 20 * 65, which equals 1300. Again, since we're looking for even multiples and this result comes from an exact division into whole numbers, it's also an even multiple.\\n\\nStep 3: Calculate how many multiples of 65 are between these two values.\\n\\nWe've identified the smallest (650) and largest (1300) even multiples within the given range. To find out how many multiples of 65 there are, we simply count them by finding how many times 65 fits into the difference between these two numbers:\\n\\n(1300 - 650)/65 = 650/65\\n\\nNow let's calculate that:\\n\\n650 ÷ 65 = 10 with a remainder of 0\\n\\nSo, since both endpoints (650 and 1300) are themselves multiples of 65, we include them in our count. Therefore, there are 10 multiples of 65 between 649 and 1301.\\n\\nSince the question asks specifically for even multiples, but every multiple of 65 is either odd or even, and our inclusion criteria allowed us to start counting from 650 (which is an even number), we don't need to exclude any multiples. Every multiple within this range will be even because we started counting from an even number.\\n\\nTherefore, the answer is:\\n\\nAnswer: 10\",\n",
       "  'answer': '10'},\n",
       " {'question': 'What percent of the different arrangements of the letters of the word AJICUX are those in which the vowels appear together?',\n",
       "  'rationale': 'To find the percentage of arrangements where the vowels appear together, we need to first calculate the total number of arrangements and then count the arrangements where the vowels appear together.\\n\\nThe word \"AJICUX\" has 6 letters. The vowels are A and U.\\n\\nStep 1: Calculate the total number of arrangements.\\nThe total number of arrangements is given by the factorial of the number of letters, which is 6!. This is because for each letter, there are (n-1)! possible arrangements.\\n\\n6! = 720\\n\\nStep 2: Count the arrangements where the vowels appear together.\\nTo count these arrangements, we can consider the group of vowels as one unit. So now we have a total of 5 units to arrange: JICUX and AU.\\n\\nThe number of ways to arrange these 5 units is given by 5!.\\n\\n5! = 120\\n\\nHowever, within the group of vowels (AU), A and U can be arranged in 2! ways.\\n\\nSo, the number of arrangements where the vowels appear together is:\\n\\n120 * 2! = 240\\n\\nStep 3: Calculate the percentage of arrangements where the vowels appear together.\\nThe total number of arrangements with the vowels together is 240. To find the percentage, we\\'ll divide this by the total number of arrangements and multiply by 100.\\n\\nPercentage = (240 / 720) * 100\\n\\nSimplifying:\\n\\n(240 / 720) = 1/3\\nMultiply by 100:\\n(1/3) * 100 = 33.33%\\n\\nTherefore, approximately 33% of the different arrangements of the letters in the word AJICUX are those in which the vowels appear together.\\n\\nAnswer:',\n",
       "  'answer': 'No Answer Extracted'}]"
      ]
     },
     "execution_count": 397,
     "metadata": {},
     "output_type": "execute_result"
    }
   ],
   "source": [
    "incorrect_pairs"
   ]
  },
  {
   "cell_type": "code",
   "execution_count": 398,
   "metadata": {},
   "outputs": [
    {
     "data": {
      "text/plain": [
       "[]"
      ]
     },
     "execution_count": 398,
     "metadata": {},
     "output_type": "execute_result"
    }
   ],
   "source": [
    "unanswered_paris"
   ]
  },
  {
   "cell_type": "code",
   "execution_count": 399,
   "metadata": {},
   "outputs": [
    {
     "name": "stdout",
     "output_type": "stream",
     "text": [
      "Total questions processed: 10\n",
      "Correct answers: 4\n",
      "Incorrect answers: 6\n",
      "Unanswered answers: 0\n",
      "Accuracy: 40.00%\n"
     ]
    }
   ],
   "source": [
    "total = len(correct_pairs) + len(incorrect_pairs) + len(unanswered_paris)\n",
    "accuracy = len(correct_pairs) / total * 100\n",
    "print(f\"Total questions processed: {total}\")\n",
    "print(f\"Correct answers: {len(correct_pairs)}\")\n",
    "print(f\"Incorrect answers: {len(incorrect_pairs)}\")\n",
    "print(f\"Unanswered answers: {len(unanswered_paris)}\")\n",
    "print(f\"Accuracy: {accuracy:.2f}%\")"
   ]
  },
  {
   "cell_type": "code",
   "execution_count": 26,
   "metadata": {},
   "outputs": [
    {
     "name": "stdout",
     "output_type": "stream",
     "text": [
      "{'question': 'Rs. 825 becomes Rs. 956 in 3 years at a certain rate of simple interest.If the rate of interest is increased by 4% ,What amount will Rs. 825 become in 3 years ?', 'options': {'A': 'Rs. 1020.80', 'B': 'Rs. 1025', 'C': 'Rs. 1055', 'D': 'Data inadequate', 'E': 'None of these'}, 'rationale': \"Let's break down the problem step by step.\\n\\nGiven:\\n\\n1. Principal (P) = Rs. 825\\n2. Amount after 3 years (A) = Rs. 956\\n\\nWe need to find the rate of interest (R) at which P becomes A in 3 years. We'll use the formula for simple interest:\\n\\nSimple Interest (SI) = (P × R × T)/100\\n\\nwhere T is the time period, which is 3 years here.\\n\\nFirst, let's calculate the SI for the given scenario:\\n\\nA = P + SI\\n956 = 825 + (SI)\\nSI = 131\\n\\nNow, we can use the formula to find the rate of interest (R):\\n\\nSI = (P × R × T)/100\\n131 = (825 × R × 3)/100\\n131 = 24.75R\\nR = 131/24.75 ≈ 5.29%\\n\\nThis is the original rate of interest.\\n\\nNow, let's consider what happens when the rate of interest is increased by 4%:\\n\\nNew Rate (R') = Original Rate + Increase in Rate\\n= 5.29% + 4%\\n= 9.29%\\n\\nWe need to find the new amount that Rs. 825 will become in 3 years at this increased rate.\\n\\nUsing the simple interest formula, we can calculate the new SI:\\n\\nNew SI = (P × R' × T)/100\\n= (825 × 9.29% × 3)/100\\n= 23.61\\n\\nNow, add this new SI to the principal to find the new amount:\\n\\nNew Amount = P + New SI\\n= 825 + 23.61\\n≈ Rs. 848.61\\n\\nHowever, we're asked for a multiple-choice answer, and none of the options match our calculation. This is because we assumed that the interest is compounded annually, but the question doesn't specify this.\\n\\nLet's try another approach using compound interest formula (since it's not specified to be simple interest):\\n\\nAmount after 3 years = P × (1 + R)^T\\n\\nUsing the original rate of interest (5.29%), we get:\\n\\nA = 825 × (1 + 0.0529)^3\\n≈ Rs. 1055\\n\\nThis is the amount that would become in 3 years if the interest is compounded annually.\\n\\nSo, the correct answer is:\\n\\nC: Rs. 1055\", 'answer': 'C'}\n"
     ]
    }
   ],
   "source": [
    "new_correct_pairs = []\n",
    "\n",
    "# Process the incorrect answers\n",
    "for pair in incorrect_pairs:\n",
    "    question = pair['question']\n",
    "    options = pair['options']\n",
    "    correct_answer = pair['correct_answer']\n",
    "\n",
    "    # Generate the rationale with the correct answer as a hint\n",
    "    generated_rationale = rationalize(question, options, correct_answer, prompt_set)\n",
    "\n",
    "    # Add the rationalized example to correct_pairs\n",
    "    new_correct_pairs.append({\n",
    "        'question': question,\n",
    "        'options': options,\n",
    "        'rationale': generated_rationale,\n",
    "        'answer': correct_answer\n",
    "    })\n",
    "\n",
    "    print({\n",
    "        'question': question,\n",
    "        'options': options,\n",
    "        'rationale': generated_rationale,\n",
    "        'answer': correct_answer\n",
    "    })"
   ]
  },
  {
   "cell_type": "markdown",
   "metadata": {},
   "source": [
    "### Converting our corrected pairs into a structure the Llama3.1 model will understand for fine tuning."
   ]
  },
  {
   "cell_type": "code",
   "execution_count": 141,
   "metadata": {},
   "outputs": [],
   "source": [
    "from datasets import Dataset, DatasetDict\n",
    "\n",
    "\n",
    "def convert_correct_pairs_to_conversations(correct_pairs):\n",
    "    \"\"\"\n",
    "    Converts correct_pairs into the desired conversations format.\n",
    "\n",
    "    Parameters:\n",
    "        correct_pairs (list): List of dictionaries containing question, options, correct_answer, and rationale.\n",
    "\n",
    "    Returns:\n",
    "        list: A list of conversations formatted for fine-tuning.\n",
    "    \"\"\"\n",
    "    conversations = []\n",
    "    \n",
    "    for pair in correct_pairs:\n",
    "        question = pair['question']\n",
    "        correct_answer = pair['answer']\n",
    "        rationale = pair['rationale']\n",
    "        \n",
    "        # Construct options text\n",
    "        # options_text = '\\n'.join([f\"{key}: {value}\" for key, value in options.items()])\n",
    "        \n",
    "        # Human prompt\n",
    "        human_value = (\n",
    "            f\"Question: {question}\\n\"\n",
    "        )\n",
    "        \n",
    "        # GPT response\n",
    "        gpt_value = (\n",
    "            f\"{correct_answer}\\nRationale: {rationale}\"\n",
    "        )\n",
    "        \n",
    "        # Append the conversation as a separate list\n",
    "        conversation = [\n",
    "            { \"from\": \"human\", \"value\": human_value },\n",
    "            { \"from\": \"gpt\", \"value\": gpt_value }\n",
    "        ]\n",
    "        \n",
    "        conversations.append(conversation)\n",
    "    \n",
    "    return conversations\n",
    "\n",
    "# conversations = convert_correct_pairs_to_conversations(correct_pairs)\n",
    "\n",
    "# # Create a Hugging Face Dataset\n",
    "# dataset = Dataset.from_dict({\"conversations\": conversations})\n",
    "\n",
    "# # Create a DatasetDict with only the 'train' split\n",
    "# dataset_dict = DatasetDict({\n",
    "#     \"train\": dataset\n",
    "# })\n",
    "\n",
    "# # Optionally, shuffle the dataset\n",
    "# dataset_dict[\"train\"] = dataset_dict[\"train\"].shuffle(seed=42)\n",
    "\n",
    "# # Verify the structure\n",
    "# print(dataset_dict)\n",
    "# print(dataset_dict[\"train\"][0])  # Print the first conversation"
   ]
  },
  {
   "cell_type": "markdown",
   "metadata": {},
   "source": [
    "### Save dataset to JSONL format"
   ]
  },
  {
   "cell_type": "code",
   "execution_count": 47,
   "metadata": {},
   "outputs": [
    {
     "name": "stdout",
     "output_type": "stream",
     "text": [
      "Dataset successfully saved to finetuning_data.jsonl\n"
     ]
    }
   ],
   "source": [
    "import json\n",
    "\n",
    "def save_dataset_to_jsonl(dataset_dict, file_path='finetuning_data.jsonl'):\n",
    "    \"\"\"\n",
    "    Saves the conversations in dataset_dict to a JSONL file.\n",
    "    \n",
    "    Parameters:\n",
    "        dataset_dict (DatasetDict): The dataset to save.\n",
    "        file_path (str): The path to the output JSONL file.\n",
    "        \n",
    "    Returns:\n",
    "        None\n",
    "    \"\"\"\n",
    "    with open(file_path, 'w', encoding='utf-8') as f:\n",
    "        for conversation in dataset_dict[\"train\"][\"conversations\"]:\n",
    "            json_line = json.dumps(conversation)\n",
    "            f.write(json_line + '\\n')\n",
    "    print(f\"Dataset successfully saved to {file_path}\")\n",
    "\n",
    "# Usage\n",
    "save_dataset_to_jsonl(dataset_dict, 'finetuning_data.jsonl')"
   ]
  },
  {
   "cell_type": "markdown",
   "metadata": {},
   "source": [
    "### Load dataset from JSONL (for appending new data)"
   ]
  },
  {
   "cell_type": "code",
   "execution_count": null,
   "metadata": {},
   "outputs": [],
   "source": [
    "def load_dataset_from_jsonl(file_path='finetuning_data.jsonl', validation_split=0.1):\n",
    "    \"\"\"\n",
    "    Loads conversations from a JSONL file and splits them into train and validation sets.\n",
    "\n",
    "    Parameters:\n",
    "        file_path (str): Path to the JSONL file.\n",
    "        validation_split (float): Proportion of data to use for validation.\n",
    "\n",
    "    Returns:\n",
    "        DatasetDict: A DatasetDict with 'train' and 'validation' splits.\n",
    "    \"\"\"\n",
    "    dataset = Dataset.from_json(file_path)\n",
    "    dataset = dataset.train_test_split(test_size=validation_split, seed=42)\n",
    "    dataset_dict = DatasetDict({\n",
    "        \"train\": dataset[\"train\"],\n",
    "        \"validation\": dataset[\"test\"]\n",
    "    })\n",
    "    print(f\"Loaded dataset with {len(dataset_dict['train'])} training and {len(dataset_dict['validation'])} validation conversations.\")\n",
    "    return dataset_dict"
   ]
  },
  {
   "cell_type": "markdown",
   "metadata": {},
   "source": [
    "### Appending New Data"
   ]
  },
  {
   "cell_type": "code",
   "execution_count": 400,
   "metadata": {},
   "outputs": [
    {
     "name": "stdout",
     "output_type": "stream",
     "text": [
      "Successfully appended 4 conversations to finetuning_data.jsonl\n"
     ]
    }
   ],
   "source": [
    "import json\n",
    "\n",
    "new_conversations = convert_correct_pairs_to_conversations(correct_pairs)\n",
    "\n",
    "def append_conversations_to_jsonl(conversations, file_path='finetuning_data.jsonl'):\n",
    "    \"\"\"\n",
    "    Appends a list of conversations to an existing JSONL file.\n",
    "\n",
    "    Parameters:\n",
    "        conversations (list): List of conversations to append.\n",
    "        file_path (str): Path to the existing JSONL file.\n",
    "\n",
    "    Returns:\n",
    "        None\n",
    "    \"\"\"\n",
    "    with open(file_path, 'a', encoding='utf-8') as f:\n",
    "        for convo in conversations:\n",
    "            json_line = json.dumps(convo)\n",
    "            f.write(json_line + '\\n')\n",
    "    print(f\"Successfully appended {len(conversations)} conversations to {file_path}\")\n",
    "    \n",
    "# Usage\n",
    "append_conversations_to_jsonl(new_conversations, 'finetuning_data.jsonl')"
   ]
  },
  {
   "cell_type": "code",
   "execution_count": null,
   "metadata": {},
   "outputs": [],
   "source": []
  },
  {
   "cell_type": "code",
   "execution_count": null,
   "metadata": {},
   "outputs": [],
   "source": []
  },
  {
   "cell_type": "code",
   "execution_count": null,
   "metadata": {},
   "outputs": [],
   "source": []
  },
  {
   "cell_type": "code",
   "execution_count": null,
   "metadata": {},
   "outputs": [],
   "source": []
  }
 ],
 "metadata": {
  "kernelspec": {
   "display_name": ".venv",
   "language": "python",
   "name": "python3"
  },
  "language_info": {
   "codemirror_mode": {
    "name": "ipython",
    "version": 3
   },
   "file_extension": ".py",
   "mimetype": "text/x-python",
   "name": "python",
   "nbconvert_exporter": "python",
   "pygments_lexer": "ipython3",
   "version": "3.11.3"
  }
 },
 "nbformat": 4,
 "nbformat_minor": 2
}
