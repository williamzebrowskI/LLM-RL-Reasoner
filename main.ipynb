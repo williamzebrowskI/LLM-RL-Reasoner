{
 "cells": [
  {
   "cell_type": "code",
   "execution_count": 13,
   "metadata": {},
   "outputs": [
    {
     "name": "stderr",
     "output_type": "stream",
     "text": [
      "Generating train split: 100%|██████████| 97467/97467 [00:00<00:00, 927189.57 examples/s]\n",
      "Generating test split: 100%|██████████| 254/254 [00:00<00:00, 124894.87 examples/s]\n",
      "Generating validation split: 100%|██████████| 254/254 [00:00<00:00, 268553.87 examples/s]\n"
     ]
    },
    {
     "data": {
      "text/plain": [
       "DatasetDict({\n",
       "    train: Dataset({\n",
       "        features: ['question', 'options', 'rationale', 'correct'],\n",
       "        num_rows: 97467\n",
       "    })\n",
       "    test: Dataset({\n",
       "        features: ['question', 'options', 'rationale', 'correct'],\n",
       "        num_rows: 254\n",
       "    })\n",
       "    validation: Dataset({\n",
       "        features: ['question', 'options', 'rationale', 'correct'],\n",
       "        num_rows: 254\n",
       "    })\n",
       "})"
      ]
     },
     "execution_count": 13,
     "metadata": {},
     "output_type": "execute_result"
    }
   ],
   "source": [
    "from datasets import load_dataset\n",
    "\n",
    "ds = load_dataset(\"deepmind/aqua_rat\", \"raw\")\n",
    "\n",
    "ds"
   ]
  },
  {
   "cell_type": "code",
   "execution_count": 14,
   "metadata": {},
   "outputs": [],
   "source": [
    "ds_train = ds['train']"
   ]
  },
  {
   "cell_type": "code",
   "execution_count": 15,
   "metadata": {},
   "outputs": [
    {
     "data": {
      "text/plain": [
       "{'question': \"Two friends plan to walk along a 43-km trail, starting at opposite ends of the trail at the same time. If Friend P's rate is 15% faster than Friend Q's, how many kilometers will Friend P have walked when they pass each other?\",\n",
       " 'options': ['A)21', 'B)21.5', 'C)22', 'D)22.5', 'E)23'],\n",
       " 'rationale': 'If Q complete x kilometers, then P completes 1.15x kilometers.\\nx + 1.15x = 43\\n2.15x=43\\nx = 43/2.15 = 20\\nThen P will have have walked 1.15*20=23 km.\\nThe answer is E.',\n",
       " 'correct': 'E'}"
      ]
     },
     "execution_count": 15,
     "metadata": {},
     "output_type": "execute_result"
    }
   ],
   "source": [
    "ds_train[0]"
   ]
  },
  {
   "cell_type": "code",
   "execution_count": 16,
   "metadata": {},
   "outputs": [],
   "source": [
    "# Number of examples to use for the prompt set\n",
    "NUM_PROMPT_EXAMPLES = 10\n",
    "\n",
    "prompt_examples = []\n",
    "\n",
    "for i in range(NUM_PROMPT_EXAMPLES):\n",
    "    example = ds_train[i]\n",
    "    question = example['question']\n",
    "    options = example['options']\n",
    "    rationale = example['rationale']\n",
    "    correct_option = example['correct']\n",
    "    \n",
    "    # Map the correct option letter to the actual answer text\n",
    "    option_dict = {opt[0]: opt[2:].strip() for opt in options}  # {'A': '21', 'B': '21.5', ...}\n",
    "    correct_answer = option_dict[correct_option]\n",
    "    \n",
    "    prompt_examples.append({\n",
    "        'question': question,\n",
    "        'options': options,\n",
    "        'rationale': rationale,\n",
    "        'answer': correct_answer\n",
    "    })"
   ]
  },
  {
   "cell_type": "code",
   "execution_count": 17,
   "metadata": {},
   "outputs": [
    {
     "data": {
      "text/plain": [
       "[{'question': \"Two friends plan to walk along a 43-km trail, starting at opposite ends of the trail at the same time. If Friend P's rate is 15% faster than Friend Q's, how many kilometers will Friend P have walked when they pass each other?\",\n",
       "  'options': ['A)21', 'B)21.5', 'C)22', 'D)22.5', 'E)23'],\n",
       "  'rationale': 'If Q complete x kilometers, then P completes 1.15x kilometers.\\nx + 1.15x = 43\\n2.15x=43\\nx = 43/2.15 = 20\\nThen P will have have walked 1.15*20=23 km.\\nThe answer is E.',\n",
       "  'answer': '23'},\n",
       " {'question': 'In the coordinate plane, points (x, 1) and (5, y) are on line k. If line k passes through the origin and has slope 1/5, then what are the values of x and y respectively?',\n",
       "  'options': ['A)4 and 1', 'B)1 and 5', 'C)5 and 1', 'D)3 and 5', 'E)5 and 3'],\n",
       "  'rationale': 'Line k passes through the origin and has slope 1/5 means that its equation is y=1/5*x.\\nThus: (x, 1)=(5, 1) and (5, y) = (5,1) -->x=5 and y=1\\nAnswer: C',\n",
       "  'answer': '5 and 1'},\n",
       " {'question': 'For all numbers p and q, the operation @ is defined by p@q = p^2 - pq. If xy ≠ 0, then which of the following can be equal to zero?\\nI. x@y\\nII. (xy)@y\\nIII. x@(x + y)',\n",
       "  'options': ['A)II',\n",
       "   'B)I and II',\n",
       "   'C)I and III',\n",
       "   'D)II and III',\n",
       "   'E)All of the above'],\n",
       "  'rationale': 'p@q = p^2 - pq=p(p-q).... so p@q will be zero if p=q or p=0.. but a cannot be equal to 0.. as per Q, x and y can take any int value except 0...\\nnow lets look at the choices..\\nwhen x=y, it will be 0... so ok...\\nwhen we put xy=y, it is possible when x=1 and y any integer... so ok again\\nwhen we put x=x+y.... only possibility when y=0 and it is given x and y cannot be 0....so not possible\\nonly l and ll possible ans B....',\n",
       "  'answer': 'I and II'},\n",
       " {'question': 'Carl is facing very difficult financial times and can only pay the interest on a $10,000 loan he has taken. The bank charges him a quarterly compound rate of 4%. What is the approximate interest he pays annually?',\n",
       "  'options': ['A)$1600', 'B)$2000', 'C)$2150', 'D)$2500', 'E)$12000'],\n",
       "  'rationale': 'Usually, you are given the annual rate of interest and it is mentioned that it is annual rate.\\nThe bank charges him a quarterly compounded ANNUAL rate of 16%.\\nHere you find per quarter rate as (16/4)% = 4%\\nI have actually never seen a question with quarter rate given but since this question did not mentionannual rate of interestand since the options did not make sense with 4% annual rate of interest, it is apparent that the intent was a 4% quarterly rate. So the bank charges 4% every quarter and compounds it in the next quarter. Had it been a simple quarterly rate, we would have just found 4 * 4% of 10,000 = $1600 as our answer.\\nBut since, the interest is compounded, it will be a bit more than $1600. Option (A) looks correct.',\n",
       "  'answer': '$1600'},\n",
       " {'question': 'The speed at which a man can row a boat in still water is 25 kmph. If he rows downstream, where the speed of current is 11 kmph, what time will he take to cover 80 metres?',\n",
       "  'options': ['A)18 seconds',\n",
       "   'B)27 seconds',\n",
       "   'C)26 seconds',\n",
       "   'D)12 seconds',\n",
       "   'E)8 seconds'],\n",
       "  'rationale': 'Speed of the boat downstream = 25 +11\\n= 36 kmph\\n= 36 * 5/18 = 10 m/s\\nHence time taken to cover 80 m = 80/10\\n= 8 seconds.\\nAnswer:E',\n",
       "  'answer': '8 seconds'},\n",
       " {'question': 'There are k-2 members in a certain band, including Jim and Ellen. Two members are to be selected to attend the Grammy awards ceremony. If there are 6 possible combinations in which Jim and Ellen are not selected, what is the value of k?',\n",
       "  'options': ['A)8', 'B)9', 'C)10', 'D)11', 'E)12'],\n",
       "  'rationale': 'There are k-2 members in the band, and k-4 members without Jim and Ellen.\\n(k-4)C2 = 6\\n(k-4)(k-5)/2 = 6\\n(k-4)(k-5) = 12 = 4*3\\nk = 8\\nThe answer is A.',\n",
       "  'answer': '8'},\n",
       " {'question': 'If (x^2 + 4x - 11)/5 ≤ x + 1, then x could be represented by which of the following?',\n",
       "  'options': ['A)− 3 ≤ x ≤ 4',\n",
       "   'B)− 4 ≤ x ≤ 3',\n",
       "   'C)− 3 ≤ x ≤ 3',\n",
       "   'D)− 4 ≤ x ≤ − 3',\n",
       "   'E)3 ≤ x ≤ 4'],\n",
       "  'rationale': 'IMO A is correct answer\\nsolving through eqautions\\nx^2 +4x-11<= 5x+5\\n(x+3)(x-4)<=0',\n",
       "  'answer': '− 3 ≤ x ≤ 4'},\n",
       " {'question': 'Find the smallest number of five digits exactly divisible by 22,33,66 and 44.',\n",
       "  'options': ['A)10101', 'B)11000', 'C)10110', 'D)10111', 'E)10100'],\n",
       "  'rationale': 'Smallest number of five digits is 10000.\\nRequired number must be divisible by L.C.M. of 22,33,66,44 i.e 132,\\nOn dividing 10000 by 132,we get 32 as remainder.\\nTherefore, Required number = 10000 +( 132 â€“ 32 ) = 10100.\\nAnswer is E.',\n",
       "  'answer': '10100'},\n",
       " {'question': 'The entrance fee for a fair is $5 for persons under the age of 18, and 20% more for persons older. Each ride at the fair costs $0.50. If Joe goes with her 6 years old twin brothers, and they each took 3 rides in total. How much money does Joe end up spending at the fair?',\n",
       "  'options': ['A)16', 'B)20.5', 'C)17.5', 'D)20', 'E)4.5'],\n",
       "  'rationale': 'Total entrance fee is (2*$5) + (1.20*5)= $16\\nTotal rides fee is (0.50*3)*3= $4.50\\nTotal money spent is $20.50\\nAnswer is B',\n",
       "  'answer': '20.5'},\n",
       " {'question': 'If X and Y are digits and 8XY is a 3-digit number that is divisible by 2, which of the following is a possible product of X and Y?',\n",
       "  'options': ['A)15', 'B)31', 'C)12', 'D)27', 'E)91'],\n",
       "  'rationale': 'Key to this question is to remember the fact that a number divisible by 2 must end with even OR 0 (i.e Y).\\nIf Y had to be 0, product should also be 0 regardless of X.\\nOtherwise, product is a multiple of 2. Only one answer choice meets the requirement.\\nAns C.',\n",
       "  'answer': '12'}]"
      ]
     },
     "execution_count": 17,
     "metadata": {},
     "output_type": "execute_result"
    }
   ],
   "source": [
    "prompt_examples"
   ]
  },
  {
   "cell_type": "code",
   "execution_count": 18,
   "metadata": {},
   "outputs": [],
   "source": [
    "prompt_set = \"\"\n",
    "\n",
    "for example in prompt_examples:\n",
    "    question = example['question']\n",
    "    options = '\\n'.join(example['options'])\n",
    "    rationale = example['rationale']\n",
    "    answer = example['answer']\n",
    "    \n",
    "    prompt_set += f\"Question: {question}\\nOptions:\\n{options}\\nAnswer Explanation: {rationale}\\nAnswer: {answer}\\n\\n\""
   ]
  },
  {
   "cell_type": "code",
   "execution_count": 21,
   "metadata": {},
   "outputs": [],
   "source": [
    "# Exclude prompt examples from the main dataset\n",
    "start_index = NUM_PROMPT_EXAMPLES\n",
    "dataset_D = ds_train[start_index:]"
   ]
  },
  {
   "cell_type": "code",
   "execution_count": null,
   "metadata": {},
   "outputs": [],
   "source": []
  }
 ],
 "metadata": {
  "kernelspec": {
   "display_name": ".venv",
   "language": "python",
   "name": "python3"
  },
  "language_info": {
   "codemirror_mode": {
    "name": "ipython",
    "version": 3
   },
   "file_extension": ".py",
   "mimetype": "text/x-python",
   "name": "python",
   "nbconvert_exporter": "python",
   "pygments_lexer": "ipython3",
   "version": "3.11.8"
  }
 },
 "nbformat": 4,
 "nbformat_minor": 2
}
