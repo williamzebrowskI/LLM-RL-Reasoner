{
 "cells": [
  {
   "cell_type": "code",
   "execution_count": 1,
   "metadata": {},
   "outputs": [
    {
     "name": "stderr",
     "output_type": "stream",
     "text": [
      "/Users/williamzebrowski/LLM-RL-Reasoner/.venv/lib/python3.11/site-packages/tqdm/auto.py:21: TqdmWarning: IProgress not found. Please update jupyter and ipywidgets. See https://ipywidgets.readthedocs.io/en/stable/user_install.html\n",
      "  from .autonotebook import tqdm as notebook_tqdm\n"
     ]
    }
   ],
   "source": [
    "import re\n",
    "import ollama\n",
    "from src.data_loading import load_data\n",
    "from src.parsing import parse_options\n",
    "from src.rationale_generation import generate_rationale_and_answer\n",
    "from src.utils import is_rationale_correct\n",
    "from src.rationalization import rationalize\n",
    "from src.prompt_generation import create_prompt_examples, create_prompt_set, clean_options, get_correct_answer_text"
   ]
  },
  {
   "cell_type": "code",
   "execution_count": 755,
   "metadata": {},
   "outputs": [],
   "source": [
    "NUM_PROMPT_EXAMPLES = 5 # number of prompt examples\n",
    "NUM_EXAMPLES_TO_PROCESS = 10 # number of examples to process"
   ]
  },
  {
   "cell_type": "markdown",
   "metadata": {},
   "source": [
    "### Load Dataset"
   ]
  },
  {
   "cell_type": "code",
   "execution_count": 756,
   "metadata": {},
   "outputs": [
    {
     "name": "stdout",
     "output_type": "stream",
     "text": [
      "Dataset({\n",
      "    features: ['question', 'options', 'rationale', 'correct'],\n",
      "    num_rows: 10\n",
      "})\n"
     ]
    }
   ],
   "source": [
    "ds_train = load_data()\n",
    "\n",
    "# Step 1: Select the desired range from ds_train\n",
    "dataset_D = ds_train.select(range(NUM_PROMPT_EXAMPLES, len(ds_train)))\n",
    "\n",
    "# Step 2: Shuffle the selected dataset\n",
    "dataset_D_shuffled = dataset_D.shuffle()  # Use any seed you prefer\n",
    "\n",
    "# Step 3: Select a subset of examples to process\n",
    "dataset_D_subset = dataset_D_shuffled.select(range(NUM_EXAMPLES_TO_PROCESS))\n",
    "\n",
    "print(dataset_D_subset)"
   ]
  },
  {
   "cell_type": "markdown",
   "metadata": {},
   "source": [
    "### Create prompt examples"
   ]
  },
  {
   "cell_type": "code",
   "execution_count": 757,
   "metadata": {},
   "outputs": [
    {
     "data": {
      "text/plain": [
       "[{'question': \"Two friends plan to walk along a 43-km trail, starting at opposite ends of the trail at the same time. If Friend P's rate is 15% faster than Friend Q's, how many kilometers will Friend P have walked when they pass each other?\",\n",
       "  'rationale': 'If Q complete x kilometers, then P completes 1.15x kilometers.\\nx + 1.15x = 43\\n2.15x=43\\nx = 43/2.15 = 20\\nThen P will have have walked 1.15*20=23 km.\\nThe answer is E.',\n",
       "  'answer': 'E'},\n",
       " {'question': 'In the coordinate plane, points (x, 1) and (5, y) are on line k. If line k passes through the origin and has slope 1/5, then what are the values of x and y respectively?',\n",
       "  'rationale': 'Line k passes through the origin and has slope 1/5 means that its equation is y=1/5*x.\\nThus: (x, 1)=(5, 1) and (5, y) = (5,1) -->x=5 and y=1\\nAnswer: C',\n",
       "  'answer': 'C'},\n",
       " {'question': 'For all numbers p and q, the operation @ is defined by p@q = p^2 - pq. If xy ≠ 0, then which of the following can be equal to zero?\\nI. x@y\\nII. (xy)@y\\nIII. x@(x + y)',\n",
       "  'rationale': 'p@q = p^2 - pq=p(p-q).... so p@q will be zero if p=q or p=0.. but a cannot be equal to 0.. as per Q, x and y can take any int value except 0...\\nnow lets look at the choices..\\nwhen x=y, it will be 0... so ok...\\nwhen we put xy=y, it is possible when x=1 and y any integer... so ok again\\nwhen we put x=x+y.... only possibility when y=0 and it is given x and y cannot be 0....so not possible\\nonly l and ll possible ans B....',\n",
       "  'answer': 'B'},\n",
       " {'question': 'Carl is facing very difficult financial times and can only pay the interest on a $10,000 loan he has taken. The bank charges him a quarterly compound rate of 4%. What is the approximate interest he pays annually?',\n",
       "  'rationale': 'Usually, you are given the annual rate of interest and it is mentioned that it is annual rate.\\nThe bank charges him a quarterly compounded ANNUAL rate of 16%.\\nHere you find per quarter rate as (16/4)% = 4%\\nI have actually never seen a question with quarter rate given but since this question did not mentionannual rate of interestand since the options did not make sense with 4% annual rate of interest, it is apparent that the intent was a 4% quarterly rate. So the bank charges 4% every quarter and compounds it in the next quarter. Had it been a simple quarterly rate, we would have just found 4 * 4% of 10,000 = $1600 as our answer.\\nBut since, the interest is compounded, it will be a bit more than $1600. Option (A) looks correct.',\n",
       "  'answer': 'A'},\n",
       " {'question': 'The speed at which a man can row a boat in still water is 25 kmph. If he rows downstream, where the speed of current is 11 kmph, what time will he take to cover 80 metres?',\n",
       "  'rationale': 'Speed of the boat downstream = 25 +11\\n= 36 kmph\\n= 36 * 5/18 = 10 m/s\\nHence time taken to cover 80 m = 80/10\\n= 8 seconds.\\nAnswer:E',\n",
       "  'answer': 'E'}]"
      ]
     },
     "execution_count": 757,
     "metadata": {},
     "output_type": "execute_result"
    }
   ],
   "source": [
    "prompt_examples = create_prompt_examples(ds_train, NUM_PROMPT_EXAMPLES)\n",
    "\n",
    "prompt_examples"
   ]
  },
  {
   "cell_type": "markdown",
   "metadata": {},
   "source": [
    "### Create Prompt Sets"
   ]
  },
  {
   "cell_type": "code",
   "execution_count": 758,
   "metadata": {},
   "outputs": [
    {
     "name": "stdout",
     "output_type": "stream",
     "text": [
      "Question: Two friends plan to walk along a 43-km trail, starting at opposite ends of the trail at the same time. If Friend P's rate is 15% faster than Friend Q's, how many kilometers will Friend P have walked when they pass each other?\n",
      "Answer Explanation: If Q complete x kilometers, then P completes 1.15x kilometers.\\nx + 1.15x = 43\\n2.15x=43\\nx = 43/2.15 = 20\\nThen P will have have walked 1.15*20=23 km.\\nThe answer is E.\n",
      "Answer: 23\n",
      "###\n",
      "Question: In the coordinate plane, points (x, 1) and (5, y) are on line k. If line k passes through the origin and has slope 1/5, then what are the values of x and y respectively?\n",
      "Answer Explanation: Line k passes through the origin and has slope 1/5 means that its equation is y=1/5*x.\\nThus: (x, 1)=(5, 1) and (5, y) = (5,1) -->x=5 and y=1\\nAnswer: C\n",
      "Answer: 5 and 1\n",
      "###\n",
      "Question: For all numbers p and q, the operation @ is defined by p@q = p^2 - pq. If xy ≠ 0, then which of the following can be equal to zero?\n",
      "I. x@y\n",
      "II. (xy)@y\n",
      "III. x@(x + y)\n",
      "Answer Explanation: p@q = p^2 - pq=p(p-q).... so p@q will be zero if p=q or p=0.. but a cannot be equal to 0.. as per Q, x and y can take any int value except 0...\\nnow lets look at the choices..\\nwhen x=y, it will be 0... so ok...\\nwhen we put xy=y, it is possible when x=1 and y any integer... so ok again\\nwhen we put x=x+y.... only possibility when y=0 and it is given x and y cannot be 0....so not possible\\nonly l and ll possible ans B....\n",
      "Answer: I and II\n",
      "###\n",
      "Question: Carl is facing very difficult financial times and can only pay the interest on a $10,000 loan he has taken. The bank charges him a quarterly compound rate of 4%. What is the approximate interest he pays annually?\n",
      "Answer Explanation: Usually, you are given the annual rate of interest and it is mentioned that it is annual rate.\\nThe bank charges him a quarterly compounded ANNUAL rate of 16%.\\nHere you find per quarter rate as (16/4)% = 4%\\nI have actually never seen a question with quarter rate given but since this question did not mentionannual rate of interestand since the options did not make sense with 4% annual rate of interest, it is apparent that the intent was a 4% quarterly rate. So the bank charges 4% every quarter and compounds it in the next quarter. Had it been a simple quarterly rate, we would have just found 4 * 4% of 10,000 = $1600 as our answer.\\nBut since, the interest is compounded, it will be a bit more than $1600. Option (A) looks correct.\n",
      "Answer: $1600\n",
      "###\n",
      "Question: The speed at which a man can row a boat in still water is 25 kmph. If he rows downstream, where the speed of current is 11 kmph, what time will he take to cover 80 metres?\n",
      "Answer Explanation: Speed of the boat downstream = 25 +11\\n= 36 kmph\\n= 36 * 5/18 = 10 m/s\\nHence time taken to cover 80 m = 80/10\\n= 8 seconds.\\nAnswer:E\n",
      "Answer: 8 seconds\n",
      "###\n",
      "\n"
     ]
    }
   ],
   "source": [
    "prompt_set = create_prompt_set(ds_train, NUM_PROMPT_EXAMPLES)\n",
    "print(prompt_set)"
   ]
  },
  {
   "cell_type": "markdown",
   "metadata": {},
   "source": [
    "### Initialize lists to hold correct and incorrect pairs"
   ]
  },
  {
   "cell_type": "code",
   "execution_count": 759,
   "metadata": {},
   "outputs": [],
   "source": [
    "correct_pairs = []\n",
    "incorrect_pairs = []\n",
    "unanswered_paris = []"
   ]
  },
  {
   "cell_type": "markdown",
   "metadata": {},
   "source": [
    "### Iterate over each example in the subset"
   ]
  },
  {
   "cell_type": "code",
   "execution_count": 760,
   "metadata": {},
   "outputs": [],
   "source": [
    "def extract_answer_text(rationale):\n",
    "    \"\"\"\n",
    "    Extracts the answer text from the rationale using regex.\n",
    "    \n",
    "    Args:\n",
    "        rationale (str): Generated rationale string.\n",
    "    \n",
    "    Returns:\n",
    "        str or None: Extracted answer text if found, else None.\n",
    "    \"\"\"\n",
    "    # Attempt to extract the answer text after 'Answer:'\n",
    "    match = re.search(r'Answer:\\s*(.+)', rationale, re.IGNORECASE)\n",
    "    if match:\n",
    "        return match.group(1)\n",
    "    return None"
   ]
  },
  {
   "cell_type": "code",
   "execution_count": 761,
   "metadata": {},
   "outputs": [
    {
     "name": "stdout",
     "output_type": "stream",
     "text": [
      "correct_answer_text: 38\n",
      "clean options: ['A) 28', 'B) 29', 'C) 34', 'D) 38', 'E) 36']\n",
      "extracted answer: 20\n",
      "incorrect\n",
      "Incorrect: {'question': \"a' and 'b' are positive integers such that their LCM is 20 and their HCF is 1. What is the difference between the maximum and minimum possible values of 'a - b'?\", 'rationale': \"To find the maximum and minimum possible values of 'a - b', we need to understand the relationship between a, b, LCM (Least Common Multiple), and HCF (Highest Common Factor).\\n\\nSince the LCM of a' and b is 20, and they are positive integers with HCF = 1, it implies that a' and b are coprime numbers. The prime factorization of 20 is 2^2 * 5.\\n\\nGiven that a' and b are coprime, we can express them as follows:\\n\\na' = 2^m * 5^n\\nb = p^x * q^y\\n\\nwhere m, n, x, y ≥ 0; p and q are distinct primes other than 2 or 5.\\n\\nSince the LCM of a' and b is 20, we know that a prime factorization involving 2s to any power not exceeding 2 and/or one 5 will be part of both numbers. The minimum possible values for a' and b can then be written as:\\n\\na' = 4 (2^2)\\nb = 5\\n\\nFor the maximum possible value, we assign all the factors in the LCM to either a' or b.\\n\\na' = 20\\nb = 1\\n\\nThe difference between the maximum and minimum possible values of 'a - b' can now be calculated as follows:\\n\\nMaximum: a' = 20, b = 1; a - b = 20 - 1 = 19\\nMinimum: a' = 4, b = 5; a - b = 4 - 5 = -1\\n\\nThe difference between the maximum and minimum possible values of 'a - b' is:\\n\\n|19 - (-1)| = |20 - 0| = 20\\n\\nTherefore,\\n\\nAnswer: 20\", 'answer': '20'}\n",
      "Processed 1 questions.\n",
      "\n",
      "correct_answer_text: 2\n",
      "clean options: ['A) 11', 'B) 2', 'C) 5', 'D) 3', 'E) 9']\n",
      "extracted answer: Total overlapped = 4 +3 +5  \n",
      "incorrect\n",
      "Incorrect: {'question': 'In a games hour 4 different types of players came to the ground? cricket 11, hockey 15, football 21, softball 15. In these 4 people play both cricket and hockey, 3people play both softball and football. 5 people play both cricket and football. How many people play only cricket?', 'rationale': \"To solve this problem, we need to find the number of people who play only cricket.\\n\\nLet's start by calculating the total number of players:\\n\\nCricket = 11\\nHockey = 15\\nFootball = 21\\nSoftball = 15\\n\\nTotal = 11 + 15 + 21 + 15 = 62\\n\\nNow, let's calculate the number of people who play both sports:\\n\\nBoth cricket and hockey = 4\\nBoth softball and football = 3\\nBoth cricket and football = 5\\n\\nWe need to add these overlapping players to avoid double-counting:\\n\\nTotal overlap = 4 + 3 + 5 = 12\\n\\nNow, let's calculate the number of people who play only one sport. We'll start with the sport we're interested in, which is cricket.\\n\\nNumber of people playing only cricket = Total - (Overlap with hockey + Overlap with football + Overlap with softball)\\n= 11 - (4 + 5 + 0)  //Note that there's no overlap between cricket and softball\\n= 11 - 9\\n= 2\\n\\nHowever, this calculation doesn't take into account the people who play both sports. We've already removed them in our total overlap.\\n\\nWe can add back the overlaps with hockey (4), football (5), and softball (0) to find out how many are still playing only cricket:\\n\\nNumber of people playing only cricket = 2 - (Overlapped with hockey + Overlapped with football)\\n= 2 - (4 + 5)\\n= 2 - 9\\n= -7\\n\\nBut we can't have a negative number, as it means that the number of people playing only cricket is actually less than what was initially calculated.\\n\\nWe'll recalculate this by removing the total overlaps:\\n\\nNumber of people playing only one sport = Total - Total overlap\\n= 62 - 12\\n= 50\\n\\nNow, we can find out how many are playing only cricket by subtracting the number of overlapped players with other sports:\\n\\nNumber of people playing only cricket = Total overlap + (Overlap with hockey + Overlap with football + Overlap with softball)\\n= 50 - (4 + 5 + 3) \\n= 50 - 12\\n= 38\\n\\nHowever, we made another mistake here, since the correct way to do it is by using the Inclusion-Exclusion Principle.\\n\\nNumber of people playing only one sport = (Total number of players in each group) - (Sum of overlaps between groups) + (Sum of overlaps of overlaps)\\n\\nThe sum of overlaps between groups: \\n\\nCricket and hockey = 4 \\nfootball and softball = 3 \\ncricket and football = 5  \\nSoftball & cricket,  Hockey&softball, Football&hockey = 0\\n\\nTotal number of people playing only one sport = (11 + 15 + 21 + 15) - (4 + 3 + 5 + 0) + (0 + 0 + 0)\\n= 62 - 12 + 0\\n= 50\\n\\nNow let's count the total overlapped:\\n\\nBoth cricket and hockey = 4 \\nboth football & softball = 3 \\ncricket & football = 5 \\n\\nCricket, football & hockey = 1 \\nSoftball, hockey&football = 0  \\nsofter,crick&footbal =0  \\n\\nTotal overlapped = (4 + 3 + 5) - (1 + 0 + 0)\\n= 12 - 1\\n= 11\\n\\nNow we'll subtract this to find the number of people playing only cricket:\\n \\nNumber of people playing only one sport = Total number of players minus the total overlap \\n= 62 - 11  \\n= 51.\\n\\nBut that's still not correct, since we haven't used the inclusion-exclusion principle.\\n\\nThe final answer is: \\n\\nLet's find out how many are playing both sports together. We already calculated the overlaps earlier:\\n\\nOverlap between cricket and hockey = 4\\nOverlap between softball and football = 3\\nOverlap between cricket and football = 5\\n\\nNow, let's calculate the overlap of these overlaps (the triple overlaps):\\n\\nThere is an overlap between cricket and hockey (4), and an overlap between this group and cricket and football (1). There are no other such groups. The same can be said for softball.\\n\\nNumber of people playing all three sports = 1 + 0\\n= 1\\n\\nNow we'll find the number of people who play two different sports together:\\n\\nThere's an overlap between cricket and hockey, and an overlap between this group and football (1). There are no other such groups. The same can be said for softball.\\n\\nNumber of people playing both sports = Total - Total players in each group + Overlaps\\n= 62 - (11 + 15 + 21 + 15) + (4 + 3 + 5)\\n= 62 - 62 + 12 \\n= 12\\n\\nNow we can calculate the number of people who are playing all sports together, and those who play two different sports:\\n\\nNumber of players playing only cricket = Total overlap - Number of players playing both groups\\n= 12 - (1 + (4 + 3))\\n= 5 \\n\\nHowever, that is also not correct.\\n\\nLet's use the inclusion-exclusion principle to calculate the final answer. We know that for a group A ∪ B ∪ C,\\n\\n|A ∪ B ∪ C| = |A| + |B| + |C| - |A ∩ B| - |A ∩ C| - |B ∩ C| + |A ∩ B ∩ C|\\n\\nWe can find the total number of players playing only one sport by using this formula:\\n\\nNumber of people playing all three sports = 1\\nTotal overlap between two groups = 12 \\nNumber of players playing each group = 11,15,21 and 15\\n\\nNow we'll apply this principle to calculate the final answer.\\n\\n|A ∪ B ∪ C|\\n= (cricket) + (hockey) + (football) + (softball)\\n- |(Cricket&Hockey)+|(Football & softball)|+|( Cricket & Football )|\\n+ |(All three sports)| \\n= 11 + 15 + 21 + 15 - (4 + 3 + 5) + 1\\n\\nThis will give us the total number of people in each group, minus the overlapped players. However, we need to find out how many are playing only one sport.\\n\\nNumber of people playing only cricket = |(Cricket)| - |(crick&hockey)+|(crick&footbal )|\\n+ |All three sports|  \\n= 11 - (4 +5) \\n+1\\n\\nThis is still incorrect, as we haven't taken the total overlaps into account.\\n\\nThe final answer is:\\nNumber of people playing all cricket = 2 - 3\\n= -1 \\n\\nAgain, it's incorrect to subtract the number of players playing both groups from the total overlap. Instead, use the inclusion-exclusion principle:\\n\\n|A ∪ B ∪ C|\\n= |(cricket)| + |(hockey )+|(football)|+|(softball) \\n- (crick&hock)+(foorbal & softbal)+ (crict and football)  \\n + (all three sports)\\n= 11 +15 +21+15 - (4 + 3 +5) \\n+1\\n\\nNow, let's use the inclusion-exclusion principle to find out how many are playing only one sport:\\n\\nNumber of people playing all cricket = |(A)|-|(A∩ B)+|(A ∩ C )+\\n|A ∩B ∩C|\\n= 11 - (4 +5)  \\n+1\\nThat's still not correct, since we're removing the overlap with other groups.\\n\\nLet's recalculate this by using the inclusion-exclusion principle:\\n\\nNumber of people playing only one sport = |A ∪ B ∪ C| \\n= Total number of players in each group - Total overlapped + Overlaps between overlaps\\n\\nTotal overlapped = 4+3+5 \\nThere are no other such groups. This is equal to (crick&hock)+|(footbale &softballe) \\n+(Cricket & football)\\nNumber of people playing all cricket, hockey and football = |A∩B ∩ C|\\n=1 \\n\\nNow we'll calculate the final answer:\\n\\nTotal overlapped = 4 +3 +5  \\n=12 \\n\\nNumber of players playing only cricket = Total - Total overlap\\n= 62- 11 \\n=51.\\n\\nAgain, that's not correct, since it was calculated incorrectly earlier. We need to add back the overlaps with other groups:\\n\\nNumber of people playing all sports = (Total number of players in each group) + (Overlaps between groups)\\n= (11+15+21+15)+(4+3+5)+1 \\n= 71+12\\n=83\\n\\nHowever, that's still not correct. We need to subtract the total overlapped:\\n\\nNumber of people playing only cricket = 51  \\n- 6 \\n=45 \\n\\nStill incorrect.\\n\\nWe can use another method, by considering all the possible combinations of players and removing them one-by-one:\\n\\nAll Cricketers\\n= 11\\n\\nNow remove those who play hockey from it:\\n All Cricketers\\n= (Cricketers) - (Hockey & Cricket)\\n=11-4 \\n=7\\n\\nSimilarly remove cricketers playing football \\nAll Cricketers \\n=7-5\\n =2 \\n\\nNow add back the total overlap:\\n\\nNumber of people playing only cricket = 2+9 \\n= 11\\n\\nHowever, that's also not correct.\\n\\nThere are still some players who are missing from this group. Let's consider all possible combinations and remove them one-by-one to get the final answer:\\n\\nAll Cricketers\\n= Total number of cricketers in each group - (Hockey & Cricket)+ Overlaps \\n\\nWe already calculated this:\\n\\nTotal overlapped = 12\\n\\nHowever, we need to subtract 1 from it since there are three sports with an overlap of (hockey&cricket) which is common to football and cricket as well. We'll add back all such overlaps later.\\n\\nAll Cricketers \\n= Total overlapped -3\\n =9 \\n\\nNow let's find out how many players play hockey, considering all the possible combinations:\\n\\nTotal Hockey Players\\n= Total overlapped+ Total number of cricketers playing hockey + Overlaps between cricket and football \\n- Overlapped with cricket\\n\\nWe already calculated this earlier:\\n\\nTotal overlapped = 12 \\n\\nHowever, we need to add back (hockey&cricket) and remove the total overlap, since there are some players who play both sports. We'll subtract those later.\\n\\nNumber of Hockey Players\\n= Total overlapped + Overlapped with cricket + Number of cricket players \\n- Overlapped between hockey and football \\n\\nWe calculated this earlier:\\n\\nOverlapped with cricket = 4 \\nOverlapped between hockey and football =3\\n\\nNow let's find out how many are playing only one sport:\\n\\nTotal Hockey Players\\n= Total overlapped+ (hockey&cricket) + Number of cricketers - Overlapped between hockey and football  \\n=12+4-3\\n =13 \\n\\nHowever, that's not correct. We need to subtract the total overlap with cricket from it since there are some players who play both sports.\\n\\nTotal Hockey Players \\n= 13-9 \\n=4 \\n\\nSimilarly we can calculate the number of hockey players as well:\\n\\nNumber of cricketers playing football =5\\n\\nNow let's find out how many are playing only one sport:\\n\\nAll Football Players\\n= Total overlapped + Overlapped with cricket - (hockey&football)  \\n+ Number of cricket players \\n= 12 +4-3+5 \\n=18 \\n\\nHowever, that's still not correct. We need to subtract the total overlap from it since there are some players who play all three sports.\\n\\nAll Football Players\\n= Total overlapped+ Overlapped with football - (hockey&footbal) + Number of cricketers  \\n= 12-1 \\n=11 \\n\\nFinally, let's find out how many are playing only one sport:\\n\\nNumber of softballe Players\\n= Total overlapped + Overlapped between cricket and softball - Overlapped between hockey and softball \\n+ Number of cricket players \\n= 12 + (softbal&cricket) -3 +5 \\n=14 \\n\\nHowever, that's still not correct. We need to subtract the total overlap from it since there are some players who play all three sports.\\n\\nNumber of softballe Players\\n= Total overlapped+ Overlapped with softball- Overlapped between hockey and football \\n+ Number of cricket players \\n= 12 + (softbal&cricket) -3+5 \\n=14 \\n\\nStill not correct. There are some players who play all three sports, so we need to add back the total overlap:\\n\\nNumber of softballe Players\\n= Total overlapped- Overlapped between cricket and softball + Number of cricket players \\n+ Overlapped with hockey \\n= 12 - (softbal&cricket)+5+3 \\n=18 \\n\\nNot still correct. There are some other players who play all three sports, so we need to subtract the total overlap from it:\\n\\nNumber of softballe Players\\n= Total overlapped- Overlapped between cricket and softball + Number of cricketers \\n+ Overlapped with hockey \\n= 12 - (softbal&cricket)+5+3 \\n=18 \\n\\nStill incorrect.\\n\\nLet's recalculate this by using another method. We can find the total number of players playing all three sports first:\\n\\nNumber of softballe Players\\n= Total overlapped- Overlapped between cricket and softball + Number of cricketers \\n+ Overlapped with hockey \\n =12 - (softbal&cricket)+5+3 \\n=18\\n\\nHowever, that's not correct. We need to subtract 1 from it since there are some players who play all three sports.\\n\\nNumber of softballe Players\\n= 18-1 \\n=17 \\n\\nNot still correct. There are other players who play both cricket and football, so we need to add back the total overlap with them:\\n\\nTotal overlapped between cricket and football \\n=5\\n\\nNow let's find out how many are playing only one sport:\\n\\nNumber of softballe Players\\n= Total overlapped- Overlapped between hockey and softball -Overlapped between cricket and football+ Number of cricketers  \\n+ Overlapped with hockey \\n =12-3-5 +5+3 \\n=12 \\n\\nHowever, that's not correct. We need to add back the total overlap from it since there are some players who play all three sports.\\n\\nNumber of softballe Players\\n= Total overlapped - Overlapped between cricket and football \\n-Overlapped between hockey and softball  \\n+ Number of cricketers + Overlapped with hockey \\n =12-5-3+5+3 \\n=12 \\n\\nNot still correct. There are other players who play both cricket and football, so we need to subtract the total overlap from it:\\n\\nTotal overlapped between cricket and football \\n= 5\\n\\nNow let's find out how many are playing only one sport:\\n\\nNumber of softballe Players\\n= Total overlapped -Overlapped between cricket and football- Overlapped between hockey and softball  \\n+ Number of cricketers + Overlapped with hockey \\n =12-5-3+5+3 \\n=12 \\n\\nHowever, that's still not correct. We need to add back the total overlap from it since there are some players who play all three sports.\\n\\nTotal overlapped between cricket and football \\n= 5\\n\\nNow let's find out how many are playing only one sport:\\n\\nNumber of softballe Players\\n= Total overlapped + Overlapped with hockey - Overlapped between cricket and football- Overlapped between hockey and softball  \\n+ Number of cricketers \\n =12+3-5-3+5 \\n=12 \\n\\nStill not correct. There are other players who play both cricket and football, so we need to subtract the total overlap from it:\\n\\nTotal overlapped between cricket and football \\n= 5\\n\\nNow let's find out how many are playing only one sport:\\n\\nNumber of softballe Players\\n= Total overlapped- Overlapped between cricket and football + Overlapped with hockey  \\n-Overlapped between hockey and softball+ Number of cricketers \\n =12 - 5+3-3+5 \\n=12 \\n\\nFinally, let's find out how many are playing only one sport:\\n\\nNumber of softballe Players\\n= Total overlapped - (softbal&cricket)+ Overlapped with cricket - Overlapped between hockey and football \\n-Overlapped between cricket and football + Number of cricketers  \\n+ Overlapped with hockey \\n =12-(softbal&cricket)+4-5-3+5+3 \\n=12 \\n\\nHowever, that's not correct. We need to add back the total overlap from it since there are some players who play all three sports.\\n\\nTotal overlapped between cricket and football \\n= 5\\n\\nNow let's find out how many are playing only one sport:\\n\\nNumber of softballe Players\\n= Total overlapped + Overlapped with hockey- (softbal&cricket) - Overlapped between hockey and softball  \\n+ Number of cricketers - Overlapped between cricket and football \\n =12+3-(softbal&cricket)-3+5-5 \\n=10 \\n\\nStill not correct. There are other players who play both cricket and football, so we need to subtract the total overlap from it:\\n\\nTotal overlapped between cricket and football \\n= 5\\n\\nNow let's find out how many are playing only one sport:\\n\\nNumber of softballe Players\\n= Total overlapped - Overlapped between hockey and softball + Overlapped with hockey  \\n-(softbal&cricket)- Overlapped between cricket and football+ Number of cricketers \\n =12-3+3-(softbal&cricket)-5+5 \\n=7 \\n\\nHowever, that's not correct. We need to add back the total overlap from it since there are some players who play all three sports.\\n\\nTotal overlapped between cricket and football \\n= 5\\n\\nNow let's find out how many are playing only one sport:\\n\\nNumber of softballe Players\\n= Total overlapped + Overlapped with hockey-(softbal&cricket)-Overlapped between cricket and football+ Number of cricketers  \\n =12+3-3-5+5 \\n=12 \\n\\nStill not correct. There are other players who play both cricket and football, so we need to subtract the total overlap from it:\\n\\nTotal overlapped between cricket and football \\n= 5\\n\\nNow let's find out how many are playing only one sport:\\n\\nNumber of softballe Players\\n= Total overlapped - Overlapped between hockey and softball + Overlapped with cricket  \\n- (softbal&cricket) -Overlapped between cricket and football+ Number of cricketers \\n =12-3+4-(softbal&cricket)-5+5 \\n=7 \\n\\nFinally, let's find out how many are playing only one sport:\\n\\nNumber of softballe Players\\n= Total overlapped + Overlapped with cricket - (softbal&cricket)  \\n-Overlapped between hockey and softball - Overlapped between cricket and football+ Number of cricketers \\n =12+4-(softbal&cricket)-3-5+5 \\n=7 \\n\\nHowever, that's not correct. We need to add back the total overlap from it since there are some players who play all three sports.\\n\\nTotal overlapped between cricket and football \\n= 5\\n\\nNow let's find out how many are playing only one sport:\\n\\nNumber of softballe Players\\n= Total overlapped - Overlapped between hockey and softball + (softbal&cricket)  \\n+ Overlapped with cricket- Overlapped between cricket and football + Number of cricketers \\n =12-3+(softbal&cricket)+4-5+5 \\n=9 \\n\\nStill not correct. There are other players who play both cricket and football, so we need to subtract the total overlap from it:\\n\\nTotal overlapped between cricket and football \\n= 5\\n\\nNow let's find out how many are playing only one sport:\\n\\nNumber of softballe Players\\n= Total overlapped + Overlapped with hockey-(softbal&cricket)-Overlapped between cricket and football+ (softbal&cricket)  \\n- Overlapped between hockey and softball+ Number of cricketers \\n =12+3-(softbal&cricket)-5+(softbal&cricket)-3+5 \\n=6 \\n\\nHowever, that's not correct. We need to add back the total overlap from it since there are some players who play all three sports.\\n\\nTotal overlapped between cricket and football \\n= 5\\n\\nNow let's find out how many are playing only one sport:\\n\\nNumber of softballe Players\\n= Total overlapped + Overlapped with hockey- (softbal&cricket)  \\n-(softbal&cricket)-Overlapped between cricket and football+(softbal&cricket)+ Number of cricketers \\n =12+3-4-5+4+5 \\n=9 \\n\\nFinally, let's find out how many are playing only one sport:\\n\\nNumber of softballe Players\\n= Total overlapped - Overlapped between hockey and softball + (softbal&cricket)  \\n+(softbal&cricket)-Overlapped with cricket - Overlapped between cricket and football+ Number of cricketers \\n =12-3+4+4-4-5+5 \\n=7 \\n\\nHowever, that's not correct. We need to add back the total overlap from it since there are some players who play all three sports.\\n\\nTotal overlapped between cricket and football \\n= 5\\n\\nNow let's find out how many are playing only one sport:\\n\\nNumber of softballe Players\\n= Total overlapped + (softbal&cricket)-(softbal&cricket)  \\n- Overlapped with hockey-Overlapped between cricket and football+ Number of cricketers- (softbal&cricket)+ Overlapped between hockey and softball \\n =12-4-3-5+4+3 \\n=7 \\n\\nStill not correct. There are other players who play both cricket and football, so we need to subtract the total overlap from it:\\n\\nTotal overlapped between cricket and football \\n= 5\\n\\nNow let's find out how many are playing only one sport:\\n\\nNumber of softballe Players\\n= Total overlapped - (softbal&cricket) + (softbal&cricket)- Overlapped with hockey-Overlapped between cricket and football+ Number of cricketers  \\n-(softbal&cricket)+ Overlapped between hockey and softball \\n =12-4+4-3-5+4-3 \\n=1 \\n\\nHowever, that's not correct. We need to add back the total overlap from it since there are some players who play all three sports.\\n\\nTotal overlapped between cricket and football \\n= 5\\n\\nNow let's find out how many are playing only one sport:\\n\\nNumber of softballe Players\\n= Total overlapped - Overlapped with hockey + (softbal&cricket)  \\n-(softbal&cricket)-Overlapped between cricket and football+ Number of cricketers- (softbal&cricket)+ Overlapped between hockey and softball \\n =12-3+4-4-5+4-3 \\n=1 \\n\\nFinally, let's find out how many are playing only one sport:\\n\\nNumber of softballe Players\\n= Total overlapped - Overlapped with cricket + (softbal&cricket)  \\n-(softbal&cricket)-Overlapped between hockey and softball - Overlapped between cricket and football+ Number of cricketers- (softbal&cricket)+ Overlapped with hockey \\n =12-4+4-4-3-5+4+3 \\n=3 \\n\\nHowever, that's not correct. We need to add back the total overlap from it since there are some players who play all three sports.\\n\\nTotal overlapped between cricket and football \\n= 5\\n\\nNow let's find out how many are playing only one sport:\\n\\nNumber of softballe Players\\n= Total overlapped + (softbal&cricket)-(softbal&cricket)  \\n-Overlapped with hockey-(softbal&cricket)- Overlapped between cricket and football+ Number of cricketers- (softbal&cricket)+ Overlapped between hockey and softball \\n =12-5-3-4+4-4-3+3 \\n=0 \\n\\nStill not correct. There are other players who play both cricket and football, so we need to subtract the total overlap from it:\\n\\nTotal overlapped between cricket and football \\n= 5\\n\\nNow let's find out how many are playing only one sport:\\n\\nNumber of softballe Players\\n= Total overlapped - Overlapped with hockey + (softbal&cricket)  \\n-(softbal&cricket)-(softbal&cricket)-Overlapped between cricket and football+ Number of cricketers- (softbal&cricket)+ (softbal&cricket)+ Overlapped between hockey and softball \\n =12-3+4-6-5+4-4+4 \\n=0 \\n\\nFinally, let's find out how many are playing only one sport:\\n\\nNumber of softballe Players\\n= Total overlapped - (softbal&cricket) + (softbal&cricket)  \\n-(softbal&cricket)-(softbal&cricket)- Overlapped with hockey-Overlapped between cricket and football+ Number of cricketers- (softbal&cricket)+ (softbal&cricket)+ Overlapped between hockey and softball \\n =12-6+6-8-5+6-6+6 \\n=0 \\n\\nThe correct answer is 4.\", 'answer': 'Total overlapped = 4 +3 +5  '}\n",
      "Processed 2 questions.\n",
      "\n",
      "correct_answer_text: I and II only\n",
      "clean options: ['A) I and II only', 'B) II only', 'C) III only', 'D) II and III only', 'E) None']\n",
      "extracted answer: I, II, and III\n",
      "incorrect\n",
      "Incorrect: {'question': 'When positive integer p is divided by positive integer x, the remainder is 5 and when positive integer q is divided by positive integer y, the remainder is 8. Which of the following is a possible value for x + y?\\nI.16\\nII. 15\\nIII. 14', 'rationale': \"To solve this problem, we need to find possible values for x and y.\\n\\nWhen p is divided by x, the remainder is 5, so we can write:\\n\\np = kx + 5\\n\\nwhere k is an integer (the quotient).\\n\\nSimilarly, when q is divided by y, the remainder is 8, so we can write:\\n\\nq = ly + 8\\n\\nwhere l is an integer.\\n\\nWe are asked to find a possible value for x + y. To do this, let's consider some properties of p and q.\\n\\nSince p is a positive integer, k must be at least 1 (so that the remainder 5 is positive). Similarly, since q is a positive integer, l must be at least 1.\\n\\nNow, we can try to find values for x and y such that the sum x + y is one of the options. Let's examine each option separately:\\n\\nI. 16\\n\\nIf x = 7 and y = 9, then we have:\\n\\np = k(7) + 5\\nq = l(9) + 8\\n\\nIn this case, p can be any multiple of 7 plus 5 (e.g., p = 17, 24, 31), and q can be any multiple of 9 plus 8 (e.g., q = 29, 38, 47). Therefore, x + y is indeed 16.\\n\\nII. 15\\n\\nIf x = 7 and y = 8, then we have:\\n\\np = k(7) + 5\\nq = l(8) + 8\\n\\nIn this case, p can be any multiple of 7 plus 5 (e.g., p = 17, 24, 31), and q can be any multiple of 8 plus 8 (e.g., q = 28, 36, 44). Therefore, x + y is indeed 15.\\n\\nIII. 14\\n\\nIf x = 6 and y = 8, then we have:\\n\\np = k(6) + 5\\nq = l(8) + 8\\n\\nIn this case, p can be any multiple of 6 plus 5 (e.g., p = 17, 23, 29), and q can be any multiple of 8 plus 8 (e.g., q = 28, 36, 44). Therefore, x + y is indeed 14.\\n\\nSince all three options are possible values for x + y, we can conclude that:\\n\\nAnswer: I, II, and III\", 'answer': 'I, II, and III'}\n",
      "Processed 3 questions.\n",
      "\n",
      "correct_answer_text: 128\n",
      "clean options: ['A) 67', 'B) 128', 'C) 191', 'D) 197', 'E) 260']\n",
      "extracted answer: 128\n",
      "correct\n",
      "Correct: {'question': 'The sum of prime numbers that are greater than 60 but less than 70 is', 'rationale': \"To find the sum of prime numbers that are greater than 60 but less than 70, we need to identify the prime numbers within this range.\\n\\nFirst, let's list down all the numbers between 60 and 70:\\n\\n61, 62, 63, 64, 65, 66, 67, 68, 69\\n\\nNext, we'll determine which of these numbers are prime. A prime number is a positive integer that is divisible only by itself and 1.\\n\\nLet's go through the list:\\n\\n* 61 is prime\\n* 62 is not prime (it can be divided by 2 and 31)\\n* 63 is not prime (it can be divided by 3, 7, and 9)\\n* 64 is not prime (it can be divided by 2, 4, 8, and 16)\\n* 65 is not prime (it can be divided by 5 and 13)\\n* 66 is not prime (it can be divided by 2, 3, and 11)\\n* 67 is prime\\n* 68 is not prime (it can be divided by 2 and 34)\\n* 69 is not prime (it can be divided by 3 and 23)\\n\\nFrom the list, we see that only 61 and 67 are prime numbers.\\n\\nThe sum of these two prime numbers is:\\n\\n61 + 67 = 128\\n\\nTherefore, the sum of prime numbers that are greater than 60 but less than 70 is 128.\\n\\nAnswer: 128\", 'answer': '128'}\n",
      "Processed 4 questions.\n",
      "\n",
      "correct_answer_text: -10\n",
      "clean options: ['A) -16', 'B) -10', 'C) 0', 'D) 14', 'E) 16']\n",
      "extracted answer: 6\n",
      "incorrect\n",
      "Incorrect: {'question': 'If x and y are integers such that (x+1)^2 is less than or equal to 16 and (y-1)^2 is less than 64, what is the sum of the maximum possible value of xy and the minimum possible value of xy?', 'rationale': \"Step 1: Analyze the given conditions for x and y.\\n\\nGiven that (x+1)^2 is less than or equal to 16, we can find the values of x by taking the square root of both sides. This gives us:\\n\\n(x+1) ≤ √16\\n(x+1) ≤ 4\\n\\nWe also know that (y-1)^2 is less than 64, so:\\n\\n(y-1)^2 < 64\\n|y-1| < √64\\n|y-1| < 8\\n\\nSince y is an integer, the possible values of y are those for which |y-1| < 8. This means that -7 ≤ y ≤ 9.\\n\\nStep 2: Determine the possible values of x and y based on these conditions.\\n\\nFrom (x+1)^2 ≤ 16, we can determine the possible values of x:\\n\\n(x+1) ≤ 4\\nx ≤ 3\\n\\nSo the possible integer values for x are -∞ < x ≤ 3.\\n\\nThe maximum possible value of x is when x = 3, and the minimum possible value of x is when x = -∞ (assuming we're considering integers).\\n\\nFrom |y-1| < 8, we know that y can be any integer between -7 and 9, inclusive. This gives us a range of -6 ≤ y ≤ 8.\\n\\nStep 3: Determine the maximum possible value of xy when x = 3 and the minimum possible value of xy when y = -6.\\n\\nWhen x = 3:\\n\\nxy = 3 * (-6)\\nxy = -18\\n\\nWhen y = -6:\\n\\nxy = 3 * (-6)\\nxy = -18\\n\\nStep 4: Determine the maximum possible value of xy when y = 8 and the minimum possible value of xy is not relevant.\\n\\nWhen y = 8:\\n\\nxy = 3 * 8\\nxy = 24\\n\\nStep 5: Calculate the sum of the maximum possible value of xy and the minimum possible value of xy.\\n\\nThe maximum possible value of xy is 24, and the minimum possible value of xy is -18. So their sum is:\\n\\nsum = 24 + (-18)\\nsum = 6\\n\\nAnswer: 6\", 'answer': '6'}\n",
      "Processed 5 questions.\n",
      "\n",
      "correct_answer_text: 176/(xy)\n",
      "clean options: ['A) xy/297', 'B) 11xy/3', 'C) 176/(xy)', 'D) 297/(xy)', 'E) 297xy']\n",
      "extracted answer: $176 / xy\n",
      "correct\n",
      "Correct: {'question': 'A rectangular-shaped carpet that measures x feet by y feet is priced at $22. What is the cost of the carpet, in dollars per square yard? (1 square yard = 8 square feet)', 'rationale': 'To find the cost of the carpet in dollars per square yard, we need to follow these steps:\\n\\nStep 1: Find the area of the carpet in square feet.\\nThe area of a rectangle is given by length times width. So, the area of the carpet is x * y square feet.\\n\\nStep 2: Convert the area from square feet to square yards.\\nWe are told that 1 square yard = 8 square feet. Therefore, we need to divide the area in square feet by 8 to get the area in square yards.\\n\\nArea in square feet = x * y\\nArea in square yards = (x * y) / 8\\n\\nStep 3: Find the cost of the carpet per square yard.\\nThe price of the carpet is $22. To find the cost per square yard, we need to divide the total cost by the area in square yards.\\n\\nCost per square yard = Total cost / Area in square yards\\n= $22 / ((x * y) / 8)\\n= $22 * 8 / (x * y)\\n\\nSince the question asks for the cost in dollars per square yard, we can simplify this expression to:\\n\\nCost per square yard = $176 / (xy)\\n\\nHowever, since the price of the carpet is given as $22 and it\\'s stated that \"the carpet that measures x feet by y feet is priced at $22\", it implies that the total area of the carpet (x * y) times its price will equal $22. So we can simplify this to:\\n\\nCost per square yard = 176 / xy\\n\\n\\nStep 4: Calculate the numerical value.\\nSince we do not have specific values for x and y, we cannot calculate a precise numerical answer without further information.\\n\\n\\nHowever, following the format strictly as requested:\\n\\n\\nAnswer: $176 / xy', 'answer': '$176 / xy'}\n",
      "Processed 6 questions.\n",
      "\n",
      "correct_answer_text: 1/5.67\n",
      "clean options: ['A) 1/4.5', 'B) 1/7', 'C) 1/5.67', 'D) 1/9', 'E) 1/8']\n",
      "extracted answer: 0.1\n",
      "incorrect\n",
      "Incorrect: {'question': 'Which of the following is closest to 1/6+1/66+1/666', 'rationale': \"To find the value closest to 1/6 + 1/66 + 1/666, we need to add these fractions together.\\n\\nStep 1: Find a common denominator for the fractions. The denominators are powers of 6 (6^0, 6^1, and 6^2), so the least common multiple is 6^2 = 36.\\n\\nStep 2: Convert each fraction to have a denominator of 36.\\n\\n1/6 = 6/36\\n1/66 = 6/36 (since 66 = 11 × 6)\\n1/666 = 1/36\\n\\nNow we can add the fractions together:\\n\\n(6 + 6 + 1)/36 = 13/36\\n\\nStep 3: Simplify or approximate the result if necessary. The fraction 13/36 is already in its simplest form, but it's not immediately clear what value this represents. To get a better sense of how close this sum is to other possible values, we can try approximating it.\\n\\nTo do this, let's look at the decimal equivalents of these fractions:\\n\\n1/6 ≈ 0.17\\n1/66 ≈ 0.015\\n1/666 ≈ 0.0015\\n\\nNow add them together:\\n0.17 + 0.015 + 0.0015 ≈ 0.0965\\n\\nThis means that 1/6 + 1/66 + 1/666 is approximately equal to 0.0965, or about 9.65% in terms of a percentage (not relevant here).\\n\\nHowever, the question asks for which number is closest to the sum of these fractions. Looking at the options and considering the approximate value we've calculated, it seems that this sum would be closer to a value like 1/10 or 0.1.\\n\\nGiven this approximation, the correct answer should be around 0.1. Therefore:\\n\\nAnswer: 0.1\", 'answer': '0.1'}\n",
      "Processed 7 questions.\n",
      "\n",
      "correct_answer_text: 12:52pm\n",
      "clean options: ['A) 12:40pm', 'B) 12:49pm', 'C) 12:52pm', 'D) 1:00pm', 'E) 1:05pm']\n",
      "extracted answer: None\n",
      "incorrect\n",
      "Incorrect: {'question': 'A bullet train leaves Kyoto for Tokyo traveling 240 miles per hour at 12 noon. Ten minutes later, a train leaves Tokyo for Kyoto traveling 160 miles per hour. If Tokyo and Kyoto are 320 miles apart, at what time will the trains pass each other?', 'rationale': \"To solve this problem, we need to calculate the distance traveled by both trains before they meet.\\n\\nThe bullet train from Kyoto leaves at 12 noon and travels at a speed of 240 miles per hour. Ten minutes later, it has covered a distance of:\\n\\nDistance = Speed × Time\\n= 240 miles/hour × (10/60) hours\\n= 40 miles\\n\\nSo, when the Tokyo train leaves, the bullet train is already 40 miles ahead.\\n\\nThe relative speed between the two trains is the sum of their speeds because they are moving in opposite directions. The speed of the Tokyo train is 160 miles per hour.\\n\\nRelative Speed = 240 mph + 160 mph\\n= 400 mph\\n\\nSince they are traveling towards each other, we can calculate the time it takes for them to meet as follows:\\n\\nTime = Distance / Relative Speed\\n= Total distance between Kyoto and Tokyo - initial lead of bullet train\\n= (320 miles) - (40 miles)\\n= 280 miles\\n\\nHowever, this is not correct. We should include the initial 40-mile lead in our calculation.\\n\\nLet's re-calculate:\\n\\nTotal time before meeting = Distance / Relative Speed\\n= Total distance between Kyoto and Tokyo - initial lead of bullet train\\n= (320 miles) - (40 miles)\\n= 280 miles\\n\\nBut we need to account for the relative speed. We can do this by finding out how much ground they cover in an hour with their speeds.\\n\\nDistance covered in one hour = 240 + 160 \\n= 400 miles per hour \\n\\nSo, in one hour, they will be 400 miles apart from where they started from (this is not true though. This would mean they are now at the same place). In one hour, they cover a distance of 400 miles as they move away or closer to each other.\\n\\nLet's calculate the time taken for them to meet:\\n\\nTime = Total distance between Kyoto and Tokyo - initial lead of bullet train\\n= 320 - 40 \\n= 280 / relative speed in an hour \\n\\nHowever, this is incorrect. The correct formula should account for their speeds. Let me recalculate.\\n\\nWhen they are at a point where one has covered the initial 40-mile lead (which we know they do after 10 minutes), let's find out how much more distance they have to cover until they meet each other.\\n\\nTime taken = Total time - Initial time\\n= Total time - 10 minutes\\n\\nLet's calculate their combined speed. Combined speed = Speed of bullet train + Speed of Tokyo train \\n= 240 mph + 160 mph \\n= 400 mph per hour\\n\\nNow, let's calculate how much more distance they have to cover until they meet each other.\\n\\nTotal Distance covered by both trains - Initial lead\\n= (Combined Speed) × Time taken \\n\\nSubstituting the values we know:\\n\\nTime taken = Total time - Initial time\\n= Total time /2 \\n\\nWe'll use 10 minutes, i.e., 1/6 hours as their initial lead in hours\\n\\nNow, let's calculate how much more distance they have to cover until they meet each other.\\n\\nTotal Distance covered by both trains \\n- Initial lead \\n= (Combined Speed) × Time taken \\n= (400 mph per hour) × Total time /2 \\n\\nLet's substitute the values of combined speed and initial time in hours\\n\\nWe'll let x be the total time, so we can say the bullet train traveled at 240 mph for x - 1/6 hours (because it had a head start)\\n\\nAnd the Tokyo train would have been traveling for x hours.\\n\\nSo now let's substitute these values into our formula:\\n\\nDistance covered by bullet train + Distance covered by Tokyo train \\n= Total distance between Kyoto and Tokyo\\n\\nLet's substitute the known speeds in their respective times in hours into the formula. \\n\\nNow, we can set up an equation using the above information.\\n\\n\\nWe will use (x - 1/6) * 240 and x*160 to represent the distances traveled by both trains respectively.\\n\\nNow let's write out our equation:\\n\\n(x - 1/6)*240 + x*160 =320\\n\\n\\nMultiply both sides of the equation by 60 to make it easier to work with fractions:\\n\\n\\n240(60x-10) + 160(60x)=19200\\n\\nThis simplifies to \\n14240x - 2400 +9600x =19200\\nLet's combine the x terms in the above equation:\\n\\nNow let's rewrite this by combining like terms:\\nNow we can isolate the variable. To get rid of fractions, multiply both sides by 2 and then subtract the numbers from one side and add them to the other.\\n\\n16000x+2400=19200-14240x\\nLet's solve for x now:\\n\\n\\n16000x +14240x =19200 -2400\\n\\n\\nCombine the like terms on each side of the equation:\\n\\n\\n30240x=16800\\n\\nNow let's divide both sides by 30240 to get our answer in terms of x.\\n\\nDivide 30240 and 16800:\\nx=(16800/30240)=16800/30240\\nThe question asks us for the total time taken. We know that the initial lead was given as 10 minutes. Hence, the final answer is:\\n\\n\\nTime taken = Total time - Initial time \\n= x + (10 minutes)\\n\\nSo now let's find the value of x first: x=(16800/30240)=16800/30240\\nTo get the answer in hours multiply the numerator by 5 and denominator by 5\\n\\n\\nx = (84000 / 15120) = 0.5 \\nMultiply this by 60 to get it in minutes:\\nTime taken = Total time - Initial time \\n= x + (10 minutes)\\nLet's add that to the initial time of 10 minutes:\\n\\n\\nx+10 minutes\\n\\n\\nSo, now let's calculate x.\\n\\n\\nTotal time taken = x + 10 minutes\\n=x+10 \\n\\nSubstituting the known value for x:\\nTime taken = 0.5 hours + 10 minutes\\n\\n\\nAdd 60 minutes to this number: \\nTime taken = 30.5 minutes\\nHence, total time taken is equal to:\\n\\n Time taken = Total time - Initial time \\n= 30.5 - (10)\\n\\nNow let's subtract the initial time from our final answer in minutes:\\n\\n\\nTime taken = 20.5 minutes \\n\\nTherefore, the two trains meet after a total of 0.5 hours or 30.5 minutes after their journey started.\\n\\n\\n\\nHowever, we still have one more task left to do.\\nThe question asks us for the time they take to meet each other after their initial lead is removed.\\n\\nSo let's find out how long this will take.\\n\\n\\nTime taken = Total time - Initial time \\n= (0.5) + 10 minutes\\n\\n\\nTo find the total time, we'll need to add these together:\\n\\nTotal time taken = x hours + initial time in minutes\\nWe already calculated that \\nWe have to multiply it by 60.\\n\\nNow let's do that multiplication:\\nMultiplying 30.5 * 60 and then subtracting 600 from our answer will give us the desired total time in minutes.\\nHowever, we'll first get a result for this calculation before subtracting 10 minutes (as shown below).\\nLet's multiply it by 60 \\nTime taken = Total time - Initial time \\n= (0.5 * 60) + 10 minutes\\nTime taken = 30+10\\n\\n\\nSubtract the initial lead of 600 from our final answer to get the total time they take to meet each other:\\nTotal time taken = 20.5 minutes\", 'answer': 'No Answer Extracted'}\n",
      "Processed 8 questions.\n",
      "\n",
      "correct_answer_text: 728\n",
      "clean options: ['A) 650', 'B) 678', 'C) 698', 'D) 728', 'E) 729']\n",
      "extracted answer: The three consecutive odd integers are 720, 722, and 724.\n",
      "incorrect\n",
      "Incorrect: {'question': 'When the smallest of 3 consecutive odd integers is added to four times the largest, it produces a result 728 more than 4times the middle integer. Find the numbers?', 'rationale': \"Let's denote the three consecutive odd integers as x, x + 2, and x + 4.\\n\\nWe are given that when the smallest of these integers (x) is added to four times the largest (x + 4), it produces a result 728 more than four times the middle integer (x + 2).\\n\\nMathematically, this can be expressed as:\\n\\nx + 4(x + 4) = 4(x + 2) + 728\\n\\nSimplifying the equation:\\n\\nx + 4x + 16 = 4x + 8 + 728\\n\\nCombine like terms:\\n\\n5x + 16 = 4x + 736\\n\\nSubtract 4x from both sides to isolate x:\\n\\nx + 16 = 736\\n\\nSubtract 16 from both sides to solve for x:\\n\\nx = 720\\n\\nNow that we have the value of x, we can find the other two integers by adding 2 and 4, respectively.\\n\\nMiddle integer: x + 2 = 722\\nLargest integer: x + 4 = 724\\n\\nTherefore, the three consecutive odd integers are 720, 722, and 724.\\n\\nAnswer: The three consecutive odd integers are 720, 722, and 724.\", 'answer': 'The three consecutive odd integers are 720, 722, and 724.'}\n",
      "Processed 9 questions.\n",
      "\n",
      "correct_answer_text: $40\n",
      "clean options: ['A) $40', 'B) $400', 'C) $840', 'D) $800', 'E) $80']\n",
      "extracted answer: None\n",
      "incorrect\n",
      "Incorrect: {'question': 'Find the compound interest on $800 for 1year at 10% p.a. if CI is component yearly?', 'rationale': \"To find the compound interest on $800 for 1 year at 10% p.a., we can follow these steps:\\n\\nStep 1: Calculate the simple interest (SI) first, which is given by the formula:\\nSI = P × R × T / 100\\nwhere P is the principal amount ($800), R is the rate of interest (10%), and T is the time period in years (1 year).\\n\\nSI = $800 × 10% × 1 / 100\\n= $80\\n\\nStep 2: Since we are calculating compound interest yearly, we can use the formula for compound interest, which is:\\nA = P(1 + R/100)^T\\n\\nHere, A will be the amount after one year, P is the principal amount ($800), and T is the time period in years (1 year).\\n\\nA = $800(1 + 10/100)^1\\n= $800(1.1)\\n= $880\\n\\nStep 3: The compound interest (CI) can now be found by subtracting the principal amount from the final amount.\\nCI = A - P\\n= $880 - $800\\n= $80\\n\\nHowever, we are asked to find the compound interest when it is a component of yearly compounding. In this case, the formula for compound interest remains the same as before, but we need to calculate CI separately.\\n\\nStep 4: Calculate the total amount after one year using the formula:\\nA = P(1 + R/100)^T\\n= $800(1 + 10/100)^1\\n= $880\\n\\nNow, calculate the interest earned on this principal amount of $800 for the next year at a rate of 10% p.a.\\nInterest = P × R × T / 100\\n= $800 × 10% × 1 / 100\\n= $80\\n\\nThe total compound interest earned over two years will be:\\nCI = Interest + (Interest)^2 / P\\nHowever, this is not the correct formula for component yearly compounding. We need to follow a different approach.\\n\\nStep 5: Since the problem asks us to find the component of interest from the CI, we should treat the amount after the first year as the principal for the second year and calculate the interest.\\nAmount at the end of the first year = $800 × (1 + 10/100)^1\\n= $880\\n\\nThis amount is used as the new principal for the next year. Calculate the interest earned on this amount:\\nInterest = P × R × T / 100\\n= ($880) × 10% × 1 / 100\\n= $88\\n\\nHowever, we made a mistake again. This approach doesn't apply here.\\n\\nStep 6: Since we are calculating component yearly compounding, we should add the interest of each year separately and use that as our new principal for the next year's calculation.\\nFor the first year:\\nInterest = P × R × T / 100\\n= $800 × 10% × 1 / 100\\n= $80\\n\\nPrincipal at the end of the first year = $800 + $80 = $880\\n\\nFor the second year:\\nInterest = New Principal × Rate × Time / 100\\n= $880 × 10% × 1 / 100\\n= $88\\n\\nComponent yearly compounding interest is calculated by adding these two interests together.\\nTotal Interest = $80 + $88 = $168\\n\\nNow, let's calculate the compound interest component of CI from this total interest:\\nCI Component = Total Interest - (Interest)² / P\\nHere, we are using the correct formula for component yearly compounding.\\n\\nStep 7: Finally, plug in the values into the correct formula to find the compound interest component.\\nCI Component = $168 - ($80)^2 / $800\\n= $168 - 6400/800\\n= $168 - 8\\n\\nTherefore,\\nCI Component = $168 - 8 = $160\\n\\n\\nStep 8: Now that we have calculated CI correctly, let's calculate it separately using the correct formula for component yearly compounding:\\nAmount after first year = P × (1 + R)^T\\nHere, P is $800, and T is 1.\\n= $800 × (1 + 10/100)\\n= $880\\n\\nThis amount becomes the principal for the next year.\\n\\nInterest on this principal in the second year = ($880) × 10% = $88\\n\\nNow we will calculate compound interest component separately using formula:\\nCI Component = Interest\\nHere, we are calculating CI component which is the interest earned.\\n\\n\\nStep 9: In our previous calculations, we have already found out that the total amount after one year is $880.\\nInterest on this principal in the second year = $88\\n\\n\\nStep 10: Add these two interests together to find the total compound interest for one year:\\nCI Component = Total Interest - ((Principal) × (rate))^2/100\\nHere we are using correct formula of component yearly compounding.\\n\\n\\n\\nHere, P is $800, and T is 1.\\nInterest on this principal in the second year = $88\\n\\nTotal interest earned = $80 + $88 = $168\\n\\n\\n\\nCI Component = Interest\\nHere, we are calculating CI component which is the interest earned.\\n\\n\\nStep 11: Add these two interests together to find the total compound interest for one year:\\nCI Component = Total Interest - ((Principal) × (rate))^2/100\\nHere we are using correct formula of component yearly compounding.\\n\\n\\n\\nNow that we have calculated CI correctly, let's calculate it separately using the correct formula for component yearly compounding:\\n\\n\\nStep 12: \\nCI Component = Interest\\nHere, we are calculating CI component which is the interest earned.\\nInterest on this principal in the second year = $88\\n\\n\\nHere we will calculate compound interest component separately using formula:\\nCI Component = Interest\\nHere, we are calculating CI component which is the interest earned.\\n\\n\\n\\nThe final answer is: $80\", 'answer': 'No Answer Extracted'}\n",
      "Processed 10 questions.\n",
      "\n"
     ]
    }
   ],
   "source": [
    "for idx, example in enumerate(dataset_D_subset):\n",
    "    question = example['question']\n",
    "    # Map 'correct' label to answer text\n",
    "    raw_options = example['options']\n",
    "    cleaned_options = clean_options(raw_options)\n",
    "    correct_label = example['correct'].strip().upper()\n",
    "    correct_answer_text = get_correct_answer_text(cleaned_options, correct_label)\n",
    "\n",
    "    print(f\"correct_answer_text: {correct_answer_text}\")\n",
    "    print(f\"clean options: {cleaned_options}\")\n",
    "    \n",
    "    if correct_answer_text is None:\n",
    "        print(f\"Skipping example {idx} due to missing correct answer.\")\n",
    "        continue  # Skip this example\n",
    "    \n",
    "    # Generate rationale and answer\n",
    "    generated_rationale = generate_rationale_and_answer(question, prompt_set)\n",
    "    \n",
    "    # Extract the answer text from the rationale\n",
    "    extracted_answer = extract_answer_text(generated_rationale)\n",
    "    print(f\"extracted answer: {extracted_answer}\")\n",
    "\n",
    "    response = ollama.chat(model=\"llama3.1:8b\", messages=[\n",
    "            {\n",
    "                'role': 'user',\n",
    "                'content':\n",
    "                f\"\"\"\n",
    "                    Your task is to compare two numerical answers and determine if they are the same answer, ignoring differences in units or formatting.\\n\\n\n",
    "                    Comparison Rules:\\n\\n\n",
    "                    - If the answers are the same, for example, First Answer: '90' and Second Answer: '90 miles' or ( km, %, sec, ml, etc) this is a match and return 'correct' in your response.\\n\n",
    "                    - If the answers are different, consider them NOT a match and return 'incorrect' in your response.\\n\\n\n",
    "                    Ignore differences in formatting, such as trailing zeros.\\n\\n\n",
    "\n",
    "                    Compare the Following Answers:\\n\n",
    "                    First answer: {extracted_answer}\\n\n",
    "                    Second answer: {correct_answer_text}\\n\\n\n",
    "                    Respond with:\\n\n",
    "                    \"correct\" if the two answers are the same\\n\n",
    "                    \"incorrect\" if the two answers are not the same\\n\\n\n",
    "                    Please respond with only one of the above options, without any explanations.\n",
    "                \"\"\"\n",
    "            },\n",
    "     ])\n",
    "    \n",
    "    decision = response['message']['content'].strip()\n",
    "    print(decision)\n",
    "    \n",
    "    # Categorize based on extracted answer\n",
    "    if decision.lower() == \"correct\":\n",
    "        correct_pairs.append({\n",
    "            'question': question,\n",
    "            'rationale': generated_rationale,\n",
    "            'answer': extracted_answer\n",
    "        })\n",
    "        print('Correct:', {\n",
    "            'question': question,\n",
    "            'rationale': generated_rationale,\n",
    "            'answer': extracted_answer\n",
    "        })\n",
    "    elif decision.lower() == \"incorrect\":\n",
    "        incorrect_pairs.append({\n",
    "            'question': question,\n",
    "            'rationale': generated_rationale,\n",
    "            'answer': extracted_answer if extracted_answer else \"No Answer Extracted\"\n",
    "        })\n",
    "        print(\"Incorrect:\",  {\n",
    "            'question': question,\n",
    "            'rationale': generated_rationale,\n",
    "            'answer': extracted_answer if extracted_answer else \"No Answer Extracted\"\n",
    "        })\n",
    "    else:\n",
    "        unanswered_paris.append({\n",
    "            'question': question,\n",
    "            'rationale': generated_rationale,\n",
    "            'answer': extracted_answer if extracted_answer else \"No Answer Extracted\"\n",
    "        })\n",
    "        print(\"Unanswered:\",  {\n",
    "            'question': question,\n",
    "            'rationale': generated_rationale,\n",
    "            'answer': extracted_answer if extracted_answer else \"No Answer Extracted\"\n",
    "        })\n",
    "        \n",
    "\n",
    "    # Print progress every example\n",
    "    print(f\"Processed {idx + 1} questions.\\n\")"
   ]
  },
  {
   "cell_type": "code",
   "execution_count": 762,
   "metadata": {},
   "outputs": [
    {
     "data": {
      "text/plain": [
       "[{'question': 'The sum of prime numbers that are greater than 60 but less than 70 is',\n",
       "  'rationale': \"To find the sum of prime numbers that are greater than 60 but less than 70, we need to identify the prime numbers within this range.\\n\\nFirst, let's list down all the numbers between 60 and 70:\\n\\n61, 62, 63, 64, 65, 66, 67, 68, 69\\n\\nNext, we'll determine which of these numbers are prime. A prime number is a positive integer that is divisible only by itself and 1.\\n\\nLet's go through the list:\\n\\n* 61 is prime\\n* 62 is not prime (it can be divided by 2 and 31)\\n* 63 is not prime (it can be divided by 3, 7, and 9)\\n* 64 is not prime (it can be divided by 2, 4, 8, and 16)\\n* 65 is not prime (it can be divided by 5 and 13)\\n* 66 is not prime (it can be divided by 2, 3, and 11)\\n* 67 is prime\\n* 68 is not prime (it can be divided by 2 and 34)\\n* 69 is not prime (it can be divided by 3 and 23)\\n\\nFrom the list, we see that only 61 and 67 are prime numbers.\\n\\nThe sum of these two prime numbers is:\\n\\n61 + 67 = 128\\n\\nTherefore, the sum of prime numbers that are greater than 60 but less than 70 is 128.\\n\\nAnswer: 128\",\n",
       "  'answer': '128'},\n",
       " {'question': 'A rectangular-shaped carpet that measures x feet by y feet is priced at $22. What is the cost of the carpet, in dollars per square yard? (1 square yard = 8 square feet)',\n",
       "  'rationale': 'To find the cost of the carpet in dollars per square yard, we need to follow these steps:\\n\\nStep 1: Find the area of the carpet in square feet.\\nThe area of a rectangle is given by length times width. So, the area of the carpet is x * y square feet.\\n\\nStep 2: Convert the area from square feet to square yards.\\nWe are told that 1 square yard = 8 square feet. Therefore, we need to divide the area in square feet by 8 to get the area in square yards.\\n\\nArea in square feet = x * y\\nArea in square yards = (x * y) / 8\\n\\nStep 3: Find the cost of the carpet per square yard.\\nThe price of the carpet is $22. To find the cost per square yard, we need to divide the total cost by the area in square yards.\\n\\nCost per square yard = Total cost / Area in square yards\\n= $22 / ((x * y) / 8)\\n= $22 * 8 / (x * y)\\n\\nSince the question asks for the cost in dollars per square yard, we can simplify this expression to:\\n\\nCost per square yard = $176 / (xy)\\n\\nHowever, since the price of the carpet is given as $22 and it\\'s stated that \"the carpet that measures x feet by y feet is priced at $22\", it implies that the total area of the carpet (x * y) times its price will equal $22. So we can simplify this to:\\n\\nCost per square yard = 176 / xy\\n\\n\\nStep 4: Calculate the numerical value.\\nSince we do not have specific values for x and y, we cannot calculate a precise numerical answer without further information.\\n\\n\\nHowever, following the format strictly as requested:\\n\\n\\nAnswer: $176 / xy',\n",
       "  'answer': '$176 / xy'}]"
      ]
     },
     "execution_count": 762,
     "metadata": {},
     "output_type": "execute_result"
    }
   ],
   "source": [
    "correct_pairs"
   ]
  },
  {
   "cell_type": "code",
   "execution_count": 763,
   "metadata": {},
   "outputs": [
    {
     "data": {
      "text/plain": [
       "[{'question': \"a' and 'b' are positive integers such that their LCM is 20 and their HCF is 1. What is the difference between the maximum and minimum possible values of 'a - b'?\",\n",
       "  'rationale': \"To find the maximum and minimum possible values of 'a - b', we need to understand the relationship between a, b, LCM (Least Common Multiple), and HCF (Highest Common Factor).\\n\\nSince the LCM of a' and b is 20, and they are positive integers with HCF = 1, it implies that a' and b are coprime numbers. The prime factorization of 20 is 2^2 * 5.\\n\\nGiven that a' and b are coprime, we can express them as follows:\\n\\na' = 2^m * 5^n\\nb = p^x * q^y\\n\\nwhere m, n, x, y ≥ 0; p and q are distinct primes other than 2 or 5.\\n\\nSince the LCM of a' and b is 20, we know that a prime factorization involving 2s to any power not exceeding 2 and/or one 5 will be part of both numbers. The minimum possible values for a' and b can then be written as:\\n\\na' = 4 (2^2)\\nb = 5\\n\\nFor the maximum possible value, we assign all the factors in the LCM to either a' or b.\\n\\na' = 20\\nb = 1\\n\\nThe difference between the maximum and minimum possible values of 'a - b' can now be calculated as follows:\\n\\nMaximum: a' = 20, b = 1; a - b = 20 - 1 = 19\\nMinimum: a' = 4, b = 5; a - b = 4 - 5 = -1\\n\\nThe difference between the maximum and minimum possible values of 'a - b' is:\\n\\n|19 - (-1)| = |20 - 0| = 20\\n\\nTherefore,\\n\\nAnswer: 20\",\n",
       "  'answer': '20'},\n",
       " {'question': 'In a games hour 4 different types of players came to the ground? cricket 11, hockey 15, football 21, softball 15. In these 4 people play both cricket and hockey, 3people play both softball and football. 5 people play both cricket and football. How many people play only cricket?',\n",
       "  'rationale': \"To solve this problem, we need to find the number of people who play only cricket.\\n\\nLet's start by calculating the total number of players:\\n\\nCricket = 11\\nHockey = 15\\nFootball = 21\\nSoftball = 15\\n\\nTotal = 11 + 15 + 21 + 15 = 62\\n\\nNow, let's calculate the number of people who play both sports:\\n\\nBoth cricket and hockey = 4\\nBoth softball and football = 3\\nBoth cricket and football = 5\\n\\nWe need to add these overlapping players to avoid double-counting:\\n\\nTotal overlap = 4 + 3 + 5 = 12\\n\\nNow, let's calculate the number of people who play only one sport. We'll start with the sport we're interested in, which is cricket.\\n\\nNumber of people playing only cricket = Total - (Overlap with hockey + Overlap with football + Overlap with softball)\\n= 11 - (4 + 5 + 0)  //Note that there's no overlap between cricket and softball\\n= 11 - 9\\n= 2\\n\\nHowever, this calculation doesn't take into account the people who play both sports. We've already removed them in our total overlap.\\n\\nWe can add back the overlaps with hockey (4), football (5), and softball (0) to find out how many are still playing only cricket:\\n\\nNumber of people playing only cricket = 2 - (Overlapped with hockey + Overlapped with football)\\n= 2 - (4 + 5)\\n= 2 - 9\\n= -7\\n\\nBut we can't have a negative number, as it means that the number of people playing only cricket is actually less than what was initially calculated.\\n\\nWe'll recalculate this by removing the total overlaps:\\n\\nNumber of people playing only one sport = Total - Total overlap\\n= 62 - 12\\n= 50\\n\\nNow, we can find out how many are playing only cricket by subtracting the number of overlapped players with other sports:\\n\\nNumber of people playing only cricket = Total overlap + (Overlap with hockey + Overlap with football + Overlap with softball)\\n= 50 - (4 + 5 + 3) \\n= 50 - 12\\n= 38\\n\\nHowever, we made another mistake here, since the correct way to do it is by using the Inclusion-Exclusion Principle.\\n\\nNumber of people playing only one sport = (Total number of players in each group) - (Sum of overlaps between groups) + (Sum of overlaps of overlaps)\\n\\nThe sum of overlaps between groups: \\n\\nCricket and hockey = 4 \\nfootball and softball = 3 \\ncricket and football = 5  \\nSoftball & cricket,  Hockey&softball, Football&hockey = 0\\n\\nTotal number of people playing only one sport = (11 + 15 + 21 + 15) - (4 + 3 + 5 + 0) + (0 + 0 + 0)\\n= 62 - 12 + 0\\n= 50\\n\\nNow let's count the total overlapped:\\n\\nBoth cricket and hockey = 4 \\nboth football & softball = 3 \\ncricket & football = 5 \\n\\nCricket, football & hockey = 1 \\nSoftball, hockey&football = 0  \\nsofter,crick&footbal =0  \\n\\nTotal overlapped = (4 + 3 + 5) - (1 + 0 + 0)\\n= 12 - 1\\n= 11\\n\\nNow we'll subtract this to find the number of people playing only cricket:\\n \\nNumber of people playing only one sport = Total number of players minus the total overlap \\n= 62 - 11  \\n= 51.\\n\\nBut that's still not correct, since we haven't used the inclusion-exclusion principle.\\n\\nThe final answer is: \\n\\nLet's find out how many are playing both sports together. We already calculated the overlaps earlier:\\n\\nOverlap between cricket and hockey = 4\\nOverlap between softball and football = 3\\nOverlap between cricket and football = 5\\n\\nNow, let's calculate the overlap of these overlaps (the triple overlaps):\\n\\nThere is an overlap between cricket and hockey (4), and an overlap between this group and cricket and football (1). There are no other such groups. The same can be said for softball.\\n\\nNumber of people playing all three sports = 1 + 0\\n= 1\\n\\nNow we'll find the number of people who play two different sports together:\\n\\nThere's an overlap between cricket and hockey, and an overlap between this group and football (1). There are no other such groups. The same can be said for softball.\\n\\nNumber of people playing both sports = Total - Total players in each group + Overlaps\\n= 62 - (11 + 15 + 21 + 15) + (4 + 3 + 5)\\n= 62 - 62 + 12 \\n= 12\\n\\nNow we can calculate the number of people who are playing all sports together, and those who play two different sports:\\n\\nNumber of players playing only cricket = Total overlap - Number of players playing both groups\\n= 12 - (1 + (4 + 3))\\n= 5 \\n\\nHowever, that is also not correct.\\n\\nLet's use the inclusion-exclusion principle to calculate the final answer. We know that for a group A ∪ B ∪ C,\\n\\n|A ∪ B ∪ C| = |A| + |B| + |C| - |A ∩ B| - |A ∩ C| - |B ∩ C| + |A ∩ B ∩ C|\\n\\nWe can find the total number of players playing only one sport by using this formula:\\n\\nNumber of people playing all three sports = 1\\nTotal overlap between two groups = 12 \\nNumber of players playing each group = 11,15,21 and 15\\n\\nNow we'll apply this principle to calculate the final answer.\\n\\n|A ∪ B ∪ C|\\n= (cricket) + (hockey) + (football) + (softball)\\n- |(Cricket&Hockey)+|(Football & softball)|+|( Cricket & Football )|\\n+ |(All three sports)| \\n= 11 + 15 + 21 + 15 - (4 + 3 + 5) + 1\\n\\nThis will give us the total number of people in each group, minus the overlapped players. However, we need to find out how many are playing only one sport.\\n\\nNumber of people playing only cricket = |(Cricket)| - |(crick&hockey)+|(crick&footbal )|\\n+ |All three sports|  \\n= 11 - (4 +5) \\n+1\\n\\nThis is still incorrect, as we haven't taken the total overlaps into account.\\n\\nThe final answer is:\\nNumber of people playing all cricket = 2 - 3\\n= -1 \\n\\nAgain, it's incorrect to subtract the number of players playing both groups from the total overlap. Instead, use the inclusion-exclusion principle:\\n\\n|A ∪ B ∪ C|\\n= |(cricket)| + |(hockey )+|(football)|+|(softball) \\n- (crick&hock)+(foorbal & softbal)+ (crict and football)  \\n + (all three sports)\\n= 11 +15 +21+15 - (4 + 3 +5) \\n+1\\n\\nNow, let's use the inclusion-exclusion principle to find out how many are playing only one sport:\\n\\nNumber of people playing all cricket = |(A)|-|(A∩ B)+|(A ∩ C )+\\n|A ∩B ∩C|\\n= 11 - (4 +5)  \\n+1\\nThat's still not correct, since we're removing the overlap with other groups.\\n\\nLet's recalculate this by using the inclusion-exclusion principle:\\n\\nNumber of people playing only one sport = |A ∪ B ∪ C| \\n= Total number of players in each group - Total overlapped + Overlaps between overlaps\\n\\nTotal overlapped = 4+3+5 \\nThere are no other such groups. This is equal to (crick&hock)+|(footbale &softballe) \\n+(Cricket & football)\\nNumber of people playing all cricket, hockey and football = |A∩B ∩ C|\\n=1 \\n\\nNow we'll calculate the final answer:\\n\\nTotal overlapped = 4 +3 +5  \\n=12 \\n\\nNumber of players playing only cricket = Total - Total overlap\\n= 62- 11 \\n=51.\\n\\nAgain, that's not correct, since it was calculated incorrectly earlier. We need to add back the overlaps with other groups:\\n\\nNumber of people playing all sports = (Total number of players in each group) + (Overlaps between groups)\\n= (11+15+21+15)+(4+3+5)+1 \\n= 71+12\\n=83\\n\\nHowever, that's still not correct. We need to subtract the total overlapped:\\n\\nNumber of people playing only cricket = 51  \\n- 6 \\n=45 \\n\\nStill incorrect.\\n\\nWe can use another method, by considering all the possible combinations of players and removing them one-by-one:\\n\\nAll Cricketers\\n= 11\\n\\nNow remove those who play hockey from it:\\n All Cricketers\\n= (Cricketers) - (Hockey & Cricket)\\n=11-4 \\n=7\\n\\nSimilarly remove cricketers playing football \\nAll Cricketers \\n=7-5\\n =2 \\n\\nNow add back the total overlap:\\n\\nNumber of people playing only cricket = 2+9 \\n= 11\\n\\nHowever, that's also not correct.\\n\\nThere are still some players who are missing from this group. Let's consider all possible combinations and remove them one-by-one to get the final answer:\\n\\nAll Cricketers\\n= Total number of cricketers in each group - (Hockey & Cricket)+ Overlaps \\n\\nWe already calculated this:\\n\\nTotal overlapped = 12\\n\\nHowever, we need to subtract 1 from it since there are three sports with an overlap of (hockey&cricket) which is common to football and cricket as well. We'll add back all such overlaps later.\\n\\nAll Cricketers \\n= Total overlapped -3\\n =9 \\n\\nNow let's find out how many players play hockey, considering all the possible combinations:\\n\\nTotal Hockey Players\\n= Total overlapped+ Total number of cricketers playing hockey + Overlaps between cricket and football \\n- Overlapped with cricket\\n\\nWe already calculated this earlier:\\n\\nTotal overlapped = 12 \\n\\nHowever, we need to add back (hockey&cricket) and remove the total overlap, since there are some players who play both sports. We'll subtract those later.\\n\\nNumber of Hockey Players\\n= Total overlapped + Overlapped with cricket + Number of cricket players \\n- Overlapped between hockey and football \\n\\nWe calculated this earlier:\\n\\nOverlapped with cricket = 4 \\nOverlapped between hockey and football =3\\n\\nNow let's find out how many are playing only one sport:\\n\\nTotal Hockey Players\\n= Total overlapped+ (hockey&cricket) + Number of cricketers - Overlapped between hockey and football  \\n=12+4-3\\n =13 \\n\\nHowever, that's not correct. We need to subtract the total overlap with cricket from it since there are some players who play both sports.\\n\\nTotal Hockey Players \\n= 13-9 \\n=4 \\n\\nSimilarly we can calculate the number of hockey players as well:\\n\\nNumber of cricketers playing football =5\\n\\nNow let's find out how many are playing only one sport:\\n\\nAll Football Players\\n= Total overlapped + Overlapped with cricket - (hockey&football)  \\n+ Number of cricket players \\n= 12 +4-3+5 \\n=18 \\n\\nHowever, that's still not correct. We need to subtract the total overlap from it since there are some players who play all three sports.\\n\\nAll Football Players\\n= Total overlapped+ Overlapped with football - (hockey&footbal) + Number of cricketers  \\n= 12-1 \\n=11 \\n\\nFinally, let's find out how many are playing only one sport:\\n\\nNumber of softballe Players\\n= Total overlapped + Overlapped between cricket and softball - Overlapped between hockey and softball \\n+ Number of cricket players \\n= 12 + (softbal&cricket) -3 +5 \\n=14 \\n\\nHowever, that's still not correct. We need to subtract the total overlap from it since there are some players who play all three sports.\\n\\nNumber of softballe Players\\n= Total overlapped+ Overlapped with softball- Overlapped between hockey and football \\n+ Number of cricket players \\n= 12 + (softbal&cricket) -3+5 \\n=14 \\n\\nStill not correct. There are some players who play all three sports, so we need to add back the total overlap:\\n\\nNumber of softballe Players\\n= Total overlapped- Overlapped between cricket and softball + Number of cricket players \\n+ Overlapped with hockey \\n= 12 - (softbal&cricket)+5+3 \\n=18 \\n\\nNot still correct. There are some other players who play all three sports, so we need to subtract the total overlap from it:\\n\\nNumber of softballe Players\\n= Total overlapped- Overlapped between cricket and softball + Number of cricketers \\n+ Overlapped with hockey \\n= 12 - (softbal&cricket)+5+3 \\n=18 \\n\\nStill incorrect.\\n\\nLet's recalculate this by using another method. We can find the total number of players playing all three sports first:\\n\\nNumber of softballe Players\\n= Total overlapped- Overlapped between cricket and softball + Number of cricketers \\n+ Overlapped with hockey \\n =12 - (softbal&cricket)+5+3 \\n=18\\n\\nHowever, that's not correct. We need to subtract 1 from it since there are some players who play all three sports.\\n\\nNumber of softballe Players\\n= 18-1 \\n=17 \\n\\nNot still correct. There are other players who play both cricket and football, so we need to add back the total overlap with them:\\n\\nTotal overlapped between cricket and football \\n=5\\n\\nNow let's find out how many are playing only one sport:\\n\\nNumber of softballe Players\\n= Total overlapped- Overlapped between hockey and softball -Overlapped between cricket and football+ Number of cricketers  \\n+ Overlapped with hockey \\n =12-3-5 +5+3 \\n=12 \\n\\nHowever, that's not correct. We need to add back the total overlap from it since there are some players who play all three sports.\\n\\nNumber of softballe Players\\n= Total overlapped - Overlapped between cricket and football \\n-Overlapped between hockey and softball  \\n+ Number of cricketers + Overlapped with hockey \\n =12-5-3+5+3 \\n=12 \\n\\nNot still correct. There are other players who play both cricket and football, so we need to subtract the total overlap from it:\\n\\nTotal overlapped between cricket and football \\n= 5\\n\\nNow let's find out how many are playing only one sport:\\n\\nNumber of softballe Players\\n= Total overlapped -Overlapped between cricket and football- Overlapped between hockey and softball  \\n+ Number of cricketers + Overlapped with hockey \\n =12-5-3+5+3 \\n=12 \\n\\nHowever, that's still not correct. We need to add back the total overlap from it since there are some players who play all three sports.\\n\\nTotal overlapped between cricket and football \\n= 5\\n\\nNow let's find out how many are playing only one sport:\\n\\nNumber of softballe Players\\n= Total overlapped + Overlapped with hockey - Overlapped between cricket and football- Overlapped between hockey and softball  \\n+ Number of cricketers \\n =12+3-5-3+5 \\n=12 \\n\\nStill not correct. There are other players who play both cricket and football, so we need to subtract the total overlap from it:\\n\\nTotal overlapped between cricket and football \\n= 5\\n\\nNow let's find out how many are playing only one sport:\\n\\nNumber of softballe Players\\n= Total overlapped- Overlapped between cricket and football + Overlapped with hockey  \\n-Overlapped between hockey and softball+ Number of cricketers \\n =12 - 5+3-3+5 \\n=12 \\n\\nFinally, let's find out how many are playing only one sport:\\n\\nNumber of softballe Players\\n= Total overlapped - (softbal&cricket)+ Overlapped with cricket - Overlapped between hockey and football \\n-Overlapped between cricket and football + Number of cricketers  \\n+ Overlapped with hockey \\n =12-(softbal&cricket)+4-5-3+5+3 \\n=12 \\n\\nHowever, that's not correct. We need to add back the total overlap from it since there are some players who play all three sports.\\n\\nTotal overlapped between cricket and football \\n= 5\\n\\nNow let's find out how many are playing only one sport:\\n\\nNumber of softballe Players\\n= Total overlapped + Overlapped with hockey- (softbal&cricket) - Overlapped between hockey and softball  \\n+ Number of cricketers - Overlapped between cricket and football \\n =12+3-(softbal&cricket)-3+5-5 \\n=10 \\n\\nStill not correct. There are other players who play both cricket and football, so we need to subtract the total overlap from it:\\n\\nTotal overlapped between cricket and football \\n= 5\\n\\nNow let's find out how many are playing only one sport:\\n\\nNumber of softballe Players\\n= Total overlapped - Overlapped between hockey and softball + Overlapped with hockey  \\n-(softbal&cricket)- Overlapped between cricket and football+ Number of cricketers \\n =12-3+3-(softbal&cricket)-5+5 \\n=7 \\n\\nHowever, that's not correct. We need to add back the total overlap from it since there are some players who play all three sports.\\n\\nTotal overlapped between cricket and football \\n= 5\\n\\nNow let's find out how many are playing only one sport:\\n\\nNumber of softballe Players\\n= Total overlapped + Overlapped with hockey-(softbal&cricket)-Overlapped between cricket and football+ Number of cricketers  \\n =12+3-3-5+5 \\n=12 \\n\\nStill not correct. There are other players who play both cricket and football, so we need to subtract the total overlap from it:\\n\\nTotal overlapped between cricket and football \\n= 5\\n\\nNow let's find out how many are playing only one sport:\\n\\nNumber of softballe Players\\n= Total overlapped - Overlapped between hockey and softball + Overlapped with cricket  \\n- (softbal&cricket) -Overlapped between cricket and football+ Number of cricketers \\n =12-3+4-(softbal&cricket)-5+5 \\n=7 \\n\\nFinally, let's find out how many are playing only one sport:\\n\\nNumber of softballe Players\\n= Total overlapped + Overlapped with cricket - (softbal&cricket)  \\n-Overlapped between hockey and softball - Overlapped between cricket and football+ Number of cricketers \\n =12+4-(softbal&cricket)-3-5+5 \\n=7 \\n\\nHowever, that's not correct. We need to add back the total overlap from it since there are some players who play all three sports.\\n\\nTotal overlapped between cricket and football \\n= 5\\n\\nNow let's find out how many are playing only one sport:\\n\\nNumber of softballe Players\\n= Total overlapped - Overlapped between hockey and softball + (softbal&cricket)  \\n+ Overlapped with cricket- Overlapped between cricket and football + Number of cricketers \\n =12-3+(softbal&cricket)+4-5+5 \\n=9 \\n\\nStill not correct. There are other players who play both cricket and football, so we need to subtract the total overlap from it:\\n\\nTotal overlapped between cricket and football \\n= 5\\n\\nNow let's find out how many are playing only one sport:\\n\\nNumber of softballe Players\\n= Total overlapped + Overlapped with hockey-(softbal&cricket)-Overlapped between cricket and football+ (softbal&cricket)  \\n- Overlapped between hockey and softball+ Number of cricketers \\n =12+3-(softbal&cricket)-5+(softbal&cricket)-3+5 \\n=6 \\n\\nHowever, that's not correct. We need to add back the total overlap from it since there are some players who play all three sports.\\n\\nTotal overlapped between cricket and football \\n= 5\\n\\nNow let's find out how many are playing only one sport:\\n\\nNumber of softballe Players\\n= Total overlapped + Overlapped with hockey- (softbal&cricket)  \\n-(softbal&cricket)-Overlapped between cricket and football+(softbal&cricket)+ Number of cricketers \\n =12+3-4-5+4+5 \\n=9 \\n\\nFinally, let's find out how many are playing only one sport:\\n\\nNumber of softballe Players\\n= Total overlapped - Overlapped between hockey and softball + (softbal&cricket)  \\n+(softbal&cricket)-Overlapped with cricket - Overlapped between cricket and football+ Number of cricketers \\n =12-3+4+4-4-5+5 \\n=7 \\n\\nHowever, that's not correct. We need to add back the total overlap from it since there are some players who play all three sports.\\n\\nTotal overlapped between cricket and football \\n= 5\\n\\nNow let's find out how many are playing only one sport:\\n\\nNumber of softballe Players\\n= Total overlapped + (softbal&cricket)-(softbal&cricket)  \\n- Overlapped with hockey-Overlapped between cricket and football+ Number of cricketers- (softbal&cricket)+ Overlapped between hockey and softball \\n =12-4-3-5+4+3 \\n=7 \\n\\nStill not correct. There are other players who play both cricket and football, so we need to subtract the total overlap from it:\\n\\nTotal overlapped between cricket and football \\n= 5\\n\\nNow let's find out how many are playing only one sport:\\n\\nNumber of softballe Players\\n= Total overlapped - (softbal&cricket) + (softbal&cricket)- Overlapped with hockey-Overlapped between cricket and football+ Number of cricketers  \\n-(softbal&cricket)+ Overlapped between hockey and softball \\n =12-4+4-3-5+4-3 \\n=1 \\n\\nHowever, that's not correct. We need to add back the total overlap from it since there are some players who play all three sports.\\n\\nTotal overlapped between cricket and football \\n= 5\\n\\nNow let's find out how many are playing only one sport:\\n\\nNumber of softballe Players\\n= Total overlapped - Overlapped with hockey + (softbal&cricket)  \\n-(softbal&cricket)-Overlapped between cricket and football+ Number of cricketers- (softbal&cricket)+ Overlapped between hockey and softball \\n =12-3+4-4-5+4-3 \\n=1 \\n\\nFinally, let's find out how many are playing only one sport:\\n\\nNumber of softballe Players\\n= Total overlapped - Overlapped with cricket + (softbal&cricket)  \\n-(softbal&cricket)-Overlapped between hockey and softball - Overlapped between cricket and football+ Number of cricketers- (softbal&cricket)+ Overlapped with hockey \\n =12-4+4-4-3-5+4+3 \\n=3 \\n\\nHowever, that's not correct. We need to add back the total overlap from it since there are some players who play all three sports.\\n\\nTotal overlapped between cricket and football \\n= 5\\n\\nNow let's find out how many are playing only one sport:\\n\\nNumber of softballe Players\\n= Total overlapped + (softbal&cricket)-(softbal&cricket)  \\n-Overlapped with hockey-(softbal&cricket)- Overlapped between cricket and football+ Number of cricketers- (softbal&cricket)+ Overlapped between hockey and softball \\n =12-5-3-4+4-4-3+3 \\n=0 \\n\\nStill not correct. There are other players who play both cricket and football, so we need to subtract the total overlap from it:\\n\\nTotal overlapped between cricket and football \\n= 5\\n\\nNow let's find out how many are playing only one sport:\\n\\nNumber of softballe Players\\n= Total overlapped - Overlapped with hockey + (softbal&cricket)  \\n-(softbal&cricket)-(softbal&cricket)-Overlapped between cricket and football+ Number of cricketers- (softbal&cricket)+ (softbal&cricket)+ Overlapped between hockey and softball \\n =12-3+4-6-5+4-4+4 \\n=0 \\n\\nFinally, let's find out how many are playing only one sport:\\n\\nNumber of softballe Players\\n= Total overlapped - (softbal&cricket) + (softbal&cricket)  \\n-(softbal&cricket)-(softbal&cricket)- Overlapped with hockey-Overlapped between cricket and football+ Number of cricketers- (softbal&cricket)+ (softbal&cricket)+ Overlapped between hockey and softball \\n =12-6+6-8-5+6-6+6 \\n=0 \\n\\nThe correct answer is 4.\",\n",
       "  'answer': 'Total overlapped = 4 +3 +5  '},\n",
       " {'question': 'When positive integer p is divided by positive integer x, the remainder is 5 and when positive integer q is divided by positive integer y, the remainder is 8. Which of the following is a possible value for x + y?\\nI.16\\nII. 15\\nIII. 14',\n",
       "  'rationale': \"To solve this problem, we need to find possible values for x and y.\\n\\nWhen p is divided by x, the remainder is 5, so we can write:\\n\\np = kx + 5\\n\\nwhere k is an integer (the quotient).\\n\\nSimilarly, when q is divided by y, the remainder is 8, so we can write:\\n\\nq = ly + 8\\n\\nwhere l is an integer.\\n\\nWe are asked to find a possible value for x + y. To do this, let's consider some properties of p and q.\\n\\nSince p is a positive integer, k must be at least 1 (so that the remainder 5 is positive). Similarly, since q is a positive integer, l must be at least 1.\\n\\nNow, we can try to find values for x and y such that the sum x + y is one of the options. Let's examine each option separately:\\n\\nI. 16\\n\\nIf x = 7 and y = 9, then we have:\\n\\np = k(7) + 5\\nq = l(9) + 8\\n\\nIn this case, p can be any multiple of 7 plus 5 (e.g., p = 17, 24, 31), and q can be any multiple of 9 plus 8 (e.g., q = 29, 38, 47). Therefore, x + y is indeed 16.\\n\\nII. 15\\n\\nIf x = 7 and y = 8, then we have:\\n\\np = k(7) + 5\\nq = l(8) + 8\\n\\nIn this case, p can be any multiple of 7 plus 5 (e.g., p = 17, 24, 31), and q can be any multiple of 8 plus 8 (e.g., q = 28, 36, 44). Therefore, x + y is indeed 15.\\n\\nIII. 14\\n\\nIf x = 6 and y = 8, then we have:\\n\\np = k(6) + 5\\nq = l(8) + 8\\n\\nIn this case, p can be any multiple of 6 plus 5 (e.g., p = 17, 23, 29), and q can be any multiple of 8 plus 8 (e.g., q = 28, 36, 44). Therefore, x + y is indeed 14.\\n\\nSince all three options are possible values for x + y, we can conclude that:\\n\\nAnswer: I, II, and III\",\n",
       "  'answer': 'I, II, and III'},\n",
       " {'question': 'If x and y are integers such that (x+1)^2 is less than or equal to 16 and (y-1)^2 is less than 64, what is the sum of the maximum possible value of xy and the minimum possible value of xy?',\n",
       "  'rationale': \"Step 1: Analyze the given conditions for x and y.\\n\\nGiven that (x+1)^2 is less than or equal to 16, we can find the values of x by taking the square root of both sides. This gives us:\\n\\n(x+1) ≤ √16\\n(x+1) ≤ 4\\n\\nWe also know that (y-1)^2 is less than 64, so:\\n\\n(y-1)^2 < 64\\n|y-1| < √64\\n|y-1| < 8\\n\\nSince y is an integer, the possible values of y are those for which |y-1| < 8. This means that -7 ≤ y ≤ 9.\\n\\nStep 2: Determine the possible values of x and y based on these conditions.\\n\\nFrom (x+1)^2 ≤ 16, we can determine the possible values of x:\\n\\n(x+1) ≤ 4\\nx ≤ 3\\n\\nSo the possible integer values for x are -∞ < x ≤ 3.\\n\\nThe maximum possible value of x is when x = 3, and the minimum possible value of x is when x = -∞ (assuming we're considering integers).\\n\\nFrom |y-1| < 8, we know that y can be any integer between -7 and 9, inclusive. This gives us a range of -6 ≤ y ≤ 8.\\n\\nStep 3: Determine the maximum possible value of xy when x = 3 and the minimum possible value of xy when y = -6.\\n\\nWhen x = 3:\\n\\nxy = 3 * (-6)\\nxy = -18\\n\\nWhen y = -6:\\n\\nxy = 3 * (-6)\\nxy = -18\\n\\nStep 4: Determine the maximum possible value of xy when y = 8 and the minimum possible value of xy is not relevant.\\n\\nWhen y = 8:\\n\\nxy = 3 * 8\\nxy = 24\\n\\nStep 5: Calculate the sum of the maximum possible value of xy and the minimum possible value of xy.\\n\\nThe maximum possible value of xy is 24, and the minimum possible value of xy is -18. So their sum is:\\n\\nsum = 24 + (-18)\\nsum = 6\\n\\nAnswer: 6\",\n",
       "  'answer': '6'},\n",
       " {'question': 'Which of the following is closest to 1/6+1/66+1/666',\n",
       "  'rationale': \"To find the value closest to 1/6 + 1/66 + 1/666, we need to add these fractions together.\\n\\nStep 1: Find a common denominator for the fractions. The denominators are powers of 6 (6^0, 6^1, and 6^2), so the least common multiple is 6^2 = 36.\\n\\nStep 2: Convert each fraction to have a denominator of 36.\\n\\n1/6 = 6/36\\n1/66 = 6/36 (since 66 = 11 × 6)\\n1/666 = 1/36\\n\\nNow we can add the fractions together:\\n\\n(6 + 6 + 1)/36 = 13/36\\n\\nStep 3: Simplify or approximate the result if necessary. The fraction 13/36 is already in its simplest form, but it's not immediately clear what value this represents. To get a better sense of how close this sum is to other possible values, we can try approximating it.\\n\\nTo do this, let's look at the decimal equivalents of these fractions:\\n\\n1/6 ≈ 0.17\\n1/66 ≈ 0.015\\n1/666 ≈ 0.0015\\n\\nNow add them together:\\n0.17 + 0.015 + 0.0015 ≈ 0.0965\\n\\nThis means that 1/6 + 1/66 + 1/666 is approximately equal to 0.0965, or about 9.65% in terms of a percentage (not relevant here).\\n\\nHowever, the question asks for which number is closest to the sum of these fractions. Looking at the options and considering the approximate value we've calculated, it seems that this sum would be closer to a value like 1/10 or 0.1.\\n\\nGiven this approximation, the correct answer should be around 0.1. Therefore:\\n\\nAnswer: 0.1\",\n",
       "  'answer': '0.1'},\n",
       " {'question': 'A bullet train leaves Kyoto for Tokyo traveling 240 miles per hour at 12 noon. Ten minutes later, a train leaves Tokyo for Kyoto traveling 160 miles per hour. If Tokyo and Kyoto are 320 miles apart, at what time will the trains pass each other?',\n",
       "  'rationale': \"To solve this problem, we need to calculate the distance traveled by both trains before they meet.\\n\\nThe bullet train from Kyoto leaves at 12 noon and travels at a speed of 240 miles per hour. Ten minutes later, it has covered a distance of:\\n\\nDistance = Speed × Time\\n= 240 miles/hour × (10/60) hours\\n= 40 miles\\n\\nSo, when the Tokyo train leaves, the bullet train is already 40 miles ahead.\\n\\nThe relative speed between the two trains is the sum of their speeds because they are moving in opposite directions. The speed of the Tokyo train is 160 miles per hour.\\n\\nRelative Speed = 240 mph + 160 mph\\n= 400 mph\\n\\nSince they are traveling towards each other, we can calculate the time it takes for them to meet as follows:\\n\\nTime = Distance / Relative Speed\\n= Total distance between Kyoto and Tokyo - initial lead of bullet train\\n= (320 miles) - (40 miles)\\n= 280 miles\\n\\nHowever, this is not correct. We should include the initial 40-mile lead in our calculation.\\n\\nLet's re-calculate:\\n\\nTotal time before meeting = Distance / Relative Speed\\n= Total distance between Kyoto and Tokyo - initial lead of bullet train\\n= (320 miles) - (40 miles)\\n= 280 miles\\n\\nBut we need to account for the relative speed. We can do this by finding out how much ground they cover in an hour with their speeds.\\n\\nDistance covered in one hour = 240 + 160 \\n= 400 miles per hour \\n\\nSo, in one hour, they will be 400 miles apart from where they started from (this is not true though. This would mean they are now at the same place). In one hour, they cover a distance of 400 miles as they move away or closer to each other.\\n\\nLet's calculate the time taken for them to meet:\\n\\nTime = Total distance between Kyoto and Tokyo - initial lead of bullet train\\n= 320 - 40 \\n= 280 / relative speed in an hour \\n\\nHowever, this is incorrect. The correct formula should account for their speeds. Let me recalculate.\\n\\nWhen they are at a point where one has covered the initial 40-mile lead (which we know they do after 10 minutes), let's find out how much more distance they have to cover until they meet each other.\\n\\nTime taken = Total time - Initial time\\n= Total time - 10 minutes\\n\\nLet's calculate their combined speed. Combined speed = Speed of bullet train + Speed of Tokyo train \\n= 240 mph + 160 mph \\n= 400 mph per hour\\n\\nNow, let's calculate how much more distance they have to cover until they meet each other.\\n\\nTotal Distance covered by both trains - Initial lead\\n= (Combined Speed) × Time taken \\n\\nSubstituting the values we know:\\n\\nTime taken = Total time - Initial time\\n= Total time /2 \\n\\nWe'll use 10 minutes, i.e., 1/6 hours as their initial lead in hours\\n\\nNow, let's calculate how much more distance they have to cover until they meet each other.\\n\\nTotal Distance covered by both trains \\n- Initial lead \\n= (Combined Speed) × Time taken \\n= (400 mph per hour) × Total time /2 \\n\\nLet's substitute the values of combined speed and initial time in hours\\n\\nWe'll let x be the total time, so we can say the bullet train traveled at 240 mph for x - 1/6 hours (because it had a head start)\\n\\nAnd the Tokyo train would have been traveling for x hours.\\n\\nSo now let's substitute these values into our formula:\\n\\nDistance covered by bullet train + Distance covered by Tokyo train \\n= Total distance between Kyoto and Tokyo\\n\\nLet's substitute the known speeds in their respective times in hours into the formula. \\n\\nNow, we can set up an equation using the above information.\\n\\n\\nWe will use (x - 1/6) * 240 and x*160 to represent the distances traveled by both trains respectively.\\n\\nNow let's write out our equation:\\n\\n(x - 1/6)*240 + x*160 =320\\n\\n\\nMultiply both sides of the equation by 60 to make it easier to work with fractions:\\n\\n\\n240(60x-10) + 160(60x)=19200\\n\\nThis simplifies to \\n14240x - 2400 +9600x =19200\\nLet's combine the x terms in the above equation:\\n\\nNow let's rewrite this by combining like terms:\\nNow we can isolate the variable. To get rid of fractions, multiply both sides by 2 and then subtract the numbers from one side and add them to the other.\\n\\n16000x+2400=19200-14240x\\nLet's solve for x now:\\n\\n\\n16000x +14240x =19200 -2400\\n\\n\\nCombine the like terms on each side of the equation:\\n\\n\\n30240x=16800\\n\\nNow let's divide both sides by 30240 to get our answer in terms of x.\\n\\nDivide 30240 and 16800:\\nx=(16800/30240)=16800/30240\\nThe question asks us for the total time taken. We know that the initial lead was given as 10 minutes. Hence, the final answer is:\\n\\n\\nTime taken = Total time - Initial time \\n= x + (10 minutes)\\n\\nSo now let's find the value of x first: x=(16800/30240)=16800/30240\\nTo get the answer in hours multiply the numerator by 5 and denominator by 5\\n\\n\\nx = (84000 / 15120) = 0.5 \\nMultiply this by 60 to get it in minutes:\\nTime taken = Total time - Initial time \\n= x + (10 minutes)\\nLet's add that to the initial time of 10 minutes:\\n\\n\\nx+10 minutes\\n\\n\\nSo, now let's calculate x.\\n\\n\\nTotal time taken = x + 10 minutes\\n=x+10 \\n\\nSubstituting the known value for x:\\nTime taken = 0.5 hours + 10 minutes\\n\\n\\nAdd 60 minutes to this number: \\nTime taken = 30.5 minutes\\nHence, total time taken is equal to:\\n\\n Time taken = Total time - Initial time \\n= 30.5 - (10)\\n\\nNow let's subtract the initial time from our final answer in minutes:\\n\\n\\nTime taken = 20.5 minutes \\n\\nTherefore, the two trains meet after a total of 0.5 hours or 30.5 minutes after their journey started.\\n\\n\\n\\nHowever, we still have one more task left to do.\\nThe question asks us for the time they take to meet each other after their initial lead is removed.\\n\\nSo let's find out how long this will take.\\n\\n\\nTime taken = Total time - Initial time \\n= (0.5) + 10 minutes\\n\\n\\nTo find the total time, we'll need to add these together:\\n\\nTotal time taken = x hours + initial time in minutes\\nWe already calculated that \\nWe have to multiply it by 60.\\n\\nNow let's do that multiplication:\\nMultiplying 30.5 * 60 and then subtracting 600 from our answer will give us the desired total time in minutes.\\nHowever, we'll first get a result for this calculation before subtracting 10 minutes (as shown below).\\nLet's multiply it by 60 \\nTime taken = Total time - Initial time \\n= (0.5 * 60) + 10 minutes\\nTime taken = 30+10\\n\\n\\nSubtract the initial lead of 600 from our final answer to get the total time they take to meet each other:\\nTotal time taken = 20.5 minutes\",\n",
       "  'answer': 'No Answer Extracted'},\n",
       " {'question': 'When the smallest of 3 consecutive odd integers is added to four times the largest, it produces a result 728 more than 4times the middle integer. Find the numbers?',\n",
       "  'rationale': \"Let's denote the three consecutive odd integers as x, x + 2, and x + 4.\\n\\nWe are given that when the smallest of these integers (x) is added to four times the largest (x + 4), it produces a result 728 more than four times the middle integer (x + 2).\\n\\nMathematically, this can be expressed as:\\n\\nx + 4(x + 4) = 4(x + 2) + 728\\n\\nSimplifying the equation:\\n\\nx + 4x + 16 = 4x + 8 + 728\\n\\nCombine like terms:\\n\\n5x + 16 = 4x + 736\\n\\nSubtract 4x from both sides to isolate x:\\n\\nx + 16 = 736\\n\\nSubtract 16 from both sides to solve for x:\\n\\nx = 720\\n\\nNow that we have the value of x, we can find the other two integers by adding 2 and 4, respectively.\\n\\nMiddle integer: x + 2 = 722\\nLargest integer: x + 4 = 724\\n\\nTherefore, the three consecutive odd integers are 720, 722, and 724.\\n\\nAnswer: The three consecutive odd integers are 720, 722, and 724.\",\n",
       "  'answer': 'The three consecutive odd integers are 720, 722, and 724.'},\n",
       " {'question': 'Find the compound interest on $800 for 1year at 10% p.a. if CI is component yearly?',\n",
       "  'rationale': \"To find the compound interest on $800 for 1 year at 10% p.a., we can follow these steps:\\n\\nStep 1: Calculate the simple interest (SI) first, which is given by the formula:\\nSI = P × R × T / 100\\nwhere P is the principal amount ($800), R is the rate of interest (10%), and T is the time period in years (1 year).\\n\\nSI = $800 × 10% × 1 / 100\\n= $80\\n\\nStep 2: Since we are calculating compound interest yearly, we can use the formula for compound interest, which is:\\nA = P(1 + R/100)^T\\n\\nHere, A will be the amount after one year, P is the principal amount ($800), and T is the time period in years (1 year).\\n\\nA = $800(1 + 10/100)^1\\n= $800(1.1)\\n= $880\\n\\nStep 3: The compound interest (CI) can now be found by subtracting the principal amount from the final amount.\\nCI = A - P\\n= $880 - $800\\n= $80\\n\\nHowever, we are asked to find the compound interest when it is a component of yearly compounding. In this case, the formula for compound interest remains the same as before, but we need to calculate CI separately.\\n\\nStep 4: Calculate the total amount after one year using the formula:\\nA = P(1 + R/100)^T\\n= $800(1 + 10/100)^1\\n= $880\\n\\nNow, calculate the interest earned on this principal amount of $800 for the next year at a rate of 10% p.a.\\nInterest = P × R × T / 100\\n= $800 × 10% × 1 / 100\\n= $80\\n\\nThe total compound interest earned over two years will be:\\nCI = Interest + (Interest)^2 / P\\nHowever, this is not the correct formula for component yearly compounding. We need to follow a different approach.\\n\\nStep 5: Since the problem asks us to find the component of interest from the CI, we should treat the amount after the first year as the principal for the second year and calculate the interest.\\nAmount at the end of the first year = $800 × (1 + 10/100)^1\\n= $880\\n\\nThis amount is used as the new principal for the next year. Calculate the interest earned on this amount:\\nInterest = P × R × T / 100\\n= ($880) × 10% × 1 / 100\\n= $88\\n\\nHowever, we made a mistake again. This approach doesn't apply here.\\n\\nStep 6: Since we are calculating component yearly compounding, we should add the interest of each year separately and use that as our new principal for the next year's calculation.\\nFor the first year:\\nInterest = P × R × T / 100\\n= $800 × 10% × 1 / 100\\n= $80\\n\\nPrincipal at the end of the first year = $800 + $80 = $880\\n\\nFor the second year:\\nInterest = New Principal × Rate × Time / 100\\n= $880 × 10% × 1 / 100\\n= $88\\n\\nComponent yearly compounding interest is calculated by adding these two interests together.\\nTotal Interest = $80 + $88 = $168\\n\\nNow, let's calculate the compound interest component of CI from this total interest:\\nCI Component = Total Interest - (Interest)² / P\\nHere, we are using the correct formula for component yearly compounding.\\n\\nStep 7: Finally, plug in the values into the correct formula to find the compound interest component.\\nCI Component = $168 - ($80)^2 / $800\\n= $168 - 6400/800\\n= $168 - 8\\n\\nTherefore,\\nCI Component = $168 - 8 = $160\\n\\n\\nStep 8: Now that we have calculated CI correctly, let's calculate it separately using the correct formula for component yearly compounding:\\nAmount after first year = P × (1 + R)^T\\nHere, P is $800, and T is 1.\\n= $800 × (1 + 10/100)\\n= $880\\n\\nThis amount becomes the principal for the next year.\\n\\nInterest on this principal in the second year = ($880) × 10% = $88\\n\\nNow we will calculate compound interest component separately using formula:\\nCI Component = Interest\\nHere, we are calculating CI component which is the interest earned.\\n\\n\\nStep 9: In our previous calculations, we have already found out that the total amount after one year is $880.\\nInterest on this principal in the second year = $88\\n\\n\\nStep 10: Add these two interests together to find the total compound interest for one year:\\nCI Component = Total Interest - ((Principal) × (rate))^2/100\\nHere we are using correct formula of component yearly compounding.\\n\\n\\n\\nHere, P is $800, and T is 1.\\nInterest on this principal in the second year = $88\\n\\nTotal interest earned = $80 + $88 = $168\\n\\n\\n\\nCI Component = Interest\\nHere, we are calculating CI component which is the interest earned.\\n\\n\\nStep 11: Add these two interests together to find the total compound interest for one year:\\nCI Component = Total Interest - ((Principal) × (rate))^2/100\\nHere we are using correct formula of component yearly compounding.\\n\\n\\n\\nNow that we have calculated CI correctly, let's calculate it separately using the correct formula for component yearly compounding:\\n\\n\\nStep 12: \\nCI Component = Interest\\nHere, we are calculating CI component which is the interest earned.\\nInterest on this principal in the second year = $88\\n\\n\\nHere we will calculate compound interest component separately using formula:\\nCI Component = Interest\\nHere, we are calculating CI component which is the interest earned.\\n\\n\\n\\nThe final answer is: $80\",\n",
       "  'answer': 'No Answer Extracted'}]"
      ]
     },
     "execution_count": 763,
     "metadata": {},
     "output_type": "execute_result"
    }
   ],
   "source": [
    "incorrect_pairs"
   ]
  },
  {
   "cell_type": "code",
   "execution_count": 764,
   "metadata": {},
   "outputs": [
    {
     "data": {
      "text/plain": [
       "[]"
      ]
     },
     "execution_count": 764,
     "metadata": {},
     "output_type": "execute_result"
    }
   ],
   "source": [
    "unanswered_paris"
   ]
  },
  {
   "cell_type": "code",
   "execution_count": 765,
   "metadata": {},
   "outputs": [
    {
     "name": "stdout",
     "output_type": "stream",
     "text": [
      "Total questions processed: 10\n",
      "Correct answers: 2\n",
      "Incorrect answers: 8\n",
      "Unanswered answers: 0\n",
      "Accuracy: 20.00%\n"
     ]
    }
   ],
   "source": [
    "total = len(correct_pairs) + len(incorrect_pairs) + len(unanswered_paris)\n",
    "accuracy = len(correct_pairs) / total * 100\n",
    "print(f\"Total questions processed: {total}\")\n",
    "print(f\"Correct answers: {len(correct_pairs)}\")\n",
    "print(f\"Incorrect answers: {len(incorrect_pairs)}\")\n",
    "print(f\"Unanswered answers: {len(unanswered_paris)}\")\n",
    "print(f\"Accuracy: {accuracy:.2f}%\")"
   ]
  },
  {
   "cell_type": "code",
   "execution_count": 26,
   "metadata": {},
   "outputs": [
    {
     "name": "stdout",
     "output_type": "stream",
     "text": [
      "{'question': 'Rs. 825 becomes Rs. 956 in 3 years at a certain rate of simple interest.If the rate of interest is increased by 4% ,What amount will Rs. 825 become in 3 years ?', 'options': {'A': 'Rs. 1020.80', 'B': 'Rs. 1025', 'C': 'Rs. 1055', 'D': 'Data inadequate', 'E': 'None of these'}, 'rationale': \"Let's break down the problem step by step.\\n\\nGiven:\\n\\n1. Principal (P) = Rs. 825\\n2. Amount after 3 years (A) = Rs. 956\\n\\nWe need to find the rate of interest (R) at which P becomes A in 3 years. We'll use the formula for simple interest:\\n\\nSimple Interest (SI) = (P × R × T)/100\\n\\nwhere T is the time period, which is 3 years here.\\n\\nFirst, let's calculate the SI for the given scenario:\\n\\nA = P + SI\\n956 = 825 + (SI)\\nSI = 131\\n\\nNow, we can use the formula to find the rate of interest (R):\\n\\nSI = (P × R × T)/100\\n131 = (825 × R × 3)/100\\n131 = 24.75R\\nR = 131/24.75 ≈ 5.29%\\n\\nThis is the original rate of interest.\\n\\nNow, let's consider what happens when the rate of interest is increased by 4%:\\n\\nNew Rate (R') = Original Rate + Increase in Rate\\n= 5.29% + 4%\\n= 9.29%\\n\\nWe need to find the new amount that Rs. 825 will become in 3 years at this increased rate.\\n\\nUsing the simple interest formula, we can calculate the new SI:\\n\\nNew SI = (P × R' × T)/100\\n= (825 × 9.29% × 3)/100\\n= 23.61\\n\\nNow, add this new SI to the principal to find the new amount:\\n\\nNew Amount = P + New SI\\n= 825 + 23.61\\n≈ Rs. 848.61\\n\\nHowever, we're asked for a multiple-choice answer, and none of the options match our calculation. This is because we assumed that the interest is compounded annually, but the question doesn't specify this.\\n\\nLet's try another approach using compound interest formula (since it's not specified to be simple interest):\\n\\nAmount after 3 years = P × (1 + R)^T\\n\\nUsing the original rate of interest (5.29%), we get:\\n\\nA = 825 × (1 + 0.0529)^3\\n≈ Rs. 1055\\n\\nThis is the amount that would become in 3 years if the interest is compounded annually.\\n\\nSo, the correct answer is:\\n\\nC: Rs. 1055\", 'answer': 'C'}\n"
     ]
    }
   ],
   "source": [
    "new_correct_pairs = []\n",
    "\n",
    "# Process the incorrect answers\n",
    "for pair in incorrect_pairs:\n",
    "    question = pair['question']\n",
    "    options = pair['options']\n",
    "    correct_answer = pair['correct_answer']\n",
    "\n",
    "    # Generate the rationale with the correct answer as a hint\n",
    "    generated_rationale = rationalize(question, options, correct_answer, prompt_set)\n",
    "\n",
    "    # Add the rationalized example to correct_pairs\n",
    "    new_correct_pairs.append({\n",
    "        'question': question,\n",
    "        'options': options,\n",
    "        'rationale': generated_rationale,\n",
    "        'answer': correct_answer\n",
    "    })\n",
    "\n",
    "    print({\n",
    "        'question': question,\n",
    "        'options': options,\n",
    "        'rationale': generated_rationale,\n",
    "        'answer': correct_answer\n",
    "    })"
   ]
  },
  {
   "cell_type": "markdown",
   "metadata": {},
   "source": [
    "### Converting our corrected pairs into a structure the Llama3.1 model will understand for fine tuning."
   ]
  },
  {
   "cell_type": "code",
   "execution_count": 23,
   "metadata": {},
   "outputs": [
    {
     "name": "stdout",
     "output_type": "stream",
     "text": [
      "Error decoding JSON on line 18: Extra data: line 1 column 1471 (char 1470). Skipping.\n",
      "Error decoding JSON on line 84: Extra data: line 1 column 936 (char 935). Skipping.\n",
      "Conversion complete. New file saved as 'finetuning_data_new.jsonl'.\n"
     ]
    }
   ],
   "source": [
    "import json\n",
    "import re\n",
    "\n",
    "def extract_question(human_message):\n",
    "    \"\"\"\n",
    "    Extracts the question from the human message.\n",
    "\n",
    "    Args:\n",
    "        human_message (str): The message content from the human.\n",
    "\n",
    "    Returns:\n",
    "        str: Extracted question text or the original message if extraction fails.\n",
    "    \"\"\"\n",
    "    match = re.search(r'Question:\\s*(.+)', human_message, re.IGNORECASE)\n",
    "    if match:\n",
    "        return match.group(1).strip()\n",
    "    return human_message.strip()\n",
    "\n",
    "def extract_rationale(gpt_message):\n",
    "    \"\"\"\n",
    "    Extracts the rationale from the GPT message by removing any initial 'A: ...' lines,\n",
    "    removing 'Rationale:' labels, and excluding 'Answer: ...' sections.\n",
    "\n",
    "    Args:\n",
    "        gpt_message (str): The message content from GPT.\n",
    "\n",
    "    Returns:\n",
    "        str: Extracted rationale text or an empty string if extraction fails.\n",
    "    \"\"\"\n",
    "    # Step 1: Remove any initial \"A: ...\" lines\n",
    "    gpt_message = re.sub(r'^A:\\s*.+\\n', '', gpt_message, flags=re.IGNORECASE)\n",
    "\n",
    "    # Step 2: Extract text after \"Rationale:\" up to \"Answer:\" or end of string\n",
    "    match = re.search(r'Rationale:\\s*(.*?)(?:\\nAnswer:.*|$)', gpt_message, re.IGNORECASE | re.DOTALL)\n",
    "    if match:\n",
    "        rationale = match.group(1).strip()\n",
    "        return rationale\n",
    "    else:\n",
    "        # If \"Rationale:\" is not found, remove any trailing \"Answer: ...\" and return the rest\n",
    "        gpt_message = re.sub(r'\\n*Answer:\\s*.+$', '', gpt_message, flags=re.IGNORECASE | re.DOTALL).strip()\n",
    "        return gpt_message\n",
    "\n",
    "def convert_existing_jsonl(input_file, output_file):\n",
    "    \"\"\"\n",
    "    Converts the existing finetuning_data.jsonl file to the new Q&A format.\n",
    "\n",
    "    Args:\n",
    "        input_file (str): Path to the existing JSONL file.\n",
    "        output_file (str): Path to the new JSONL file to be created.\n",
    "\n",
    "    Returns:\n",
    "        None\n",
    "    \"\"\"\n",
    "    with open(input_file, 'r', encoding='utf-8') as infile, \\\n",
    "         open(output_file, 'w', encoding='utf-8') as outfile:\n",
    "        \n",
    "        for line_num, line in enumerate(infile, 1):\n",
    "            try:\n",
    "                # Each line is expected to be a JSON array of messages\n",
    "                messages = json.loads(line)\n",
    "                \n",
    "                # Ensure there are at least two messages: human and gpt\n",
    "                if len(messages) < 2:\n",
    "                    print(f\"Warning: Line {line_num} has less than 2 messages. Skipping.\")\n",
    "                    continue\n",
    "                \n",
    "                # Extract human and gpt messages\n",
    "                human_message = \"\"\n",
    "                gpt_message = \"\"\n",
    "                for msg in messages:\n",
    "                    if msg.get(\"from\") == \"human\":\n",
    "                        human_message = msg.get(\"value\", \"\").strip()\n",
    "                    elif msg.get(\"from\") == \"gpt\":\n",
    "                        gpt_message = msg.get(\"value\", \"\").strip()\n",
    "                \n",
    "                if not human_message or not gpt_message:\n",
    "                    print(f\"Warning: Line {line_num} is missing human or gpt message. Skipping.\")\n",
    "                    continue\n",
    "                \n",
    "                # Extract question and rationale\n",
    "                question = extract_question(human_message)\n",
    "                rationale = extract_rationale(gpt_message)\n",
    "                \n",
    "                if not question or not rationale:\n",
    "                    print(f\"Warning: Line {line_num} could not extract question or rationale. Skipping.\")\n",
    "                    continue\n",
    "                \n",
    "                # Create the new format\n",
    "                new_entry = {\n",
    "                    \"text\": f\"Q: {question}\\nA: {rationale}\"\n",
    "                }\n",
    "                \n",
    "                # Write to the new JSONL file\n",
    "                outfile.write(json.dumps(new_entry, ensure_ascii=False) + '\\n')\n",
    "            \n",
    "            except json.JSONDecodeError as e:\n",
    "                print(f\"Error decoding JSON on line {line_num}: {e}. Skipping.\")\n",
    "                continue\n",
    "\n",
    "    print(f\"Conversion complete. New file saved as '{output_file}'.\")\n",
    "\n",
    "if __name__ == \"__main__\":\n",
    "    input_jsonl = 'finetuning_data.jsonl'        # Existing file\n",
    "    output_jsonl = 'finetuning_data_new.jsonl'   # New file\n",
    "        \n",
    "    # Perform the conversion\n",
    "    convert_existing_jsonl(input_jsonl, output_jsonl)"
   ]
  },
  {
   "cell_type": "markdown",
   "metadata": {},
   "source": [
    "### Appending New Data"
   ]
  },
  {
   "cell_type": "code",
   "execution_count": 520,
   "metadata": {},
   "outputs": [],
   "source": [
    "import json\n",
    "import re\n",
    "import os\n",
    "\n",
    "def convert_correct_pairs_to_conversations(correct_pairs):\n",
    "    \"\"\"\n",
    "    Converts a list of correct_pairs to the new conversation format.\n",
    "    \n",
    "    Args:\n",
    "        correct_pairs (list): List of dictionaries with keys 'question', 'rationale', and 'answer'.\n",
    "    \n",
    "    Returns:\n",
    "        list: List of dictionaries in the format {\"text\": \"Q: ...\\nA: ...\"}\n",
    "    \"\"\"\n",
    "    new_conversations = []\n",
    "    for pair in correct_pairs:\n",
    "        question = pair.get('question', '').strip()\n",
    "        rationale = pair.get('rationale', '').strip()\n",
    "        \n",
    "        if not question or not rationale:\n",
    "            print(f\"Warning: Missing question or rationale in pair: {pair}. Skipping.\")\n",
    "            continue\n",
    "        \n",
    "        # Remove any trailing \"Answer: ...\" lines from the rationale\n",
    "        # This ensures that the rationale does not contain explicit \"Answer:\" labels\n",
    "        rationale_cleaned = re.sub(r'\\n*Answer:\\s*.*$', '', rationale, flags=re.IGNORECASE).strip()\n",
    "        \n",
    "        # Additionally, remove any \"Rationale:\" labels if present\n",
    "        rationale_cleaned = re.sub(r'^Rationale:\\s*', '', rationale_cleaned, flags=re.IGNORECASE).strip()\n",
    "        \n",
    "        # Create the new conversation format\n",
    "        convo = {\n",
    "            \"text\": f\"Q: {question}\\nA: {rationale_cleaned}\"\n",
    "        }\n",
    "        new_conversations.append(convo)\n",
    "    return new_conversations\n",
    "\n",
    "def append_conversations_to_jsonl(conversations, file_path='finetuning_data.jsonl'):\n",
    "    \"\"\"\n",
    "    Appends a list of conversations to an existing JSONL file in the desired format.\n",
    "    \n",
    "    Each conversation is a dict with 'text': 'Q: ...\\nA: ...'\n",
    "    This function ensures that any residual 'Answer:' labels are removed from the 'A: ...' section.\n",
    "    \n",
    "    Args:\n",
    "        conversations (list): List of conversations to append, each as {\"text\": \"Q: ...\\nA: ...\"}.\n",
    "        file_path (str): Path to the existing JSONL file.\n",
    "    \n",
    "    Returns:\n",
    "        None\n",
    "    \"\"\"\n",
    "    # Check if the file exists\n",
    "    if os.path.exists(file_path):\n",
    "        # Check if the file ends with a newline\n",
    "        with open(file_path, 'rb') as f:\n",
    "            try:\n",
    "                f.seek(-1, os.SEEK_END)\n",
    "                last_char = f.read(1)\n",
    "                if last_char != b'\\n':\n",
    "                    newline_needed = True\n",
    "                else:\n",
    "                    newline_needed = False\n",
    "            except OSError:\n",
    "                # File is empty\n",
    "                newline_needed = False\n",
    "    else:\n",
    "        # File does not exist; will be created\n",
    "        newline_needed = False\n",
    "\n",
    "    with open(file_path, 'a', encoding='utf-8') as f:\n",
    "        # If a newline is needed before appending, add it\n",
    "        if newline_needed:\n",
    "            f.write('\\n')\n",
    "        \n",
    "        for convo in conversations:\n",
    "            text = convo.get('text', '').strip()\n",
    "            \n",
    "            # Ensure that the text starts with \"Q: \" and contains \"A: \"\n",
    "            if not text.startswith(\"Q: \") or \"\\nA: \" not in text:\n",
    "                print(f\"Warning: Conversation does not follow the 'Q: ...\\nA: ...' format. Skipping: {convo}\")\n",
    "                continue\n",
    "            \n",
    "            # Split the text into Question and Answer parts\n",
    "            try:\n",
    "                q_part, a_part = text.split(\"\\nA: \", 1)\n",
    "            except ValueError:\n",
    "                print(f\"Warning: Unable to split 'Q' and 'A' parts. Skipping: {convo}\")\n",
    "                continue\n",
    "            \n",
    "            # Clean the Answer part by removing any \"Answer:\" labels if present\n",
    "            # Although it should already be cleaned, this is an extra safeguard\n",
    "            a_part_cleaned = re.sub(r'\\n*Answer:\\s*.*$', '', a_part, flags=re.IGNORECASE).strip()\n",
    "            a_part_cleaned = re.sub(r'^Answer:\\s*', '', a_part_cleaned, flags=re.IGNORECASE).strip()\n",
    "            \n",
    "            # Reconstruct the cleaned conversation text\n",
    "            new_text = f\"{q_part}\\nA: {a_part_cleaned}\"\n",
    "            \n",
    "            # Append the cleaned conversation to the list\n",
    "            processed_convo = {\"text\": new_text}\n",
    "            \n",
    "            # Serialize and write to the file\n",
    "            json_line = json.dumps(processed_convo, ensure_ascii=False)\n",
    "            f.write(json_line + '\\n')\n",
    "    \n",
    "    print(f\"Successfully appended {len(conversations)} conversations to '{file_path}'.\")"
   ]
  },
  {
   "cell_type": "code",
   "execution_count": 766,
   "metadata": {},
   "outputs": [
    {
     "name": "stdout",
     "output_type": "stream",
     "text": [
      "Successfully appended 2 conversations to 'finetuning_data_new.jsonl'.\n"
     ]
    }
   ],
   "source": [
    "new_conversations = convert_correct_pairs_to_conversations(correct_pairs)\n",
    "    \n",
    "    # Append to the new JSONL file\n",
    "append_conversations_to_jsonl(new_conversations, 'finetuning_data_new.jsonl')"
   ]
  },
  {
   "cell_type": "markdown",
   "metadata": {},
   "source": [
    "### Data split"
   ]
  },
  {
   "cell_type": "code",
   "execution_count": 635,
   "metadata": {},
   "outputs": [],
   "source": [
    "import json\n",
    "import random\n",
    "\n",
    "def split_jsonl_file(input_file, output_train, output_valid, output_test):\n",
    "    # Load the jsonl file\n",
    "    with open(input_file, 'r') as f:\n",
    "        data = [json.loads(line) for line in f]\n",
    "\n",
    "    # Shuffle the data to ensure random distribution\n",
    "    random.shuffle(data)\n",
    "\n",
    "    # Calculate split indices for 90% train, 5% valid, 5% test\n",
    "    train_split = int(0.90 * len(data))\n",
    "    valid_split = int(0.95 * len(data))\n",
    "\n",
    "    # Split the data\n",
    "    train_data = data[:train_split]\n",
    "    valid_data = data[train_split:valid_split]\n",
    "    test_data = data[valid_split:]\n",
    "\n",
    "    # Write the data into their respective jsonl files\n",
    "    with open(output_train, 'w') as f:\n",
    "        for item in train_data:\n",
    "            f.write(json.dumps(item) + '\\n')\n",
    "\n",
    "    with open(output_valid, 'w') as f:\n",
    "        for item in valid_data:\n",
    "            f.write(json.dumps(item) + '\\n')\n",
    "\n",
    "    with open(output_test, 'w') as f:\n",
    "        for item in test_data:\n",
    "            f.write(json.dumps(item) + '\\n')\n",
    "\n",
    "# Example usage\n",
    "split_jsonl_file('finetuning_data_new.jsonl', 'train.jsonl', 'valid.jsonl', 'test.jsonl')"
   ]
  },
  {
   "cell_type": "code",
   "execution_count": null,
   "metadata": {},
   "outputs": [],
   "source": []
  }
 ],
 "metadata": {
  "kernelspec": {
   "display_name": ".venv",
   "language": "python",
   "name": "python3"
  },
  "language_info": {
   "codemirror_mode": {
    "name": "ipython",
    "version": 3
   },
   "file_extension": ".py",
   "mimetype": "text/x-python",
   "name": "python",
   "nbconvert_exporter": "python",
   "pygments_lexer": "ipython3",
   "version": "3.11.8"
  }
 },
 "nbformat": 4,
 "nbformat_minor": 2
}
