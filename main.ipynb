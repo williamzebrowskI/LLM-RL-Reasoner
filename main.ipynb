{
 "cells": [
  {
   "cell_type": "code",
   "execution_count": 1,
   "metadata": {},
   "outputs": [
    {
     "name": "stderr",
     "output_type": "stream",
     "text": [
      "/Users/williamzebrowski/LLM-RL-Reasoner/.venv/lib/python3.11/site-packages/tqdm/auto.py:21: TqdmWarning: IProgress not found. Please update jupyter and ipywidgets. See https://ipywidgets.readthedocs.io/en/stable/user_install.html\n",
      "  from .autonotebook import tqdm as notebook_tqdm\n"
     ]
    }
   ],
   "source": [
    "import re\n",
    "import ollama\n",
    "from src.data_loading import load_data\n",
    "from src.parsing import parse_options\n",
    "from src.rationale_generation import generate_rationale_and_answer\n",
    "from src.utils import is_rationale_correct\n",
    "from src.rationalization import rationalize\n",
    "from src.prompt_generation import create_prompt_examples, create_prompt_set, clean_options, get_correct_answer_text"
   ]
  },
  {
   "cell_type": "code",
   "execution_count": 699,
   "metadata": {},
   "outputs": [],
   "source": [
    "NUM_PROMPT_EXAMPLES = 5 # number of prompt examples\n",
    "NUM_EXAMPLES_TO_PROCESS = 10 # number of examples to process"
   ]
  },
  {
   "cell_type": "markdown",
   "metadata": {},
   "source": [
    "### Load Dataset"
   ]
  },
  {
   "cell_type": "code",
   "execution_count": 700,
   "metadata": {},
   "outputs": [
    {
     "name": "stdout",
     "output_type": "stream",
     "text": [
      "Dataset({\n",
      "    features: ['question', 'options', 'rationale', 'correct'],\n",
      "    num_rows: 10\n",
      "})\n"
     ]
    }
   ],
   "source": [
    "ds_train = load_data()\n",
    "\n",
    "# Step 1: Select the desired range from ds_train\n",
    "dataset_D = ds_train.select(range(NUM_PROMPT_EXAMPLES, len(ds_train)))\n",
    "\n",
    "# Step 2: Shuffle the selected dataset\n",
    "dataset_D_shuffled = dataset_D.shuffle()  # Use any seed you prefer\n",
    "\n",
    "# Step 3: Select a subset of examples to process\n",
    "dataset_D_subset = dataset_D_shuffled.select(range(NUM_EXAMPLES_TO_PROCESS))\n",
    "\n",
    "print(dataset_D_subset)"
   ]
  },
  {
   "cell_type": "markdown",
   "metadata": {},
   "source": [
    "### Create prompt examples"
   ]
  },
  {
   "cell_type": "code",
   "execution_count": 701,
   "metadata": {},
   "outputs": [
    {
     "data": {
      "text/plain": [
       "[{'question': \"Two friends plan to walk along a 43-km trail, starting at opposite ends of the trail at the same time. If Friend P's rate is 15% faster than Friend Q's, how many kilometers will Friend P have walked when they pass each other?\",\n",
       "  'rationale': 'If Q complete x kilometers, then P completes 1.15x kilometers.\\nx + 1.15x = 43\\n2.15x=43\\nx = 43/2.15 = 20\\nThen P will have have walked 1.15*20=23 km.\\nThe answer is E.',\n",
       "  'answer': 'E'},\n",
       " {'question': 'In the coordinate plane, points (x, 1) and (5, y) are on line k. If line k passes through the origin and has slope 1/5, then what are the values of x and y respectively?',\n",
       "  'rationale': 'Line k passes through the origin and has slope 1/5 means that its equation is y=1/5*x.\\nThus: (x, 1)=(5, 1) and (5, y) = (5,1) -->x=5 and y=1\\nAnswer: C',\n",
       "  'answer': 'C'},\n",
       " {'question': 'For all numbers p and q, the operation @ is defined by p@q = p^2 - pq. If xy ≠ 0, then which of the following can be equal to zero?\\nI. x@y\\nII. (xy)@y\\nIII. x@(x + y)',\n",
       "  'rationale': 'p@q = p^2 - pq=p(p-q).... so p@q will be zero if p=q or p=0.. but a cannot be equal to 0.. as per Q, x and y can take any int value except 0...\\nnow lets look at the choices..\\nwhen x=y, it will be 0... so ok...\\nwhen we put xy=y, it is possible when x=1 and y any integer... so ok again\\nwhen we put x=x+y.... only possibility when y=0 and it is given x and y cannot be 0....so not possible\\nonly l and ll possible ans B....',\n",
       "  'answer': 'B'},\n",
       " {'question': 'Carl is facing very difficult financial times and can only pay the interest on a $10,000 loan he has taken. The bank charges him a quarterly compound rate of 4%. What is the approximate interest he pays annually?',\n",
       "  'rationale': 'Usually, you are given the annual rate of interest and it is mentioned that it is annual rate.\\nThe bank charges him a quarterly compounded ANNUAL rate of 16%.\\nHere you find per quarter rate as (16/4)% = 4%\\nI have actually never seen a question with quarter rate given but since this question did not mentionannual rate of interestand since the options did not make sense with 4% annual rate of interest, it is apparent that the intent was a 4% quarterly rate. So the bank charges 4% every quarter and compounds it in the next quarter. Had it been a simple quarterly rate, we would have just found 4 * 4% of 10,000 = $1600 as our answer.\\nBut since, the interest is compounded, it will be a bit more than $1600. Option (A) looks correct.',\n",
       "  'answer': 'A'},\n",
       " {'question': 'The speed at which a man can row a boat in still water is 25 kmph. If he rows downstream, where the speed of current is 11 kmph, what time will he take to cover 80 metres?',\n",
       "  'rationale': 'Speed of the boat downstream = 25 +11\\n= 36 kmph\\n= 36 * 5/18 = 10 m/s\\nHence time taken to cover 80 m = 80/10\\n= 8 seconds.\\nAnswer:E',\n",
       "  'answer': 'E'}]"
      ]
     },
     "execution_count": 701,
     "metadata": {},
     "output_type": "execute_result"
    }
   ],
   "source": [
    "prompt_examples = create_prompt_examples(ds_train, NUM_PROMPT_EXAMPLES)\n",
    "\n",
    "prompt_examples"
   ]
  },
  {
   "cell_type": "markdown",
   "metadata": {},
   "source": [
    "### Create Prompt Sets"
   ]
  },
  {
   "cell_type": "code",
   "execution_count": 702,
   "metadata": {},
   "outputs": [
    {
     "name": "stdout",
     "output_type": "stream",
     "text": [
      "Question: Two friends plan to walk along a 43-km trail, starting at opposite ends of the trail at the same time. If Friend P's rate is 15% faster than Friend Q's, how many kilometers will Friend P have walked when they pass each other?\n",
      "Answer Explanation: If Q complete x kilometers, then P completes 1.15x kilometers.\\nx + 1.15x = 43\\n2.15x=43\\nx = 43/2.15 = 20\\nThen P will have have walked 1.15*20=23 km.\\nThe answer is E.\n",
      "Answer: 23\n",
      "###\n",
      "Question: In the coordinate plane, points (x, 1) and (5, y) are on line k. If line k passes through the origin and has slope 1/5, then what are the values of x and y respectively?\n",
      "Answer Explanation: Line k passes through the origin and has slope 1/5 means that its equation is y=1/5*x.\\nThus: (x, 1)=(5, 1) and (5, y) = (5,1) -->x=5 and y=1\\nAnswer: C\n",
      "Answer: 5 and 1\n",
      "###\n",
      "Question: For all numbers p and q, the operation @ is defined by p@q = p^2 - pq. If xy ≠ 0, then which of the following can be equal to zero?\n",
      "I. x@y\n",
      "II. (xy)@y\n",
      "III. x@(x + y)\n",
      "Answer Explanation: p@q = p^2 - pq=p(p-q).... so p@q will be zero if p=q or p=0.. but a cannot be equal to 0.. as per Q, x and y can take any int value except 0...\\nnow lets look at the choices..\\nwhen x=y, it will be 0... so ok...\\nwhen we put xy=y, it is possible when x=1 and y any integer... so ok again\\nwhen we put x=x+y.... only possibility when y=0 and it is given x and y cannot be 0....so not possible\\nonly l and ll possible ans B....\n",
      "Answer: I and II\n",
      "###\n",
      "Question: Carl is facing very difficult financial times and can only pay the interest on a $10,000 loan he has taken. The bank charges him a quarterly compound rate of 4%. What is the approximate interest he pays annually?\n",
      "Answer Explanation: Usually, you are given the annual rate of interest and it is mentioned that it is annual rate.\\nThe bank charges him a quarterly compounded ANNUAL rate of 16%.\\nHere you find per quarter rate as (16/4)% = 4%\\nI have actually never seen a question with quarter rate given but since this question did not mentionannual rate of interestand since the options did not make sense with 4% annual rate of interest, it is apparent that the intent was a 4% quarterly rate. So the bank charges 4% every quarter and compounds it in the next quarter. Had it been a simple quarterly rate, we would have just found 4 * 4% of 10,000 = $1600 as our answer.\\nBut since, the interest is compounded, it will be a bit more than $1600. Option (A) looks correct.\n",
      "Answer: $1600\n",
      "###\n",
      "Question: The speed at which a man can row a boat in still water is 25 kmph. If he rows downstream, where the speed of current is 11 kmph, what time will he take to cover 80 metres?\n",
      "Answer Explanation: Speed of the boat downstream = 25 +11\\n= 36 kmph\\n= 36 * 5/18 = 10 m/s\\nHence time taken to cover 80 m = 80/10\\n= 8 seconds.\\nAnswer:E\n",
      "Answer: 8 seconds\n",
      "###\n",
      "\n"
     ]
    }
   ],
   "source": [
    "prompt_set = create_prompt_set(ds_train, NUM_PROMPT_EXAMPLES)\n",
    "print(prompt_set)"
   ]
  },
  {
   "cell_type": "markdown",
   "metadata": {},
   "source": [
    "### Initialize lists to hold correct and incorrect pairs"
   ]
  },
  {
   "cell_type": "code",
   "execution_count": 703,
   "metadata": {},
   "outputs": [],
   "source": [
    "correct_pairs = []\n",
    "incorrect_pairs = []\n",
    "unanswered_paris = []"
   ]
  },
  {
   "cell_type": "markdown",
   "metadata": {},
   "source": [
    "### Iterate over each example in the subset"
   ]
  },
  {
   "cell_type": "code",
   "execution_count": 704,
   "metadata": {},
   "outputs": [],
   "source": [
    "def extract_answer_text(rationale):\n",
    "    \"\"\"\n",
    "    Extracts the answer text from the rationale using regex.\n",
    "    \n",
    "    Args:\n",
    "        rationale (str): Generated rationale string.\n",
    "    \n",
    "    Returns:\n",
    "        str or None: Extracted answer text if found, else None.\n",
    "    \"\"\"\n",
    "    # Attempt to extract the answer text after 'Answer:'\n",
    "    match = re.search(r'Answer:\\s*(.+)', rationale, re.IGNORECASE)\n",
    "    if match:\n",
    "        return match.group(1)\n",
    "    return None"
   ]
  },
  {
   "cell_type": "code",
   "execution_count": 705,
   "metadata": {},
   "outputs": [
    {
     "name": "stdout",
     "output_type": "stream",
     "text": [
      "correct_answer_text: 15\n",
      "clean options: ['A) 12', 'B) 15', 'C) 18', 'D) 21', 'E) 24']\n",
      "extracted answer: 15\n",
      "correct\n",
      "Correct: {'question': 'The length of a rectangular plot is thrice its width. If the area of the rectangular plot is 675 sq meters, then what is the width (in meters) of the rectangular plot?', 'rationale': \"Let's solve this problem step by step.\\n\\nStep 1: Let the width of the rectangular plot be x meters.\\n\\nStep 2: Since the length of the rectangular plot is thrice its width, the length can be represented as 3x meters.\\n\\nStep 3: The area of a rectangle is given by the product of its length and width. So, we can write the equation for the area as:\\nArea = Length × Width\\n= 3x × x\\n= 3x^2\\n\\nStep 4: We are told that the area of the rectangular plot is 675 sq meters. Therefore, we can set up the equation:\\n3x^2 = 675\\n\\nStep 5: To solve for x, we need to isolate it in the equation. Let's start by dividing both sides of the equation by 3:\\nx^2 = 225\\n\\nStep 6: Next, let's take the square root of both sides of the equation:\\nx = √225\\n= 15\\n\\nSo, the width of the rectangular plot is 15 meters.\\n\\nAnswer: 15\", 'answer': '15'}\n",
      "Processed 1 questions.\n",
      "\n",
      "correct_answer_text: 144\n",
      "clean options: ['A) 144', 'B) 255', 'C) 148', 'D) 265', 'E) 320']\n",
      "extracted answer: 144\n",
      "correct\n",
      "Correct: {'question': 'A farming field can be ploughed by 6 tractors in 4 days. When 6 tractors work together, each of them ploughs 120 hectares a day. If two of the tractors were moved to another field, then the remaining 4 tractors could plough the same field in 5 days. How many hectares a day would one tractor plough then?', 'rationale': \"To solve this problem, we need to break it down into smaller steps.\\n\\nStep 1: Calculate the total area that can be ploughed by all 6 tractors in 4 days.\\n\\nLet's denote the area as A. We know that 6 tractors can plough the entire field in 4 days. So, the work done by all 6 tractors together is equal to the area of the field (A).\\n\\nStep 2: Calculate the total work done by all 6 tractors in one day.\\n\\nWe are given that each of the 6 tractors ploughs 120 hectares a day when working together. So, the combined daily rate of all 6 tractors is:\\n\\n6 tractors x 120 hectares/day = 720 hectares/day\\n\\nStep 3: Calculate the total area (A) that can be ploughed by all 6 tractors in 4 days.\\n\\nSince all 6 tractors work together for 4 days, we multiply their combined daily rate by the number of days:\\n\\n720 hectares/day x 4 days = 2880 hectares\\n\\nSo, A = 2880 hectares (this is the total area that can be ploughed by all 6 tractors in 4 days).\\n\\nStep 4: Calculate the work done by the remaining 4 tractors.\\n\\nWhen two tractors were moved to another field, the remaining 4 tractors could plough the same field in 5 days. This means they completed the same amount of work (A) in fewer days:\\n\\nWork done by 4 tractors = A / 5\\n= 2880 hectares / 5\\n= 576 hectares/day\\n\\nStep 5: Calculate the individual daily rate of one tractor.\\n\\nSince there are 4 tractors working together, their combined daily rate is divided among them. So, we divide the work done by 4 tractors by the number of tractors (4):\\n\\nWork done by 1 tractor = Work done by 4 tractors / Number of tractors\\n= 576 hectares/day ÷ 4\\n= 144 hectares/day\\n\\nTherefore, one tractor would plough 144 hectares a day.\\n\\nAnswer: 144\", 'answer': '144'}\n",
      "Processed 2 questions.\n",
      "\n",
      "correct_answer_text: 100\n",
      "clean options: ['A) 100', 'B) 110', 'C) 151', 'D) 120', 'E) 140']\n",
      "extracted answer: None\n",
      "correct\n",
      "Correct: {'question': 'Find the product of the localvalue and absolutevalue of 1 in 20168?', 'rationale': 'To find the product of the local value and absolute value of 1 in 20168, let\\'s first break down the number into its place values.\\n\\nThe number can be written as:\\n\\n2 × 10^4\\n0 × 10^3\\n5 × 10^2\\n8 × 10^1\\n9 × 10^0\\n\\nNow, we need to find the local value and absolute value of 1 in this number. \\n\\nLocal value is the value of a digit at its place. In this case, there\\'s no digit \"1\" at any place, but since we are looking for the digit \"1\", let\\'s consider it as 1 in 20168 (which actually means 10^5 * 2 + 0*10^3 + 5*10^2 + 8*10^1 + 9*10^0)\\n\\nLocal value of digit \"1\" = 0\\n\\nAbsolute value of a number is its value without considering the sign. In this case, it\\'s not applicable because there\\'s no negative sign.\\n\\nHowever, since there\\'s only one digit \"1\", let\\'s take that one and see what happens if we put the local value as 10. Now the local place for 8 would be multiplied by 10. The new number after considering the place of 8 will become:\\n\\n2 × 10^4 = 20000\\n0 × 10^3 = 0\\n5 × 10^2 = 500\\n8 × 10^1 = 80 * 10 = 800\\n9 × 10^0 = 9\\n\\nThe sum of all place values is: 20000 + 0 + 500 + 800 + 9 = 20309.\\n\\nSo, now if we remove the extra value (the factor of 10 we added) from local value and absolute value of digit \"1\", it would be:\\n\\nLocal Value of digit \"1\" in 20168 = -1 \\n\\nAbsolute Value of digit \"1\" in 20168 = | -1| = 1\\n\\nThe product of local value and absolute value is -1 * 1 = -1.\\n\\nHowever, since the problem asks for both LocalValue and AbsoluteValue in question so the correct answer should be the multiplication of two values. \\n\\nBut still we should take care that there\\'s no digit \"1\" at all. As it would be incorrect to consider a number with the factor of 10 for an existing digit. So, here is what I am going to do:\\n\\nThe product of local value and absolute value of 1 in 20168 = -1 × 1 = -1.\\n\\nBut as this is not correct because there\\'s actually no \"1\" at all, let me change it a bit.\\n\\nProduct of Local Value (0) and Absolute Value (1) in the question should be 0.', 'answer': None}\n",
      "Processed 3 questions.\n",
      "\n",
      "correct_answer_text: 900,000\n",
      "clean options: ['A) 450', 'B) 900', 'C) 90,000', 'D) 450,000', 'E) 900,000']\n",
      "extracted answer: 9,000,000\n",
      "incorrect\n",
      "Incorrect: {'question': 'One out of every 2000 computer chips is defective. If 2 out of every 30 defective chips have defective processors and there are 30 defective processors in the first batch, how many computer chips are there in the first batch?', 'rationale': \"To solve this problem, we need to break it down into smaller steps.\\n\\nStep 1: First, let's calculate the number of defective chips that contain a defective processor. We know that 2 out of every 30 defective chips have defective processors. So, if there are x number of defective chips in total, then the number of defective chips with defective processors is (2/30)x.\\n\\nStep 2: Next, we're told that there are 30 defective processors in the first batch. This means that the number of defective chips with defective processors is equal to 30.\\n\\nStep 3: Now, let's equate the two expressions we got from step 1 and step 2. We have (2/30)x = 30. We can solve for x by multiplying both sides of the equation by 30, which gives us x = 4500.\\n\\nStep 4: Finally, since one out of every 2000 computer chips is defective, we can calculate the total number of computer chips in the first batch by multiplying the number of defective chips (x) by 2000. So, the total number of computer chips is 4500 * 2000 = 9,000,000.\\n\\nAnswer: 9,000,000\", 'answer': '9,000,000'}\n",
      "Processed 4 questions.\n",
      "\n",
      "correct_answer_text: 3\n",
      "clean options: ['A) 2', 'B) 3', 'C) 4', 'D) 5', 'E) 6']\n",
      "extracted answer: 3\n",
      "correct\n",
      "Correct: {'question': \"You collect coins. Suppose you start out with 11. Since you're nice, you give Sharon 3 coins. Since you're nice, you give Steven 5 coins. How many coins do you have at the end?\", 'rationale': 'To find the final number of coins, we need to subtract the coins given away from the initial amount.\\n\\nStep 1: Calculate the total number of coins given away.\\nYou gave Sharon 3 coins and Steven 5 coins, for a total of 3 + 5 = 8 coins given away.\\n\\nStep 2: Subtract the coins given away from the initial amount to find the final number of coins.\\nInitial amount = 11\\nCoins given away = 8\\nFinal amount = Initial amount - Coins given away\\n= 11 - 8\\n= 3\\n\\nTherefore, you have 3 coins at the end.\\n\\nAnswer: 3', 'answer': '3'}\n",
      "Processed 5 questions.\n",
      "\n",
      "correct_answer_text: 2075\n",
      "clean options: ['A) 300', 'B) 2075', 'C) 800', 'D) 1000', 'E) 3900']\n",
      "extracted answer: 488\n",
      "incorrect\n",
      "Incorrect: {'question': 'Pradeep has to obtain 20% of the total marks to pass. He got 390 marks and failed by 25 marks. The maximum marks are', 'rationale': 'To solve this problem, let\\'s follow a step-by-step process:\\n\\nStep 1: Let\\'s assume that the maximum marks for the examination is \"x\".\\n\\nStep 2: Since Pradeep has to obtain 20% of the total marks to pass and he got 390 marks but failed by 25 marks, it means that he needed 20% of x - 25 marks.\\n\\nStep 3: This also means that his actual marks, which is 390, should be equal to 80% of the maximum marks \"x\", because failing by 25 marks indicates that Pradeep got 75% (100% - 25%) of the total marks he needed to pass.\\n\\n\\nNow, we can set up an equation to solve for x.\\n\\nStep 4: The equation is:\\n390 = 0.8 * x\\n\\n\\nTo find x, we need to divide both sides by 0.8:\\n\\n\\nStep 5: Dividing both sides by 0.8 gives us:\\nx = 390 / 0.8\\nx = 487.5\\n\\n\\nSince the maximum marks cannot be a fraction, we can round up to the nearest whole number.\\n\\n\\nStep 6: Rounding up 487.5 gives us:\\n\\n\\nAnswer: 488', 'answer': '488'}\n",
      "Processed 6 questions.\n",
      "\n",
      "correct_answer_text: 14 years\n",
      "clean options: ['A) 21 years', 'B) 14 years', 'C) 16 years', 'D) 18 years', 'E) 26 years']\n",
      "extracted answer: 14\n",
      "correct\n",
      "Correct: {'question': 'A man is 16 years older than his son. In two years, his age will be twice the age of his son. The present age of this son is', 'rationale': \"To solve this problem, we can follow a step-by-step process.\\n\\nStep 1: Let's assume the son's current age as 'x'. Since the man is 16 years older than his son, the man's current age will be (x + 16).\\n\\nStep 2: In two years, the son's age will be x + 2 and the man's age will be (x + 16) + 2 = x + 18.\\n\\nStep 3: According to the problem statement, in two years, the man's age will be twice the age of his son. So, we can set up an equation as follows:\\n\\n(x + 18) = 2(x + 2)\\n\\nSimplifying this equation, we get:\\n\\nx + 18 = 2x + 4\\n\\nStep 4: To find the value of 'x', we'll isolate it on one side of the equation. Let's subtract 'x' from both sides and simplify further:\\n\\n18 = x + 4\\n\\nSubtracting 4 from both sides, we get:\\n\\n14 = x\\n\\nTherefore, the son's current age is 14 years.\\n\\nAnswer: 14\", 'answer': '14'}\n",
      "Processed 7 questions.\n",
      "\n",
      "correct_answer_text: a 4^8\n",
      "clean options: ['A) a 4^8', 'B) b 400', 'C) c 5^8', 'D) d 8^5', 'E) e 40^40']\n",
      "extracted answer: 65536\n",
      "correct\n",
      "Correct: {'question': 'Kim is taking a math class, and the teacher gives a multiple choice test consisting of 8 questions. If each question has 4 answer choices, and Kim answers every question, in how many different ways can she complete the test?', 'rationale': 'To determine the number of ways Kim can complete the test, we need to consider that for each of the 8 questions, she has 4 possible answer choices. Since she is answering every question, and there are no restrictions on her answers (i.e., she can choose any answer choice for each question), we can use the concept of permutations with repetition.\\n\\nFor each question, Kim has 4 possible choices, and since the same set of questions is repeated 8 times (once for each question), we can simply raise the number of choices to the power of the total number of questions. This is because each choice is independent of the others.\\n\\nSo, the calculation would be: 4^8 = 65,536\\n\\nThis means that Kim can complete the test in 65,536 different ways.\\n\\nAnswer: 65536', 'answer': '65536'}\n",
      "Processed 8 questions.\n",
      "\n",
      "correct_answer_text: AGNTIWI\n",
      "clean options: ['A) AIWTNG', 'B) AGNTWI', 'C) AIGNWT', 'D) AGNTIWI', 'E) None of these']\n",
      "extracted answer: The 32nd word\n",
      "incorrect\n",
      "Incorrect: {'question': 'What is the 32nd word of \"WAITING\" in a dictionary?', 'rationale': 'To find the 32nd word of \"WAITING\" in a dictionary, we need to understand how words are organized in a dictionary.\\n\\nFirst, we note that the first letter of each word in a dictionary is arranged alphabetically. So, the list would start with words beginning with \"A\", followed by those starting with \"B\", and so on.\\n\\nThe word \"WAITING\" starts with the letter \"W\". To find out which word comes first among all words starting with \"W\", we can count the number of words in the dictionary that come before it. However, since dictionaries are typically massive collections of words, this approach is impractical for a simple problem like this.\\n\\nA better way to solve this problem involves understanding how dictionaries are organized and then using that knowledge to estimate which word comes 32nd among all those starting with \"W\".\\n\\nThe first few words in a dictionary might be: Aardvark, Abalone, Abandon, Abased, etc. As we move down the alphabet, each letter\\'s section gets progressively longer because there are more words that start with each subsequent letter.\\n\\nSince dictionaries contain millions of words, and most letters have thousands of associated words, we can safely assume that \"W\" will be a substantial section in any dictionary. Therefore, it is reasonable to expect that hundreds or even thousands of words begin with the letter \"W\".\\n\\nTo find the 32nd word starting with \"W\", we need to keep in mind that the actual number of words might vary significantly depending on the size and structure of the dictionary.\\n\\nHowever, for the purpose of this problem, let\\'s assume a simplified model where each section (letter) has a similar number of entries. In such a scenario, we could use an average length per letter to estimate where \"WAITING\" would be in terms of alphabetical order among all words starting with \"W\".\\n\\nSince dictionaries are organized alphabetically within each letter group, we can think about the position of \"WAITING\" relative to other \"W\" words. Given that there are 26 letters in the English alphabet, and assuming an equal number of entries for each letter (which is highly unlikely but serves our purpose here), each letter section would have around 13,000 - 15,000 words in a standard dictionary with millions of entries.\\n\\nThis gives us a rough estimate of where \"WAITING\" might be among all words starting with the letter \"W\". However, since we\\'re looking for its position within that group specifically and not across the entire dictionary, this method can help guide our thinking but isn\\'t precise without knowing more about the size or organization of the specific dictionary in question.\\n\\nGiven these considerations, let\\'s proceed under the assumption that dictionaries are large enough to make each letter section have a substantial number of entries. Knowing where \"WAITING\" falls alphabetically among other words starting with \"W\" requires actual access to a dictionary or understanding its structure better than we\\'re allowed here. \\n\\nSince this explanation doesn\\'t directly compute an exact position but rather guides the thought process, and given the constraints of the format for answering:\\n\\nAnswer: The 32nd word', 'answer': 'The 32nd word'}\n",
      "Processed 9 questions.\n",
      "\n",
      "correct_answer_text: 27 days\n",
      "clean options: ['A) 10 days', 'B) 15 days', 'C) 27 days', 'D) 28 days', 'E) 29 days']\n",
      "extracted answer: 3\n",
      "incorrect\n",
      "Incorrect: {'question': 'It takes 30 days to fill a laboratory dish with bacteria. If the size of the bacteria doubles each day, how long did it take for the bacteria to fill one eighth of the dish?', 'rationale': \"To solve this problem, we need to understand that the size of the bacteria doubles every day.\\n\\nLet's start by analyzing the situation on the last day when the dish is filled. On this day, the size of the bacteria must be such that it fills the entire dish.\\n\\nSince the size of the bacteria doubles each day, one day before (Day 29), the size of the bacteria was half the size required to fill the dish.\\n\\nSimilarly, two days before (Day 28), the size of the bacteria was one-quarter of the size required to fill the dish.\\n\\nContinuing this pattern, three days before (Day 27), the size of the bacteria was one-eighth of the size required to fill the dish.\\n\\nTherefore, on Day 27, the bacteria filled one eighth of the dish.\\n\\nTo find out how long it took for the bacteria to reach this point, we simply subtract the number of days from the current day (Day 30). So, it took 3 days for the bacteria to fill one eighth of the dish.\\n\\nAnswer: 3\", 'answer': '3'}\n",
      "Processed 10 questions.\n",
      "\n"
     ]
    }
   ],
   "source": [
    "for idx, example in enumerate(dataset_D_subset):\n",
    "    question = example['question']\n",
    "    # Map 'correct' label to answer text\n",
    "    raw_options = example['options']\n",
    "    cleaned_options = clean_options(raw_options)\n",
    "    correct_label = example['correct'].strip().upper()\n",
    "    correct_answer_text = get_correct_answer_text(cleaned_options, correct_label)\n",
    "\n",
    "    print(f\"correct_answer_text: {correct_answer_text}\")\n",
    "    print(f\"clean options: {cleaned_options}\")\n",
    "    \n",
    "    if correct_answer_text is None:\n",
    "        print(f\"Skipping example {idx} due to missing correct answer.\")\n",
    "        continue  # Skip this example\n",
    "    \n",
    "    # Generate rationale and answer\n",
    "    generated_rationale = generate_rationale_and_answer(question, prompt_set)\n",
    "    \n",
    "    # Extract the answer text from the rationale\n",
    "    extracted_answer = extract_answer_text(generated_rationale)\n",
    "    print(f\"extracted answer: {extracted_answer}\")\n",
    "\n",
    "    response = ollama.chat(model=\"llama3.1:8b\", messages=[\n",
    "            {\n",
    "                'role': 'user',\n",
    "                'content':\n",
    "                f\"\"\"\n",
    "                    Your task is to compare two numerical answers and determine if they are the same answer, ignoring differences in units or formatting.\\n\\n\n",
    "                    Comparison Rules:\\n\\n\n",
    "                    - If the answers are the same, for example, First Answer: '90' and Second Answer: '90 miles' or ( km, %, sec, ml, etc) this is a match and return 'correct' in your response.\\n\n",
    "                    - If the answers are different, consider them NOT a match and return 'incorrect' in your response.\\n\\n\n",
    "                    Ignore differences in formatting, such as trailing zeros.\\n\\n\n",
    "\n",
    "                    Compare the Following Answers:\\n\n",
    "                    First answer: {extracted_answer}\\n\n",
    "                    Second answer: {correct_answer_text}\\n\\n\n",
    "                    Respond with:\\n\n",
    "                    \"correct\" if the two answers are the same\\n\n",
    "                    \"incorrect\" if the two answers are not the same\\n\\n\n",
    "                    Please respond with only one of the above options, without any explanations.\n",
    "                \"\"\"\n",
    "            },\n",
    "     ])\n",
    "    \n",
    "    decision = response['message']['content'].strip()\n",
    "    print(decision)\n",
    "    \n",
    "    # Categorize based on extracted answer\n",
    "    if decision.lower() == \"correct\":\n",
    "        correct_pairs.append({\n",
    "            'question': question,\n",
    "            'rationale': generated_rationale,\n",
    "            'answer': extracted_answer\n",
    "        })\n",
    "        print('Correct:', {\n",
    "            'question': question,\n",
    "            'rationale': generated_rationale,\n",
    "            'answer': extracted_answer\n",
    "        })\n",
    "    elif decision.lower() == \"incorrect\":\n",
    "        incorrect_pairs.append({\n",
    "            'question': question,\n",
    "            'rationale': generated_rationale,\n",
    "            'answer': extracted_answer if extracted_answer else \"No Answer Extracted\"\n",
    "        })\n",
    "        print(\"Incorrect:\",  {\n",
    "            'question': question,\n",
    "            'rationale': generated_rationale,\n",
    "            'answer': extracted_answer if extracted_answer else \"No Answer Extracted\"\n",
    "        })\n",
    "    else:\n",
    "        unanswered_paris.append({\n",
    "            'question': question,\n",
    "            'rationale': generated_rationale,\n",
    "            'answer': extracted_answer if extracted_answer else \"No Answer Extracted\"\n",
    "        })\n",
    "        print(\"Unanswered:\",  {\n",
    "            'question': question,\n",
    "            'rationale': generated_rationale,\n",
    "            'answer': extracted_answer if extracted_answer else \"No Answer Extracted\"\n",
    "        })\n",
    "        \n",
    "\n",
    "    # Print progress every example\n",
    "    print(f\"Processed {idx + 1} questions.\\n\")"
   ]
  },
  {
   "cell_type": "code",
   "execution_count": 686,
   "metadata": {},
   "outputs": [
    {
     "data": {
      "text/plain": [
       "[{'question': 'How many times in a day, are the hands of a clock in straight line but opposite in direction?',\n",
       "  'rationale': 'To solve this problem, we need to consider when the hands of a clock are in a straight line but opposite in direction. This occurs when the minute hand is exactly opposite the hour hand.\\n\\nStep 1: Determine how many times the minute and hour hands can be in a straight line. The minute hand moves 360 degrees every hour, while the hour hand moves 30 degrees every hour.\\n\\nStep 2: Recognize that the minute and hour hands will only be opposite each other when they are at right angles to each other. This happens 11 times every 12 hours, as the minute hand passes the hour hand 11 times in a 12-hour period.\\n\\nStep 3: Understand that we need to find out how many of these occurrences happen within a single day (24 hours).\\n\\nStep 4: Since there are two sets of 12 hours within a day, and each set has 11 occurrences where the minute and hour hands are opposite each other, multiply 2 by 11.\\n\\nStep 5: Calculate the result of the multiplication. 2 * 11 = 22\\n\\nTherefore, the hands of a clock are in straight line but opposite in direction, 22 times within a day.\\n\\nAnswer: 22',\n",
       "  'answer': '22'},\n",
       " {'question': '0.99999 + 0.11111 = ?',\n",
       "  'rationale': \"To solve this problem, we will follow the order of operations and add the two decimal numbers together.\\n\\nStep 1: Add the whole part of both numbers\\n0 (from 0.99999) + 0 (from 0.11111) = 0\\n\\nStep 2: Add the tenths place of both numbers\\n9 (from 0.99999) + 1 (from 0.11111) = 10\\n\\nSince we can't have a decimal part in a single digit, we will convert it to a decimal\\n10/10 = 1\\n\\nStep 3: Add the hundredths place of both numbers\\n9 (from 0.99999) + 1 (from 0.11111) = 10\\n\\nAgain, since we can't have a decimal part in a single digit, we will convert it to a decimal\\n10/100 = 0.1\\n\\nStep 4: Add the thousandths place of both numbers\\n9 (from 0.99999) + 1 (from 0.11111) = 10\\n\\nAgain, since we can't have a decimal part in a single digit, we will convert it to a decimal\\n10/1000 = 0.01\\n\\nStep 5: Add the ten-thousandths place of both numbers\\n9 (from 0.99999) + 1 (from 0.11111) = 10\\n\\nAgain, since we can't have a decimal part in a single digit, we will convert it to a decimal\\n10/10000 = 0.001\\n\\nStep 6: Add the hundred-thousandths place of both numbers\\n9 (from 0.99999) + 1 (from 0.11111) = 10\\n\\nAgain, since we can't have a decimal part in a single digit, we will convert it to a decimal\\n10/100000 = 0.00001\\n\\nNow that we have the decimal parts from each place value, we will add them together.\\n\\n1 + 0.1 + 0.01 + 0.001 + 0.00001 = 1.11111\\n\\nTherefore, the sum of the two decimal numbers is 1.11111.\\n\\nAnswer: 1.11111\",\n",
       "  'answer': '1.11111'},\n",
       " {'question': 'If the number 241 * 523 is completely divisible by 9, then the smallest whole number in place of * will b',\n",
       "  'rationale': 'To solve this problem, we need to find the smallest whole number that can replace the asterisk (*) such that the product 241*523 is completely divisible by 9.\\n\\nStep 1: Understand the divisibility rule for 9\\nThe divisibility rule for 9 states that a number is divisible by 9 if the sum of its digits is also divisible by 9.\\n\\nStep 2: Apply the divisibility rule to the given product\\nWe need to find the smallest whole number that can replace the asterisk (*) such that the sum of the digits in the expression 241*523 (including the digit represented by *) is divisible by 9.\\n\\nStep 3: Calculate the sum of the known digits\\nThe sum of the digits in 241 and 523 is 2 + 4 + 1 + 5 + 2 + 3 = 17\\n\\nStep 4: Determine the required value to make the sum divisible by 9\\nSince 17 (the current sum) is not divisible by 9, we need to find a whole number that can be added to it such that the total becomes a multiple of 9. We know that the smallest multiple of 9 greater than 17 is 18.\\n\\nStep 5: Find the smallest whole number to replace the asterisk (*)\\nTo make the sum 17 + * equal to 18, the value of * must be 1 (since 18 - 17 = 1).\\n\\nTherefore, the smallest whole number in place of the asterisk (*) is 1.\\n\\nAnswer: 1',\n",
       "  'answer': '1'},\n",
       " {'question': '11 different biology books and 8 different chemistry books lie on a shelf. In how many ways can a student pick 2 books of each type?',\n",
       "  'rationale': \"To solve this problem, we need to find the number of ways a student can pick 2 biology books from 11 different biology books and 2 chemistry books from 8 different chemistry books.\\n\\nStep 1: First, let's consider the biology books. We want to choose 2 books out of 11. This is a combination problem, since the order in which we choose the books doesn't matter. The formula for combinations is C(n, k) = n! / (k!(n-k)!), where n is the total number of items and k is the number of items to be chosen.\\n\\nStep 2: Using this formula, we can calculate the number of ways to choose 2 biology books from 11. This will give us a value for C(11, 2).\\n\\nC(11, 2) = 11! / (2!(11-2)!) = 11! / (2!9!) = (11 * 10) / (2 * 1) = 55\\n\\nStep 3: Now, let's consider the chemistry books. We want to choose 2 books out of 8. Again, we use the combination formula.\\n\\nC(8, 2) = 8! / (2!(8-2)!) = 8! / (2!6!) = (8 * 7) / (2 * 1) = 28\\n\\nStep 4: The total number of ways to pick 2 biology books and 2 chemistry books is the product of the number of ways to choose each type separately.\\n\\nTotal number of ways = C(11, 2) * C(8, 2) = 55 * 28 = 1540\\n\\nTherefore, there are 1540 ways a student can pick 2 biology books and 2 chemistry books from the shelf.\\n\\nAnswer: 1540\",\n",
       "  'answer': '1540'},\n",
       " {'question': 'The mass of the sun is approximately 2 × 10^30 kg and the mass of the moon is approximately 4 × 10^12 kg. The mass of the sun is approximately how many times the mass of the moon?',\n",
       "  'rationale': \"To find out how many times the mass of the sun is compared to the mass of the moon, we need to divide the mass of the sun by the mass of the moon.\\n\\nMass of the sun = 2 × 10^30 kg\\nMass of the moon = 4 × 10^12 kg\\n\\nDivide the mass of the sun by the mass of the moon:\\n(2 × 10^30) / (4 × 10^12) = (2 / 4) × (10^30 / 10^12)\\n= 0.5 × 10^(30-12)\\n= 0.5 × 10^18\\n\\nSo, the mass of the sun is approximately 0.5 × 10^18 times the mass of the moon.\\n\\nHowever, we are looking for an approximate value in terms of powers of 10 that can be easily compared to each other. Let's simplify this expression further:\\n\\n0.5 × 10^18 = 5 × 10^17\\n\\nTherefore, the mass of the sun is approximately 5 × 10^17 times the mass of the moon.\\n\\nAnswer: 5 × 10^17\",\n",
       "  'answer': '5 × 10^17'},\n",
       " {'question': 'The edges of three metal cubes are 4 cm, 5 cm, and 6 cm respectively. A new cube is made by melting these three cubes together. What is the edge of the new cube (in centimeters)?',\n",
       "  'rationale': \"To find the edge length of the new cube formed by melting the three given metal cubes together, we need to calculate their total volume and then take the cube root of this total volume.\\n\\nThe formula for the volume of a cube is V = s^3, where s is the length of an edge. \\n\\nFirst, let's find the volumes of the individual cubes:\\n\\nCube with edge 4 cm: Volume = 4^3 = 64 cubic cm\\nCube with edge 5 cm: Volume = 5^3 = 125 cubic cm\\nCube with edge 6 cm: Volume = 6^3 = 216 cubic cm\\n\\nNow, we add up the volumes of these three cubes:\\n\\nTotal volume = 64 + 125 + 216 = 405 cubic cm\\n\\nThe new cube is formed by melting these three cubes together. The total volume of this new cube will be equal to the sum of their individual volumes, which we have calculated as 405 cubic cm.\\n\\nTo find the edge length (s) of this new cube, we take the cube root of its total volume:\\n\\nEdge length (s) = ∛405 ≈ 7.4 cm\\n\\nSo, the edge length of the new cube formed by melting these three metal cubes together is approximately 7.4 centimeters.\\n\\nAnswer:\",\n",
       "  'answer': None},\n",
       " {'question': 'What inequality represents the condition 1<x<8?',\n",
       "  'rationale': 'To solve this problem, we need to express the given condition as an inequality.\\n\\nThe condition is 1 < x < 8. This means that x must be greater than 1 and less than 8.\\n\\nSo, we can write this condition as:\\n\\nx > 1\\nand\\nx < 8\\n\\nIn mathematical notation, \"greater than\" is represented by a parenthesis and \"less than\" is also represented by a parenthesis but with an arrow pointing towards the other side. So, we can rewrite the above conditions as:\\n\\n(1, ∞)\\nand\\n(-∞, 8)\\n\\nHowever, since x cannot be equal to 1 or 8 (it has to be strictly greater and less than), we need to include the open intervals. Therefore, the correct inequality is:\\n\\n1 < x < 8\\n\\nThis can be written in interval notation as:\\n\\n(1, 8)\\n\\nSo, the inequality that represents this condition is indeed:\\n\\nAnswer: 1 < x < 8',\n",
       "  'answer': '1 < x < 8'},\n",
       " {'question': 'A three-character password consists of one letter of the alphabet and two different digits between 0 and 9, inclusive. The letter must appear as the second or third character of the password. How many different passwords are possible?',\n",
       "  'rationale': \"To find the total number of possible passwords, we need to consider the choices for each character position.\\n\\n1. The first character can be any one of the 26 letters of the alphabet.\\n2. For the second character, since it must be a letter and is the only non-digit character in the password, there are again 26 possibilities.\\n3. For the third character, we have two cases:\\n   - If the second character is a digit (there are 10 possibilities), then the third character can also be any of the 10 digits except for one that was already chosen for the second position. This leaves us with 9 possibilities.\\n   - However, if the second character is a letter, there are no restrictions on the third character, so it still has all 10 possible digit choices.\\n\\nLet's calculate the total number of passwords:\\n\\nCase 1: The password ends in a digit.\\n- For this case, we choose one letter out of 26 for the first position (26 possibilities), then choose any digit (10 possibilities) for the second character. We also have to multiply by the number of digits we can choose from for the third character, which is 9 when the second character is a digit.\\n   - Total passwords with a digit as the last character = 26 * 10 * 9\\n   - However, we need to remember that this case only accounts for half of all possible endings because it's specified that one of the digit choices will always be repeated in the password. So, for this case alone, the correct count is simply 26 * 10 * 9.\\n\\nCase 2: The password ends in a letter.\\n- For this scenario, we have the same number of possibilities as before since there are no restrictions on choosing letters or digits for each position; it just so happens that our first and second character don't matter what they're called because one must be digit. Thus:\\n   - Total passwords with a letter last = 26 * 10 * 9.\\n\\nTotal possible passwords = Sum of both cases\\n= (Sum of the total number of passwords in each case)\\n= (26 * 10 * 9) + (26 * 10 * 9)\\n\\nSimplifying this expression:\\n\\nTotal possible passwords = 2 * (26 * 10 * 9)\\n= 2 * 2340\\n\\nAnswer:\",\n",
       "  'answer': None},\n",
       " {'question': 'The sum of the two numbers is 12 and their product is 35. What is the sum of the reciprocals of these numbers ?',\n",
       "  'rationale': \"To find the sum of the reciprocals of the two numbers, we first need to identify the two numbers.\\n\\nLet's call the two numbers x and y. We know that:\\n\\n1) The sum of the two numbers is 12:\\nx + y = 12\\n\\n2) The product of the two numbers is 35:\\nxy = 35\\n\\nFrom equation (1), we can express x as:\\nx = 12 - y\\n\\nSubstituting this expression for x into equation (2), we get:\\n(12 - y)y = 35\\n\\nExpanding and simplifying, we have:\\n12y - y^2 = 35\\n\\nRearranging the terms gives us a quadratic equation in standard form:\\ny^2 - 12y + 35 = 0\\n\\nWe can solve this quadratic equation for y by factoring or using the quadratic formula. Factoring gives us:\\n(y - 5)(y - 7) = 0\\n\\nThis tells us that either (y - 5) = 0 or (y - 7) = 0, which means that y is either 5 or 7.\\n\\nSubstituting these values of y back into the equation x + y = 12 allows us to find the corresponding values of x. If y = 5, then x = 7; and if y = 7, then x = 5.\\n\\nSo, we have two sets of numbers: (x, y) = (7, 5) or (x, y) = (5, 7).\\n\\nThe question asks for the sum of the reciprocals of these numbers. In both cases, the reciprocal of one number is the same as the reciprocal of the other. This is because 1/7 = 1/5 and 1/5 = 1/7.\\n\\nTherefore, the sum of the reciprocals of these numbers is:\\n(1/x) + (1/y) = 1/7 + 1/5\\n\\nTo add these fractions together, we need to find a common denominator. The least common multiple of 7 and 5 is 35, so the common denominator is 35.\\n\\nRewriting each fraction with the common denominator gives us:\\n(1/x) + (1/y) = (5/35) + (7/35)\\n\\nNow we can add these fractions together:\\n(1/x) + (1/y) = (12/35)\\n\\nTherefore, the sum of the reciprocals of the two numbers is 12/35.\\n\\nAnswer: $\\\\boxed{\\\\frac{12}{35}}$\",\n",
       "  'answer': '$\\\\boxed{\\\\frac{12}{35}}$'}]"
      ]
     },
     "execution_count": 686,
     "metadata": {},
     "output_type": "execute_result"
    }
   ],
   "source": [
    "correct_pairs"
   ]
  },
  {
   "cell_type": "code",
   "execution_count": 687,
   "metadata": {},
   "outputs": [
    {
     "data": {
      "text/plain": [
       "[{'question': \"If 'x' is a positive integer exactly divisible by 6 or 15 but not divisible by 12.What could possibly be the value of 'x' ?\",\n",
       "  'rationale': \"To solve this problem, let's analyze the conditions given:\\n\\n1. x is a positive integer.\\n2. x is exactly divisible by 6 or 15.\\n3. x is not divisible by 12.\\n\\nFirst, we need to find the Least Common Multiple (LCM) of 6 and 15 since x must be divisible by either one of them. The LCM of 6 and 15 is 30.\\n\\nNow, let's consider possible values for x that satisfy conditions 2 and 3:\\n\\n- Any multiple of 6 less than 60: 6, 12, 18, 24, 30, 36, 42, 48, 54. (Note that we exclude multiples of 12 as per condition 3)\\n- Any multiple of 15 less than 60: 15, 30, 45\\n\\nThe first number that appears in both lists and is exactly divisible by neither 6 nor 15 but also not by 12 would be a candidate for x. In this case, it's 30.\\n\\nConsidering the multiples of 30:\\n- A multiple of 30 that is also a multiple of 6: 30\\n- A multiple of 30 that is also a multiple of 15: 30\\n\\nSo, x could be 30, which satisfies all conditions (divisible by both 6 and 15 but not divisible by 12).\\n\\nAnswer: 30\",\n",
       "  'answer': '30'},\n",
       " {'question': 'If a certain number of people can dig earth 100m deep, 25m long, and 30m broad in 12 days, then find the number of days the same number of people will require to dig earth 75m deep, 20m long and 50m broad.',\n",
       "  'rationale': \"To solve this problem, we need to first determine the total amount of work done by the people in digging the initial hole. Let's calculate the volume of the earth dug out in the first scenario:\\n\\nVolume = length × width × depth\\n= 25m × 30m × 100m\\n= 75,000 cubic meters\\n\\nNow, let's consider the second scenario where the people need to dig a hole that is 75m deep, 20m long, and 50m broad. The volume of earth to be dug out in this case is:\\n\\nVolume = length × width × depth\\n= 20m × 50m × 75m\\n= 50,000 cubic meters\\n\\nWe can see that the volume of earth to be dug out in the second scenario is half the volume of the first scenario. This means that if it took 12 days to dig the initial hole, it will take twice as long to dig the second hole.\\n\\nTherefore, the number of days required to dig the second hole is:\\n\\nNumber of days = 2 × 12\\n= 24 days\\n\\nAnswer: 24\",\n",
       "  'answer': '24'},\n",
       " {'question': 'The length of a rectangualr hll is 5m more than its breadth. The area of the hall is 750 m. The length of the hall is',\n",
       "  'rationale': \"To find the length of the rectangular hall, let's follow these steps:\\n\\n1. Let's assume the breadth of the hall is x meters.\\n\\n2. Since the length of the hall is 5m more than its breadth, the length can be expressed as (x + 5) meters.\\n\\n3. The area of a rectangle is given by the formula: Area = Length × Breadth\\n\\n4. We are told that the area of the hall is 750 m². So we can set up an equation using this information:\\n   x(x + 5) = 750\\n\\n5. This equation simplifies to a quadratic equation:\\n   x² + 5x - 750 = 0\\n\\n6. Now, let's solve for x by factoring the quadratic equation.\\n\\n7. To factorize x² + 5x - 750, we need to find two numbers that multiply to give -750 and add up to give 5. These numbers are 25 and -30 because 25 × (-30) = -750 and 25 + (-30) = -5.\\n\\n8. Therefore, the equation can be factored as:\\n   (x + 25)(x - 30) = 0\\n\\n9. Setting each factor equal to zero gives us two possible values for x: x + 25 = 0 or x - 30 = 0\\n\\n10. Solving these equations gives us x = -25 and x = 30.\\n\\n11. Since the breadth of a hall cannot be negative, we discard the solution x = -25.\\n\\n12. Therefore, the breadth of the hall is x = 30 meters.\\n\\n13. Now that we know the breadth is 30 meters, we can calculate the length:\\n   Length = Breadth + 5\\n         = 30 + 5\\n         = 35 meters\\n\\nSo, the length of the rectangular hall is 35 meters.\\n\\nAnswer: 35\",\n",
       "  'answer': '35'},\n",
       " {'question': '0.5, 0.55, 0.65, 0.8, ?',\n",
       "  'rationale': \"To find the pattern in the given sequence (0.5, 0.55, 0.65, 0.8), let's analyze the differences between consecutive numbers.\\n\\n1. The difference between 0.5 and 0.55 is 0.05.\\n2. The difference between 0.55 and 0.65 is 0.10.\\n3. The difference between 0.65 and 0.80 is 0.15.\\n\\nFrom the above, we can see that each difference is increasing by 5 (0.05 + 0.05 = 0.10, 0.10 + 0.05 = 0.15).\\n\\nNow, to find the next number in the sequence, let's add the next difference of 0.20 to the last number in the sequence (0.80):\\n\\n0.80 + 0.20 = 1.00\\n\\nHowever, the result is not within the range of decimal numbers less than 1. The pattern seems to be increasing by a larger amount each time.\\n\\nLet's re-evaluate the differences: 0.05, 0.10, 0.15. These differences are also increasing by 5 (0.05 x 2 = 0.10, 0.10 x 1.5 = 0.15). This pattern suggests that each difference is multiplied by a factor close to 1.5.\\n\\nNow, let's apply this multiplier to the next expected difference:\\n\\nThe last difference was 0.15. Multiplying it by 1.5 gives us:\\n0.15 x 1.5 = 0.225\\n\\nAdding this new difference to the previous number in the sequence (0.80):\\n\\n0.80 + 0.225 = 1.025\\n\\nHowever, this result exceeds the limit of a single digit after the decimal point.\\n\\nLet's re-examine our approach. The differences are increasing at a rate that doesn't follow any simple multiplication factor close to 1.5. Instead, we should consider how each difference is growing: +0.05, +0.10, +0.15. These increments form an arithmetic sequence where each term increases by the same constant amount.\\n\\nThe increment between terms in this sequence is increasing by:\\n+0.05 - (+0.05) = 0\\n+0.10 - (+0.05) = +0.05\\n+0.15 - (+0.10) = +0.05\\n\\nThis shows that the differences are actually increasing by a constant amount of +0.05 each time.\\n\\nNow, let's apply this pattern to find the next difference:\\nThe last increment was +0.05, and we already had an increment of +0.15 for the transition from 0.65 to 0.80. The new difference would be:\\n+0.15 (previous increment) + (+0.05) = +0.20\\n\\nFinally, add this next expected difference to the previous number in the sequence (0.80):\\n\\n0.80 + 0.20 = 1.00\\n\\nThus, the pattern leads us to conclude that the correct answer should be a single-digit number after the decimal point.\\n\\nHowever, we must realize that the original sequence appears to have broken down at some point. The given numbers and their differences were used as evidence of an underlying pattern. \\n\\nTo arrive at our final result, let's revisit how the pattern was formed using the information provided in the question.\",\n",
       "  'answer': 'No Answer Extracted'},\n",
       " {'question': 'Three workers have a productivity ratio of 2 to 3 to 5. All three workers are working on a job for 4 hours. At the beginning of the 5th hour, the slowest worker takes a break. The slowest worker comes back to work at the beginning of the 9th hour and begins working again. The job is done in ten hours. What was the ratio of the work performed by the fastest worker as compared to the slowest?',\n",
       "  'rationale': \"Let's assume that the productivity rate of each worker per minute is x, y, and z respectively. Given that the productivity ratio of the three workers is 2:3:5.\\n\\nWe can express their individual rates in terms of a common multiplier k:\\n- Fastest worker: 5k\\n- Middle worker: 3k\\n- Slowest worker: 2k\\n\\nSince all three workers are working for 4 hours (240 minutes), the total work done by each worker can be calculated as follows:\\n\\nWork done by fastest worker = 5k * 240\\nWork done by middle worker = 3k * 240\\nWork done by slowest worker = 2k * 240\\n\\nAt the beginning of the 5th hour, the slowest worker takes a break. This means that the work done by the slowest worker during the first 4 hours is completed before they take a break.\\n\\nHowever, during the break (between the 5th and 9th hour), some work remains to be done. The middle worker and fastest worker continue working together for these 4 hours. Let's denote this remaining work as x.\\n\\nWork done by middle worker in 4 hours = 3k * 240\\nWork done by fastest worker in 4 hours = 5k * 240\\n\\nSince the job is completed after 10 hours, we can set up an equation representing the total work done:\\n\\n(3k * 240) + (5k * 240) + x = Total Work\\n\\nThe slowest worker joins again at the beginning of the 9th hour and works for the remaining 1 hour. The work left after their break is now completed by all three workers together.\\n\\nLet's denote the productivity rate of each worker in terms of k:\\n- Fastest worker: 5k\\n- Middle worker: 3k\\n- Slowest worker: 2k\\n\\nWork done by fastest worker during the last hour = (5k * 60)\\nWork done by middle worker during the last hour = (3k * 60)\\nWork done by slowest worker during the last hour = (2k * 60)\\n\\nAdding these to the remaining work x, we get:\\n\\n(3k * 240) + (5k * 240) + x + (5k * 60) + (3k * 60) + (2k * 60) = Total Work\\n\\nCombining like terms and simplifying:\\n\\nTotal Work = (3k * 300) + (5k * 300) + (2k * 120)\\n\\nSimplifying the expression further, we get:\\n\\nTotal Work = 900k + 1500k + 240k\\n= 2640k\\n\\nNow let's calculate the work done by each worker during their respective periods:\\n\\nWork done by fastest worker in the first 4 hours = (5k * 240)\\n= 1200k\\n\\nDuring the last hour, when all three workers are working together, the fastest worker contributes to the completion of the remaining job.\\n\\nWork done by fastest worker during the last hour = (5k * 60)\\n= 300k\\n\\nTotal work done by the fastest worker in 10 hours = Work done in first 4 hours + Work done in last hour\\n= 1200k + 300k\\n= 1500k\\n\\nNow we can calculate the ratio of the work performed by the fastest worker as compared to the slowest:\\n\\nRatio = (Work done by fastest worker / Work done by slowest worker)\\n= (1500k / 480k)\\n\\nSimplifying the ratio, we get:\\n\\nRatio = (1500/480)\\n= (3/1) * (5/4)\\n= 15/8\\n= 1.875\\n\\nHowever, this is not in its simplest form. Multiplying both numerator and denominator by 2 to simplify it further:\\n\\nRatio = (3.75/2)\\n\\nNow we can conclude that the ratio of work performed by the fastest worker as compared to the slowest is indeed 3.75:2 or more commonly written as 15:8.\\n\\nAnswer:\",\n",
       "  'answer': 'No Answer Extracted'},\n",
       " {'question': 'Which of these following integers is the square of an integer?',\n",
       "  'rationale': \"To determine which of the given integers is the square of an integer, we need to analyze each option and check if it can be expressed as a perfect square.\\n\\nSince there are no specific options provided in the question, I will assume that we have four integers: 1, 2, 3, and 4. We will examine each number to see if it is a perfect square.\\n\\nA perfect square is a number that can be expressed as the square of an integer. For example, 4 is a perfect square because it is equal to 2^2.\\n\\nLet's check the given integers:\\n\\n1. Is 1 a perfect square? No, because there is no integer whose square equals 1.\\n2. Is 2 a perfect square? No, because 2 is not equal to the square of any integer (e.g., 2 = 2^1).\\n3. Is 3 a perfect square? No, because 3 is not equal to the square of any integer (e.g., 3 ≠ 3^1).\\n4. Is 4 a perfect square? Yes, because 4 is equal to 2^2.\\n\\nTherefore, among these four integers, only one is a perfect square:\\n\\nAnswer: 4\",\n",
       "  'answer': '4'},\n",
       " {'question': '15 lts are taken of from a container full of liquid A and replaced with Liquid B. Again 15 more lts of the mixture is taken and replaced with liquid B. After this process, if the container contains Liquid A and B in the ratio 9:16,What is the capacity of the container S?',\n",
       "  'rationale': \"Let's break down the problem step by step.\\n\\nInitially, the container has only Liquid A (100%).\\n\\nAfter the first replacement:\\n\\n15 lts are taken out from the initial 100% (Liquid A), which means the amount of Liquid A left is:\\n100% - 15% = 85%\\n\\nThen, 15 lts of Liquid B are added to the remaining 85% of Liquid A. This brings the total volume to 100 lts again.\\n\\nNow, we have a mixture of 85% Liquid A and 15% Liquid B (which is also the ratio of liquid A to the total mixture).\\n\\nThe next step is to take out 15 more lts from this mixture and replace it with Liquid B. We need to find the amount of Liquid A left after taking out this 15-lts portion.\\n\\nLet's denote the amount of Liquid A in the remaining mixture as x%.\\n\\nWhen we remove 15% of the total volume (100 lts), the amount of Liquid A removed is:\\n15/100 * 85 = 12.75 lts\\n\\nSince this represents 15% of the total volume, it means that the initial amount of Liquid A was:\\nx = 85 - 12.75\\nx ≈ 72.25%\\n\\nNow, let's calculate the actual amount of Liquid A left after removing this portion:\\n\\nThe mixture has a ratio of 9:16 (Liquid A : Liquid B). The total volume is still 100 lts.\\n\\nLet's say we have 'y' lts of Liquid A in the remaining mixture. Then, the amount of Liquid B will be:\\n(16/25) * y = 16y/25\\n\\nSince the ratio is 9:16, we know that the actual amounts of Liquid A and Liquid B are proportional to their respective parts.\\n\\nNow, we have a total volume of (100 - 15) lts remaining after removing the first portion. We need to find the amount of Liquid A left in this mixture, which will be 'y' lts.\\n\\nThe ratio between Liquid A and Liquid B in this mixture is:\\n9 : 16\\n\\nThis means that the actual amounts of Liquid A and Liquid B are proportional to their respective parts:\\n\\nLiquid A = (9/25) * (100 - 15)\\n= (9/25) * 85\\n= 30.6 lts\\n\\nSo, we have approximately 30.6 lts of Liquid A remaining in the mixture.\\n\\nThe next step is to take out a 15-lts portion from this mixture and replace it with Liquid B.\\n\\nAfter removing this portion, we are left with:\\n(100 - 15) - 15 = 70 lts\\n\\nNow, let's find the amount of Liquid A left after removing this 15-lts portion:\\n\\nInitial amount of Liquid A remaining: ≈ 30.6 lts\\n\\nAmount of Liquid A removed (15%): ≈ 12.75 lts\\n\\nAmount of Liquid A remaining: ≈ 30.6 - 12.75\\n≈ 17.85 lts\\n\\nNow, let's calculate the actual capacity of the container S.\\n\\nThe ratio of Liquid A to the total mixture is given as 9 : 16.\\n\\nLet's say we have a total volume of 'z' lts in the container. Then, the amount of Liquid A will be:\\n(9/25) * z\\n\\nWe know that after taking out the first portion and replacing it with Liquid B, we are left with approximately 30.6 lts of Liquid A.\\n\\nNow, let's find the total volume 'z' in terms of Liquid A:\\n\\nInitial amount of Liquid A remaining: ≈ 30.6 lts\\n\\nAmount of Liquid A removed (15%): ≈ 12.75 lts\\n\\nTotal amount of Liquid A initially present: ≈ 30.6 + 12.75\\n≈ 43.35 lts\\n\\nThis represents the total volume 'z' of the mixture after removing the first portion and replacing it with Liquid B.\\n\\nThe actual capacity of the container S is:\\nS = z = 100 lts\\n\\nNote that this value is independent of the amount of Liquid A removed, as it only depends on the final ratio of the mixture (9 : 16).\\n\\nTherefore,\\n\\nAnswer: 100\",\n",
       "  'answer': '100'},\n",
       " {'question': 'A takes twice as much time as B or thrice as much time to finish a piece of work. Working together, they can finish the work in 2 ays, can do the work alone in',\n",
       "  'rationale': \"To solve this problem, let's break it down into steps.\\n\\nStep 1: Let's assume that B takes 'x' days to complete the work.\\n\\nSince A takes twice as much time as B to finish the work, A will take 2x days to complete the work. Similarly, since A takes thrice as much time as B to finish the work, A will also take 3x days to complete the work.\\n\\nStep 2: From step 1, we have two equations:\\n\\nB's time = x days\\nA's time = 2x days or 3x days\\n\\nSince both are valid expressions for A's time, we can set them equal to each other:\\n\\n2x = 3x\\n\\nThis means that the value of 'x' is irrelevant; what matters is the ratio between B and A's times. In this case, since there are two possibilities for A's time (2x or 3x), we will assume the least possible time for A to complete the work.\\n\\nStep 3: Now, let's find out how much work each can do in a day.\\n\\nIf B takes 'x' days to finish the work, then B can do 1/x of the work in one day. Similarly, if A takes either 2x or 3x days to complete the work, A can do 1/(2x) or 1/(3x) of the work in one day.\\n\\nStep 4: Since we are working together, their combined rate is the sum of their individual rates.\\n\\nSo, B's rate + A's rate = Combined rate\\n\\nFrom step 3, we have:\\n\\n(1/x) + (1/2x) or (1/x) + (1/3x) = Combined rate\\n\\nStep 5: We are given that they can finish the work together in 2 days.\\n\\nSo, their combined rate is equal to 1/2 of the work per day.\\n\\nStep 6: Now we can set up an equation based on step 4 and solve for x.\\n\\nFrom step 5, we have:\\n\\nCombined rate = 1/2\\n\\nLet's assume A takes 3x days (since this gives us the least possible time for A to complete the work). Then from step 4, we get:\\n\\n(1/x) + (1/3x) = 1/2\\n\\nStep 7: To solve for x, we need a common denominator.\\n\\nLet's multiply both sides by 6x to eliminate fractions:\\n\\n3 + 2 = 3x\\n\\n5 = 3x\\n\\nNow we can solve for x:\\n\\nx = 5/3\\n\\nHowever, this value of 'x' is not correct because it was calculated assuming A takes twice as much time as B or thrice as much time to finish the work. We need to go back and recalculate.\\n\\nStep 8: Let's try again from step 2.\\n\\nFrom step 2, we have:\\n\\nA's time = 3x days (since this gives us a consistent ratio for A)\\n\\nLet's use this value of A's time in step 4.\\n\\nSo, B's rate + A's rate = Combined rate\\n\\n(1/x) + (1/3x) = Combined rate\\n\\nSince they can finish the work together in 2 days, we have:\\n\\nCombined rate = 1/2\\n\\nStep 9: Now let's set up an equation based on step 4 and solve for x.\\n\\nFrom step 8, we get:\\n\\n(1/x) + (1/3x) = 1/2\\n\\nMultiplying both sides by 6x to eliminate fractions, we get:\\n\\n3 + 2 = 3x\\n\\n5 = 3x\\n\\nNow we can solve for x:\\n\\nx = 5/3\\n\\nThis is still not correct.\\n\\nStep 10: Let's use the equation from step 4 again and try a different value of A's time.\\n\\nFrom step 1, B takes 'x' days to finish the work. We also know that A takes twice as much time as B or thrice as much time to finish the work.\\n\\nSo, we can say:\\n\\nA's time = 2x days\\n\\nStep 11: Now let's use this value of A's time in step 4 and solve for x.\\n\\nFrom step 10, we get:\\n\\nB's rate + A's rate = Combined rate\\n\\n(1/x) + (1/2x) = Combined rate\\n\\nSince they can finish the work together in 2 days, we have:\\n\\nCombined rate = 1/2\\n\\nStep 12: Now let's set up an equation based on step 4 and solve for x.\\n\\nFrom step 11, we get:\\n\\n(1/x) + (1/2x) = 1/2\\n\\nMultiplying both sides by 2x to eliminate fractions, we get:\\n\\n2 + 1 = 2x\\n\\n3 = 2x\\n\\nNow we can solve for x:\\n\\nx = 3/2\\n\\nThis value of 'x' seems correct.\\n\\nStep 13: Now let's find out how much work B and A can do in a day.\\n\\nIf B takes (3/2) days to finish the work, then B can do 1/(3/2) of the work in one day. Similarly, if A takes twice as much time as B to complete the work, A can do 1/((3/2)) = 2/3 of the work in one day.\\n\\nStep 14: Finally, let's calculate how long it would take for B and A together to finish the work.\\n\\nSince they can finish the work together in 2 days, their combined rate is equal to 1/2 of the work per day. From step 13, we have:\\n\\nCombined rate = (1/(3/2)) + (2/3) = 1/2\\n\\nLet's multiply both sides by 6 to eliminate fractions.\\n\\n(4+4)/3 = 3\\n\\n8/3 = 3\\n\\nHowever, this is not possible. This means that our initial assumption about B and A taking twice as much time as each other was incorrect.\\n\\nStep 15: Let's try again from step 1.\\n\\nFrom step 1, we have:\\n\\nB takes 'x' days to finish the work.\\nA takes either twice as much time or thrice as much time as B to finish the work.\\n\\nLet's say A takes twice as much time as B to complete the work. So, A takes 2x days to complete the work.\\n\\nStep 16: Now let's use this value of A's time in step 4 and solve for x.\\n\\nFrom step 15, we get:\\n\\nB's rate + A's rate = Combined rate\\n\\n(1/x) + (1/2x) = Combined rate\\n\\nSince they can finish the work together in 2 days, we have:\\n\\nCombined rate = 1/2\\n\\nStep 17: Now let's set up an equation based on step 4 and solve for x.\\n\\nFrom step 16, we get:\\n\\n(1/x) + (1/2x) = 1/2\\n\\nMultiplying both sides by 2x to eliminate fractions, we get:\\n\\n2 + 1 = 2x\\n\\n3 = 2x\\n\\nNow we can solve for x:\\n\\nx = 3/2\",\n",
       "  'answer': 'No Answer Extracted'},\n",
       " {'question': 'An athlete takes 10 seconds to run 100m. What is his avg. speed in miles per hour?',\n",
       "  'rationale': 'To find the average speed of the athlete, we need to first convert the distance from meters to miles and the time from seconds to hours.\\n\\nThe distance is 100 meters, which is equal to 0.0625 miles (since 1 mile = 1609.34 meters).\\n\\nThe time taken by the athlete is 10 seconds, which needs to be converted to hours. There are 3600 seconds in an hour, so:\\n\\nTime in hours = 10 seconds / 3600 seconds per hour = 0.0027778 hours\\n\\nNow that we have both distance and time in compatible units, we can calculate the average speed of the athlete.\\n\\nAverage Speed = Distance / Time\\n= 0.0625 miles / 0.0027778 hours\\n≈ 22.42 miles per hour\\n\\nTherefore, the average speed of the athlete is approximately 22.42 miles per hour.\\n\\nAnswer: 22.42',\n",
       "  'answer': '22.42'},\n",
       " {'question': 'A rectangular plot measuring 90 meters by 50 meters is to be enclosed by wire fencing. If the poles of the fence are kept 5 meters apart. How many poles will be needed?',\n",
       "  'rationale': \"To find out how many poles will be needed, we need to calculate the total length of the wire required and then divide it by the distance between each pole.\\n\\nThe rectangular plot measures 90 meters by 50 meters. To enclose this plot with a fence, we need to consider both the length and width of the plot.\\n\\nFirst, let's find the perimeter of the rectangular plot, which will give us the total length of wire required. The formula for the perimeter is:\\n\\nPerimeter = 2(length + width)\\n\\nPerimeter = 2(90 + 50)\\nPerimeter = 2 x 140\\nPerimeter = 280 meters\\n\\nNow that we have the perimeter, we can find out how many sections of fence will be needed to cover this length. Since each section is 5 meters long, we divide the total perimeter by 5:\\n\\nNumber of sections = Perimeter / Distance between poles\\n= 280 / 5\\n= 56\\n\\nHowever, since there are two ends of the plot (one at 90 meters and one at 50 meters), we need to add 1 more pole to close the loop.\\n\\nTotal number of poles required = Number of sections + 1\\n= 56 + 1\\n= 57\\n\\nTherefore, the total number of poles needed is 57.\\n\\nAnswer: 57\",\n",
       "  'answer': '57'},\n",
       " {'question': 'A trader has 50 kg of rice, a part of which he sells at 14% profit and rest at 6% loss. On the whole his loss is 4% . What is the quantity sold at 14% profit and that at 6% loss?',\n",
       "  'rationale': \"Let's break down the problem step by step.\\n\\nLet x be the weight of rice sold at a 14% profit, and let (50 - x) be the weight of rice sold at a 6% loss.\\n\\nThe cost price of the rice is the same for both quantities. Let's call it 'cp'.\\n\\nThe selling price of x kg of rice sold at a 14% profit is: \\n0.14 * cp + cp = 1.14 * cp\\n\\nThe selling price of (50 - x) kg of rice sold at a 6% loss is:\\n-0.06 * cp + cp = 0.94 * cp\\n\\nSince the total loss is 4%, the overall selling price for 50 kg of rice is:\\n(1.14 * cp) * x + (0.94 * cp) * (50 - x)\\n\\nThe average cost price is the same, so we can set this equal to the total cost price:\\n\\ncp = (1.14 * cp * x + 0.94 * cp * (50 - x)) / 50\\n\\nSimplifying the equation:\\n(1.14x + 47 - 0.94x)cp / 50 = cp\\n(0.2x + 47)/50 = 1\\n0.2x + 47 = 50\\n0.2x = 3\\nx = 15\\n\\nSo, the weight of rice sold at a 14% profit is x = 15 kg.\\n\\nThe weight of rice sold at a 6% loss is:\\n50 - x = 50 - 15 = 35 kg\\n\\nTherefore, the quantity sold at 14% profit is 15 kg and that at 6% loss is 35 kg.\\n\\nAnswer: 15 kg and 35 kg\",\n",
       "  'answer': '15 kg and 35 kg'}]"
      ]
     },
     "execution_count": 687,
     "metadata": {},
     "output_type": "execute_result"
    }
   ],
   "source": [
    "incorrect_pairs"
   ]
  },
  {
   "cell_type": "code",
   "execution_count": 688,
   "metadata": {},
   "outputs": [
    {
     "data": {
      "text/plain": [
       "[]"
      ]
     },
     "execution_count": 688,
     "metadata": {},
     "output_type": "execute_result"
    }
   ],
   "source": [
    "unanswered_paris"
   ]
  },
  {
   "cell_type": "code",
   "execution_count": 689,
   "metadata": {},
   "outputs": [
    {
     "name": "stdout",
     "output_type": "stream",
     "text": [
      "Total questions processed: 20\n",
      "Correct answers: 9\n",
      "Incorrect answers: 11\n",
      "Unanswered answers: 0\n",
      "Accuracy: 45.00%\n"
     ]
    }
   ],
   "source": [
    "total = len(correct_pairs) + len(incorrect_pairs) + len(unanswered_paris)\n",
    "accuracy = len(correct_pairs) / total * 100\n",
    "print(f\"Total questions processed: {total}\")\n",
    "print(f\"Correct answers: {len(correct_pairs)}\")\n",
    "print(f\"Incorrect answers: {len(incorrect_pairs)}\")\n",
    "print(f\"Unanswered answers: {len(unanswered_paris)}\")\n",
    "print(f\"Accuracy: {accuracy:.2f}%\")"
   ]
  },
  {
   "cell_type": "code",
   "execution_count": 26,
   "metadata": {},
   "outputs": [
    {
     "name": "stdout",
     "output_type": "stream",
     "text": [
      "{'question': 'Rs. 825 becomes Rs. 956 in 3 years at a certain rate of simple interest.If the rate of interest is increased by 4% ,What amount will Rs. 825 become in 3 years ?', 'options': {'A': 'Rs. 1020.80', 'B': 'Rs. 1025', 'C': 'Rs. 1055', 'D': 'Data inadequate', 'E': 'None of these'}, 'rationale': \"Let's break down the problem step by step.\\n\\nGiven:\\n\\n1. Principal (P) = Rs. 825\\n2. Amount after 3 years (A) = Rs. 956\\n\\nWe need to find the rate of interest (R) at which P becomes A in 3 years. We'll use the formula for simple interest:\\n\\nSimple Interest (SI) = (P × R × T)/100\\n\\nwhere T is the time period, which is 3 years here.\\n\\nFirst, let's calculate the SI for the given scenario:\\n\\nA = P + SI\\n956 = 825 + (SI)\\nSI = 131\\n\\nNow, we can use the formula to find the rate of interest (R):\\n\\nSI = (P × R × T)/100\\n131 = (825 × R × 3)/100\\n131 = 24.75R\\nR = 131/24.75 ≈ 5.29%\\n\\nThis is the original rate of interest.\\n\\nNow, let's consider what happens when the rate of interest is increased by 4%:\\n\\nNew Rate (R') = Original Rate + Increase in Rate\\n= 5.29% + 4%\\n= 9.29%\\n\\nWe need to find the new amount that Rs. 825 will become in 3 years at this increased rate.\\n\\nUsing the simple interest formula, we can calculate the new SI:\\n\\nNew SI = (P × R' × T)/100\\n= (825 × 9.29% × 3)/100\\n= 23.61\\n\\nNow, add this new SI to the principal to find the new amount:\\n\\nNew Amount = P + New SI\\n= 825 + 23.61\\n≈ Rs. 848.61\\n\\nHowever, we're asked for a multiple-choice answer, and none of the options match our calculation. This is because we assumed that the interest is compounded annually, but the question doesn't specify this.\\n\\nLet's try another approach using compound interest formula (since it's not specified to be simple interest):\\n\\nAmount after 3 years = P × (1 + R)^T\\n\\nUsing the original rate of interest (5.29%), we get:\\n\\nA = 825 × (1 + 0.0529)^3\\n≈ Rs. 1055\\n\\nThis is the amount that would become in 3 years if the interest is compounded annually.\\n\\nSo, the correct answer is:\\n\\nC: Rs. 1055\", 'answer': 'C'}\n"
     ]
    }
   ],
   "source": [
    "new_correct_pairs = []\n",
    "\n",
    "# Process the incorrect answers\n",
    "for pair in incorrect_pairs:\n",
    "    question = pair['question']\n",
    "    options = pair['options']\n",
    "    correct_answer = pair['correct_answer']\n",
    "\n",
    "    # Generate the rationale with the correct answer as a hint\n",
    "    generated_rationale = rationalize(question, options, correct_answer, prompt_set)\n",
    "\n",
    "    # Add the rationalized example to correct_pairs\n",
    "    new_correct_pairs.append({\n",
    "        'question': question,\n",
    "        'options': options,\n",
    "        'rationale': generated_rationale,\n",
    "        'answer': correct_answer\n",
    "    })\n",
    "\n",
    "    print({\n",
    "        'question': question,\n",
    "        'options': options,\n",
    "        'rationale': generated_rationale,\n",
    "        'answer': correct_answer\n",
    "    })"
   ]
  },
  {
   "cell_type": "markdown",
   "metadata": {},
   "source": [
    "### Converting our corrected pairs into a structure the Llama3.1 model will understand for fine tuning."
   ]
  },
  {
   "cell_type": "code",
   "execution_count": 23,
   "metadata": {},
   "outputs": [
    {
     "name": "stdout",
     "output_type": "stream",
     "text": [
      "Error decoding JSON on line 18: Extra data: line 1 column 1471 (char 1470). Skipping.\n",
      "Error decoding JSON on line 84: Extra data: line 1 column 936 (char 935). Skipping.\n",
      "Conversion complete. New file saved as 'finetuning_data_new.jsonl'.\n"
     ]
    }
   ],
   "source": [
    "import json\n",
    "import re\n",
    "\n",
    "def extract_question(human_message):\n",
    "    \"\"\"\n",
    "    Extracts the question from the human message.\n",
    "\n",
    "    Args:\n",
    "        human_message (str): The message content from the human.\n",
    "\n",
    "    Returns:\n",
    "        str: Extracted question text or the original message if extraction fails.\n",
    "    \"\"\"\n",
    "    match = re.search(r'Question:\\s*(.+)', human_message, re.IGNORECASE)\n",
    "    if match:\n",
    "        return match.group(1).strip()\n",
    "    return human_message.strip()\n",
    "\n",
    "def extract_rationale(gpt_message):\n",
    "    \"\"\"\n",
    "    Extracts the rationale from the GPT message by removing any initial 'A: ...' lines,\n",
    "    removing 'Rationale:' labels, and excluding 'Answer: ...' sections.\n",
    "\n",
    "    Args:\n",
    "        gpt_message (str): The message content from GPT.\n",
    "\n",
    "    Returns:\n",
    "        str: Extracted rationale text or an empty string if extraction fails.\n",
    "    \"\"\"\n",
    "    # Step 1: Remove any initial \"A: ...\" lines\n",
    "    gpt_message = re.sub(r'^A:\\s*.+\\n', '', gpt_message, flags=re.IGNORECASE)\n",
    "\n",
    "    # Step 2: Extract text after \"Rationale:\" up to \"Answer:\" or end of string\n",
    "    match = re.search(r'Rationale:\\s*(.*?)(?:\\nAnswer:.*|$)', gpt_message, re.IGNORECASE | re.DOTALL)\n",
    "    if match:\n",
    "        rationale = match.group(1).strip()\n",
    "        return rationale\n",
    "    else:\n",
    "        # If \"Rationale:\" is not found, remove any trailing \"Answer: ...\" and return the rest\n",
    "        gpt_message = re.sub(r'\\n*Answer:\\s*.+$', '', gpt_message, flags=re.IGNORECASE | re.DOTALL).strip()\n",
    "        return gpt_message\n",
    "\n",
    "def convert_existing_jsonl(input_file, output_file):\n",
    "    \"\"\"\n",
    "    Converts the existing finetuning_data.jsonl file to the new Q&A format.\n",
    "\n",
    "    Args:\n",
    "        input_file (str): Path to the existing JSONL file.\n",
    "        output_file (str): Path to the new JSONL file to be created.\n",
    "\n",
    "    Returns:\n",
    "        None\n",
    "    \"\"\"\n",
    "    with open(input_file, 'r', encoding='utf-8') as infile, \\\n",
    "         open(output_file, 'w', encoding='utf-8') as outfile:\n",
    "        \n",
    "        for line_num, line in enumerate(infile, 1):\n",
    "            try:\n",
    "                # Each line is expected to be a JSON array of messages\n",
    "                messages = json.loads(line)\n",
    "                \n",
    "                # Ensure there are at least two messages: human and gpt\n",
    "                if len(messages) < 2:\n",
    "                    print(f\"Warning: Line {line_num} has less than 2 messages. Skipping.\")\n",
    "                    continue\n",
    "                \n",
    "                # Extract human and gpt messages\n",
    "                human_message = \"\"\n",
    "                gpt_message = \"\"\n",
    "                for msg in messages:\n",
    "                    if msg.get(\"from\") == \"human\":\n",
    "                        human_message = msg.get(\"value\", \"\").strip()\n",
    "                    elif msg.get(\"from\") == \"gpt\":\n",
    "                        gpt_message = msg.get(\"value\", \"\").strip()\n",
    "                \n",
    "                if not human_message or not gpt_message:\n",
    "                    print(f\"Warning: Line {line_num} is missing human or gpt message. Skipping.\")\n",
    "                    continue\n",
    "                \n",
    "                # Extract question and rationale\n",
    "                question = extract_question(human_message)\n",
    "                rationale = extract_rationale(gpt_message)\n",
    "                \n",
    "                if not question or not rationale:\n",
    "                    print(f\"Warning: Line {line_num} could not extract question or rationale. Skipping.\")\n",
    "                    continue\n",
    "                \n",
    "                # Create the new format\n",
    "                new_entry = {\n",
    "                    \"text\": f\"Q: {question}\\nA: {rationale}\"\n",
    "                }\n",
    "                \n",
    "                # Write to the new JSONL file\n",
    "                outfile.write(json.dumps(new_entry, ensure_ascii=False) + '\\n')\n",
    "            \n",
    "            except json.JSONDecodeError as e:\n",
    "                print(f\"Error decoding JSON on line {line_num}: {e}. Skipping.\")\n",
    "                continue\n",
    "\n",
    "    print(f\"Conversion complete. New file saved as '{output_file}'.\")\n",
    "\n",
    "if __name__ == \"__main__\":\n",
    "    input_jsonl = 'finetuning_data.jsonl'        # Existing file\n",
    "    output_jsonl = 'finetuning_data_new.jsonl'   # New file\n",
    "        \n",
    "    # Perform the conversion\n",
    "    convert_existing_jsonl(input_jsonl, output_jsonl)"
   ]
  },
  {
   "cell_type": "markdown",
   "metadata": {},
   "source": [
    "### Appending New Data"
   ]
  },
  {
   "cell_type": "code",
   "execution_count": 520,
   "metadata": {},
   "outputs": [],
   "source": [
    "import json\n",
    "import re\n",
    "import os\n",
    "\n",
    "def convert_correct_pairs_to_conversations(correct_pairs):\n",
    "    \"\"\"\n",
    "    Converts a list of correct_pairs to the new conversation format.\n",
    "    \n",
    "    Args:\n",
    "        correct_pairs (list): List of dictionaries with keys 'question', 'rationale', and 'answer'.\n",
    "    \n",
    "    Returns:\n",
    "        list: List of dictionaries in the format {\"text\": \"Q: ...\\nA: ...\"}\n",
    "    \"\"\"\n",
    "    new_conversations = []\n",
    "    for pair in correct_pairs:\n",
    "        question = pair.get('question', '').strip()\n",
    "        rationale = pair.get('rationale', '').strip()\n",
    "        \n",
    "        if not question or not rationale:\n",
    "            print(f\"Warning: Missing question or rationale in pair: {pair}. Skipping.\")\n",
    "            continue\n",
    "        \n",
    "        # Remove any trailing \"Answer: ...\" lines from the rationale\n",
    "        # This ensures that the rationale does not contain explicit \"Answer:\" labels\n",
    "        rationale_cleaned = re.sub(r'\\n*Answer:\\s*.*$', '', rationale, flags=re.IGNORECASE).strip()\n",
    "        \n",
    "        # Additionally, remove any \"Rationale:\" labels if present\n",
    "        rationale_cleaned = re.sub(r'^Rationale:\\s*', '', rationale_cleaned, flags=re.IGNORECASE).strip()\n",
    "        \n",
    "        # Create the new conversation format\n",
    "        convo = {\n",
    "            \"text\": f\"Q: {question}\\nA: {rationale_cleaned}\"\n",
    "        }\n",
    "        new_conversations.append(convo)\n",
    "    return new_conversations\n",
    "\n",
    "def append_conversations_to_jsonl(conversations, file_path='finetuning_data.jsonl'):\n",
    "    \"\"\"\n",
    "    Appends a list of conversations to an existing JSONL file in the desired format.\n",
    "    \n",
    "    Each conversation is a dict with 'text': 'Q: ...\\nA: ...'\n",
    "    This function ensures that any residual 'Answer:' labels are removed from the 'A: ...' section.\n",
    "    \n",
    "    Args:\n",
    "        conversations (list): List of conversations to append, each as {\"text\": \"Q: ...\\nA: ...\"}.\n",
    "        file_path (str): Path to the existing JSONL file.\n",
    "    \n",
    "    Returns:\n",
    "        None\n",
    "    \"\"\"\n",
    "    # Check if the file exists\n",
    "    if os.path.exists(file_path):\n",
    "        # Check if the file ends with a newline\n",
    "        with open(file_path, 'rb') as f:\n",
    "            try:\n",
    "                f.seek(-1, os.SEEK_END)\n",
    "                last_char = f.read(1)\n",
    "                if last_char != b'\\n':\n",
    "                    newline_needed = True\n",
    "                else:\n",
    "                    newline_needed = False\n",
    "            except OSError:\n",
    "                # File is empty\n",
    "                newline_needed = False\n",
    "    else:\n",
    "        # File does not exist; will be created\n",
    "        newline_needed = False\n",
    "\n",
    "    with open(file_path, 'a', encoding='utf-8') as f:\n",
    "        # If a newline is needed before appending, add it\n",
    "        if newline_needed:\n",
    "            f.write('\\n')\n",
    "        \n",
    "        for convo in conversations:\n",
    "            text = convo.get('text', '').strip()\n",
    "            \n",
    "            # Ensure that the text starts with \"Q: \" and contains \"A: \"\n",
    "            if not text.startswith(\"Q: \") or \"\\nA: \" not in text:\n",
    "                print(f\"Warning: Conversation does not follow the 'Q: ...\\nA: ...' format. Skipping: {convo}\")\n",
    "                continue\n",
    "            \n",
    "            # Split the text into Question and Answer parts\n",
    "            try:\n",
    "                q_part, a_part = text.split(\"\\nA: \", 1)\n",
    "            except ValueError:\n",
    "                print(f\"Warning: Unable to split 'Q' and 'A' parts. Skipping: {convo}\")\n",
    "                continue\n",
    "            \n",
    "            # Clean the Answer part by removing any \"Answer:\" labels if present\n",
    "            # Although it should already be cleaned, this is an extra safeguard\n",
    "            a_part_cleaned = re.sub(r'\\n*Answer:\\s*.*$', '', a_part, flags=re.IGNORECASE).strip()\n",
    "            a_part_cleaned = re.sub(r'^Answer:\\s*', '', a_part_cleaned, flags=re.IGNORECASE).strip()\n",
    "            \n",
    "            # Reconstruct the cleaned conversation text\n",
    "            new_text = f\"{q_part}\\nA: {a_part_cleaned}\"\n",
    "            \n",
    "            # Append the cleaned conversation to the list\n",
    "            processed_convo = {\"text\": new_text}\n",
    "            \n",
    "            # Serialize and write to the file\n",
    "            json_line = json.dumps(processed_convo, ensure_ascii=False)\n",
    "            f.write(json_line + '\\n')\n",
    "    \n",
    "    print(f\"Successfully appended {len(conversations)} conversations to '{file_path}'.\")"
   ]
  },
  {
   "cell_type": "code",
   "execution_count": 706,
   "metadata": {},
   "outputs": [
    {
     "name": "stdout",
     "output_type": "stream",
     "text": [
      "Successfully appended 6 conversations to 'finetuning_data_new.jsonl'.\n"
     ]
    }
   ],
   "source": [
    "new_conversations = convert_correct_pairs_to_conversations(correct_pairs)\n",
    "    \n",
    "    # Append to the new JSONL file\n",
    "append_conversations_to_jsonl(new_conversations, 'finetuning_data_new.jsonl')"
   ]
  },
  {
   "cell_type": "markdown",
   "metadata": {},
   "source": [
    "### Data split"
   ]
  },
  {
   "cell_type": "code",
   "execution_count": 635,
   "metadata": {},
   "outputs": [],
   "source": [
    "import json\n",
    "import random\n",
    "\n",
    "def split_jsonl_file(input_file, output_train, output_valid, output_test):\n",
    "    # Load the jsonl file\n",
    "    with open(input_file, 'r') as f:\n",
    "        data = [json.loads(line) for line in f]\n",
    "\n",
    "    # Shuffle the data to ensure random distribution\n",
    "    random.shuffle(data)\n",
    "\n",
    "    # Calculate split indices for 90% train, 5% valid, 5% test\n",
    "    train_split = int(0.90 * len(data))\n",
    "    valid_split = int(0.95 * len(data))\n",
    "\n",
    "    # Split the data\n",
    "    train_data = data[:train_split]\n",
    "    valid_data = data[train_split:valid_split]\n",
    "    test_data = data[valid_split:]\n",
    "\n",
    "    # Write the data into their respective jsonl files\n",
    "    with open(output_train, 'w') as f:\n",
    "        for item in train_data:\n",
    "            f.write(json.dumps(item) + '\\n')\n",
    "\n",
    "    with open(output_valid, 'w') as f:\n",
    "        for item in valid_data:\n",
    "            f.write(json.dumps(item) + '\\n')\n",
    "\n",
    "    with open(output_test, 'w') as f:\n",
    "        for item in test_data:\n",
    "            f.write(json.dumps(item) + '\\n')\n",
    "\n",
    "# Example usage\n",
    "split_jsonl_file('finetuning_data_new.jsonl', 'train.jsonl', 'valid.jsonl', 'test.jsonl')"
   ]
  },
  {
   "cell_type": "code",
   "execution_count": null,
   "metadata": {},
   "outputs": [],
   "source": []
  }
 ],
 "metadata": {
  "kernelspec": {
   "display_name": ".venv",
   "language": "python",
   "name": "python3"
  },
  "language_info": {
   "codemirror_mode": {
    "name": "ipython",
    "version": 3
   },
   "file_extension": ".py",
   "mimetype": "text/x-python",
   "name": "python",
   "nbconvert_exporter": "python",
   "pygments_lexer": "ipython3",
   "version": "3.11.8"
  }
 },
 "nbformat": 4,
 "nbformat_minor": 2
}
