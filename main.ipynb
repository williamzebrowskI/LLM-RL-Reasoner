{
 "cells": [
  {
   "cell_type": "code",
   "execution_count": 309,
   "metadata": {},
   "outputs": [],
   "source": [
    "import re\n",
    "import ollama\n",
    "from src.data_loading import load_data\n",
    "from src.parsing import parse_options\n",
    "from src.rationale_generation import generate_rationale_and_answer\n",
    "from src.utils import is_rationale_correct\n",
    "from src.rationalization import rationalize\n",
    "from src.prompt_generation import create_prompt_examples, create_prompt_set, clean_options, get_correct_answer_text"
   ]
  },
  {
   "cell_type": "code",
   "execution_count": 467,
   "metadata": {},
   "outputs": [],
   "source": [
    "NUM_PROMPT_EXAMPLES = 5 # number of prompt examples\n",
    "NUM_EXAMPLES_TO_PROCESS = 10 # number of examples to process"
   ]
  },
  {
   "cell_type": "markdown",
   "metadata": {},
   "source": [
    "### Load Dataset"
   ]
  },
  {
   "cell_type": "code",
   "execution_count": 468,
   "metadata": {},
   "outputs": [
    {
     "name": "stdout",
     "output_type": "stream",
     "text": [
      "Dataset({\n",
      "    features: ['question', 'options', 'rationale', 'correct'],\n",
      "    num_rows: 10\n",
      "})\n"
     ]
    }
   ],
   "source": [
    "ds_train = load_data()\n",
    "\n",
    "# Step 1: Select the desired range from ds_train\n",
    "dataset_D = ds_train.select(range(NUM_PROMPT_EXAMPLES, len(ds_train)))\n",
    "\n",
    "# Step 2: Shuffle the selected dataset\n",
    "dataset_D_shuffled = dataset_D.shuffle()  # Use any seed you prefer\n",
    "\n",
    "# Step 3: Select a subset of examples to process\n",
    "dataset_D_subset = dataset_D_shuffled.select(range(NUM_EXAMPLES_TO_PROCESS))\n",
    "\n",
    "print(dataset_D_subset)"
   ]
  },
  {
   "cell_type": "markdown",
   "metadata": {},
   "source": [
    "### Create prompt examples"
   ]
  },
  {
   "cell_type": "code",
   "execution_count": 469,
   "metadata": {},
   "outputs": [
    {
     "data": {
      "text/plain": [
       "[{'question': \"Two friends plan to walk along a 43-km trail, starting at opposite ends of the trail at the same time. If Friend P's rate is 15% faster than Friend Q's, how many kilometers will Friend P have walked when they pass each other?\",\n",
       "  'rationale': 'If Q complete x kilometers, then P completes 1.15x kilometers.\\nx + 1.15x = 43\\n2.15x=43\\nx = 43/2.15 = 20\\nThen P will have have walked 1.15*20=23 km.\\nThe answer is E.',\n",
       "  'answer': 'E'},\n",
       " {'question': 'In the coordinate plane, points (x, 1) and (5, y) are on line k. If line k passes through the origin and has slope 1/5, then what are the values of x and y respectively?',\n",
       "  'rationale': 'Line k passes through the origin and has slope 1/5 means that its equation is y=1/5*x.\\nThus: (x, 1)=(5, 1) and (5, y) = (5,1) -->x=5 and y=1\\nAnswer: C',\n",
       "  'answer': 'C'},\n",
       " {'question': 'For all numbers p and q, the operation @ is defined by p@q = p^2 - pq. If xy ≠ 0, then which of the following can be equal to zero?\\nI. x@y\\nII. (xy)@y\\nIII. x@(x + y)',\n",
       "  'rationale': 'p@q = p^2 - pq=p(p-q).... so p@q will be zero if p=q or p=0.. but a cannot be equal to 0.. as per Q, x and y can take any int value except 0...\\nnow lets look at the choices..\\nwhen x=y, it will be 0... so ok...\\nwhen we put xy=y, it is possible when x=1 and y any integer... so ok again\\nwhen we put x=x+y.... only possibility when y=0 and it is given x and y cannot be 0....so not possible\\nonly l and ll possible ans B....',\n",
       "  'answer': 'B'},\n",
       " {'question': 'Carl is facing very difficult financial times and can only pay the interest on a $10,000 loan he has taken. The bank charges him a quarterly compound rate of 4%. What is the approximate interest he pays annually?',\n",
       "  'rationale': 'Usually, you are given the annual rate of interest and it is mentioned that it is annual rate.\\nThe bank charges him a quarterly compounded ANNUAL rate of 16%.\\nHere you find per quarter rate as (16/4)% = 4%\\nI have actually never seen a question with quarter rate given but since this question did not mentionannual rate of interestand since the options did not make sense with 4% annual rate of interest, it is apparent that the intent was a 4% quarterly rate. So the bank charges 4% every quarter and compounds it in the next quarter. Had it been a simple quarterly rate, we would have just found 4 * 4% of 10,000 = $1600 as our answer.\\nBut since, the interest is compounded, it will be a bit more than $1600. Option (A) looks correct.',\n",
       "  'answer': 'A'},\n",
       " {'question': 'The speed at which a man can row a boat in still water is 25 kmph. If he rows downstream, where the speed of current is 11 kmph, what time will he take to cover 80 metres?',\n",
       "  'rationale': 'Speed of the boat downstream = 25 +11\\n= 36 kmph\\n= 36 * 5/18 = 10 m/s\\nHence time taken to cover 80 m = 80/10\\n= 8 seconds.\\nAnswer:E',\n",
       "  'answer': 'E'}]"
      ]
     },
     "execution_count": 469,
     "metadata": {},
     "output_type": "execute_result"
    }
   ],
   "source": [
    "prompt_examples = create_prompt_examples(ds_train, NUM_PROMPT_EXAMPLES)\n",
    "\n",
    "prompt_examples"
   ]
  },
  {
   "cell_type": "markdown",
   "metadata": {},
   "source": [
    "### Create Prompt Sets"
   ]
  },
  {
   "cell_type": "code",
   "execution_count": 470,
   "metadata": {},
   "outputs": [
    {
     "name": "stdout",
     "output_type": "stream",
     "text": [
      "Question: Two friends plan to walk along a 43-km trail, starting at opposite ends of the trail at the same time. If Friend P's rate is 15% faster than Friend Q's, how many kilometers will Friend P have walked when they pass each other?\n",
      "Answer Explanation: If Q complete x kilometers, then P completes 1.15x kilometers.\\nx + 1.15x = 43\\n2.15x=43\\nx = 43/2.15 = 20\\nThen P will have have walked 1.15*20=23 km.\\nThe answer is E.\n",
      "Answer: 23\n",
      "###\n",
      "Question: In the coordinate plane, points (x, 1) and (5, y) are on line k. If line k passes through the origin and has slope 1/5, then what are the values of x and y respectively?\n",
      "Answer Explanation: Line k passes through the origin and has slope 1/5 means that its equation is y=1/5*x.\\nThus: (x, 1)=(5, 1) and (5, y) = (5,1) -->x=5 and y=1\\nAnswer: C\n",
      "Answer: 5 and 1\n",
      "###\n",
      "Question: For all numbers p and q, the operation @ is defined by p@q = p^2 - pq. If xy ≠ 0, then which of the following can be equal to zero?\n",
      "I. x@y\n",
      "II. (xy)@y\n",
      "III. x@(x + y)\n",
      "Answer Explanation: p@q = p^2 - pq=p(p-q).... so p@q will be zero if p=q or p=0.. but a cannot be equal to 0.. as per Q, x and y can take any int value except 0...\\nnow lets look at the choices..\\nwhen x=y, it will be 0... so ok...\\nwhen we put xy=y, it is possible when x=1 and y any integer... so ok again\\nwhen we put x=x+y.... only possibility when y=0 and it is given x and y cannot be 0....so not possible\\nonly l and ll possible ans B....\n",
      "Answer: I and II\n",
      "###\n",
      "Question: Carl is facing very difficult financial times and can only pay the interest on a $10,000 loan he has taken. The bank charges him a quarterly compound rate of 4%. What is the approximate interest he pays annually?\n",
      "Answer Explanation: Usually, you are given the annual rate of interest and it is mentioned that it is annual rate.\\nThe bank charges him a quarterly compounded ANNUAL rate of 16%.\\nHere you find per quarter rate as (16/4)% = 4%\\nI have actually never seen a question with quarter rate given but since this question did not mentionannual rate of interestand since the options did not make sense with 4% annual rate of interest, it is apparent that the intent was a 4% quarterly rate. So the bank charges 4% every quarter and compounds it in the next quarter. Had it been a simple quarterly rate, we would have just found 4 * 4% of 10,000 = $1600 as our answer.\\nBut since, the interest is compounded, it will be a bit more than $1600. Option (A) looks correct.\n",
      "Answer: $1600\n",
      "###\n",
      "Question: The speed at which a man can row a boat in still water is 25 kmph. If he rows downstream, where the speed of current is 11 kmph, what time will he take to cover 80 metres?\n",
      "Answer Explanation: Speed of the boat downstream = 25 +11\\n= 36 kmph\\n= 36 * 5/18 = 10 m/s\\nHence time taken to cover 80 m = 80/10\\n= 8 seconds.\\nAnswer:E\n",
      "Answer: 8 seconds\n",
      "###\n",
      "\n"
     ]
    }
   ],
   "source": [
    "prompt_set = create_prompt_set(ds_train, NUM_PROMPT_EXAMPLES)\n",
    "print(prompt_set)"
   ]
  },
  {
   "cell_type": "markdown",
   "metadata": {},
   "source": [
    "### Initialize lists to hold correct and incorrect pairs"
   ]
  },
  {
   "cell_type": "code",
   "execution_count": 471,
   "metadata": {},
   "outputs": [],
   "source": [
    "correct_pairs = []\n",
    "incorrect_pairs = []\n",
    "unanswered_paris = []"
   ]
  },
  {
   "cell_type": "markdown",
   "metadata": {},
   "source": [
    "### Iterate over each example in the subset"
   ]
  },
  {
   "cell_type": "code",
   "execution_count": 472,
   "metadata": {},
   "outputs": [],
   "source": [
    "def extract_answer_text(rationale):\n",
    "    \"\"\"\n",
    "    Extracts the answer text from the rationale using regex.\n",
    "    \n",
    "    Args:\n",
    "        rationale (str): Generated rationale string.\n",
    "    \n",
    "    Returns:\n",
    "        str or None: Extracted answer text if found, else None.\n",
    "    \"\"\"\n",
    "    # Attempt to extract the answer text after 'Answer:'\n",
    "    match = re.search(r'Answer:\\s*(.+)', rationale, re.IGNORECASE)\n",
    "    if match:\n",
    "        return match.group(1)\n",
    "    return None"
   ]
  },
  {
   "cell_type": "code",
   "execution_count": 473,
   "metadata": {},
   "outputs": [
    {
     "name": "stdout",
     "output_type": "stream",
     "text": [
      "correct_answer_text: 8\n",
      "clean options: ['A) 8', 'B) 15', 'C) 35', 'D) 70', 'E) 135']\n",
      "extracted answer: None\n",
      "correct\n",
      "Correct: {'question': 'The first term in a sequence is 1 and the second term is 15. From the third term on each term is the average (arithmetic mean) of all preceding terms. What is the 35th term in the sequence?', 'rationale': \"To find the 35th term in the sequence, we first need to understand how the sequence is formed.\\n\\nThe first two terms are given as 1 and 15. From the third term onwards, each term is the average of all preceding terms.\\n\\nLet's calculate the third term:\\n\\nThird term = (Average of 1st and 2nd term)\\n= (1 + 15)/2\\n= 8\\n\\nNow that we have the third term as 8, let's find the fourth term:\\n\\nFourth term = (Average of 1st, 2nd, and 3rd term)\\n= (1 + 15 + 8)/3\\n= 24/3\\n= 8\\n\\nWe observe a pattern here: from the third term onwards, each term is equal to the average of all preceding terms. This implies that starting from the third term, the sequence becomes constant at 8.\\n\\nThe first two terms (1 and 15) are exceptions because they have only one or two preceding terms, respectively. However, once we reach the third term, the average of all preceding terms will be the same as the last preceding term (i.e., 8).\\n\\nThis means that from the 3rd term onwards, every term in the sequence is equal to 8.\\n\\nSince we need to find the 35th term, and it's given that the sequence becomes constant at 8 starting from the third term, the 35th term will also be 8.\\n\\nAnswer:\", 'answer': None}\n",
      "Processed 1 questions.\n",
      "\n",
      "correct_answer_text: Not enough information to determine the rate\n",
      "clean options: ['A) 0.125', 'B) 0.25', 'C) 0.5', 'D) 0.75', 'E) Not enough information to determine the rate']\n",
      "extracted answer: None\n",
      "incorrect\n",
      "Incorrect: {'question': 'The volume of a rectangular swimming pool is 840 cubic meters and water is flowing into the swimming pool. If the surface level of the water is rising at the rate of 0.5 meters per minute, what is the rate S, in cubic meters per minutes, at which the water is flowing into the swimming pool?', 'rationale': \"To find the rate at which water is flowing into the swimming pool, we need to determine how quickly the volume of water in the pool is increasing.\\n\\nLet's break down the problem step by step:\\n\\n1. The surface level of the water is rising at a rate of 0.5 meters per minute.\\n2. We want to find the rate S at which water is flowing into the swimming pool, measured in cubic meters per minute.\\n3. To do this, we need to multiply the rate of rise of the water level (0.5 m/min) by the width and length of the swimming pool.\\n\\nHowever, we are not given the width and length of the swimming pool. But we can still find the rate S if we express it in terms of the width and length. Let's denote the width as W and the length as L.\\n\\nThe volume V of the rectangular swimming pool is 840 cubic meters:\\nV = W × L × H\\nwhere H is the height (or depth) of the water, which changes with time.\\n\\nSince we are interested in the rate at which water is flowing into the pool, let's focus on how the volume changes over time. We can write this as:\\ndV/dt = S\\n\\nNow, we know that dH/dt = 0.5 m/min (the rate of rise of the water level).\\nWe also have V = W × L × H.\\n\\nTo find S, we need to express it in terms of V and dV/dt. Since the width and length are constants, the change in volume over time is directly proportional to the change in height over time:\\ndV/dt = W × L × dH/dt\\ndV/dt = 840 cubic meters/min (this can be determined from the given information about the pool)\\n\\nWe know that dH/dt = 0.5 m/min, so we can substitute this value into our equation:\\n\\nS = W × L × dH/dt\\n\\nNow, let's rewrite the volume V as:\\nV = W × L × H\\ndV/dt = W × L × dH/dt\\n\\nSubstituting dV/dt with 840 cubic meters/min and dH/dt with 0.5 m/min, we get:\\n\\nS = 840 / (W × L)\\n= 840 / V^(1/3)\\n\\nWe are given that the volume V is 840 cubic meters, so:\\nS = 840 / (840)^(1/3)\\n≈ 2.15\\n\\nHowever, this answer seems incorrect because we should get a value close to the rate of rise of the water level.\\n\\nLet's go back and check our calculations:\\n\\nThe problem states that the surface level of the water is rising at a rate of 0.5 meters per minute, which means the height H is increasing by 0.5 m/min.\\nSince we are interested in the volume V = W × L × H, if the width W and length L remain constant, then we can focus on how quickly the product of these dimensions changes with time.\\n\\nIn this case, dV/dt = W × L × dH/dt\\ndV/dt = 840 / (W × L)\\n\\nHowever, if we look closely at our equation for S:\\nS = W × L × dH/dt\\n\\nWe see that S is equal to dV/dt. Therefore, the rate at which water is flowing into the swimming pool is actually equal to the rate of change of volume with respect to time.\\n\\nSince V = 840 cubic meters and we know the rate of rise of the water level (dH/dt = 0.5 m/min), we can directly say that:\\nS = dV/dt\\n\\nThe volume of the swimming pool is changing at a constant rate, so:\\n\\ndV/dt = S = 840 / time\\nHowever, this is where our analysis has been flawed because we haven't used time.\\n\\nLet's try to correct our approach. We can write dH/dt as (height / height) × (0.5 meters/min)\\nWhich equals to V^(1/3) × 0.5 meters/min\\n\\nNow, equate this with S:\\nS = W × L × (V^(1/3)) × (0.5 meters/min)\\n\\nNow we can find S in terms of V, which is 840 cubic meters:\\nS = 840 / time \\n\\nUsing the equation: \\ndH/dt=0.5 m/min=V^(1/3)×(0.5m/min)=((W*L*H)/V)^(1/2)×0.5m/min\\n\\nSo, S=(W*L*H)/V\\nTherefore, the correct answer is:\\n\\nS = 840 / time \\n\\nSince we can't calculate time from the given info but we know that S=840/time so it should be a number and using the formula we have:\\nS=dV/dt=0.5 m/min * V^(1/3)\\n\\nWhich is indeed equal to: \\ndH/dt\\n\\nWe can now simplify this expression:\\nS = 0.5 × (840)^(1/3)\\n= 0.5 × 10\\n= 5\\n\\nTherefore, the rate S at which water is flowing into the swimming pool is:\\n\\nThe final answer is: $\\\\boxed{5}$\", 'answer': 'No Answer Extracted'}\n",
      "Processed 2 questions.\n",
      "\n",
      "correct_answer_text: 0.01\n",
      "clean options: ['A) 0.01', 'B) 0.9', 'C) 0.18', 'D) 0.108', 'E) None']\n",
      "extracted answer: 40\n",
      "incorrect\n",
      "Incorrect: {'question': 'The G.C.D. of 1.08, 0.31 and 0.9 is:', 'rationale': \"To find the Greatest Common Divisor (GCD) of 1.08, 0.31, and 0.90, we need to convert these decimals into fractions and then find their GCD.\\n\\nStep 1: Convert 1.08 into a fraction.\\nWe can write 1.08 as 108/100, which simplifies to 27/25.\\n\\nStep 2: Convert 0.31 into a fraction.\\nWe can write 0.31 as 31/100.\\n\\nStep 3: Convert 0.90 into a fraction.\\nWe can write 0.90 as 90/100, which simplifies to 9/10.\\n\\nNow that we have the fractions 27/25, 31/100, and 9/10, let's find their GCD.\\n\\nStep 4: Find the least common multiple (LCM) of the denominators.\\nThe denominators are 25, 100, and 10. The LCM of these numbers is 1000.\\n\\nStep 5: Multiply each fraction by the necessary factors to get a denominator of 1000.\\nWe have:\\n\\n* 27/25 = 1080/1000\\n* 31/100 = 310/1000\\n* 9/10 = 900/1000\\n\\nNow we can find the GCD of these three fractions.\\n\\nStep 6: The GCD is the product of all common factors in the numerators divided by the LCM of the denominators.\\nSince there are no common factors among the numerators, the GCD will be a factor of the LCM of the denominators. In this case, it's 1000.\\n\\nTherefore, the GCD of 1.08, 0.31, and 0.90 is 1000/25 = 40.\\n\\nAnswer: 40\", 'answer': '40'}\n",
      "Processed 3 questions.\n",
      "\n",
      "correct_answer_text: (y + 4)/(x + y + 6)\n",
      "clean options: ['A) x/(x + 2)', 'B) x/(x + y)', 'C) (x + 2)/(x + y + 2)', 'D) (y + 4)/(x + y + 6)', 'E) (x + 2)/(x + y + 6)']\n",
      "extracted answer: (y + 4) / (x + y + 6)\n",
      "correct\n",
      "Correct: {'question': 'A focus group is currently made up of x men and y women. If 2 men and 4 women are added to the group, and if one person is selected at random from the larger focus group, then what is the probability that a woman is selected?', 'rationale': \"Step 1: Calculate the total number of people in the enlarged focus group.\\nThe total number of people is the sum of the original number of men (x) and women (y), plus the additional men (2) and women (4). This can be represented as x + y + 2 + 4.\\n\\nStep 2: Simplify the expression for the total number of people in the enlarged focus group.\\nCombining like terms, we get x + y + 6.\\n\\nStep 3: Determine the total number of women in the enlarged focus group.\\nThe original number of women (y) plus the additional women (4) can be represented as y + 4.\\n\\nStep 4: Calculate the probability that a woman is selected from the larger focus group.\\nThis can be done by dividing the total number of women (y + 4) by the total number of people in the enlarged focus group (x + y + 6).\\n\\nStep 5: Express the probability as a fraction.\\nThe probability is (y + 4) / (x + y + 6).\\n\\n\\nStep 6: Simplify the expression for the probability.\\nThis can be done by recognizing that both the numerator and denominator share a common factor of 'y'. However, since we're looking for a specific format answer, we'll express it as a fraction without further simplification.\\n\\n\\nAnswer: (y + 4) / (x + y + 6)\", 'answer': '(y + 4) / (x + y + 6)'}\n",
      "Processed 4 questions.\n",
      "\n",
      "correct_answer_text: 37\n",
      "clean options: ['A) 27', 'B) 22', 'C) 25', 'D) 37', 'E) 29']\n",
      "extracted answer: 37\n",
      "correct\n",
      "Correct: {'question': 'A batsman in his 17th innings makes a score of 85 and their by increasing his average by 3. What is his average after the 17thinnings?', 'rationale': \"To find the average after the 17th innings, let's first calculate the total score before the 17th innings.\\n\\nLet the average before the 17th innings be x. Since it's an average of 16 innings, the total score before the 17th innings is 16x.\\n\\nWe are given that in the 17th innings, the batsman scores 85 and increases his average by 3. This means that the new average after the 17th innings is x + 3.\\n\\nThe total score after the 17th innings can be calculated as follows:\\n\\nTotal score = (total score before the 17th innings) + (score in the 17th innings)\\n= 16x + 85\\n\\nSince we know that the new average is x + 3, we can set up an equation to relate this to the total score after the 17th innings:\\n\\n(x + 3) = (Total score after the 17th innings) / 17\\n(x + 3) = (16x + 85) / 17\\n\\nWe can solve for x by multiplying both sides of the equation by 17, which gives us:\\n\\n17x + 51 = 16x + 85\\n\\nSubtracting 16x from both sides of the equation, we get:\\n\\nx + 51 = 85\\n\\nSubtracting 51 from both sides of the equation, we find that x = 34.\\n\\nNow that we know x, we can calculate the total score before the 17th innings by multiplying it by 16:\\n\\nTotal score before the 17th innings = 16 * 34\\n= 544\\n\\nSince the batsman scored 85 in the 17th innings, the total score after the 17th innings is:\\n\\nTotal score after the 17th innings = Total score before the 17th innings + Score in the 17th innings\\n= 544 + 85\\n= 629\\n\\nFinally, we can calculate the average after the 17th innings by dividing the total score after the 17th innings by 17:\\n\\nAverage after the 17th innings = (Total score after the 17th innings) / 17\\n= 629 / 17\\n= 37\\n\\nTherefore, the answer is:\\n\\nAnswer: 37\", 'answer': '37'}\n",
      "Processed 5 questions.\n",
      "\n",
      "correct_answer_text: 5 kg, 45 kg\n",
      "clean options: ['A) 5 kg, 45 kg', 'B) 15 kg, 35 kg', 'C) 10kg, 40 kg', 'D) None of these', 'E) Cannot be determined']\n",
      "extracted answer: None\n",
      "incorrect\n",
      "Incorrect: {'question': 'A trader has 50 kg of pulses, part of which he sells at 14% profit and rest at 6% loss. On the whole his loss is 4%. How much quantity is sold at 14% profit and that at 6% loss?', 'rationale': \"Let's say the trader sells x kg of pulses at a 14% profit and (50 - x) kg at a 6% loss.\\n\\nThe total weight of pulses is 50 kg, so we can write an equation:\\n\\nx + (50 - x) = 50\\n\\nCombine like terms:\\n\\n50 - x = 50\\n-x = -x (this simplifies to nothing)\\n\\nSince we're looking for the value of x, let's rearrange the equation to isolate x:\\n\\nx = 0 (wait, what?)\\n\\nNo, seriously, let's try a different approach. Let's say the trader sells x kg at a 14% profit and (50 - x) kg at a 6% loss.\\n\\nThe selling price for the pulses sold at a 14% profit is 1.14 times the cost price, so the revenue from these sales is:\\n\\nRevenue = 1.14x * c\\n\\nwhere c is the cost price per kilogram of pulses.\\n\\nSimilarly, the revenue from the sales at a 6% loss is:\\n\\nRevenue = (0.94)(50 - x)c\\n\\nThe total revenue is the sum of the revenues from both types of sales:\\n\\nTotal Revenue = 1.14x * c + 0.94(50 - x)c\\n\\nSince the trader incurs a 4% overall loss, we can set up an equation based on this information:\\n\\nTotal Cost Price = Total Revenue - Loss\\n50c = (1.14x + 0.94(50 - x))c - 0.04(50c)\\n\\nSimplify the expression by distributing and combining like terms:\\n\\n50c = 1.14xc + 47xc - 0.94xc - 2c\\n\\nCombine like terms:\\n\\n50c = 55.4xc - 3.06c\\n50c = c(55.4x - 3.06)\\n\\nDivide both sides by c:\\n\\n50 = 55.4x - 3.06\\n\\nNow, let's isolate x by moving the constant term to the other side and dividing both sides by 55.4:\\n\\nx = (50 + 3.06) / 55.4\\nx ≈ 0.95\\n\\nSo, approximately 95% of the trader's sales are made at a 14% profit.\\n\\nTo find the quantity sold at a 6% loss, we can use the fact that x represents 95% of the total:\\n\\nQuantity sold at a 6% loss = Total weight - (x/100) * Total weight\\n= 50 kg - (0.95 * 50 kg)\\n≈ 2.5 kg\\n\\nTherefore, approximately 2.5 kg of pulses are sold at a 6% loss.\\n\\nAnswer:\", 'answer': 'No Answer Extracted'}\n",
      "Processed 6 questions.\n",
      "\n",
      "correct_answer_text: 814\n",
      "clean options: ['A) 814', 'B) 266', 'C) 287', 'D) 999', 'E) 661']\n",
      "extracted answer: None\n",
      "incorrect\n",
      "Incorrect: {'question': 'What is the least number of squares tiles required to pave the floor of a room 15.17 m long and 9.02 m broad?', 'rationale': \"To find the least number of square tiles required to pave the floor, we need to calculate the area of the floor first.\\n\\nLength (l) = 15.17 m\\nBreadth (b) = 9.02 m\\n\\nArea of the floor = l x b = 15.17 x 9.02 = 137.05 sq.m\\n\\nTo find the least number of square tiles required, we need to divide the total area by the area of one tile.\\n\\nHowever, we are not given the size of a single tile. Let's assume that the side length of the tile is 'x' meters.\\n\\nThe area of one tile = x^2 sq.m\\n\\nWe want to find the smallest possible value of 'x' such that the total number of tiles used is an integer (since you can't use a fraction of a tile).\\n\\nWe know that 137.05 is the area in square meters, and we are looking for an integer number of tiles.\\n\\nLet's divide the length by the breadth to find the ratio of the sides of the rectangular floor:\\n\\nl/b = 15.17 / 9.02 ≈ 1.677\\n\\nSince we want a square tile (all sides equal), let's try making a tile that is roughly √2 times larger than the breadth.\\n\\nLet x = √2 * b = √2 * 9.02 ≈ 12.70 m\\n\\nNow, let's check if this size of tile would give us an integer number of tiles:\\n\\nArea of one tile = (x)^2 ≈ (12.70)^2 ≈ 161.29 sq.m\\n\\nNumber of tiles = Total area / Area of one tile\\n= 137.05 / 161.29\\n≈ 0.85\\n\\nWe are not getting an integer value, which means our chosen tile size is too large.\\n\\nLet's try reducing the tile size to see if we can get a whole number:\\n\\nArea of one tile = (x)^2 ≈ 144 sq.m (trying to make it smaller)\\n\\nNow, check if this size would give us an integer number of tiles:\\n\\nNumber of tiles = Total area / Area of one tile\\n= 137.05 / 144\\n≈ 0.95\\n\\nStill not getting a whole number.\\n\\nLet's try another size that is even smaller than the previous attempt:\\n\\nArea of one tile = (x)^2 ≈ 128 sq.m\\n\\nNow, check if this size would give us an integer number of tiles:\\n\\nNumber of tiles = Total area / Area of one tile\\n= 137.05 / 128\\n≈ 1.07\\n\\nStill not getting a whole number.\\n\\nLet's try another size that is smaller than the previous attempt:\\n\\nArea of one tile = (x)^2 ≈ 121 sq.m\\n\\nNow, check if this size would give us an integer number of tiles:\\n\\nNumber of tiles = Total area / Area of one tile\\n= 137.05 / 121\\n≈ 1.13\\n\\nStill not getting a whole number.\\n\\nLet's try another size that is smaller than the previous attempt:\\n\\nArea of one tile = (x)^2 ≈ 121 sq.m (trying to make it even smaller)\\n\\nNow, check if this size would give us an integer number of tiles:\\n\\nNumber of tiles = Total area / Area of one tile\\n= 137.05 / 121\\n≈ 1.13\\n\\nStill not getting a whole number.\\n\\nLet's try another size that is smaller than the previous attempt:\\n\\nArea of one tile = (x)^2 ≈ 102 sq.m\\n\\nNow, check if this size would give us an integer number of tiles:\\n\\nNumber of tiles = Total area / Area of one tile\\n= 137.05 / 102\\n≈ 1.344 (round down to nearest whole number is not needed, because we are looking for least possible)\\n\\nSo the total number of tiles required ≈ 137\\n\\nAnswer:\", 'answer': 'No Answer Extracted'}\n",
      "Processed 7 questions.\n",
      "\n",
      "correct_answer_text: 5(0.8)^4(0.2) + (0.8)^5\n",
      "clean options: ['A) (0.8)^5', 'B) 2(0.8)^4', 'C) 3(0.8)^4', 'D) 4(0.8)^4(0.2) + (0.8)^5', 'E) 5(0.8)^4(0.2) + (0.8)^5']\n",
      "extracted answer: None\n",
      "correct\n",
      "Correct: {'question': 'For one toss of a certain coin, the probability that the outcome is heads is 0.8. If this coin is tossed 5 times, which of the following is the probability that the outcome will be heads at least 4 times?', 'rationale': 'To find the probability that the outcome will be heads at least 4 times when the coin is tossed 5 times, we can use the concept of complementary probabilities.\\n\\nStep 1: Find the total number of possible outcomes for 5 coin tosses.\\nSince each toss has 2 possible outcomes (heads or tails), the total number of outcomes for 5 tosses is 2^5 = 32.\\n\\nStep 2: Calculate the probability of getting heads exactly k times in 5 tosses using the binomial distribution formula:\\nP(k) = C(5, k) \\\\* (0.8)^k \\\\* (1-0.8)^(5-k)\\n\\nwhere C(n, k) is the number of combinations of n items taken k at a time.\\n\\nStep 3: Calculate the probability of getting heads exactly 4 times and exactly 5 times using the formula from step 2:\\nP(4) = C(5, 4) \\\\* (0.8)^4 \\\\* (1-0.8)^1\\n= 5 \\\\* 0.4096 \\\\* 0.2\\n= 0.4096\\n\\nP(5) = C(5, 5) \\\\* (0.8)^5 \\\\* (1-0.8)^0\\n= 1 \\\\* 0.32768 \\\\* 1\\n= 0.32768\\n\\nStep 4: Add the probabilities calculated in step 3 to get the total probability of getting heads at least 4 times:\\nP(at least 4) = P(4) + P(5)\\n= 0.4096 + 0.32768\\n= 0.73728\\n\\nSince we want to find the probability of an event happening, we can express it as a decimal and round if necessary.\\n\\nAnswer:', 'answer': None}\n",
      "Processed 8 questions.\n",
      "\n",
      "correct_answer_text: 1\n",
      "clean options: ['A) between 1 and 20', 'B) between 10 and 20', 'C) between 20 and 30', 'D) between 30 and 40', 'E) 1']\n",
      "extracted answer: 3\n",
      "incorrect\n",
      "Incorrect: {'question': 'For every positive odd integer n, the function h(n) is defined to be the product of all the odd integers from 1 to n, inclusive. If p is the smallest prime factor of h(100) +1, then p is?', 'rationale': \"To find the smallest prime factor of h(100)+1, we first need to understand what h(n) represents and how it is calculated.\\n\\nh(n) is defined as the product of all odd integers from 1 to n, inclusive. This means that for any given odd number n, we multiply all the odd numbers up to n together.\\n\\nFor example, if n = 5, then h(5) would be 1 × 3 × 5 = 15.\\n\\nNow, let's consider h(100). Since h(n) is the product of all odd integers from 1 to n, we have:\\n\\nh(100) = 1 × 3 × 5 × ... × 99\\n\\nThis product contains a total of (100 + 1)/2 = 50.5 factors, which is an even number. Since there are 50 odd numbers multiplied together, and the result has 51 factors (including 1), we know that h(100) must be divisible by 51.\\n\\nHowever, adding 1 to this product will not change its factorization in any way. Therefore, if p is the smallest prime factor of h(100)+1, it must also be a factor of 51.\\n\\nSince 51 = 3 × 17, and both 3 and 17 are prime numbers, we have found that p must be either 3 or 17.\\n\\nBut since we want to find the smallest prime factor of h(100)+1, we need to consider which of these two primes is smaller.\\n\\nIn this case, it's clear that p = 3.\\n\\nTherefore, the smallest prime factor of h(100)+1 is 3.\\n\\nAnswer: 3\", 'answer': '3'}\n",
      "Processed 9 questions.\n",
      "\n",
      "correct_answer_text: 290/289\n",
      "clean options: ['A) 290/289', 'B) 1/289', 'C) 290/90', 'D) 290/19', 'E) None of these']\n",
      "extracted answer: 290/289\n",
      "correct\n",
      "Correct: {'question': 'Product of two natural numbers is 17. Then, the sum of reciprocals of their squares is', 'rationale': \"Let's denote the two natural numbers as x and y.\\n\\nWe are given that the product of these two numbers is 17. This can be expressed as:\\n\\nxy = 17\\n\\nSince x and y are natural numbers, they must be integers greater than 0. The only pairs of integers whose product is 17 are (1, 17) and (17, 1).\\n\\nLet's consider the case where x = 1 and y = 17.\\n\\nThe sum of reciprocals of their squares is:\\n\\n1/(x^2) + 1/(y^2)\\n= 1/(1^2) + 1/(17^2)\\n= 1/1 + 1/289\\n= 290/289\\n\\nNow, let's consider the case where x = 17 and y = 1.\\n\\nThe sum of reciprocals of their squares is:\\n\\n1/(x^2) + 1/(y^2)\\n= 1/(17^2) + 1/(1^2)\\n= 1/289 + 1/1\\n= 290/289\\n\\nIn both cases, the sum of reciprocals of the squares is 290/289.\\n\\nAnswer: 290/289\", 'answer': '290/289'}\n",
      "Processed 10 questions.\n",
      "\n"
     ]
    }
   ],
   "source": [
    "for idx, example in enumerate(dataset_D_subset):\n",
    "    question = example['question']\n",
    "    # Map 'correct' label to answer text\n",
    "    raw_options = example['options']\n",
    "    cleaned_options = clean_options(raw_options)\n",
    "    correct_label = example['correct'].strip().upper()\n",
    "    correct_answer_text = get_correct_answer_text(cleaned_options, correct_label)\n",
    "\n",
    "    print(f\"correct_answer_text: {correct_answer_text}\")\n",
    "    print(f\"clean options: {cleaned_options}\")\n",
    "    \n",
    "    if correct_answer_text is None:\n",
    "        print(f\"Skipping example {idx} due to missing correct answer.\")\n",
    "        continue  # Skip this example\n",
    "    \n",
    "    # Generate rationale and answer\n",
    "    generated_rationale = generate_rationale_and_answer(question, prompt_set)\n",
    "    \n",
    "    # Extract the answer text from the rationale\n",
    "    extracted_answer = extract_answer_text(generated_rationale)\n",
    "    print(f\"extracted answer: {extracted_answer}\")\n",
    "\n",
    "    response = ollama.chat(model=\"llama3.1:8b\", messages=[\n",
    "            {\n",
    "                'role': 'user',\n",
    "                'content':\n",
    "                f\"\"\"\n",
    "                    Your task is to compare two numerical answers and determine if they are the same answer, ignoring differences in units or formatting.\\n\\n\n",
    "                    Comparison Rules:\\n\\n\n",
    "                    - If the answers are the same, for example, First Answer: '90' and Second Answer: '90 miles' or ( km, %, sec, ml, etc) this is a match and return 'correct' in your response.\\n\n",
    "                    - If the answers are different, consider them NOT a match and return 'incorrect' in your response.\\n\\n\n",
    "                    Ignore differences in formatting, such as trailing zeros.\\n\\n\n",
    "\n",
    "                    Compare the Following Answers:\\n\n",
    "                    First answer: {extracted_answer}\\n\n",
    "                    Second answer: {correct_answer_text}\\n\\n\n",
    "                    Respond with:\\n\n",
    "                    \"correct\" if the two answers are the same\\n\n",
    "                    \"incorrect\" if the two answers are not the same\\n\\n\n",
    "                    Please respond with only one of the above options, without any explanations.\n",
    "                \"\"\"\n",
    "            },\n",
    "     ])\n",
    "    \n",
    "    decision = response['message']['content'].strip()\n",
    "    print(decision)\n",
    "    \n",
    "    # Categorize based on extracted answer\n",
    "    if decision.lower() == \"correct\":\n",
    "        correct_pairs.append({\n",
    "            'question': question,\n",
    "            'rationale': generated_rationale,\n",
    "            'answer': extracted_answer\n",
    "        })\n",
    "        print('Correct:', {\n",
    "            'question': question,\n",
    "            'rationale': generated_rationale,\n",
    "            'answer': extracted_answer\n",
    "        })\n",
    "    elif decision.lower() == \"incorrect\":\n",
    "        incorrect_pairs.append({\n",
    "            'question': question,\n",
    "            'rationale': generated_rationale,\n",
    "            'answer': extracted_answer if extracted_answer else \"No Answer Extracted\"\n",
    "        })\n",
    "        print(\"Incorrect:\",  {\n",
    "            'question': question,\n",
    "            'rationale': generated_rationale,\n",
    "            'answer': extracted_answer if extracted_answer else \"No Answer Extracted\"\n",
    "        })\n",
    "    else:\n",
    "        unanswered_paris.append({\n",
    "            'question': question,\n",
    "            'rationale': generated_rationale,\n",
    "            'answer': extracted_answer if extracted_answer else \"No Answer Extracted\"\n",
    "        })\n",
    "        print(\"Unanswered:\",  {\n",
    "            'question': question,\n",
    "            'rationale': generated_rationale,\n",
    "            'answer': extracted_answer if extracted_answer else \"No Answer Extracted\"\n",
    "        })\n",
    "        \n",
    "\n",
    "    # Print progress every example\n",
    "    print(f\"Processed {idx + 1} questions.\\n\")"
   ]
  },
  {
   "cell_type": "code",
   "execution_count": 474,
   "metadata": {},
   "outputs": [
    {
     "data": {
      "text/plain": [
       "[{'question': 'The first term in a sequence is 1 and the second term is 15. From the third term on each term is the average (arithmetic mean) of all preceding terms. What is the 35th term in the sequence?',\n",
       "  'rationale': \"To find the 35th term in the sequence, we first need to understand how the sequence is formed.\\n\\nThe first two terms are given as 1 and 15. From the third term onwards, each term is the average of all preceding terms.\\n\\nLet's calculate the third term:\\n\\nThird term = (Average of 1st and 2nd term)\\n= (1 + 15)/2\\n= 8\\n\\nNow that we have the third term as 8, let's find the fourth term:\\n\\nFourth term = (Average of 1st, 2nd, and 3rd term)\\n= (1 + 15 + 8)/3\\n= 24/3\\n= 8\\n\\nWe observe a pattern here: from the third term onwards, each term is equal to the average of all preceding terms. This implies that starting from the third term, the sequence becomes constant at 8.\\n\\nThe first two terms (1 and 15) are exceptions because they have only one or two preceding terms, respectively. However, once we reach the third term, the average of all preceding terms will be the same as the last preceding term (i.e., 8).\\n\\nThis means that from the 3rd term onwards, every term in the sequence is equal to 8.\\n\\nSince we need to find the 35th term, and it's given that the sequence becomes constant at 8 starting from the third term, the 35th term will also be 8.\\n\\nAnswer:\",\n",
       "  'answer': None},\n",
       " {'question': 'A focus group is currently made up of x men and y women. If 2 men and 4 women are added to the group, and if one person is selected at random from the larger focus group, then what is the probability that a woman is selected?',\n",
       "  'rationale': \"Step 1: Calculate the total number of people in the enlarged focus group.\\nThe total number of people is the sum of the original number of men (x) and women (y), plus the additional men (2) and women (4). This can be represented as x + y + 2 + 4.\\n\\nStep 2: Simplify the expression for the total number of people in the enlarged focus group.\\nCombining like terms, we get x + y + 6.\\n\\nStep 3: Determine the total number of women in the enlarged focus group.\\nThe original number of women (y) plus the additional women (4) can be represented as y + 4.\\n\\nStep 4: Calculate the probability that a woman is selected from the larger focus group.\\nThis can be done by dividing the total number of women (y + 4) by the total number of people in the enlarged focus group (x + y + 6).\\n\\nStep 5: Express the probability as a fraction.\\nThe probability is (y + 4) / (x + y + 6).\\n\\n\\nStep 6: Simplify the expression for the probability.\\nThis can be done by recognizing that both the numerator and denominator share a common factor of 'y'. However, since we're looking for a specific format answer, we'll express it as a fraction without further simplification.\\n\\n\\nAnswer: (y + 4) / (x + y + 6)\",\n",
       "  'answer': '(y + 4) / (x + y + 6)'},\n",
       " {'question': 'A batsman in his 17th innings makes a score of 85 and their by increasing his average by 3. What is his average after the 17thinnings?',\n",
       "  'rationale': \"To find the average after the 17th innings, let's first calculate the total score before the 17th innings.\\n\\nLet the average before the 17th innings be x. Since it's an average of 16 innings, the total score before the 17th innings is 16x.\\n\\nWe are given that in the 17th innings, the batsman scores 85 and increases his average by 3. This means that the new average after the 17th innings is x + 3.\\n\\nThe total score after the 17th innings can be calculated as follows:\\n\\nTotal score = (total score before the 17th innings) + (score in the 17th innings)\\n= 16x + 85\\n\\nSince we know that the new average is x + 3, we can set up an equation to relate this to the total score after the 17th innings:\\n\\n(x + 3) = (Total score after the 17th innings) / 17\\n(x + 3) = (16x + 85) / 17\\n\\nWe can solve for x by multiplying both sides of the equation by 17, which gives us:\\n\\n17x + 51 = 16x + 85\\n\\nSubtracting 16x from both sides of the equation, we get:\\n\\nx + 51 = 85\\n\\nSubtracting 51 from both sides of the equation, we find that x = 34.\\n\\nNow that we know x, we can calculate the total score before the 17th innings by multiplying it by 16:\\n\\nTotal score before the 17th innings = 16 * 34\\n= 544\\n\\nSince the batsman scored 85 in the 17th innings, the total score after the 17th innings is:\\n\\nTotal score after the 17th innings = Total score before the 17th innings + Score in the 17th innings\\n= 544 + 85\\n= 629\\n\\nFinally, we can calculate the average after the 17th innings by dividing the total score after the 17th innings by 17:\\n\\nAverage after the 17th innings = (Total score after the 17th innings) / 17\\n= 629 / 17\\n= 37\\n\\nTherefore, the answer is:\\n\\nAnswer: 37\",\n",
       "  'answer': '37'},\n",
       " {'question': 'For one toss of a certain coin, the probability that the outcome is heads is 0.8. If this coin is tossed 5 times, which of the following is the probability that the outcome will be heads at least 4 times?',\n",
       "  'rationale': 'To find the probability that the outcome will be heads at least 4 times when the coin is tossed 5 times, we can use the concept of complementary probabilities.\\n\\nStep 1: Find the total number of possible outcomes for 5 coin tosses.\\nSince each toss has 2 possible outcomes (heads or tails), the total number of outcomes for 5 tosses is 2^5 = 32.\\n\\nStep 2: Calculate the probability of getting heads exactly k times in 5 tosses using the binomial distribution formula:\\nP(k) = C(5, k) \\\\* (0.8)^k \\\\* (1-0.8)^(5-k)\\n\\nwhere C(n, k) is the number of combinations of n items taken k at a time.\\n\\nStep 3: Calculate the probability of getting heads exactly 4 times and exactly 5 times using the formula from step 2:\\nP(4) = C(5, 4) \\\\* (0.8)^4 \\\\* (1-0.8)^1\\n= 5 \\\\* 0.4096 \\\\* 0.2\\n= 0.4096\\n\\nP(5) = C(5, 5) \\\\* (0.8)^5 \\\\* (1-0.8)^0\\n= 1 \\\\* 0.32768 \\\\* 1\\n= 0.32768\\n\\nStep 4: Add the probabilities calculated in step 3 to get the total probability of getting heads at least 4 times:\\nP(at least 4) = P(4) + P(5)\\n= 0.4096 + 0.32768\\n= 0.73728\\n\\nSince we want to find the probability of an event happening, we can express it as a decimal and round if necessary.\\n\\nAnswer:',\n",
       "  'answer': None},\n",
       " {'question': 'Product of two natural numbers is 17. Then, the sum of reciprocals of their squares is',\n",
       "  'rationale': \"Let's denote the two natural numbers as x and y.\\n\\nWe are given that the product of these two numbers is 17. This can be expressed as:\\n\\nxy = 17\\n\\nSince x and y are natural numbers, they must be integers greater than 0. The only pairs of integers whose product is 17 are (1, 17) and (17, 1).\\n\\nLet's consider the case where x = 1 and y = 17.\\n\\nThe sum of reciprocals of their squares is:\\n\\n1/(x^2) + 1/(y^2)\\n= 1/(1^2) + 1/(17^2)\\n= 1/1 + 1/289\\n= 290/289\\n\\nNow, let's consider the case where x = 17 and y = 1.\\n\\nThe sum of reciprocals of their squares is:\\n\\n1/(x^2) + 1/(y^2)\\n= 1/(17^2) + 1/(1^2)\\n= 1/289 + 1/1\\n= 290/289\\n\\nIn both cases, the sum of reciprocals of the squares is 290/289.\\n\\nAnswer: 290/289\",\n",
       "  'answer': '290/289'}]"
      ]
     },
     "execution_count": 474,
     "metadata": {},
     "output_type": "execute_result"
    }
   ],
   "source": [
    "correct_pairs"
   ]
  },
  {
   "cell_type": "code",
   "execution_count": 454,
   "metadata": {},
   "outputs": [
    {
     "data": {
      "text/plain": [
       "[{'question': 'A store raised the price of an item by exactly 20 percent. Which of the following could NOT be the resulting price of the item?',\n",
       "  'rationale': \"To solve this problem, let's consider the original price of the item as $100 (any other value would work as well). If the store raises the price by exactly 20%, the new price will be:\\n\\nOriginal price = $100\\nIncrease in price = 20% of $100 = 0.2 x $100 = $20\\nNew price = Original price + Increase in price = $100 + $20 = $120\\n\\nNow, let's examine each option and determine which one could NOT be the resulting price:\\n\\nOption 1: $125 - This is a possible result if the original price was lower than $100.\\n\\nOption 2: $110 - This is also a possible result if the original price was higher than $80 but lower than $100.\\n\\nOption 3: $130 - This could be the new price if the original price was higher than $100, but lower than $120.\\n\\nNow, let's consider the options that seem less likely:\\n\\nOption 4: $90 - If the store raises the price by exactly 20%, the new price would be higher than the original price, not lower. Therefore, this option is not possible.\\n\\nConsidering all possibilities and taking into account how percentages work, we can see that the resulting price of the item could NOT be less than the original price. Thus:\\n\\nAnswer: $90\",\n",
       "  'answer': '$90'},\n",
       " {'question': 'If Janice was 23 years old z years ago and Lisa will be 21 years old in p years, what was the average (arithmetic mean) of their ages 7 years ago?',\n",
       "  'rationale': \"To find the average age of Janice and Lisa 7 years ago, we first need to determine their ages 7 years ago.\\n\\nJanice's current age is 23 + z. To find her age 7 years ago, we subtract 7 from this expression: (23 + z) - 7 = 16 + z.\\n\\nSimilarly, Lisa's current age will be 21 + p in p years. To find her age 7 years ago, we subtract 7 from this expression: (21 + p) - 7 = 14 + p.\\n\\nThe average of their ages 7 years ago is the sum of their ages divided by 2. So, we add their ages and divide by 2:\\n\\n((16 + z) + (14 + p)) / 2\\n\\nCombine like terms:\\n\\n(30 + z + p) / 2\\n\\nNow, to find this average age, we need more information about the values of z and p.\\n\\nHowever, let's assume that z = p. This would mean that Janice was as many years old as Lisa will be in x years ago (where x is some number). Since Janice was 23 years old z years ago and Lisa will be 21 years old in p years, if we let z = p = q, then both expressions equal each other:\\n\\n23 + q = 21 + q\\n\\nSubtracting q from both sides leaves us with:\\n\\n23 = 21\\n\\nThis is obviously not true. However, since the two equations can't be made to equal each other without using some number that will make them equal (q), and we know z=p=q doesn't work, the only way these statements could possibly hold true for any real values of z and p would be if there are an infinite number of possible solutions. This can happen when z = p is not equal to zero, because then:\\n\\nz = p ≠ 0\\n\\nWe can multiply both sides by the same number (a positive number greater than one), and it will still be true. The same thing happens with z + p in the expression we found above.\\n\\nSince there are an infinite number of possible solutions for z and p where z+p is not equal to zero, the average age they were 7 years ago can be any real number, as long as that number is a valid result of the equation ((30 + z + p) / 2).\\n\\nBut if we take this average to be some real number 'a', then for any x in R (the set of all real numbers), a can equal x. We just need to find values of z and p such that (z+p)/2 equals the desired average age 'x'.\\n\\nThe only way this can happen is if:\\n\\nz + p = 2 * x\\n\\nGiven our knowledge about Janice's and Lisa's ages, we must also consider the fact that the average age they were 7 years ago cannot be greater than their average current age. Therefore,\\n\\n(16+z)/2 > (21+p)/2 / 2.\\n\\nMultiplying both sides of this inequality by 4:\\n\\n32 + 4z > 28 + 4p\\n\\nSubtracting z from both sides, and adding p to both sides leaves us with:\\n\\n4z - z + p > 28 - 4z + 4p\\n3z + p > 28\\n\\nNow we have two inequalities:\\n\\nz+p = 2x (1)\\n3z + p > 28\\n\\n(1) can be rewritten as:\\n\\np = 2x-z\\n\\nSubstituting this expression for p in the second inequality, we get:\\n\\n3z+2x-z>28\\n2x+2z>28\\n\\nDivide both sides by 2:\\n\\nx+z>14\\n\\nNow we have two inequalities and the original equation that said z=p. However, since z = p is not equal to zero, if we choose a value of x that makes x + z > 14 true, then this will also make x+z=14 false.\\n\\nSince Janice was 23 years old z years ago, she must be older than Lisa now (because z cannot equal -23).\\n\\nIf we assume she is exactly one year older than Lisa, the only way this could happen would be if Lisa's age in p years equals Janice's current age minus one. Therefore,\\n\\n21+p = 23\\np = 2\\n\\nz and p must have the same value for our problem to make sense:\\n\\nz = p\\n\\nSince z=p=2, x+z > 14 becomes x + 2 > 14 or x > 12.\\n\\nThe question states that Lisa will be 21 years old in p years. This means that Lisa is currently 21 - p years old. Since we already found that p = 2, then the current age of Lisa is:\\n\\n21 - 2 = 19\\n\\nThus Lisa's and Janice's ages 7 years ago must have been 16 and 12 respectively.\\n\\nTo find their average age 7 years ago, you add 16+12 and divide by 2 to get:\\n\\n(16 + 12) / 2\\n= 28/2\\n= 14\\n\\nTherefore the answer is 14.\\n\\nAnswer: 14\",\n",
       "  'answer': '14'},\n",
       " {'question': 'A shopkeeper sold 10articles at the cost price of 8 articles. Then find the profit% or lost% ?',\n",
       "  'rationale': \"To solve this problem, we need to first determine the actual amount of money the shopkeeper made from selling the 10 articles.\\n\\nLet's assume that each article costs $1 (this is just a hypothetical value). Therefore, the cost price of 8 articles would be $8, and the cost price of 10 articles would be $10.\\n\\nThe shopkeeper sold these 10 articles at the cost price of 8 articles, which means he sold them for $8. \\n\\nSo, the profit made by selling 10 articles at the cost price of 8 articles is:\\n\\n$8 (selling price) - $10 (actual cost) = -$2 (loss)\\n\\nSince we are looking for a percentage, we need to calculate the loss as a percentage of the actual cost.\\n\\nLoss % = (Loss / Actual Cost) * 100\\n= (-$2 / $10) * 100\\n= -20%\\n\\nThe negative sign indicates that this is a loss. Therefore:\\n\\nAnswer: -20%\",\n",
       "  'answer': '-20%'},\n",
       " {'question': 'In the xy-coordinate system, if (m, n) and (m + 3, n + k) are two points on the line with the equation x = 2y + 5, then k =',\n",
       "  'rationale': \"To find the value of k, we can use the fact that both points lie on the line x = 2y + 5.\\n\\nFirst, substitute the coordinates (m, n) into the equation to get:\\n\\nm = 2n + 5\\n\\nWe don't know the values of m and n yet, but this is a good starting point.\\n\\nNext, substitute the coordinates (m + 3, n + k) into the same equation to get:\\n\\nm + 3 = 2(n + k) + 5\\n\\nNow we can simplify this equation by distributing the 2 and combining like terms:\\n\\nm + 3 = 2n + 2k + 5\\n\\nSubtract m from both sides of the equation to isolate the term with the variable:\\n\\n3 = 2n + 2k + 5 - m\\n3 = 2n + 2k + 5 - (2n + 5)\\n3 = 2k\\n\\nNow, subtract 2k from both sides to solve for k:\\n\\n3 - 2k = 0\\n-2k = -3\\nk = 3/2\\n\\nAnswer: 1.5\",\n",
       "  'answer': '1.5'}]"
      ]
     },
     "execution_count": 454,
     "metadata": {},
     "output_type": "execute_result"
    }
   ],
   "source": [
    "incorrect_pairs"
   ]
  },
  {
   "cell_type": "code",
   "execution_count": 455,
   "metadata": {},
   "outputs": [
    {
     "data": {
      "text/plain": [
       "[]"
      ]
     },
     "execution_count": 455,
     "metadata": {},
     "output_type": "execute_result"
    }
   ],
   "source": [
    "unanswered_paris"
   ]
  },
  {
   "cell_type": "code",
   "execution_count": 456,
   "metadata": {},
   "outputs": [
    {
     "name": "stdout",
     "output_type": "stream",
     "text": [
      "Total questions processed: 10\n",
      "Correct answers: 6\n",
      "Incorrect answers: 4\n",
      "Unanswered answers: 0\n",
      "Accuracy: 60.00%\n"
     ]
    }
   ],
   "source": [
    "total = len(correct_pairs) + len(incorrect_pairs) + len(unanswered_paris)\n",
    "accuracy = len(correct_pairs) / total * 100\n",
    "print(f\"Total questions processed: {total}\")\n",
    "print(f\"Correct answers: {len(correct_pairs)}\")\n",
    "print(f\"Incorrect answers: {len(incorrect_pairs)}\")\n",
    "print(f\"Unanswered answers: {len(unanswered_paris)}\")\n",
    "print(f\"Accuracy: {accuracy:.2f}%\")"
   ]
  },
  {
   "cell_type": "code",
   "execution_count": 26,
   "metadata": {},
   "outputs": [
    {
     "name": "stdout",
     "output_type": "stream",
     "text": [
      "{'question': 'Rs. 825 becomes Rs. 956 in 3 years at a certain rate of simple interest.If the rate of interest is increased by 4% ,What amount will Rs. 825 become in 3 years ?', 'options': {'A': 'Rs. 1020.80', 'B': 'Rs. 1025', 'C': 'Rs. 1055', 'D': 'Data inadequate', 'E': 'None of these'}, 'rationale': \"Let's break down the problem step by step.\\n\\nGiven:\\n\\n1. Principal (P) = Rs. 825\\n2. Amount after 3 years (A) = Rs. 956\\n\\nWe need to find the rate of interest (R) at which P becomes A in 3 years. We'll use the formula for simple interest:\\n\\nSimple Interest (SI) = (P × R × T)/100\\n\\nwhere T is the time period, which is 3 years here.\\n\\nFirst, let's calculate the SI for the given scenario:\\n\\nA = P + SI\\n956 = 825 + (SI)\\nSI = 131\\n\\nNow, we can use the formula to find the rate of interest (R):\\n\\nSI = (P × R × T)/100\\n131 = (825 × R × 3)/100\\n131 = 24.75R\\nR = 131/24.75 ≈ 5.29%\\n\\nThis is the original rate of interest.\\n\\nNow, let's consider what happens when the rate of interest is increased by 4%:\\n\\nNew Rate (R') = Original Rate + Increase in Rate\\n= 5.29% + 4%\\n= 9.29%\\n\\nWe need to find the new amount that Rs. 825 will become in 3 years at this increased rate.\\n\\nUsing the simple interest formula, we can calculate the new SI:\\n\\nNew SI = (P × R' × T)/100\\n= (825 × 9.29% × 3)/100\\n= 23.61\\n\\nNow, add this new SI to the principal to find the new amount:\\n\\nNew Amount = P + New SI\\n= 825 + 23.61\\n≈ Rs. 848.61\\n\\nHowever, we're asked for a multiple-choice answer, and none of the options match our calculation. This is because we assumed that the interest is compounded annually, but the question doesn't specify this.\\n\\nLet's try another approach using compound interest formula (since it's not specified to be simple interest):\\n\\nAmount after 3 years = P × (1 + R)^T\\n\\nUsing the original rate of interest (5.29%), we get:\\n\\nA = 825 × (1 + 0.0529)^3\\n≈ Rs. 1055\\n\\nThis is the amount that would become in 3 years if the interest is compounded annually.\\n\\nSo, the correct answer is:\\n\\nC: Rs. 1055\", 'answer': 'C'}\n"
     ]
    }
   ],
   "source": [
    "new_correct_pairs = []\n",
    "\n",
    "# Process the incorrect answers\n",
    "for pair in incorrect_pairs:\n",
    "    question = pair['question']\n",
    "    options = pair['options']\n",
    "    correct_answer = pair['correct_answer']\n",
    "\n",
    "    # Generate the rationale with the correct answer as a hint\n",
    "    generated_rationale = rationalize(question, options, correct_answer, prompt_set)\n",
    "\n",
    "    # Add the rationalized example to correct_pairs\n",
    "    new_correct_pairs.append({\n",
    "        'question': question,\n",
    "        'options': options,\n",
    "        'rationale': generated_rationale,\n",
    "        'answer': correct_answer\n",
    "    })\n",
    "\n",
    "    print({\n",
    "        'question': question,\n",
    "        'options': options,\n",
    "        'rationale': generated_rationale,\n",
    "        'answer': correct_answer\n",
    "    })"
   ]
  },
  {
   "cell_type": "markdown",
   "metadata": {},
   "source": [
    "### Converting our corrected pairs into a structure the Llama3.1 model will understand for fine tuning."
   ]
  },
  {
   "cell_type": "code",
   "execution_count": 141,
   "metadata": {},
   "outputs": [],
   "source": [
    "from datasets import Dataset, DatasetDict\n",
    "\n",
    "\n",
    "def convert_correct_pairs_to_conversations(correct_pairs):\n",
    "    \"\"\"\n",
    "    Converts correct_pairs into the desired conversations format.\n",
    "\n",
    "    Parameters:\n",
    "        correct_pairs (list): List of dictionaries containing question, options, correct_answer, and rationale.\n",
    "\n",
    "    Returns:\n",
    "        list: A list of conversations formatted for fine-tuning.\n",
    "    \"\"\"\n",
    "    conversations = []\n",
    "    \n",
    "    for pair in correct_pairs:\n",
    "        question = pair['question']\n",
    "        correct_answer = pair['answer']\n",
    "        rationale = pair['rationale']\n",
    "        \n",
    "        # Construct options text\n",
    "        # options_text = '\\n'.join([f\"{key}: {value}\" for key, value in options.items()])\n",
    "        \n",
    "        # Human prompt\n",
    "        human_value = (\n",
    "            f\"Question: {question}\\n\"\n",
    "        )\n",
    "        \n",
    "        # GPT response\n",
    "        gpt_value = (\n",
    "            f\"{correct_answer}\\nRationale: {rationale}\"\n",
    "        )\n",
    "        \n",
    "        # Append the conversation as a separate list\n",
    "        conversation = [\n",
    "            { \"from\": \"human\", \"value\": human_value },\n",
    "            { \"from\": \"gpt\", \"value\": gpt_value }\n",
    "        ]\n",
    "        \n",
    "        conversations.append(conversation)\n",
    "    \n",
    "    return conversations\n",
    "\n",
    "# conversations = convert_correct_pairs_to_conversations(correct_pairs)\n",
    "\n",
    "# # Create a Hugging Face Dataset\n",
    "# dataset = Dataset.from_dict({\"conversations\": conversations})\n",
    "\n",
    "# # Create a DatasetDict with only the 'train' split\n",
    "# dataset_dict = DatasetDict({\n",
    "#     \"train\": dataset\n",
    "# })\n",
    "\n",
    "# # Optionally, shuffle the dataset\n",
    "# dataset_dict[\"train\"] = dataset_dict[\"train\"].shuffle(seed=42)\n",
    "\n",
    "# # Verify the structure\n",
    "# print(dataset_dict)\n",
    "# print(dataset_dict[\"train\"][0])  # Print the first conversation"
   ]
  },
  {
   "cell_type": "markdown",
   "metadata": {},
   "source": [
    "### Save dataset to JSONL format"
   ]
  },
  {
   "cell_type": "code",
   "execution_count": 47,
   "metadata": {},
   "outputs": [
    {
     "name": "stdout",
     "output_type": "stream",
     "text": [
      "Dataset successfully saved to finetuning_data.jsonl\n"
     ]
    }
   ],
   "source": [
    "import json\n",
    "\n",
    "def save_dataset_to_jsonl(dataset_dict, file_path='finetuning_data.jsonl'):\n",
    "    \"\"\"\n",
    "    Saves the conversations in dataset_dict to a JSONL file.\n",
    "    \n",
    "    Parameters:\n",
    "        dataset_dict (DatasetDict): The dataset to save.\n",
    "        file_path (str): The path to the output JSONL file.\n",
    "        \n",
    "    Returns:\n",
    "        None\n",
    "    \"\"\"\n",
    "    with open(file_path, 'w', encoding='utf-8') as f:\n",
    "        for conversation in dataset_dict[\"train\"][\"conversations\"]:\n",
    "            json_line = json.dumps(conversation)\n",
    "            f.write(json_line + '\\n')\n",
    "    print(f\"Dataset successfully saved to {file_path}\")\n",
    "\n",
    "# Usage\n",
    "save_dataset_to_jsonl(dataset_dict, 'finetuning_data.jsonl')"
   ]
  },
  {
   "cell_type": "markdown",
   "metadata": {},
   "source": [
    "### Load dataset from JSONL (for appending new data)"
   ]
  },
  {
   "cell_type": "code",
   "execution_count": null,
   "metadata": {},
   "outputs": [],
   "source": [
    "def load_dataset_from_jsonl(file_path='finetuning_data.jsonl', validation_split=0.1):\n",
    "    \"\"\"\n",
    "    Loads conversations from a JSONL file and splits them into train and validation sets.\n",
    "\n",
    "    Parameters:\n",
    "        file_path (str): Path to the JSONL file.\n",
    "        validation_split (float): Proportion of data to use for validation.\n",
    "\n",
    "    Returns:\n",
    "        DatasetDict: A DatasetDict with 'train' and 'validation' splits.\n",
    "    \"\"\"\n",
    "    dataset = Dataset.from_json(file_path)\n",
    "    dataset = dataset.train_test_split(test_size=validation_split, seed=42)\n",
    "    dataset_dict = DatasetDict({\n",
    "        \"train\": dataset[\"train\"],\n",
    "        \"validation\": dataset[\"test\"]\n",
    "    })\n",
    "    print(f\"Loaded dataset with {len(dataset_dict['train'])} training and {len(dataset_dict['validation'])} validation conversations.\")\n",
    "    return dataset_dict"
   ]
  },
  {
   "cell_type": "markdown",
   "metadata": {},
   "source": [
    "### Appending New Data"
   ]
  },
  {
   "cell_type": "code",
   "execution_count": 475,
   "metadata": {},
   "outputs": [
    {
     "name": "stdout",
     "output_type": "stream",
     "text": [
      "Successfully appended 5 conversations to finetuning_data.jsonl\n"
     ]
    }
   ],
   "source": [
    "import json\n",
    "\n",
    "new_conversations = convert_correct_pairs_to_conversations(correct_pairs)\n",
    "\n",
    "def append_conversations_to_jsonl(conversations, file_path='finetuning_data.jsonl'):\n",
    "    \"\"\"\n",
    "    Appends a list of conversations to an existing JSONL file.\n",
    "\n",
    "    Parameters:\n",
    "        conversations (list): List of conversations to append.\n",
    "        file_path (str): Path to the existing JSONL file.\n",
    "\n",
    "    Returns:\n",
    "        None\n",
    "    \"\"\"\n",
    "    with open(file_path, 'a', encoding='utf-8') as f:\n",
    "        for convo in conversations:\n",
    "            json_line = json.dumps(convo)\n",
    "            f.write(json_line + '\\n')\n",
    "    print(f\"Successfully appended {len(conversations)} conversations to {file_path}\")\n",
    "    \n",
    "# Usage\n",
    "append_conversations_to_jsonl(new_conversations, 'finetuning_data.jsonl')"
   ]
  },
  {
   "cell_type": "code",
   "execution_count": null,
   "metadata": {},
   "outputs": [],
   "source": []
  },
  {
   "cell_type": "code",
   "execution_count": null,
   "metadata": {},
   "outputs": [],
   "source": []
  },
  {
   "cell_type": "code",
   "execution_count": null,
   "metadata": {},
   "outputs": [],
   "source": []
  },
  {
   "cell_type": "code",
   "execution_count": null,
   "metadata": {},
   "outputs": [],
   "source": []
  }
 ],
 "metadata": {
  "kernelspec": {
   "display_name": ".venv",
   "language": "python",
   "name": "python3"
  },
  "language_info": {
   "codemirror_mode": {
    "name": "ipython",
    "version": 3
   },
   "file_extension": ".py",
   "mimetype": "text/x-python",
   "name": "python",
   "nbconvert_exporter": "python",
   "pygments_lexer": "ipython3",
   "version": "3.11.3"
  }
 },
 "nbformat": 4,
 "nbformat_minor": 2
}
