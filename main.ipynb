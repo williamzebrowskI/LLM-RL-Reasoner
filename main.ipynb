{
 "cells": [
  {
   "cell_type": "code",
   "execution_count": 2,
   "metadata": {},
   "outputs": [],
   "source": [
    "import re\n",
    "import ollama\n",
    "from src.data_loading import load_data\n",
    "from src.parsing import parse_options\n",
    "from src.rationale_generation import generate_rationale_and_answer\n",
    "from src.utils import is_rationale_correct\n",
    "from src.rationalization import rationalize\n",
    "from src.prompt_generation import create_prompt_examples, create_prompt_set"
   ]
  },
  {
   "cell_type": "code",
   "execution_count": 3,
   "metadata": {},
   "outputs": [],
   "source": [
    "NUM_PROMPT_EXAMPLES = 10 #\n",
    "NUM_EXAMPLES_TO_PROCESS = 5 #number of examples to process"
   ]
  },
  {
   "cell_type": "markdown",
   "metadata": {},
   "source": [
    "### Load Dataset"
   ]
  },
  {
   "cell_type": "code",
   "execution_count": 4,
   "metadata": {},
   "outputs": [],
   "source": [
    "ds_train = load_data()\n",
    "\n",
    "dataset_D = ds_train.select(range(NUM_PROMPT_EXAMPLES, len(ds_train)))\n",
    "dataset_D_subset = dataset_D.select(range(NUM_EXAMPLES_TO_PROCESS))"
   ]
  },
  {
   "cell_type": "markdown",
   "metadata": {},
   "source": [
    "### Create prompt examples"
   ]
  },
  {
   "cell_type": "code",
   "execution_count": 5,
   "metadata": {},
   "outputs": [
    {
     "data": {
      "text/plain": [
       "[{'question': \"Two friends plan to walk along a 43-km trail, starting at opposite ends of the trail at the same time. If Friend P's rate is 15% faster than Friend Q's, how many kilometers will Friend P have walked when they pass each other?\",\n",
       "  'options': ['A)21', 'B)21.5', 'C)22', 'D)22.5', 'E)23'],\n",
       "  'rationale': 'If Q complete x kilometers, then P completes 1.15x kilometers.\\nx + 1.15x = 43\\n2.15x=43\\nx = 43/2.15 = 20\\nThen P will have have walked 1.15*20=23 km.\\nThe answer is E.',\n",
       "  'answer': 'E'},\n",
       " {'question': 'In the coordinate plane, points (x, 1) and (5, y) are on line k. If line k passes through the origin and has slope 1/5, then what are the values of x and y respectively?',\n",
       "  'options': ['A)4 and 1', 'B)1 and 5', 'C)5 and 1', 'D)3 and 5', 'E)5 and 3'],\n",
       "  'rationale': 'Line k passes through the origin and has slope 1/5 means that its equation is y=1/5*x.\\nThus: (x, 1)=(5, 1) and (5, y) = (5,1) -->x=5 and y=1\\nAnswer: C',\n",
       "  'answer': 'C'},\n",
       " {'question': 'For all numbers p and q, the operation @ is defined by p@q = p^2 - pq. If xy ≠ 0, then which of the following can be equal to zero?\\nI. x@y\\nII. (xy)@y\\nIII. x@(x + y)',\n",
       "  'options': ['A)II',\n",
       "   'B)I and II',\n",
       "   'C)I and III',\n",
       "   'D)II and III',\n",
       "   'E)All of the above'],\n",
       "  'rationale': 'p@q = p^2 - pq=p(p-q).... so p@q will be zero if p=q or p=0.. but a cannot be equal to 0.. as per Q, x and y can take any int value except 0...\\nnow lets look at the choices..\\nwhen x=y, it will be 0... so ok...\\nwhen we put xy=y, it is possible when x=1 and y any integer... so ok again\\nwhen we put x=x+y.... only possibility when y=0 and it is given x and y cannot be 0....so not possible\\nonly l and ll possible ans B....',\n",
       "  'answer': 'B'},\n",
       " {'question': 'Carl is facing very difficult financial times and can only pay the interest on a $10,000 loan he has taken. The bank charges him a quarterly compound rate of 4%. What is the approximate interest he pays annually?',\n",
       "  'options': ['A)$1600', 'B)$2000', 'C)$2150', 'D)$2500', 'E)$12000'],\n",
       "  'rationale': 'Usually, you are given the annual rate of interest and it is mentioned that it is annual rate.\\nThe bank charges him a quarterly compounded ANNUAL rate of 16%.\\nHere you find per quarter rate as (16/4)% = 4%\\nI have actually never seen a question with quarter rate given but since this question did not mentionannual rate of interestand since the options did not make sense with 4% annual rate of interest, it is apparent that the intent was a 4% quarterly rate. So the bank charges 4% every quarter and compounds it in the next quarter. Had it been a simple quarterly rate, we would have just found 4 * 4% of 10,000 = $1600 as our answer.\\nBut since, the interest is compounded, it will be a bit more than $1600. Option (A) looks correct.',\n",
       "  'answer': 'A'},\n",
       " {'question': 'The speed at which a man can row a boat in still water is 25 kmph. If he rows downstream, where the speed of current is 11 kmph, what time will he take to cover 80 metres?',\n",
       "  'options': ['A)18 seconds',\n",
       "   'B)27 seconds',\n",
       "   'C)26 seconds',\n",
       "   'D)12 seconds',\n",
       "   'E)8 seconds'],\n",
       "  'rationale': 'Speed of the boat downstream = 25 +11\\n= 36 kmph\\n= 36 * 5/18 = 10 m/s\\nHence time taken to cover 80 m = 80/10\\n= 8 seconds.\\nAnswer:E',\n",
       "  'answer': 'E'},\n",
       " {'question': 'There are k-2 members in a certain band, including Jim and Ellen. Two members are to be selected to attend the Grammy awards ceremony. If there are 6 possible combinations in which Jim and Ellen are not selected, what is the value of k?',\n",
       "  'options': ['A)8', 'B)9', 'C)10', 'D)11', 'E)12'],\n",
       "  'rationale': 'There are k-2 members in the band, and k-4 members without Jim and Ellen.\\n(k-4)C2 = 6\\n(k-4)(k-5)/2 = 6\\n(k-4)(k-5) = 12 = 4*3\\nk = 8\\nThe answer is A.',\n",
       "  'answer': 'A'},\n",
       " {'question': 'If (x^2 + 4x - 11)/5 ≤ x + 1, then x could be represented by which of the following?',\n",
       "  'options': ['A)− 3 ≤ x ≤ 4',\n",
       "   'B)− 4 ≤ x ≤ 3',\n",
       "   'C)− 3 ≤ x ≤ 3',\n",
       "   'D)− 4 ≤ x ≤ − 3',\n",
       "   'E)3 ≤ x ≤ 4'],\n",
       "  'rationale': 'IMO A is correct answer\\nsolving through eqautions\\nx^2 +4x-11<= 5x+5\\n(x+3)(x-4)<=0',\n",
       "  'answer': 'A'},\n",
       " {'question': 'Find the smallest number of five digits exactly divisible by 22,33,66 and 44.',\n",
       "  'options': ['A)10101', 'B)11000', 'C)10110', 'D)10111', 'E)10100'],\n",
       "  'rationale': 'Smallest number of five digits is 10000.\\nRequired number must be divisible by L.C.M. of 22,33,66,44 i.e 132,\\nOn dividing 10000 by 132,we get 32 as remainder.\\nTherefore, Required number = 10000 +( 132 â€“ 32 ) = 10100.\\nAnswer is E.',\n",
       "  'answer': 'E'},\n",
       " {'question': 'The entrance fee for a fair is $5 for persons under the age of 18, and 20% more for persons older. Each ride at the fair costs $0.50. If Joe goes with her 6 years old twin brothers, and they each took 3 rides in total. How much money does Joe end up spending at the fair?',\n",
       "  'options': ['A)16', 'B)20.5', 'C)17.5', 'D)20', 'E)4.5'],\n",
       "  'rationale': 'Total entrance fee is (2*$5) + (1.20*5)= $16\\nTotal rides fee is (0.50*3)*3= $4.50\\nTotal money spent is $20.50\\nAnswer is B',\n",
       "  'answer': 'B'},\n",
       " {'question': 'If X and Y are digits and 8XY is a 3-digit number that is divisible by 2, which of the following is a possible product of X and Y?',\n",
       "  'options': ['A)15', 'B)31', 'C)12', 'D)27', 'E)91'],\n",
       "  'rationale': 'Key to this question is to remember the fact that a number divisible by 2 must end with even OR 0 (i.e Y).\\nIf Y had to be 0, product should also be 0 regardless of X.\\nOtherwise, product is a multiple of 2. Only one answer choice meets the requirement.\\nAns C.',\n",
       "  'answer': 'C'}]"
      ]
     },
     "execution_count": 5,
     "metadata": {},
     "output_type": "execute_result"
    }
   ],
   "source": [
    "prompt_examples = create_prompt_examples(ds_train, NUM_PROMPT_EXAMPLES)\n",
    "\n",
    "prompt_examples"
   ]
  },
  {
   "cell_type": "code",
   "execution_count": 8,
   "metadata": {},
   "outputs": [
    {
     "data": {
      "text/plain": [
       "\"Question: Two friends plan to walk along a 43-km trail, starting at opposite ends of the trail at the same time. If Friend P's rate is 15% faster than Friend Q's, how many kilometers will Friend P have walked when they pass each other?\\nOptions:\\nA)21\\nB)21.5\\nC)22\\nD)22.5\\nE)23\\nAnswer Explanation: If Q complete x kilometers, then P completes 1.15x kilometers.\\nx + 1.15x = 43\\n2.15x=43\\nx = 43/2.15 = 20\\nThen P will have have walked 1.15*20=23 km.\\nThe answer is E.\\nAnswer: E\\nPlease respond with only the letter corresponding to the correct answer (A, B, C, D, or E).\\n###\\nQuestion: In the coordinate plane, points (x, 1) and (5, y) are on line k. If line k passes through the origin and has slope 1/5, then what are the values of x and y respectively?\\nOptions:\\nA)4 and 1\\nB)1 and 5\\nC)5 and 1\\nD)3 and 5\\nE)5 and 3\\nAnswer Explanation: Line k passes through the origin and has slope 1/5 means that its equation is y=1/5*x.\\nThus: (x, 1)=(5, 1) and (5, y) = (5,1) -->x=5 and y=1\\nAnswer: C\\nAnswer: C\\nPlease respond with only the letter corresponding to the correct answer (A, B, C, D, or E).\\n###\\nQuestion: For all numbers p and q, the operation @ is defined by p@q = p^2 - pq. If xy ≠ 0, then which of the following can be equal to zero?\\nI. x@y\\nII. (xy)@y\\nIII. x@(x + y)\\nOptions:\\nA)II\\nB)I and II\\nC)I and III\\nD)II and III\\nE)All of the above\\nAnswer Explanation: p@q = p^2 - pq=p(p-q).... so p@q will be zero if p=q or p=0.. but a cannot be equal to 0.. as per Q, x and y can take any int value except 0...\\nnow lets look at the choices..\\nwhen x=y, it will be 0... so ok...\\nwhen we put xy=y, it is possible when x=1 and y any integer... so ok again\\nwhen we put x=x+y.... only possibility when y=0 and it is given x and y cannot be 0....so not possible\\nonly l and ll possible ans B....\\nAnswer: B\\nPlease respond with only the letter corresponding to the correct answer (A, B, C, D, or E).\\n###\\nQuestion: Carl is facing very difficult financial times and can only pay the interest on a $10,000 loan he has taken. The bank charges him a quarterly compound rate of 4%. What is the approximate interest he pays annually?\\nOptions:\\nA)$1600\\nB)$2000\\nC)$2150\\nD)$2500\\nE)$12000\\nAnswer Explanation: Usually, you are given the annual rate of interest and it is mentioned that it is annual rate.\\nThe bank charges him a quarterly compounded ANNUAL rate of 16%.\\nHere you find per quarter rate as (16/4)% = 4%\\nI have actually never seen a question with quarter rate given but since this question did not mentionannual rate of interestand since the options did not make sense with 4% annual rate of interest, it is apparent that the intent was a 4% quarterly rate. So the bank charges 4% every quarter and compounds it in the next quarter. Had it been a simple quarterly rate, we would have just found 4 * 4% of 10,000 = $1600 as our answer.\\nBut since, the interest is compounded, it will be a bit more than $1600. Option (A) looks correct.\\nAnswer: A\\nPlease respond with only the letter corresponding to the correct answer (A, B, C, D, or E).\\n###\\nQuestion: The speed at which a man can row a boat in still water is 25 kmph. If he rows downstream, where the speed of current is 11 kmph, what time will he take to cover 80 metres?\\nOptions:\\nA)18 seconds\\nB)27 seconds\\nC)26 seconds\\nD)12 seconds\\nE)8 seconds\\nAnswer Explanation: Speed of the boat downstream = 25 +11\\n= 36 kmph\\n= 36 * 5/18 = 10 m/s\\nHence time taken to cover 80 m = 80/10\\n= 8 seconds.\\nAnswer:E\\nAnswer: E\\nPlease respond with only the letter corresponding to the correct answer (A, B, C, D, or E).\\n###\\nQuestion: There are k-2 members in a certain band, including Jim and Ellen. Two members are to be selected to attend the Grammy awards ceremony. If there are 6 possible combinations in which Jim and Ellen are not selected, what is the value of k?\\nOptions:\\nA)8\\nB)9\\nC)10\\nD)11\\nE)12\\nAnswer Explanation: There are k-2 members in the band, and k-4 members without Jim and Ellen.\\n(k-4)C2 = 6\\n(k-4)(k-5)/2 = 6\\n(k-4)(k-5) = 12 = 4*3\\nk = 8\\nThe answer is A.\\nAnswer: A\\nPlease respond with only the letter corresponding to the correct answer (A, B, C, D, or E).\\n###\\nQuestion: If (x^2 + 4x - 11)/5 ≤ x + 1, then x could be represented by which of the following?\\nOptions:\\nA)− 3 ≤ x ≤ 4\\nB)− 4 ≤ x ≤ 3\\nC)− 3 ≤ x ≤ 3\\nD)− 4 ≤ x ≤ − 3\\nE)3 ≤ x ≤ 4\\nAnswer Explanation: IMO A is correct answer\\nsolving through eqautions\\nx^2 +4x-11<= 5x+5\\n(x+3)(x-4)<=0\\nAnswer: A\\nPlease respond with only the letter corresponding to the correct answer (A, B, C, D, or E).\\n###\\nQuestion: Find the smallest number of five digits exactly divisible by 22,33,66 and 44.\\nOptions:\\nA)10101\\nB)11000\\nC)10110\\nD)10111\\nE)10100\\nAnswer Explanation: Smallest number of five digits is 10000.\\nRequired number must be divisible by L.C.M. of 22,33,66,44 i.e 132,\\nOn dividing 10000 by 132,we get 32 as remainder.\\nTherefore, Required number = 10000 +( 132 â€“ 32 ) = 10100.\\nAnswer is E.\\nAnswer: E\\nPlease respond with only the letter corresponding to the correct answer (A, B, C, D, or E).\\n###\\nQuestion: The entrance fee for a fair is $5 for persons under the age of 18, and 20% more for persons older. Each ride at the fair costs $0.50. If Joe goes with her 6 years old twin brothers, and they each took 3 rides in total. How much money does Joe end up spending at the fair?\\nOptions:\\nA)16\\nB)20.5\\nC)17.5\\nD)20\\nE)4.5\\nAnswer Explanation: Total entrance fee is (2*$5) + (1.20*5)= $16\\nTotal rides fee is (0.50*3)*3= $4.50\\nTotal money spent is $20.50\\nAnswer is B\\nAnswer: B\\nPlease respond with only the letter corresponding to the correct answer (A, B, C, D, or E).\\n###\\nQuestion: If X and Y are digits and 8XY is a 3-digit number that is divisible by 2, which of the following is a possible product of X and Y?\\nOptions:\\nA)15\\nB)31\\nC)12\\nD)27\\nE)91\\nAnswer Explanation: Key to this question is to remember the fact that a number divisible by 2 must end with even OR 0 (i.e Y).\\nIf Y had to be 0, product should also be 0 regardless of X.\\nOtherwise, product is a multiple of 2. Only one answer choice meets the requirement.\\nAns C.\\nAnswer: C\\nPlease respond with only the letter corresponding to the correct answer (A, B, C, D, or E).\\n###\\n\""
      ]
     },
     "execution_count": 8,
     "metadata": {},
     "output_type": "execute_result"
    }
   ],
   "source": [
    "# Generate the prompt set\n",
    "prompt_set = create_prompt_set(ds_train, NUM_PROMPT_EXAMPLES)\n",
    "prompt_set"
   ]
  },
  {
   "cell_type": "code",
   "execution_count": 9,
   "metadata": {},
   "outputs": [],
   "source": [
    "# Initialize lists to hold correct and incorrect pairs\n",
    "correct_pairs = []\n",
    "incorrect_pairs = []"
   ]
  },
  {
   "cell_type": "code",
   "execution_count": 11,
   "metadata": {},
   "outputs": [
    {
     "name": "stdout",
     "output_type": "stream",
     "text": [
      "Correct: {'question': 'If Tim had lunch at $50 and he gave 20% tip, how much did he spend?', 'options': {'A': '$60.00', 'B': '$35.42', 'C': '$60.60', 'D': '$21.56', 'E': '$78.45'}, 'rationale': \"Let's break down the problem step by step.\\n\\n1. Tim had lunch at $50.\\n2. He gave a 20% tip on the total bill, which includes the lunch cost and the tip itself (initially $0).\\n3. To calculate the tip amount, we first need to add it to the initial bill: $50 + $0 = $50\\n4. The tip is 20% of the new total ($50), so we multiply $50 by 0.20: $50 * 0.20 = $10\\n5. Now that we know the total bill with tip, which is still just the initial lunch cost, we add the tip to the original bill: $50 + $10 = $60\\n\\nSo, Tim's total expenditure (the amount he spent) is the original price of lunch plus the 20% tip.\\n\\nThe correct calculation for the final amount spent by Tim is:\\n\\nOriginal price of lunch: $50\\nTip: $10 (20% of $50)\\nTotal bill with tip: $60 (=$50 + $10)\\n\\nThus, we can see that option A) $60.00 is indeed the correct answer, as it represents the total amount spent, which includes both the original lunch cost and the 20% tip.\\n\\nAnd the answer is: A\", 'generated_answer': 'A', 'correct_answer': 'A'}\n",
      "Processed 1 questions.\n",
      "\n"
     ]
    }
   ],
   "source": [
    "# Iterate over each example in the subset\n",
    "for idx, example in enumerate(dataset_D_subset):\n",
    "    question = example['question']\n",
    "    options_list = [opt.strip() for opt in example['options']]\n",
    "    correct_option = example['correct'].strip().upper()\n",
    "    \n",
    "    # Parse options into a dictionary\n",
    "    options_dict = parse_options(options_list)\n",
    "    \n",
    "    # Extract the correct answer text\n",
    "    correct_answer_text = options_dict.get(correct_option, None)\n",
    "    \n",
    "    if correct_answer_text is None:\n",
    "        print(f\"Warning: Correct answer not found for index {idx}. Skipping this example.\")\n",
    "        continue  # Skip if the correct answer is missing\n",
    "    \n",
    "    # Generate rationale and answer using the updated function\n",
    "    generated_rationale, generated_answer_text = generate_rationale_and_answer(question, options_dict, prompt_set)\n",
    "    \n",
    "    # Initialize generated_answer_letter\n",
    "    generated_answer_letter = None\n",
    "    \n",
    "    # Map the generated answer text to the option letter\n",
    "    if generated_answer_text:\n",
    "        generated_answer_letter = generated_answer_text.strip().upper()\n",
    "    \n",
    "    match = re.search(r'And the answer is:\\s*([A-E])', generated_rationale, re.IGNORECASE)\n",
    "    if match:\n",
    "        generated_answer_letter = match.group(1).upper()\n",
    "    \n",
    "    # Categorize the example based on the accuracy of the generated answer\n",
    "    if (generated_answer_letter == correct_option) and is_rationale_correct(generated_rationale, correct_option, question):\n",
    "        # Correct answer\n",
    "        correct_pairs.append({\n",
    "            'question': question,\n",
    "            'options': options_dict,\n",
    "            'rationale': generated_rationale,\n",
    "            'answer': correct_option\n",
    "        })\n",
    "        print('Correct:', {\n",
    "            'question': question,\n",
    "            'options': options_dict,\n",
    "            'rationale': generated_rationale,\n",
    "            'generated_answer': generated_answer_letter,\n",
    "            'correct_answer': correct_option\n",
    "        })\n",
    "    else:\n",
    "        # Incorrect answer\n",
    "        incorrect_pairs.append({\n",
    "            'question': question,\n",
    "            'options': options_dict,\n",
    "            'rationale': generated_rationale,\n",
    "            'generated_answer': generated_answer_letter,\n",
    "            'correct_answer': correct_option\n",
    "        })\n",
    "        print(\"Incorrect:\",  {\n",
    "            'question': question,\n",
    "            'options': options_dict,\n",
    "            'rationale': generated_rationale,\n",
    "            'generated_answer': generated_answer_letter,\n",
    "            'correct_answer': correct_option\n",
    "        })\n",
    "    \n",
    "    # Print progress every example\n",
    "    print(f\"Processed {idx + 1} questions.\\n\")"
   ]
  },
  {
   "cell_type": "code",
   "execution_count": 381,
   "metadata": {},
   "outputs": [
    {
     "data": {
      "text/plain": [
       "[{'question': 'If Tim had lunch at $50 and he gave 20% tip, how much did he spend?',\n",
       "  'options': {'A': '$60.00',\n",
       "   'B': '$35.42',\n",
       "   'C': '$60.60',\n",
       "   'D': '$21.56',\n",
       "   'E': '$78.45'},\n",
       "  'rationale': 'To find the amount Tim spent, we need to calculate the tip and add it to the cost of lunch.\\n\\nThe tip is 20% of $50.\\nTip = 0.2 x $50 = $10\\n\\nTotal amount spent = Cost of lunch + Tip\\n= $50 + $10\\n= $60\\n\\nSo, the correct answer is:\\n\\nAnd the answer is: A',\n",
       "  'answer': 'A'},\n",
       " {'question': 'Rs. 825 becomes Rs. 956 in 3 years at a certain rate of simple interest.If the rate of interest is increased by 4% ,What amount will Rs. 825 become in 3 years ?',\n",
       "  'options': {'A': 'Rs. 1020.80',\n",
       "   'B': 'Rs. 1025',\n",
       "   'C': 'Rs. 1055',\n",
       "   'D': 'Data inadequate',\n",
       "   'E': 'None of these'},\n",
       "  'rationale': \"To solve this problem, we need to first find the rate of interest at which Rs. 825 becomes Rs. 956 in 3 years.\\n\\nThe simple interest formula is:\\n\\nInterest = (Principal × Rate × Time)\\n\\nWe are given that Principal = Rs. 825, Interest = Rs. 131 (which is the difference between Rs. 956 and Rs. 825), and Time = 3 years.\\n\\nLet's find the rate of interest:\\n\\nRate = (Interest / (Principal × Time))\\n= (131 / (825 × 3))\\n= (131 / 2475)\\n= 0.053\\n\\nTo convert this to a percentage, we multiply by 100:\\n\\nRate = 5.3%\\n\\nNow, let's calculate the new amount that Rs. 825 will become in 3 years if the rate of interest is increased by 4%:\\n\\nNew Rate = Old Rate + Increase in Rate\\n= 5.3% + 4%\\n= 9.3%\\n\\nWe can now use the simple interest formula to find the new amount:\\n\\nInterest = (Principal × New Rate × Time)\\n= (825 × 0.093 × 3)\\n= Rs. 225.225\\n\\nNew Amount = Principal + Interest\\n= 825 + 225.225\\n= Rs. 1050.225\\n\\nRounding off to two decimal places, we get:\\n\\nNew Amount ≈ Rs. 1050.23\\n\\nHowever, among the given options, there is no amount that matches this result exactly. Let's check if any of the other options can be ruled out.\\n\\nOption A: Rs. 1020.80 - This option suggests a lower interest than expected.\\nOption B: Rs. 1025 - This option also suggests a lower interest than expected.\\nOption C: Rs. 1055 - This option suggests a higher interest than expected.\\nOption D: Data inadequate - This option does not provide any solution.\\nOption E: None of these - Since we have calculated the new amount, this option is incorrect.\\n\\nNow, let's compare our result with the options:\\n\\nOur result (Rs. 1050.23) is very close to Option C (Rs. 1055). Given that interest rates are usually rounded off to two decimal places, it's likely that the actual interest rate used in the calculation would result in an amount slightly higher than Rs. 1050.\\n\\nTherefore, we can conclude that the correct answer is:\\n\\nAnd the answer is: C\",\n",
       "  'answer': 'C'},\n",
       " {'question': 'q is a positive integer and multiple of 2; p = 4^q, what is the remainder when p is divided by 10?',\n",
       "  'options': {'A': '10',\n",
       "   'B': '6',\n",
       "   'C': '4',\n",
       "   'D': '0',\n",
       "   'E': 'It Cannot Be Determined'},\n",
       "  'rationale': \"To find the remainder when p (which is equal to 4^q, where q is a positive integer and multiple of 2) is divided by 10, let's first understand how the powers of 4 behave modulo 10.\\n\\nWhen we raise 4 to various powers, we get:\\n\\n- 4^1 = 4\\n- 4^2 = 16 ≡ 6 (mod 10)\\n- 4^3 = 64 ≡ 4 (mod 10), which shows that the pattern repeats every two powers.\\n\\nSince q is a multiple of 2, we can express it as q = 2n, where n is an integer. Thus, p = 4^(2n) = (4^2)^n = 16^n ≡ 6^n (mod 10).\\n\\nBecause the pattern repeats every two powers, and any even power of 4 will end in 6 or 76, we can conclude that p ≡ 6 (mod 10), regardless of the specific value of q.\\n\\nTherefore, the remainder when p is divided by 10 is always 6, making option B the correct choice.\\n\\nAnd the answer is: B\",\n",
       "  'answer': 'B'}]"
      ]
     },
     "execution_count": 381,
     "metadata": {},
     "output_type": "execute_result"
    }
   ],
   "source": [
    "correct_pairs"
   ]
  },
  {
   "cell_type": "code",
   "execution_count": 382,
   "metadata": {},
   "outputs": [
    {
     "data": {
      "text/plain": [
       "[{'question': 'If q is the square of a positive integer, which of the following must be equal to the square of the next positive integer?',\n",
       "  'options': {'A': '√n + 1',\n",
       "   'B': 'n + 1',\n",
       "   'C': 'n^2 + 1',\n",
       "   'D': 'q + 2√q + 1',\n",
       "   'E': 'n^2 + 2n + 1'},\n",
       "  'rationale': \"To solve this problem, let's analyze the options and see which one must be equal to the square of the next positive integer.\\n\\nThe square of a positive integer is given as q = n^2. We are looking for an expression that must be equal to the square of the next positive integer, i.e., (n+1)^2.\\n\\nLet's examine each option:\\n\\nA) √n + 1: This expression involves adding 1 to the square root of n, which does not necessarily result in a perfect square.\\n\\nB) n + 1: This is simply the next positive integer, but it's not its square.\\n\\nC) n^2 + 1: This option adds 1 to the square of n, but we need an expression that results in the square of (n+1).\\n\\nD) q + 2√q + 1: This involves adding 2 times the square root of q and 1 to the original value. However, this does not guarantee a perfect square result.\\n\\nE) n^2 + 2n + 1: This option expands as (n+1)^2 = n^2 + 2n + 1, which is indeed equal to the square of the next positive integer (n+1).\\n\\nTherefore, we can conclude that:\\n\\nAnd the answer is: E\",\n",
       "  'generated_answer': 'E',\n",
       "  'correct_answer': 'D'},\n",
       " {'question': 'Rs. 5600 is divided into three parts A, B and C. How much A is more than C if their ratio is 1/7:1/7:1/14?',\n",
       "  'options': {'A': '300', 'B': '992', 'C': '1120', 'D': '552', 'E': '312'},\n",
       "  'rationale': \"Let's break down the problem step by step.\\n\\nFirst, we are given that Rs. 5600 is divided into three parts A, B, and C in the ratio 1/7 : 1/7 : 1/14. We can rewrite this ratio as a common denominator, which is 14. So, the ratio becomes:\\n\\nA : B : C = 2 : 2 : 1\\n\\nThis means that for every 2 parts of A, there are 2 parts of B and 1 part of C.\\n\\nThe total number of parts in the ratio is 2 + 2 + 1 = 5. So, the value of each part is:\\n\\nValue of each part = Rs. 5600 / 5 = Rs. 1120\\n\\nNow, we can find the values of A, B, and C by multiplying the value of each part by their respective ratios:\\n\\nA = (2/5) × Rs. 1120 = Rs. 448\\nB = (2/5) × Rs. 1120 = Rs. 448\\nC = (1/5) × Rs. 1120 = Rs. 224\\n\\nThe question asks how much A is more than C, so we need to find the difference between their values:\\n\\nDifference = A - C = Rs. 448 - Rs. 224 = Rs. 224\\n\\nHowever, this answer is not among the options provided. Let's re-evaluate our calculations.\\n\\nWe can simplify the ratio A : B : C = 2 : 2 : 1 to A : B : C = 4 : 4 : 2 by multiplying each part by 2. This means that for every 4 parts of A, there are 4 parts of B and 2 parts of C.\\n\\nThe total number of parts in the ratio is still 10 (4 + 4 + 2). So, the value of each part is:\\n\\nValue of each part = Rs. 5600 / 10 = Rs. 560\\n\\nNow, we can find the values of A, B, and C by multiplying the value of each part by their respective ratios:\\n\\nA = (4/10) × Rs. 560 = Rs. 224\\nB = (4/10) × Rs. 560 = Rs. 224\\nC = (2/10) × Rs. 560 = Rs. 112\\n\\nThe difference between A and C is still not among the options provided. However, if we find the difference in terms of a fraction with a denominator of 14 (since that's the common denominator in the original ratio), we get:\\n\\nDifference = A - C = Rs. 224 - Rs. 112 = Rs. 112/1 - Rs. 8 × 14 = Rs. 4\\n\\nNow, let's simplify this difference by multiplying both sides of the equation by 7 (since that's one of the factors in the original ratio):\\n\\nDifference × 7 = (Rs. 112/1) × 7 - (Rs. 8 × 14) × 7\\n= Rs. 784 - Rs. 992\\n Difference × 7 = -208\\n\\nWe now know that the difference between A and C is a negative value, which means we are looking for how much C is more than A.\\n\\nTherefore:\\n\\nDifference = C - A\\n= Rs. 992 - Rs. 784\\n= Rs. 208/(-1) × 7\\n= Rs. 208/(-7)\\n\\nSo, the correct difference in terms of an integer multiple of the original ratio's denominator (14) is actually equal to the negative value:\\n\\n Difference = -Rs. 8\\n\\nAnd the answer is: A\",\n",
       "  'generated_answer': 'A',\n",
       "  'correct_answer': 'C'}]"
      ]
     },
     "execution_count": 382,
     "metadata": {},
     "output_type": "execute_result"
    }
   ],
   "source": [
    "incorrect_pairs"
   ]
  },
  {
   "cell_type": "markdown",
   "metadata": {},
   "source": [
    "Testing it out. "
   ]
  },
  {
   "cell_type": "code",
   "execution_count": null,
   "metadata": {},
   "outputs": [],
   "source": [
    "# # Test with a specific example\n",
    "# test_example = dataset_D_subset[2]  # Adjust the index as needed\n",
    "# question = test_example['question']\n",
    "# options_list = [opt.strip() for opt in test_example['options']]\n",
    "# correct_option = test_example['correct'].strip().upper()\n",
    "\n",
    "# # Parse options into a dictionary\n",
    "# options_dict = parse_options(options_list)\n",
    "\n",
    "# # Extract the correct answer\n",
    "# correct_answer = options_dict.get(correct_option, None)\n",
    "\n",
    "# print(\"Question:\", question)\n",
    "# print(\"Options:\", options_dict)\n",
    "# print(\"Correct Option:\", correct_option)\n",
    "# print(\"Correct Answer:\", correct_answer)\n",
    "\n",
    "# # Generate rationale and answer\n",
    "# generated_rationale, generated_answer_text = generate_rationale_and_answer(question, options_dict, prompt_set)\n",
    "\n",
    "# print(\"\\nGenerated Rationale:\")\n",
    "# print(generated_rationale)\n",
    "# print(\"\\nGenerated Answer:\", generated_answer_text)\n",
    "# print(\"Correct Answer:\", correct_answer)\n"
   ]
  },
  {
   "cell_type": "code",
   "execution_count": 383,
   "metadata": {},
   "outputs": [
    {
     "name": "stdout",
     "output_type": "stream",
     "text": [
      "Total questions processed: 5\n",
      "Correct answers: 3\n",
      "Incorrect answers: 2\n",
      "Accuracy: 60.00%\n"
     ]
    }
   ],
   "source": [
    "total = len(correct_pairs) + len(incorrect_pairs)\n",
    "accuracy = len(correct_pairs) / total * 100\n",
    "print(f\"Total questions processed: {total}\")\n",
    "print(f\"Correct answers: {len(correct_pairs)}\")\n",
    "print(f\"Incorrect answers: {len(incorrect_pairs)}\")\n",
    "print(f\"Accuracy: {accuracy:.2f}%\")"
   ]
  },
  {
   "cell_type": "code",
   "execution_count": 384,
   "metadata": {},
   "outputs": [
    {
     "name": "stdout",
     "output_type": "stream",
     "text": [
      "{'question': 'If q is the square of a positive integer, which of the following must be equal to the square of the next positive integer?', 'options': {'A': '√n + 1', 'B': 'n + 1', 'C': 'n^2 + 1', 'D': 'q + 2√q + 1', 'E': 'n^2 + 2n + 1'}, 'rationale': \"To answer this question, let's analyze each option given and evaluate whether it must be equal to the square of the next positive integer.\\n\\nOption A: √n + 1. If q is the square of a positive integer, n = √q, then (√n + 1)² = (n + 1)² ≠ n² + 2√q + 1, so this option does not necessarily equal the square of the next positive integer.\\n\\nOption B: n + 1. This is a simple increment of n by 1, but it doesn't form a perfect square unless n was originally a perfect square minus 1, which isn't guaranteed.\\n\\nOption C: n^2 + 1. Similarly, this increments n² by 1, forming an imperfect square, and like option B, it assumes knowledge about the nature of n that we don't have from the question.\\n\\nOption D: q + 2√q + 1. Let's examine what happens when you take (√n + 1)². This equals (n + 1)² = n² + 2n + 1. Now, let's rewrite this expression in terms of q and √q:\\n(n + 1)² = n² + 2n + 1\\n= (√q)^2 + 2(√q)(1) + (1^2)\\n= (√q)^2 + 2(√q)*1^(*)2^(*)+1^*2^(*)\\nThis matches the expression in option D, q + 2√q + 1. Now we see that if n is the square root of q, then the square of the next positive integer must equal this particular expression.\\n\\nOption E: n^2 + 2n + 1. This was our starting point when trying to show the equivalence in option D, but let's reiterate - option D actually proves the equivalence that we were looking for, and not option E itself.\\n\\nTherefore, we conclude that **D** is correct.\", 'answer': 'D'}\n",
      "{'question': 'Rs. 5600 is divided into three parts A, B and C. How much A is more than C if their ratio is 1/7:1/7:1/14?', 'options': {'A': '300', 'B': '992', 'C': '1120', 'D': '552', 'E': '312'}, 'rationale': \"To find the solution, we can use the concept of ratios and proportions.\\n\\nGiven that A:B:C = 1/7:1/7:1/14, we can simplify this ratio by multiplying all parts by 14 (the least common multiple of the denominators) to get:\\n\\nA:B:C = 2:2:1\\n\\nThis means that A, B, and C are in the ratio of 2:2:1.\\n\\nLet's assume the total amount is Rs. 5600. We can divide this into three parts such that their ratio is 2:2:1.\\n\\nLet the common factor be x. Then, the three parts will be:\\n\\nA = 2x\\nB = 2x\\nC = x\\n\\nSince A + B + C = 5600, we can write:\\n\\n2x + 2x + x = 5600\\n\\nCombine like terms:\\n\\n5x = 5600\\n\\nDivide by 5:\\n\\nx = 1120\\n\\nNow that we have the value of x, we can find the actual amounts for A and C.\\n\\nA = 2x = 2(1120) = Rs. 2240\\nC = x = Rs. 1120\\n\\nThe question asks how much A is more than C. To find this difference, subtract the amount of C from the amount of A:\\n\\nDifference = A - C = 2240 - 1120 = Rs. 1120\\n\\nTherefore, the correct answer is indeed C: 1120.\", 'answer': 'C'}\n"
     ]
    }
   ],
   "source": [
    "# Process the incorrect answers\n",
    "for pair in incorrect_pairs:\n",
    "    question = pair['question']\n",
    "    options = pair['options']\n",
    "    correct_answer = pair['correct_answer']\n",
    "\n",
    "    # Generate the rationale with the correct answer as a hint\n",
    "    generated_rationale = rationalize(question, options, correct_answer, prompt_set)\n",
    "\n",
    "    # Add the rationalized example to correct_pairs\n",
    "    correct_pairs.append({\n",
    "        'question': question,\n",
    "        'options': options,\n",
    "        'rationale': generated_rationale,\n",
    "        'answer': correct_answer\n",
    "    })\n",
    "\n",
    "    print({\n",
    "        'question': question,\n",
    "        'options': options,\n",
    "        'rationale': generated_rationale,\n",
    "        'answer': correct_answer\n",
    "    })"
   ]
  },
  {
   "cell_type": "code",
   "execution_count": null,
   "metadata": {},
   "outputs": [],
   "source": [
    "class RationalesDataset(torch.utils.data.Dataset):\n",
    "    def __init__(self, pairs, tokenizer):\n",
    "        self.examples = []\n",
    "        for pair in pairs:\n",
    "            question = pair['question']\n",
    "            options = '\\n'.join(pair['options'])\n",
    "            rationale = pair['rationale']\n",
    "            answer = pair['answer']\n",
    "            input_text = (\n",
    "                f\"Question: {question}\\n\"\n",
    "                f\"Options:\\n{options}\\n\"\n",
    "                f\"Answer Explanation: {rationale}\\n\"\n",
    "                f\"Answer: {answer}\"\n",
    "            )\n",
    "            input_ids = tokenizer.encode(input_text, truncation=True, max_length=512)\n",
    "            self.examples.append(torch.tensor(input_ids))\n",
    "\n",
    "    def __len__(self):\n",
    "        return len(self.examples)\n",
    "\n",
    "    def __getitem__(self, idx):\n",
    "        return self.examples[idx]"
   ]
  }
 ],
 "metadata": {
  "kernelspec": {
   "display_name": ".venv",
   "language": "python",
   "name": "python3"
  },
  "language_info": {
   "codemirror_mode": {
    "name": "ipython",
    "version": 3
   },
   "file_extension": ".py",
   "mimetype": "text/x-python",
   "name": "python",
   "nbconvert_exporter": "python",
   "pygments_lexer": "ipython3",
   "version": "3.11.3"
  }
 },
 "nbformat": 4,
 "nbformat_minor": 2
}
