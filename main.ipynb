{
 "cells": [
  {
   "cell_type": "code",
   "execution_count": 1,
   "metadata": {},
   "outputs": [
    {
     "name": "stderr",
     "output_type": "stream",
     "text": [
      "/Users/williamzebrowski/LLM-RL-Reasoner/.venv/lib/python3.11/site-packages/tqdm/auto.py:21: TqdmWarning: IProgress not found. Please update jupyter and ipywidgets. See https://ipywidgets.readthedocs.io/en/stable/user_install.html\n",
      "  from .autonotebook import tqdm as notebook_tqdm\n"
     ]
    }
   ],
   "source": [
    "import re\n",
    "import ollama\n",
    "from src.data_loading import load_data\n",
    "from src.parsing import parse_options\n",
    "from src.rationale_generation import generate_rationale_and_answer\n",
    "from src.utils import is_rationale_correct\n",
    "from src.rationalization import rationalize\n",
    "from src.prompt_generation import create_prompt_examples, create_prompt_set, clean_options, get_correct_answer_text"
   ]
  },
  {
   "cell_type": "code",
   "execution_count": 575,
   "metadata": {},
   "outputs": [],
   "source": [
    "NUM_PROMPT_EXAMPLES = 5 # number of prompt examples\n",
    "NUM_EXAMPLES_TO_PROCESS = 10 # number of examples to process"
   ]
  },
  {
   "cell_type": "markdown",
   "metadata": {},
   "source": [
    "### Load Dataset"
   ]
  },
  {
   "cell_type": "code",
   "execution_count": 576,
   "metadata": {},
   "outputs": [
    {
     "name": "stdout",
     "output_type": "stream",
     "text": [
      "Dataset({\n",
      "    features: ['question', 'options', 'rationale', 'correct'],\n",
      "    num_rows: 10\n",
      "})\n"
     ]
    }
   ],
   "source": [
    "ds_train = load_data()\n",
    "\n",
    "# Step 1: Select the desired range from ds_train\n",
    "dataset_D = ds_train.select(range(NUM_PROMPT_EXAMPLES, len(ds_train)))\n",
    "\n",
    "# Step 2: Shuffle the selected dataset\n",
    "dataset_D_shuffled = dataset_D.shuffle()  # Use any seed you prefer\n",
    "\n",
    "# Step 3: Select a subset of examples to process\n",
    "dataset_D_subset = dataset_D_shuffled.select(range(NUM_EXAMPLES_TO_PROCESS))\n",
    "\n",
    "print(dataset_D_subset)"
   ]
  },
  {
   "cell_type": "markdown",
   "metadata": {},
   "source": [
    "### Create prompt examples"
   ]
  },
  {
   "cell_type": "code",
   "execution_count": 577,
   "metadata": {},
   "outputs": [
    {
     "data": {
      "text/plain": [
       "[{'question': \"Two friends plan to walk along a 43-km trail, starting at opposite ends of the trail at the same time. If Friend P's rate is 15% faster than Friend Q's, how many kilometers will Friend P have walked when they pass each other?\",\n",
       "  'rationale': 'If Q complete x kilometers, then P completes 1.15x kilometers.\\nx + 1.15x = 43\\n2.15x=43\\nx = 43/2.15 = 20\\nThen P will have have walked 1.15*20=23 km.\\nThe answer is E.',\n",
       "  'answer': 'E'},\n",
       " {'question': 'In the coordinate plane, points (x, 1) and (5, y) are on line k. If line k passes through the origin and has slope 1/5, then what are the values of x and y respectively?',\n",
       "  'rationale': 'Line k passes through the origin and has slope 1/5 means that its equation is y=1/5*x.\\nThus: (x, 1)=(5, 1) and (5, y) = (5,1) -->x=5 and y=1\\nAnswer: C',\n",
       "  'answer': 'C'},\n",
       " {'question': 'For all numbers p and q, the operation @ is defined by p@q = p^2 - pq. If xy ≠ 0, then which of the following can be equal to zero?\\nI. x@y\\nII. (xy)@y\\nIII. x@(x + y)',\n",
       "  'rationale': 'p@q = p^2 - pq=p(p-q).... so p@q will be zero if p=q or p=0.. but a cannot be equal to 0.. as per Q, x and y can take any int value except 0...\\nnow lets look at the choices..\\nwhen x=y, it will be 0... so ok...\\nwhen we put xy=y, it is possible when x=1 and y any integer... so ok again\\nwhen we put x=x+y.... only possibility when y=0 and it is given x and y cannot be 0....so not possible\\nonly l and ll possible ans B....',\n",
       "  'answer': 'B'},\n",
       " {'question': 'Carl is facing very difficult financial times and can only pay the interest on a $10,000 loan he has taken. The bank charges him a quarterly compound rate of 4%. What is the approximate interest he pays annually?',\n",
       "  'rationale': 'Usually, you are given the annual rate of interest and it is mentioned that it is annual rate.\\nThe bank charges him a quarterly compounded ANNUAL rate of 16%.\\nHere you find per quarter rate as (16/4)% = 4%\\nI have actually never seen a question with quarter rate given but since this question did not mentionannual rate of interestand since the options did not make sense with 4% annual rate of interest, it is apparent that the intent was a 4% quarterly rate. So the bank charges 4% every quarter and compounds it in the next quarter. Had it been a simple quarterly rate, we would have just found 4 * 4% of 10,000 = $1600 as our answer.\\nBut since, the interest is compounded, it will be a bit more than $1600. Option (A) looks correct.',\n",
       "  'answer': 'A'},\n",
       " {'question': 'The speed at which a man can row a boat in still water is 25 kmph. If he rows downstream, where the speed of current is 11 kmph, what time will he take to cover 80 metres?',\n",
       "  'rationale': 'Speed of the boat downstream = 25 +11\\n= 36 kmph\\n= 36 * 5/18 = 10 m/s\\nHence time taken to cover 80 m = 80/10\\n= 8 seconds.\\nAnswer:E',\n",
       "  'answer': 'E'}]"
      ]
     },
     "execution_count": 577,
     "metadata": {},
     "output_type": "execute_result"
    }
   ],
   "source": [
    "prompt_examples = create_prompt_examples(ds_train, NUM_PROMPT_EXAMPLES)\n",
    "\n",
    "prompt_examples"
   ]
  },
  {
   "cell_type": "markdown",
   "metadata": {},
   "source": [
    "### Create Prompt Sets"
   ]
  },
  {
   "cell_type": "code",
   "execution_count": 578,
   "metadata": {},
   "outputs": [
    {
     "name": "stdout",
     "output_type": "stream",
     "text": [
      "Question: Two friends plan to walk along a 43-km trail, starting at opposite ends of the trail at the same time. If Friend P's rate is 15% faster than Friend Q's, how many kilometers will Friend P have walked when they pass each other?\n",
      "Answer Explanation: If Q complete x kilometers, then P completes 1.15x kilometers.\\nx + 1.15x = 43\\n2.15x=43\\nx = 43/2.15 = 20\\nThen P will have have walked 1.15*20=23 km.\\nThe answer is E.\n",
      "Answer: 23\n",
      "###\n",
      "Question: In the coordinate plane, points (x, 1) and (5, y) are on line k. If line k passes through the origin and has slope 1/5, then what are the values of x and y respectively?\n",
      "Answer Explanation: Line k passes through the origin and has slope 1/5 means that its equation is y=1/5*x.\\nThus: (x, 1)=(5, 1) and (5, y) = (5,1) -->x=5 and y=1\\nAnswer: C\n",
      "Answer: 5 and 1\n",
      "###\n",
      "Question: For all numbers p and q, the operation @ is defined by p@q = p^2 - pq. If xy ≠ 0, then which of the following can be equal to zero?\n",
      "I. x@y\n",
      "II. (xy)@y\n",
      "III. x@(x + y)\n",
      "Answer Explanation: p@q = p^2 - pq=p(p-q).... so p@q will be zero if p=q or p=0.. but a cannot be equal to 0.. as per Q, x and y can take any int value except 0...\\nnow lets look at the choices..\\nwhen x=y, it will be 0... so ok...\\nwhen we put xy=y, it is possible when x=1 and y any integer... so ok again\\nwhen we put x=x+y.... only possibility when y=0 and it is given x and y cannot be 0....so not possible\\nonly l and ll possible ans B....\n",
      "Answer: I and II\n",
      "###\n",
      "Question: Carl is facing very difficult financial times and can only pay the interest on a $10,000 loan he has taken. The bank charges him a quarterly compound rate of 4%. What is the approximate interest he pays annually?\n",
      "Answer Explanation: Usually, you are given the annual rate of interest and it is mentioned that it is annual rate.\\nThe bank charges him a quarterly compounded ANNUAL rate of 16%.\\nHere you find per quarter rate as (16/4)% = 4%\\nI have actually never seen a question with quarter rate given but since this question did not mentionannual rate of interestand since the options did not make sense with 4% annual rate of interest, it is apparent that the intent was a 4% quarterly rate. So the bank charges 4% every quarter and compounds it in the next quarter. Had it been a simple quarterly rate, we would have just found 4 * 4% of 10,000 = $1600 as our answer.\\nBut since, the interest is compounded, it will be a bit more than $1600. Option (A) looks correct.\n",
      "Answer: $1600\n",
      "###\n",
      "Question: The speed at which a man can row a boat in still water is 25 kmph. If he rows downstream, where the speed of current is 11 kmph, what time will he take to cover 80 metres?\n",
      "Answer Explanation: Speed of the boat downstream = 25 +11\\n= 36 kmph\\n= 36 * 5/18 = 10 m/s\\nHence time taken to cover 80 m = 80/10\\n= 8 seconds.\\nAnswer:E\n",
      "Answer: 8 seconds\n",
      "###\n",
      "\n"
     ]
    }
   ],
   "source": [
    "prompt_set = create_prompt_set(ds_train, NUM_PROMPT_EXAMPLES)\n",
    "print(prompt_set)"
   ]
  },
  {
   "cell_type": "markdown",
   "metadata": {},
   "source": [
    "### Initialize lists to hold correct and incorrect pairs"
   ]
  },
  {
   "cell_type": "code",
   "execution_count": 579,
   "metadata": {},
   "outputs": [],
   "source": [
    "correct_pairs = []\n",
    "incorrect_pairs = []\n",
    "unanswered_paris = []"
   ]
  },
  {
   "cell_type": "markdown",
   "metadata": {},
   "source": [
    "### Iterate over each example in the subset"
   ]
  },
  {
   "cell_type": "code",
   "execution_count": 580,
   "metadata": {},
   "outputs": [],
   "source": [
    "def extract_answer_text(rationale):\n",
    "    \"\"\"\n",
    "    Extracts the answer text from the rationale using regex.\n",
    "    \n",
    "    Args:\n",
    "        rationale (str): Generated rationale string.\n",
    "    \n",
    "    Returns:\n",
    "        str or None: Extracted answer text if found, else None.\n",
    "    \"\"\"\n",
    "    # Attempt to extract the answer text after 'Answer:'\n",
    "    match = re.search(r'Answer:\\s*(.+)', rationale, re.IGNORECASE)\n",
    "    if match:\n",
    "        return match.group(1)\n",
    "    return None"
   ]
  },
  {
   "cell_type": "code",
   "execution_count": 581,
   "metadata": {},
   "outputs": [
    {
     "name": "stdout",
     "output_type": "stream",
     "text": [
      "correct_answer_text: 2\n",
      "clean options: ['A) 4', 'B) 8', 'C) 2', 'D) 16', 'E) 18']\n",
      "extracted answer: 2\n",
      "correct\n",
      "Correct: {'question': 'If the area of a square with sides of length 4 centimeters is equal to the area of a rectangle with a width of 8 centimeters, what is the length of the rectangle, in centimeters?', 'rationale': \"Let's solve the problem step by step.\\n\\nStep 1: Calculate the area of the square.\\nThe formula for the area of a square is side × side. Since the sides of the square are 4 centimeters, we can calculate its area as follows:\\nArea = side × side\\n= 4 cm × 4 cm\\n= 16 square centimeters\\n\\nStep 2: Set up an equation using the areas.\\nSince the area of the square is equal to the area of the rectangle, we can set up the following equation:\\nArea of square = Area of rectangle\\n16 square centimeters = width × length\\n8 cm × length = 16 square centimeters\\n\\nStep 3: Solve for the length of the rectangle.\\nTo find the length of the rectangle, we need to isolate it in the equation. We can do this by dividing both sides of the equation by the width:\\nLength = Area / Width\\n= 16 square centimeters / 8 cm\\n= 2 centimeters\\n\\nStep 4: Check our answer.\\nWe have found that the length of the rectangle is 2 centimeters. To check our answer, we can calculate the area of the rectangle using this length and compare it to the area of the square:\\nArea = width × length\\n= 8 cm × 2 cm\\n= 16 square centimeters\\n\\nSince the areas match, we know that our answer is correct.\\n\\nAnswer: 2\", 'answer': '2'}\n",
      "Processed 1 questions.\n",
      "\n",
      "correct_answer_text: 68\n",
      "clean options: ['A) 36', 'B) 47', 'C) 58', 'D) 68', 'E) 72']\n",
      "extracted answer: N ≈ 47 + 15 ≈ 62 centimeters\n",
      "correct\n",
      "Correct: {'question': 'The Italian size of a suit jacket is N centimeters, where N is the linear distance between the armpits when the jacket is laid on a flat surface. The American size of a suit jacket is P inches, where P is twice the linear distance between the armpits when the jacket is laid on a flat surface. If, for a particular jacket, N = P + 15, which of the following is closest to the value of N? (One inch is approximately 2.54 centimeters.)', 'rationale': \"To solve this problem, we need to first find the relationship between N and P.\\n\\nGiven that N = P + 15, we know that N is 15 inches larger than P.\\n\\nSince one inch is approximately 2.54 centimeters, we can convert this relationship into a more meaningful unit for us:\\n\\n1 inch ≈ 2.54 cm\\n\\nFirst, let's find the conversion factor from inches to centimeters:\\n1 in × (2.54 cm/in) = 2.54 cm\\n\\nNow, let's use this conversion factor to rewrite N and P in terms of centimeters:\\nN ≈ 2.54cm × P + 15\\nP + 15 ≈ 2.54 cm × P + 15\\n\\nGiven that the American size of a suit jacket is 48 inches (as per the options), we can substitute this value into the equation:\\n\\nN = 48 + 15\\nN ≈ 63 centimeters\\n\\nLet's calculate this:\\n48 in × (2.54 cm/in) = 122.4 cm\\nNow, add 15 to this result:\\n122.4 + 15 ≈ 137.4 cm\\nSo, N is approximately equal to 137.4 cm.\\n\\nHowever, we were asked for the closest value of N. Let's compare this with other possible values:\\nIf N = 60 centimeters, it would be 5 inches less than P.\\nAs per our conversion factor, P ≈ 60/2.54 ≈ 23.62 in\\nBut American size is always even numbers (22,24,26 etc) because they double the measurement of the distance between two armpits.\\nSo, we can safely assume that N will be a multiple of 2 inches (one inch being equal to half the distance between two armpits).\\n\\nTherefore, the closest multiple of 2.54 centimeters is:\\n2 × 2.54 ≈ 5.08 cm\\nAdding this multiple to our value for P (23.62 in), we get an approximate value for N:\\nN ≈ 23.62 + 5.08 ≈ 28.7 inches\\n\\nNow, convert this to centimeters:\\nN ≈ 28.7 × 2.54 cm ≈ 73.1 cm\\nThis is close enough to the actual answer (137.4).\\n\\nThe closest multiple of 2.54 cm that we get when doubling our American measurement for P (23.62) would be approximately equal to 47 centimeters.\\nTherefore, adding this value to the given value for P + 15 results in a final answer:\\nN ≈ 47 + 15 ≈ 62 centimeters\\n\\nTherefore, the closest multiple of 2 inches that we get when doubling our American measurement for P (23.62) would be approximately equal to 48 centimeters.\\nTherefore, adding this value to the given value for P + 15 results in a final answer:\\nN ≈ 48 + 15 ≈ 63 centimeters\\n\\nThe closest multiple of 2 inches that we get when doubling our American measurement for P (23.62) would be approximately equal to 47 centimeters.\\nTherefore, adding this value to the given value for P + 15 results in a final answer:\\nN ≈ 47 + 15 ≈ 62 centimeters\\n\\nSo the closest multiple of two inches is indeed 48 centimeters.\\n\\nWe can confirm that we arrived at the correct solution by plugging in values close to our calculated value into our conversion factor and seeing which one gives us the closest approximation.\\n\\nAnswer: 63\", 'answer': 'N ≈ 47 + 15 ≈ 62 centimeters'}\n",
      "Processed 2 questions.\n",
      "\n",
      "correct_answer_text: 6\n",
      "clean options: ['A) 6', 'B) 4', 'C) 5', 'D) 1', 'E) 2']\n",
      "extracted answer: -14/9\n",
      "incorrect\n",
      "Incorrect: {'question': 'if x/4-x-3/6=1,then find the value of x.', 'rationale': 'To solve for x, we will start by getting rid of the fractions. We can do this by multiplying every term in the equation by the least common multiple (LCM) of 4 and 6, which is 12.\\n\\nMultiplying both sides of the equation by 12 gives us:\\n\\n3x - 12x - 2 = 12\\n\\nNow, we will combine like terms to simplify the equation.\\n\\n-9x - 2 = 12\\n\\nNext, we will add 2 to both sides of the equation to isolate the term with x.\\n\\n-9x = 14\\n\\nThen, we will divide both sides by -9 to solve for x.\\n\\nx = -14/9\\n\\nTherefore, the value of x is:\\n\\nAnswer: -14/9', 'answer': '-14/9'}\n",
      "Processed 3 questions.\n",
      "\n",
      "correct_answer_text: 1\n",
      "clean options: ['A) 0', 'B) 1', 'C) 3', 'D) 6', 'E) 7']\n",
      "extracted answer: 3\n",
      "incorrect\n",
      "Incorrect: {'question': 'A Bell Curve (Normal Distribution) has a mean of − 1 and a standard deviation of 1/8 . How many integer values Q are within three standard deviations of the mean?', 'rationale': 'To solve this problem, we need to calculate the range of values that fall within three standard deviations of the mean.\\n\\nStep 1: Calculate the lower bound by subtracting three times the standard deviation from the mean:\\nLower Bound = Mean - (3 * Standard Deviation)\\nLower Bound = -1 - (3 * 1/8)\\nLower Bound = -1 - 3/8\\nLower Bound = -1 - 0.375\\nLower Bound ≈ -1.375\\n\\nStep 2: Calculate the upper bound by adding three times the standard deviation to the mean:\\nUpper Bound = Mean + (3 * Standard Deviation)\\nUpper Bound = -1 + (3 * 1/8)\\nUpper Bound = -1 + 3/8\\nUpper Bound = -1 + 0.375\\nUpper Bound ≈ -0.625\\n\\nStep 3: Since we are looking for integer values, we need to find the integers that fall within this range.\\n\\nStep 4: Count the number of integers in this range.\\n\\nThe integers within this range are -2, -1, 0.\\n\\nThere are 3 integer values within three standard deviations of the mean.\\n\\nAnswer: 3', 'answer': '3'}\n",
      "Processed 4 questions.\n",
      "\n",
      "correct_answer_text: 2500\n",
      "clean options: ['A) 2888', 'B) 2778', 'C) 2500', 'D) 2818', 'E) 2871']\n",
      "extracted answer: $1666.67\n",
      "incorrect\n",
      "Incorrect: {'question': \"A, B and C are partners. A receives 2/3 of profits, B and C dividing the remainder equally. A's income is increased by Rs.200 when the rate to profit rises from 5 to 7 percent. Find the Capital of B?\", 'rationale': \"Let's break down the problem step-by-step.\\n\\nStep 1:  We are given that A receives 2/3 of the profits, while B and C divide the remaining 1/3 equally between them.\\nStep 2:  This means that A gets 2/3 of the total profit, leaving B and C with a combined share of 1/3, which they split equally. Therefore, each of B and C receives 1/6 of the total profit.\\nStep 3:  Now, let's assume that the total capital is represented by 'C'.\\nStep 4:  We are told that A's income increases by Rs.200 when the rate to profit rises from 5% to 7%.\\nStep 5:  To understand this increase in A's income, we first calculate the total increase in profits due to the change in the rate of interest.\\nStep 6:  The difference between 7% and 5% of C is (2/100)C = Rs.200.\\nStep 7:  We can now find the value of C by solving the equation (2/100)C = 200, which gives us C = Rs.10,000.\\nStep 8:  So far, we have calculated A's share as 2/3 of the total profit, and B and C's combined share as 1/3 of the total profit.\\nStep 9:  We know that B and C split their combined 1/3 equally. Hence, B's income is equal to half of 1/3, which equals 1/6 of the total profits.\\nStep 10:  To find B's capital, we can express B's income as a fraction of the total profit, giving us (1/6)C = B's income.\\nStep 11:  Substituting the value of C from earlier, we get B's income = Rs.1,666.67.\\n\\nAnswer: $1666.67\", 'answer': '$1666.67'}\n",
      "Processed 5 questions.\n",
      "\n",
      "correct_answer_text: 4:00\n",
      "clean options: ['A) 2:30', 'B) 3:00', 'C) 4:00', 'D) 6:00', 'E) 9:00']\n",
      "extracted answer: 7:25\n",
      "incorrect\n",
      "Incorrect: {'question': 'At 1:00, Annie starts to bicycle along a 87 mile road at a constant speed of 15 miles per hour. Thirty minutes earlier, Scott started bicycling towards Annie on the same road at a constant speed of 12 miles per hour. At what time will they meet?', 'rationale': \"To solve this problem, let's break it down into steps.\\n\\nStep 1: Calculate the distance Annie covers in one hour.\\nSince Annie travels at a speed of 15 miles per hour, she covers 15 miles in one hour.\\n\\nStep 2: Calculate the time it takes for Scott to cover the distance equal to Annie's hourly distance.\\nIn 30 minutes (or half an hour), Scott will cover half the distance that Annie covers in an hour. Since Annie covers 15 miles in an hour, Scott will cover 7.5 miles in 30 minutes.\\n\\nStep 3: Calculate how much time is left for them to meet after Scott starts biking.\\nWhen Scott starts biking, Annie has already covered some distance. The remaining distance they need to cover to meet is the initial distance minus the distance Annie has already covered plus the distance Scott has covered while chasing her. Let's denote this time as t hours.\\n\\nStep 4: Set up an equation for the relative speeds of Annie and Scott.\\nIn one hour, Annie covers a certain distance. In the same time, Scott also covers some distance. Since they are moving towards each other, their relative speed is the sum of their individual speeds.\\n\\nLet's denote the remaining distance to be covered as D miles. Then in t hours:\\n\\n15t = 12(t - 1/2) + D\\n\\nStep 5: Calculate the initial distance covered by Annie before Scott starts biking.\\nAnnie travels at a constant speed for half an hour (30 minutes), which is equal to 0.5 hours.\\n\\nDistance = Speed × Time\\nDistance = 15 miles/hour × 0.5 hours\\nDistance = 7.5 miles\\n\\nStep 6: Calculate the remaining distance D using the distances covered by Annie and Scott.\\nLet's denote this time as t hours. Then, we can calculate the remaining distance:\\n\\nD = Initial Distance - Distance Covered by Annie + Distance Covered by Scott\\n\\nSubstituting the values calculated earlier:\\n\\nD = 87 miles - (15 miles/hour × 0.5 hours) + (12 miles/hour × 1/2 hour)\\nD = 85.5 miles\\n\\nStep 7: Substitute D into the equation for their relative speeds and solve for t.\\nSubstituting the value of D into the equation:\\n\\n15t = 12(t - 1/2) + 85.5\\n15t = 12t - 6 + 85.5\\n3t = 91.5\\nt ≈ 30.5 hours\\n\\nStep 8: Calculate the time they will meet after Scott starts biking.\\nSince Annie starts at 1:00, and we want to find out when they will meet, we need to add the time it takes for them to meet (which is t hours) to the initial hour.\\n\\nMeeting Time = Initial Hour + Meeting Time in Hours\\nMeeting Time ≈ 1:00 + 30.5 hours\\n\\nStep 9: Convert the total hours into a 24-hour format.\\nSince there are only 2 possible answers that work, let's calculate it and see which one works:\\n\\n6:15 PM - (Annie started biking at 1:00 PM)\\nMeeting Time = 6:15 PM + 30.5 hours\\nMeeting Time ≈ 12:45 AM\\n\\nHowever, the meeting time must be before 9:00 PM, as Annie will have already covered half the distance by then.\\n\\nSince there are only two possible answers (7:25 and 10:40) that work, let's calculate it and see which one works:\\n\\nMeeting Time = 1:00 + 30.5 hours\\nMeeting Time ≈ 7:25 PM\\n\\nThe meeting time is indeed before 9:00 PM.\\n\\nStep 10: Provide the final answer.\\nBased on our calculations, we find that they will meet at approximately 7:25 PM.\\n\\nAnswer: 7:25\", 'answer': '7:25'}\n",
      "Processed 6 questions.\n",
      "\n",
      "correct_answer_text: 3/5\n",
      "clean options: ['A) 7/5', 'B) 1/2', 'C) 8/15', 'D) 2/5', 'E) 3/5']\n",
      "extracted answer: None\n",
      "incorrect\n",
      "Incorrect: {'question': 'Kim finds a 6-meter tree branch and marks it off in thirds and fifths. She then breaks the branch along all the markings and removes one piece of every distinct length. What fraction of the original branch remains?', 'rationale': \"To solve this problem, we need to understand how Kim marked and broke the branch.\\n\\nFirst, let's mark the 6-meter branch in thirds. This means that we will divide the branch into three equal parts. Since the total length is 6 meters, each third will be 2 meters long (6 / 3 = 2).\\n\\nNext, we will mark the branch in fifths. This means that we will divide the branch into five equal parts. Since the total length is 6 meters, each fifth will be 1.2 meters long (6 / 5 = 1.2).\\n\\nNow, let's list all the distinct lengths of the pieces Kim removed:\\n\\n* 1 third (2 meters)\\n* 1 fifth (1.2 meters)\\n\\nSince Kim only removes one piece of every distinct length, we can see that she removed a total of two pieces.\\n\\nThe next step is to find the combined length of these two pieces. Since each piece has a distinct length, their combined length will be the sum of their lengths:\\n\\n* 2 meters (third) + 1.2 meters (fifth) = 3.2 meters\\n\\nNow, we need to subtract this combined length from the original length of the branch to find the remaining fraction.\\n\\nThe original length of the branch is 6 meters. To find the remaining fraction, we will subtract the combined length (3.2 meters) from the original length:\\n\\n* Remaining length = Original length - Combined length\\n= 6 meters - 3.2 meters\\n= 2.8 meters\\n\\nTo express this as a fraction of the original branch, we need to divide the remaining length by the original length:\\n\\n* Fraction remaining = Remaining length / Original length\\n= 2.8 meters / 6 meters\\n= 0.4667 (which is approximately 14/30 or 7/15)\\n\\nHowever, since Kim broke and removed pieces of every distinct length, we need to consider that she will also remove the remaining two-thirds and four-fifths lengths. Therefore, we should subtract these lengths as well:\\n\\n* Remaining third = 2 meters - 1 meter (assuming she breaks off one-third of this piece) = 0.5 meter\\n* Removed fifth = 1.2 meters\\n\\nHowever, since there is an overlap in the markings, we need to be careful not to double-count any pieces.\\n\\nConsidering that Kim removed a third and a fifth, let's consider the length she removed as a single piece of the form (a/b) * x, where x is the original length of 6 meters. In this case:\\n\\n* Third: 1/3 * 6 = 2 meters\\n* Fifth: 1/5 * 6 = 1.2 meters\\n\\nWe'll assume that each piece was cut such that it matches one of these markings.\\n\\nGiven that, let's find the length she removed in terms of x (the original length):\\n\\nAssuming that Kim breaks off pieces matching the thirds and fifths markings, we can see that she would remove two distinct lengths: a third and a fifth. However, since each marking results from dividing x by 3 or 5, respectively, there is an overlap when considering the actual cut.\\n\\nTo correct our approach, let's consider the distinct lengths again, taking into account the actual markings on the branch:\\n\\n* A third (1/3 * x) = 2 meters\\n* Two-fifths (2/5 * x) = 2.4 meters\\n\\nUpon reevaluating, it appears we need to consider all these different lengths as separate pieces.\\n\\nThe key is understanding that there will be an overlap in markings when breaking the branch, meaning some of the lengths we initially considered are actually redundant. We should not include these redundant lengths when calculating the total removed length.\\n\\nGiven this correction, let's reassess:\\n\\nWhen considering the distinct lengths Kim removes from each marking, it appears she would have two pieces that do not overlap with any markings: a third and a fifth. However, this simplification ignores an important aspect of how the branch is marked in thirds and fifths.\\n\\nUpon closer examination, when we break off every piece matching one of these markings, some distinct lengths are actually produced due to the original markings on the 6-meter branch:\\n\\n* When removing pieces matching the third marking (1/3 * x = 2 meters), there will be two distinct lengths: a full third (2 meters) and half a third (1 meter).\\n* Similarly, when removing pieces matching the fifth marking (1/5 * x = 1.2 meters), there will be two distinct lengths: a full fifth (1.2 meters) and three-fifths minus one-tenth of this length (i.e., 0.3 meters).\\n\\nThe correct calculation involves finding the sum of these distinct lengths produced by removing pieces matching each marking:\\n\\nTotal removed length = (sum of third markings) + (sum of fifth markings)\\n\\nTo find the total removed length, we should add the full third and half a third to the full fifth and three-fifths minus one-tenth:\\n\\n* Total removed length = 2 meters + 1 meter + 1.2 meters + 0.3 meters\\n= 4.5 meters\\n\\nNow that we have the total removed length, let's subtract it from the original branch length (6 meters) to find the remaining fraction.\\n\\nThe remaining length is:\\n\\nRemaining length = Original branch length - Total removed length\\n= 6 meters - 4.5 meters\\n= 1.5 meters\\n\\nTo express this as a fraction of the original branch, we will divide the remaining length by the original branch length:\\n\\nFraction remaining = Remaining length / Original branch length\\n= 1.5 meters / 6 meters\\n= 0.25 (which is approximately 3/12 or 1/4)\\n\\nSo, when considering all distinct lengths produced by removing pieces matching each marking and accounting for any overlaps due to the original markings on the 6-meter branch, we find that:\\n\\nThe final answer is: $\\\\boxed{0.25}$\", 'answer': 'No Answer Extracted'}\n",
      "Processed 7 questions.\n",
      "\n",
      "correct_answer_text: 30\n",
      "clean options: ['A) 10', 'B) 20', 'C) 30', 'D) 40', 'E) 50']\n",
      "extracted answer: None\n",
      "incorrect\n",
      "Incorrect: {'question': 'a coffee seller has two types of coffee Brand A costing 5 bits per pound and Brand B costing 3 bits\\nper pound. he mixes two brands to get a 40 pound mixture. he sold this at 6 bits per pound. the seller gets a profit of 33 1/2 percent. how much he has used Brand A in the mixture?', 'rationale': \"To solve this problem, let's first define what we need to find out:\\n\\nLet x be the number of pounds of Brand A coffee and (40 - x) be the number of pounds of Brand B coffee.\\n\\nThe cost price for the mixture is given by:\\nCost Price = Cost of Brand A + Cost of Brand B\\n= 5x + 3(40 - x)\\n= 5x + 120 - 3x\\n= 2x + 120\\n\\nSince he sold this at 6 bits per pound, the total cost price for a 40-pound mixture is:\\nCost Price = (Price per pound) × (Weight in pounds) \\n= 6 × 40\\n= 240 bits\\n\\nWe also know that the seller gets a profit of 33 1/2 percent. This means the selling price is 133 1/2% of the cost price, which can be expressed as:\\nSelling Price = Cost Price + Profit\\n= (Cost Price) × (1 + Profit Percentage)\\n= 240 × (1 + 0.335)\\n= 240 × 1.335\\n= 320 bits\\n\\nThe selling price for the mixture is given by:\\nSelling Price = Selling price per pound × Weight in pounds \\n= 6 × 40\\n= 240 bits (we know this value, but not how it was derived)\\n\\nEquating our two expressions for Selling Price and simplifying gives us an equation that can be used to solve for the amount of Brand A coffee used:\\nCost Price = Cost of Brand A + Cost of Brand B \\n= 5x + 120 - 3x \\n= 2x + 120 \\n\\nSelling Price = 320 bits (from above), Weight in pounds = 40\\n\\n6 × 40 = Cost of Brand A + Cost of Brand B + Profit\\n240 = Cost of Brand A + Cost of Brand B + Profit\\nWe already know the profit is equal to \\nProfit = 0.335 × (Cost Price) \\n= 0.335 × (2x + 120)\\n= 0.67x + 40.5\\n\\nSubstituting this expression for the profit into our equation for Selling Price:\\n6 × 40 = Cost of Brand A + Cost of Brand B + Profit\\n240 = 5x + 3(40 - x) + 0.67x + 40.5\\nWe can now solve for the value of x by simplifying and solving this equation:\\n2x + 120 = (1/5)x × 6 + 120 \\n2x + 120 = x + 240 \\n2x - x + 120 - 240 = 0\\nx = 60\\n\\nThe final answer is:\", 'answer': 'No Answer Extracted'}\n",
      "Processed 8 questions.\n",
      "\n",
      "correct_answer_text: 720\n",
      "clean options: ['A) 720', 'B) 650', 'C) 1500', 'D) 1640', 'E) 1440']\n",
      "extracted answer: None\n",
      "correct\n",
      "Correct: {'question': 'A parking space have 8 different slots. 8 cars has to arrange in 8 slots. But there are exactly 4 cars between 3 specified cars. In how many ways cars can be arranged?', 'rationale': 'Let\\'s break down the problem step by step.\\n\\nWe have 8 different slots and 8 cars that need to be arranged in these slots. However, we also know that there are exactly 4 cars between 3 specified cars.\\n\\nLet\\'s denote the 3 specified cars as A, B, and C. We can think of the arrangement as having a \"block\" of 4 cars between A, B, and C.\\n\\nSince there are 8 different slots, we can imagine the slots as being numbered from 1 to 8. The block of 4 cars will occupy slots 2-5 (inclusive).\\n\\nNow, let\\'s count the number of ways to arrange the cars:\\n\\n1. We have a fixed position for A, which occupies slot 1.\\n2. We also have a fixed position for B, which can be in one of two positions: either in slot 6 or slot 7. This is because there are 4 slots between A and C (slots 2-5), so B can only occupy the slot immediately after the block or the slot immediately before the block.\\n3. The remaining 5 cars will fill the remaining 5 slots (1, 8 for the first car to be placed, and 6-7, the slots on either side of the block for the next two cars).\\n4. We can arrange these 5 cars in 5! = 120 ways.\\n\\nHowever, we need to consider that B can occupy either slot 6 or slot 7. This means that there are 2 ways to arrange the cars with respect to this constraint.\\n\\nTherefore, the total number of ways to arrange the cars is:\\n\\n2 (ways for B to occupy slot 6 or slot 7) × 120 (arrangements for the remaining 5 cars)\\n\\n= 240\\n\\nAnswer:', 'answer': None}\n",
      "Processed 9 questions.\n",
      "\n",
      "correct_answer_text: 16.66%\n",
      "clean options: ['A) 16%', 'B) 16.66%', 'C) 16.98%', 'D) 17.23%', 'E) 18.3%']\n",
      "extracted answer: None\n",
      "incorrect\n",
      "Incorrect: {'question': 'John makes $60 a week from his job. He earns a raise andnow makes $70 a week. What is the % increase?', 'rationale': \"To find the percentage increase, we first need to find the difference between John's new salary and his old salary.\\n\\nNew salary = $70\\nOld salary = $60\\nDifference = New salary - Old salary = $70 - $60 = $10\\n\\nNext, we divide the difference by the old salary to get the fraction of the original amount that was increased:\\n\\nFraction increased = Difference / Old salary = $10 / $60 = 1/6\\n\\nFinally, we multiply this fraction by 100 to convert it into a percentage. Since 1/6 is equal to approximately 0.167 or 16.67%, we can say that John's salary increased by about 17%.\\n\\nTherefore, the % increase in John's salary is approximately:\\n\\n% Increase = Fraction increased × 100 ≈ 16.67%\\n\\nAnswer:\", 'answer': 'No Answer Extracted'}\n",
      "Processed 10 questions.\n",
      "\n"
     ]
    }
   ],
   "source": [
    "for idx, example in enumerate(dataset_D_subset):\n",
    "    question = example['question']\n",
    "    # Map 'correct' label to answer text\n",
    "    raw_options = example['options']\n",
    "    cleaned_options = clean_options(raw_options)\n",
    "    correct_label = example['correct'].strip().upper()\n",
    "    correct_answer_text = get_correct_answer_text(cleaned_options, correct_label)\n",
    "\n",
    "    print(f\"correct_answer_text: {correct_answer_text}\")\n",
    "    print(f\"clean options: {cleaned_options}\")\n",
    "    \n",
    "    if correct_answer_text is None:\n",
    "        print(f\"Skipping example {idx} due to missing correct answer.\")\n",
    "        continue  # Skip this example\n",
    "    \n",
    "    # Generate rationale and answer\n",
    "    generated_rationale = generate_rationale_and_answer(question, prompt_set)\n",
    "    \n",
    "    # Extract the answer text from the rationale\n",
    "    extracted_answer = extract_answer_text(generated_rationale)\n",
    "    print(f\"extracted answer: {extracted_answer}\")\n",
    "\n",
    "    response = ollama.chat(model=\"llama3.1:8b\", messages=[\n",
    "            {\n",
    "                'role': 'user',\n",
    "                'content':\n",
    "                f\"\"\"\n",
    "                    Your task is to compare two numerical answers and determine if they are the same answer, ignoring differences in units or formatting.\\n\\n\n",
    "                    Comparison Rules:\\n\\n\n",
    "                    - If the answers are the same, for example, First Answer: '90' and Second Answer: '90 miles' or ( km, %, sec, ml, etc) this is a match and return 'correct' in your response.\\n\n",
    "                    - If the answers are different, consider them NOT a match and return 'incorrect' in your response.\\n\\n\n",
    "                    Ignore differences in formatting, such as trailing zeros.\\n\\n\n",
    "\n",
    "                    Compare the Following Answers:\\n\n",
    "                    First answer: {extracted_answer}\\n\n",
    "                    Second answer: {correct_answer_text}\\n\\n\n",
    "                    Respond with:\\n\n",
    "                    \"correct\" if the two answers are the same\\n\n",
    "                    \"incorrect\" if the two answers are not the same\\n\\n\n",
    "                    Please respond with only one of the above options, without any explanations.\n",
    "                \"\"\"\n",
    "            },\n",
    "     ])\n",
    "    \n",
    "    decision = response['message']['content'].strip()\n",
    "    print(decision)\n",
    "    \n",
    "    # Categorize based on extracted answer\n",
    "    if decision.lower() == \"correct\":\n",
    "        correct_pairs.append({\n",
    "            'question': question,\n",
    "            'rationale': generated_rationale,\n",
    "            'answer': extracted_answer\n",
    "        })\n",
    "        print('Correct:', {\n",
    "            'question': question,\n",
    "            'rationale': generated_rationale,\n",
    "            'answer': extracted_answer\n",
    "        })\n",
    "    elif decision.lower() == \"incorrect\":\n",
    "        incorrect_pairs.append({\n",
    "            'question': question,\n",
    "            'rationale': generated_rationale,\n",
    "            'answer': extracted_answer if extracted_answer else \"No Answer Extracted\"\n",
    "        })\n",
    "        print(\"Incorrect:\",  {\n",
    "            'question': question,\n",
    "            'rationale': generated_rationale,\n",
    "            'answer': extracted_answer if extracted_answer else \"No Answer Extracted\"\n",
    "        })\n",
    "    else:\n",
    "        unanswered_paris.append({\n",
    "            'question': question,\n",
    "            'rationale': generated_rationale,\n",
    "            'answer': extracted_answer if extracted_answer else \"No Answer Extracted\"\n",
    "        })\n",
    "        print(\"Unanswered:\",  {\n",
    "            'question': question,\n",
    "            'rationale': generated_rationale,\n",
    "            'answer': extracted_answer if extracted_answer else \"No Answer Extracted\"\n",
    "        })\n",
    "        \n",
    "\n",
    "    # Print progress every example\n",
    "    print(f\"Processed {idx + 1} questions.\\n\")"
   ]
  },
  {
   "cell_type": "code",
   "execution_count": 585,
   "metadata": {},
   "outputs": [
    {
     "data": {
      "text/plain": [
       "[{'question': 'If the area of a square with sides of length 4 centimeters is equal to the area of a rectangle with a width of 8 centimeters, what is the length of the rectangle, in centimeters?',\n",
       "  'rationale': \"Let's solve the problem step by step.\\n\\nStep 1: Calculate the area of the square.\\nThe formula for the area of a square is side × side. Since the sides of the square are 4 centimeters, we can calculate its area as follows:\\nArea = side × side\\n= 4 cm × 4 cm\\n= 16 square centimeters\\n\\nStep 2: Set up an equation using the areas.\\nSince the area of the square is equal to the area of the rectangle, we can set up the following equation:\\nArea of square = Area of rectangle\\n16 square centimeters = width × length\\n8 cm × length = 16 square centimeters\\n\\nStep 3: Solve for the length of the rectangle.\\nTo find the length of the rectangle, we need to isolate it in the equation. We can do this by dividing both sides of the equation by the width:\\nLength = Area / Width\\n= 16 square centimeters / 8 cm\\n= 2 centimeters\\n\\nStep 4: Check our answer.\\nWe have found that the length of the rectangle is 2 centimeters. To check our answer, we can calculate the area of the rectangle using this length and compare it to the area of the square:\\nArea = width × length\\n= 8 cm × 2 cm\\n= 16 square centimeters\\n\\nSince the areas match, we know that our answer is correct.\\n\\nAnswer: 2\",\n",
       "  'answer': '2'},\n",
       " {'question': 'The Italian size of a suit jacket is N centimeters, where N is the linear distance between the armpits when the jacket is laid on a flat surface. The American size of a suit jacket is P inches, where P is twice the linear distance between the armpits when the jacket is laid on a flat surface. If, for a particular jacket, N = P + 15, which of the following is closest to the value of N? (One inch is approximately 2.54 centimeters.)',\n",
       "  'rationale': \"To solve this problem, we need to first find the relationship between N and P.\\n\\nGiven that N = P + 15, we know that N is 15 inches larger than P.\\n\\nSince one inch is approximately 2.54 centimeters, we can convert this relationship into a more meaningful unit for us:\\n\\n1 inch ≈ 2.54 cm\\n\\nFirst, let's find the conversion factor from inches to centimeters:\\n1 in × (2.54 cm/in) = 2.54 cm\\n\\nNow, let's use this conversion factor to rewrite N and P in terms of centimeters:\\nN ≈ 2.54cm × P + 15\\nP + 15 ≈ 2.54 cm × P + 15\\n\\nGiven that the American size of a suit jacket is 48 inches (as per the options), we can substitute this value into the equation:\\n\\nN = 48 + 15\\nN ≈ 63 centimeters\\n\\nLet's calculate this:\\n48 in × (2.54 cm/in) = 122.4 cm\\nNow, add 15 to this result:\\n122.4 + 15 ≈ 137.4 cm\\nSo, N is approximately equal to 137.4 cm.\\n\\nHowever, we were asked for the closest value of N. Let's compare this with other possible values:\\nIf N = 60 centimeters, it would be 5 inches less than P.\\nAs per our conversion factor, P ≈ 60/2.54 ≈ 23.62 in\\nBut American size is always even numbers (22,24,26 etc) because they double the measurement of the distance between two armpits.\\nSo, we can safely assume that N will be a multiple of 2 inches (one inch being equal to half the distance between two armpits).\\n\\nTherefore, the closest multiple of 2.54 centimeters is:\\n2 × 2.54 ≈ 5.08 cm\\nAdding this multiple to our value for P (23.62 in), we get an approximate value for N:\\nN ≈ 23.62 + 5.08 ≈ 28.7 inches\\n\\nNow, convert this to centimeters:\\nN ≈ 28.7 × 2.54 cm ≈ 73.1 cm\\nThis is close enough to the actual answer (137.4).\\n\\nThe closest multiple of 2.54 cm that we get when doubling our American measurement for P (23.62) would be approximately equal to 47 centimeters.\\nTherefore, adding this value to the given value for P + 15 results in a final answer:\\nN ≈ 47 + 15 ≈ 62 centimeters\\n\\nTherefore, the closest multiple of 2 inches that we get when doubling our American measurement for P (23.62) would be approximately equal to 48 centimeters.\\nTherefore, adding this value to the given value for P + 15 results in a final answer:\\nN ≈ 48 + 15 ≈ 63 centimeters\\n\\nThe closest multiple of 2 inches that we get when doubling our American measurement for P (23.62) would be approximately equal to 47 centimeters.\\nTherefore, adding this value to the given value for P + 15 results in a final answer:\\nN ≈ 47 + 15 ≈ 62 centimeters\\n\\nSo the closest multiple of two inches is indeed 48 centimeters.\\n\\nWe can confirm that we arrived at the correct solution by plugging in values close to our calculated value into our conversion factor and seeing which one gives us the closest approximation.\\n\\nAnswer: 63\",\n",
       "  'answer': 'N ≈ 47 + 15 ≈ 62 centimeters'},\n",
       " {'question': 'A parking space have 8 different slots. 8 cars has to arrange in 8 slots. But there are exactly 4 cars between 3 specified cars. In how many ways cars can be arranged?',\n",
       "  'rationale': 'Let\\'s break down the problem step by step.\\n\\nWe have 8 different slots and 8 cars that need to be arranged in these slots. However, we also know that there are exactly 4 cars between 3 specified cars.\\n\\nLet\\'s denote the 3 specified cars as A, B, and C. We can think of the arrangement as having a \"block\" of 4 cars between A, B, and C.\\n\\nSince there are 8 different slots, we can imagine the slots as being numbered from 1 to 8. The block of 4 cars will occupy slots 2-5 (inclusive).\\n\\nNow, let\\'s count the number of ways to arrange the cars:\\n\\n1. We have a fixed position for A, which occupies slot 1.\\n2. We also have a fixed position for B, which can be in one of two positions: either in slot 6 or slot 7. This is because there are 4 slots between A and C (slots 2-5), so B can only occupy the slot immediately after the block or the slot immediately before the block.\\n3. The remaining 5 cars will fill the remaining 5 slots (1, 8 for the first car to be placed, and 6-7, the slots on either side of the block for the next two cars).\\n4. We can arrange these 5 cars in 5! = 120 ways.\\n\\nHowever, we need to consider that B can occupy either slot 6 or slot 7. This means that there are 2 ways to arrange the cars with respect to this constraint.\\n\\nTherefore, the total number of ways to arrange the cars is:\\n\\n2 (ways for B to occupy slot 6 or slot 7) × 120 (arrangements for the remaining 5 cars)\\n\\n= 240\\n\\nAnswer:',\n",
       "  'answer': None},\n",
       " {'question': 'John makes $60 a week from his job. He earns a raise andnow makes $70 a week. What is the % increase?',\n",
       "  'rationale': \"To find the percentage increase, we first need to find the difference between John's new salary and his old salary.\\n\\nNew salary = $70\\nOld salary = $60\\nDifference = New salary - Old salary = $70 - $60 = $10\\n\\nNext, we divide the difference by the old salary to get the fraction of the original amount that was increased:\\n\\nFraction increased = Difference / Old salary = $10 / $60 = 1/6\\n\\nFinally, we multiply this fraction by 100 to convert it into a percentage. Since 1/6 is equal to approximately 0.167 or 16.67%, we can say that John's salary increased by about 17%.\\n\\nTherefore, the % increase in John's salary is approximately:\\n\\n% Increase = Fraction increased × 100 ≈ 16.67%\\n\\nAnswer:\",\n",
       "  'answer': 'No Answer Extracted'}]"
      ]
     },
     "execution_count": 585,
     "metadata": {},
     "output_type": "execute_result"
    }
   ],
   "source": [
    "correct_pairs"
   ]
  },
  {
   "cell_type": "code",
   "execution_count": 584,
   "metadata": {},
   "outputs": [],
   "source": [
    "correct_pairs.append({'question': 'John makes $60 a week from his job. He earns a raise andnow makes $70 a week. What is the % increase?',\n",
    "  'rationale': \"To find the percentage increase, we first need to find the difference between John's new salary and his old salary.\\n\\nNew salary = $70\\nOld salary = $60\\nDifference = New salary - Old salary = $70 - $60 = $10\\n\\nNext, we divide the difference by the old salary to get the fraction of the original amount that was increased:\\n\\nFraction increased = Difference / Old salary = $10 / $60 = 1/6\\n\\nFinally, we multiply this fraction by 100 to convert it into a percentage. Since 1/6 is equal to approximately 0.167 or 16.67%, we can say that John's salary increased by about 17%.\\n\\nTherefore, the % increase in John's salary is approximately:\\n\\n% Increase = Fraction increased × 100 ≈ 16.67%\\n\\nAnswer:\",\n",
    "  'answer': 'No Answer Extracted'})"
   ]
  },
  {
   "cell_type": "code",
   "execution_count": 583,
   "metadata": {},
   "outputs": [
    {
     "data": {
      "text/plain": [
       "[{'question': 'if x/4-x-3/6=1,then find the value of x.',\n",
       "  'rationale': 'To solve for x, we will start by getting rid of the fractions. We can do this by multiplying every term in the equation by the least common multiple (LCM) of 4 and 6, which is 12.\\n\\nMultiplying both sides of the equation by 12 gives us:\\n\\n3x - 12x - 2 = 12\\n\\nNow, we will combine like terms to simplify the equation.\\n\\n-9x - 2 = 12\\n\\nNext, we will add 2 to both sides of the equation to isolate the term with x.\\n\\n-9x = 14\\n\\nThen, we will divide both sides by -9 to solve for x.\\n\\nx = -14/9\\n\\nTherefore, the value of x is:\\n\\nAnswer: -14/9',\n",
       "  'answer': '-14/9'},\n",
       " {'question': 'A Bell Curve (Normal Distribution) has a mean of − 1 and a standard deviation of 1/8 . How many integer values Q are within three standard deviations of the mean?',\n",
       "  'rationale': 'To solve this problem, we need to calculate the range of values that fall within three standard deviations of the mean.\\n\\nStep 1: Calculate the lower bound by subtracting three times the standard deviation from the mean:\\nLower Bound = Mean - (3 * Standard Deviation)\\nLower Bound = -1 - (3 * 1/8)\\nLower Bound = -1 - 3/8\\nLower Bound = -1 - 0.375\\nLower Bound ≈ -1.375\\n\\nStep 2: Calculate the upper bound by adding three times the standard deviation to the mean:\\nUpper Bound = Mean + (3 * Standard Deviation)\\nUpper Bound = -1 + (3 * 1/8)\\nUpper Bound = -1 + 3/8\\nUpper Bound = -1 + 0.375\\nUpper Bound ≈ -0.625\\n\\nStep 3: Since we are looking for integer values, we need to find the integers that fall within this range.\\n\\nStep 4: Count the number of integers in this range.\\n\\nThe integers within this range are -2, -1, 0.\\n\\nThere are 3 integer values within three standard deviations of the mean.\\n\\nAnswer: 3',\n",
       "  'answer': '3'},\n",
       " {'question': \"A, B and C are partners. A receives 2/3 of profits, B and C dividing the remainder equally. A's income is increased by Rs.200 when the rate to profit rises from 5 to 7 percent. Find the Capital of B?\",\n",
       "  'rationale': \"Let's break down the problem step-by-step.\\n\\nStep 1:  We are given that A receives 2/3 of the profits, while B and C divide the remaining 1/3 equally between them.\\nStep 2:  This means that A gets 2/3 of the total profit, leaving B and C with a combined share of 1/3, which they split equally. Therefore, each of B and C receives 1/6 of the total profit.\\nStep 3:  Now, let's assume that the total capital is represented by 'C'.\\nStep 4:  We are told that A's income increases by Rs.200 when the rate to profit rises from 5% to 7%.\\nStep 5:  To understand this increase in A's income, we first calculate the total increase in profits due to the change in the rate of interest.\\nStep 6:  The difference between 7% and 5% of C is (2/100)C = Rs.200.\\nStep 7:  We can now find the value of C by solving the equation (2/100)C = 200, which gives us C = Rs.10,000.\\nStep 8:  So far, we have calculated A's share as 2/3 of the total profit, and B and C's combined share as 1/3 of the total profit.\\nStep 9:  We know that B and C split their combined 1/3 equally. Hence, B's income is equal to half of 1/3, which equals 1/6 of the total profits.\\nStep 10:  To find B's capital, we can express B's income as a fraction of the total profit, giving us (1/6)C = B's income.\\nStep 11:  Substituting the value of C from earlier, we get B's income = Rs.1,666.67.\\n\\nAnswer: $1666.67\",\n",
       "  'answer': '$1666.67'},\n",
       " {'question': 'At 1:00, Annie starts to bicycle along a 87 mile road at a constant speed of 15 miles per hour. Thirty minutes earlier, Scott started bicycling towards Annie on the same road at a constant speed of 12 miles per hour. At what time will they meet?',\n",
       "  'rationale': \"To solve this problem, let's break it down into steps.\\n\\nStep 1: Calculate the distance Annie covers in one hour.\\nSince Annie travels at a speed of 15 miles per hour, she covers 15 miles in one hour.\\n\\nStep 2: Calculate the time it takes for Scott to cover the distance equal to Annie's hourly distance.\\nIn 30 minutes (or half an hour), Scott will cover half the distance that Annie covers in an hour. Since Annie covers 15 miles in an hour, Scott will cover 7.5 miles in 30 minutes.\\n\\nStep 3: Calculate how much time is left for them to meet after Scott starts biking.\\nWhen Scott starts biking, Annie has already covered some distance. The remaining distance they need to cover to meet is the initial distance minus the distance Annie has already covered plus the distance Scott has covered while chasing her. Let's denote this time as t hours.\\n\\nStep 4: Set up an equation for the relative speeds of Annie and Scott.\\nIn one hour, Annie covers a certain distance. In the same time, Scott also covers some distance. Since they are moving towards each other, their relative speed is the sum of their individual speeds.\\n\\nLet's denote the remaining distance to be covered as D miles. Then in t hours:\\n\\n15t = 12(t - 1/2) + D\\n\\nStep 5: Calculate the initial distance covered by Annie before Scott starts biking.\\nAnnie travels at a constant speed for half an hour (30 minutes), which is equal to 0.5 hours.\\n\\nDistance = Speed × Time\\nDistance = 15 miles/hour × 0.5 hours\\nDistance = 7.5 miles\\n\\nStep 6: Calculate the remaining distance D using the distances covered by Annie and Scott.\\nLet's denote this time as t hours. Then, we can calculate the remaining distance:\\n\\nD = Initial Distance - Distance Covered by Annie + Distance Covered by Scott\\n\\nSubstituting the values calculated earlier:\\n\\nD = 87 miles - (15 miles/hour × 0.5 hours) + (12 miles/hour × 1/2 hour)\\nD = 85.5 miles\\n\\nStep 7: Substitute D into the equation for their relative speeds and solve for t.\\nSubstituting the value of D into the equation:\\n\\n15t = 12(t - 1/2) + 85.5\\n15t = 12t - 6 + 85.5\\n3t = 91.5\\nt ≈ 30.5 hours\\n\\nStep 8: Calculate the time they will meet after Scott starts biking.\\nSince Annie starts at 1:00, and we want to find out when they will meet, we need to add the time it takes for them to meet (which is t hours) to the initial hour.\\n\\nMeeting Time = Initial Hour + Meeting Time in Hours\\nMeeting Time ≈ 1:00 + 30.5 hours\\n\\nStep 9: Convert the total hours into a 24-hour format.\\nSince there are only 2 possible answers that work, let's calculate it and see which one works:\\n\\n6:15 PM - (Annie started biking at 1:00 PM)\\nMeeting Time = 6:15 PM + 30.5 hours\\nMeeting Time ≈ 12:45 AM\\n\\nHowever, the meeting time must be before 9:00 PM, as Annie will have already covered half the distance by then.\\n\\nSince there are only two possible answers (7:25 and 10:40) that work, let's calculate it and see which one works:\\n\\nMeeting Time = 1:00 + 30.5 hours\\nMeeting Time ≈ 7:25 PM\\n\\nThe meeting time is indeed before 9:00 PM.\\n\\nStep 10: Provide the final answer.\\nBased on our calculations, we find that they will meet at approximately 7:25 PM.\\n\\nAnswer: 7:25\",\n",
       "  'answer': '7:25'},\n",
       " {'question': 'Kim finds a 6-meter tree branch and marks it off in thirds and fifths. She then breaks the branch along all the markings and removes one piece of every distinct length. What fraction of the original branch remains?',\n",
       "  'rationale': \"To solve this problem, we need to understand how Kim marked and broke the branch.\\n\\nFirst, let's mark the 6-meter branch in thirds. This means that we will divide the branch into three equal parts. Since the total length is 6 meters, each third will be 2 meters long (6 / 3 = 2).\\n\\nNext, we will mark the branch in fifths. This means that we will divide the branch into five equal parts. Since the total length is 6 meters, each fifth will be 1.2 meters long (6 / 5 = 1.2).\\n\\nNow, let's list all the distinct lengths of the pieces Kim removed:\\n\\n* 1 third (2 meters)\\n* 1 fifth (1.2 meters)\\n\\nSince Kim only removes one piece of every distinct length, we can see that she removed a total of two pieces.\\n\\nThe next step is to find the combined length of these two pieces. Since each piece has a distinct length, their combined length will be the sum of their lengths:\\n\\n* 2 meters (third) + 1.2 meters (fifth) = 3.2 meters\\n\\nNow, we need to subtract this combined length from the original length of the branch to find the remaining fraction.\\n\\nThe original length of the branch is 6 meters. To find the remaining fraction, we will subtract the combined length (3.2 meters) from the original length:\\n\\n* Remaining length = Original length - Combined length\\n= 6 meters - 3.2 meters\\n= 2.8 meters\\n\\nTo express this as a fraction of the original branch, we need to divide the remaining length by the original length:\\n\\n* Fraction remaining = Remaining length / Original length\\n= 2.8 meters / 6 meters\\n= 0.4667 (which is approximately 14/30 or 7/15)\\n\\nHowever, since Kim broke and removed pieces of every distinct length, we need to consider that she will also remove the remaining two-thirds and four-fifths lengths. Therefore, we should subtract these lengths as well:\\n\\n* Remaining third = 2 meters - 1 meter (assuming she breaks off one-third of this piece) = 0.5 meter\\n* Removed fifth = 1.2 meters\\n\\nHowever, since there is an overlap in the markings, we need to be careful not to double-count any pieces.\\n\\nConsidering that Kim removed a third and a fifth, let's consider the length she removed as a single piece of the form (a/b) * x, where x is the original length of 6 meters. In this case:\\n\\n* Third: 1/3 * 6 = 2 meters\\n* Fifth: 1/5 * 6 = 1.2 meters\\n\\nWe'll assume that each piece was cut such that it matches one of these markings.\\n\\nGiven that, let's find the length she removed in terms of x (the original length):\\n\\nAssuming that Kim breaks off pieces matching the thirds and fifths markings, we can see that she would remove two distinct lengths: a third and a fifth. However, since each marking results from dividing x by 3 or 5, respectively, there is an overlap when considering the actual cut.\\n\\nTo correct our approach, let's consider the distinct lengths again, taking into account the actual markings on the branch:\\n\\n* A third (1/3 * x) = 2 meters\\n* Two-fifths (2/5 * x) = 2.4 meters\\n\\nUpon reevaluating, it appears we need to consider all these different lengths as separate pieces.\\n\\nThe key is understanding that there will be an overlap in markings when breaking the branch, meaning some of the lengths we initially considered are actually redundant. We should not include these redundant lengths when calculating the total removed length.\\n\\nGiven this correction, let's reassess:\\n\\nWhen considering the distinct lengths Kim removes from each marking, it appears she would have two pieces that do not overlap with any markings: a third and a fifth. However, this simplification ignores an important aspect of how the branch is marked in thirds and fifths.\\n\\nUpon closer examination, when we break off every piece matching one of these markings, some distinct lengths are actually produced due to the original markings on the 6-meter branch:\\n\\n* When removing pieces matching the third marking (1/3 * x = 2 meters), there will be two distinct lengths: a full third (2 meters) and half a third (1 meter).\\n* Similarly, when removing pieces matching the fifth marking (1/5 * x = 1.2 meters), there will be two distinct lengths: a full fifth (1.2 meters) and three-fifths minus one-tenth of this length (i.e., 0.3 meters).\\n\\nThe correct calculation involves finding the sum of these distinct lengths produced by removing pieces matching each marking:\\n\\nTotal removed length = (sum of third markings) + (sum of fifth markings)\\n\\nTo find the total removed length, we should add the full third and half a third to the full fifth and three-fifths minus one-tenth:\\n\\n* Total removed length = 2 meters + 1 meter + 1.2 meters + 0.3 meters\\n= 4.5 meters\\n\\nNow that we have the total removed length, let's subtract it from the original branch length (6 meters) to find the remaining fraction.\\n\\nThe remaining length is:\\n\\nRemaining length = Original branch length - Total removed length\\n= 6 meters - 4.5 meters\\n= 1.5 meters\\n\\nTo express this as a fraction of the original branch, we will divide the remaining length by the original branch length:\\n\\nFraction remaining = Remaining length / Original branch length\\n= 1.5 meters / 6 meters\\n= 0.25 (which is approximately 3/12 or 1/4)\\n\\nSo, when considering all distinct lengths produced by removing pieces matching each marking and accounting for any overlaps due to the original markings on the 6-meter branch, we find that:\\n\\nThe final answer is: $\\\\boxed{0.25}$\",\n",
       "  'answer': 'No Answer Extracted'},\n",
       " {'question': 'a coffee seller has two types of coffee Brand A costing 5 bits per pound and Brand B costing 3 bits\\nper pound. he mixes two brands to get a 40 pound mixture. he sold this at 6 bits per pound. the seller gets a profit of 33 1/2 percent. how much he has used Brand A in the mixture?',\n",
       "  'rationale': \"To solve this problem, let's first define what we need to find out:\\n\\nLet x be the number of pounds of Brand A coffee and (40 - x) be the number of pounds of Brand B coffee.\\n\\nThe cost price for the mixture is given by:\\nCost Price = Cost of Brand A + Cost of Brand B\\n= 5x + 3(40 - x)\\n= 5x + 120 - 3x\\n= 2x + 120\\n\\nSince he sold this at 6 bits per pound, the total cost price for a 40-pound mixture is:\\nCost Price = (Price per pound) × (Weight in pounds) \\n= 6 × 40\\n= 240 bits\\n\\nWe also know that the seller gets a profit of 33 1/2 percent. This means the selling price is 133 1/2% of the cost price, which can be expressed as:\\nSelling Price = Cost Price + Profit\\n= (Cost Price) × (1 + Profit Percentage)\\n= 240 × (1 + 0.335)\\n= 240 × 1.335\\n= 320 bits\\n\\nThe selling price for the mixture is given by:\\nSelling Price = Selling price per pound × Weight in pounds \\n= 6 × 40\\n= 240 bits (we know this value, but not how it was derived)\\n\\nEquating our two expressions for Selling Price and simplifying gives us an equation that can be used to solve for the amount of Brand A coffee used:\\nCost Price = Cost of Brand A + Cost of Brand B \\n= 5x + 120 - 3x \\n= 2x + 120 \\n\\nSelling Price = 320 bits (from above), Weight in pounds = 40\\n\\n6 × 40 = Cost of Brand A + Cost of Brand B + Profit\\n240 = Cost of Brand A + Cost of Brand B + Profit\\nWe already know the profit is equal to \\nProfit = 0.335 × (Cost Price) \\n= 0.335 × (2x + 120)\\n= 0.67x + 40.5\\n\\nSubstituting this expression for the profit into our equation for Selling Price:\\n6 × 40 = Cost of Brand A + Cost of Brand B + Profit\\n240 = 5x + 3(40 - x) + 0.67x + 40.5\\nWe can now solve for the value of x by simplifying and solving this equation:\\n2x + 120 = (1/5)x × 6 + 120 \\n2x + 120 = x + 240 \\n2x - x + 120 - 240 = 0\\nx = 60\\n\\nThe final answer is:\",\n",
       "  'answer': 'No Answer Extracted'},\n",
       " {'question': 'John makes $60 a week from his job. He earns a raise andnow makes $70 a week. What is the % increase?',\n",
       "  'rationale': \"To find the percentage increase, we first need to find the difference between John's new salary and his old salary.\\n\\nNew salary = $70\\nOld salary = $60\\nDifference = New salary - Old salary = $70 - $60 = $10\\n\\nNext, we divide the difference by the old salary to get the fraction of the original amount that was increased:\\n\\nFraction increased = Difference / Old salary = $10 / $60 = 1/6\\n\\nFinally, we multiply this fraction by 100 to convert it into a percentage. Since 1/6 is equal to approximately 0.167 or 16.67%, we can say that John's salary increased by about 17%.\\n\\nTherefore, the % increase in John's salary is approximately:\\n\\n% Increase = Fraction increased × 100 ≈ 16.67%\\n\\nAnswer:\",\n",
       "  'answer': 'No Answer Extracted'}]"
      ]
     },
     "execution_count": 583,
     "metadata": {},
     "output_type": "execute_result"
    }
   ],
   "source": [
    "incorrect_pairs"
   ]
  },
  {
   "cell_type": "code",
   "execution_count": 531,
   "metadata": {},
   "outputs": [
    {
     "data": {
      "text/plain": [
       "[]"
      ]
     },
     "execution_count": 531,
     "metadata": {},
     "output_type": "execute_result"
    }
   ],
   "source": [
    "unanswered_paris"
   ]
  },
  {
   "cell_type": "code",
   "execution_count": 519,
   "metadata": {},
   "outputs": [
    {
     "name": "stdout",
     "output_type": "stream",
     "text": [
      "Total questions processed: 10\n",
      "Correct answers: 5\n",
      "Incorrect answers: 5\n",
      "Unanswered answers: 0\n",
      "Accuracy: 50.00%\n"
     ]
    }
   ],
   "source": [
    "total = len(correct_pairs) + len(incorrect_pairs) + len(unanswered_paris)\n",
    "accuracy = len(correct_pairs) / total * 100\n",
    "print(f\"Total questions processed: {total}\")\n",
    "print(f\"Correct answers: {len(correct_pairs)}\")\n",
    "print(f\"Incorrect answers: {len(incorrect_pairs)}\")\n",
    "print(f\"Unanswered answers: {len(unanswered_paris)}\")\n",
    "print(f\"Accuracy: {accuracy:.2f}%\")"
   ]
  },
  {
   "cell_type": "code",
   "execution_count": 26,
   "metadata": {},
   "outputs": [
    {
     "name": "stdout",
     "output_type": "stream",
     "text": [
      "{'question': 'Rs. 825 becomes Rs. 956 in 3 years at a certain rate of simple interest.If the rate of interest is increased by 4% ,What amount will Rs. 825 become in 3 years ?', 'options': {'A': 'Rs. 1020.80', 'B': 'Rs. 1025', 'C': 'Rs. 1055', 'D': 'Data inadequate', 'E': 'None of these'}, 'rationale': \"Let's break down the problem step by step.\\n\\nGiven:\\n\\n1. Principal (P) = Rs. 825\\n2. Amount after 3 years (A) = Rs. 956\\n\\nWe need to find the rate of interest (R) at which P becomes A in 3 years. We'll use the formula for simple interest:\\n\\nSimple Interest (SI) = (P × R × T)/100\\n\\nwhere T is the time period, which is 3 years here.\\n\\nFirst, let's calculate the SI for the given scenario:\\n\\nA = P + SI\\n956 = 825 + (SI)\\nSI = 131\\n\\nNow, we can use the formula to find the rate of interest (R):\\n\\nSI = (P × R × T)/100\\n131 = (825 × R × 3)/100\\n131 = 24.75R\\nR = 131/24.75 ≈ 5.29%\\n\\nThis is the original rate of interest.\\n\\nNow, let's consider what happens when the rate of interest is increased by 4%:\\n\\nNew Rate (R') = Original Rate + Increase in Rate\\n= 5.29% + 4%\\n= 9.29%\\n\\nWe need to find the new amount that Rs. 825 will become in 3 years at this increased rate.\\n\\nUsing the simple interest formula, we can calculate the new SI:\\n\\nNew SI = (P × R' × T)/100\\n= (825 × 9.29% × 3)/100\\n= 23.61\\n\\nNow, add this new SI to the principal to find the new amount:\\n\\nNew Amount = P + New SI\\n= 825 + 23.61\\n≈ Rs. 848.61\\n\\nHowever, we're asked for a multiple-choice answer, and none of the options match our calculation. This is because we assumed that the interest is compounded annually, but the question doesn't specify this.\\n\\nLet's try another approach using compound interest formula (since it's not specified to be simple interest):\\n\\nAmount after 3 years = P × (1 + R)^T\\n\\nUsing the original rate of interest (5.29%), we get:\\n\\nA = 825 × (1 + 0.0529)^3\\n≈ Rs. 1055\\n\\nThis is the amount that would become in 3 years if the interest is compounded annually.\\n\\nSo, the correct answer is:\\n\\nC: Rs. 1055\", 'answer': 'C'}\n"
     ]
    }
   ],
   "source": [
    "new_correct_pairs = []\n",
    "\n",
    "# Process the incorrect answers\n",
    "for pair in incorrect_pairs:\n",
    "    question = pair['question']\n",
    "    options = pair['options']\n",
    "    correct_answer = pair['correct_answer']\n",
    "\n",
    "    # Generate the rationale with the correct answer as a hint\n",
    "    generated_rationale = rationalize(question, options, correct_answer, prompt_set)\n",
    "\n",
    "    # Add the rationalized example to correct_pairs\n",
    "    new_correct_pairs.append({\n",
    "        'question': question,\n",
    "        'options': options,\n",
    "        'rationale': generated_rationale,\n",
    "        'answer': correct_answer\n",
    "    })\n",
    "\n",
    "    print({\n",
    "        'question': question,\n",
    "        'options': options,\n",
    "        'rationale': generated_rationale,\n",
    "        'answer': correct_answer\n",
    "    })"
   ]
  },
  {
   "cell_type": "markdown",
   "metadata": {},
   "source": [
    "### Converting our corrected pairs into a structure the Llama3.1 model will understand for fine tuning."
   ]
  },
  {
   "cell_type": "code",
   "execution_count": 23,
   "metadata": {},
   "outputs": [
    {
     "name": "stdout",
     "output_type": "stream",
     "text": [
      "Error decoding JSON on line 18: Extra data: line 1 column 1471 (char 1470). Skipping.\n",
      "Error decoding JSON on line 84: Extra data: line 1 column 936 (char 935). Skipping.\n",
      "Conversion complete. New file saved as 'finetuning_data_new.jsonl'.\n"
     ]
    }
   ],
   "source": [
    "import json\n",
    "import re\n",
    "\n",
    "def extract_question(human_message):\n",
    "    \"\"\"\n",
    "    Extracts the question from the human message.\n",
    "\n",
    "    Args:\n",
    "        human_message (str): The message content from the human.\n",
    "\n",
    "    Returns:\n",
    "        str: Extracted question text or the original message if extraction fails.\n",
    "    \"\"\"\n",
    "    match = re.search(r'Question:\\s*(.+)', human_message, re.IGNORECASE)\n",
    "    if match:\n",
    "        return match.group(1).strip()\n",
    "    return human_message.strip()\n",
    "\n",
    "def extract_rationale(gpt_message):\n",
    "    \"\"\"\n",
    "    Extracts the rationale from the GPT message by removing any initial 'A: ...' lines,\n",
    "    removing 'Rationale:' labels, and excluding 'Answer: ...' sections.\n",
    "\n",
    "    Args:\n",
    "        gpt_message (str): The message content from GPT.\n",
    "\n",
    "    Returns:\n",
    "        str: Extracted rationale text or an empty string if extraction fails.\n",
    "    \"\"\"\n",
    "    # Step 1: Remove any initial \"A: ...\" lines\n",
    "    gpt_message = re.sub(r'^A:\\s*.+\\n', '', gpt_message, flags=re.IGNORECASE)\n",
    "\n",
    "    # Step 2: Extract text after \"Rationale:\" up to \"Answer:\" or end of string\n",
    "    match = re.search(r'Rationale:\\s*(.*?)(?:\\nAnswer:.*|$)', gpt_message, re.IGNORECASE | re.DOTALL)\n",
    "    if match:\n",
    "        rationale = match.group(1).strip()\n",
    "        return rationale\n",
    "    else:\n",
    "        # If \"Rationale:\" is not found, remove any trailing \"Answer: ...\" and return the rest\n",
    "        gpt_message = re.sub(r'\\n*Answer:\\s*.+$', '', gpt_message, flags=re.IGNORECASE | re.DOTALL).strip()\n",
    "        return gpt_message\n",
    "\n",
    "def convert_existing_jsonl(input_file, output_file):\n",
    "    \"\"\"\n",
    "    Converts the existing finetuning_data.jsonl file to the new Q&A format.\n",
    "\n",
    "    Args:\n",
    "        input_file (str): Path to the existing JSONL file.\n",
    "        output_file (str): Path to the new JSONL file to be created.\n",
    "\n",
    "    Returns:\n",
    "        None\n",
    "    \"\"\"\n",
    "    with open(input_file, 'r', encoding='utf-8') as infile, \\\n",
    "         open(output_file, 'w', encoding='utf-8') as outfile:\n",
    "        \n",
    "        for line_num, line in enumerate(infile, 1):\n",
    "            try:\n",
    "                # Each line is expected to be a JSON array of messages\n",
    "                messages = json.loads(line)\n",
    "                \n",
    "                # Ensure there are at least two messages: human and gpt\n",
    "                if len(messages) < 2:\n",
    "                    print(f\"Warning: Line {line_num} has less than 2 messages. Skipping.\")\n",
    "                    continue\n",
    "                \n",
    "                # Extract human and gpt messages\n",
    "                human_message = \"\"\n",
    "                gpt_message = \"\"\n",
    "                for msg in messages:\n",
    "                    if msg.get(\"from\") == \"human\":\n",
    "                        human_message = msg.get(\"value\", \"\").strip()\n",
    "                    elif msg.get(\"from\") == \"gpt\":\n",
    "                        gpt_message = msg.get(\"value\", \"\").strip()\n",
    "                \n",
    "                if not human_message or not gpt_message:\n",
    "                    print(f\"Warning: Line {line_num} is missing human or gpt message. Skipping.\")\n",
    "                    continue\n",
    "                \n",
    "                # Extract question and rationale\n",
    "                question = extract_question(human_message)\n",
    "                rationale = extract_rationale(gpt_message)\n",
    "                \n",
    "                if not question or not rationale:\n",
    "                    print(f\"Warning: Line {line_num} could not extract question or rationale. Skipping.\")\n",
    "                    continue\n",
    "                \n",
    "                # Create the new format\n",
    "                new_entry = {\n",
    "                    \"text\": f\"Q: {question}\\nA: {rationale}\"\n",
    "                }\n",
    "                \n",
    "                # Write to the new JSONL file\n",
    "                outfile.write(json.dumps(new_entry, ensure_ascii=False) + '\\n')\n",
    "            \n",
    "            except json.JSONDecodeError as e:\n",
    "                print(f\"Error decoding JSON on line {line_num}: {e}. Skipping.\")\n",
    "                continue\n",
    "\n",
    "    print(f\"Conversion complete. New file saved as '{output_file}'.\")\n",
    "\n",
    "if __name__ == \"__main__\":\n",
    "    input_jsonl = 'finetuning_data.jsonl'        # Existing file\n",
    "    output_jsonl = 'finetuning_data_new.jsonl'   # New file\n",
    "        \n",
    "    # Perform the conversion\n",
    "    convert_existing_jsonl(input_jsonl, output_jsonl)"
   ]
  },
  {
   "cell_type": "markdown",
   "metadata": {},
   "source": [
    "### Appending New Data"
   ]
  },
  {
   "cell_type": "code",
   "execution_count": 520,
   "metadata": {},
   "outputs": [],
   "source": [
    "import json\n",
    "import re\n",
    "import os\n",
    "\n",
    "def convert_correct_pairs_to_conversations(correct_pairs):\n",
    "    \"\"\"\n",
    "    Converts a list of correct_pairs to the new conversation format.\n",
    "    \n",
    "    Args:\n",
    "        correct_pairs (list): List of dictionaries with keys 'question', 'rationale', and 'answer'.\n",
    "    \n",
    "    Returns:\n",
    "        list: List of dictionaries in the format {\"text\": \"Q: ...\\nA: ...\"}\n",
    "    \"\"\"\n",
    "    new_conversations = []\n",
    "    for pair in correct_pairs:\n",
    "        question = pair.get('question', '').strip()\n",
    "        rationale = pair.get('rationale', '').strip()\n",
    "        \n",
    "        if not question or not rationale:\n",
    "            print(f\"Warning: Missing question or rationale in pair: {pair}. Skipping.\")\n",
    "            continue\n",
    "        \n",
    "        # Remove any trailing \"Answer: ...\" lines from the rationale\n",
    "        # This ensures that the rationale does not contain explicit \"Answer:\" labels\n",
    "        rationale_cleaned = re.sub(r'\\n*Answer:\\s*.*$', '', rationale, flags=re.IGNORECASE).strip()\n",
    "        \n",
    "        # Additionally, remove any \"Rationale:\" labels if present\n",
    "        rationale_cleaned = re.sub(r'^Rationale:\\s*', '', rationale_cleaned, flags=re.IGNORECASE).strip()\n",
    "        \n",
    "        # Create the new conversation format\n",
    "        convo = {\n",
    "            \"text\": f\"Q: {question}\\nA: {rationale_cleaned}\"\n",
    "        }\n",
    "        new_conversations.append(convo)\n",
    "    return new_conversations\n",
    "\n",
    "def append_conversations_to_jsonl(conversations, file_path='finetuning_data.jsonl'):\n",
    "    \"\"\"\n",
    "    Appends a list of conversations to an existing JSONL file in the desired format.\n",
    "    \n",
    "    Each conversation is a dict with 'text': 'Q: ...\\nA: ...'\n",
    "    This function ensures that any residual 'Answer:' labels are removed from the 'A: ...' section.\n",
    "    \n",
    "    Args:\n",
    "        conversations (list): List of conversations to append, each as {\"text\": \"Q: ...\\nA: ...\"}.\n",
    "        file_path (str): Path to the existing JSONL file.\n",
    "    \n",
    "    Returns:\n",
    "        None\n",
    "    \"\"\"\n",
    "    # Check if the file exists\n",
    "    if os.path.exists(file_path):\n",
    "        # Check if the file ends with a newline\n",
    "        with open(file_path, 'rb') as f:\n",
    "            try:\n",
    "                f.seek(-1, os.SEEK_END)\n",
    "                last_char = f.read(1)\n",
    "                if last_char != b'\\n':\n",
    "                    newline_needed = True\n",
    "                else:\n",
    "                    newline_needed = False\n",
    "            except OSError:\n",
    "                # File is empty\n",
    "                newline_needed = False\n",
    "    else:\n",
    "        # File does not exist; will be created\n",
    "        newline_needed = False\n",
    "\n",
    "    with open(file_path, 'a', encoding='utf-8') as f:\n",
    "        # If a newline is needed before appending, add it\n",
    "        if newline_needed:\n",
    "            f.write('\\n')\n",
    "        \n",
    "        for convo in conversations:\n",
    "            text = convo.get('text', '').strip()\n",
    "            \n",
    "            # Ensure that the text starts with \"Q: \" and contains \"A: \"\n",
    "            if not text.startswith(\"Q: \") or \"\\nA: \" not in text:\n",
    "                print(f\"Warning: Conversation does not follow the 'Q: ...\\nA: ...' format. Skipping: {convo}\")\n",
    "                continue\n",
    "            \n",
    "            # Split the text into Question and Answer parts\n",
    "            try:\n",
    "                q_part, a_part = text.split(\"\\nA: \", 1)\n",
    "            except ValueError:\n",
    "                print(f\"Warning: Unable to split 'Q' and 'A' parts. Skipping: {convo}\")\n",
    "                continue\n",
    "            \n",
    "            # Clean the Answer part by removing any \"Answer:\" labels if present\n",
    "            # Although it should already be cleaned, this is an extra safeguard\n",
    "            a_part_cleaned = re.sub(r'\\n*Answer:\\s*.*$', '', a_part, flags=re.IGNORECASE).strip()\n",
    "            a_part_cleaned = re.sub(r'^Answer:\\s*', '', a_part_cleaned, flags=re.IGNORECASE).strip()\n",
    "            \n",
    "            # Reconstruct the cleaned conversation text\n",
    "            new_text = f\"{q_part}\\nA: {a_part_cleaned}\"\n",
    "            \n",
    "            # Append the cleaned conversation to the list\n",
    "            processed_convo = {\"text\": new_text}\n",
    "            \n",
    "            # Serialize and write to the file\n",
    "            json_line = json.dumps(processed_convo, ensure_ascii=False)\n",
    "            f.write(json_line + '\\n')\n",
    "    \n",
    "    print(f\"Successfully appended {len(conversations)} conversations to '{file_path}'.\")"
   ]
  },
  {
   "cell_type": "code",
   "execution_count": 586,
   "metadata": {},
   "outputs": [
    {
     "name": "stdout",
     "output_type": "stream",
     "text": [
      "Successfully appended 4 conversations to 'finetuning_data_new.jsonl'.\n"
     ]
    }
   ],
   "source": [
    "new_conversations = convert_correct_pairs_to_conversations(correct_pairs)\n",
    "    \n",
    "    # Append to the new JSONL file\n",
    "append_conversations_to_jsonl(new_conversations, 'finetuning_data_new.jsonl')"
   ]
  },
  {
   "cell_type": "code",
   "execution_count": null,
   "metadata": {},
   "outputs": [],
   "source": []
  }
 ],
 "metadata": {
  "kernelspec": {
   "display_name": ".venv",
   "language": "python",
   "name": "python3"
  },
  "language_info": {
   "codemirror_mode": {
    "name": "ipython",
    "version": 3
   },
   "file_extension": ".py",
   "mimetype": "text/x-python",
   "name": "python",
   "nbconvert_exporter": "python",
   "pygments_lexer": "ipython3",
   "version": "3.11.8"
  }
 },
 "nbformat": 4,
 "nbformat_minor": 2
}
