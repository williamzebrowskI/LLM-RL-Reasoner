{
 "cells": [
  {
   "cell_type": "code",
   "execution_count": 209,
   "metadata": {},
   "outputs": [],
   "source": [
    "import re\n",
    "import ollama\n",
    "from src.data_loading import load_data\n",
    "from src.parsing import parse_options\n",
    "from src.rationale_generation import generate_rationale_and_answer\n",
    "from src.utils import is_rationale_correct\n",
    "from src.rationalization import rationalize\n",
    "from src.prompt_generation import create_prompt_examples, create_prompt_set, clean_options, get_correct_answer_text"
   ]
  },
  {
   "cell_type": "code",
   "execution_count": 221,
   "metadata": {},
   "outputs": [],
   "source": [
    "NUM_PROMPT_EXAMPLES = 5 # number of prompt examples\n",
    "NUM_EXAMPLES_TO_PROCESS = 10 # number of examples to process"
   ]
  },
  {
   "cell_type": "markdown",
   "metadata": {},
   "source": [
    "### Load Dataset"
   ]
  },
  {
   "cell_type": "code",
   "execution_count": 222,
   "metadata": {},
   "outputs": [
    {
     "name": "stdout",
     "output_type": "stream",
     "text": [
      "Dataset({\n",
      "    features: ['question', 'options', 'rationale', 'correct'],\n",
      "    num_rows: 7\n",
      "})\n"
     ]
    }
   ],
   "source": [
    "ds_train = load_data()\n",
    "\n",
    "# Step 1: Select the desired range from ds_train\n",
    "dataset_D = ds_train.select(range(NUM_PROMPT_EXAMPLES, len(ds_train)))\n",
    "\n",
    "# Step 2: Shuffle the selected dataset\n",
    "dataset_D_shuffled = dataset_D.shuffle()  # Use any seed you prefer\n",
    "\n",
    "# Step 3: Select a subset of examples to process\n",
    "dataset_D_subset = dataset_D_shuffled.select(range(NUM_EXAMPLES_TO_PROCESS))\n",
    "\n",
    "print(dataset_D_subset)"
   ]
  },
  {
   "cell_type": "markdown",
   "metadata": {},
   "source": [
    "### Create prompt examples"
   ]
  },
  {
   "cell_type": "code",
   "execution_count": 223,
   "metadata": {},
   "outputs": [
    {
     "data": {
      "text/plain": [
       "[{'question': \"Two friends plan to walk along a 43-km trail, starting at opposite ends of the trail at the same time. If Friend P's rate is 15% faster than Friend Q's, how many kilometers will Friend P have walked when they pass each other?\",\n",
       "  'rationale': 'If Q complete x kilometers, then P completes 1.15x kilometers.\\nx + 1.15x = 43\\n2.15x=43\\nx = 43/2.15 = 20\\nThen P will have have walked 1.15*20=23 km.\\nThe answer is E.',\n",
       "  'answer': 'E'},\n",
       " {'question': 'In the coordinate plane, points (x, 1) and (5, y) are on line k. If line k passes through the origin and has slope 1/5, then what are the values of x and y respectively?',\n",
       "  'rationale': 'Line k passes through the origin and has slope 1/5 means that its equation is y=1/5*x.\\nThus: (x, 1)=(5, 1) and (5, y) = (5,1) -->x=5 and y=1\\nAnswer: C',\n",
       "  'answer': 'C'},\n",
       " {'question': 'For all numbers p and q, the operation @ is defined by p@q = p^2 - pq. If xy ≠ 0, then which of the following can be equal to zero?\\nI. x@y\\nII. (xy)@y\\nIII. x@(x + y)',\n",
       "  'rationale': 'p@q = p^2 - pq=p(p-q).... so p@q will be zero if p=q or p=0.. but a cannot be equal to 0.. as per Q, x and y can take any int value except 0...\\nnow lets look at the choices..\\nwhen x=y, it will be 0... so ok...\\nwhen we put xy=y, it is possible when x=1 and y any integer... so ok again\\nwhen we put x=x+y.... only possibility when y=0 and it is given x and y cannot be 0....so not possible\\nonly l and ll possible ans B....',\n",
       "  'answer': 'B'},\n",
       " {'question': 'Carl is facing very difficult financial times and can only pay the interest on a $10,000 loan he has taken. The bank charges him a quarterly compound rate of 4%. What is the approximate interest he pays annually?',\n",
       "  'rationale': 'Usually, you are given the annual rate of interest and it is mentioned that it is annual rate.\\nThe bank charges him a quarterly compounded ANNUAL rate of 16%.\\nHere you find per quarter rate as (16/4)% = 4%\\nI have actually never seen a question with quarter rate given but since this question did not mentionannual rate of interestand since the options did not make sense with 4% annual rate of interest, it is apparent that the intent was a 4% quarterly rate. So the bank charges 4% every quarter and compounds it in the next quarter. Had it been a simple quarterly rate, we would have just found 4 * 4% of 10,000 = $1600 as our answer.\\nBut since, the interest is compounded, it will be a bit more than $1600. Option (A) looks correct.',\n",
       "  'answer': 'A'},\n",
       " {'question': 'The speed at which a man can row a boat in still water is 25 kmph. If he rows downstream, where the speed of current is 11 kmph, what time will he take to cover 80 metres?',\n",
       "  'rationale': 'Speed of the boat downstream = 25 +11\\n= 36 kmph\\n= 36 * 5/18 = 10 m/s\\nHence time taken to cover 80 m = 80/10\\n= 8 seconds.\\nAnswer:E',\n",
       "  'answer': 'E'}]"
      ]
     },
     "execution_count": 223,
     "metadata": {},
     "output_type": "execute_result"
    }
   ],
   "source": [
    "prompt_examples = create_prompt_examples(ds_train, NUM_PROMPT_EXAMPLES)\n",
    "\n",
    "prompt_examples"
   ]
  },
  {
   "cell_type": "markdown",
   "metadata": {},
   "source": [
    "### Create Prompt Sets"
   ]
  },
  {
   "cell_type": "code",
   "execution_count": 224,
   "metadata": {},
   "outputs": [
    {
     "name": "stdout",
     "output_type": "stream",
     "text": [
      "Question: Two friends plan to walk along a 43-km trail, starting at opposite ends of the trail at the same time. If Friend P's rate is 15% faster than Friend Q's, how many kilometers will Friend P have walked when they pass each other?\n",
      "Answer Explanation: If Q complete x kilometers, then P completes 1.15x kilometers.\\nx + 1.15x = 43\\n2.15x=43\\nx = 43/2.15 = 20\\nThen P will have have walked 1.15*20=23 km.\\nThe answer is E.\n",
      "Answer: 23\n",
      "###\n",
      "Question: In the coordinate plane, points (x, 1) and (5, y) are on line k. If line k passes through the origin and has slope 1/5, then what are the values of x and y respectively?\n",
      "Answer Explanation: Line k passes through the origin and has slope 1/5 means that its equation is y=1/5*x.\\nThus: (x, 1)=(5, 1) and (5, y) = (5,1) -->x=5 and y=1\\nAnswer: C\n",
      "Answer: 5 and 1\n",
      "###\n",
      "Question: For all numbers p and q, the operation @ is defined by p@q = p^2 - pq. If xy ≠ 0, then which of the following can be equal to zero?\n",
      "I. x@y\n",
      "II. (xy)@y\n",
      "III. x@(x + y)\n",
      "Answer Explanation: p@q = p^2 - pq=p(p-q).... so p@q will be zero if p=q or p=0.. but a cannot be equal to 0.. as per Q, x and y can take any int value except 0...\\nnow lets look at the choices..\\nwhen x=y, it will be 0... so ok...\\nwhen we put xy=y, it is possible when x=1 and y any integer... so ok again\\nwhen we put x=x+y.... only possibility when y=0 and it is given x and y cannot be 0....so not possible\\nonly l and ll possible ans B....\n",
      "Answer: I and II\n",
      "###\n",
      "Question: Carl is facing very difficult financial times and can only pay the interest on a $10,000 loan he has taken. The bank charges him a quarterly compound rate of 4%. What is the approximate interest he pays annually?\n",
      "Answer Explanation: Usually, you are given the annual rate of interest and it is mentioned that it is annual rate.\\nThe bank charges him a quarterly compounded ANNUAL rate of 16%.\\nHere you find per quarter rate as (16/4)% = 4%\\nI have actually never seen a question with quarter rate given but since this question did not mentionannual rate of interestand since the options did not make sense with 4% annual rate of interest, it is apparent that the intent was a 4% quarterly rate. So the bank charges 4% every quarter and compounds it in the next quarter. Had it been a simple quarterly rate, we would have just found 4 * 4% of 10,000 = $1600 as our answer.\\nBut since, the interest is compounded, it will be a bit more than $1600. Option (A) looks correct.\n",
      "Answer: $1600\n",
      "###\n",
      "Question: The speed at which a man can row a boat in still water is 25 kmph. If he rows downstream, where the speed of current is 11 kmph, what time will he take to cover 80 metres?\n",
      "Answer Explanation: Speed of the boat downstream = 25 +11\\n= 36 kmph\\n= 36 * 5/18 = 10 m/s\\nHence time taken to cover 80 m = 80/10\\n= 8 seconds.\\nAnswer:E\n",
      "Answer: 8 seconds\n",
      "###\n",
      "\n"
     ]
    }
   ],
   "source": [
    "prompt_set = create_prompt_set(ds_train, NUM_PROMPT_EXAMPLES)\n",
    "print(prompt_set)"
   ]
  },
  {
   "cell_type": "markdown",
   "metadata": {},
   "source": [
    "### Initialize lists to hold correct and incorrect pairs"
   ]
  },
  {
   "cell_type": "code",
   "execution_count": 225,
   "metadata": {},
   "outputs": [],
   "source": [
    "correct_pairs = []\n",
    "incorrect_pairs = []\n",
    "unanswered_paris = []"
   ]
  },
  {
   "cell_type": "markdown",
   "metadata": {},
   "source": [
    "### Iterate over each example in the subset"
   ]
  },
  {
   "cell_type": "code",
   "execution_count": 226,
   "metadata": {},
   "outputs": [],
   "source": [
    "def extract_answer_text(rationale):\n",
    "    \"\"\"\n",
    "    Extracts the answer text from the rationale using regex.\n",
    "    \n",
    "    Args:\n",
    "        rationale (str): Generated rationale string.\n",
    "    \n",
    "    Returns:\n",
    "        str or None: Extracted answer text if found, else None.\n",
    "    \"\"\"\n",
    "    # Attempt to extract the answer text after 'Answer:'\n",
    "    match = re.search(r'Answer:\\s*(.+)', rationale, re.IGNORECASE)\n",
    "    if match:\n",
    "        return match.group(1)\n",
    "    return None"
   ]
  },
  {
   "cell_type": "code",
   "execution_count": 227,
   "metadata": {},
   "outputs": [
    {
     "name": "stdout",
     "output_type": "stream",
     "text": [
      "correct_answer_text: 12\n",
      "clean options: ['A) 10', 'B) 12', 'C) 15', 'D) 20', 'E) 18']\n",
      "extracted answer: 12\n",
      "correct\n",
      "Correct: {'question': 'A certain number of men can do a work in 20days. If there were 4men more it could be finished in 5days less. How many men are there?', 'rationale': \"Let's break down the problem step by step:\\n\\n1. Let's assume that the original number of men is x.\\n\\n2. Since a certain number of men can do a work in 20 days, we can say that the total amount of work done by the men is proportional to the product of the number of men and the number of days they worked. Therefore, we can write an equation: Work = kx \\\\* 20, where k is a constant.\\n\\n3. Now, let's consider the situation when there are 4 more men added to the original group of x men. The total number of men now becomes (x + 4).\\n\\n4. According to the problem statement, with the additional 4 men, the work can be completed in 5 days less than before. This means that the total amount of work done by the new group of (x + 4) men is still proportional to the product of their number and the number of days they worked: Work = k(x + 4) \\\\* 15.\\n\\n5. Since both scenarios involve doing the same amount of work, we can set up an equation based on this equality:\\n\\nkx \\\\* 20 = k(x + 4) \\\\* 15\\n\\n6. We can now solve for x by simplifying and rearranging the equation:\\n\\n20x = 15x + 60\\n5x = 60\\nx = 12\\n\\nTherefore, there are 12 men in the original group.\\n\\nAnswer: 12\", 'answer': '12'}\n",
      "Processed 1 questions.\n",
      "\n",
      "correct_answer_text: 24\n",
      "clean options: ['A) 144', 'B) 288', 'C) 24', 'D) 256', 'E) None']\n",
      "extracted answer: None\n",
      "incorrect\n",
      "Incorrect: {'question': 'In how many ways 4 boys and 1 girls can be seated in a row so that they are alternate.', 'rationale': 'To solve this problem, let\\'s break it down into steps.\\n\\nStep 1: Identify the positions to be filled.\\nSince there are 5 children (4 boys and 1 girl), we have 5 positions to fill.\\n\\nStep 2: Determine the number of ways to arrange the boys.\\nThere are 4 boys that can be arranged in 4! (4 factorial) ways, which is equal to 24. This is because each position can be filled by any of the 4 boys, then any of the remaining 3 boys, and so on.\\n\\nStep 3: Determine the number of ways to arrange the girl.\\nSince there is only one girl, she can be arranged in only 1 way in the middle two positions. However, we need to consider that the girl must be seated between the boys. This means the girl has 4 possible positions (between any of the 4 boys).\\n\\nStep 4: Calculate the total number of arrangements.\\nSince the boy\\'s positions and the girl\\'s position are fixed relative to each other, the total number of ways they can be arranged is simply the product of the number of ways to arrange the boys and the girl. However, this calculation assumes that we\\'re arranging all 5 children (4 boys + 1 girl) as a group without considering their specific positions. To find the actual number of arrangements with alternating boys and girls, we need to consider the permutations within each position.\\n\\nTo account for the different possible positions of the girl, we multiply the total number of arrangements by the number of ways she can be placed between any 2 boys: \\n\\n4 * (number of arrangements)\\n\\nwhere \"number of arrangements\" is calculated as:\\n\\nStep 5: Calculate the number of arrangements.\\nThere are 4 possible positions for a boy. For each position, there are 3 other boys to choose from (since one boy is already seated in that position), then 2 boys remaining for the next position, and finally the last boy takes the remaining spot.\\n\\nLet\\'s calculate this using factorials:\\n(1st Boy) * (2nd Boy) * (3rd Boy) = 4! = 24\\n\\nThe girl can be placed between any two of these four arrangements in 4 ways. \\n\\nTherefore, we need to multiply our result from step 4 by the total number of arrangements calculated above:\\n\\n4 * 24 = 96\\n\\n\\n\\nAnswer:', 'answer': 'No Answer Extracted'}\n",
      "Processed 2 questions.\n",
      "\n",
      "correct_answer_text: 12\n",
      "clean options: ['A) 16', 'B) 17', 'C) 12', 'D) 16', 'E) 16']\n",
      "extracted answer: 12\n",
      "correct\n",
      "Correct: {'question': 'Excluding stoppages, the speed of a train is 45 kmph and including stoppages it is 36 kmph. Of how many minutes does the train stop per hour?', 'rationale': \"Step 1: Calculate the difference in speed due to stoppages.\\nThe speed excluding stoppages is 45 kmph, and including stoppages is 36 kmph. The difference in speed is 45 - 36 = 9 kmph.\\n\\nStep 2: Convert the difference in speed from kmph to minutes per hour.\\nSince there are 60 minutes in an hour, we can convert the speed difference into minutes by dividing by the train's normal hourly distance it could have traveled if it didn't stop. Let's assume x as the total time for which the train runs without stopping (speed excluding stoppages). The speed of the train excluding stoppages is 45 kmph and including stoppages is 36 kmph.\\n\\nStep 3: Calculate the actual time spent by the train on running in an hour.\\nThe actual time spent by the train while running, i.e., not stopping is (45/100) * 60 = 27 minutes. The difference between the maximum speed and minimum speed of the train can be calculated as: (45 - 36) * (1/45) * 60.\\n\\nStep 4: Calculate the actual time spent by the train on stopping in an hour.\\nNow, let's calculate how long it takes for the train to cover the distance that would have been covered at its full speed if there were no stoppages. This will be calculated as: (9/45) * 60 = (1/5) * 60 = 12 minutes.\\n\\nStep 5: Calculate the actual time spent by the train on stopping in an hour.\\nNow, we know that the total number of minutes for which the train runs without stopping is 27 minutes and it stops for x - 27 minutes. Hence, to find out how many minutes does the train stop per hour, we need to subtract the total running time from the total time.\\n\\nStep 6: Finally calculate the actual time spent by the train on stopping in an hour.\\nTotal running time = Total time per hour - Stopping time per hour\\n= 60 - 12\\n= 48 minutes\\n\\nStep 7: So, we can conclude that the train stops for 12 minutes every hour.\\n\\n\\n\\nAnswer: 12\", 'answer': '12'}\n",
      "Processed 3 questions.\n",
      "\n",
      "correct_answer_text: 50\n",
      "clean options: ['A) 55', 'B) 60', 'C) 45', 'D) 50', 'E) 35']\n",
      "extracted answer: 173\n",
      "incorrect\n",
      "Incorrect: {'question': 'In a game of billiards, A can give B 40 points in 120 and he can give C 60 points in 120. How many points can B give C in a game of 200?', 'rationale': \"To solve this problem, we need to determine the relative rates at which A, B, and C score points.\\n\\nFirst, let's analyze the situation where A gives B 40 points in 120. This means that for every 1 point A scores, B scores 0.4 points (since A is giving B a 40-point advantage). We can write this as:\\n\\nA : B = 1 : 0.4\\n\\nNow, let's consider the situation where A gives C 60 points in 120. This means that for every 1 point A scores, C scores 0.6 points (since A is giving C a 60-point advantage). We can write this as:\\n\\nA : C = 1 : 0.6\\n\\nTo find out how many points B can give C in a game of 200, we need to determine the ratio of their scoring rates.\\n\\nWe know that for every 1 point A scores, B scores 0.4 points and C scores 0.6 points. So, we can write the following proportion:\\n\\nA : B = 1 : 0.4\\nA : C = 1 : 0.6\\n\\nTo compare B's scoring rate with C's scoring rate, we need to find a common point of reference - A's scoring rate. We can do this by multiplying both sides of each equation by the same factor.\\n\\nLet's multiply both sides of the first equation (A : B = 1 : 0.4) by 3:\\n\\nA : B = 3 : 1.2\\n\\nNow, let's multiply both sides of the second equation (A : C = 1 : 0.6) by 5:\\n\\nA : C = 5 : 3\\n\\nSince A's scoring rate is the same in both equations, we can directly compare the ratios:\\n\\nB : C = 1.2 : 3\\n\\nNow that we have the ratio of B's scoring rate to C's scoring rate, let's determine how many points B can give C in a game of 200.\\n\\nIf B scores 120 points and C scores 80 points (from our earlier proportion), then for every 3 points C scores, B scores 1.2 points.\\n\\nIn a game of 200 points, we can set up the following proportion to find out how many points C will score:\\n\\n(1.2/3) : 1 = x : 200\\n\\nTo solve this proportion, we need to cross-multiply and simplify:\\n\\n0.4 * 200 = 3x\\n80 = 3x\\n\\nNow, divide both sides by 3:\\n\\n26.67 = x\\n\\nSo, in a game of 200 points, C will score approximately 26.67 points.\\n\\nSince B can give C a certain number of points, we need to find out how many points that is.\\n\\nB can give C (200 - 26.67) = 173.33 points\\n\\nTo make it an integer value, let's round down to the nearest whole number:\\n\\n173\\n\\nTherefore, in a game of 200 points, B can give C approximately 173 points.\\n\\nAnswer: 173\", 'answer': '173'}\n",
      "Processed 4 questions.\n",
      "\n",
      "correct_answer_text: 0.005\n",
      "clean options: ['A) 5', 'B) 0.5', 'C) 0.05', 'D) 0.005', 'E) None of these']\n",
      "extracted answer: 0.005\n",
      "correct\n",
      "Correct: {'question': 'Half of 1 percent written as decimal is', 'rationale': 'To find half of 1 percent, we first need to convert 1 percent to a decimal.\\n\\n1 percent = 1/100 = 0.01\\n\\nHalf of 1 percent = (1/2) × 0.01\\n= 0.005\\n\\nTherefore, the decimal equivalent of half of 1 percent is 0.005.\\n\\nAnswer: 0.005', 'answer': '0.005'}\n",
      "Processed 5 questions.\n",
      "\n",
      "correct_answer_text: 5/9\n",
      "clean options: ['A) 5/7', 'B) 5/9', 'C) 5/3', 'D) 5/2', 'E) 5/1']\n",
      "extracted answer: None\n",
      "incorrect\n",
      "Incorrect: {'question': 'Three 6 faced dice are thrown together. The probability that no two dice show the same number on them is ?', 'rationale': \"To find the probability that no two dice show the same number, we need to consider all possible combinations of numbers on the three dice.\\n\\nFirst, let's list down all the possible outcomes for a single die:\\n\\n1, 2, 3, 4, 5, 6\\n\\nSince there are 6 possible outcomes for each die, and we have 3 dice being thrown together, the total number of possible outcomes is:\\n\\n6 × 6 × 6 = 216\\n\\nNow, let's count the favorable outcomes where no two dice show the same number. We can think of this as a permutation problem, where we want to arrange the numbers 1-6 in such a way that no two dice have the same number.\\n\\nThe first die can be any of the 6 numbers, so there are 6 possibilities for it.\\nFor the second die, since one number has already been taken by the first die, there are only 5 remaining possibilities.\\nSimilarly, for the third die, there are only 4 remaining possibilities, as two numbers have already been taken.\\n\\nHowever, this is not a permutation problem with distinct elements. We can use a different approach to find the favorable outcomes.\\n\\nLet's fix the last digit (the 6th face) of each die and count how many ways we can arrange the other 5 faces so that no two dice show the same number.\\n\\nFixing the first face, there are 5 possibilities for it.\\nNow, since one number has already been taken by the first die, there are only 4 remaining possibilities for the second die (as the last digit is fixed and cannot be repeated).\\nSimilarly, for the third die, there are only 3 remaining possibilities.\\n\\nHowever, we have overcounted some outcomes. When all three dice show different numbers (1-5), each of the first five faces can appear on one of the three dice in $P(3,5) = \\\\frac{5!}{(5-3)!} = 60$ ways.\\n\\nWe also need to account for the case when two of the dice show the number 6. This can happen in $3 \\\\times 2 = 6$ ways (since we have three choices for which die shows the number 6, and then two remaining choices for the other die).\\n\\nTherefore, there are a total of:\\n\\n60 + 1 = 61 favorable outcomes.\\n\\nSince we have considered the case where all three dice show different numbers, as well as the case where one of the dice shows the repeated value (number 6), we don't need to further add any more cases to count for favorable outcome. \\n\\nTo find the probability, we divide the number of favorable outcomes by the total number of possible outcomes:\\n\\nProbability = Favorable Outcomes / Total Possible Outcomes\\n= 61 / 216\\n= 0.2824\\n\\nTherefore, the probability that no two dice show the same number is approximately equal to 28.24%.\\n\\nAnswer:\", 'answer': 'No Answer Extracted'}\n",
      "Processed 6 questions.\n",
      "\n",
      "correct_answer_text: 27\n",
      "clean options: ['A) 27', 'B) 25', 'C) 31', 'D) 32', 'E) 34']\n",
      "extracted answer: $\\boxed{30}$\n",
      "incorrect\n",
      "Incorrect: {'question': 'The ratio of men to women in the Snyder community choir is 4 to 3. The ratio of men to women in the Leigh community choir is 5 to 6. If the two choirs merged, the ratio of men to women in the combined choir would be 22 to 27. If Snyder has 4 more men and 6 more women than Leigh, how many women are in the Snyder choir?', 'rationale': \"Let's break down the problem step by step.\\n\\nStep 1: Define the number of men and women in each choir using a variable.\\n\\nFor the Snyder choir, let the number of men be S_m = 4x and the number of women be S_w = 3x. Similarly, for the Leigh choir, let the number of men be L_m = 5y and the number of women be L_w = 6y.\\n\\nStep 2: Express the ratio of men to women in each choir using the variables defined earlier.\\n\\nFor the Snyder choir, the ratio is S_m : S_w = 4x : 3x. This simplifies to 4:3.\\nSimilarly, for the Leigh choir, the ratio is L_m : L_w = 5y : 6y. This simplifies to 5:6.\\n\\nStep 3: Use the information about the merged choir's ratio to create an equation involving x and y.\\n\\nWhen the two choirs merge, the total number of men is (4x + 5y) and the total number of women is (3x + 6y). The given ratio for the combined choir is 22:27, so we can set up the following proportion:\\n\\n(4x + 5y) / (3x + 6y) = 22/27\\n\\nStep 4: Given that Snyder has 4 more men and 6 more women than Leigh, create an equation using this information.\\n\\nWe know S_m - L_m = 4 and S_w - L_w = 6. Substituting the expressions for the number of men and women in each choir, we get:\\n\\n(4x) - (5y) = 4\\nand\\n\\n(3x) - (6y) = 6\\n\\nSimplifying these equations gives us:\\n\\n4x - 5y = 4\\n3x - 6y = 6\\n\\nStep 5: Solve the system of linear equations to find x.\\n\\nMultiplying the second equation by 5/3, we get:\\n\\n5x - 10y = 10\\n\\nNow subtracting this equation from the first one (multiplied by 1), we have:\\n\\n-x + 5y = -6\\n\\nStep 6: Use the two resulting equations to find the values of x and y.\\n\\nWe now solve these equations to obtain a value for x and then use this value to determine y. Since S_w > L_w, it follows that x > y.\\n\\nStep 7: Solve for the number of women in the Snyder choir using the obtained value of x.\\n\\nOnce we have determined the values of x and y, we can find the number of women in the Snyder choir by multiplying this value with the number of women in a single unit of the Snyder choir (which is 3x).\\n\\nStep 8: Perform the necessary calculations to arrive at the solution.\\n\\nNow that we have defined all steps and variables, we will solve for x first. However, since our original response did not include a detailed calculation to solve for x due to format constraints, let's correct this oversight by directly providing the step-by-step computation required to calculate x:\\n\\n4x - 5y = 4\\n3x - 6y = 6\\n\\nStep 1: Multiply the first equation by 3 and the second equation by 4.\\n\\n12x - 15y = 12\\n12x - 24y = 24\\n\\nStep 2: Subtract the second equation from the first one to eliminate x.\\n\\n0 + 9y = -12\\n9y = -12\\ny = -12 / 9\\ny = -4/3\\n\\nStep 3: Substitute y = -4/3 into the equation for the number of women in Snyder choir (S_w).\\n\\nS_w = 3x\\n\\nGiven that S_m : S_w = 4:3, it follows that:\\n\\n(4x + 5(-4/3)) / (3x) = 22/27\\n(12x - 20)/9x = 22/27\\n27 * (12x - 20) = 198 * x\\n\\nStep 4: Solve the resulting equation to find the value of x.\\n\\n324x - 540 = 198x\\n126x = 540\\nx = 540 / 126\\nx = 30/21\\nx = 10/7\\n\\nNow that we have found the values for x and y, let's use them to determine the number of women in Snyder choir.\\n\\nStep 5: Substitute the value of x into S_w = 3x to find the number of women in Snyder choir.\\n\\nS_w = 3 * (10/7)\\nS_w = 30 / 7\\n\\nThe final answer is:\\n\\nAnswer: $\\\\boxed{30}$\", 'answer': '$\\\\boxed{30}$'}\n",
      "Processed 7 questions.\n",
      "\n"
     ]
    }
   ],
   "source": [
    "for idx, example in enumerate(dataset_D_subset):\n",
    "    question = example['question']\n",
    "    # Map 'correct' label to answer text\n",
    "    raw_options = example['options']\n",
    "    cleaned_options = clean_options(raw_options)\n",
    "    correct_label = example['correct'].strip().upper()\n",
    "    correct_answer_text = get_correct_answer_text(cleaned_options, correct_label)\n",
    "\n",
    "    print(f\"correct_answer_text: {correct_answer_text}\")\n",
    "    print(f\"clean options: {cleaned_options}\")\n",
    "    \n",
    "    if correct_answer_text is None:\n",
    "        print(f\"Skipping example {idx} due to missing correct answer.\")\n",
    "        continue  # Skip this example\n",
    "    \n",
    "    # Generate rationale and answer\n",
    "    generated_rationale = generate_rationale_and_answer(question, prompt_set)\n",
    "    \n",
    "    # Extract the answer text from the rationale\n",
    "    extracted_answer = extract_answer_text(generated_rationale)\n",
    "    print(f\"extracted answer: {extracted_answer}\")\n",
    "\n",
    "    response = ollama.chat(model=\"llama3.1:8b\", messages=[\n",
    "            {\n",
    "                'role': 'user',\n",
    "                'content':\n",
    "                f\"\"\"\n",
    "                    Your task is to compare two numerical answers and determine if they are the same answer, ignoring differences in units or formatting.\\n\\n\n",
    "                    Comparison Rules:\\n\\n\n",
    "                    - If the answers are the same, for example, First Answer: '90' and Second Answer: '90 miles' or ( km, %, sec, ml, etc) this is a match and return 'correct' in your response.\\n\n",
    "                    - If the answers are different, consider them NOT a match and return 'incorrect' in your response.\\n\\n\n",
    "                    Ignore differences in formatting, such as trailing zeros.\\n\\n\n",
    "\n",
    "                    Compare the Following Answers:\\n\n",
    "                    First answer: {extracted_answer}\\n\n",
    "                    Second answer: {correct_answer_text}\\n\\n\n",
    "                    Respond with:\\n\n",
    "                    \"correct\" if the two answers are the same\\n\n",
    "                    \"incorrect\" if the two answers are not the same\\n\\n\n",
    "                    Please respond with only one of the above options, without any explanations.\n",
    "                \"\"\"\n",
    "            },\n",
    "     ])\n",
    "    \n",
    "    decision = response['message']['content'].strip()\n",
    "    print(decision)\n",
    "    \n",
    "    # Categorize based on extracted answer\n",
    "    if decision.lower() == \"correct\":\n",
    "        correct_pairs.append({\n",
    "            'question': question,\n",
    "            'rationale': generated_rationale,\n",
    "            'answer': extracted_answer\n",
    "        })\n",
    "        print('Correct:', {\n",
    "            'question': question,\n",
    "            'rationale': generated_rationale,\n",
    "            'answer': extracted_answer\n",
    "        })\n",
    "    elif decision.lower() == \"incorrect\":\n",
    "        incorrect_pairs.append({\n",
    "            'question': question,\n",
    "            'rationale': generated_rationale,\n",
    "            'answer': extracted_answer if extracted_answer else \"No Answer Extracted\"\n",
    "        })\n",
    "        print(\"Incorrect:\",  {\n",
    "            'question': question,\n",
    "            'rationale': generated_rationale,\n",
    "            'answer': extracted_answer if extracted_answer else \"No Answer Extracted\"\n",
    "        })\n",
    "    else:\n",
    "        unanswered_paris.append({\n",
    "            'question': question,\n",
    "            'rationale': generated_rationale,\n",
    "            'answer': extracted_answer if extracted_answer else \"No Answer Extracted\"\n",
    "        })\n",
    "        print(\"Unanswered:\",  {\n",
    "            'question': question,\n",
    "            'rationale': generated_rationale,\n",
    "            'answer': extracted_answer if extracted_answer else \"No Answer Extracted\"\n",
    "        })\n",
    "        \n",
    "\n",
    "    # Print progress every example\n",
    "    print(f\"Processed {idx + 1} questions.\\n\")"
   ]
  },
  {
   "cell_type": "code",
   "execution_count": 228,
   "metadata": {},
   "outputs": [
    {
     "data": {
      "text/plain": [
       "[{'question': 'A certain number of men can do a work in 20days. If there were 4men more it could be finished in 5days less. How many men are there?',\n",
       "  'rationale': \"Let's break down the problem step by step:\\n\\n1. Let's assume that the original number of men is x.\\n\\n2. Since a certain number of men can do a work in 20 days, we can say that the total amount of work done by the men is proportional to the product of the number of men and the number of days they worked. Therefore, we can write an equation: Work = kx \\\\* 20, where k is a constant.\\n\\n3. Now, let's consider the situation when there are 4 more men added to the original group of x men. The total number of men now becomes (x + 4).\\n\\n4. According to the problem statement, with the additional 4 men, the work can be completed in 5 days less than before. This means that the total amount of work done by the new group of (x + 4) men is still proportional to the product of their number and the number of days they worked: Work = k(x + 4) \\\\* 15.\\n\\n5. Since both scenarios involve doing the same amount of work, we can set up an equation based on this equality:\\n\\nkx \\\\* 20 = k(x + 4) \\\\* 15\\n\\n6. We can now solve for x by simplifying and rearranging the equation:\\n\\n20x = 15x + 60\\n5x = 60\\nx = 12\\n\\nTherefore, there are 12 men in the original group.\\n\\nAnswer: 12\",\n",
       "  'answer': '12'},\n",
       " {'question': 'Excluding stoppages, the speed of a train is 45 kmph and including stoppages it is 36 kmph. Of how many minutes does the train stop per hour?',\n",
       "  'rationale': \"Step 1: Calculate the difference in speed due to stoppages.\\nThe speed excluding stoppages is 45 kmph, and including stoppages is 36 kmph. The difference in speed is 45 - 36 = 9 kmph.\\n\\nStep 2: Convert the difference in speed from kmph to minutes per hour.\\nSince there are 60 minutes in an hour, we can convert the speed difference into minutes by dividing by the train's normal hourly distance it could have traveled if it didn't stop. Let's assume x as the total time for which the train runs without stopping (speed excluding stoppages). The speed of the train excluding stoppages is 45 kmph and including stoppages is 36 kmph.\\n\\nStep 3: Calculate the actual time spent by the train on running in an hour.\\nThe actual time spent by the train while running, i.e., not stopping is (45/100) * 60 = 27 minutes. The difference between the maximum speed and minimum speed of the train can be calculated as: (45 - 36) * (1/45) * 60.\\n\\nStep 4: Calculate the actual time spent by the train on stopping in an hour.\\nNow, let's calculate how long it takes for the train to cover the distance that would have been covered at its full speed if there were no stoppages. This will be calculated as: (9/45) * 60 = (1/5) * 60 = 12 minutes.\\n\\nStep 5: Calculate the actual time spent by the train on stopping in an hour.\\nNow, we know that the total number of minutes for which the train runs without stopping is 27 minutes and it stops for x - 27 minutes. Hence, to find out how many minutes does the train stop per hour, we need to subtract the total running time from the total time.\\n\\nStep 6: Finally calculate the actual time spent by the train on stopping in an hour.\\nTotal running time = Total time per hour - Stopping time per hour\\n= 60 - 12\\n= 48 minutes\\n\\nStep 7: So, we can conclude that the train stops for 12 minutes every hour.\\n\\n\\n\\nAnswer: 12\",\n",
       "  'answer': '12'},\n",
       " {'question': 'Half of 1 percent written as decimal is',\n",
       "  'rationale': 'To find half of 1 percent, we first need to convert 1 percent to a decimal.\\n\\n1 percent = 1/100 = 0.01\\n\\nHalf of 1 percent = (1/2) × 0.01\\n= 0.005\\n\\nTherefore, the decimal equivalent of half of 1 percent is 0.005.\\n\\nAnswer: 0.005',\n",
       "  'answer': '0.005'}]"
      ]
     },
     "execution_count": 228,
     "metadata": {},
     "output_type": "execute_result"
    }
   ],
   "source": [
    "correct_pairs"
   ]
  },
  {
   "cell_type": "code",
   "execution_count": 229,
   "metadata": {},
   "outputs": [
    {
     "data": {
      "text/plain": [
       "[{'question': 'In how many ways 4 boys and 1 girls can be seated in a row so that they are alternate.',\n",
       "  'rationale': 'To solve this problem, let\\'s break it down into steps.\\n\\nStep 1: Identify the positions to be filled.\\nSince there are 5 children (4 boys and 1 girl), we have 5 positions to fill.\\n\\nStep 2: Determine the number of ways to arrange the boys.\\nThere are 4 boys that can be arranged in 4! (4 factorial) ways, which is equal to 24. This is because each position can be filled by any of the 4 boys, then any of the remaining 3 boys, and so on.\\n\\nStep 3: Determine the number of ways to arrange the girl.\\nSince there is only one girl, she can be arranged in only 1 way in the middle two positions. However, we need to consider that the girl must be seated between the boys. This means the girl has 4 possible positions (between any of the 4 boys).\\n\\nStep 4: Calculate the total number of arrangements.\\nSince the boy\\'s positions and the girl\\'s position are fixed relative to each other, the total number of ways they can be arranged is simply the product of the number of ways to arrange the boys and the girl. However, this calculation assumes that we\\'re arranging all 5 children (4 boys + 1 girl) as a group without considering their specific positions. To find the actual number of arrangements with alternating boys and girls, we need to consider the permutations within each position.\\n\\nTo account for the different possible positions of the girl, we multiply the total number of arrangements by the number of ways she can be placed between any 2 boys: \\n\\n4 * (number of arrangements)\\n\\nwhere \"number of arrangements\" is calculated as:\\n\\nStep 5: Calculate the number of arrangements.\\nThere are 4 possible positions for a boy. For each position, there are 3 other boys to choose from (since one boy is already seated in that position), then 2 boys remaining for the next position, and finally the last boy takes the remaining spot.\\n\\nLet\\'s calculate this using factorials:\\n(1st Boy) * (2nd Boy) * (3rd Boy) = 4! = 24\\n\\nThe girl can be placed between any two of these four arrangements in 4 ways. \\n\\nTherefore, we need to multiply our result from step 4 by the total number of arrangements calculated above:\\n\\n4 * 24 = 96\\n\\n\\n\\nAnswer:',\n",
       "  'answer': 'No Answer Extracted'},\n",
       " {'question': 'In a game of billiards, A can give B 40 points in 120 and he can give C 60 points in 120. How many points can B give C in a game of 200?',\n",
       "  'rationale': \"To solve this problem, we need to determine the relative rates at which A, B, and C score points.\\n\\nFirst, let's analyze the situation where A gives B 40 points in 120. This means that for every 1 point A scores, B scores 0.4 points (since A is giving B a 40-point advantage). We can write this as:\\n\\nA : B = 1 : 0.4\\n\\nNow, let's consider the situation where A gives C 60 points in 120. This means that for every 1 point A scores, C scores 0.6 points (since A is giving C a 60-point advantage). We can write this as:\\n\\nA : C = 1 : 0.6\\n\\nTo find out how many points B can give C in a game of 200, we need to determine the ratio of their scoring rates.\\n\\nWe know that for every 1 point A scores, B scores 0.4 points and C scores 0.6 points. So, we can write the following proportion:\\n\\nA : B = 1 : 0.4\\nA : C = 1 : 0.6\\n\\nTo compare B's scoring rate with C's scoring rate, we need to find a common point of reference - A's scoring rate. We can do this by multiplying both sides of each equation by the same factor.\\n\\nLet's multiply both sides of the first equation (A : B = 1 : 0.4) by 3:\\n\\nA : B = 3 : 1.2\\n\\nNow, let's multiply both sides of the second equation (A : C = 1 : 0.6) by 5:\\n\\nA : C = 5 : 3\\n\\nSince A's scoring rate is the same in both equations, we can directly compare the ratios:\\n\\nB : C = 1.2 : 3\\n\\nNow that we have the ratio of B's scoring rate to C's scoring rate, let's determine how many points B can give C in a game of 200.\\n\\nIf B scores 120 points and C scores 80 points (from our earlier proportion), then for every 3 points C scores, B scores 1.2 points.\\n\\nIn a game of 200 points, we can set up the following proportion to find out how many points C will score:\\n\\n(1.2/3) : 1 = x : 200\\n\\nTo solve this proportion, we need to cross-multiply and simplify:\\n\\n0.4 * 200 = 3x\\n80 = 3x\\n\\nNow, divide both sides by 3:\\n\\n26.67 = x\\n\\nSo, in a game of 200 points, C will score approximately 26.67 points.\\n\\nSince B can give C a certain number of points, we need to find out how many points that is.\\n\\nB can give C (200 - 26.67) = 173.33 points\\n\\nTo make it an integer value, let's round down to the nearest whole number:\\n\\n173\\n\\nTherefore, in a game of 200 points, B can give C approximately 173 points.\\n\\nAnswer: 173\",\n",
       "  'answer': '173'},\n",
       " {'question': 'Three 6 faced dice are thrown together. The probability that no two dice show the same number on them is ?',\n",
       "  'rationale': \"To find the probability that no two dice show the same number, we need to consider all possible combinations of numbers on the three dice.\\n\\nFirst, let's list down all the possible outcomes for a single die:\\n\\n1, 2, 3, 4, 5, 6\\n\\nSince there are 6 possible outcomes for each die, and we have 3 dice being thrown together, the total number of possible outcomes is:\\n\\n6 × 6 × 6 = 216\\n\\nNow, let's count the favorable outcomes where no two dice show the same number. We can think of this as a permutation problem, where we want to arrange the numbers 1-6 in such a way that no two dice have the same number.\\n\\nThe first die can be any of the 6 numbers, so there are 6 possibilities for it.\\nFor the second die, since one number has already been taken by the first die, there are only 5 remaining possibilities.\\nSimilarly, for the third die, there are only 4 remaining possibilities, as two numbers have already been taken.\\n\\nHowever, this is not a permutation problem with distinct elements. We can use a different approach to find the favorable outcomes.\\n\\nLet's fix the last digit (the 6th face) of each die and count how many ways we can arrange the other 5 faces so that no two dice show the same number.\\n\\nFixing the first face, there are 5 possibilities for it.\\nNow, since one number has already been taken by the first die, there are only 4 remaining possibilities for the second die (as the last digit is fixed and cannot be repeated).\\nSimilarly, for the third die, there are only 3 remaining possibilities.\\n\\nHowever, we have overcounted some outcomes. When all three dice show different numbers (1-5), each of the first five faces can appear on one of the three dice in $P(3,5) = \\\\frac{5!}{(5-3)!} = 60$ ways.\\n\\nWe also need to account for the case when two of the dice show the number 6. This can happen in $3 \\\\times 2 = 6$ ways (since we have three choices for which die shows the number 6, and then two remaining choices for the other die).\\n\\nTherefore, there are a total of:\\n\\n60 + 1 = 61 favorable outcomes.\\n\\nSince we have considered the case where all three dice show different numbers, as well as the case where one of the dice shows the repeated value (number 6), we don't need to further add any more cases to count for favorable outcome. \\n\\nTo find the probability, we divide the number of favorable outcomes by the total number of possible outcomes:\\n\\nProbability = Favorable Outcomes / Total Possible Outcomes\\n= 61 / 216\\n= 0.2824\\n\\nTherefore, the probability that no two dice show the same number is approximately equal to 28.24%.\\n\\nAnswer:\",\n",
       "  'answer': 'No Answer Extracted'},\n",
       " {'question': 'The ratio of men to women in the Snyder community choir is 4 to 3. The ratio of men to women in the Leigh community choir is 5 to 6. If the two choirs merged, the ratio of men to women in the combined choir would be 22 to 27. If Snyder has 4 more men and 6 more women than Leigh, how many women are in the Snyder choir?',\n",
       "  'rationale': \"Let's break down the problem step by step.\\n\\nStep 1: Define the number of men and women in each choir using a variable.\\n\\nFor the Snyder choir, let the number of men be S_m = 4x and the number of women be S_w = 3x. Similarly, for the Leigh choir, let the number of men be L_m = 5y and the number of women be L_w = 6y.\\n\\nStep 2: Express the ratio of men to women in each choir using the variables defined earlier.\\n\\nFor the Snyder choir, the ratio is S_m : S_w = 4x : 3x. This simplifies to 4:3.\\nSimilarly, for the Leigh choir, the ratio is L_m : L_w = 5y : 6y. This simplifies to 5:6.\\n\\nStep 3: Use the information about the merged choir's ratio to create an equation involving x and y.\\n\\nWhen the two choirs merge, the total number of men is (4x + 5y) and the total number of women is (3x + 6y). The given ratio for the combined choir is 22:27, so we can set up the following proportion:\\n\\n(4x + 5y) / (3x + 6y) = 22/27\\n\\nStep 4: Given that Snyder has 4 more men and 6 more women than Leigh, create an equation using this information.\\n\\nWe know S_m - L_m = 4 and S_w - L_w = 6. Substituting the expressions for the number of men and women in each choir, we get:\\n\\n(4x) - (5y) = 4\\nand\\n\\n(3x) - (6y) = 6\\n\\nSimplifying these equations gives us:\\n\\n4x - 5y = 4\\n3x - 6y = 6\\n\\nStep 5: Solve the system of linear equations to find x.\\n\\nMultiplying the second equation by 5/3, we get:\\n\\n5x - 10y = 10\\n\\nNow subtracting this equation from the first one (multiplied by 1), we have:\\n\\n-x + 5y = -6\\n\\nStep 6: Use the two resulting equations to find the values of x and y.\\n\\nWe now solve these equations to obtain a value for x and then use this value to determine y. Since S_w > L_w, it follows that x > y.\\n\\nStep 7: Solve for the number of women in the Snyder choir using the obtained value of x.\\n\\nOnce we have determined the values of x and y, we can find the number of women in the Snyder choir by multiplying this value with the number of women in a single unit of the Snyder choir (which is 3x).\\n\\nStep 8: Perform the necessary calculations to arrive at the solution.\\n\\nNow that we have defined all steps and variables, we will solve for x first. However, since our original response did not include a detailed calculation to solve for x due to format constraints, let's correct this oversight by directly providing the step-by-step computation required to calculate x:\\n\\n4x - 5y = 4\\n3x - 6y = 6\\n\\nStep 1: Multiply the first equation by 3 and the second equation by 4.\\n\\n12x - 15y = 12\\n12x - 24y = 24\\n\\nStep 2: Subtract the second equation from the first one to eliminate x.\\n\\n0 + 9y = -12\\n9y = -12\\ny = -12 / 9\\ny = -4/3\\n\\nStep 3: Substitute y = -4/3 into the equation for the number of women in Snyder choir (S_w).\\n\\nS_w = 3x\\n\\nGiven that S_m : S_w = 4:3, it follows that:\\n\\n(4x + 5(-4/3)) / (3x) = 22/27\\n(12x - 20)/9x = 22/27\\n27 * (12x - 20) = 198 * x\\n\\nStep 4: Solve the resulting equation to find the value of x.\\n\\n324x - 540 = 198x\\n126x = 540\\nx = 540 / 126\\nx = 30/21\\nx = 10/7\\n\\nNow that we have found the values for x and y, let's use them to determine the number of women in Snyder choir.\\n\\nStep 5: Substitute the value of x into S_w = 3x to find the number of women in Snyder choir.\\n\\nS_w = 3 * (10/7)\\nS_w = 30 / 7\\n\\nThe final answer is:\\n\\nAnswer: $\\\\boxed{30}$\",\n",
       "  'answer': '$\\\\boxed{30}$'}]"
      ]
     },
     "execution_count": 229,
     "metadata": {},
     "output_type": "execute_result"
    }
   ],
   "source": [
    "incorrect_pairs"
   ]
  },
  {
   "cell_type": "code",
   "execution_count": 230,
   "metadata": {},
   "outputs": [
    {
     "data": {
      "text/plain": [
       "[]"
      ]
     },
     "execution_count": 230,
     "metadata": {},
     "output_type": "execute_result"
    }
   ],
   "source": [
    "unanswered_paris"
   ]
  },
  {
   "cell_type": "code",
   "execution_count": 231,
   "metadata": {},
   "outputs": [
    {
     "name": "stdout",
     "output_type": "stream",
     "text": [
      "Total questions processed: 7\n",
      "Correct answers: 3\n",
      "Incorrect answers: 4\n",
      "Unanswered answers: 0\n",
      "Accuracy: 42.86%\n"
     ]
    }
   ],
   "source": [
    "total = len(correct_pairs) + len(incorrect_pairs) + len(unanswered_paris)\n",
    "accuracy = len(correct_pairs) / total * 100\n",
    "print(f\"Total questions processed: {total}\")\n",
    "print(f\"Correct answers: {len(correct_pairs)}\")\n",
    "print(f\"Incorrect answers: {len(incorrect_pairs)}\")\n",
    "print(f\"Unanswered answers: {len(unanswered_paris)}\")\n",
    "print(f\"Accuracy: {accuracy:.2f}%\")"
   ]
  },
  {
   "cell_type": "code",
   "execution_count": 26,
   "metadata": {},
   "outputs": [
    {
     "name": "stdout",
     "output_type": "stream",
     "text": [
      "{'question': 'Rs. 825 becomes Rs. 956 in 3 years at a certain rate of simple interest.If the rate of interest is increased by 4% ,What amount will Rs. 825 become in 3 years ?', 'options': {'A': 'Rs. 1020.80', 'B': 'Rs. 1025', 'C': 'Rs. 1055', 'D': 'Data inadequate', 'E': 'None of these'}, 'rationale': \"Let's break down the problem step by step.\\n\\nGiven:\\n\\n1. Principal (P) = Rs. 825\\n2. Amount after 3 years (A) = Rs. 956\\n\\nWe need to find the rate of interest (R) at which P becomes A in 3 years. We'll use the formula for simple interest:\\n\\nSimple Interest (SI) = (P × R × T)/100\\n\\nwhere T is the time period, which is 3 years here.\\n\\nFirst, let's calculate the SI for the given scenario:\\n\\nA = P + SI\\n956 = 825 + (SI)\\nSI = 131\\n\\nNow, we can use the formula to find the rate of interest (R):\\n\\nSI = (P × R × T)/100\\n131 = (825 × R × 3)/100\\n131 = 24.75R\\nR = 131/24.75 ≈ 5.29%\\n\\nThis is the original rate of interest.\\n\\nNow, let's consider what happens when the rate of interest is increased by 4%:\\n\\nNew Rate (R') = Original Rate + Increase in Rate\\n= 5.29% + 4%\\n= 9.29%\\n\\nWe need to find the new amount that Rs. 825 will become in 3 years at this increased rate.\\n\\nUsing the simple interest formula, we can calculate the new SI:\\n\\nNew SI = (P × R' × T)/100\\n= (825 × 9.29% × 3)/100\\n= 23.61\\n\\nNow, add this new SI to the principal to find the new amount:\\n\\nNew Amount = P + New SI\\n= 825 + 23.61\\n≈ Rs. 848.61\\n\\nHowever, we're asked for a multiple-choice answer, and none of the options match our calculation. This is because we assumed that the interest is compounded annually, but the question doesn't specify this.\\n\\nLet's try another approach using compound interest formula (since it's not specified to be simple interest):\\n\\nAmount after 3 years = P × (1 + R)^T\\n\\nUsing the original rate of interest (5.29%), we get:\\n\\nA = 825 × (1 + 0.0529)^3\\n≈ Rs. 1055\\n\\nThis is the amount that would become in 3 years if the interest is compounded annually.\\n\\nSo, the correct answer is:\\n\\nC: Rs. 1055\", 'answer': 'C'}\n"
     ]
    }
   ],
   "source": [
    "new_correct_pairs = []\n",
    "\n",
    "# Process the incorrect answers\n",
    "for pair in incorrect_pairs:\n",
    "    question = pair['question']\n",
    "    options = pair['options']\n",
    "    correct_answer = pair['correct_answer']\n",
    "\n",
    "    # Generate the rationale with the correct answer as a hint\n",
    "    generated_rationale = rationalize(question, options, correct_answer, prompt_set)\n",
    "\n",
    "    # Add the rationalized example to correct_pairs\n",
    "    new_correct_pairs.append({\n",
    "        'question': question,\n",
    "        'options': options,\n",
    "        'rationale': generated_rationale,\n",
    "        'answer': correct_answer\n",
    "    })\n",
    "\n",
    "    print({\n",
    "        'question': question,\n",
    "        'options': options,\n",
    "        'rationale': generated_rationale,\n",
    "        'answer': correct_answer\n",
    "    })"
   ]
  },
  {
   "cell_type": "markdown",
   "metadata": {},
   "source": [
    "### Converting our corrected pairs into a structure the Llama3.1 model will understand for fine tuning."
   ]
  },
  {
   "cell_type": "code",
   "execution_count": 141,
   "metadata": {},
   "outputs": [],
   "source": [
    "from datasets import Dataset, DatasetDict\n",
    "\n",
    "\n",
    "def convert_correct_pairs_to_conversations(correct_pairs):\n",
    "    \"\"\"\n",
    "    Converts correct_pairs into the desired conversations format.\n",
    "\n",
    "    Parameters:\n",
    "        correct_pairs (list): List of dictionaries containing question, options, correct_answer, and rationale.\n",
    "\n",
    "    Returns:\n",
    "        list: A list of conversations formatted for fine-tuning.\n",
    "    \"\"\"\n",
    "    conversations = []\n",
    "    \n",
    "    for pair in correct_pairs:\n",
    "        question = pair['question']\n",
    "        correct_answer = pair['answer']\n",
    "        rationale = pair['rationale']\n",
    "        \n",
    "        # Construct options text\n",
    "        # options_text = '\\n'.join([f\"{key}: {value}\" for key, value in options.items()])\n",
    "        \n",
    "        # Human prompt\n",
    "        human_value = (\n",
    "            f\"Question: {question}\\n\"\n",
    "        )\n",
    "        \n",
    "        # GPT response\n",
    "        gpt_value = (\n",
    "            f\"{correct_answer}\\nRationale: {rationale}\"\n",
    "        )\n",
    "        \n",
    "        # Append the conversation as a separate list\n",
    "        conversation = [\n",
    "            { \"from\": \"human\", \"value\": human_value },\n",
    "            { \"from\": \"gpt\", \"value\": gpt_value }\n",
    "        ]\n",
    "        \n",
    "        conversations.append(conversation)\n",
    "    \n",
    "    return conversations\n",
    "\n",
    "# conversations = convert_correct_pairs_to_conversations(correct_pairs)\n",
    "\n",
    "# # Create a Hugging Face Dataset\n",
    "# dataset = Dataset.from_dict({\"conversations\": conversations})\n",
    "\n",
    "# # Create a DatasetDict with only the 'train' split\n",
    "# dataset_dict = DatasetDict({\n",
    "#     \"train\": dataset\n",
    "# })\n",
    "\n",
    "# # Optionally, shuffle the dataset\n",
    "# dataset_dict[\"train\"] = dataset_dict[\"train\"].shuffle(seed=42)\n",
    "\n",
    "# # Verify the structure\n",
    "# print(dataset_dict)\n",
    "# print(dataset_dict[\"train\"][0])  # Print the first conversation"
   ]
  },
  {
   "cell_type": "markdown",
   "metadata": {},
   "source": [
    "### Save dataset to JSONL format"
   ]
  },
  {
   "cell_type": "code",
   "execution_count": 47,
   "metadata": {},
   "outputs": [
    {
     "name": "stdout",
     "output_type": "stream",
     "text": [
      "Dataset successfully saved to finetuning_data.jsonl\n"
     ]
    }
   ],
   "source": [
    "import json\n",
    "\n",
    "def save_dataset_to_jsonl(dataset_dict, file_path='finetuning_data.jsonl'):\n",
    "    \"\"\"\n",
    "    Saves the conversations in dataset_dict to a JSONL file.\n",
    "    \n",
    "    Parameters:\n",
    "        dataset_dict (DatasetDict): The dataset to save.\n",
    "        file_path (str): The path to the output JSONL file.\n",
    "        \n",
    "    Returns:\n",
    "        None\n",
    "    \"\"\"\n",
    "    with open(file_path, 'w', encoding='utf-8') as f:\n",
    "        for conversation in dataset_dict[\"train\"][\"conversations\"]:\n",
    "            json_line = json.dumps(conversation)\n",
    "            f.write(json_line + '\\n')\n",
    "    print(f\"Dataset successfully saved to {file_path}\")\n",
    "\n",
    "# Usage\n",
    "save_dataset_to_jsonl(dataset_dict, 'finetuning_data.jsonl')"
   ]
  },
  {
   "cell_type": "markdown",
   "metadata": {},
   "source": [
    "### Load dataset from JSONL (for appending new data)"
   ]
  },
  {
   "cell_type": "code",
   "execution_count": null,
   "metadata": {},
   "outputs": [],
   "source": [
    "def load_dataset_from_jsonl(file_path='finetuning_data.jsonl', validation_split=0.1):\n",
    "    \"\"\"\n",
    "    Loads conversations from a JSONL file and splits them into train and validation sets.\n",
    "\n",
    "    Parameters:\n",
    "        file_path (str): Path to the JSONL file.\n",
    "        validation_split (float): Proportion of data to use for validation.\n",
    "\n",
    "    Returns:\n",
    "        DatasetDict: A DatasetDict with 'train' and 'validation' splits.\n",
    "    \"\"\"\n",
    "    dataset = Dataset.from_json(file_path)\n",
    "    dataset = dataset.train_test_split(test_size=validation_split, seed=42)\n",
    "    dataset_dict = DatasetDict({\n",
    "        \"train\": dataset[\"train\"],\n",
    "        \"validation\": dataset[\"test\"]\n",
    "    })\n",
    "    print(f\"Loaded dataset with {len(dataset_dict['train'])} training and {len(dataset_dict['validation'])} validation conversations.\")\n",
    "    return dataset_dict"
   ]
  },
  {
   "cell_type": "markdown",
   "metadata": {},
   "source": [
    "### Appending New Data"
   ]
  },
  {
   "cell_type": "code",
   "execution_count": 232,
   "metadata": {},
   "outputs": [
    {
     "name": "stdout",
     "output_type": "stream",
     "text": [
      "Successfully appended 3 conversations to finetuning_data.jsonl\n"
     ]
    }
   ],
   "source": [
    "import json\n",
    "\n",
    "new_conversations = convert_correct_pairs_to_conversations(correct_pairs)\n",
    "\n",
    "def append_conversations_to_jsonl(conversations, file_path='finetuning_data.jsonl'):\n",
    "    \"\"\"\n",
    "    Appends a list of conversations to an existing JSONL file.\n",
    "\n",
    "    Parameters:\n",
    "        conversations (list): List of conversations to append.\n",
    "        file_path (str): Path to the existing JSONL file.\n",
    "\n",
    "    Returns:\n",
    "        None\n",
    "    \"\"\"\n",
    "    with open(file_path, 'a', encoding='utf-8') as f:\n",
    "        for convo in conversations:\n",
    "            json_line = json.dumps(convo)\n",
    "            f.write(json_line + '\\n')\n",
    "    print(f\"Successfully appended {len(conversations)} conversations to {file_path}\")\n",
    "    \n",
    "# Usage\n",
    "append_conversations_to_jsonl(new_conversations, 'finetuning_data.jsonl')"
   ]
  },
  {
   "cell_type": "code",
   "execution_count": null,
   "metadata": {},
   "outputs": [],
   "source": []
  }
 ],
 "metadata": {
  "kernelspec": {
   "display_name": ".venv",
   "language": "python",
   "name": "python3"
  },
  "language_info": {
   "codemirror_mode": {
    "name": "ipython",
    "version": 3
   },
   "file_extension": ".py",
   "mimetype": "text/x-python",
   "name": "python",
   "nbconvert_exporter": "python",
   "pygments_lexer": "ipython3",
   "version": "3.11.3"
  }
 },
 "nbformat": 4,
 "nbformat_minor": 2
}
