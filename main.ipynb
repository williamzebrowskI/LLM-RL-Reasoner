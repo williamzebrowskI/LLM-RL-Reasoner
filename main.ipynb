{
 "cells": [
  {
   "cell_type": "code",
   "execution_count": 309,
   "metadata": {},
   "outputs": [],
   "source": [
    "import re\n",
    "import ollama\n",
    "from src.data_loading import load_data\n",
    "from src.parsing import parse_options\n",
    "from src.rationale_generation import generate_rationale_and_answer\n",
    "from src.utils import is_rationale_correct\n",
    "from src.rationalization import rationalize\n",
    "from src.prompt_generation import create_prompt_examples, create_prompt_set, clean_options, get_correct_answer_text"
   ]
  },
  {
   "cell_type": "code",
   "execution_count": 493,
   "metadata": {},
   "outputs": [],
   "source": [
    "NUM_PROMPT_EXAMPLES = 5 # number of prompt examples\n",
    "NUM_EXAMPLES_TO_PROCESS = 10 # number of examples to process"
   ]
  },
  {
   "cell_type": "markdown",
   "metadata": {},
   "source": [
    "### Load Dataset"
   ]
  },
  {
   "cell_type": "code",
   "execution_count": 494,
   "metadata": {},
   "outputs": [
    {
     "name": "stdout",
     "output_type": "stream",
     "text": [
      "Dataset({\n",
      "    features: ['question', 'options', 'rationale', 'correct'],\n",
      "    num_rows: 10\n",
      "})\n"
     ]
    }
   ],
   "source": [
    "ds_train = load_data()\n",
    "\n",
    "# Step 1: Select the desired range from ds_train\n",
    "dataset_D = ds_train.select(range(NUM_PROMPT_EXAMPLES, len(ds_train)))\n",
    "\n",
    "# Step 2: Shuffle the selected dataset\n",
    "dataset_D_shuffled = dataset_D.shuffle()  # Use any seed you prefer\n",
    "\n",
    "# Step 3: Select a subset of examples to process\n",
    "dataset_D_subset = dataset_D_shuffled.select(range(NUM_EXAMPLES_TO_PROCESS))\n",
    "\n",
    "print(dataset_D_subset)"
   ]
  },
  {
   "cell_type": "markdown",
   "metadata": {},
   "source": [
    "### Create prompt examples"
   ]
  },
  {
   "cell_type": "code",
   "execution_count": 495,
   "metadata": {},
   "outputs": [
    {
     "data": {
      "text/plain": [
       "[{'question': \"Two friends plan to walk along a 43-km trail, starting at opposite ends of the trail at the same time. If Friend P's rate is 15% faster than Friend Q's, how many kilometers will Friend P have walked when they pass each other?\",\n",
       "  'rationale': 'If Q complete x kilometers, then P completes 1.15x kilometers.\\nx + 1.15x = 43\\n2.15x=43\\nx = 43/2.15 = 20\\nThen P will have have walked 1.15*20=23 km.\\nThe answer is E.',\n",
       "  'answer': 'E'},\n",
       " {'question': 'In the coordinate plane, points (x, 1) and (5, y) are on line k. If line k passes through the origin and has slope 1/5, then what are the values of x and y respectively?',\n",
       "  'rationale': 'Line k passes through the origin and has slope 1/5 means that its equation is y=1/5*x.\\nThus: (x, 1)=(5, 1) and (5, y) = (5,1) -->x=5 and y=1\\nAnswer: C',\n",
       "  'answer': 'C'},\n",
       " {'question': 'For all numbers p and q, the operation @ is defined by p@q = p^2 - pq. If xy ≠ 0, then which of the following can be equal to zero?\\nI. x@y\\nII. (xy)@y\\nIII. x@(x + y)',\n",
       "  'rationale': 'p@q = p^2 - pq=p(p-q).... so p@q will be zero if p=q or p=0.. but a cannot be equal to 0.. as per Q, x and y can take any int value except 0...\\nnow lets look at the choices..\\nwhen x=y, it will be 0... so ok...\\nwhen we put xy=y, it is possible when x=1 and y any integer... so ok again\\nwhen we put x=x+y.... only possibility when y=0 and it is given x and y cannot be 0....so not possible\\nonly l and ll possible ans B....',\n",
       "  'answer': 'B'},\n",
       " {'question': 'Carl is facing very difficult financial times and can only pay the interest on a $10,000 loan he has taken. The bank charges him a quarterly compound rate of 4%. What is the approximate interest he pays annually?',\n",
       "  'rationale': 'Usually, you are given the annual rate of interest and it is mentioned that it is annual rate.\\nThe bank charges him a quarterly compounded ANNUAL rate of 16%.\\nHere you find per quarter rate as (16/4)% = 4%\\nI have actually never seen a question with quarter rate given but since this question did not mentionannual rate of interestand since the options did not make sense with 4% annual rate of interest, it is apparent that the intent was a 4% quarterly rate. So the bank charges 4% every quarter and compounds it in the next quarter. Had it been a simple quarterly rate, we would have just found 4 * 4% of 10,000 = $1600 as our answer.\\nBut since, the interest is compounded, it will be a bit more than $1600. Option (A) looks correct.',\n",
       "  'answer': 'A'},\n",
       " {'question': 'The speed at which a man can row a boat in still water is 25 kmph. If he rows downstream, where the speed of current is 11 kmph, what time will he take to cover 80 metres?',\n",
       "  'rationale': 'Speed of the boat downstream = 25 +11\\n= 36 kmph\\n= 36 * 5/18 = 10 m/s\\nHence time taken to cover 80 m = 80/10\\n= 8 seconds.\\nAnswer:E',\n",
       "  'answer': 'E'}]"
      ]
     },
     "execution_count": 495,
     "metadata": {},
     "output_type": "execute_result"
    }
   ],
   "source": [
    "prompt_examples = create_prompt_examples(ds_train, NUM_PROMPT_EXAMPLES)\n",
    "\n",
    "prompt_examples"
   ]
  },
  {
   "cell_type": "markdown",
   "metadata": {},
   "source": [
    "### Create Prompt Sets"
   ]
  },
  {
   "cell_type": "code",
   "execution_count": 496,
   "metadata": {},
   "outputs": [
    {
     "name": "stdout",
     "output_type": "stream",
     "text": [
      "Question: Two friends plan to walk along a 43-km trail, starting at opposite ends of the trail at the same time. If Friend P's rate is 15% faster than Friend Q's, how many kilometers will Friend P have walked when they pass each other?\n",
      "Answer Explanation: If Q complete x kilometers, then P completes 1.15x kilometers.\\nx + 1.15x = 43\\n2.15x=43\\nx = 43/2.15 = 20\\nThen P will have have walked 1.15*20=23 km.\\nThe answer is E.\n",
      "Answer: 23\n",
      "###\n",
      "Question: In the coordinate plane, points (x, 1) and (5, y) are on line k. If line k passes through the origin and has slope 1/5, then what are the values of x and y respectively?\n",
      "Answer Explanation: Line k passes through the origin and has slope 1/5 means that its equation is y=1/5*x.\\nThus: (x, 1)=(5, 1) and (5, y) = (5,1) -->x=5 and y=1\\nAnswer: C\n",
      "Answer: 5 and 1\n",
      "###\n",
      "Question: For all numbers p and q, the operation @ is defined by p@q = p^2 - pq. If xy ≠ 0, then which of the following can be equal to zero?\n",
      "I. x@y\n",
      "II. (xy)@y\n",
      "III. x@(x + y)\n",
      "Answer Explanation: p@q = p^2 - pq=p(p-q).... so p@q will be zero if p=q or p=0.. but a cannot be equal to 0.. as per Q, x and y can take any int value except 0...\\nnow lets look at the choices..\\nwhen x=y, it will be 0... so ok...\\nwhen we put xy=y, it is possible when x=1 and y any integer... so ok again\\nwhen we put x=x+y.... only possibility when y=0 and it is given x and y cannot be 0....so not possible\\nonly l and ll possible ans B....\n",
      "Answer: I and II\n",
      "###\n",
      "Question: Carl is facing very difficult financial times and can only pay the interest on a $10,000 loan he has taken. The bank charges him a quarterly compound rate of 4%. What is the approximate interest he pays annually?\n",
      "Answer Explanation: Usually, you are given the annual rate of interest and it is mentioned that it is annual rate.\\nThe bank charges him a quarterly compounded ANNUAL rate of 16%.\\nHere you find per quarter rate as (16/4)% = 4%\\nI have actually never seen a question with quarter rate given but since this question did not mentionannual rate of interestand since the options did not make sense with 4% annual rate of interest, it is apparent that the intent was a 4% quarterly rate. So the bank charges 4% every quarter and compounds it in the next quarter. Had it been a simple quarterly rate, we would have just found 4 * 4% of 10,000 = $1600 as our answer.\\nBut since, the interest is compounded, it will be a bit more than $1600. Option (A) looks correct.\n",
      "Answer: $1600\n",
      "###\n",
      "Question: The speed at which a man can row a boat in still water is 25 kmph. If he rows downstream, where the speed of current is 11 kmph, what time will he take to cover 80 metres?\n",
      "Answer Explanation: Speed of the boat downstream = 25 +11\\n= 36 kmph\\n= 36 * 5/18 = 10 m/s\\nHence time taken to cover 80 m = 80/10\\n= 8 seconds.\\nAnswer:E\n",
      "Answer: 8 seconds\n",
      "###\n",
      "\n"
     ]
    }
   ],
   "source": [
    "prompt_set = create_prompt_set(ds_train, NUM_PROMPT_EXAMPLES)\n",
    "print(prompt_set)"
   ]
  },
  {
   "cell_type": "markdown",
   "metadata": {},
   "source": [
    "### Initialize lists to hold correct and incorrect pairs"
   ]
  },
  {
   "cell_type": "code",
   "execution_count": 497,
   "metadata": {},
   "outputs": [],
   "source": [
    "correct_pairs = []\n",
    "incorrect_pairs = []\n",
    "unanswered_paris = []"
   ]
  },
  {
   "cell_type": "markdown",
   "metadata": {},
   "source": [
    "### Iterate over each example in the subset"
   ]
  },
  {
   "cell_type": "code",
   "execution_count": 498,
   "metadata": {},
   "outputs": [],
   "source": [
    "def extract_answer_text(rationale):\n",
    "    \"\"\"\n",
    "    Extracts the answer text from the rationale using regex.\n",
    "    \n",
    "    Args:\n",
    "        rationale (str): Generated rationale string.\n",
    "    \n",
    "    Returns:\n",
    "        str or None: Extracted answer text if found, else None.\n",
    "    \"\"\"\n",
    "    # Attempt to extract the answer text after 'Answer:'\n",
    "    match = re.search(r'Answer:\\s*(.+)', rationale, re.IGNORECASE)\n",
    "    if match:\n",
    "        return match.group(1)\n",
    "    return None"
   ]
  },
  {
   "cell_type": "code",
   "execution_count": 499,
   "metadata": {},
   "outputs": [
    {
     "name": "stdout",
     "output_type": "stream",
     "text": [
      "correct_answer_text: 3:2\n",
      "clean options: ['A) 2:1', 'B) 3:2', 'C) 4:3', 'D) 5:4', 'E) 6:5']\n",
      "extracted answer: 5:2\n",
      "incorrect\n",
      "Incorrect: {'question': 'The marks obtained by Polly and Sandy are in the ratio 3:5 and those obtained by Sandy and Willy are in the ratio of 5:2. The marks obtained by Polly and Willy are in the ratio of...?', 'rationale': \"To solve this problem, we need to find the ratio of the marks obtained by Polly and Willy.\\n\\nLet's first consider the marks obtained by Polly and Sandy, which are in the ratio 3:5. This means that if Polly's marks are 3x, then Sandy's marks are 5x.\\n\\nNow, let's consider the marks obtained by Sandy and Willy, which are in the ratio 5:2. This means that if Sandy's marks are 5y, then Willy's marks are 2y.\\n\\nSince Sandy's marks appear in both ratios, we can equate them:\\n\\n3x = 5y\\n\\nNow, we need to express y in terms of x:\\n\\ny = (3/5)x\\n\\nWe also know that Sandy's marks are 5x. So, substituting the expression for y into the equation for Sandy's marks:\\n\\n5x = 5((3/5)x)\\n\\nSimplifying this equation, we get:\\n\\n5x = 3x\\n\\nThis means that x must be a multiple of 3.\\n\\nLet's choose the smallest possible value for x, which is 3. Then, Polly's marks are 3(3) = 9, and Sandy's marks are 5(3) = 15.\\n\\nNow, we need to find Willy's marks in terms of x. We know that Sandy's marks are 5x, so Willy's marks are 2y, where y is the value we found earlier:\\n\\ny = (3/5)x\\n\\nSubstituting x = 3 into this equation, we get:\\n\\ny = (3/5)(3) = 9/5\\n\\nNow, we can find Willy's marks by multiplying this value by 2:\\n\\nWilly's marks = 2(9/5) = 18/5\\n\\nSo, Polly's marks are 9 and Willy's marks are 18/5.\\n\\nThe ratio of the marks obtained by Polly and Willy is therefore 9:(18/5).\\n\\nTo simplify this ratio, we can multiply both terms by 5 to get rid of the fraction:\\n\\nPolly's marks = 9(5) = 45\\nWilly's marks = (18/5)(5) = 18\\n\\nNow we have a whole number ratio: 45:18. We can further simplify this ratio by dividing both numbers by their greatest common divisor, which is 9.\\n\\nSimplifying the ratio:\\n\\nPolly's marks = 45 ÷ 9 = 5\\nWilly's marks = 18 ÷ 9 = 2\\n\\nSo, the ratio of Polly's and Willy's marks is 5:2.\\n\\nAnswer: 5:2\", 'answer': '5:2'}\n",
      "Processed 1 questions.\n",
      "\n",
      "correct_answer_text: 511000000\n",
      "clean options: ['A) 511000000', 'B) 5110000', 'C) 511000', 'D) 51100000', 'E) 51100']\n",
      "extracted answer: 50000000000.11\n",
      "correct\n",
      "Correct: {'question': 'Calculate the value of 5.11 x 10^8 ?', 'rationale': \"To calculate the value of 5.11 x 10^8, we need to follow the rules for multiplying numbers with powers of 10.\\n\\nFirst, let's separate the coefficient (5.11) from the power of 10 (^8):\\n\\n5.11 x 10^8 = 5.11 x (10^1)^8\\n\\nNow, using the property that (a^b)^c = a^(b*c), we can simplify this further:\\n\\n(10^1)^8 = 10^(1*8) = 10^8\\n\\nSo now our equation becomes:\\n\\n5.11 x 10^8 = 5.11 x 10^8\\n\\nThe next step is to multiply the coefficient by the power of 10, which results in moving the decimal point of the coefficient eight places to the left.\\n\\nMoving the decimal point of 5.11 eight places to the left gives us:\\n\\n50000000000.11\\n\\nTherefore, the value of 5.11 x 10^8 is:\\n\\n\\nAnswer: 50000000000.11\", 'answer': '50000000000.11'}\n",
      "Processed 2 questions.\n",
      "\n",
      "correct_answer_text: 7.38 days\n",
      "clean options: ['A) 7.78 days', 'B) 7.88 days', 'C) 7.38 days', 'D) 7.38 days', 'E) 7.36 days']\n",
      "extracted answer: None\n",
      "incorrect\n",
      "Incorrect: {'question': 'A and B can do a piece of work in 8 days. B and C can do it in 12 days and A and C in 16 days. Working together they will complete the work in how many days?', 'rationale': \"To solve this problem, we need to find the individual rates at which each person can complete the work.\\n\\nLet's denote the rate of work completion for A as R_A, B as R_B, and C as R_C. We'll express these rates as fractions of the total work completed per day.\\n\\nWe're given that:\\n1. A and B together can do the work in 8 days, so their combined rate is 1/8.\\n   => R_A + R_B = 1/8\\n\\n2. B and C together can do the work in 12 days, so their combined rate is 1/12.\\n   => R_B + R_C = 1/12\\n\\n3. A and C together can do the work in 16 days, so their combined rate is 1/16.\\n   => R_A + R_C = 1/16\\n\\nWe need to find a way to add up all three equations to get a single equation for R_A + R_B + R_C.\\n\\nTo do this, let's multiply each of the first two equations by 4 and the third by 3. This allows us to have the same denominator in all equations:\\n   => 4(R_A + R_B) = 4/8\\n   => 4(R_B + R_C) = 4/12\\n   => 3(R_A + R_C) = 3/16\\n\\nSimplifying these expressions gives us:\\n   => 4R_A + 4R_B = 1/2\\n   => 4R_B + 4R_C = 1/3\\n   => 3R_A + 3R_C = 1/16\\n\\nNow, we can add up all three equations (and their multipliers):\\n   => (4R_A + 4R_B) + (4R_B + 4R_C) + (3R_A + 3R_C) = 1/2 + 1/3 + 1/16\\n\\nCombining the terms on the left-hand side of this equation, we get:\\n   => 7R_A + 8R_B + 7R_C = 1/2 + 1/3 + 1/16\\n\\nWe know from the first statement that R_A + R_B equals 1/8. We can plug this into our combined equation to simplify it:\\n   => 7(1/8) + 8R_B + 7R_C = 1/2 + 1/3 + 1/16\\n\\nMultiplying out the left-hand side, we get:\\n   => 7/8 + 8R_B + 7R_C = 1/2 + 1/3 + 1/16\\n\\nThe next step is to combine all the fractions on the right-hand side of the equation. We need a common denominator for 2, 3, and 16.\\n   => 1/2 = 8/16\\n   => 1/3 = 16/48\\n   => 1/16 remains the same\\n\\nWe can now rewrite our combined fraction with these changes:\\n   => 7/8 + 8R_B + 7R_C = (8+16)/48 + 1/16\\n   => 7/8 + 8R_B + 7R_C = 24/48 + 3/48\\n   => 7/8 + 8R_B + 7R_C = 27/48\\n\\nSubtracting the left-hand side from both sides (with the understanding that subtracting a negative number is equivalent to adding a positive) gives us:\\n   => -1/8 + 8R_B + 7R_C = 9/48\\n\\nAt this point, we can convert -1/8 into an equivalent fraction with a denominator of 48.\\n   => -6/48 + 8R_B + 7R_C = 9/48\\n\\nWe then add 6/48 to both sides:\\n   => 8R_B + 7R_C = 15/48\\n\\nRecall the statement that we multiplied by 4 in our first manipulation: R_A + R_B equals 1/8. This is equivalent to saying R_A equals 1/8 - R_B.\\n   => R_A = -8R_B + 1/8\\n\\nSubstituting this expression for R_A into the initial combined equation (7R_A + 8R_B + 7R_C = 1/2 + 1/3 + 1/16), we have:\\n   => 7(-8R_B + 1/8) + 8R_B + 7R_C = 1/2 + 1/3 + 1/16\\n\\nDistributing the factor of -8 to R_B on the left-hand side, we get:\\n   => -56R_B + (7/8) + 8R_B + 7R_C = 1/2 + 1/3 + 1/16\\n\\nThe terms with R_B cancel each other out, leaving us with:\\n   => (7/8) + 7R_C = 1/2 + 1/3 + 1/16\\n\\nTo make the fractions on the right-hand side have a common denominator of 48, we convert them as follows:\\n   => (7/8) + 7R_C = 24/48 + 16/48 + 3/48\\n   => (7/8) + 7R_C = 43/48\\n\\nWe know from the initial manipulation that R_A + R_B equals 1/8, which is equivalent to saying R_A equals -8R_B + 1/8. We can now use this result in our calculation of 7R_C.\\n\\nUsing the fact that we added up all three original equations and then substituted for R_A using R_B, we find:\\n   => (4R_A + 4R_B) + (4R_B + 4R_C) + (3R_A + 3R_C) = (1/2 + 1/3 + 1/16)\\n   => -56R_B + (-8) + 7R_C + 8R_B + 8R_B + 7R_C = -16R_B + 15R_C\\n   => 7R_C = -16R_B + (9/48)\\n\\nMultiplying this equation by -48/7 to isolate the R_C term yields:\\n   => -16(6)R_B + (-48)(-8) = (48)(9)/(-7)\\n   => -96R_B + 384 = -432/7\\n\\nTo clear the denominators, we multiply both sides of this equation by -7.\\n   => 672R_B - 2688 = 3024\\n   => 672R_B = 5704\\n   => R_B = 8.5\\n\\nNow that we have found the value for R_B, we can plug it back into one of our earlier equations to find R_C.\\n\\nUsing the second equation: R_B + R_C = 1/12\\n   => 8.5 + R_C = 1/12\\n\\nMultiplying both sides by -12 (because multiplying a fraction by its negative is the same as adding a positive) gives us:\\n   => -102R_C = -103 + (-84)\\n   => -102R_C = -187\\n   => R_C = 187/102\\n\\nFinally, we can use our expressions for R_B and R_C to find R_A using any of our earlier equations. We'll choose the first one: R_A + R_B = 1/8.\\n\\nSubstituting in the value for R_B that we found gives us:\\n   => R_A + (8.5) = 1/8\\n\\nUsing a calculator, we can approximate this expression and solve for R_A:\\n   => R_A ≈ -66.5/102\\n   => R_A ≈ -0.65\\n\\nAt last, we have the individual values for R_A, R_B, and R_C.\\n\\nRecall that our final goal was to find 1/R_A + 1/R_B + 1/R_C.\\nPlugging in these values, we get:\\n   => (1/-0.65) + (1/8.5) + (1/187/102)\\n   => (-1.54) + 0.1176 + 0.0054\\n   => -1.427\\n\\nWe can approximate this to one decimal place and write our answer as follows:\\n   => The final answer is: 1.43\", 'answer': 'No Answer Extracted'}\n",
      "Processed 3 questions.\n",
      "\n",
      "correct_answer_text: 78\n",
      "clean options: ['A) 27', 'B) 34', 'C) 50', 'D) 61', 'E) 78']\n",
      "extracted answer: 5\n",
      "incorrect\n",
      "Incorrect: {'question': 'A machine manufactures notebooks in a series of five colors: red, blue, black, white, and yellow. After producing a notebook of one color from that series, it produces a notebook of the next color. Once five are produced, the machine repeats the same pattern. If the machine began a day producing a red notebook and completed the day by producing a black notebook, how many notebooks could have been produced that day?', 'rationale': \"To solve this problem, let's break it down step by step.\\n\\n1. The machine produces notebooks in a series of five colors: red, blue, black, white, and yellow.\\n2. It started the day producing a red notebook and completed the day producing a black notebook.\\n3. This means that the machine must have gone through at least one complete cycle (i.e., produced a notebook of each color) before starting another cycle on the same day.\\n4. In one complete cycle, it produces 5 notebooks.\\n5. Since the machine started the day with a red notebook and completed the day with a black notebook, it means that the first notebook of the new cycle is also red (since the colors repeat after every five).\\n6. Therefore, on this particular day, the machine must have produced at least one complete cycle plus one more red notebook.\\n7. This gives us a minimum of 5 notebooks (one complete cycle) + 1 more red notebook = 6 notebooks.\\n\\nHowever, we need to consider that the machine could also produce more than one complete cycle in the same day. Since each cycle consists of 5 notebooks, let's see how many notebooks can be produced if multiple cycles are completed:\\n\\n- The first complete cycle would consist of 5 notebooks (red, blue, black, white, and yellow).\\n- If another cycle is completed, it will add 5 more notebooks to the total.\\n- And so on.\\n\\nWe know that the machine started with a red notebook and ended with a black notebook. To find the number of notebooks produced, we can simply multiply the number of complete cycles by 5 (the number of notebooks in each cycle).\\n\\nSince the first cycle produces 5 notebooks, and the last cycle ends with a black notebook, it means that the machine must have completed at least one full cycle on this day. Therefore, the minimum number of notebooks produced would be:\\n\\nMinimum number of notebooks = Number of complete cycles × 5\\n= 1 × 5 (since we know there is at least one full cycle)\\n= 5\\n\\nHowever, since each complete cycle adds 5 notebooks to the total, let's consider that the machine could produce more than just one cycle in the same day. We're given no indication that it cannot.\\n\\nThe question does not specify any constraints on the number of cycles the machine can perform within a single day. Since we know it completed at least one full cycle (5 notebooks) and produced a black notebook as its last notebook, we should consider all possibilities:\\n\\n- If only one complete cycle is performed, then 5 notebooks are produced.\\n- If two complete cycles are performed, then 10 notebooks would be produced (2 × 5).\\n- If three complete cycles are performed... well, you get the idea.\\n\\nSince there's no restriction on the number of full cycles it can perform within a single day, let's analyze how many notebooks could have been produced if multiple cycles were completed:\\n\\nWe know that in each cycle, 5 notebooks are produced. So, for n complete cycles, we'll have n × 5 = 5n notebooks.\\n\\nHowever, since the question specifically asks us to consider all possibilities (with no specific number of cycles given), let's examine our findings so far:\\n\\n- The machine started with a red notebook and completed the day by producing a black notebook. This indicates that it must have performed at least one full cycle on this particular day.\\n- Each complete cycle produces 5 notebooks.\\n\\nConsidering these facts, we can safely say that if only one cycle was performed (the minimum required to end with a black notebook), then exactly 5 notebooks would be produced.\\n\\nIf more than one complete cycle were completed (without any stated limitations), the number of notebooks increases linearly with each additional full cycle. However, since no specific limit is mentioned for these cycles within the given timeframe, we cannot definitively determine how many total cycles could be completed in a day without assuming some form of constraint.\\n\\nTherefore, focusing on the information provided:\\n\\n- The minimum requirement to end with a black notebook is at least one complete cycle.\\n- There's no restriction on multiple full cycles within a single day mentioned in the problem statement.\\n\\nConsidering these points and the question itself, we should aim for the most straightforward interpretation that satisfies all given conditions. In this case, recognizing that a clear minimum (5 notebooks) exists due to the completion of at least one full cycle before ending with a black notebook.\\n\\nThus, acknowledging that while multiple cycles are possible without restrictions, our basic minimum to answer the question correctly is 5, based on completing the minimum required cycle.\\n\\nTherefore, we can confidently say that:\\n\\nAnswer: 5\", 'answer': '5'}\n",
      "Processed 4 questions.\n",
      "\n",
      "correct_answer_text: IIIII only\n",
      "clean options: ['A) I only', 'B) II only', 'C) IIII only', 'D) IIIII only', 'E) I, IIIII']\n",
      "extracted answer: III\n",
      "incorrect\n",
      "Incorrect: {'question': 'Series B(n) is such that i*B(i) = j*B(j) for any pair of positive integers (i, j). If B(1) is a positive integer, which of the following is possible?\\nI. 2*B(100) = B(99) + B(98)\\nII. B(1) is the only integer in the series\\nIII. The series does not contain negative numbers', 'rationale': \"To solve this problem, let's first understand the given property of Series B(n): i*B(i) = j*B(j) for any pair of positive integers (i, j).\\n\\nThis means that if we multiply the term at position 'i' by 'i', it should be equal to the product of the term at position 'j' and 'j'.\\n\\nLet's consider option I: 2*B(100) = B(99) + B(98)\\n\\nFrom the given property, we can write:\\n\\ni*B(i) = j*B(j)\\n100*B(100) = k*B(k)\\n\\nNow, let's manipulate this equation to see if we can get something close to what is given in option I.\\n\\nWe know that i*B(i) = j*B(j), so substituting 100 for 'i' and 'j', we get:\\n\\n100*B(100) = j*B(j)\\n\\nThis means that the product of B(100) and 100 must be equal to some other term in the series (B(j)) multiplied by 'j'.\\n\\nNow, let's consider option II: B(1) is the only integer in the series\\n\\nFrom the given property, we know that:\\n\\ni*B(i) = j*B(j)\\n\\nIf B(1) is the only integer in the series, then for all other values of i and j (except 1), the terms would be non-integers.\\n\\nHowever, this contradicts the fact that each term is equal to some other term multiplied by 'j', implying that the product of two integers (i*B(i)) equals another integer (B(j)). This suggests that we can always find an integer value for B(i) whenever i is a positive integer.\\n\\nNow, let's consider option III: The series does not contain negative numbers\\n\\nGiven the property:\\n\\ni*B(i) = j*B(j)\\n\\nThis means that if 'i' or 'j' is negative, then either B(i) or B(j) must also be negative. However, this contradicts the implication of the original statement that each term can be expressed as a product of two integers.\\n\\nTherefore, it appears that option III may indeed hold true: The series does not contain negative numbers.\\n\\nAnswer: III\", 'answer': 'III'}\n",
      "Processed 5 questions.\n",
      "\n",
      "correct_answer_text: 60\n",
      "clean options: ['A) 20', 'B) 30', 'C) 40', 'D) 50', 'E) 60']\n",
      "extracted answer: None\n",
      "incorrect\n",
      "Incorrect: {'question': 'In a mixture of 60 litres, the ratio of acid to base is 2 : 1. If this ratio is to be 1 : 2, then the quantity of base (in litres) to be further added is', 'rationale': \"To solve this problem, we will follow these steps:\\n\\nStep 1: Understand the initial and final ratios.\\n\\nThe initial ratio of acid to base is 2:1. This means that for every 2 parts of acid, there is 1 part of base.\\n\\nLet's assume that initially, there are x litres of acid and y litres of base in the mixture. Then the initial ratio can be written as:\\n\\nx : y = 2 : 1\\n\\nStep 2: Express the initial quantities using the given total volume.\\n\\nWe know that the total volume of the mixture is 60 litres. This means that:\\n\\nx + y = 60\\n\\nUsing this equation, we can express x in terms of y or vice versa.\\n\\nStep 3: Determine the final ratio and quantity of acid.\\n\\nThe desired ratio of acid to base is 1 : 2, meaning there will be one part of acid for every two parts of base. Let's calculate the new quantities of acid (A) and base (B) after adding x litres of acid and y litres of base to achieve this ratio:\\n\\nA = 60 × (1/3)\\nB = 60 × (2/3)\\n\\nStep 4: Calculate how much base should be added.\\n\\nLet's denote the quantity of base to be further added as 'z' litres. After adding z litres of base, the new total volume will be 60 + z litres.\\n\\nThe amount of acid in this final mixture is still x litres (as no acid was added), but we want the ratio of acid to base to change from 2:1 to 1:2. This means that the quantity of acid should be one-third of the new total volume, and the quantity of base should be two-thirds of the new total volume.\\n\\nWe already have x litres of acid in the final mixture, which is equal to A = (60 × 3)/3 = 20 litres, so there are 20 litres of acid. We need to find out how much base we should add so that the ratio becomes 1:2 and the quantity of base will be B = (60 + z) × (2/3).\\n\\nSince we want the final ratio of acid to base to be 1 : 2, let's calculate the desired quantities of acid and base:\\n\\nA = (60 + z)/3\\nB = (60 + z)\\n\\nStep 5: Express 'z' in terms of known variables.\\n\\nNow that we know A and B, we can express these values using x and y from Step 1. The quantity of base is given by the formula:\\ny=20\\n\\nWe want to find how much base (denoted as 'z') should be further added so that this ratio changes to 1:2.\\n\\nThe desired amount of acid remains unchanged at A = 20 litres, but we need to find out how much base should be added. Let's subtract the initial quantity of base (y) from the new total volume (60 + z), where z is the additional base needed:\\n\\n(60 + z)/3 - y = 1/2\\n\\nStep 6: Solve for 'z'.\\n\\nWe want to add an amount of base 'z' that satisfies this condition. Let's first calculate what the correct quantities should be after adding base.\\n\\nSince A = (60 + z)/3 and B = (60 + z), then we must have:\\nB - y = 1/2 * (A)\\n\\nWe need to express everything in terms of known values. We already found out that x = 20 and y = 20.\\n\\nSubstituting these known quantities, we get:\\n\\n(60 + z)/3 - 20 = 1/2 * 20\\n\\nMultiplying through by 6 to clear the denominators gives us:\\n2 (60 + z) - 120 = 120\\nWe solve for 'z' and plug in the correct values.\\n\\nAnswer:\", 'answer': 'No Answer Extracted'}\n",
      "Processed 6 questions.\n",
      "\n",
      "correct_answer_text: 40/3\n",
      "clean options: ['A) 3/80', 'B) 3/5', 'C) 4', 'D) 5/3', 'E) 40/3']\n",
      "extracted answer: 13.33\n",
      "correct\n",
      "Correct: {'question': 'If N = 2^0.3 and N^b = 16, b must equal', 'rationale': \"To solve this problem, we will follow a step-by-step process.\\n\\nStep 1: First, let's find the value of N.\\nWe are given that N = 2^0.3.\\nSo, N is a number with an exponent of 0.3 on base 2.\\n\\n\\nStep 2: Next, let's rewrite N^b in terms of powers of 2.\\nSince we already know that N = 2^0.3, then N^b can be written as (2^0.3)^b = 2^(0.3*b).\\n\\n\\nStep 3: Now, we are given that N^b = 16.\\nWe also know that 16 is equal to 2^4.\\n\\n\\nStep 4: Therefore, the equation becomes 2^(0.3*b) = 2^4.\\nThis means that the exponents must be equal, so 0.3*b = 4.\\n\\n\\nStep 5: To find b, we need to solve this equation for b.\\nWe can do this by dividing both sides of the equation by 0.3.\\n\\n\\nStep 6: Now, let's calculate the value of b.\\nb = 4 / 0.3\\nb ≈ 13.33\\n\\n\\nTherefore, the value of b is approximately 13.33.\\n\\nAnswer: 13.33\", 'answer': '13.33'}\n",
      "Processed 7 questions.\n",
      "\n",
      "correct_answer_text: 49\n",
      "clean options: ['A) 31.8', 'B) 31.1', 'C) 31.6', 'D) 49', 'E) 31.9']\n",
      "extracted answer: 49%\n",
      "correct\n",
      "Correct: {'question': 'A single discount equivalent to the discount series of 25%, 20% and 15% is?', 'rationale': \"To find a single discount equivalent to the series of discounts, we need to calculate the final price after each discount and then compare it with the original price.\\n\\n1. First, apply the 25% discount:\\n\\nOriginal price = $100 (assuming)\\n\\nDiscounted price after 25% = $100 - (0.25 * $100) = $75\\n\\n2. Next, apply the 20% discount on the already discounted price of $75:\\n\\nDiscounted price after 25% and 20% = $75 - (0.20 * $75) = $60\\n\\n3. Finally, apply the 15% discount on the already discounted price of $60:\\n\\nFinal price after all discounts = $60 - (0.15 * $60) = $51.00\\n\\nNow, we need to find a single discount that would result in a final price of $51.00 from the original price of $100.\\n\\nLet's denote this single discount as 'x'. The formula for the final price after a single discount is:\\n\\nFinal price = Original price - (Original price * x)\\n\\nWe know the final price is $51.00 and the original price is $100, so we can set up the equation:\\n\\n$51.00 = $100 - ($100 * x)\\n\\nSolving for 'x', we get:\\n\\n$100 * x = $100 - $51.00\\n$100 * x = $49.00\\nx = $49.00 / $100\\n\\nx ≈ 0.49 or 49%\\n\\nTherefore, a single discount equivalent to the series of discounts (25%, 20%, and 15%) is approximately 49%.\\n\\nAnswer: 49%\", 'answer': '49%'}\n",
      "Processed 8 questions.\n",
      "\n",
      "correct_answer_text: 2\n",
      "clean options: ['A) 2', 'B) 1', 'C) 4', 'D) 18', 'E) 17']\n",
      "extracted answer: 11\n",
      "incorrect\n",
      "Incorrect: {'question': 'What least number must be added to 3000 to obtain a number exactly divisible by 19 ?', 'rationale': \"To find the least number that must be added to 3000 to make it exactly divisible by 19, we need to follow these steps:\\n\\n1. First, let's check if 3000 is already divisible by 19.\\n\\n2. If not, then we'll divide 3000 by 19 and see what's left as a remainder.\\n\\n3. Since the remainder will be less than 19 (because it's the amount left after dividing 3000 by 19), that remainder itself can be considered as the number that needs to be added to 3000 to make it divisible by 19.\\n\\nStep 1: Checking if 3000 is divisible by 19\\n\\n3000 ÷ 19 = 157.8947 (approximately)\\n\\nFrom this, we see that 3000 is not an exact multiple of 19 because the result is not a whole number.\\n\\nStep 2: Finding what's left after dividing 3000 by 19\\n\\nLet's divide 3000 by 19 to find the remainder:\\n\\n3000 ÷ 19 = 157 with a remainder of 11\\n\\nThis means that when you take 3000 and divide it by 19, the quotient (result) is 157, and there's a remainder of 11.\\n\\nStep 3: Determining what needs to be added to 3000\\n\\nSince we have a remainder of 11 from dividing 3000 by 19, this means that if we add 11 to 3000, it will make 3000 divisible by 19 because the remainder (which is now covered) does not affect divisibility.\\n\\nTherefore, the least number that must be added to 3000 to obtain a number exactly divisible by 19 is:\\n\\nAnswer: 11\", 'answer': '11'}\n",
      "Processed 9 questions.\n",
      "\n",
      "correct_answer_text: 27 seconds\n",
      "clean options: ['A) 16 seconds', 'B) 18 seconds', 'C) 19 seconds', 'D) 27 seconds', 'E) 10 seconds']\n",
      "extracted answer: 27\n",
      "correct\n",
      "Correct: {'question': 'Two persons start running simultaneously around a circular track of length 300 m from the same point at speeds of 15 km/hr and 25 km/hr. When will they meet for the first time any where on the track if they are moving in opposite directions?', 'rationale': \"To find when the two persons will meet for the first time anywhere on the track, we need to calculate how long it takes them to cover a distance of 300 m (the length of the circular track) together.\\n\\nFirst, let's convert their speeds from km/hr to meters per second:\\n\\nSpeed of person 1 = 15 km/hr * (1000 m/km) / (3600 s/hr) = 4.17 m/s\\nSpeed of person 2 = 25 km/hr * (1000 m/km) / (3600 s/hr) = 6.94 m/s\\n\\nSince they are moving in opposite directions, their relative speed is the sum of their individual speeds:\\n\\nRelative speed = Speed of person 1 + Speed of person 2 = 4.17 m/s + 6.94 m/s = 11.11 m/s\\n\\nNow, we can calculate the time it takes for them to meet anywhere on the track by dividing the length of the track (300 m) by their relative speed:\\n\\nTime taken to meet = Length of track / Relative speed\\n= 300 m / 11.11 m/s\\n≈ 27 seconds\\n\\nTherefore, the two persons will meet for the first time anywhere on the track in approximately 27 seconds.\\n\\nAnswer: 27\", 'answer': '27'}\n",
      "Processed 10 questions.\n",
      "\n"
     ]
    }
   ],
   "source": [
    "for idx, example in enumerate(dataset_D_subset):\n",
    "    question = example['question']\n",
    "    # Map 'correct' label to answer text\n",
    "    raw_options = example['options']\n",
    "    cleaned_options = clean_options(raw_options)\n",
    "    correct_label = example['correct'].strip().upper()\n",
    "    correct_answer_text = get_correct_answer_text(cleaned_options, correct_label)\n",
    "\n",
    "    print(f\"correct_answer_text: {correct_answer_text}\")\n",
    "    print(f\"clean options: {cleaned_options}\")\n",
    "    \n",
    "    if correct_answer_text is None:\n",
    "        print(f\"Skipping example {idx} due to missing correct answer.\")\n",
    "        continue  # Skip this example\n",
    "    \n",
    "    # Generate rationale and answer\n",
    "    generated_rationale = generate_rationale_and_answer(question, prompt_set)\n",
    "    \n",
    "    # Extract the answer text from the rationale\n",
    "    extracted_answer = extract_answer_text(generated_rationale)\n",
    "    print(f\"extracted answer: {extracted_answer}\")\n",
    "\n",
    "    response = ollama.chat(model=\"llama3.1:8b\", messages=[\n",
    "            {\n",
    "                'role': 'user',\n",
    "                'content':\n",
    "                f\"\"\"\n",
    "                    Your task is to compare two numerical answers and determine if they are the same answer, ignoring differences in units or formatting.\\n\\n\n",
    "                    Comparison Rules:\\n\\n\n",
    "                    - If the answers are the same, for example, First Answer: '90' and Second Answer: '90 miles' or ( km, %, sec, ml, etc) this is a match and return 'correct' in your response.\\n\n",
    "                    - If the answers are different, consider them NOT a match and return 'incorrect' in your response.\\n\\n\n",
    "                    Ignore differences in formatting, such as trailing zeros.\\n\\n\n",
    "\n",
    "                    Compare the Following Answers:\\n\n",
    "                    First answer: {extracted_answer}\\n\n",
    "                    Second answer: {correct_answer_text}\\n\\n\n",
    "                    Respond with:\\n\n",
    "                    \"correct\" if the two answers are the same\\n\n",
    "                    \"incorrect\" if the two answers are not the same\\n\\n\n",
    "                    Please respond with only one of the above options, without any explanations.\n",
    "                \"\"\"\n",
    "            },\n",
    "     ])\n",
    "    \n",
    "    decision = response['message']['content'].strip()\n",
    "    print(decision)\n",
    "    \n",
    "    # Categorize based on extracted answer\n",
    "    if decision.lower() == \"correct\":\n",
    "        correct_pairs.append({\n",
    "            'question': question,\n",
    "            'rationale': generated_rationale,\n",
    "            'answer': extracted_answer\n",
    "        })\n",
    "        print('Correct:', {\n",
    "            'question': question,\n",
    "            'rationale': generated_rationale,\n",
    "            'answer': extracted_answer\n",
    "        })\n",
    "    elif decision.lower() == \"incorrect\":\n",
    "        incorrect_pairs.append({\n",
    "            'question': question,\n",
    "            'rationale': generated_rationale,\n",
    "            'answer': extracted_answer if extracted_answer else \"No Answer Extracted\"\n",
    "        })\n",
    "        print(\"Incorrect:\",  {\n",
    "            'question': question,\n",
    "            'rationale': generated_rationale,\n",
    "            'answer': extracted_answer if extracted_answer else \"No Answer Extracted\"\n",
    "        })\n",
    "    else:\n",
    "        unanswered_paris.append({\n",
    "            'question': question,\n",
    "            'rationale': generated_rationale,\n",
    "            'answer': extracted_answer if extracted_answer else \"No Answer Extracted\"\n",
    "        })\n",
    "        print(\"Unanswered:\",  {\n",
    "            'question': question,\n",
    "            'rationale': generated_rationale,\n",
    "            'answer': extracted_answer if extracted_answer else \"No Answer Extracted\"\n",
    "        })\n",
    "        \n",
    "\n",
    "    # Print progress every example\n",
    "    print(f\"Processed {idx + 1} questions.\\n\")"
   ]
  },
  {
   "cell_type": "code",
   "execution_count": 491,
   "metadata": {},
   "outputs": [
    {
     "data": {
      "text/plain": [
       "[{'question': 'A positive number x is multiplied by 8, and this product is then divided by 3. If the positive square root of the result of these two operations equals x, what is the value of x ?',\n",
       "  'rationale': \"Let's solve the problem step-by-step.\\n\\nStep 1: Understand the given operations\\nThe number x is multiplied by 8, resulting in a product of 8x. This product is then divided by 3, giving us (8x)/3.\\n\\nStep 2: Identify the relationship between the result and x\\nWe are told that the positive square root of the result equals x. In other words, √((8x)/3) = x\\n\\nStep 3: Square both sides to eliminate the square root\\nSquaring both sides gives us (8x)/3 = x^2\\n\\nStep 4: Multiply both sides by 3 to get rid of the fraction\\nMultiplying both sides by 3 results in 8x = 3x^2\\n\\nStep 5: Rearrange the equation to solve for x\\nWe can rearrange the equation to get all terms on one side: 3x^2 - 8x = 0\\n\\nStep 6: Factor out an x from both terms\\nFactoring out an x results in x(3x - 8) = 0\\n\\nStep 7: Set each factor equal to zero and solve for x\\nSetting each factor equal to zero gives us two equations:\\nx = 0 (which is not possible since x must be positive)\\n3x - 8 = 0\\n\\nSolving the second equation for x, we get:\\n3x = 8\\nx = 8/3\\n\\nStep 8: Verify that the solution satisfies the original equation\\nLet's plug x = 8/3 into the original equation (8x)/3 to see if it equals √(x^2):\\n((8 * (8/3))/3) = (64/9)\\n√((8/3)^2) = 8/3\\n\\nThis indeed equals x.\\n\\nAnswer: 8/3\",\n",
       "  'answer': '8/3'},\n",
       " {'question': 'An unbiased die is tossed .find the probability of getting a multiple of 3',\n",
       "  'rationale': 'To find the probability of getting a multiple of 3 when an unbiased die is tossed, we need to follow these steps:\\n\\nStep 1: Determine the total number of possible outcomes when rolling a die.\\nWhen rolling a die, there are 6 possible outcomes: 1, 2, 3, 4, 5, and 6.\\n\\nStep 2: Identify the favorable outcomes that satisfy the condition (getting a multiple of 3).\\nThe multiples of 3 within the range of 1 to 6 are 3 and 6.\\n\\nStep 3: Calculate the probability by dividing the number of favorable outcomes by the total number of possible outcomes.\\nThere are 2 favorable outcomes (rolling a 3 or a 6) and 6 total possible outcomes.\\n\\nProbability = Number of favorable outcomes / Total number of possible outcomes\\n= 2/6\\n= 1/3\\n\\nTherefore, the probability of getting a multiple of 3 when rolling an unbiased die is 1/3.\\n\\nAnswer: 1/3',\n",
       "  'answer': '1/3'}]"
      ]
     },
     "execution_count": 491,
     "metadata": {},
     "output_type": "execute_result"
    }
   ],
   "source": [
    "correct_pairs"
   ]
  },
  {
   "cell_type": "code",
   "execution_count": 454,
   "metadata": {},
   "outputs": [
    {
     "data": {
      "text/plain": [
       "[{'question': 'A store raised the price of an item by exactly 20 percent. Which of the following could NOT be the resulting price of the item?',\n",
       "  'rationale': \"To solve this problem, let's consider the original price of the item as $100 (any other value would work as well). If the store raises the price by exactly 20%, the new price will be:\\n\\nOriginal price = $100\\nIncrease in price = 20% of $100 = 0.2 x $100 = $20\\nNew price = Original price + Increase in price = $100 + $20 = $120\\n\\nNow, let's examine each option and determine which one could NOT be the resulting price:\\n\\nOption 1: $125 - This is a possible result if the original price was lower than $100.\\n\\nOption 2: $110 - This is also a possible result if the original price was higher than $80 but lower than $100.\\n\\nOption 3: $130 - This could be the new price if the original price was higher than $100, but lower than $120.\\n\\nNow, let's consider the options that seem less likely:\\n\\nOption 4: $90 - If the store raises the price by exactly 20%, the new price would be higher than the original price, not lower. Therefore, this option is not possible.\\n\\nConsidering all possibilities and taking into account how percentages work, we can see that the resulting price of the item could NOT be less than the original price. Thus:\\n\\nAnswer: $90\",\n",
       "  'answer': '$90'},\n",
       " {'question': 'If Janice was 23 years old z years ago and Lisa will be 21 years old in p years, what was the average (arithmetic mean) of their ages 7 years ago?',\n",
       "  'rationale': \"To find the average age of Janice and Lisa 7 years ago, we first need to determine their ages 7 years ago.\\n\\nJanice's current age is 23 + z. To find her age 7 years ago, we subtract 7 from this expression: (23 + z) - 7 = 16 + z.\\n\\nSimilarly, Lisa's current age will be 21 + p in p years. To find her age 7 years ago, we subtract 7 from this expression: (21 + p) - 7 = 14 + p.\\n\\nThe average of their ages 7 years ago is the sum of their ages divided by 2. So, we add their ages and divide by 2:\\n\\n((16 + z) + (14 + p)) / 2\\n\\nCombine like terms:\\n\\n(30 + z + p) / 2\\n\\nNow, to find this average age, we need more information about the values of z and p.\\n\\nHowever, let's assume that z = p. This would mean that Janice was as many years old as Lisa will be in x years ago (where x is some number). Since Janice was 23 years old z years ago and Lisa will be 21 years old in p years, if we let z = p = q, then both expressions equal each other:\\n\\n23 + q = 21 + q\\n\\nSubtracting q from both sides leaves us with:\\n\\n23 = 21\\n\\nThis is obviously not true. However, since the two equations can't be made to equal each other without using some number that will make them equal (q), and we know z=p=q doesn't work, the only way these statements could possibly hold true for any real values of z and p would be if there are an infinite number of possible solutions. This can happen when z = p is not equal to zero, because then:\\n\\nz = p ≠ 0\\n\\nWe can multiply both sides by the same number (a positive number greater than one), and it will still be true. The same thing happens with z + p in the expression we found above.\\n\\nSince there are an infinite number of possible solutions for z and p where z+p is not equal to zero, the average age they were 7 years ago can be any real number, as long as that number is a valid result of the equation ((30 + z + p) / 2).\\n\\nBut if we take this average to be some real number 'a', then for any x in R (the set of all real numbers), a can equal x. We just need to find values of z and p such that (z+p)/2 equals the desired average age 'x'.\\n\\nThe only way this can happen is if:\\n\\nz + p = 2 * x\\n\\nGiven our knowledge about Janice's and Lisa's ages, we must also consider the fact that the average age they were 7 years ago cannot be greater than their average current age. Therefore,\\n\\n(16+z)/2 > (21+p)/2 / 2.\\n\\nMultiplying both sides of this inequality by 4:\\n\\n32 + 4z > 28 + 4p\\n\\nSubtracting z from both sides, and adding p to both sides leaves us with:\\n\\n4z - z + p > 28 - 4z + 4p\\n3z + p > 28\\n\\nNow we have two inequalities:\\n\\nz+p = 2x (1)\\n3z + p > 28\\n\\n(1) can be rewritten as:\\n\\np = 2x-z\\n\\nSubstituting this expression for p in the second inequality, we get:\\n\\n3z+2x-z>28\\n2x+2z>28\\n\\nDivide both sides by 2:\\n\\nx+z>14\\n\\nNow we have two inequalities and the original equation that said z=p. However, since z = p is not equal to zero, if we choose a value of x that makes x + z > 14 true, then this will also make x+z=14 false.\\n\\nSince Janice was 23 years old z years ago, she must be older than Lisa now (because z cannot equal -23).\\n\\nIf we assume she is exactly one year older than Lisa, the only way this could happen would be if Lisa's age in p years equals Janice's current age minus one. Therefore,\\n\\n21+p = 23\\np = 2\\n\\nz and p must have the same value for our problem to make sense:\\n\\nz = p\\n\\nSince z=p=2, x+z > 14 becomes x + 2 > 14 or x > 12.\\n\\nThe question states that Lisa will be 21 years old in p years. This means that Lisa is currently 21 - p years old. Since we already found that p = 2, then the current age of Lisa is:\\n\\n21 - 2 = 19\\n\\nThus Lisa's and Janice's ages 7 years ago must have been 16 and 12 respectively.\\n\\nTo find their average age 7 years ago, you add 16+12 and divide by 2 to get:\\n\\n(16 + 12) / 2\\n= 28/2\\n= 14\\n\\nTherefore the answer is 14.\\n\\nAnswer: 14\",\n",
       "  'answer': '14'},\n",
       " {'question': 'A shopkeeper sold 10articles at the cost price of 8 articles. Then find the profit% or lost% ?',\n",
       "  'rationale': \"To solve this problem, we need to first determine the actual amount of money the shopkeeper made from selling the 10 articles.\\n\\nLet's assume that each article costs $1 (this is just a hypothetical value). Therefore, the cost price of 8 articles would be $8, and the cost price of 10 articles would be $10.\\n\\nThe shopkeeper sold these 10 articles at the cost price of 8 articles, which means he sold them for $8. \\n\\nSo, the profit made by selling 10 articles at the cost price of 8 articles is:\\n\\n$8 (selling price) - $10 (actual cost) = -$2 (loss)\\n\\nSince we are looking for a percentage, we need to calculate the loss as a percentage of the actual cost.\\n\\nLoss % = (Loss / Actual Cost) * 100\\n= (-$2 / $10) * 100\\n= -20%\\n\\nThe negative sign indicates that this is a loss. Therefore:\\n\\nAnswer: -20%\",\n",
       "  'answer': '-20%'},\n",
       " {'question': 'In the xy-coordinate system, if (m, n) and (m + 3, n + k) are two points on the line with the equation x = 2y + 5, then k =',\n",
       "  'rationale': \"To find the value of k, we can use the fact that both points lie on the line x = 2y + 5.\\n\\nFirst, substitute the coordinates (m, n) into the equation to get:\\n\\nm = 2n + 5\\n\\nWe don't know the values of m and n yet, but this is a good starting point.\\n\\nNext, substitute the coordinates (m + 3, n + k) into the same equation to get:\\n\\nm + 3 = 2(n + k) + 5\\n\\nNow we can simplify this equation by distributing the 2 and combining like terms:\\n\\nm + 3 = 2n + 2k + 5\\n\\nSubtract m from both sides of the equation to isolate the term with the variable:\\n\\n3 = 2n + 2k + 5 - m\\n3 = 2n + 2k + 5 - (2n + 5)\\n3 = 2k\\n\\nNow, subtract 2k from both sides to solve for k:\\n\\n3 - 2k = 0\\n-2k = -3\\nk = 3/2\\n\\nAnswer: 1.5\",\n",
       "  'answer': '1.5'}]"
      ]
     },
     "execution_count": 454,
     "metadata": {},
     "output_type": "execute_result"
    }
   ],
   "source": [
    "incorrect_pairs"
   ]
  },
  {
   "cell_type": "code",
   "execution_count": 455,
   "metadata": {},
   "outputs": [
    {
     "data": {
      "text/plain": [
       "[]"
      ]
     },
     "execution_count": 455,
     "metadata": {},
     "output_type": "execute_result"
    }
   ],
   "source": [
    "unanswered_paris"
   ]
  },
  {
   "cell_type": "code",
   "execution_count": 456,
   "metadata": {},
   "outputs": [
    {
     "name": "stdout",
     "output_type": "stream",
     "text": [
      "Total questions processed: 10\n",
      "Correct answers: 6\n",
      "Incorrect answers: 4\n",
      "Unanswered answers: 0\n",
      "Accuracy: 60.00%\n"
     ]
    }
   ],
   "source": [
    "total = len(correct_pairs) + len(incorrect_pairs) + len(unanswered_paris)\n",
    "accuracy = len(correct_pairs) / total * 100\n",
    "print(f\"Total questions processed: {total}\")\n",
    "print(f\"Correct answers: {len(correct_pairs)}\")\n",
    "print(f\"Incorrect answers: {len(incorrect_pairs)}\")\n",
    "print(f\"Unanswered answers: {len(unanswered_paris)}\")\n",
    "print(f\"Accuracy: {accuracy:.2f}%\")"
   ]
  },
  {
   "cell_type": "code",
   "execution_count": 26,
   "metadata": {},
   "outputs": [
    {
     "name": "stdout",
     "output_type": "stream",
     "text": [
      "{'question': 'Rs. 825 becomes Rs. 956 in 3 years at a certain rate of simple interest.If the rate of interest is increased by 4% ,What amount will Rs. 825 become in 3 years ?', 'options': {'A': 'Rs. 1020.80', 'B': 'Rs. 1025', 'C': 'Rs. 1055', 'D': 'Data inadequate', 'E': 'None of these'}, 'rationale': \"Let's break down the problem step by step.\\n\\nGiven:\\n\\n1. Principal (P) = Rs. 825\\n2. Amount after 3 years (A) = Rs. 956\\n\\nWe need to find the rate of interest (R) at which P becomes A in 3 years. We'll use the formula for simple interest:\\n\\nSimple Interest (SI) = (P × R × T)/100\\n\\nwhere T is the time period, which is 3 years here.\\n\\nFirst, let's calculate the SI for the given scenario:\\n\\nA = P + SI\\n956 = 825 + (SI)\\nSI = 131\\n\\nNow, we can use the formula to find the rate of interest (R):\\n\\nSI = (P × R × T)/100\\n131 = (825 × R × 3)/100\\n131 = 24.75R\\nR = 131/24.75 ≈ 5.29%\\n\\nThis is the original rate of interest.\\n\\nNow, let's consider what happens when the rate of interest is increased by 4%:\\n\\nNew Rate (R') = Original Rate + Increase in Rate\\n= 5.29% + 4%\\n= 9.29%\\n\\nWe need to find the new amount that Rs. 825 will become in 3 years at this increased rate.\\n\\nUsing the simple interest formula, we can calculate the new SI:\\n\\nNew SI = (P × R' × T)/100\\n= (825 × 9.29% × 3)/100\\n= 23.61\\n\\nNow, add this new SI to the principal to find the new amount:\\n\\nNew Amount = P + New SI\\n= 825 + 23.61\\n≈ Rs. 848.61\\n\\nHowever, we're asked for a multiple-choice answer, and none of the options match our calculation. This is because we assumed that the interest is compounded annually, but the question doesn't specify this.\\n\\nLet's try another approach using compound interest formula (since it's not specified to be simple interest):\\n\\nAmount after 3 years = P × (1 + R)^T\\n\\nUsing the original rate of interest (5.29%), we get:\\n\\nA = 825 × (1 + 0.0529)^3\\n≈ Rs. 1055\\n\\nThis is the amount that would become in 3 years if the interest is compounded annually.\\n\\nSo, the correct answer is:\\n\\nC: Rs. 1055\", 'answer': 'C'}\n"
     ]
    }
   ],
   "source": [
    "new_correct_pairs = []\n",
    "\n",
    "# Process the incorrect answers\n",
    "for pair in incorrect_pairs:\n",
    "    question = pair['question']\n",
    "    options = pair['options']\n",
    "    correct_answer = pair['correct_answer']\n",
    "\n",
    "    # Generate the rationale with the correct answer as a hint\n",
    "    generated_rationale = rationalize(question, options, correct_answer, prompt_set)\n",
    "\n",
    "    # Add the rationalized example to correct_pairs\n",
    "    new_correct_pairs.append({\n",
    "        'question': question,\n",
    "        'options': options,\n",
    "        'rationale': generated_rationale,\n",
    "        'answer': correct_answer\n",
    "    })\n",
    "\n",
    "    print({\n",
    "        'question': question,\n",
    "        'options': options,\n",
    "        'rationale': generated_rationale,\n",
    "        'answer': correct_answer\n",
    "    })"
   ]
  },
  {
   "cell_type": "markdown",
   "metadata": {},
   "source": [
    "### Converting our corrected pairs into a structure the Llama3.1 model will understand for fine tuning."
   ]
  },
  {
   "cell_type": "code",
   "execution_count": 141,
   "metadata": {},
   "outputs": [],
   "source": [
    "from datasets import Dataset, DatasetDict\n",
    "\n",
    "\n",
    "def convert_correct_pairs_to_conversations(correct_pairs):\n",
    "    \"\"\"\n",
    "    Converts correct_pairs into the desired conversations format.\n",
    "\n",
    "    Parameters:\n",
    "        correct_pairs (list): List of dictionaries containing question, options, correct_answer, and rationale.\n",
    "\n",
    "    Returns:\n",
    "        list: A list of conversations formatted for fine-tuning.\n",
    "    \"\"\"\n",
    "    conversations = []\n",
    "    \n",
    "    for pair in correct_pairs:\n",
    "        question = pair['question']\n",
    "        correct_answer = pair['answer']\n",
    "        rationale = pair['rationale']\n",
    "        \n",
    "        # Construct options text\n",
    "        # options_text = '\\n'.join([f\"{key}: {value}\" for key, value in options.items()])\n",
    "        \n",
    "        # Human prompt\n",
    "        human_value = (\n",
    "            f\"Question: {question}\\n\"\n",
    "        )\n",
    "        \n",
    "        # GPT response\n",
    "        gpt_value = (\n",
    "            f\"{correct_answer}\\nRationale: {rationale}\"\n",
    "        )\n",
    "        \n",
    "        # Append the conversation as a separate list\n",
    "        conversation = [\n",
    "            { \"from\": \"human\", \"value\": human_value },\n",
    "            { \"from\": \"gpt\", \"value\": gpt_value }\n",
    "        ]\n",
    "        \n",
    "        conversations.append(conversation)\n",
    "    \n",
    "    return conversations\n",
    "\n",
    "# conversations = convert_correct_pairs_to_conversations(correct_pairs)\n",
    "\n",
    "# # Create a Hugging Face Dataset\n",
    "# dataset = Dataset.from_dict({\"conversations\": conversations})\n",
    "\n",
    "# # Create a DatasetDict with only the 'train' split\n",
    "# dataset_dict = DatasetDict({\n",
    "#     \"train\": dataset\n",
    "# })\n",
    "\n",
    "# # Optionally, shuffle the dataset\n",
    "# dataset_dict[\"train\"] = dataset_dict[\"train\"].shuffle(seed=42)\n",
    "\n",
    "# # Verify the structure\n",
    "# print(dataset_dict)\n",
    "# print(dataset_dict[\"train\"][0])  # Print the first conversation"
   ]
  },
  {
   "cell_type": "markdown",
   "metadata": {},
   "source": [
    "### Save dataset to JSONL format"
   ]
  },
  {
   "cell_type": "code",
   "execution_count": 47,
   "metadata": {},
   "outputs": [
    {
     "name": "stdout",
     "output_type": "stream",
     "text": [
      "Dataset successfully saved to finetuning_data.jsonl\n"
     ]
    }
   ],
   "source": [
    "import json\n",
    "\n",
    "def save_dataset_to_jsonl(dataset_dict, file_path='finetuning_data.jsonl'):\n",
    "    \"\"\"\n",
    "    Saves the conversations in dataset_dict to a JSONL file.\n",
    "    \n",
    "    Parameters:\n",
    "        dataset_dict (DatasetDict): The dataset to save.\n",
    "        file_path (str): The path to the output JSONL file.\n",
    "        \n",
    "    Returns:\n",
    "        None\n",
    "    \"\"\"\n",
    "    with open(file_path, 'w', encoding='utf-8') as f:\n",
    "        for conversation in dataset_dict[\"train\"][\"conversations\"]:\n",
    "            json_line = json.dumps(conversation)\n",
    "            f.write(json_line + '\\n')\n",
    "    print(f\"Dataset successfully saved to {file_path}\")\n",
    "\n",
    "# Usage\n",
    "save_dataset_to_jsonl(dataset_dict, 'finetuning_data.jsonl')"
   ]
  },
  {
   "cell_type": "markdown",
   "metadata": {},
   "source": [
    "### Load dataset from JSONL (for appending new data)"
   ]
  },
  {
   "cell_type": "code",
   "execution_count": null,
   "metadata": {},
   "outputs": [],
   "source": [
    "def load_dataset_from_jsonl(file_path='finetuning_data.jsonl', validation_split=0.1):\n",
    "    \"\"\"\n",
    "    Loads conversations from a JSONL file and splits them into train and validation sets.\n",
    "\n",
    "    Parameters:\n",
    "        file_path (str): Path to the JSONL file.\n",
    "        validation_split (float): Proportion of data to use for validation.\n",
    "\n",
    "    Returns:\n",
    "        DatasetDict: A DatasetDict with 'train' and 'validation' splits.\n",
    "    \"\"\"\n",
    "    dataset = Dataset.from_json(file_path)\n",
    "    dataset = dataset.train_test_split(test_size=validation_split, seed=42)\n",
    "    dataset_dict = DatasetDict({\n",
    "        \"train\": dataset[\"train\"],\n",
    "        \"validation\": dataset[\"test\"]\n",
    "    })\n",
    "    print(f\"Loaded dataset with {len(dataset_dict['train'])} training and {len(dataset_dict['validation'])} validation conversations.\")\n",
    "    return dataset_dict"
   ]
  },
  {
   "cell_type": "markdown",
   "metadata": {},
   "source": [
    "### Appending New Data"
   ]
  },
  {
   "cell_type": "code",
   "execution_count": 500,
   "metadata": {},
   "outputs": [
    {
     "name": "stdout",
     "output_type": "stream",
     "text": [
      "Successfully appended 4 conversations to finetuning_data.jsonl\n"
     ]
    }
   ],
   "source": [
    "import json\n",
    "\n",
    "new_conversations = convert_correct_pairs_to_conversations(correct_pairs)\n",
    "\n",
    "def append_conversations_to_jsonl(conversations, file_path='finetuning_data.jsonl'):\n",
    "    \"\"\"\n",
    "    Appends a list of conversations to an existing JSONL file.\n",
    "\n",
    "    Parameters:\n",
    "        conversations (list): List of conversations to append.\n",
    "        file_path (str): Path to the existing JSONL file.\n",
    "\n",
    "    Returns:\n",
    "        None\n",
    "    \"\"\"\n",
    "    with open(file_path, 'a', encoding='utf-8') as f:\n",
    "        for convo in conversations:\n",
    "            json_line = json.dumps(convo)\n",
    "            f.write(json_line + '\\n')\n",
    "    print(f\"Successfully appended {len(conversations)} conversations to {file_path}\")\n",
    "    \n",
    "# Usage\n",
    "append_conversations_to_jsonl(new_conversations, 'finetuning_data.jsonl')"
   ]
  },
  {
   "cell_type": "code",
   "execution_count": null,
   "metadata": {},
   "outputs": [],
   "source": []
  },
  {
   "cell_type": "code",
   "execution_count": null,
   "metadata": {},
   "outputs": [],
   "source": []
  },
  {
   "cell_type": "code",
   "execution_count": null,
   "metadata": {},
   "outputs": [],
   "source": []
  },
  {
   "cell_type": "code",
   "execution_count": null,
   "metadata": {},
   "outputs": [],
   "source": []
  }
 ],
 "metadata": {
  "kernelspec": {
   "display_name": ".venv",
   "language": "python",
   "name": "python3"
  },
  "language_info": {
   "codemirror_mode": {
    "name": "ipython",
    "version": 3
   },
   "file_extension": ".py",
   "mimetype": "text/x-python",
   "name": "python",
   "nbconvert_exporter": "python",
   "pygments_lexer": "ipython3",
   "version": "3.11.3"
  }
 },
 "nbformat": 4,
 "nbformat_minor": 2
}
