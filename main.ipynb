{
 "cells": [
  {
   "cell_type": "code",
   "execution_count": 1,
   "metadata": {},
   "outputs": [
    {
     "name": "stderr",
     "output_type": "stream",
     "text": [
      "/Users/williamzebrowski/LLM-RL-Reasoner/.venv/lib/python3.11/site-packages/tqdm/auto.py:21: TqdmWarning: IProgress not found. Please update jupyter and ipywidgets. See https://ipywidgets.readthedocs.io/en/stable/user_install.html\n",
      "  from .autonotebook import tqdm as notebook_tqdm\n"
     ]
    }
   ],
   "source": [
    "import re\n",
    "import ollama\n",
    "from src.data_loading import load_data\n",
    "from src.parsing import parse_options\n",
    "from src.rationale_generation import generate_rationale_and_answer\n",
    "from src.utils import is_rationale_correct\n",
    "from src.rationalization import rationalize\n",
    "from src.prompt_generation import create_prompt_examples, create_prompt_set, clean_options, get_correct_answer_text"
   ]
  },
  {
   "cell_type": "code",
   "execution_count": 39,
   "metadata": {},
   "outputs": [],
   "source": [
    "NUM_PROMPT_EXAMPLES = 5 # number of prompt examples\n",
    "NUM_EXAMPLES_TO_PROCESS = 1 # number of examples to process"
   ]
  },
  {
   "cell_type": "markdown",
   "metadata": {},
   "source": [
    "### Load Dataset"
   ]
  },
  {
   "cell_type": "code",
   "execution_count": 40,
   "metadata": {},
   "outputs": [
    {
     "name": "stdout",
     "output_type": "stream",
     "text": [
      "Dataset({\n",
      "    features: ['question', 'options', 'rationale', 'correct'],\n",
      "    num_rows: 1\n",
      "})\n"
     ]
    }
   ],
   "source": [
    "ds_train = load_data()\n",
    "\n",
    "# Step 1: Select the desired range from ds_train\n",
    "dataset_D = ds_train.select(range(NUM_PROMPT_EXAMPLES, len(ds_train)))\n",
    "\n",
    "# Step 2: Shuffle the selected dataset\n",
    "dataset_D_shuffled = dataset_D.shuffle()  # Use any seed you prefer\n",
    "\n",
    "# Step 3: Select a subset of examples to process\n",
    "dataset_D_subset = dataset_D_shuffled.select(range(NUM_EXAMPLES_TO_PROCESS))\n",
    "\n",
    "print(dataset_D_subset)"
   ]
  },
  {
   "cell_type": "markdown",
   "metadata": {},
   "source": [
    "### Create prompt examples"
   ]
  },
  {
   "cell_type": "code",
   "execution_count": 41,
   "metadata": {},
   "outputs": [
    {
     "data": {
      "text/plain": [
       "[{'question': \"Two friends plan to walk along a 43-km trail, starting at opposite ends of the trail at the same time. If Friend P's rate is 15% faster than Friend Q's, how many kilometers will Friend P have walked when they pass each other?\",\n",
       "  'rationale': 'If Q complete x kilometers, then P completes 1.15x kilometers.\\nx + 1.15x = 43\\n2.15x=43\\nx = 43/2.15 = 20\\nThen P will have have walked 1.15*20=23 km.\\nThe answer is E.',\n",
       "  'answer': 'E'},\n",
       " {'question': 'In the coordinate plane, points (x, 1) and (5, y) are on line k. If line k passes through the origin and has slope 1/5, then what are the values of x and y respectively?',\n",
       "  'rationale': 'Line k passes through the origin and has slope 1/5 means that its equation is y=1/5*x.\\nThus: (x, 1)=(5, 1) and (5, y) = (5,1) -->x=5 and y=1\\nAnswer: C',\n",
       "  'answer': 'C'},\n",
       " {'question': 'For all numbers p and q, the operation @ is defined by p@q = p^2 - pq. If xy ≠ 0, then which of the following can be equal to zero?\\nI. x@y\\nII. (xy)@y\\nIII. x@(x + y)',\n",
       "  'rationale': 'p@q = p^2 - pq=p(p-q).... so p@q will be zero if p=q or p=0.. but a cannot be equal to 0.. as per Q, x and y can take any int value except 0...\\nnow lets look at the choices..\\nwhen x=y, it will be 0... so ok...\\nwhen we put xy=y, it is possible when x=1 and y any integer... so ok again\\nwhen we put x=x+y.... only possibility when y=0 and it is given x and y cannot be 0....so not possible\\nonly l and ll possible ans B....',\n",
       "  'answer': 'B'},\n",
       " {'question': 'Carl is facing very difficult financial times and can only pay the interest on a $10,000 loan he has taken. The bank charges him a quarterly compound rate of 4%. What is the approximate interest he pays annually?',\n",
       "  'rationale': 'Usually, you are given the annual rate of interest and it is mentioned that it is annual rate.\\nThe bank charges him a quarterly compounded ANNUAL rate of 16%.\\nHere you find per quarter rate as (16/4)% = 4%\\nI have actually never seen a question with quarter rate given but since this question did not mentionannual rate of interestand since the options did not make sense with 4% annual rate of interest, it is apparent that the intent was a 4% quarterly rate. So the bank charges 4% every quarter and compounds it in the next quarter. Had it been a simple quarterly rate, we would have just found 4 * 4% of 10,000 = $1600 as our answer.\\nBut since, the interest is compounded, it will be a bit more than $1600. Option (A) looks correct.',\n",
       "  'answer': 'A'},\n",
       " {'question': 'The speed at which a man can row a boat in still water is 25 kmph. If he rows downstream, where the speed of current is 11 kmph, what time will he take to cover 80 metres?',\n",
       "  'rationale': 'Speed of the boat downstream = 25 +11\\n= 36 kmph\\n= 36 * 5/18 = 10 m/s\\nHence time taken to cover 80 m = 80/10\\n= 8 seconds.\\nAnswer:E',\n",
       "  'answer': 'E'}]"
      ]
     },
     "execution_count": 41,
     "metadata": {},
     "output_type": "execute_result"
    }
   ],
   "source": [
    "prompt_examples = create_prompt_examples(ds_train, NUM_PROMPT_EXAMPLES)\n",
    "\n",
    "prompt_examples"
   ]
  },
  {
   "cell_type": "markdown",
   "metadata": {},
   "source": [
    "### Create Prompt Sets"
   ]
  },
  {
   "cell_type": "code",
   "execution_count": 42,
   "metadata": {},
   "outputs": [
    {
     "name": "stdout",
     "output_type": "stream",
     "text": [
      "Question: Two friends plan to walk along a 43-km trail, starting at opposite ends of the trail at the same time. If Friend P's rate is 15% faster than Friend Q's, how many kilometers will Friend P have walked when they pass each other?\n",
      "Answer Explanation: If Q complete x kilometers, then P completes 1.15x kilometers.\\nx + 1.15x = 43\\n2.15x=43\\nx = 43/2.15 = 20\\nThen P will have have walked 1.15*20=23 km.\\nThe answer is E.\n",
      "Answer: 23\n",
      "###\n",
      "Question: In the coordinate plane, points (x, 1) and (5, y) are on line k. If line k passes through the origin and has slope 1/5, then what are the values of x and y respectively?\n",
      "Answer Explanation: Line k passes through the origin and has slope 1/5 means that its equation is y=1/5*x.\\nThus: (x, 1)=(5, 1) and (5, y) = (5,1) -->x=5 and y=1\\nAnswer: C\n",
      "Answer: 5 and 1\n",
      "###\n",
      "Question: For all numbers p and q, the operation @ is defined by p@q = p^2 - pq. If xy ≠ 0, then which of the following can be equal to zero?\n",
      "I. x@y\n",
      "II. (xy)@y\n",
      "III. x@(x + y)\n",
      "Answer Explanation: p@q = p^2 - pq=p(p-q).... so p@q will be zero if p=q or p=0.. but a cannot be equal to 0.. as per Q, x and y can take any int value except 0...\\nnow lets look at the choices..\\nwhen x=y, it will be 0... so ok...\\nwhen we put xy=y, it is possible when x=1 and y any integer... so ok again\\nwhen we put x=x+y.... only possibility when y=0 and it is given x and y cannot be 0....so not possible\\nonly l and ll possible ans B....\n",
      "Answer: I and II\n",
      "###\n",
      "Question: Carl is facing very difficult financial times and can only pay the interest on a $10,000 loan he has taken. The bank charges him a quarterly compound rate of 4%. What is the approximate interest he pays annually?\n",
      "Answer Explanation: Usually, you are given the annual rate of interest and it is mentioned that it is annual rate.\\nThe bank charges him a quarterly compounded ANNUAL rate of 16%.\\nHere you find per quarter rate as (16/4)% = 4%\\nI have actually never seen a question with quarter rate given but since this question did not mentionannual rate of interestand since the options did not make sense with 4% annual rate of interest, it is apparent that the intent was a 4% quarterly rate. So the bank charges 4% every quarter and compounds it in the next quarter. Had it been a simple quarterly rate, we would have just found 4 * 4% of 10,000 = $1600 as our answer.\\nBut since, the interest is compounded, it will be a bit more than $1600. Option (A) looks correct.\n",
      "Answer: $1600\n",
      "###\n",
      "Question: The speed at which a man can row a boat in still water is 25 kmph. If he rows downstream, where the speed of current is 11 kmph, what time will he take to cover 80 metres?\n",
      "Answer Explanation: Speed of the boat downstream = 25 +11\\n= 36 kmph\\n= 36 * 5/18 = 10 m/s\\nHence time taken to cover 80 m = 80/10\\n= 8 seconds.\\nAnswer:E\n",
      "Answer: 8 seconds\n",
      "###\n",
      "\n"
     ]
    }
   ],
   "source": [
    "prompt_set = create_prompt_set(ds_train, NUM_PROMPT_EXAMPLES)\n",
    "print(prompt_set)"
   ]
  },
  {
   "cell_type": "markdown",
   "metadata": {},
   "source": [
    "### Initialize lists to hold correct and incorrect pairs"
   ]
  },
  {
   "cell_type": "code",
   "execution_count": 43,
   "metadata": {},
   "outputs": [],
   "source": [
    "correct_pairs = []\n",
    "incorrect_pairs = []\n",
    "unanswered_paris = []"
   ]
  },
  {
   "cell_type": "markdown",
   "metadata": {},
   "source": [
    "### Iterate over each example in the subset"
   ]
  },
  {
   "cell_type": "code",
   "execution_count": 44,
   "metadata": {},
   "outputs": [],
   "source": [
    "def extract_answer_text(rationale):\n",
    "    \"\"\"\n",
    "    Extracts the answer text from the rationale using regex.\n",
    "    \n",
    "    Args:\n",
    "        rationale (str): Generated rationale string.\n",
    "    \n",
    "    Returns:\n",
    "        str or None: Extracted answer text if found, else None.\n",
    "    \"\"\"\n",
    "    # Attempt to extract the answer text after 'Answer:'\n",
    "    match = re.search(r'Answer:\\s*(.+)', rationale, re.IGNORECASE)\n",
    "    if match:\n",
    "        return match.group(1)\n",
    "    return None"
   ]
  },
  {
   "cell_type": "code",
   "execution_count": 45,
   "metadata": {},
   "outputs": [
    {
     "name": "stdout",
     "output_type": "stream",
     "text": [
      "correct_answer_text: 0\n",
      "clean options: ['A) 0', 'B) 1', 'C) 2', 'D) 3', 'E) 4']\n",
      "extracted answer: 0\n",
      "correct\n",
      "Correct: {'question': 'What is the tens digit of 7^1213?', 'rationale': \"To find the tens digit of 7^1213, let's first understand the pattern of powers of 7.\\n\\nWe can start by calculating some small powers of 7:\\n\\n- 7^1 = 7\\n- 7^2 = 49 (tens digit is 4)\\n- 7^3 = 343 (tens digit is 4)\\n\\nNotice that the tens digits of 7^2 and 7^3 are both 4. This pattern will repeat for larger powers of 7.\\n\\nSince we're looking for the tens digit of 7^1213, we can look at the exponent modulo 2 because the pattern repeats every two powers:\\n\\n- 1213 mod 2 = 1\\n\\nThis means that the power of 7 is equivalent to an odd number, and as observed earlier, the tens digit of any power of 7 is either 4 or 0. However, since 1213 is an odd number greater than 3 (the smallest power of 7 with a non-zero tens digit), we can conclude that the pattern holds true.\\n\\nTherefore, the tens digit of 7^1213 will be 0 because all powers of 7 greater than 3 have a tens digit of 0.\\n\\nAnswer: 0\", 'answer': '0'}\n",
      "Processed 1 questions.\n",
      "\n"
     ]
    }
   ],
   "source": [
    "for idx, example in enumerate(dataset_D_subset):\n",
    "    question = example['question']\n",
    "    # Map 'correct' label to answer text\n",
    "    raw_options = example['options']\n",
    "    cleaned_options = clean_options(raw_options)\n",
    "    correct_label = example['correct'].strip().upper()\n",
    "    correct_answer_text = get_correct_answer_text(cleaned_options, correct_label)\n",
    "\n",
    "    print(f\"correct_answer_text: {correct_answer_text}\")\n",
    "    print(f\"clean options: {cleaned_options}\")\n",
    "    \n",
    "    if correct_answer_text is None:\n",
    "        print(f\"Skipping example {idx} due to missing correct answer.\")\n",
    "        continue  # Skip this example\n",
    "    \n",
    "    # Generate rationale and answer\n",
    "    generated_rationale = generate_rationale_and_answer(question, prompt_set)\n",
    "    \n",
    "    # Extract the answer text from the rationale\n",
    "    extracted_answer = extract_answer_text(generated_rationale)\n",
    "    print(f\"extracted answer: {extracted_answer}\")\n",
    "\n",
    "    response = ollama.chat(model=\"llama3.1:8b\", messages=[\n",
    "            {\n",
    "                'role': 'user',\n",
    "                'content':\n",
    "                f\"\"\"\n",
    "                    Your task is to compare two numerical answers and determine if they are the same answer, ignoring differences in units or formatting.\\n\\n\n",
    "                    Comparison Rules:\\n\\n\n",
    "                    - If the answers are the same, for example, First Answer: '90' and Second Answer: '90 miles' or ( km, %, sec, ml, etc) this is a match and return 'correct' in your response.\\n\n",
    "                    - If the answers are different, consider them NOT a match and return 'incorrect' in your response.\\n\\n\n",
    "                    Ignore differences in formatting, such as trailing zeros.\\n\\n\n",
    "\n",
    "                    Compare the Following Answers:\\n\n",
    "                    First answer: {extracted_answer}\\n\n",
    "                    Second answer: {correct_answer_text}\\n\\n\n",
    "                    Respond with:\\n\n",
    "                    \"correct\" if the two answers are the same\\n\n",
    "                    \"incorrect\" if the two answers are not the same\\n\\n\n",
    "                    Please respond with only one of the above options, without any explanations.\n",
    "                \"\"\"\n",
    "            },\n",
    "     ])\n",
    "    \n",
    "    decision = response['message']['content'].strip()\n",
    "    print(decision)\n",
    "    \n",
    "    # Categorize based on extracted answer\n",
    "    if decision.lower() == \"correct\":\n",
    "        correct_pairs.append({\n",
    "            'question': question,\n",
    "            'rationale': generated_rationale,\n",
    "            'answer': extracted_answer\n",
    "        })\n",
    "        print('Correct:', {\n",
    "            'question': question,\n",
    "            'rationale': generated_rationale,\n",
    "            'answer': extracted_answer\n",
    "        })\n",
    "    elif decision.lower() == \"incorrect\":\n",
    "        incorrect_pairs.append({\n",
    "            'question': question,\n",
    "            'rationale': generated_rationale,\n",
    "            'answer': extracted_answer if extracted_answer else \"No Answer Extracted\"\n",
    "        })\n",
    "        print(\"Incorrect:\",  {\n",
    "            'question': question,\n",
    "            'rationale': generated_rationale,\n",
    "            'answer': extracted_answer if extracted_answer else \"No Answer Extracted\"\n",
    "        })\n",
    "    else:\n",
    "        unanswered_paris.append({\n",
    "            'question': question,\n",
    "            'rationale': generated_rationale,\n",
    "            'answer': extracted_answer if extracted_answer else \"No Answer Extracted\"\n",
    "        })\n",
    "        print(\"Unanswered:\",  {\n",
    "            'question': question,\n",
    "            'rationale': generated_rationale,\n",
    "            'answer': extracted_answer if extracted_answer else \"No Answer Extracted\"\n",
    "        })\n",
    "        \n",
    "\n",
    "    # Print progress every example\n",
    "    print(f\"Processed {idx + 1} questions.\\n\")"
   ]
  },
  {
   "cell_type": "code",
   "execution_count": 30,
   "metadata": {},
   "outputs": [
    {
     "data": {
      "text/plain": [
       "[{'question': 'Five years ago, the average age of A, B, C and D was 45 years. With E Joining them now, the average of all the five is 47 years. The age of E is?',\n",
       "  'rationale': \"Step 1: Let's calculate the total age of A, B, C, and D five years ago.\\n\\nTotal age of A, B, C, and D five years ago = Average age of A, B, C, and D five years ago * Number of people\\n= 45 * 4\\n= 180\\n\\nStep 2: Now, let's calculate the total age of A, B, C, and D now.\\n\\nTotal age of A, B, C, and D now = Total age of A, B, C, and D five years ago + (5 * Number of people)\\n= 180 + (5 * 4)\\n= 180 + 20\\n= 200\\n\\nStep 3: Now, we know the average age of all five is 47. Let's calculate the total age of all five.\\n\\nTotal age of A, B, C, D, and E = Average age of all five * Number of people\\n= 47 * 5\\n= 235\\n\\nStep 4: To find the age of E, we can subtract the total age of A, B, C, and D from the total age of all five.\\n\\nAge of E = Total age of A, B, C, D, and E - Total age of A, B, C, and D\\n= 235 - 200\\n= 35\\n\\nAnswer: 35\",\n",
       "  'answer': '35'}]"
      ]
     },
     "execution_count": 30,
     "metadata": {},
     "output_type": "execute_result"
    }
   ],
   "source": [
    "correct_pairs"
   ]
  },
  {
   "cell_type": "code",
   "execution_count": 31,
   "metadata": {},
   "outputs": [
    {
     "data": {
      "text/plain": [
       "[]"
      ]
     },
     "execution_count": 31,
     "metadata": {},
     "output_type": "execute_result"
    }
   ],
   "source": [
    "incorrect_pairs"
   ]
  },
  {
   "cell_type": "code",
   "execution_count": 32,
   "metadata": {},
   "outputs": [
    {
     "data": {
      "text/plain": [
       "[]"
      ]
     },
     "execution_count": 32,
     "metadata": {},
     "output_type": "execute_result"
    }
   ],
   "source": [
    "unanswered_paris"
   ]
  },
  {
   "cell_type": "code",
   "execution_count": 33,
   "metadata": {},
   "outputs": [
    {
     "name": "stdout",
     "output_type": "stream",
     "text": [
      "Total questions processed: 1\n",
      "Correct answers: 1\n",
      "Incorrect answers: 0\n",
      "Unanswered answers: 0\n",
      "Accuracy: 100.00%\n"
     ]
    }
   ],
   "source": [
    "total = len(correct_pairs) + len(incorrect_pairs) + len(unanswered_paris)\n",
    "accuracy = len(correct_pairs) / total * 100\n",
    "print(f\"Total questions processed: {total}\")\n",
    "print(f\"Correct answers: {len(correct_pairs)}\")\n",
    "print(f\"Incorrect answers: {len(incorrect_pairs)}\")\n",
    "print(f\"Unanswered answers: {len(unanswered_paris)}\")\n",
    "print(f\"Accuracy: {accuracy:.2f}%\")"
   ]
  },
  {
   "cell_type": "code",
   "execution_count": 26,
   "metadata": {},
   "outputs": [
    {
     "name": "stdout",
     "output_type": "stream",
     "text": [
      "{'question': 'Rs. 825 becomes Rs. 956 in 3 years at a certain rate of simple interest.If the rate of interest is increased by 4% ,What amount will Rs. 825 become in 3 years ?', 'options': {'A': 'Rs. 1020.80', 'B': 'Rs. 1025', 'C': 'Rs. 1055', 'D': 'Data inadequate', 'E': 'None of these'}, 'rationale': \"Let's break down the problem step by step.\\n\\nGiven:\\n\\n1. Principal (P) = Rs. 825\\n2. Amount after 3 years (A) = Rs. 956\\n\\nWe need to find the rate of interest (R) at which P becomes A in 3 years. We'll use the formula for simple interest:\\n\\nSimple Interest (SI) = (P × R × T)/100\\n\\nwhere T is the time period, which is 3 years here.\\n\\nFirst, let's calculate the SI for the given scenario:\\n\\nA = P + SI\\n956 = 825 + (SI)\\nSI = 131\\n\\nNow, we can use the formula to find the rate of interest (R):\\n\\nSI = (P × R × T)/100\\n131 = (825 × R × 3)/100\\n131 = 24.75R\\nR = 131/24.75 ≈ 5.29%\\n\\nThis is the original rate of interest.\\n\\nNow, let's consider what happens when the rate of interest is increased by 4%:\\n\\nNew Rate (R') = Original Rate + Increase in Rate\\n= 5.29% + 4%\\n= 9.29%\\n\\nWe need to find the new amount that Rs. 825 will become in 3 years at this increased rate.\\n\\nUsing the simple interest formula, we can calculate the new SI:\\n\\nNew SI = (P × R' × T)/100\\n= (825 × 9.29% × 3)/100\\n= 23.61\\n\\nNow, add this new SI to the principal to find the new amount:\\n\\nNew Amount = P + New SI\\n= 825 + 23.61\\n≈ Rs. 848.61\\n\\nHowever, we're asked for a multiple-choice answer, and none of the options match our calculation. This is because we assumed that the interest is compounded annually, but the question doesn't specify this.\\n\\nLet's try another approach using compound interest formula (since it's not specified to be simple interest):\\n\\nAmount after 3 years = P × (1 + R)^T\\n\\nUsing the original rate of interest (5.29%), we get:\\n\\nA = 825 × (1 + 0.0529)^3\\n≈ Rs. 1055\\n\\nThis is the amount that would become in 3 years if the interest is compounded annually.\\n\\nSo, the correct answer is:\\n\\nC: Rs. 1055\", 'answer': 'C'}\n"
     ]
    }
   ],
   "source": [
    "new_correct_pairs = []\n",
    "\n",
    "# Process the incorrect answers\n",
    "for pair in incorrect_pairs:\n",
    "    question = pair['question']\n",
    "    options = pair['options']\n",
    "    correct_answer = pair['correct_answer']\n",
    "\n",
    "    # Generate the rationale with the correct answer as a hint\n",
    "    generated_rationale = rationalize(question, options, correct_answer, prompt_set)\n",
    "\n",
    "    # Add the rationalized example to correct_pairs\n",
    "    new_correct_pairs.append({\n",
    "        'question': question,\n",
    "        'options': options,\n",
    "        'rationale': generated_rationale,\n",
    "        'answer': correct_answer\n",
    "    })\n",
    "\n",
    "    print({\n",
    "        'question': question,\n",
    "        'options': options,\n",
    "        'rationale': generated_rationale,\n",
    "        'answer': correct_answer\n",
    "    })"
   ]
  },
  {
   "cell_type": "markdown",
   "metadata": {},
   "source": [
    "### Converting our corrected pairs into a structure the Llama3.1 model will understand for fine tuning."
   ]
  },
  {
   "cell_type": "code",
   "execution_count": 23,
   "metadata": {},
   "outputs": [
    {
     "name": "stdout",
     "output_type": "stream",
     "text": [
      "Error decoding JSON on line 18: Extra data: line 1 column 1471 (char 1470). Skipping.\n",
      "Error decoding JSON on line 84: Extra data: line 1 column 936 (char 935). Skipping.\n",
      "Conversion complete. New file saved as 'finetuning_data_new.jsonl'.\n"
     ]
    }
   ],
   "source": [
    "import json\n",
    "import re\n",
    "\n",
    "def extract_question(human_message):\n",
    "    \"\"\"\n",
    "    Extracts the question from the human message.\n",
    "\n",
    "    Args:\n",
    "        human_message (str): The message content from the human.\n",
    "\n",
    "    Returns:\n",
    "        str: Extracted question text or the original message if extraction fails.\n",
    "    \"\"\"\n",
    "    match = re.search(r'Question:\\s*(.+)', human_message, re.IGNORECASE)\n",
    "    if match:\n",
    "        return match.group(1).strip()\n",
    "    return human_message.strip()\n",
    "\n",
    "def extract_rationale(gpt_message):\n",
    "    \"\"\"\n",
    "    Extracts the rationale from the GPT message by removing any initial 'A: ...' lines,\n",
    "    removing 'Rationale:' labels, and excluding 'Answer: ...' sections.\n",
    "\n",
    "    Args:\n",
    "        gpt_message (str): The message content from GPT.\n",
    "\n",
    "    Returns:\n",
    "        str: Extracted rationale text or an empty string if extraction fails.\n",
    "    \"\"\"\n",
    "    # Step 1: Remove any initial \"A: ...\" lines\n",
    "    gpt_message = re.sub(r'^A:\\s*.+\\n', '', gpt_message, flags=re.IGNORECASE)\n",
    "\n",
    "    # Step 2: Extract text after \"Rationale:\" up to \"Answer:\" or end of string\n",
    "    match = re.search(r'Rationale:\\s*(.*?)(?:\\nAnswer:.*|$)', gpt_message, re.IGNORECASE | re.DOTALL)\n",
    "    if match:\n",
    "        rationale = match.group(1).strip()\n",
    "        return rationale\n",
    "    else:\n",
    "        # If \"Rationale:\" is not found, remove any trailing \"Answer: ...\" and return the rest\n",
    "        gpt_message = re.sub(r'\\n*Answer:\\s*.+$', '', gpt_message, flags=re.IGNORECASE | re.DOTALL).strip()\n",
    "        return gpt_message\n",
    "\n",
    "def convert_existing_jsonl(input_file, output_file):\n",
    "    \"\"\"\n",
    "    Converts the existing finetuning_data.jsonl file to the new Q&A format.\n",
    "\n",
    "    Args:\n",
    "        input_file (str): Path to the existing JSONL file.\n",
    "        output_file (str): Path to the new JSONL file to be created.\n",
    "\n",
    "    Returns:\n",
    "        None\n",
    "    \"\"\"\n",
    "    with open(input_file, 'r', encoding='utf-8') as infile, \\\n",
    "         open(output_file, 'w', encoding='utf-8') as outfile:\n",
    "        \n",
    "        for line_num, line in enumerate(infile, 1):\n",
    "            try:\n",
    "                # Each line is expected to be a JSON array of messages\n",
    "                messages = json.loads(line)\n",
    "                \n",
    "                # Ensure there are at least two messages: human and gpt\n",
    "                if len(messages) < 2:\n",
    "                    print(f\"Warning: Line {line_num} has less than 2 messages. Skipping.\")\n",
    "                    continue\n",
    "                \n",
    "                # Extract human and gpt messages\n",
    "                human_message = \"\"\n",
    "                gpt_message = \"\"\n",
    "                for msg in messages:\n",
    "                    if msg.get(\"from\") == \"human\":\n",
    "                        human_message = msg.get(\"value\", \"\").strip()\n",
    "                    elif msg.get(\"from\") == \"gpt\":\n",
    "                        gpt_message = msg.get(\"value\", \"\").strip()\n",
    "                \n",
    "                if not human_message or not gpt_message:\n",
    "                    print(f\"Warning: Line {line_num} is missing human or gpt message. Skipping.\")\n",
    "                    continue\n",
    "                \n",
    "                # Extract question and rationale\n",
    "                question = extract_question(human_message)\n",
    "                rationale = extract_rationale(gpt_message)\n",
    "                \n",
    "                if not question or not rationale:\n",
    "                    print(f\"Warning: Line {line_num} could not extract question or rationale. Skipping.\")\n",
    "                    continue\n",
    "                \n",
    "                # Create the new format\n",
    "                new_entry = {\n",
    "                    \"text\": f\"Q: {question}\\nA: {rationale}\"\n",
    "                }\n",
    "                \n",
    "                # Write to the new JSONL file\n",
    "                outfile.write(json.dumps(new_entry, ensure_ascii=False) + '\\n')\n",
    "            \n",
    "            except json.JSONDecodeError as e:\n",
    "                print(f\"Error decoding JSON on line {line_num}: {e}. Skipping.\")\n",
    "                continue\n",
    "\n",
    "    print(f\"Conversion complete. New file saved as '{output_file}'.\")\n",
    "\n",
    "if __name__ == \"__main__\":\n",
    "    input_jsonl = 'finetuning_data.jsonl'        # Existing file\n",
    "    output_jsonl = 'finetuning_data_new.jsonl'   # New file\n",
    "        \n",
    "    # Perform the conversion\n",
    "    convert_existing_jsonl(input_jsonl, output_jsonl)"
   ]
  },
  {
   "cell_type": "markdown",
   "metadata": {},
   "source": [
    "### Appending New Data"
   ]
  },
  {
   "cell_type": "code",
   "execution_count": 46,
   "metadata": {},
   "outputs": [],
   "source": [
    "import json\n",
    "import re\n",
    "import os\n",
    "\n",
    "def convert_correct_pairs_to_conversations(correct_pairs):\n",
    "    \"\"\"\n",
    "    Converts a list of correct_pairs to the new conversation format.\n",
    "    \n",
    "    Args:\n",
    "        correct_pairs (list): List of dictionaries with keys 'question', 'rationale', and 'answer'.\n",
    "    \n",
    "    Returns:\n",
    "        list: List of dictionaries in the format {\"text\": \"Q: ...\\nA: ...\"}\n",
    "    \"\"\"\n",
    "    new_conversations = []\n",
    "    for pair in correct_pairs:\n",
    "        question = pair.get('question', '').strip()\n",
    "        rationale = pair.get('rationale', '').strip()\n",
    "        \n",
    "        if not question or not rationale:\n",
    "            print(f\"Warning: Missing question or rationale in pair: {pair}. Skipping.\")\n",
    "            continue\n",
    "        \n",
    "        # Remove any trailing \"Answer: ...\" lines from the rationale\n",
    "        # This ensures that the rationale does not contain explicit \"Answer:\" labels\n",
    "        rationale_cleaned = re.sub(r'\\n*Answer:\\s*.*$', '', rationale, flags=re.IGNORECASE).strip()\n",
    "        \n",
    "        # Additionally, remove any \"Rationale:\" labels if present\n",
    "        rationale_cleaned = re.sub(r'^Rationale:\\s*', '', rationale_cleaned, flags=re.IGNORECASE).strip()\n",
    "        \n",
    "        # Create the new conversation format\n",
    "        convo = {\n",
    "            \"text\": f\"Q: {question}\\nA: {rationale_cleaned}\"\n",
    "        }\n",
    "        new_conversations.append(convo)\n",
    "    return new_conversations\n",
    "\n",
    "def append_conversations_to_jsonl(conversations, file_path='finetuning_data.jsonl'):\n",
    "    \"\"\"\n",
    "    Appends a list of conversations to an existing JSONL file in the desired format.\n",
    "    \n",
    "    Each conversation is a dict with 'text': 'Q: ...\\nA: ...'\n",
    "    This function ensures that any residual 'Answer:' labels are removed from the 'A: ...' section.\n",
    "    \n",
    "    Args:\n",
    "        conversations (list): List of conversations to append, each as {\"text\": \"Q: ...\\nA: ...\"}.\n",
    "        file_path (str): Path to the existing JSONL file.\n",
    "    \n",
    "    Returns:\n",
    "        None\n",
    "    \"\"\"\n",
    "    # Check if the file exists\n",
    "    if os.path.exists(file_path):\n",
    "        # Check if the file ends with a newline\n",
    "        with open(file_path, 'rb') as f:\n",
    "            try:\n",
    "                f.seek(-1, os.SEEK_END)\n",
    "                last_char = f.read(1)\n",
    "                if last_char != b'\\n':\n",
    "                    newline_needed = True\n",
    "                else:\n",
    "                    newline_needed = False\n",
    "            except OSError:\n",
    "                # File is empty\n",
    "                newline_needed = False\n",
    "    else:\n",
    "        # File does not exist; will be created\n",
    "        newline_needed = False\n",
    "\n",
    "    with open(file_path, 'a', encoding='utf-8') as f:\n",
    "        # If a newline is needed before appending, add it\n",
    "        if newline_needed:\n",
    "            f.write('\\n')\n",
    "        \n",
    "        for convo in conversations:\n",
    "            text = convo.get('text', '').strip()\n",
    "            \n",
    "            # Ensure that the text starts with \"Q: \" and contains \"A: \"\n",
    "            if not text.startswith(\"Q: \") or \"\\nA: \" not in text:\n",
    "                print(f\"Warning: Conversation does not follow the 'Q: ...\\nA: ...' format. Skipping: {convo}\")\n",
    "                continue\n",
    "            \n",
    "            # Split the text into Question and Answer parts\n",
    "            try:\n",
    "                q_part, a_part = text.split(\"\\nA: \", 1)\n",
    "            except ValueError:\n",
    "                print(f\"Warning: Unable to split 'Q' and 'A' parts. Skipping: {convo}\")\n",
    "                continue\n",
    "            \n",
    "            # Clean the Answer part by removing any \"Answer:\" labels if present\n",
    "            # Although it should already be cleaned, this is an extra safeguard\n",
    "            a_part_cleaned = re.sub(r'\\n*Answer:\\s*.*$', '', a_part, flags=re.IGNORECASE).strip()\n",
    "            a_part_cleaned = re.sub(r'^Answer:\\s*', '', a_part_cleaned, flags=re.IGNORECASE).strip()\n",
    "            \n",
    "            # Reconstruct the cleaned conversation text\n",
    "            new_text = f\"{q_part}\\nA: {a_part_cleaned}\"\n",
    "            \n",
    "            # Append the cleaned conversation to the list\n",
    "            processed_convo = {\"text\": new_text}\n",
    "            \n",
    "            # Serialize and write to the file\n",
    "            json_line = json.dumps(processed_convo, ensure_ascii=False)\n",
    "            f.write(json_line + '\\n')\n",
    "    \n",
    "    print(f\"Successfully appended {len(conversations)} conversations to '{file_path}'.\")"
   ]
  },
  {
   "cell_type": "code",
   "execution_count": 47,
   "metadata": {},
   "outputs": [
    {
     "name": "stdout",
     "output_type": "stream",
     "text": [
      "Successfully appended 1 conversations to 'finetuning_data_new.jsonl'.\n"
     ]
    }
   ],
   "source": [
    "new_conversations = convert_correct_pairs_to_conversations(correct_pairs)\n",
    "    \n",
    "    # Append to the new JSONL file\n",
    "append_conversations_to_jsonl(new_conversations, 'finetuning_data_new.jsonl')"
   ]
  },
  {
   "cell_type": "code",
   "execution_count": null,
   "metadata": {},
   "outputs": [],
   "source": []
  }
 ],
 "metadata": {
  "kernelspec": {
   "display_name": ".venv",
   "language": "python",
   "name": "python3"
  },
  "language_info": {
   "codemirror_mode": {
    "name": "ipython",
    "version": 3
   },
   "file_extension": ".py",
   "mimetype": "text/x-python",
   "name": "python",
   "nbconvert_exporter": "python",
   "pygments_lexer": "ipython3",
   "version": "3.11.8"
  }
 },
 "nbformat": 4,
 "nbformat_minor": 2
}
