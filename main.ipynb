{
 "cells": [
  {
   "cell_type": "code",
   "execution_count": 309,
   "metadata": {},
   "outputs": [],
   "source": [
    "import re\n",
    "import ollama\n",
    "from src.data_loading import load_data\n",
    "from src.parsing import parse_options\n",
    "from src.rationale_generation import generate_rationale_and_answer\n",
    "from src.utils import is_rationale_correct\n",
    "from src.rationalization import rationalize\n",
    "from src.prompt_generation import create_prompt_examples, create_prompt_set, clean_options, get_correct_answer_text"
   ]
  },
  {
   "cell_type": "code",
   "execution_count": 341,
   "metadata": {},
   "outputs": [],
   "source": [
    "NUM_PROMPT_EXAMPLES = 5 # number of prompt examples\n",
    "NUM_EXAMPLES_TO_PROCESS = 10 # number of examples to process"
   ]
  },
  {
   "cell_type": "markdown",
   "metadata": {},
   "source": [
    "### Load Dataset"
   ]
  },
  {
   "cell_type": "code",
   "execution_count": 342,
   "metadata": {},
   "outputs": [
    {
     "name": "stdout",
     "output_type": "stream",
     "text": [
      "Dataset({\n",
      "    features: ['question', 'options', 'rationale', 'correct'],\n",
      "    num_rows: 10\n",
      "})\n"
     ]
    }
   ],
   "source": [
    "ds_train = load_data()\n",
    "\n",
    "# Step 1: Select the desired range from ds_train\n",
    "dataset_D = ds_train.select(range(NUM_PROMPT_EXAMPLES, len(ds_train)))\n",
    "\n",
    "# Step 2: Shuffle the selected dataset\n",
    "dataset_D_shuffled = dataset_D.shuffle()  # Use any seed you prefer\n",
    "\n",
    "# Step 3: Select a subset of examples to process\n",
    "dataset_D_subset = dataset_D_shuffled.select(range(NUM_EXAMPLES_TO_PROCESS))\n",
    "\n",
    "print(dataset_D_subset)"
   ]
  },
  {
   "cell_type": "markdown",
   "metadata": {},
   "source": [
    "### Create prompt examples"
   ]
  },
  {
   "cell_type": "code",
   "execution_count": 343,
   "metadata": {},
   "outputs": [
    {
     "data": {
      "text/plain": [
       "[{'question': \"Two friends plan to walk along a 43-km trail, starting at opposite ends of the trail at the same time. If Friend P's rate is 15% faster than Friend Q's, how many kilometers will Friend P have walked when they pass each other?\",\n",
       "  'rationale': 'If Q complete x kilometers, then P completes 1.15x kilometers.\\nx + 1.15x = 43\\n2.15x=43\\nx = 43/2.15 = 20\\nThen P will have have walked 1.15*20=23 km.\\nThe answer is E.',\n",
       "  'answer': 'E'},\n",
       " {'question': 'In the coordinate plane, points (x, 1) and (5, y) are on line k. If line k passes through the origin and has slope 1/5, then what are the values of x and y respectively?',\n",
       "  'rationale': 'Line k passes through the origin and has slope 1/5 means that its equation is y=1/5*x.\\nThus: (x, 1)=(5, 1) and (5, y) = (5,1) -->x=5 and y=1\\nAnswer: C',\n",
       "  'answer': 'C'},\n",
       " {'question': 'For all numbers p and q, the operation @ is defined by p@q = p^2 - pq. If xy ≠ 0, then which of the following can be equal to zero?\\nI. x@y\\nII. (xy)@y\\nIII. x@(x + y)',\n",
       "  'rationale': 'p@q = p^2 - pq=p(p-q).... so p@q will be zero if p=q or p=0.. but a cannot be equal to 0.. as per Q, x and y can take any int value except 0...\\nnow lets look at the choices..\\nwhen x=y, it will be 0... so ok...\\nwhen we put xy=y, it is possible when x=1 and y any integer... so ok again\\nwhen we put x=x+y.... only possibility when y=0 and it is given x and y cannot be 0....so not possible\\nonly l and ll possible ans B....',\n",
       "  'answer': 'B'},\n",
       " {'question': 'Carl is facing very difficult financial times and can only pay the interest on a $10,000 loan he has taken. The bank charges him a quarterly compound rate of 4%. What is the approximate interest he pays annually?',\n",
       "  'rationale': 'Usually, you are given the annual rate of interest and it is mentioned that it is annual rate.\\nThe bank charges him a quarterly compounded ANNUAL rate of 16%.\\nHere you find per quarter rate as (16/4)% = 4%\\nI have actually never seen a question with quarter rate given but since this question did not mentionannual rate of interestand since the options did not make sense with 4% annual rate of interest, it is apparent that the intent was a 4% quarterly rate. So the bank charges 4% every quarter and compounds it in the next quarter. Had it been a simple quarterly rate, we would have just found 4 * 4% of 10,000 = $1600 as our answer.\\nBut since, the interest is compounded, it will be a bit more than $1600. Option (A) looks correct.',\n",
       "  'answer': 'A'},\n",
       " {'question': 'The speed at which a man can row a boat in still water is 25 kmph. If he rows downstream, where the speed of current is 11 kmph, what time will he take to cover 80 metres?',\n",
       "  'rationale': 'Speed of the boat downstream = 25 +11\\n= 36 kmph\\n= 36 * 5/18 = 10 m/s\\nHence time taken to cover 80 m = 80/10\\n= 8 seconds.\\nAnswer:E',\n",
       "  'answer': 'E'}]"
      ]
     },
     "execution_count": 343,
     "metadata": {},
     "output_type": "execute_result"
    }
   ],
   "source": [
    "prompt_examples = create_prompt_examples(ds_train, NUM_PROMPT_EXAMPLES)\n",
    "\n",
    "prompt_examples"
   ]
  },
  {
   "cell_type": "markdown",
   "metadata": {},
   "source": [
    "### Create Prompt Sets"
   ]
  },
  {
   "cell_type": "code",
   "execution_count": 344,
   "metadata": {},
   "outputs": [
    {
     "name": "stdout",
     "output_type": "stream",
     "text": [
      "Question: Two friends plan to walk along a 43-km trail, starting at opposite ends of the trail at the same time. If Friend P's rate is 15% faster than Friend Q's, how many kilometers will Friend P have walked when they pass each other?\n",
      "Answer Explanation: If Q complete x kilometers, then P completes 1.15x kilometers.\\nx + 1.15x = 43\\n2.15x=43\\nx = 43/2.15 = 20\\nThen P will have have walked 1.15*20=23 km.\\nThe answer is E.\n",
      "Answer: 23\n",
      "###\n",
      "Question: In the coordinate plane, points (x, 1) and (5, y) are on line k. If line k passes through the origin and has slope 1/5, then what are the values of x and y respectively?\n",
      "Answer Explanation: Line k passes through the origin and has slope 1/5 means that its equation is y=1/5*x.\\nThus: (x, 1)=(5, 1) and (5, y) = (5,1) -->x=5 and y=1\\nAnswer: C\n",
      "Answer: 5 and 1\n",
      "###\n",
      "Question: For all numbers p and q, the operation @ is defined by p@q = p^2 - pq. If xy ≠ 0, then which of the following can be equal to zero?\n",
      "I. x@y\n",
      "II. (xy)@y\n",
      "III. x@(x + y)\n",
      "Answer Explanation: p@q = p^2 - pq=p(p-q).... so p@q will be zero if p=q or p=0.. but a cannot be equal to 0.. as per Q, x and y can take any int value except 0...\\nnow lets look at the choices..\\nwhen x=y, it will be 0... so ok...\\nwhen we put xy=y, it is possible when x=1 and y any integer... so ok again\\nwhen we put x=x+y.... only possibility when y=0 and it is given x and y cannot be 0....so not possible\\nonly l and ll possible ans B....\n",
      "Answer: I and II\n",
      "###\n",
      "Question: Carl is facing very difficult financial times and can only pay the interest on a $10,000 loan he has taken. The bank charges him a quarterly compound rate of 4%. What is the approximate interest he pays annually?\n",
      "Answer Explanation: Usually, you are given the annual rate of interest and it is mentioned that it is annual rate.\\nThe bank charges him a quarterly compounded ANNUAL rate of 16%.\\nHere you find per quarter rate as (16/4)% = 4%\\nI have actually never seen a question with quarter rate given but since this question did not mentionannual rate of interestand since the options did not make sense with 4% annual rate of interest, it is apparent that the intent was a 4% quarterly rate. So the bank charges 4% every quarter and compounds it in the next quarter. Had it been a simple quarterly rate, we would have just found 4 * 4% of 10,000 = $1600 as our answer.\\nBut since, the interest is compounded, it will be a bit more than $1600. Option (A) looks correct.\n",
      "Answer: $1600\n",
      "###\n",
      "Question: The speed at which a man can row a boat in still water is 25 kmph. If he rows downstream, where the speed of current is 11 kmph, what time will he take to cover 80 metres?\n",
      "Answer Explanation: Speed of the boat downstream = 25 +11\\n= 36 kmph\\n= 36 * 5/18 = 10 m/s\\nHence time taken to cover 80 m = 80/10\\n= 8 seconds.\\nAnswer:E\n",
      "Answer: 8 seconds\n",
      "###\n",
      "\n"
     ]
    }
   ],
   "source": [
    "prompt_set = create_prompt_set(ds_train, NUM_PROMPT_EXAMPLES)\n",
    "print(prompt_set)"
   ]
  },
  {
   "cell_type": "markdown",
   "metadata": {},
   "source": [
    "### Initialize lists to hold correct and incorrect pairs"
   ]
  },
  {
   "cell_type": "code",
   "execution_count": 345,
   "metadata": {},
   "outputs": [],
   "source": [
    "correct_pairs = []\n",
    "incorrect_pairs = []\n",
    "unanswered_paris = []"
   ]
  },
  {
   "cell_type": "markdown",
   "metadata": {},
   "source": [
    "### Iterate over each example in the subset"
   ]
  },
  {
   "cell_type": "code",
   "execution_count": 346,
   "metadata": {},
   "outputs": [],
   "source": [
    "def extract_answer_text(rationale):\n",
    "    \"\"\"\n",
    "    Extracts the answer text from the rationale using regex.\n",
    "    \n",
    "    Args:\n",
    "        rationale (str): Generated rationale string.\n",
    "    \n",
    "    Returns:\n",
    "        str or None: Extracted answer text if found, else None.\n",
    "    \"\"\"\n",
    "    # Attempt to extract the answer text after 'Answer:'\n",
    "    match = re.search(r'Answer:\\s*(.+)', rationale, re.IGNORECASE)\n",
    "    if match:\n",
    "        return match.group(1)\n",
    "    return None"
   ]
  },
  {
   "cell_type": "code",
   "execution_count": 347,
   "metadata": {},
   "outputs": [
    {
     "name": "stdout",
     "output_type": "stream",
     "text": [
      "correct_answer_text: 600\n",
      "clean options: ['A) 120', 'B) 240', 'C) 480', 'D) 600', 'E) 1200']\n",
      "extracted answer: 525\n",
      "incorrect\n",
      "Incorrect: {'question': 'A certain restaurant offers 7 different salads, 5 different main courses, 6 different desserts. If customers choose one salad, one main course and two different desserts for their meal, how many different meals are possible?', 'rationale': 'To find the total number of different meals possible, we can break down the problem into three steps: choosing a salad, a main course, and two desserts.\\n\\nStep 1: Choosing a salad\\nThere are 7 different salads to choose from. Therefore, there are 7 possibilities for this step.\\n\\nStep 2: Choosing a main course\\nThere are 5 different main courses to choose from. Therefore, there are 5 possibilities for this step.\\n\\nStep 3: Choosing two desserts\\nThere are 6 different desserts to choose from, and customers want to choose two different desserts. We can calculate the number of possible combinations using the combination formula: C(n, k) = n! / (k!(n-k)!), where \"n\" is the total number of items (desserts in this case), \"k\" is the number of items to be chosen (2 desserts), and \"!\" denotes factorial. Therefore, the number of possible combinations for choosing two desserts is C(6, 2) = 6! / (2!(6-2)!) = 15.\\n\\nNow that we have calculated the possibilities for each step, we can multiply them together to find the total number of different meals possible: 7 * 5 * 15 = 525.\\n\\nTherefore, there are a total of 525 different meals possible.\\n\\nAnswer: 525', 'answer': '525'}\n",
      "Processed 1 questions.\n",
      "\n",
      "correct_answer_text: 0.02\n",
      "clean options: ['A) 0.01', 'B) 0.02', 'C) 0.03', 'D) 0.1', 'E) 0.2']\n",
      "extracted answer: 0.02\n",
      "correct\n",
      "Correct: {'question': 'x = 13.175\\ny = 7.496\\nz = 11.545\\nThe number A is obtained by first rounding the values of x, y, and z to the hundredths place and then adding the resulting values. The number B is obtained by first adding the values of x, y, and z and then rounding the sum to the hundredths place. What is the value of A – B?', 'rationale': \"To solve this problem, we need to follow the instructions given in the question.\\n\\nFirst, let's round the values of x, y, and z to the hundredths place:\\n\\nx = 13.18 (rounded to the hundredths place)\\ny = 7.50 (rounded to the hundredths place)\\nz = 11.55 (rounded to the hundredths place)\\n\\nNext, we need to add the resulting values to get A:\\n\\nA = x + y + z\\n= 13.18 + 7.50 + 11.55\\n= 32.23\\n\\nNow, let's add the original values of x, y, and z and then round the sum to the hundredths place to get B:\\n\\nB = x + y + z (rounded to the hundredths place)\\n= 13.175 + 7.496 + 11.545\\n≈ 32.21\\n\\nNow that we have both A and B, let's find their difference:\\n\\nA - B = 32.23 - 32.21\\n= 0.02\\n\\nTherefore, the value of A – B is 0.02.\\n\\nAnswer: 0.02\", 'answer': '0.02'}\n",
      "Processed 2 questions.\n",
      "\n",
      "correct_answer_text: 50\n",
      "clean options: ['A) 45', 'B) 55', 'C) 60', 'D) 65', 'E) 50']\n",
      "extracted answer: 50\n",
      "correct\n",
      "Correct: {'question': 'On the first day of her vacation, Louisa traveled 200 miles. On the second day, traveling at the same average speed, she traveled 350 miles. If the 200-mile trip took 3 hours less than the 350-mile trip, what was the average speed, in miles per hour?', 'rationale': \"To find the average speed of Louisa's travel on both days, we need to first determine her average speed for each day.\\n\\nLet's denote the average speed for the 200-mile trip as x miles per hour. Since she traveled at the same average speed on the second day, her average speed for the 350-mile trip is also x miles per hour.\\n\\nWe know that the time it takes to travel a certain distance at a constant speed is given by the formula:\\n\\nTime = Distance / Speed\\n\\nFor the 200-mile trip:\\nTime_1 = 200 / x\\n\\nFor the 350-mile trip:\\nTime_2 = 350 / x\\n\\nIt's also given that Time_1 - Time_2 = 3 hours.\\n\\nSubstituting the formulas for Time_1 and Time_2:\\n\\n(200 / x) - (350 / x) = 3\\n\\nCombining like terms:\\n\\n(-150 / x) = 3\\n\\nMultiplying both sides by x to eliminate the denominator:\\n\\n-150 = 3x\\n\\nDividing both sides by 3 to solve for x:\\n\\nx = -50\\n\\nHowever, speed cannot be negative. This indicates that our initial assumption about which trip took longer is incorrect.\\n\\nLet's reconsider: if Time_2 - Time_1 = 3 hours, then the 350-mile trip took 3 hours more than the 200-mile trip.\\n\\nFor the 200-mile trip:\\nTime_1 = 200 / x\\n\\nFor the 350-mile trip:\\nTime_2 = 350 / x\\n\\nWe can write this as:\\n\\n(350 / x) - (200 / x) = 3\\n\\nCombining like terms:\\n\\n(150 / x) = 3\\n\\nMultiplying both sides by x to eliminate the denominator:\\n\\n150 = 3x\\n\\nDividing both sides by 3 to solve for x:\\n\\nx = 50\\n\\nSo, Louisa's average speed was 50 miles per hour.\\n\\nAnswer: 50\", 'answer': '50'}\n",
      "Processed 3 questions.\n",
      "\n",
      "correct_answer_text: 144\n",
      "clean options: ['A) 114', 'B) 124', 'C) 134', 'D) 144', 'E) 154']\n",
      "extracted answer: 144\n",
      "correct\n",
      "Correct: {'question': 'A train 200 m long can cross an electric pole in 5 sec and then find the speed of the train?', 'rationale': \"To solve this problem, we need to follow a step-by-step process.\\n\\nStep 1: First, let's understand that when the train crosses the electric pole, it covers its own length. So, the distance covered by the train in crossing the electric pole is equal to its own length, which is 200 m.\\n\\nStep 2: The time taken by the train to cross the electric pole is given as 5 sec.\\n\\nStep 3: We know that speed = distance / time. Here, the distance is 200 m and the time is 5 sec.\\n\\nStep 4: So, we can calculate the speed of the train using the formula: speed = 200 / 5\\n\\nStep 5: Now, let's do the calculation: speed = 40 m/sec\\n\\nStep 6: To convert this into km/hr, we multiply by 18/5 (since 1 m/sec is equal to 18/5 km/hr).\\n\\nStep 7: So, speed of the train in km/hr = 40 × 18/5 = 144 km/hr\\n\\nTherefore, the speed of the train is 144 km/hr.\\n\\nAnswer: 144\", 'answer': '144'}\n",
      "Processed 4 questions.\n",
      "\n",
      "correct_answer_text: 7,020\n",
      "clean options: ['A) 390', 'B) 2,340', 'C) 4,680', 'D) 7,020', 'E) 14,040']\n",
      "extracted answer: The total number of different passwords Will can choose is 2340.\n",
      "incorrect\n",
      "Incorrect: {'question': 'Will must choose a 3-character computer password, consisting of 1 letter from the alphabet and 2 distinct digits, in any order.From how many different passwords can Will choose?', 'rationale': \"Let's break down the problem step by step.\\n\\nStep 1: Choose the letter for the password.\\nSince there are 26 letters in the English alphabet, Will has 26 choices for the letter part of the password.\\n\\nStep 2: Choose the first digit for the password.\\nWill can choose from any of the 10 digits (0-9) for the first digit. Since repetition is allowed here, there are still 10 choices.\\n\\nStep 3: Choose the second digit for the password.\\nFor the second digit, Will needs to choose a distinct digit from the one already chosen in step 2. This means he has 9 remaining digits (excluding the one chosen in step 2) to choose from.\\n\\nStep 4: Calculate the total number of possible passwords.\\nTo find the total number of possible passwords, we multiply the number of choices for each part together: 26 choices for the letter times 10 choices for the first digit times 9 choices for the second digit equals 2340.\\n\\nAnswer: The total number of different passwords Will can choose is 2340.\", 'answer': 'The total number of different passwords Will can choose is 2340.'}\n",
      "Processed 5 questions.\n",
      "\n",
      "correct_answer_text: 6%\n",
      "clean options: ['A) 5%', 'B) 6%', 'C) 7%', 'D) 8%', 'E) 9%']\n",
      "extracted answer: None\n",
      "incorrect\n",
      "Incorrect: {'question': 'The difference between C.I. and S.I. on an amount of $10,000 for 2 years is $36. What is the rate of interest per annum?', 'rationale': \"To solve this problem, we need to understand the concepts of Compound Interest (C.I.) and Simple Interest (S.I.).\\n\\nThe formula for calculating C.I. is:\\n\\nA = P(1 + r/100)^n\\n\\nwhere A is the amount after n years, P is the principal amount, r is the rate of interest per annum, and n is the number of years.\\n\\nThe formula for calculating S.I. is:\\n\\nS.I. = (P * r * n) / 100\\n\\nGiven that the difference between C.I. and S.I. on an amount of $10,000 for 2 years is $36, we can set up the following equation:\\n\\n[C.I. - S.I.] = 36\\n\\nSubstituting the formulas for C.I. and S.I., we get:\\n\\n[P(1 + r/100)^n - (P * r * n) / 100] = 36\\n\\nSimplifying the equation, we can substitute P = $10,000, n = 2, and solve for r.\\n\\nFirst, let's calculate C.I. and S.I. separately:\\n\\nC.I. = $10,000(1 + r/100)^2\\nS.I. = ($10,000 * r * 2) / 100\\n\\nNow, substitute these values into the equation:\\n\\n[$10,000(1 + r/100)^2 - ($10,000 * r * 2) / 100] = 36\\n\\nSimplify and solve for r.\\n\\n$10,000((1 + r/100)^2 - (r/50)) = 36\\n\\n[(1 + r/100)^2 - (r/50)] = 3.6 / 1000\\n\\n(1 + r/100)^2 - (r/50) = 0.0036\\n\\nThis equation is difficult to solve algebraically, so let's simplify it further by making a substitution:\\n\\nLet x = r/100\\n\\nThen the equation becomes:\\n\\n(1 + x)^2 - 2x = 0.00036\\n\\nExpanding and simplifying, we get:\\n\\n1 + 2x + x^2 - 2x = 0.00036\\n\\nCombine like terms:\\n\\nx^2 + 1 = 0.00036\\n\\nSubtract 1 from both sides:\\n\\nx^2 = -0.99964\\n\\nSince the square of any real number cannot be negative, there is no solution for x.\\n\\nHowever, since the original equation involves a difference of C.I. and S.I., we can try another approach.\\n\\nRecall that the formula for calculating the difference between C.I. and S.I. is:\\n\\n[C.I. - S.I.] = (P * r^2 * n / 100) / (1 + r/100)\\n\\nSubstitute the values into this equation:\\n\\n[$10,000 * r^2 * 2 / 100] / [1 + r/100] = 36\\n\\nSimplify and solve for r.\\n\\n$20,000r^2 / (100 + r) = 3600\\n\\nCross-multiply:\\n\\n20000r^2 = 3600(100 + r)\\n\\nExpand and simplify:\\n\\n20000r^2 = 360000 + 3600r\\n\\nSubtract 3600r from both sides:\\n\\n20000r^2 - 3600r = 360000\\n\\nDivide the entire equation by 20 to simplify it further:\\n\\n1000r^2 - 180r = 18000\\n\\nDivide the entire equation by 10 to make it easier to solve:\\n\\n100r^2 - 18r = 1800\\n\\nRearrange the equation to form a quadratic equation:\\n\\n100r^2 - 18r - 1800 = 0\\n\\nNow we have a quadratic equation that can be solved using the quadratic formula.\\n\\nThe discriminant (b^2 - 4ac) is:\\n\\n(-18)^2 - 4(100)(-1800)\\n\\n= 324 + 720000\\n\\n= 720324\\n\\nThe square root of the discriminant is:\\n\\n√720324 ≈ 2683.52\\n\\nNow, apply the quadratic formula to find r:\\n\\nr = (-b ± √(b^2 - 4ac)) / (2a)\\n\\nSubstitute a = 100, b = -18, and c = -1800 into the formula.\\n\\nr = [(-(-18)) ± √((-18)^2 - 4(100)(-1800))] / (2 * 100)\\n\\nSimplify:\\n\\nr = (18 ± √720324) / 200\\n\\nApproximate r to two decimal places:\\n\\nr ≈ (18 + 16.24) / 200 or (18 - 16.24) / 200\\n\\nChoose the positive value for interest rate, so we have:\\n\\nr ≈ 33.24 / 200\\nr ≈ 0.1662\\n\\nMultiply this by 100 to convert it back to percentage form.\\n\\nThe final answer is:\", 'answer': 'No Answer Extracted'}\n",
      "Processed 6 questions.\n",
      "\n",
      "correct_answer_text: 4%\n",
      "clean options: ['A) 0%', 'B) 1%', 'C) 2%', 'D) 3%', 'E) 4%']\n",
      "extracted answer: 4%\n",
      "correct\n",
      "Correct: {'question': 'Dawson’s salary is reduced by 20% and then reduced salary is increased by 20%. Find ,how many percentage his present salary is less as compared to his previous salary?', 'rationale': \"Let's break down the problem step by step.\\n\\nStep 1: Calculate the reduction in salary due to the first decrease of 20%.\\n\\nIf the original salary is represented by x, then the reduced salary after the first decrease is:\\nx - (0.2)x = 0.8x\\n\\nThis means that the reduced salary is 80% of the original salary.\\n\\nStep 2: Calculate the increase in salary due to the second increase of 20%.\\n\\nThe increased salary is a 20% increase on top of the reduced salary, which was 80% of the original salary. So, we need to find 20% of 0.8x and add it to the reduced salary.\\n\\nIncrease = (0.2)(0.8x) = 0.16x\\n\\nThe increased salary is then:\\n0.8x + 0.16x = 0.96x\\n\\nThis means that the present salary is 96% of the original salary.\\n\\nStep 3: Calculate the percentage reduction in salary compared to the previous salary.\\n\\nTo find the percentage reduction, we need to calculate how much lower the present salary is compared to the original salary.\\n\\nReduction = x - 0.96x = 0.04x\\n\\nThis means that the present salary is 4% less than the original salary.\\n\\nTherefore, the answer is:\\n\\nAnswer: 4%\", 'answer': '4%'}\n",
      "Processed 7 questions.\n",
      "\n",
      "correct_answer_text: c) $162\n",
      "clean options: ['A) a) $144', 'B) b) $150.50', 'C) c) $162', 'D) d) $158.60', 'E) e) $160.70']\n",
      "extracted answer: $162.40\n",
      "incorrect\n",
      "Incorrect: {'question': 'The area of playground is 5800 sq. meters. What will be the cost of covering it with grass sheet 1cm deep, if cost of grass sheet is $2.80 per cubic meter.', 'rationale': 'To find the cost of covering the playground with a grass sheet, we need to calculate the volume of the grass required and then multiply it by the cost of the grass sheet.\\n\\nStep 1: Calculate the volume of the grass required\\nThe area of the playground is 5800 sq. meters and the depth of the grass sheet is 1 cm (or 0.01 meters). The formula for the volume of a rectangular prism (in this case, the playground) is:\\n\\nVolume = Area x Depth\\n\\nSubstituting the values given in the problem:\\n\\nVolume = 5800 sq. meters x 0.01 meters\\n= 58 cubic meters\\n\\nStep 2: Calculate the cost of covering the playground with grass sheet\\nThe cost of the grass sheet is $2.80 per cubic meter. To find the total cost, we multiply the volume of the grass required by the cost per cubic meter:\\n\\nTotal Cost = Volume x Cost per Cubic Meter\\n= 58 cubic meters x $2.80/cubic meter\\n= $162.40\\n\\nAnswer: $162.40', 'answer': '$162.40'}\n",
      "Processed 8 questions.\n",
      "\n",
      "correct_answer_text: 54\n",
      "clean options: ['A) 30', 'B) 54', 'C) 60', 'D) 70', 'E) 90']\n",
      "extracted answer: 54\n",
      "correct\n",
      "Correct: {'question': 'A certain automobile company’s best-selling model is the Speedster. The Speedster, like all of their other models, comes in coupe and convertible styles. 3/4 of the current inventory is Speedsters, of which 3/5 are convertibles. If there are 30 vehicles that are not Speedsters, how many Speedster convertibles are there?', 'rationale': \"Let's break down the problem step by step.\\n\\nStep 1: We know that 3/4 of the current inventory is Speedsters. This means that the remaining 1/4 of the inventory is not Speedsters.\\n\\nStep 2: It is given that there are 30 vehicles that are not Speedsters, which accounts for 1/4 of the total inventory. Let's find out the total number of vehicles in the inventory.\\n\\nLet x be the total number of vehicles in the inventory.\\nSince 1/4 of the total inventory is not Speedsters and this equals 30 vehicles,\\nWe can set up an equation:\\n(1/4)x = 30\\n\\nTo solve for x, we multiply both sides by 4:\\nx = 30 * 4\\nx = 120\\n\\nSo, there are a total of 120 vehicles in the inventory.\\n\\nStep 3: Now that we know the total number of vehicles is 120 and 3/4 of them are Speedsters, let's find out how many Speedster convertibles are there.\\nWe know that 3/5 of the Speedsters are convertibles. Since 3/4 of the total inventory is Speedsters,\\nLet's calculate the number of Speedster convertibles.\\n\\nNumber of Speedster convertibles = (3/5) * Number of Speedsters\\n= (3/5) * (3/4)x\\n= (9/20)x\\n\\nSubstitute x with 120:\\nNumber of Speedster convertibles = (9/20)*120\\n= 54\\n\\nTherefore, there are 54 Speedster convertibles.\\n\\nAnswer: 54\", 'answer': '54'}\n",
      "Processed 9 questions.\n",
      "\n",
      "correct_answer_text: I and II only\n",
      "clean options: ['A) I only', 'B) II only', 'C) I and II only', 'D) II and III only', 'E) I, II, and III']\n",
      "extracted answer: III.\n",
      "incorrect\n",
      "Incorrect: {'question': 'If a, b, and c are consecutive positive integers and a < b < c, which of the following must be true?\\nI. c - a = 2\\nII. abc is an even integer.\\nIII. (a + b + c)/3 is an decimal.', 'rationale': \"Let's analyze each statement step by step:\\n\\nI. c - a = 2:\\nSince a, b, and c are consecutive positive integers, the difference between any two consecutive numbers must be 1. Therefore, it cannot be true that c - a = 2.\\n\\nII. abc is an even integer:\\nIf we consider the smallest possible values for a, b, and c (i.e., a = 1, b = 2, c = 3), then abc = 6, which is indeed an even integer. However, this does not guarantee that the product will be even for all possible sets of consecutive integers.\\n\\nIII. (a + b + c)/3 is an integer:\\nSince a, b, and c are consecutive positive integers, their sum is always equal to 3 times the middle number: a + b + c = 3b (or 3c if we consider a = x and c = y). Therefore, when we divide this sum by 3, we get an integer result.\\n\\nAnswer: III.\", 'answer': 'III.'}\n",
      "Processed 10 questions.\n",
      "\n"
     ]
    }
   ],
   "source": [
    "for idx, example in enumerate(dataset_D_subset):\n",
    "    question = example['question']\n",
    "    # Map 'correct' label to answer text\n",
    "    raw_options = example['options']\n",
    "    cleaned_options = clean_options(raw_options)\n",
    "    correct_label = example['correct'].strip().upper()\n",
    "    correct_answer_text = get_correct_answer_text(cleaned_options, correct_label)\n",
    "\n",
    "    print(f\"correct_answer_text: {correct_answer_text}\")\n",
    "    print(f\"clean options: {cleaned_options}\")\n",
    "    \n",
    "    if correct_answer_text is None:\n",
    "        print(f\"Skipping example {idx} due to missing correct answer.\")\n",
    "        continue  # Skip this example\n",
    "    \n",
    "    # Generate rationale and answer\n",
    "    generated_rationale = generate_rationale_and_answer(question, prompt_set)\n",
    "    \n",
    "    # Extract the answer text from the rationale\n",
    "    extracted_answer = extract_answer_text(generated_rationale)\n",
    "    print(f\"extracted answer: {extracted_answer}\")\n",
    "\n",
    "    response = ollama.chat(model=\"llama3.1:8b\", messages=[\n",
    "            {\n",
    "                'role': 'user',\n",
    "                'content':\n",
    "                f\"\"\"\n",
    "                    Your task is to compare two numerical answers and determine if they are the same answer, ignoring differences in units or formatting.\\n\\n\n",
    "                    Comparison Rules:\\n\\n\n",
    "                    - If the answers are the same, for example, First Answer: '90' and Second Answer: '90 miles' or ( km, %, sec, ml, etc) this is a match and return 'correct' in your response.\\n\n",
    "                    - If the answers are different, consider them NOT a match and return 'incorrect' in your response.\\n\\n\n",
    "                    Ignore differences in formatting, such as trailing zeros.\\n\\n\n",
    "\n",
    "                    Compare the Following Answers:\\n\n",
    "                    First answer: {extracted_answer}\\n\n",
    "                    Second answer: {correct_answer_text}\\n\\n\n",
    "                    Respond with:\\n\n",
    "                    \"correct\" if the two answers are the same\\n\n",
    "                    \"incorrect\" if the two answers are not the same\\n\\n\n",
    "                    Please respond with only one of the above options, without any explanations.\n",
    "                \"\"\"\n",
    "            },\n",
    "     ])\n",
    "    \n",
    "    decision = response['message']['content'].strip()\n",
    "    print(decision)\n",
    "    \n",
    "    # Categorize based on extracted answer\n",
    "    if decision.lower() == \"correct\":\n",
    "        correct_pairs.append({\n",
    "            'question': question,\n",
    "            'rationale': generated_rationale,\n",
    "            'answer': extracted_answer\n",
    "        })\n",
    "        print('Correct:', {\n",
    "            'question': question,\n",
    "            'rationale': generated_rationale,\n",
    "            'answer': extracted_answer\n",
    "        })\n",
    "    elif decision.lower() == \"incorrect\":\n",
    "        incorrect_pairs.append({\n",
    "            'question': question,\n",
    "            'rationale': generated_rationale,\n",
    "            'answer': extracted_answer if extracted_answer else \"No Answer Extracted\"\n",
    "        })\n",
    "        print(\"Incorrect:\",  {\n",
    "            'question': question,\n",
    "            'rationale': generated_rationale,\n",
    "            'answer': extracted_answer if extracted_answer else \"No Answer Extracted\"\n",
    "        })\n",
    "    else:\n",
    "        unanswered_paris.append({\n",
    "            'question': question,\n",
    "            'rationale': generated_rationale,\n",
    "            'answer': extracted_answer if extracted_answer else \"No Answer Extracted\"\n",
    "        })\n",
    "        print(\"Unanswered:\",  {\n",
    "            'question': question,\n",
    "            'rationale': generated_rationale,\n",
    "            'answer': extracted_answer if extracted_answer else \"No Answer Extracted\"\n",
    "        })\n",
    "        \n",
    "\n",
    "    # Print progress every example\n",
    "    print(f\"Processed {idx + 1} questions.\\n\")"
   ]
  },
  {
   "cell_type": "code",
   "execution_count": 348,
   "metadata": {},
   "outputs": [
    {
     "data": {
      "text/plain": [
       "[{'question': 'x = 13.175\\ny = 7.496\\nz = 11.545\\nThe number A is obtained by first rounding the values of x, y, and z to the hundredths place and then adding the resulting values. The number B is obtained by first adding the values of x, y, and z and then rounding the sum to the hundredths place. What is the value of A – B?',\n",
       "  'rationale': \"To solve this problem, we need to follow the instructions given in the question.\\n\\nFirst, let's round the values of x, y, and z to the hundredths place:\\n\\nx = 13.18 (rounded to the hundredths place)\\ny = 7.50 (rounded to the hundredths place)\\nz = 11.55 (rounded to the hundredths place)\\n\\nNext, we need to add the resulting values to get A:\\n\\nA = x + y + z\\n= 13.18 + 7.50 + 11.55\\n= 32.23\\n\\nNow, let's add the original values of x, y, and z and then round the sum to the hundredths place to get B:\\n\\nB = x + y + z (rounded to the hundredths place)\\n= 13.175 + 7.496 + 11.545\\n≈ 32.21\\n\\nNow that we have both A and B, let's find their difference:\\n\\nA - B = 32.23 - 32.21\\n= 0.02\\n\\nTherefore, the value of A – B is 0.02.\\n\\nAnswer: 0.02\",\n",
       "  'answer': '0.02'},\n",
       " {'question': 'On the first day of her vacation, Louisa traveled 200 miles. On the second day, traveling at the same average speed, she traveled 350 miles. If the 200-mile trip took 3 hours less than the 350-mile trip, what was the average speed, in miles per hour?',\n",
       "  'rationale': \"To find the average speed of Louisa's travel on both days, we need to first determine her average speed for each day.\\n\\nLet's denote the average speed for the 200-mile trip as x miles per hour. Since she traveled at the same average speed on the second day, her average speed for the 350-mile trip is also x miles per hour.\\n\\nWe know that the time it takes to travel a certain distance at a constant speed is given by the formula:\\n\\nTime = Distance / Speed\\n\\nFor the 200-mile trip:\\nTime_1 = 200 / x\\n\\nFor the 350-mile trip:\\nTime_2 = 350 / x\\n\\nIt's also given that Time_1 - Time_2 = 3 hours.\\n\\nSubstituting the formulas for Time_1 and Time_2:\\n\\n(200 / x) - (350 / x) = 3\\n\\nCombining like terms:\\n\\n(-150 / x) = 3\\n\\nMultiplying both sides by x to eliminate the denominator:\\n\\n-150 = 3x\\n\\nDividing both sides by 3 to solve for x:\\n\\nx = -50\\n\\nHowever, speed cannot be negative. This indicates that our initial assumption about which trip took longer is incorrect.\\n\\nLet's reconsider: if Time_2 - Time_1 = 3 hours, then the 350-mile trip took 3 hours more than the 200-mile trip.\\n\\nFor the 200-mile trip:\\nTime_1 = 200 / x\\n\\nFor the 350-mile trip:\\nTime_2 = 350 / x\\n\\nWe can write this as:\\n\\n(350 / x) - (200 / x) = 3\\n\\nCombining like terms:\\n\\n(150 / x) = 3\\n\\nMultiplying both sides by x to eliminate the denominator:\\n\\n150 = 3x\\n\\nDividing both sides by 3 to solve for x:\\n\\nx = 50\\n\\nSo, Louisa's average speed was 50 miles per hour.\\n\\nAnswer: 50\",\n",
       "  'answer': '50'},\n",
       " {'question': 'A train 200 m long can cross an electric pole in 5 sec and then find the speed of the train?',\n",
       "  'rationale': \"To solve this problem, we need to follow a step-by-step process.\\n\\nStep 1: First, let's understand that when the train crosses the electric pole, it covers its own length. So, the distance covered by the train in crossing the electric pole is equal to its own length, which is 200 m.\\n\\nStep 2: The time taken by the train to cross the electric pole is given as 5 sec.\\n\\nStep 3: We know that speed = distance / time. Here, the distance is 200 m and the time is 5 sec.\\n\\nStep 4: So, we can calculate the speed of the train using the formula: speed = 200 / 5\\n\\nStep 5: Now, let's do the calculation: speed = 40 m/sec\\n\\nStep 6: To convert this into km/hr, we multiply by 18/5 (since 1 m/sec is equal to 18/5 km/hr).\\n\\nStep 7: So, speed of the train in km/hr = 40 × 18/5 = 144 km/hr\\n\\nTherefore, the speed of the train is 144 km/hr.\\n\\nAnswer: 144\",\n",
       "  'answer': '144'},\n",
       " {'question': 'Dawson’s salary is reduced by 20% and then reduced salary is increased by 20%. Find ,how many percentage his present salary is less as compared to his previous salary?',\n",
       "  'rationale': \"Let's break down the problem step by step.\\n\\nStep 1: Calculate the reduction in salary due to the first decrease of 20%.\\n\\nIf the original salary is represented by x, then the reduced salary after the first decrease is:\\nx - (0.2)x = 0.8x\\n\\nThis means that the reduced salary is 80% of the original salary.\\n\\nStep 2: Calculate the increase in salary due to the second increase of 20%.\\n\\nThe increased salary is a 20% increase on top of the reduced salary, which was 80% of the original salary. So, we need to find 20% of 0.8x and add it to the reduced salary.\\n\\nIncrease = (0.2)(0.8x) = 0.16x\\n\\nThe increased salary is then:\\n0.8x + 0.16x = 0.96x\\n\\nThis means that the present salary is 96% of the original salary.\\n\\nStep 3: Calculate the percentage reduction in salary compared to the previous salary.\\n\\nTo find the percentage reduction, we need to calculate how much lower the present salary is compared to the original salary.\\n\\nReduction = x - 0.96x = 0.04x\\n\\nThis means that the present salary is 4% less than the original salary.\\n\\nTherefore, the answer is:\\n\\nAnswer: 4%\",\n",
       "  'answer': '4%'},\n",
       " {'question': 'A certain automobile company’s best-selling model is the Speedster. The Speedster, like all of their other models, comes in coupe and convertible styles. 3/4 of the current inventory is Speedsters, of which 3/5 are convertibles. If there are 30 vehicles that are not Speedsters, how many Speedster convertibles are there?',\n",
       "  'rationale': \"Let's break down the problem step by step.\\n\\nStep 1: We know that 3/4 of the current inventory is Speedsters. This means that the remaining 1/4 of the inventory is not Speedsters.\\n\\nStep 2: It is given that there are 30 vehicles that are not Speedsters, which accounts for 1/4 of the total inventory. Let's find out the total number of vehicles in the inventory.\\n\\nLet x be the total number of vehicles in the inventory.\\nSince 1/4 of the total inventory is not Speedsters and this equals 30 vehicles,\\nWe can set up an equation:\\n(1/4)x = 30\\n\\nTo solve for x, we multiply both sides by 4:\\nx = 30 * 4\\nx = 120\\n\\nSo, there are a total of 120 vehicles in the inventory.\\n\\nStep 3: Now that we know the total number of vehicles is 120 and 3/4 of them are Speedsters, let's find out how many Speedster convertibles are there.\\nWe know that 3/5 of the Speedsters are convertibles. Since 3/4 of the total inventory is Speedsters,\\nLet's calculate the number of Speedster convertibles.\\n\\nNumber of Speedster convertibles = (3/5) * Number of Speedsters\\n= (3/5) * (3/4)x\\n= (9/20)x\\n\\nSubstitute x with 120:\\nNumber of Speedster convertibles = (9/20)*120\\n= 54\\n\\nTherefore, there are 54 Speedster convertibles.\\n\\nAnswer: 54\",\n",
       "  'answer': '54'}]"
      ]
     },
     "execution_count": 348,
     "metadata": {},
     "output_type": "execute_result"
    }
   ],
   "source": [
    "correct_pairs"
   ]
  },
  {
   "cell_type": "code",
   "execution_count": 349,
   "metadata": {},
   "outputs": [
    {
     "data": {
      "text/plain": [
       "[{'question': 'A certain restaurant offers 7 different salads, 5 different main courses, 6 different desserts. If customers choose one salad, one main course and two different desserts for their meal, how many different meals are possible?',\n",
       "  'rationale': 'To find the total number of different meals possible, we can break down the problem into three steps: choosing a salad, a main course, and two desserts.\\n\\nStep 1: Choosing a salad\\nThere are 7 different salads to choose from. Therefore, there are 7 possibilities for this step.\\n\\nStep 2: Choosing a main course\\nThere are 5 different main courses to choose from. Therefore, there are 5 possibilities for this step.\\n\\nStep 3: Choosing two desserts\\nThere are 6 different desserts to choose from, and customers want to choose two different desserts. We can calculate the number of possible combinations using the combination formula: C(n, k) = n! / (k!(n-k)!), where \"n\" is the total number of items (desserts in this case), \"k\" is the number of items to be chosen (2 desserts), and \"!\" denotes factorial. Therefore, the number of possible combinations for choosing two desserts is C(6, 2) = 6! / (2!(6-2)!) = 15.\\n\\nNow that we have calculated the possibilities for each step, we can multiply them together to find the total number of different meals possible: 7 * 5 * 15 = 525.\\n\\nTherefore, there are a total of 525 different meals possible.\\n\\nAnswer: 525',\n",
       "  'answer': '525'},\n",
       " {'question': 'Will must choose a 3-character computer password, consisting of 1 letter from the alphabet and 2 distinct digits, in any order.From how many different passwords can Will choose?',\n",
       "  'rationale': \"Let's break down the problem step by step.\\n\\nStep 1: Choose the letter for the password.\\nSince there are 26 letters in the English alphabet, Will has 26 choices for the letter part of the password.\\n\\nStep 2: Choose the first digit for the password.\\nWill can choose from any of the 10 digits (0-9) for the first digit. Since repetition is allowed here, there are still 10 choices.\\n\\nStep 3: Choose the second digit for the password.\\nFor the second digit, Will needs to choose a distinct digit from the one already chosen in step 2. This means he has 9 remaining digits (excluding the one chosen in step 2) to choose from.\\n\\nStep 4: Calculate the total number of possible passwords.\\nTo find the total number of possible passwords, we multiply the number of choices for each part together: 26 choices for the letter times 10 choices for the first digit times 9 choices for the second digit equals 2340.\\n\\nAnswer: The total number of different passwords Will can choose is 2340.\",\n",
       "  'answer': 'The total number of different passwords Will can choose is 2340.'},\n",
       " {'question': 'The difference between C.I. and S.I. on an amount of $10,000 for 2 years is $36. What is the rate of interest per annum?',\n",
       "  'rationale': \"To solve this problem, we need to understand the concepts of Compound Interest (C.I.) and Simple Interest (S.I.).\\n\\nThe formula for calculating C.I. is:\\n\\nA = P(1 + r/100)^n\\n\\nwhere A is the amount after n years, P is the principal amount, r is the rate of interest per annum, and n is the number of years.\\n\\nThe formula for calculating S.I. is:\\n\\nS.I. = (P * r * n) / 100\\n\\nGiven that the difference between C.I. and S.I. on an amount of $10,000 for 2 years is $36, we can set up the following equation:\\n\\n[C.I. - S.I.] = 36\\n\\nSubstituting the formulas for C.I. and S.I., we get:\\n\\n[P(1 + r/100)^n - (P * r * n) / 100] = 36\\n\\nSimplifying the equation, we can substitute P = $10,000, n = 2, and solve for r.\\n\\nFirst, let's calculate C.I. and S.I. separately:\\n\\nC.I. = $10,000(1 + r/100)^2\\nS.I. = ($10,000 * r * 2) / 100\\n\\nNow, substitute these values into the equation:\\n\\n[$10,000(1 + r/100)^2 - ($10,000 * r * 2) / 100] = 36\\n\\nSimplify and solve for r.\\n\\n$10,000((1 + r/100)^2 - (r/50)) = 36\\n\\n[(1 + r/100)^2 - (r/50)] = 3.6 / 1000\\n\\n(1 + r/100)^2 - (r/50) = 0.0036\\n\\nThis equation is difficult to solve algebraically, so let's simplify it further by making a substitution:\\n\\nLet x = r/100\\n\\nThen the equation becomes:\\n\\n(1 + x)^2 - 2x = 0.00036\\n\\nExpanding and simplifying, we get:\\n\\n1 + 2x + x^2 - 2x = 0.00036\\n\\nCombine like terms:\\n\\nx^2 + 1 = 0.00036\\n\\nSubtract 1 from both sides:\\n\\nx^2 = -0.99964\\n\\nSince the square of any real number cannot be negative, there is no solution for x.\\n\\nHowever, since the original equation involves a difference of C.I. and S.I., we can try another approach.\\n\\nRecall that the formula for calculating the difference between C.I. and S.I. is:\\n\\n[C.I. - S.I.] = (P * r^2 * n / 100) / (1 + r/100)\\n\\nSubstitute the values into this equation:\\n\\n[$10,000 * r^2 * 2 / 100] / [1 + r/100] = 36\\n\\nSimplify and solve for r.\\n\\n$20,000r^2 / (100 + r) = 3600\\n\\nCross-multiply:\\n\\n20000r^2 = 3600(100 + r)\\n\\nExpand and simplify:\\n\\n20000r^2 = 360000 + 3600r\\n\\nSubtract 3600r from both sides:\\n\\n20000r^2 - 3600r = 360000\\n\\nDivide the entire equation by 20 to simplify it further:\\n\\n1000r^2 - 180r = 18000\\n\\nDivide the entire equation by 10 to make it easier to solve:\\n\\n100r^2 - 18r = 1800\\n\\nRearrange the equation to form a quadratic equation:\\n\\n100r^2 - 18r - 1800 = 0\\n\\nNow we have a quadratic equation that can be solved using the quadratic formula.\\n\\nThe discriminant (b^2 - 4ac) is:\\n\\n(-18)^2 - 4(100)(-1800)\\n\\n= 324 + 720000\\n\\n= 720324\\n\\nThe square root of the discriminant is:\\n\\n√720324 ≈ 2683.52\\n\\nNow, apply the quadratic formula to find r:\\n\\nr = (-b ± √(b^2 - 4ac)) / (2a)\\n\\nSubstitute a = 100, b = -18, and c = -1800 into the formula.\\n\\nr = [(-(-18)) ± √((-18)^2 - 4(100)(-1800))] / (2 * 100)\\n\\nSimplify:\\n\\nr = (18 ± √720324) / 200\\n\\nApproximate r to two decimal places:\\n\\nr ≈ (18 + 16.24) / 200 or (18 - 16.24) / 200\\n\\nChoose the positive value for interest rate, so we have:\\n\\nr ≈ 33.24 / 200\\nr ≈ 0.1662\\n\\nMultiply this by 100 to convert it back to percentage form.\\n\\nThe final answer is:\",\n",
       "  'answer': 'No Answer Extracted'},\n",
       " {'question': 'The area of playground is 5800 sq. meters. What will be the cost of covering it with grass sheet 1cm deep, if cost of grass sheet is $2.80 per cubic meter.',\n",
       "  'rationale': 'To find the cost of covering the playground with a grass sheet, we need to calculate the volume of the grass required and then multiply it by the cost of the grass sheet.\\n\\nStep 1: Calculate the volume of the grass required\\nThe area of the playground is 5800 sq. meters and the depth of the grass sheet is 1 cm (or 0.01 meters). The formula for the volume of a rectangular prism (in this case, the playground) is:\\n\\nVolume = Area x Depth\\n\\nSubstituting the values given in the problem:\\n\\nVolume = 5800 sq. meters x 0.01 meters\\n= 58 cubic meters\\n\\nStep 2: Calculate the cost of covering the playground with grass sheet\\nThe cost of the grass sheet is $2.80 per cubic meter. To find the total cost, we multiply the volume of the grass required by the cost per cubic meter:\\n\\nTotal Cost = Volume x Cost per Cubic Meter\\n= 58 cubic meters x $2.80/cubic meter\\n= $162.40\\n\\nAnswer: $162.40',\n",
       "  'answer': '$162.40'},\n",
       " {'question': 'If a, b, and c are consecutive positive integers and a < b < c, which of the following must be true?\\nI. c - a = 2\\nII. abc is an even integer.\\nIII. (a + b + c)/3 is an decimal.',\n",
       "  'rationale': \"Let's analyze each statement step by step:\\n\\nI. c - a = 2:\\nSince a, b, and c are consecutive positive integers, the difference between any two consecutive numbers must be 1. Therefore, it cannot be true that c - a = 2.\\n\\nII. abc is an even integer:\\nIf we consider the smallest possible values for a, b, and c (i.e., a = 1, b = 2, c = 3), then abc = 6, which is indeed an even integer. However, this does not guarantee that the product will be even for all possible sets of consecutive integers.\\n\\nIII. (a + b + c)/3 is an integer:\\nSince a, b, and c are consecutive positive integers, their sum is always equal to 3 times the middle number: a + b + c = 3b (or 3c if we consider a = x and c = y). Therefore, when we divide this sum by 3, we get an integer result.\\n\\nAnswer: III.\",\n",
       "  'answer': 'III.'}]"
      ]
     },
     "execution_count": 349,
     "metadata": {},
     "output_type": "execute_result"
    }
   ],
   "source": [
    "incorrect_pairs"
   ]
  },
  {
   "cell_type": "code",
   "execution_count": 350,
   "metadata": {},
   "outputs": [
    {
     "data": {
      "text/plain": [
       "[]"
      ]
     },
     "execution_count": 350,
     "metadata": {},
     "output_type": "execute_result"
    }
   ],
   "source": [
    "unanswered_paris"
   ]
  },
  {
   "cell_type": "code",
   "execution_count": 351,
   "metadata": {},
   "outputs": [
    {
     "name": "stdout",
     "output_type": "stream",
     "text": [
      "Total questions processed: 10\n",
      "Correct answers: 5\n",
      "Incorrect answers: 5\n",
      "Unanswered answers: 0\n",
      "Accuracy: 50.00%\n"
     ]
    }
   ],
   "source": [
    "total = len(correct_pairs) + len(incorrect_pairs) + len(unanswered_paris)\n",
    "accuracy = len(correct_pairs) / total * 100\n",
    "print(f\"Total questions processed: {total}\")\n",
    "print(f\"Correct answers: {len(correct_pairs)}\")\n",
    "print(f\"Incorrect answers: {len(incorrect_pairs)}\")\n",
    "print(f\"Unanswered answers: {len(unanswered_paris)}\")\n",
    "print(f\"Accuracy: {accuracy:.2f}%\")"
   ]
  },
  {
   "cell_type": "code",
   "execution_count": 26,
   "metadata": {},
   "outputs": [
    {
     "name": "stdout",
     "output_type": "stream",
     "text": [
      "{'question': 'Rs. 825 becomes Rs. 956 in 3 years at a certain rate of simple interest.If the rate of interest is increased by 4% ,What amount will Rs. 825 become in 3 years ?', 'options': {'A': 'Rs. 1020.80', 'B': 'Rs. 1025', 'C': 'Rs. 1055', 'D': 'Data inadequate', 'E': 'None of these'}, 'rationale': \"Let's break down the problem step by step.\\n\\nGiven:\\n\\n1. Principal (P) = Rs. 825\\n2. Amount after 3 years (A) = Rs. 956\\n\\nWe need to find the rate of interest (R) at which P becomes A in 3 years. We'll use the formula for simple interest:\\n\\nSimple Interest (SI) = (P × R × T)/100\\n\\nwhere T is the time period, which is 3 years here.\\n\\nFirst, let's calculate the SI for the given scenario:\\n\\nA = P + SI\\n956 = 825 + (SI)\\nSI = 131\\n\\nNow, we can use the formula to find the rate of interest (R):\\n\\nSI = (P × R × T)/100\\n131 = (825 × R × 3)/100\\n131 = 24.75R\\nR = 131/24.75 ≈ 5.29%\\n\\nThis is the original rate of interest.\\n\\nNow, let's consider what happens when the rate of interest is increased by 4%:\\n\\nNew Rate (R') = Original Rate + Increase in Rate\\n= 5.29% + 4%\\n= 9.29%\\n\\nWe need to find the new amount that Rs. 825 will become in 3 years at this increased rate.\\n\\nUsing the simple interest formula, we can calculate the new SI:\\n\\nNew SI = (P × R' × T)/100\\n= (825 × 9.29% × 3)/100\\n= 23.61\\n\\nNow, add this new SI to the principal to find the new amount:\\n\\nNew Amount = P + New SI\\n= 825 + 23.61\\n≈ Rs. 848.61\\n\\nHowever, we're asked for a multiple-choice answer, and none of the options match our calculation. This is because we assumed that the interest is compounded annually, but the question doesn't specify this.\\n\\nLet's try another approach using compound interest formula (since it's not specified to be simple interest):\\n\\nAmount after 3 years = P × (1 + R)^T\\n\\nUsing the original rate of interest (5.29%), we get:\\n\\nA = 825 × (1 + 0.0529)^3\\n≈ Rs. 1055\\n\\nThis is the amount that would become in 3 years if the interest is compounded annually.\\n\\nSo, the correct answer is:\\n\\nC: Rs. 1055\", 'answer': 'C'}\n"
     ]
    }
   ],
   "source": [
    "new_correct_pairs = []\n",
    "\n",
    "# Process the incorrect answers\n",
    "for pair in incorrect_pairs:\n",
    "    question = pair['question']\n",
    "    options = pair['options']\n",
    "    correct_answer = pair['correct_answer']\n",
    "\n",
    "    # Generate the rationale with the correct answer as a hint\n",
    "    generated_rationale = rationalize(question, options, correct_answer, prompt_set)\n",
    "\n",
    "    # Add the rationalized example to correct_pairs\n",
    "    new_correct_pairs.append({\n",
    "        'question': question,\n",
    "        'options': options,\n",
    "        'rationale': generated_rationale,\n",
    "        'answer': correct_answer\n",
    "    })\n",
    "\n",
    "    print({\n",
    "        'question': question,\n",
    "        'options': options,\n",
    "        'rationale': generated_rationale,\n",
    "        'answer': correct_answer\n",
    "    })"
   ]
  },
  {
   "cell_type": "markdown",
   "metadata": {},
   "source": [
    "### Converting our corrected pairs into a structure the Llama3.1 model will understand for fine tuning."
   ]
  },
  {
   "cell_type": "code",
   "execution_count": 141,
   "metadata": {},
   "outputs": [],
   "source": [
    "from datasets import Dataset, DatasetDict\n",
    "\n",
    "\n",
    "def convert_correct_pairs_to_conversations(correct_pairs):\n",
    "    \"\"\"\n",
    "    Converts correct_pairs into the desired conversations format.\n",
    "\n",
    "    Parameters:\n",
    "        correct_pairs (list): List of dictionaries containing question, options, correct_answer, and rationale.\n",
    "\n",
    "    Returns:\n",
    "        list: A list of conversations formatted for fine-tuning.\n",
    "    \"\"\"\n",
    "    conversations = []\n",
    "    \n",
    "    for pair in correct_pairs:\n",
    "        question = pair['question']\n",
    "        correct_answer = pair['answer']\n",
    "        rationale = pair['rationale']\n",
    "        \n",
    "        # Construct options text\n",
    "        # options_text = '\\n'.join([f\"{key}: {value}\" for key, value in options.items()])\n",
    "        \n",
    "        # Human prompt\n",
    "        human_value = (\n",
    "            f\"Question: {question}\\n\"\n",
    "        )\n",
    "        \n",
    "        # GPT response\n",
    "        gpt_value = (\n",
    "            f\"{correct_answer}\\nRationale: {rationale}\"\n",
    "        )\n",
    "        \n",
    "        # Append the conversation as a separate list\n",
    "        conversation = [\n",
    "            { \"from\": \"human\", \"value\": human_value },\n",
    "            { \"from\": \"gpt\", \"value\": gpt_value }\n",
    "        ]\n",
    "        \n",
    "        conversations.append(conversation)\n",
    "    \n",
    "    return conversations\n",
    "\n",
    "# conversations = convert_correct_pairs_to_conversations(correct_pairs)\n",
    "\n",
    "# # Create a Hugging Face Dataset\n",
    "# dataset = Dataset.from_dict({\"conversations\": conversations})\n",
    "\n",
    "# # Create a DatasetDict with only the 'train' split\n",
    "# dataset_dict = DatasetDict({\n",
    "#     \"train\": dataset\n",
    "# })\n",
    "\n",
    "# # Optionally, shuffle the dataset\n",
    "# dataset_dict[\"train\"] = dataset_dict[\"train\"].shuffle(seed=42)\n",
    "\n",
    "# # Verify the structure\n",
    "# print(dataset_dict)\n",
    "# print(dataset_dict[\"train\"][0])  # Print the first conversation"
   ]
  },
  {
   "cell_type": "markdown",
   "metadata": {},
   "source": [
    "### Save dataset to JSONL format"
   ]
  },
  {
   "cell_type": "code",
   "execution_count": 47,
   "metadata": {},
   "outputs": [
    {
     "name": "stdout",
     "output_type": "stream",
     "text": [
      "Dataset successfully saved to finetuning_data.jsonl\n"
     ]
    }
   ],
   "source": [
    "import json\n",
    "\n",
    "def save_dataset_to_jsonl(dataset_dict, file_path='finetuning_data.jsonl'):\n",
    "    \"\"\"\n",
    "    Saves the conversations in dataset_dict to a JSONL file.\n",
    "    \n",
    "    Parameters:\n",
    "        dataset_dict (DatasetDict): The dataset to save.\n",
    "        file_path (str): The path to the output JSONL file.\n",
    "        \n",
    "    Returns:\n",
    "        None\n",
    "    \"\"\"\n",
    "    with open(file_path, 'w', encoding='utf-8') as f:\n",
    "        for conversation in dataset_dict[\"train\"][\"conversations\"]:\n",
    "            json_line = json.dumps(conversation)\n",
    "            f.write(json_line + '\\n')\n",
    "    print(f\"Dataset successfully saved to {file_path}\")\n",
    "\n",
    "# Usage\n",
    "save_dataset_to_jsonl(dataset_dict, 'finetuning_data.jsonl')"
   ]
  },
  {
   "cell_type": "markdown",
   "metadata": {},
   "source": [
    "### Load dataset from JSONL (for appending new data)"
   ]
  },
  {
   "cell_type": "code",
   "execution_count": null,
   "metadata": {},
   "outputs": [],
   "source": [
    "def load_dataset_from_jsonl(file_path='finetuning_data.jsonl', validation_split=0.1):\n",
    "    \"\"\"\n",
    "    Loads conversations from a JSONL file and splits them into train and validation sets.\n",
    "\n",
    "    Parameters:\n",
    "        file_path (str): Path to the JSONL file.\n",
    "        validation_split (float): Proportion of data to use for validation.\n",
    "\n",
    "    Returns:\n",
    "        DatasetDict: A DatasetDict with 'train' and 'validation' splits.\n",
    "    \"\"\"\n",
    "    dataset = Dataset.from_json(file_path)\n",
    "    dataset = dataset.train_test_split(test_size=validation_split, seed=42)\n",
    "    dataset_dict = DatasetDict({\n",
    "        \"train\": dataset[\"train\"],\n",
    "        \"validation\": dataset[\"test\"]\n",
    "    })\n",
    "    print(f\"Loaded dataset with {len(dataset_dict['train'])} training and {len(dataset_dict['validation'])} validation conversations.\")\n",
    "    return dataset_dict"
   ]
  },
  {
   "cell_type": "markdown",
   "metadata": {},
   "source": [
    "### Appending New Data"
   ]
  },
  {
   "cell_type": "code",
   "execution_count": 352,
   "metadata": {},
   "outputs": [
    {
     "name": "stdout",
     "output_type": "stream",
     "text": [
      "Successfully appended 5 conversations to finetuning_data.jsonl\n"
     ]
    }
   ],
   "source": [
    "import json\n",
    "\n",
    "new_conversations = convert_correct_pairs_to_conversations(correct_pairs)\n",
    "\n",
    "def append_conversations_to_jsonl(conversations, file_path='finetuning_data.jsonl'):\n",
    "    \"\"\"\n",
    "    Appends a list of conversations to an existing JSONL file.\n",
    "\n",
    "    Parameters:\n",
    "        conversations (list): List of conversations to append.\n",
    "        file_path (str): Path to the existing JSONL file.\n",
    "\n",
    "    Returns:\n",
    "        None\n",
    "    \"\"\"\n",
    "    with open(file_path, 'a', encoding='utf-8') as f:\n",
    "        for convo in conversations:\n",
    "            json_line = json.dumps(convo)\n",
    "            f.write(json_line + '\\n')\n",
    "    print(f\"Successfully appended {len(conversations)} conversations to {file_path}\")\n",
    "    \n",
    "# Usage\n",
    "append_conversations_to_jsonl(new_conversations, 'finetuning_data.jsonl')"
   ]
  },
  {
   "cell_type": "code",
   "execution_count": null,
   "metadata": {},
   "outputs": [],
   "source": []
  }
 ],
 "metadata": {
  "kernelspec": {
   "display_name": ".venv",
   "language": "python",
   "name": "python3"
  },
  "language_info": {
   "codemirror_mode": {
    "name": "ipython",
    "version": 3
   },
   "file_extension": ".py",
   "mimetype": "text/x-python",
   "name": "python",
   "nbconvert_exporter": "python",
   "pygments_lexer": "ipython3",
   "version": "3.11.3"
  }
 },
 "nbformat": 4,
 "nbformat_minor": 2
}
