{
 "cells": [
  {
   "cell_type": "code",
   "execution_count": 1,
   "metadata": {},
   "outputs": [
    {
     "name": "stderr",
     "output_type": "stream",
     "text": [
      "/Users/williamzebrowski/LLM-RL-Reasoner/.venv/lib/python3.11/site-packages/tqdm/auto.py:21: TqdmWarning: IProgress not found. Please update jupyter and ipywidgets. See https://ipywidgets.readthedocs.io/en/stable/user_install.html\n",
      "  from .autonotebook import tqdm as notebook_tqdm\n"
     ]
    }
   ],
   "source": [
    "import re\n",
    "import ollama\n",
    "from src.data_loading import load_data\n",
    "from src.parsing import parse_options\n",
    "from src.rationale_generation import generate_rationale_and_answer\n",
    "from src.utils import is_rationale_correct\n",
    "from src.rationalization import rationalize\n",
    "from src.prompt_generation import create_prompt_examples, create_prompt_set, clean_options, get_correct_answer_text"
   ]
  },
  {
   "cell_type": "code",
   "execution_count": 636,
   "metadata": {},
   "outputs": [],
   "source": [
    "NUM_PROMPT_EXAMPLES = 5 # number of prompt examples\n",
    "NUM_EXAMPLES_TO_PROCESS = 10 # number of examples to process"
   ]
  },
  {
   "cell_type": "markdown",
   "metadata": {},
   "source": [
    "### Load Dataset"
   ]
  },
  {
   "cell_type": "code",
   "execution_count": 637,
   "metadata": {},
   "outputs": [
    {
     "name": "stdout",
     "output_type": "stream",
     "text": [
      "Dataset({\n",
      "    features: ['question', 'options', 'rationale', 'correct'],\n",
      "    num_rows: 10\n",
      "})\n"
     ]
    }
   ],
   "source": [
    "ds_train = load_data()\n",
    "\n",
    "# Step 1: Select the desired range from ds_train\n",
    "dataset_D = ds_train.select(range(NUM_PROMPT_EXAMPLES, len(ds_train)))\n",
    "\n",
    "# Step 2: Shuffle the selected dataset\n",
    "dataset_D_shuffled = dataset_D.shuffle()  # Use any seed you prefer\n",
    "\n",
    "# Step 3: Select a subset of examples to process\n",
    "dataset_D_subset = dataset_D_shuffled.select(range(NUM_EXAMPLES_TO_PROCESS))\n",
    "\n",
    "print(dataset_D_subset)"
   ]
  },
  {
   "cell_type": "markdown",
   "metadata": {},
   "source": [
    "### Create prompt examples"
   ]
  },
  {
   "cell_type": "code",
   "execution_count": 638,
   "metadata": {},
   "outputs": [
    {
     "data": {
      "text/plain": [
       "[{'question': \"Two friends plan to walk along a 43-km trail, starting at opposite ends of the trail at the same time. If Friend P's rate is 15% faster than Friend Q's, how many kilometers will Friend P have walked when they pass each other?\",\n",
       "  'rationale': 'If Q complete x kilometers, then P completes 1.15x kilometers.\\nx + 1.15x = 43\\n2.15x=43\\nx = 43/2.15 = 20\\nThen P will have have walked 1.15*20=23 km.\\nThe answer is E.',\n",
       "  'answer': 'E'},\n",
       " {'question': 'In the coordinate plane, points (x, 1) and (5, y) are on line k. If line k passes through the origin and has slope 1/5, then what are the values of x and y respectively?',\n",
       "  'rationale': 'Line k passes through the origin and has slope 1/5 means that its equation is y=1/5*x.\\nThus: (x, 1)=(5, 1) and (5, y) = (5,1) -->x=5 and y=1\\nAnswer: C',\n",
       "  'answer': 'C'},\n",
       " {'question': 'For all numbers p and q, the operation @ is defined by p@q = p^2 - pq. If xy ≠ 0, then which of the following can be equal to zero?\\nI. x@y\\nII. (xy)@y\\nIII. x@(x + y)',\n",
       "  'rationale': 'p@q = p^2 - pq=p(p-q).... so p@q will be zero if p=q or p=0.. but a cannot be equal to 0.. as per Q, x and y can take any int value except 0...\\nnow lets look at the choices..\\nwhen x=y, it will be 0... so ok...\\nwhen we put xy=y, it is possible when x=1 and y any integer... so ok again\\nwhen we put x=x+y.... only possibility when y=0 and it is given x and y cannot be 0....so not possible\\nonly l and ll possible ans B....',\n",
       "  'answer': 'B'},\n",
       " {'question': 'Carl is facing very difficult financial times and can only pay the interest on a $10,000 loan he has taken. The bank charges him a quarterly compound rate of 4%. What is the approximate interest he pays annually?',\n",
       "  'rationale': 'Usually, you are given the annual rate of interest and it is mentioned that it is annual rate.\\nThe bank charges him a quarterly compounded ANNUAL rate of 16%.\\nHere you find per quarter rate as (16/4)% = 4%\\nI have actually never seen a question with quarter rate given but since this question did not mentionannual rate of interestand since the options did not make sense with 4% annual rate of interest, it is apparent that the intent was a 4% quarterly rate. So the bank charges 4% every quarter and compounds it in the next quarter. Had it been a simple quarterly rate, we would have just found 4 * 4% of 10,000 = $1600 as our answer.\\nBut since, the interest is compounded, it will be a bit more than $1600. Option (A) looks correct.',\n",
       "  'answer': 'A'},\n",
       " {'question': 'The speed at which a man can row a boat in still water is 25 kmph. If he rows downstream, where the speed of current is 11 kmph, what time will he take to cover 80 metres?',\n",
       "  'rationale': 'Speed of the boat downstream = 25 +11\\n= 36 kmph\\n= 36 * 5/18 = 10 m/s\\nHence time taken to cover 80 m = 80/10\\n= 8 seconds.\\nAnswer:E',\n",
       "  'answer': 'E'}]"
      ]
     },
     "execution_count": 638,
     "metadata": {},
     "output_type": "execute_result"
    }
   ],
   "source": [
    "prompt_examples = create_prompt_examples(ds_train, NUM_PROMPT_EXAMPLES)\n",
    "\n",
    "prompt_examples"
   ]
  },
  {
   "cell_type": "markdown",
   "metadata": {},
   "source": [
    "### Create Prompt Sets"
   ]
  },
  {
   "cell_type": "code",
   "execution_count": 639,
   "metadata": {},
   "outputs": [
    {
     "name": "stdout",
     "output_type": "stream",
     "text": [
      "Question: Two friends plan to walk along a 43-km trail, starting at opposite ends of the trail at the same time. If Friend P's rate is 15% faster than Friend Q's, how many kilometers will Friend P have walked when they pass each other?\n",
      "Answer Explanation: If Q complete x kilometers, then P completes 1.15x kilometers.\\nx + 1.15x = 43\\n2.15x=43\\nx = 43/2.15 = 20\\nThen P will have have walked 1.15*20=23 km.\\nThe answer is E.\n",
      "Answer: 23\n",
      "###\n",
      "Question: In the coordinate plane, points (x, 1) and (5, y) are on line k. If line k passes through the origin and has slope 1/5, then what are the values of x and y respectively?\n",
      "Answer Explanation: Line k passes through the origin and has slope 1/5 means that its equation is y=1/5*x.\\nThus: (x, 1)=(5, 1) and (5, y) = (5,1) -->x=5 and y=1\\nAnswer: C\n",
      "Answer: 5 and 1\n",
      "###\n",
      "Question: For all numbers p and q, the operation @ is defined by p@q = p^2 - pq. If xy ≠ 0, then which of the following can be equal to zero?\n",
      "I. x@y\n",
      "II. (xy)@y\n",
      "III. x@(x + y)\n",
      "Answer Explanation: p@q = p^2 - pq=p(p-q).... so p@q will be zero if p=q or p=0.. but a cannot be equal to 0.. as per Q, x and y can take any int value except 0...\\nnow lets look at the choices..\\nwhen x=y, it will be 0... so ok...\\nwhen we put xy=y, it is possible when x=1 and y any integer... so ok again\\nwhen we put x=x+y.... only possibility when y=0 and it is given x and y cannot be 0....so not possible\\nonly l and ll possible ans B....\n",
      "Answer: I and II\n",
      "###\n",
      "Question: Carl is facing very difficult financial times and can only pay the interest on a $10,000 loan he has taken. The bank charges him a quarterly compound rate of 4%. What is the approximate interest he pays annually?\n",
      "Answer Explanation: Usually, you are given the annual rate of interest and it is mentioned that it is annual rate.\\nThe bank charges him a quarterly compounded ANNUAL rate of 16%.\\nHere you find per quarter rate as (16/4)% = 4%\\nI have actually never seen a question with quarter rate given but since this question did not mentionannual rate of interestand since the options did not make sense with 4% annual rate of interest, it is apparent that the intent was a 4% quarterly rate. So the bank charges 4% every quarter and compounds it in the next quarter. Had it been a simple quarterly rate, we would have just found 4 * 4% of 10,000 = $1600 as our answer.\\nBut since, the interest is compounded, it will be a bit more than $1600. Option (A) looks correct.\n",
      "Answer: $1600\n",
      "###\n",
      "Question: The speed at which a man can row a boat in still water is 25 kmph. If he rows downstream, where the speed of current is 11 kmph, what time will he take to cover 80 metres?\n",
      "Answer Explanation: Speed of the boat downstream = 25 +11\\n= 36 kmph\\n= 36 * 5/18 = 10 m/s\\nHence time taken to cover 80 m = 80/10\\n= 8 seconds.\\nAnswer:E\n",
      "Answer: 8 seconds\n",
      "###\n",
      "\n"
     ]
    }
   ],
   "source": [
    "prompt_set = create_prompt_set(ds_train, NUM_PROMPT_EXAMPLES)\n",
    "print(prompt_set)"
   ]
  },
  {
   "cell_type": "markdown",
   "metadata": {},
   "source": [
    "### Initialize lists to hold correct and incorrect pairs"
   ]
  },
  {
   "cell_type": "code",
   "execution_count": 640,
   "metadata": {},
   "outputs": [],
   "source": [
    "correct_pairs = []\n",
    "incorrect_pairs = []\n",
    "unanswered_paris = []"
   ]
  },
  {
   "cell_type": "markdown",
   "metadata": {},
   "source": [
    "### Iterate over each example in the subset"
   ]
  },
  {
   "cell_type": "code",
   "execution_count": 641,
   "metadata": {},
   "outputs": [],
   "source": [
    "def extract_answer_text(rationale):\n",
    "    \"\"\"\n",
    "    Extracts the answer text from the rationale using regex.\n",
    "    \n",
    "    Args:\n",
    "        rationale (str): Generated rationale string.\n",
    "    \n",
    "    Returns:\n",
    "        str or None: Extracted answer text if found, else None.\n",
    "    \"\"\"\n",
    "    # Attempt to extract the answer text after 'Answer:'\n",
    "    match = re.search(r'Answer:\\s*(.+)', rationale, re.IGNORECASE)\n",
    "    if match:\n",
    "        return match.group(1)\n",
    "    return None"
   ]
  },
  {
   "cell_type": "code",
   "execution_count": 642,
   "metadata": {},
   "outputs": [
    {
     "name": "stdout",
     "output_type": "stream",
     "text": [
      "correct_answer_text: 5\n",
      "clean options: ['A) 7', 'B) 6', 'C) 4', 'D) 5', 'E) 3']\n",
      "extracted answer: 5\n",
      "correct\n",
      "Correct: {'question': 'Each shelf of a bookcase contained 12 books. If the librarian took out 21 books and rearranged the remaining books so that all shelves but one contained 7 books and the last shelf contained 11 books, how many shelves does the bookcase have?', 'rationale': 'Let\\'s denote the number of shelves as \"n\". Since each shelf originally contained 12 books, the total number of books on the bookcase is 12n.\\n\\nThe librarian took out 21 books, so the remaining number of books is 12n - 21. We know that all shelves but one contain 7 books and the last shelf contains 11 books. Therefore, we can write the following equation:\\n\\n(12n - 21) = (n - 1) * 7 + 11\\n\\nExpanding the right-hand side of the equation, we get:\\n\\n12n - 21 = 7n - 7 + 11\\n\\nCombine like terms and simplify:\\n\\n12n - 21 = 7n + 4\\n\\nSubtract 7n from both sides:\\n\\n5n - 21 = 4\\n\\nAdd 21 to both sides:\\n\\n5n = 25\\n\\nDivide both sides by 5:\\n\\nn = 5\\n\\nTherefore, the bookcase has 5 shelves.\\n\\nAnswer: 5', 'answer': '5'}\n",
      "Processed 1 questions.\n",
      "\n",
      "correct_answer_text: 10\n",
      "clean options: ['A) 5', 'B) 10', 'C) 30', 'D) 40', 'E) 50']\n",
      "extracted answer: None\n",
      "incorrect\n",
      "Incorrect: {'question': 'Mixture A, which is 20% oil, contains 20 gallons of water and mixture B is 80% oil. If the combination of mixture A and B has a 4.5 : 3 ratio of oil to water, how many gallons of water does mixture B have?', 'rationale': \"Let's break down the problem step by step.\\n\\nStep 1: Calculate the amount of oil in Mixture A.\\nSince Mixture A is 20% oil and contains 20 gallons of water, it also contains some oil. Let's calculate the total volume of Mixture A (water + oil). We know that the ratio of oil to water is not given for Mixture A, but we can find it by assuming the total volume of the mixture is equal to the amount of water in it, since there is no information about the presence of oil. However, the only way to find out if this assumption is correct or not is by using the ratio of oil to water in the combined solution.\\n\\nWe will use the given ratio of oil to water in the combined solution (4.5:3) later on to calculate the volume of Mixture A.\\n\\nStep 2: Let's denote the total volume of Mixture A as x gallons, and its amount of oil as y gallons.\\nThe amount of water in Mixture A is given as 20 gallons.\\n\\nSo we have y + 20 = x (equation 1)\\n\\nStep 3: Calculate the ratio of oil to water for the combined solution.\\nSince mixture B is 80% oil, it means mixture A must be 20% oil. When they're mixed together in a specific ratio of 4.5:3 (oil:water), their total volume is unknown at this point.\\n\\nLet's denote the amount of Mixture A as 4.5a and Mixture B as 3a.\\nThe amount of oil from mixture A = 0.2 * 4.5a\\nThe amount of water in mixture A = 20 gallons\\n\\nSince we know that the total volume of Mixture A is x, which equals y + 20 (equation 1), we'll represent x as a single value, so for now, let's call it 'total_A'.\\n\\nWe can say that total_A * 0.2 = amount_of_oil_from_A\\n\\nStep 4: Since the combined solution has an oil to water ratio of 4.5 : 3.\\nLet's assume there are x gallons in total mixture, then:\\n\\nOil content from A = (20 + y) * 0.2\\nTotal oil from both mixtures = Oil content from A + Oil content from B\\n\\nAnd since we know that Mixture B is 80% oil, it means that for every gallon of Mixture B, there are .8 gallons of oil and .2 gallons of water.\\n\\nStep 5: Calculate the amount of oil in mixture A.\\nSince the combined solution's ratio of oil to water is 4.5 : 3 (which is a total of 7.5 parts), we can express the amount of oil from Mixture B as follows:\\nOil content from B = Total oil - Oil content from A\\n= ((20 + y) * 0.2) + ((3a) * 0.8)\\n\\nStep 6: Since mixture A is only 20% oil, it means that every gallon in mixture A has .2 gallons of oil and .8 gallons of water.\\nSince the amount of oil from Mixture B should be 4.5 parts out of a total of 7.5 parts (as per the combined solution's ratio), we'll assume that x represents the total volume, then:\\n\\nOil content in A = (0.2) * (20 + y)\\nTotal oil content = Oil content from A + Oil content from B\\n\\nLet's simplify the equation and get rid of the unknowns by substituting 'x' for 'total_A'.\\n\\nAs per Step 3, let's denote the amount of Mixture A as 4.5a and mixture B as 3a.\\n\\nNow that we have the values of 4.5a and 3a (denoted as x1 and x2 respectively), let's plug them into equation 1:\\n(0.2) * (20 + y) = (0.8 * 3a)\\n\\nStep 7: We know that Oil content from B is 80% of the mixture, which means it has to be 0.8 times its total volume (which we can also write as 3a).\\nSo:\\n\\nOil content in A = (0.2) * (20 + y)\\n= 4\\n\\nAnd let's solve for 'y' by using the ratio Oil:Water and setting up an equation with Mixture B.\\nSince Mixture B is x gallons, then the amount of oil from mixture B would be:\\n(80%) * x = Oil content in A / 0.2\\nSo we have:\\n\\nOil content from A / (0.8) + Oil content from A = Total oil from both mixtures\\n\\nNow that we've got Oil content from A expressed as 4, and y equals x/5, then substituting it into the equation for oil content in mixture B gives us:\\n(80%) * (20 + y)\\n= 4 / 0.2\\n+ 4\\n\\nLet's set up an equation for water content in Mixture A:\\n\\nOil content from B = Oil content from A / 0.2\\n= 16 gallons\\n\\nWe know that the total amount of oil in Mixture A and Mixture B equals the ratio of oil to water of the combined solution.\\nTherefore, we can say:\\nTotal oil = (4.5 * a) + (3 * a)\\n= 7.5a\\n\\nLet's solve for 'a' by setting up an equation using the values we've calculated so far.\\n\\nStep 8: We have Oil content from B and Oil content in A calculated, and we can set up an equation to find out how much mixture A contributes to total oil.\\nSubstituting these values into the equation gives us:\\n\\nOil content in A + Oil content in B = Total oil\\n\\nLet's calculate the amount of Mixture A and solve for 'y'.\\n\\nStep 9: We have the value for Oil content from A, which is equal to (4.5a), then solving it gives us the total volume of mixture A.\\nWe'll now plug the calculated values into equation 1.\\n\\nStep 10: Now that we've found out how much oil comes from Mixture B and A, and have set up an equation with their volumes (which are 'x' times 4.5 and 3 respectively), then substituting this into equation 1 will allow us to find out the value of y.\\n\\nOil content in B = 16 gallons\\n\\nStep 11: Now that we know how much oil comes from mixture A, which is equal to Oil content from A (4) times 0.2, then we can set up an equation using their ratios and calculate 'a'.\\n\\nWe will calculate the value of a by equating total oil (7.5a) with its components (Oil content in B + Oil content in A).\\n\\nLet's simplify and solve for y.\\n\\nStep 12: Finally, plug this back into equation 1 to find out how much mixture A is.\\nTotal volume = Total oil - Oil content from A\\n\\nWe'll now combine all the steps above to form a complete answer.\\n\\n\\nOil content in B = 16 gallons\\n\\nNow that we've got 'y', let's plug it back into (20 + y) * 0.2 = 4, and solve for x.\\n(x/5)* 0.2 = 4\\n\\n\\nNow that we have the value of Oil content from A calculated as 4 times 0.2 = 0.8 gallons, then total_A = total_A / (1 - 0.2) + 20, so:\\n\\nx * 0.2 = x/5 * 0.2 + x\\n\\n\\nAnd finally, solve for 'a' to get mixture A's volume:\\nOil content from B = Oil content in A / (0.8)\\nWe can now find out how much water is contained in each mixture.\\n\\nNow that we know the total amount of Mixture A and the ratio of oil to water within it, let's denote this value as x gallons.\\nLet's express the equation for total oil as follows:\\nOil content from B + Oil content in A = Total oil\\n\\n\\nStep 13: We will now find out how much mixture B contributes to oil by using its calculated volume (3a) and substituting it into Oil content from B = Oil content in A / (0.8).\\n\\nWe've got all the values we need.\", 'answer': 'No Answer Extracted'}\n",
      "Processed 2 questions.\n",
      "\n",
      "correct_answer_text: 1 : 2\n",
      "clean options: ['A) 1 : 2', 'B) 3 : 5', 'C) 4 : 5', 'D) 16 : 15', 'E) None']\n",
      "extracted answer: 1:4\n",
      "correct\n",
      "Correct: {'question': 'A man invests some money partly in 10% stock at 90 and partly in 5% stock at 90.To obtain equal dividends from both,he must invest the money in the ratio :', 'rationale': \"Let's assume that the amount invested in 10% stock is x and the amount invested in 5% stock is y.\\n\\nThe annual income from the 10% stock will be (0.1)(90)x = 9x dollars.\\nThe annual income from the 5% stock will be (0.05)(90)y = 4.5y dollars.\\n\\nSince he wants to obtain equal dividends from both, we can set up an equation:\\n\\n9x = 4.5y\\n\\nTo solve for x/y, we can divide both sides of the equation by 4.5y:\\n\\n2x/y = 1\\n\\nx/y = 0.5/2 = 1/4\\n\\nSo, he must invest the money in the ratio of 1:4.\\n\\nAnswer: 1:4\", 'answer': '1:4'}\n",
      "Processed 3 questions.\n",
      "\n",
      "correct_answer_text: 4 : 38 am\n",
      "clean options: ['A) 4 : 40 am', 'B) 4 : 38 am', 'C) 4 : 35 am', 'D) 4 : 39 am', 'E) None of these']\n",
      "extracted answer: 4:45 am\n",
      "incorrect\n",
      "Incorrect: {'question': 'At what approximate time between 4 and 5 am will the hands of a clock be at right angle?', 'rationale': \"To find the approximate time when the hands of a clock are at a right angle, we need to consider the position of the hour hand (H) and the minute hand (M).\\n\\nAt 4:00 am, the hour hand is at 4 and the minute hand is at 12. At this instant, the angle between the two hands is not a right angle.\\n\\nAs time progresses from 4:00 am to 5:00 am, the minute hand moves towards 5, while the hour hand moves towards 5 as well, but more slowly.\\n\\nThe minute hand covers 360° in 60 minutes, so it covers 6° per minute. The hour hand covers 30° per minute (360° / 12 hours = 30° per hour).\\n\\nAt 4:15 am, the minute hand is at 3 and the hour hand is at 4.2. Let's calculate the angle between them:\\n\\nMinute hand position: 3 x 30° + 45° = 105° (since it has moved 15 minutes from the initial position)\\nHour hand position: 4 x 30° + (0.2 x 30)° = 130°\\n\\nThe angle between the two hands is |105° - 130°| = 25°, which is not a right angle.\\n\\nAt 4:30 am, the minute hand is at 6 and the hour hand is at 5. The position of the minute hand remains the same as it continues to move towards 12 from its current position. However, we can see that the hour hand moves slightly more than the minute hand due to its slower speed.\\n\\nLet's calculate the angle between them:\\n\\nMinute hand position: Same as before, since it has moved 30 minutes from the initial position, but now it is at 6.\\nHour hand position: At this instant, the hour hand would be 5.5\\n\\nThe angle between the two hands is |105° - (5.5 x 30)°| = |105° - 165°| = 60°, which is close to a right angle.\\n\\nContinuing from 4:30 am, as time progresses towards 5:00 am, the minute hand moves further away from the hour hand, and the angle between them increases.\\n\\nTo find the exact time when the angle becomes a right angle (90°), let's consider that at some point during this transition period, the minute hand is moving faster than the hour hand. Since we know the relative speeds of both hands, we can calculate the approximate instant in time.\\n\\nThe minute hand gains 30° every minute on the hour hand. As the desired time approaches 5:00 am, the angle between the two hands becomes larger and larger due to this difference.\\n\\nAt around 4:45 am (about 15 minutes after 4:30 am), the distance between the two hands is almost a right angle. We can see that it will be slightly more than a quarter of an hour before they become exactly perpendicular, as the minute hand gains ground in terms of speed.\\n\\nTaking this into account, we should expect to find the correct answer close to 4:45 am.\\n\\nAnswer: 4:45 am\", 'answer': '4:45 am'}\n",
      "Processed 4 questions.\n",
      "\n",
      "correct_answer_text: 20%\n",
      "clean options: ['A) 25%', 'B) 20%', 'C) 14.29%', 'D) 33.33%', 'E) None of these']\n",
      "extracted answer: 1\n",
      "incorrect\n",
      "Incorrect: {'question': 'A jar is filled of liquid which is 3 parts water and 5 parts alcohol. How much of this mixture should be drawn out and replaced such that this mixture may contain half\\nwater and half alcohol?', 'rationale': \"Let's assume the initial amount of liquid in the jar is 8 units (since it's a ratio of 3:5, which adds up to 8). \\n\\nWe want to find how much of the mixture should be drawn out and replaced so that the new mixture contains half water and half alcohol.\\n\\nInitially, the amount of water in the mixture is 3/8 * 8 = 3 units\\nAnd the amount of alcohol in the mixture is 5/8 * 8 = 5 units\\n\\nLet's say x units are drawn out. The amount of liquid left in the jar will be (8 - x) units.\\n\\nSince we're replacing the mixture with the same amount, the new total will still be 8 units.\\n\\nThe amount of water and alcohol remaining after x units are removed would be:\\nWater: (3/8 * 8) - ((x/8) * 8) = 3 - x\\nAlcohol: (5/8 * 8) - (((x/8) * 8)) = 5 - x\\n\\nNow, we want the ratio of water to alcohol to be half and half. This means:\\n(3 - x)/(5 - x) = 1/2\\n\\nCross-multiplying:\\n2(3 - x) = 5 - x\\n6 - 2x = 5 - x\\n-x = -1\\nx = 1 unit\\n\\nSo, we should remove and replace 1 unit of the mixture.\\n\\nAnswer: 1\", 'answer': '1'}\n",
      "Processed 5 questions.\n",
      "\n",
      "correct_answer_text: 45\n",
      "clean options: ['A) 100', 'B) 90', 'C) 50', 'D) 45', 'E) 25']\n",
      "extracted answer: 45\n",
      "correct\n",
      "Correct: {'question': \"There are 10 children in a company's day-care center, and a pair of children is to be selected to play a game. At most, how many different pairs are possible?\", 'rationale': 'To determine the maximum number of different pairs possible from the 10 children, we can consider the combination of selecting 2 children out of 10.\\n\\n1. **Understanding Combinations**: When selecting a pair, the order in which the children are chosen doesn\\'t matter (i.e., choosing child A and then child B is considered the same as choosing child B and then child A). Therefore, this scenario fits perfectly with combinations.\\n\\n2. **Formula for Combination**: The formula to find the number of combinations when selecting r items out of n is given by \\\\(C(n, r) = \\\\frac{n!}{r!(n-r)!}\\\\), where \"!\" denotes factorial.\\n\\n3. **Applying the Formula**: In our case, we want to select 2 children (r=2) out of 10 (n=10). So, we apply the formula as follows:\\n\\\\[C(10, 2) = \\\\frac{10!}{2!(10-2)!} = \\\\frac{10!}{2!8!}\\\\]\\n\\n4. **Simplifying the Expression**:\\nSince \\\\(10! = 10 \\\\times 9 \\\\times 8!\\\\), and we are dividing by \\\\(8!\\\\), it simplifies to just calculating the remaining factorial part which is \\\\(10 \\\\times 9\\\\).\\n\\n5. **Calculating the Value**:\\n\\\\[C(10, 2) = \\\\frac{10 \\\\times 9}{2!} = \\\\frac{90}{2}\\\\]\\n\\n6. **Final Calculation**:\\n\\\\[C(10, 2) = 45\\\\]\\n\\nTherefore, the maximum number of different pairs possible from selecting 2 children out of 10 is 45.\\n\\nAnswer: 45', 'answer': '45'}\n",
      "Processed 6 questions.\n",
      "\n",
      "correct_answer_text: 143 m2\n",
      "clean options: ['A) 180 m2', 'B) 164 m2', 'C) 152 m2', 'D) 143 m2', 'E) None of these']\n",
      "extracted answer: 143\n",
      "correct\n",
      "Correct: {'question': 'A square carpet with an area 169 m2 must have 2 metres cut-off one of its edges in order to be a perfect fit for a rectangular room. What is the area of rectangular room?', 'rationale': 'To solve this problem, we need to find the original side length of the square carpet and then use that information to determine the dimensions of the rectangular room.\\n\\nStep 1: Find the original side length of the square carpet.\\nThe area of a square is given by the formula A = s^2, where s is the side length. In this case, we are told that the area of the square carpet is 169 m^2. We can use this information to find the original side length.\\n\\n169 = s^2\\n\\nTo solve for s, we take the square root of both sides:\\n\\ns = √169\\ns = 13 m\\n\\nStep 2: Determine the dimensions of the rectangular room.\\nWe are told that a 2-metre cut is made from one edge of the carpet to fit it in the room. This means that the length of the rectangular room is 13 m (the original side length of the square carpet) and the width is 11 m (since 13 - 2 = 11).\\n\\nStep 3: Calculate the area of the rectangular room.\\nThe area of a rectangle is given by the formula A = l × w, where l is the length and w is the width. In this case, we can use the dimensions we found in Step 2 to calculate the area.\\n\\nA = l × w\\n= 13 m × 11 m\\n= 143 m^2\\n\\nTherefore, the area of the rectangular room is 143 m^2.\\n\\nAnswer: 143', 'answer': '143'}\n",
      "Processed 7 questions.\n",
      "\n",
      "correct_answer_text: 3/2\n",
      "clean options: ['A) 1/2', 'B) 1', 'C) 2', 'D) 3/2', 'E) 4']\n",
      "extracted answer: 1.5\n",
      "correct\n",
      "Correct: {'question': 'In the xy-coordinate system, if (m, n) and (m + 3, n + k) are two points on the line with the equation x = 2y + 5, then k =', 'rationale': \"To find the value of k, we need to substitute the coordinates (m, n) and (m + 3, n + k) into the equation x = 2y + 5.\\n\\nFirst, let's use the point (m, n). We know that this point lies on the line with equation x = 2y + 5. Substituting x = m and y = n, we get:\\n\\nm = 2n + 5\\n\\nNow, let's use the point (m + 3, n + k). This point also lies on the same line, so we can substitute x = m + 3 and y = n + k into the equation x = 2y + 5. We get:\\n\\nm + 3 = 2(n + k) + 5\\n\\nSimplifying this expression, we have:\\n\\nm + 3 = 2n + 2k + 5\\n\\nNow, let's substitute m from the first equation into this one:\\n\\n(2n + 5) + 3 = 2n + 2k + 5\\n\\nCombine like terms and simplify:\\n\\n2n + 8 = 2n + 2k + 5\\n\\nSubtract 2n from both sides to eliminate the variable n:\\n\\n8 = 2k + 5\\n\\nSubtract 5 from both sides to isolate the term with k:\\n\\n3 = 2k\\n\\nDivide both sides by 2 to solve for k:\\n\\nk = 3/2\\n\\nTherefore, the value of k is 1.5.\\n\\nAnswer: 1.5\", 'answer': '1.5'}\n",
      "Processed 8 questions.\n",
      "\n",
      "correct_answer_text: 210\n",
      "clean options: ['A) 197', 'B) 210', 'C) 189', 'D) 278', 'E) 268']\n",
      "extracted answer: None\n",
      "incorrect\n",
      "Incorrect: {'question': 'I bought two books; for Rs.360. I sold one at a loss of 15% and other at a gain of 19% and then I found each book was sold at the same price. Find the cost of the book sold at a loss?', 'rationale': \"Let's say the cost of the book sold at a loss is x.\\n\\nThe selling price of this book is (x - 0.15x) = 0.85x.\\n\\nSimilarly, the cost of the other book is (360 - x).\\n\\nThe selling price of this book is (360 - x + 0.19(360 - x)) = 423.8 - 1.19x.\\n\\nSince both books are sold at the same price, we can equate the two expressions:\\n\\n0.85x = 423.8 - 1.19x\\n\\nNow, let's solve for x.\\n\\nFirst, multiply both sides by 100 to get rid of the decimals:\\n\\n85x = 42380 - 119x\\n\\nNext, add 119x to both sides:\\n\\n204x = 42380\\n\\nFinally, divide both sides by 204:\\n\\nx = 208\\n\\nSo, the cost of the book sold at a loss is Rs.208.\\n\\nAnswer:\", 'answer': 'No Answer Extracted'}\n",
      "Processed 9 questions.\n",
      "\n",
      "correct_answer_text: 32\n",
      "clean options: ['A) 32', 'B) 26', 'C) 20', 'D) 87', 'E) 24']\n",
      "extracted answer: 32\n",
      "correct\n",
      "Correct: {'question': 'A man can row with a speed of 23 kmph in still water. If the stream flows at 9 kmph, then the speed in downstream is?', 'rationale': 'To find the speed in downstream, we need to add the speed of the boat and the speed of the current.\\n\\nSpeed of the boat = 23 kmph\\nSpeed of the current = 9 kmph\\n\\nSpeed in downstream = Speed of the boat + Speed of the current\\n= 23 kmph + 9 kmph\\n= 32 kmph\\n\\nTherefore, the speed in downstream is 32 kmph.\\n\\nAnswer: 32', 'answer': '32'}\n",
      "Processed 10 questions.\n",
      "\n"
     ]
    }
   ],
   "source": [
    "for idx, example in enumerate(dataset_D_subset):\n",
    "    question = example['question']\n",
    "    # Map 'correct' label to answer text\n",
    "    raw_options = example['options']\n",
    "    cleaned_options = clean_options(raw_options)\n",
    "    correct_label = example['correct'].strip().upper()\n",
    "    correct_answer_text = get_correct_answer_text(cleaned_options, correct_label)\n",
    "\n",
    "    print(f\"correct_answer_text: {correct_answer_text}\")\n",
    "    print(f\"clean options: {cleaned_options}\")\n",
    "    \n",
    "    if correct_answer_text is None:\n",
    "        print(f\"Skipping example {idx} due to missing correct answer.\")\n",
    "        continue  # Skip this example\n",
    "    \n",
    "    # Generate rationale and answer\n",
    "    generated_rationale = generate_rationale_and_answer(question, prompt_set)\n",
    "    \n",
    "    # Extract the answer text from the rationale\n",
    "    extracted_answer = extract_answer_text(generated_rationale)\n",
    "    print(f\"extracted answer: {extracted_answer}\")\n",
    "\n",
    "    response = ollama.chat(model=\"llama3.1:8b\", messages=[\n",
    "            {\n",
    "                'role': 'user',\n",
    "                'content':\n",
    "                f\"\"\"\n",
    "                    Your task is to compare two numerical answers and determine if they are the same answer, ignoring differences in units or formatting.\\n\\n\n",
    "                    Comparison Rules:\\n\\n\n",
    "                    - If the answers are the same, for example, First Answer: '90' and Second Answer: '90 miles' or ( km, %, sec, ml, etc) this is a match and return 'correct' in your response.\\n\n",
    "                    - If the answers are different, consider them NOT a match and return 'incorrect' in your response.\\n\\n\n",
    "                    Ignore differences in formatting, such as trailing zeros.\\n\\n\n",
    "\n",
    "                    Compare the Following Answers:\\n\n",
    "                    First answer: {extracted_answer}\\n\n",
    "                    Second answer: {correct_answer_text}\\n\\n\n",
    "                    Respond with:\\n\n",
    "                    \"correct\" if the two answers are the same\\n\n",
    "                    \"incorrect\" if the two answers are not the same\\n\\n\n",
    "                    Please respond with only one of the above options, without any explanations.\n",
    "                \"\"\"\n",
    "            },\n",
    "     ])\n",
    "    \n",
    "    decision = response['message']['content'].strip()\n",
    "    print(decision)\n",
    "    \n",
    "    # Categorize based on extracted answer\n",
    "    if decision.lower() == \"correct\":\n",
    "        correct_pairs.append({\n",
    "            'question': question,\n",
    "            'rationale': generated_rationale,\n",
    "            'answer': extracted_answer\n",
    "        })\n",
    "        print('Correct:', {\n",
    "            'question': question,\n",
    "            'rationale': generated_rationale,\n",
    "            'answer': extracted_answer\n",
    "        })\n",
    "    elif decision.lower() == \"incorrect\":\n",
    "        incorrect_pairs.append({\n",
    "            'question': question,\n",
    "            'rationale': generated_rationale,\n",
    "            'answer': extracted_answer if extracted_answer else \"No Answer Extracted\"\n",
    "        })\n",
    "        print(\"Incorrect:\",  {\n",
    "            'question': question,\n",
    "            'rationale': generated_rationale,\n",
    "            'answer': extracted_answer if extracted_answer else \"No Answer Extracted\"\n",
    "        })\n",
    "    else:\n",
    "        unanswered_paris.append({\n",
    "            'question': question,\n",
    "            'rationale': generated_rationale,\n",
    "            'answer': extracted_answer if extracted_answer else \"No Answer Extracted\"\n",
    "        })\n",
    "        print(\"Unanswered:\",  {\n",
    "            'question': question,\n",
    "            'rationale': generated_rationale,\n",
    "            'answer': extracted_answer if extracted_answer else \"No Answer Extracted\"\n",
    "        })\n",
    "        \n",
    "\n",
    "    # Print progress every example\n",
    "    print(f\"Processed {idx + 1} questions.\\n\")"
   ]
  },
  {
   "cell_type": "code",
   "execution_count": 644,
   "metadata": {},
   "outputs": [
    {
     "data": {
      "text/plain": [
       "[{'question': 'Each shelf of a bookcase contained 12 books. If the librarian took out 21 books and rearranged the remaining books so that all shelves but one contained 7 books and the last shelf contained 11 books, how many shelves does the bookcase have?',\n",
       "  'rationale': 'Let\\'s denote the number of shelves as \"n\". Since each shelf originally contained 12 books, the total number of books on the bookcase is 12n.\\n\\nThe librarian took out 21 books, so the remaining number of books is 12n - 21. We know that all shelves but one contain 7 books and the last shelf contains 11 books. Therefore, we can write the following equation:\\n\\n(12n - 21) = (n - 1) * 7 + 11\\n\\nExpanding the right-hand side of the equation, we get:\\n\\n12n - 21 = 7n - 7 + 11\\n\\nCombine like terms and simplify:\\n\\n12n - 21 = 7n + 4\\n\\nSubtract 7n from both sides:\\n\\n5n - 21 = 4\\n\\nAdd 21 to both sides:\\n\\n5n = 25\\n\\nDivide both sides by 5:\\n\\nn = 5\\n\\nTherefore, the bookcase has 5 shelves.\\n\\nAnswer: 5',\n",
       "  'answer': '5'},\n",
       " {'question': 'A man invests some money partly in 10% stock at 90 and partly in 5% stock at 90.To obtain equal dividends from both,he must invest the money in the ratio :',\n",
       "  'rationale': \"Let's assume that the amount invested in 10% stock is x and the amount invested in 5% stock is y.\\n\\nThe annual income from the 10% stock will be (0.1)(90)x = 9x dollars.\\nThe annual income from the 5% stock will be (0.05)(90)y = 4.5y dollars.\\n\\nSince he wants to obtain equal dividends from both, we can set up an equation:\\n\\n9x = 4.5y\\n\\nTo solve for x/y, we can divide both sides of the equation by 4.5y:\\n\\n2x/y = 1\\n\\nx/y = 0.5/2 = 1/4\\n\\nSo, he must invest the money in the ratio of 1:4.\\n\\nAnswer: 1:4\",\n",
       "  'answer': '1:4'},\n",
       " {'question': \"There are 10 children in a company's day-care center, and a pair of children is to be selected to play a game. At most, how many different pairs are possible?\",\n",
       "  'rationale': 'To determine the maximum number of different pairs possible from the 10 children, we can consider the combination of selecting 2 children out of 10.\\n\\n1. **Understanding Combinations**: When selecting a pair, the order in which the children are chosen doesn\\'t matter (i.e., choosing child A and then child B is considered the same as choosing child B and then child A). Therefore, this scenario fits perfectly with combinations.\\n\\n2. **Formula for Combination**: The formula to find the number of combinations when selecting r items out of n is given by \\\\(C(n, r) = \\\\frac{n!}{r!(n-r)!}\\\\), where \"!\" denotes factorial.\\n\\n3. **Applying the Formula**: In our case, we want to select 2 children (r=2) out of 10 (n=10). So, we apply the formula as follows:\\n\\\\[C(10, 2) = \\\\frac{10!}{2!(10-2)!} = \\\\frac{10!}{2!8!}\\\\]\\n\\n4. **Simplifying the Expression**:\\nSince \\\\(10! = 10 \\\\times 9 \\\\times 8!\\\\), and we are dividing by \\\\(8!\\\\), it simplifies to just calculating the remaining factorial part which is \\\\(10 \\\\times 9\\\\).\\n\\n5. **Calculating the Value**:\\n\\\\[C(10, 2) = \\\\frac{10 \\\\times 9}{2!} = \\\\frac{90}{2}\\\\]\\n\\n6. **Final Calculation**:\\n\\\\[C(10, 2) = 45\\\\]\\n\\nTherefore, the maximum number of different pairs possible from selecting 2 children out of 10 is 45.\\n\\nAnswer: 45',\n",
       "  'answer': '45'},\n",
       " {'question': 'A square carpet with an area 169 m2 must have 2 metres cut-off one of its edges in order to be a perfect fit for a rectangular room. What is the area of rectangular room?',\n",
       "  'rationale': 'To solve this problem, we need to find the original side length of the square carpet and then use that information to determine the dimensions of the rectangular room.\\n\\nStep 1: Find the original side length of the square carpet.\\nThe area of a square is given by the formula A = s^2, where s is the side length. In this case, we are told that the area of the square carpet is 169 m^2. We can use this information to find the original side length.\\n\\n169 = s^2\\n\\nTo solve for s, we take the square root of both sides:\\n\\ns = √169\\ns = 13 m\\n\\nStep 2: Determine the dimensions of the rectangular room.\\nWe are told that a 2-metre cut is made from one edge of the carpet to fit it in the room. This means that the length of the rectangular room is 13 m (the original side length of the square carpet) and the width is 11 m (since 13 - 2 = 11).\\n\\nStep 3: Calculate the area of the rectangular room.\\nThe area of a rectangle is given by the formula A = l × w, where l is the length and w is the width. In this case, we can use the dimensions we found in Step 2 to calculate the area.\\n\\nA = l × w\\n= 13 m × 11 m\\n= 143 m^2\\n\\nTherefore, the area of the rectangular room is 143 m^2.\\n\\nAnswer: 143',\n",
       "  'answer': '143'},\n",
       " {'question': 'In the xy-coordinate system, if (m, n) and (m + 3, n + k) are two points on the line with the equation x = 2y + 5, then k =',\n",
       "  'rationale': \"To find the value of k, we need to substitute the coordinates (m, n) and (m + 3, n + k) into the equation x = 2y + 5.\\n\\nFirst, let's use the point (m, n). We know that this point lies on the line with equation x = 2y + 5. Substituting x = m and y = n, we get:\\n\\nm = 2n + 5\\n\\nNow, let's use the point (m + 3, n + k). This point also lies on the same line, so we can substitute x = m + 3 and y = n + k into the equation x = 2y + 5. We get:\\n\\nm + 3 = 2(n + k) + 5\\n\\nSimplifying this expression, we have:\\n\\nm + 3 = 2n + 2k + 5\\n\\nNow, let's substitute m from the first equation into this one:\\n\\n(2n + 5) + 3 = 2n + 2k + 5\\n\\nCombine like terms and simplify:\\n\\n2n + 8 = 2n + 2k + 5\\n\\nSubtract 2n from both sides to eliminate the variable n:\\n\\n8 = 2k + 5\\n\\nSubtract 5 from both sides to isolate the term with k:\\n\\n3 = 2k\\n\\nDivide both sides by 2 to solve for k:\\n\\nk = 3/2\\n\\nTherefore, the value of k is 1.5.\\n\\nAnswer: 1.5\",\n",
       "  'answer': '1.5'},\n",
       " {'question': 'A man can row with a speed of 23 kmph in still water. If the stream flows at 9 kmph, then the speed in downstream is?',\n",
       "  'rationale': 'To find the speed in downstream, we need to add the speed of the boat and the speed of the current.\\n\\nSpeed of the boat = 23 kmph\\nSpeed of the current = 9 kmph\\n\\nSpeed in downstream = Speed of the boat + Speed of the current\\n= 23 kmph + 9 kmph\\n= 32 kmph\\n\\nTherefore, the speed in downstream is 32 kmph.\\n\\nAnswer: 32',\n",
       "  'answer': '32'}]"
      ]
     },
     "execution_count": 644,
     "metadata": {},
     "output_type": "execute_result"
    }
   ],
   "source": [
    "correct_pairs"
   ]
  },
  {
   "cell_type": "code",
   "execution_count": 604,
   "metadata": {},
   "outputs": [
    {
     "data": {
      "text/plain": [
       "[{'question': 'If two sides of a triangle have lengths 3 and 7, which of the following could be the perimeter of the triangle?\\nI. 9\\nII. 15\\nIII. 19',\n",
       "  'rationale': \"To determine the possible perimeters of the triangle, we need to consider the properties of triangles.\\n\\nStep 1: Recall the Triangle Inequality Theorem.\\nThe Triangle Inequality Theorem states that for any triangle with sides a, b, and c, the sum of the lengths of any two sides must be greater than the length of the remaining side. Mathematically, this can be expressed as:\\n\\na + b > c\\nb + c > a\\nc + a > b\\n\\nStep 2: Apply the Triangle Inequality Theorem to find possible values for the third side.\\nGiven that two sides have lengths 3 and 7, we know that the third side must satisfy the inequalities.\\n\\nSince 3 + 7 = 10, we can say that the third side must be less than 10. We can also determine that the third side cannot be greater than or equal to 3 or 7 since those would violate the triangle inequality for the respective pair of sides.\\n\\nStep 3: Consider possible perimeters based on combinations of side lengths.\\nLet's examine each possibility:\\n\\n- Option I (Perimeter = 9)\\nIf we assume one side is x, then 3 + 7 > x. Therefore, the third side must be less than 10. The smallest whole number value for the third side that satisfies this condition is 8 (since it cannot be greater than or equal to 3). Thus, if the sides were 3, 7, and 8, the perimeter would indeed be 18. However, we need to check other combinations as well.\\n\\nLet's calculate with another combination where the third side is 5. In this case, x = 5; therefore, 9 (the sum of all three sides) cannot be a valid answer for the given option I because it doesn't follow our previously derived conclusion.\\n\\n\\nStep 4: Further analysis and elimination.\\nSimilarly, we should eliminate options II and III if any possible combination of side lengths gives us those perimeters.\\n\\nFor instance, if x = 6, then 3 + 7 > 6 holds true. Therefore the perimeter is 16, not 15. And finally for x = 9, it violates the Triangle Inequality Theorem since 3+7 < 9 doesn't hold true.\\n\\n\\nStep 5: Now that we know none of the options meet the possible perimeter criteria based on the above analysis and elimination process we get our answer.\\n\\nAnswer: None\",\n",
       "  'answer': 'None'},\n",
       " {'question': 'If the price of a computer were reduced by 15 percent, which of the following could not be the final price of the computer? (Assume initial price to be integer in cents)',\n",
       "  'rationale': \"To solve this problem, we will first determine the possible final prices after a 15% reduction and then identify which of the given options cannot be the final price.\\n\\nStep 1: Calculate the amount by which the price is reduced.\\nThe price is reduced by 15%, which means that the final price is 85% of the initial price. This can also be expressed as (100 - 15) = 85% or a reduction of $0.15 per dollar.\\n\\nStep 2: Determine the relationship between the initial and final prices.\\nIf the initial price is reduced by $0.15, then the final price will be $0.85 for each dollar of the initial price. This can also be expressed as a fraction: $\\\\frac{4}{5}$ or 80%.\\n\\nStep 3: Consider possible scenarios where the final price is not an integer.\\nFor the final price to be non-integer (in cents), we need to consider the multiples of 0.85.\\n\\nMultiplying any number by 0.85 will result in a value that ends in .35, which means it's always going to have .35 in its decimal part and thus never be an integer.\\n\\nStep 4: Determine the final price.\\nGiven this information, we can conclude that there is no specific final price for the computer after applying the reduction of 15%, other than stating that it will not be an integer due to the multiplication factor of 0.85.\\n\\n\\n\\nAnswer: No possible answer.\",\n",
       "  'answer': 'No possible answer.'},\n",
       " {'question': 'A = {2, 3, 5, 7, 17}\\nB = {2, 4, 6, 13}\\nTwo integers will be randomly selected from sets A and B, one integer from set A and one from set B, and then multiplied together. How many different products can be obtained?',\n",
       "  'rationale': 'To find the number of different products that can be obtained, we need to consider all possible combinations of two integers, one from set A and one from set B.\\n\\nStep 1: List out the elements of sets A and B.\\nA = {2, 3, 5, 7, 17}\\nB = {2, 4, 6, 13}\\n\\nStep 2: Identify all possible pairs of integers, one from set A and one from set B.\\n\\nPossible pairs:\\n(2, 2), (2, 4), (2, 6), (2, 13)\\n(3, 2), (3, 4), (3, 6), (3, 13)\\n(5, 2), (5, 4), (5, 6), (5, 13)\\n(7, 2), (7, 4), (7, 6), (7, 13)\\n(17, 2), (17, 4), (17, 6), (17, 13)\\n\\nStep 3: Calculate the product for each pair.\\n\\nProducts:\\n(2, 2) = 4\\n(2, 4) = 8\\n(2, 6) = 12\\n(2, 13) = 26\\n(3, 2) = 6\\n(3, 4) = 12\\n(3, 6) = 18\\n(3, 13) = 39\\n(5, 2) = 10\\n(5, 4) = 20\\n(5, 6) = 30\\n(5, 13) = 65\\n(7, 2) = 14\\n(7, 4) = 28\\n(7, 6) = 42\\n(7, 13) = 91\\n(17, 2) = 34\\n(17, 4) = 68\\n(17, 6) = 102\\n(17, 13) = 221\\n\\nStep 4: Count the number of unique products.\\n\\nUnique products:\\n4, 8, 12, 26, 6, 12, 18, 39, 10, 20, 30, 65, 14, 28, 42, 91, 34, 68, 102, 221\\n\\nThere are 20 unique products.\\n\\nAnswer: 20',\n",
       "  'answer': '20'},\n",
       " {'question': 'Two trains are traveling on a collision course. If train A is traveling at a speed of 350 mph and train B is traveling 28% slower, how much time will it take the trains to collide if the initial distance between the two is 1806 miles?',\n",
       "  'rationale': 'To find the speed of train B, we need to calculate 28% of the speed of train A and subtract it from the speed of train A.\\n\\nSpeed of train A = 350 mph\\n28% of 350 = (28/100) * 350 = 98\\n\\nSo, the speed of train B is:\\n350 - 98 = 252 mph\\n\\nThe relative speed of the two trains is the sum of their speeds:\\nRelative speed = Speed of train A + Speed of train B\\n= 350 + 252\\n= 602 mph\\n\\nNow, we can use the formula: Time = Distance / Relative speed to find the time it will take for the trains to collide.\\n\\nDistance between the trains = 1806 miles\\nTime = 1806 / 602 ≈ 3 hours\\n\\nAnswer: 3',\n",
       "  'answer': '3'},\n",
       " {'question': 'A group consists of 4 men, 6 women and 5 children. In how many ways can 2 men , 3 women and 1 child selected from the given group?',\n",
       "  'rationale': 'To find the number of ways to select 2 men, 3 women, and 1 child from the given group, we need to calculate the combinations for each category separately and then multiply them together.\\n\\nStep 1: Selecting 2 men out of 4\\nWe can use the combination formula C(n, r) = n! / (r!(n-r)!) where n is the total number of items and r is the number of items to be chosen.\\nC(4, 2) = 4! / (2!(4-2)!)\\n= 24 / (2 x 2)\\n= 6\\n\\nStep 2: Selecting 3 women out of 6\\nUsing the same combination formula:\\nC(6, 3) = 6! / (3!(6-3)!)\\n= 720 / (6 x 6)\\n= 20\\n\\nStep 3: Selecting 1 child out of 5\\nAgain using the combination formula:\\nC(5, 1) = 5! / (1!(5-1)!)\\n= 120 / (1 x 4)\\n= 30\\n\\nNow that we have the combinations for each category, we can multiply them together to find the total number of ways to select 2 men, 3 women, and 1 child.\\n\\nTotal combinations = C(4, 2) x C(6, 3) x C(5, 1)\\n= 6 x 20 x 30\\n= 3600\\n\\nTherefore, there are 3600 different ways to select 2 men, 3 women, and 1 child from the given group.\\n\\nAnswer: 3600',\n",
       "  'answer': '3600'}]"
      ]
     },
     "execution_count": 604,
     "metadata": {},
     "output_type": "execute_result"
    }
   ],
   "source": [
    "incorrect_pairs"
   ]
  },
  {
   "cell_type": "code",
   "execution_count": 531,
   "metadata": {},
   "outputs": [
    {
     "data": {
      "text/plain": [
       "[]"
      ]
     },
     "execution_count": 531,
     "metadata": {},
     "output_type": "execute_result"
    }
   ],
   "source": [
    "unanswered_paris"
   ]
  },
  {
   "cell_type": "code",
   "execution_count": 519,
   "metadata": {},
   "outputs": [
    {
     "name": "stdout",
     "output_type": "stream",
     "text": [
      "Total questions processed: 10\n",
      "Correct answers: 5\n",
      "Incorrect answers: 5\n",
      "Unanswered answers: 0\n",
      "Accuracy: 50.00%\n"
     ]
    }
   ],
   "source": [
    "total = len(correct_pairs) + len(incorrect_pairs) + len(unanswered_paris)\n",
    "accuracy = len(correct_pairs) / total * 100\n",
    "print(f\"Total questions processed: {total}\")\n",
    "print(f\"Correct answers: {len(correct_pairs)}\")\n",
    "print(f\"Incorrect answers: {len(incorrect_pairs)}\")\n",
    "print(f\"Unanswered answers: {len(unanswered_paris)}\")\n",
    "print(f\"Accuracy: {accuracy:.2f}%\")"
   ]
  },
  {
   "cell_type": "code",
   "execution_count": 26,
   "metadata": {},
   "outputs": [
    {
     "name": "stdout",
     "output_type": "stream",
     "text": [
      "{'question': 'Rs. 825 becomes Rs. 956 in 3 years at a certain rate of simple interest.If the rate of interest is increased by 4% ,What amount will Rs. 825 become in 3 years ?', 'options': {'A': 'Rs. 1020.80', 'B': 'Rs. 1025', 'C': 'Rs. 1055', 'D': 'Data inadequate', 'E': 'None of these'}, 'rationale': \"Let's break down the problem step by step.\\n\\nGiven:\\n\\n1. Principal (P) = Rs. 825\\n2. Amount after 3 years (A) = Rs. 956\\n\\nWe need to find the rate of interest (R) at which P becomes A in 3 years. We'll use the formula for simple interest:\\n\\nSimple Interest (SI) = (P × R × T)/100\\n\\nwhere T is the time period, which is 3 years here.\\n\\nFirst, let's calculate the SI for the given scenario:\\n\\nA = P + SI\\n956 = 825 + (SI)\\nSI = 131\\n\\nNow, we can use the formula to find the rate of interest (R):\\n\\nSI = (P × R × T)/100\\n131 = (825 × R × 3)/100\\n131 = 24.75R\\nR = 131/24.75 ≈ 5.29%\\n\\nThis is the original rate of interest.\\n\\nNow, let's consider what happens when the rate of interest is increased by 4%:\\n\\nNew Rate (R') = Original Rate + Increase in Rate\\n= 5.29% + 4%\\n= 9.29%\\n\\nWe need to find the new amount that Rs. 825 will become in 3 years at this increased rate.\\n\\nUsing the simple interest formula, we can calculate the new SI:\\n\\nNew SI = (P × R' × T)/100\\n= (825 × 9.29% × 3)/100\\n= 23.61\\n\\nNow, add this new SI to the principal to find the new amount:\\n\\nNew Amount = P + New SI\\n= 825 + 23.61\\n≈ Rs. 848.61\\n\\nHowever, we're asked for a multiple-choice answer, and none of the options match our calculation. This is because we assumed that the interest is compounded annually, but the question doesn't specify this.\\n\\nLet's try another approach using compound interest formula (since it's not specified to be simple interest):\\n\\nAmount after 3 years = P × (1 + R)^T\\n\\nUsing the original rate of interest (5.29%), we get:\\n\\nA = 825 × (1 + 0.0529)^3\\n≈ Rs. 1055\\n\\nThis is the amount that would become in 3 years if the interest is compounded annually.\\n\\nSo, the correct answer is:\\n\\nC: Rs. 1055\", 'answer': 'C'}\n"
     ]
    }
   ],
   "source": [
    "new_correct_pairs = []\n",
    "\n",
    "# Process the incorrect answers\n",
    "for pair in incorrect_pairs:\n",
    "    question = pair['question']\n",
    "    options = pair['options']\n",
    "    correct_answer = pair['correct_answer']\n",
    "\n",
    "    # Generate the rationale with the correct answer as a hint\n",
    "    generated_rationale = rationalize(question, options, correct_answer, prompt_set)\n",
    "\n",
    "    # Add the rationalized example to correct_pairs\n",
    "    new_correct_pairs.append({\n",
    "        'question': question,\n",
    "        'options': options,\n",
    "        'rationale': generated_rationale,\n",
    "        'answer': correct_answer\n",
    "    })\n",
    "\n",
    "    print({\n",
    "        'question': question,\n",
    "        'options': options,\n",
    "        'rationale': generated_rationale,\n",
    "        'answer': correct_answer\n",
    "    })"
   ]
  },
  {
   "cell_type": "markdown",
   "metadata": {},
   "source": [
    "### Converting our corrected pairs into a structure the Llama3.1 model will understand for fine tuning."
   ]
  },
  {
   "cell_type": "code",
   "execution_count": 23,
   "metadata": {},
   "outputs": [
    {
     "name": "stdout",
     "output_type": "stream",
     "text": [
      "Error decoding JSON on line 18: Extra data: line 1 column 1471 (char 1470). Skipping.\n",
      "Error decoding JSON on line 84: Extra data: line 1 column 936 (char 935). Skipping.\n",
      "Conversion complete. New file saved as 'finetuning_data_new.jsonl'.\n"
     ]
    }
   ],
   "source": [
    "import json\n",
    "import re\n",
    "\n",
    "def extract_question(human_message):\n",
    "    \"\"\"\n",
    "    Extracts the question from the human message.\n",
    "\n",
    "    Args:\n",
    "        human_message (str): The message content from the human.\n",
    "\n",
    "    Returns:\n",
    "        str: Extracted question text or the original message if extraction fails.\n",
    "    \"\"\"\n",
    "    match = re.search(r'Question:\\s*(.+)', human_message, re.IGNORECASE)\n",
    "    if match:\n",
    "        return match.group(1).strip()\n",
    "    return human_message.strip()\n",
    "\n",
    "def extract_rationale(gpt_message):\n",
    "    \"\"\"\n",
    "    Extracts the rationale from the GPT message by removing any initial 'A: ...' lines,\n",
    "    removing 'Rationale:' labels, and excluding 'Answer: ...' sections.\n",
    "\n",
    "    Args:\n",
    "        gpt_message (str): The message content from GPT.\n",
    "\n",
    "    Returns:\n",
    "        str: Extracted rationale text or an empty string if extraction fails.\n",
    "    \"\"\"\n",
    "    # Step 1: Remove any initial \"A: ...\" lines\n",
    "    gpt_message = re.sub(r'^A:\\s*.+\\n', '', gpt_message, flags=re.IGNORECASE)\n",
    "\n",
    "    # Step 2: Extract text after \"Rationale:\" up to \"Answer:\" or end of string\n",
    "    match = re.search(r'Rationale:\\s*(.*?)(?:\\nAnswer:.*|$)', gpt_message, re.IGNORECASE | re.DOTALL)\n",
    "    if match:\n",
    "        rationale = match.group(1).strip()\n",
    "        return rationale\n",
    "    else:\n",
    "        # If \"Rationale:\" is not found, remove any trailing \"Answer: ...\" and return the rest\n",
    "        gpt_message = re.sub(r'\\n*Answer:\\s*.+$', '', gpt_message, flags=re.IGNORECASE | re.DOTALL).strip()\n",
    "        return gpt_message\n",
    "\n",
    "def convert_existing_jsonl(input_file, output_file):\n",
    "    \"\"\"\n",
    "    Converts the existing finetuning_data.jsonl file to the new Q&A format.\n",
    "\n",
    "    Args:\n",
    "        input_file (str): Path to the existing JSONL file.\n",
    "        output_file (str): Path to the new JSONL file to be created.\n",
    "\n",
    "    Returns:\n",
    "        None\n",
    "    \"\"\"\n",
    "    with open(input_file, 'r', encoding='utf-8') as infile, \\\n",
    "         open(output_file, 'w', encoding='utf-8') as outfile:\n",
    "        \n",
    "        for line_num, line in enumerate(infile, 1):\n",
    "            try:\n",
    "                # Each line is expected to be a JSON array of messages\n",
    "                messages = json.loads(line)\n",
    "                \n",
    "                # Ensure there are at least two messages: human and gpt\n",
    "                if len(messages) < 2:\n",
    "                    print(f\"Warning: Line {line_num} has less than 2 messages. Skipping.\")\n",
    "                    continue\n",
    "                \n",
    "                # Extract human and gpt messages\n",
    "                human_message = \"\"\n",
    "                gpt_message = \"\"\n",
    "                for msg in messages:\n",
    "                    if msg.get(\"from\") == \"human\":\n",
    "                        human_message = msg.get(\"value\", \"\").strip()\n",
    "                    elif msg.get(\"from\") == \"gpt\":\n",
    "                        gpt_message = msg.get(\"value\", \"\").strip()\n",
    "                \n",
    "                if not human_message or not gpt_message:\n",
    "                    print(f\"Warning: Line {line_num} is missing human or gpt message. Skipping.\")\n",
    "                    continue\n",
    "                \n",
    "                # Extract question and rationale\n",
    "                question = extract_question(human_message)\n",
    "                rationale = extract_rationale(gpt_message)\n",
    "                \n",
    "                if not question or not rationale:\n",
    "                    print(f\"Warning: Line {line_num} could not extract question or rationale. Skipping.\")\n",
    "                    continue\n",
    "                \n",
    "                # Create the new format\n",
    "                new_entry = {\n",
    "                    \"text\": f\"Q: {question}\\nA: {rationale}\"\n",
    "                }\n",
    "                \n",
    "                # Write to the new JSONL file\n",
    "                outfile.write(json.dumps(new_entry, ensure_ascii=False) + '\\n')\n",
    "            \n",
    "            except json.JSONDecodeError as e:\n",
    "                print(f\"Error decoding JSON on line {line_num}: {e}. Skipping.\")\n",
    "                continue\n",
    "\n",
    "    print(f\"Conversion complete. New file saved as '{output_file}'.\")\n",
    "\n",
    "if __name__ == \"__main__\":\n",
    "    input_jsonl = 'finetuning_data.jsonl'        # Existing file\n",
    "    output_jsonl = 'finetuning_data_new.jsonl'   # New file\n",
    "        \n",
    "    # Perform the conversion\n",
    "    convert_existing_jsonl(input_jsonl, output_jsonl)"
   ]
  },
  {
   "cell_type": "markdown",
   "metadata": {},
   "source": [
    "### Appending New Data"
   ]
  },
  {
   "cell_type": "code",
   "execution_count": 520,
   "metadata": {},
   "outputs": [],
   "source": [
    "import json\n",
    "import re\n",
    "import os\n",
    "\n",
    "def convert_correct_pairs_to_conversations(correct_pairs):\n",
    "    \"\"\"\n",
    "    Converts a list of correct_pairs to the new conversation format.\n",
    "    \n",
    "    Args:\n",
    "        correct_pairs (list): List of dictionaries with keys 'question', 'rationale', and 'answer'.\n",
    "    \n",
    "    Returns:\n",
    "        list: List of dictionaries in the format {\"text\": \"Q: ...\\nA: ...\"}\n",
    "    \"\"\"\n",
    "    new_conversations = []\n",
    "    for pair in correct_pairs:\n",
    "        question = pair.get('question', '').strip()\n",
    "        rationale = pair.get('rationale', '').strip()\n",
    "        \n",
    "        if not question or not rationale:\n",
    "            print(f\"Warning: Missing question or rationale in pair: {pair}. Skipping.\")\n",
    "            continue\n",
    "        \n",
    "        # Remove any trailing \"Answer: ...\" lines from the rationale\n",
    "        # This ensures that the rationale does not contain explicit \"Answer:\" labels\n",
    "        rationale_cleaned = re.sub(r'\\n*Answer:\\s*.*$', '', rationale, flags=re.IGNORECASE).strip()\n",
    "        \n",
    "        # Additionally, remove any \"Rationale:\" labels if present\n",
    "        rationale_cleaned = re.sub(r'^Rationale:\\s*', '', rationale_cleaned, flags=re.IGNORECASE).strip()\n",
    "        \n",
    "        # Create the new conversation format\n",
    "        convo = {\n",
    "            \"text\": f\"Q: {question}\\nA: {rationale_cleaned}\"\n",
    "        }\n",
    "        new_conversations.append(convo)\n",
    "    return new_conversations\n",
    "\n",
    "def append_conversations_to_jsonl(conversations, file_path='finetuning_data.jsonl'):\n",
    "    \"\"\"\n",
    "    Appends a list of conversations to an existing JSONL file in the desired format.\n",
    "    \n",
    "    Each conversation is a dict with 'text': 'Q: ...\\nA: ...'\n",
    "    This function ensures that any residual 'Answer:' labels are removed from the 'A: ...' section.\n",
    "    \n",
    "    Args:\n",
    "        conversations (list): List of conversations to append, each as {\"text\": \"Q: ...\\nA: ...\"}.\n",
    "        file_path (str): Path to the existing JSONL file.\n",
    "    \n",
    "    Returns:\n",
    "        None\n",
    "    \"\"\"\n",
    "    # Check if the file exists\n",
    "    if os.path.exists(file_path):\n",
    "        # Check if the file ends with a newline\n",
    "        with open(file_path, 'rb') as f:\n",
    "            try:\n",
    "                f.seek(-1, os.SEEK_END)\n",
    "                last_char = f.read(1)\n",
    "                if last_char != b'\\n':\n",
    "                    newline_needed = True\n",
    "                else:\n",
    "                    newline_needed = False\n",
    "            except OSError:\n",
    "                # File is empty\n",
    "                newline_needed = False\n",
    "    else:\n",
    "        # File does not exist; will be created\n",
    "        newline_needed = False\n",
    "\n",
    "    with open(file_path, 'a', encoding='utf-8') as f:\n",
    "        # If a newline is needed before appending, add it\n",
    "        if newline_needed:\n",
    "            f.write('\\n')\n",
    "        \n",
    "        for convo in conversations:\n",
    "            text = convo.get('text', '').strip()\n",
    "            \n",
    "            # Ensure that the text starts with \"Q: \" and contains \"A: \"\n",
    "            if not text.startswith(\"Q: \") or \"\\nA: \" not in text:\n",
    "                print(f\"Warning: Conversation does not follow the 'Q: ...\\nA: ...' format. Skipping: {convo}\")\n",
    "                continue\n",
    "            \n",
    "            # Split the text into Question and Answer parts\n",
    "            try:\n",
    "                q_part, a_part = text.split(\"\\nA: \", 1)\n",
    "            except ValueError:\n",
    "                print(f\"Warning: Unable to split 'Q' and 'A' parts. Skipping: {convo}\")\n",
    "                continue\n",
    "            \n",
    "            # Clean the Answer part by removing any \"Answer:\" labels if present\n",
    "            # Although it should already be cleaned, this is an extra safeguard\n",
    "            a_part_cleaned = re.sub(r'\\n*Answer:\\s*.*$', '', a_part, flags=re.IGNORECASE).strip()\n",
    "            a_part_cleaned = re.sub(r'^Answer:\\s*', '', a_part_cleaned, flags=re.IGNORECASE).strip()\n",
    "            \n",
    "            # Reconstruct the cleaned conversation text\n",
    "            new_text = f\"{q_part}\\nA: {a_part_cleaned}\"\n",
    "            \n",
    "            # Append the cleaned conversation to the list\n",
    "            processed_convo = {\"text\": new_text}\n",
    "            \n",
    "            # Serialize and write to the file\n",
    "            json_line = json.dumps(processed_convo, ensure_ascii=False)\n",
    "            f.write(json_line + '\\n')\n",
    "    \n",
    "    print(f\"Successfully appended {len(conversations)} conversations to '{file_path}'.\")"
   ]
  },
  {
   "cell_type": "code",
   "execution_count": 645,
   "metadata": {},
   "outputs": [
    {
     "name": "stdout",
     "output_type": "stream",
     "text": [
      "Successfully appended 6 conversations to 'finetuning_data_new.jsonl'.\n"
     ]
    }
   ],
   "source": [
    "new_conversations = convert_correct_pairs_to_conversations(correct_pairs)\n",
    "    \n",
    "    # Append to the new JSONL file\n",
    "append_conversations_to_jsonl(new_conversations, 'finetuning_data_new.jsonl')"
   ]
  },
  {
   "cell_type": "markdown",
   "metadata": {},
   "source": [
    "### Data split"
   ]
  },
  {
   "cell_type": "code",
   "execution_count": 635,
   "metadata": {},
   "outputs": [],
   "source": [
    "import json\n",
    "import random\n",
    "\n",
    "def split_jsonl_file(input_file, output_train, output_valid, output_test):\n",
    "    # Load the jsonl file\n",
    "    with open(input_file, 'r') as f:\n",
    "        data = [json.loads(line) for line in f]\n",
    "\n",
    "    # Shuffle the data to ensure random distribution\n",
    "    random.shuffle(data)\n",
    "\n",
    "    # Calculate split indices for 90% train, 5% valid, 5% test\n",
    "    train_split = int(0.90 * len(data))\n",
    "    valid_split = int(0.95 * len(data))\n",
    "\n",
    "    # Split the data\n",
    "    train_data = data[:train_split]\n",
    "    valid_data = data[train_split:valid_split]\n",
    "    test_data = data[valid_split:]\n",
    "\n",
    "    # Write the data into their respective jsonl files\n",
    "    with open(output_train, 'w') as f:\n",
    "        for item in train_data:\n",
    "            f.write(json.dumps(item) + '\\n')\n",
    "\n",
    "    with open(output_valid, 'w') as f:\n",
    "        for item in valid_data:\n",
    "            f.write(json.dumps(item) + '\\n')\n",
    "\n",
    "    with open(output_test, 'w') as f:\n",
    "        for item in test_data:\n",
    "            f.write(json.dumps(item) + '\\n')\n",
    "\n",
    "# Example usage\n",
    "split_jsonl_file('finetuning_data_new.jsonl', 'train.jsonl', 'valid.jsonl', 'test.jsonl')"
   ]
  },
  {
   "cell_type": "code",
   "execution_count": null,
   "metadata": {},
   "outputs": [],
   "source": []
  }
 ],
 "metadata": {
  "kernelspec": {
   "display_name": ".venv",
   "language": "python",
   "name": "python3"
  },
  "language_info": {
   "codemirror_mode": {
    "name": "ipython",
    "version": 3
   },
   "file_extension": ".py",
   "mimetype": "text/x-python",
   "name": "python",
   "nbconvert_exporter": "python",
   "pygments_lexer": "ipython3",
   "version": "3.11.8"
  }
 },
 "nbformat": 4,
 "nbformat_minor": 2
}
