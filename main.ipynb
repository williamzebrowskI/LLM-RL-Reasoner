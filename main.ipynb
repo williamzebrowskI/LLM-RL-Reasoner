{
 "cells": [
  {
   "cell_type": "code",
   "execution_count": 1,
   "metadata": {},
   "outputs": [
    {
     "name": "stderr",
     "output_type": "stream",
     "text": [
      "/Users/williamzebrowski/LLM-RL-Reasoner/.venv/lib/python3.11/site-packages/tqdm/auto.py:21: TqdmWarning: IProgress not found. Please update jupyter and ipywidgets. See https://ipywidgets.readthedocs.io/en/stable/user_install.html\n",
      "  from .autonotebook import tqdm as notebook_tqdm\n"
     ]
    }
   ],
   "source": [
    "import re\n",
    "import ollama\n",
    "from src.data_loading import load_data\n",
    "from src.parsing import parse_options\n",
    "from src.rationale_generation import generate_rationale_and_answer\n",
    "from src.utils import is_rationale_correct\n",
    "from src.rationalization import rationalize\n",
    "from src.prompt_generation import create_prompt_examples, create_prompt_set, clean_options, get_correct_answer_text"
   ]
  },
  {
   "cell_type": "code",
   "execution_count": 596,
   "metadata": {},
   "outputs": [],
   "source": [
    "NUM_PROMPT_EXAMPLES = 5 # number of prompt examples\n",
    "NUM_EXAMPLES_TO_PROCESS = 10 # number of examples to process"
   ]
  },
  {
   "cell_type": "markdown",
   "metadata": {},
   "source": [
    "### Load Dataset"
   ]
  },
  {
   "cell_type": "code",
   "execution_count": 597,
   "metadata": {},
   "outputs": [
    {
     "name": "stdout",
     "output_type": "stream",
     "text": [
      "Dataset({\n",
      "    features: ['question', 'options', 'rationale', 'correct'],\n",
      "    num_rows: 10\n",
      "})\n"
     ]
    }
   ],
   "source": [
    "ds_train = load_data()\n",
    "\n",
    "# Step 1: Select the desired range from ds_train\n",
    "dataset_D = ds_train.select(range(NUM_PROMPT_EXAMPLES, len(ds_train)))\n",
    "\n",
    "# Step 2: Shuffle the selected dataset\n",
    "dataset_D_shuffled = dataset_D.shuffle()  # Use any seed you prefer\n",
    "\n",
    "# Step 3: Select a subset of examples to process\n",
    "dataset_D_subset = dataset_D_shuffled.select(range(NUM_EXAMPLES_TO_PROCESS))\n",
    "\n",
    "print(dataset_D_subset)"
   ]
  },
  {
   "cell_type": "markdown",
   "metadata": {},
   "source": [
    "### Create prompt examples"
   ]
  },
  {
   "cell_type": "code",
   "execution_count": 598,
   "metadata": {},
   "outputs": [
    {
     "data": {
      "text/plain": [
       "[{'question': \"Two friends plan to walk along a 43-km trail, starting at opposite ends of the trail at the same time. If Friend P's rate is 15% faster than Friend Q's, how many kilometers will Friend P have walked when they pass each other?\",\n",
       "  'rationale': 'If Q complete x kilometers, then P completes 1.15x kilometers.\\nx + 1.15x = 43\\n2.15x=43\\nx = 43/2.15 = 20\\nThen P will have have walked 1.15*20=23 km.\\nThe answer is E.',\n",
       "  'answer': 'E'},\n",
       " {'question': 'In the coordinate plane, points (x, 1) and (5, y) are on line k. If line k passes through the origin and has slope 1/5, then what are the values of x and y respectively?',\n",
       "  'rationale': 'Line k passes through the origin and has slope 1/5 means that its equation is y=1/5*x.\\nThus: (x, 1)=(5, 1) and (5, y) = (5,1) -->x=5 and y=1\\nAnswer: C',\n",
       "  'answer': 'C'},\n",
       " {'question': 'For all numbers p and q, the operation @ is defined by p@q = p^2 - pq. If xy ≠ 0, then which of the following can be equal to zero?\\nI. x@y\\nII. (xy)@y\\nIII. x@(x + y)',\n",
       "  'rationale': 'p@q = p^2 - pq=p(p-q).... so p@q will be zero if p=q or p=0.. but a cannot be equal to 0.. as per Q, x and y can take any int value except 0...\\nnow lets look at the choices..\\nwhen x=y, it will be 0... so ok...\\nwhen we put xy=y, it is possible when x=1 and y any integer... so ok again\\nwhen we put x=x+y.... only possibility when y=0 and it is given x and y cannot be 0....so not possible\\nonly l and ll possible ans B....',\n",
       "  'answer': 'B'},\n",
       " {'question': 'Carl is facing very difficult financial times and can only pay the interest on a $10,000 loan he has taken. The bank charges him a quarterly compound rate of 4%. What is the approximate interest he pays annually?',\n",
       "  'rationale': 'Usually, you are given the annual rate of interest and it is mentioned that it is annual rate.\\nThe bank charges him a quarterly compounded ANNUAL rate of 16%.\\nHere you find per quarter rate as (16/4)% = 4%\\nI have actually never seen a question with quarter rate given but since this question did not mentionannual rate of interestand since the options did not make sense with 4% annual rate of interest, it is apparent that the intent was a 4% quarterly rate. So the bank charges 4% every quarter and compounds it in the next quarter. Had it been a simple quarterly rate, we would have just found 4 * 4% of 10,000 = $1600 as our answer.\\nBut since, the interest is compounded, it will be a bit more than $1600. Option (A) looks correct.',\n",
       "  'answer': 'A'},\n",
       " {'question': 'The speed at which a man can row a boat in still water is 25 kmph. If he rows downstream, where the speed of current is 11 kmph, what time will he take to cover 80 metres?',\n",
       "  'rationale': 'Speed of the boat downstream = 25 +11\\n= 36 kmph\\n= 36 * 5/18 = 10 m/s\\nHence time taken to cover 80 m = 80/10\\n= 8 seconds.\\nAnswer:E',\n",
       "  'answer': 'E'}]"
      ]
     },
     "execution_count": 598,
     "metadata": {},
     "output_type": "execute_result"
    }
   ],
   "source": [
    "prompt_examples = create_prompt_examples(ds_train, NUM_PROMPT_EXAMPLES)\n",
    "\n",
    "prompt_examples"
   ]
  },
  {
   "cell_type": "markdown",
   "metadata": {},
   "source": [
    "### Create Prompt Sets"
   ]
  },
  {
   "cell_type": "code",
   "execution_count": 599,
   "metadata": {},
   "outputs": [
    {
     "name": "stdout",
     "output_type": "stream",
     "text": [
      "Question: Two friends plan to walk along a 43-km trail, starting at opposite ends of the trail at the same time. If Friend P's rate is 15% faster than Friend Q's, how many kilometers will Friend P have walked when they pass each other?\n",
      "Answer Explanation: If Q complete x kilometers, then P completes 1.15x kilometers.\\nx + 1.15x = 43\\n2.15x=43\\nx = 43/2.15 = 20\\nThen P will have have walked 1.15*20=23 km.\\nThe answer is E.\n",
      "Answer: 23\n",
      "###\n",
      "Question: In the coordinate plane, points (x, 1) and (5, y) are on line k. If line k passes through the origin and has slope 1/5, then what are the values of x and y respectively?\n",
      "Answer Explanation: Line k passes through the origin and has slope 1/5 means that its equation is y=1/5*x.\\nThus: (x, 1)=(5, 1) and (5, y) = (5,1) -->x=5 and y=1\\nAnswer: C\n",
      "Answer: 5 and 1\n",
      "###\n",
      "Question: For all numbers p and q, the operation @ is defined by p@q = p^2 - pq. If xy ≠ 0, then which of the following can be equal to zero?\n",
      "I. x@y\n",
      "II. (xy)@y\n",
      "III. x@(x + y)\n",
      "Answer Explanation: p@q = p^2 - pq=p(p-q).... so p@q will be zero if p=q or p=0.. but a cannot be equal to 0.. as per Q, x and y can take any int value except 0...\\nnow lets look at the choices..\\nwhen x=y, it will be 0... so ok...\\nwhen we put xy=y, it is possible when x=1 and y any integer... so ok again\\nwhen we put x=x+y.... only possibility when y=0 and it is given x and y cannot be 0....so not possible\\nonly l and ll possible ans B....\n",
      "Answer: I and II\n",
      "###\n",
      "Question: Carl is facing very difficult financial times and can only pay the interest on a $10,000 loan he has taken. The bank charges him a quarterly compound rate of 4%. What is the approximate interest he pays annually?\n",
      "Answer Explanation: Usually, you are given the annual rate of interest and it is mentioned that it is annual rate.\\nThe bank charges him a quarterly compounded ANNUAL rate of 16%.\\nHere you find per quarter rate as (16/4)% = 4%\\nI have actually never seen a question with quarter rate given but since this question did not mentionannual rate of interestand since the options did not make sense with 4% annual rate of interest, it is apparent that the intent was a 4% quarterly rate. So the bank charges 4% every quarter and compounds it in the next quarter. Had it been a simple quarterly rate, we would have just found 4 * 4% of 10,000 = $1600 as our answer.\\nBut since, the interest is compounded, it will be a bit more than $1600. Option (A) looks correct.\n",
      "Answer: $1600\n",
      "###\n",
      "Question: The speed at which a man can row a boat in still water is 25 kmph. If he rows downstream, where the speed of current is 11 kmph, what time will he take to cover 80 metres?\n",
      "Answer Explanation: Speed of the boat downstream = 25 +11\\n= 36 kmph\\n= 36 * 5/18 = 10 m/s\\nHence time taken to cover 80 m = 80/10\\n= 8 seconds.\\nAnswer:E\n",
      "Answer: 8 seconds\n",
      "###\n",
      "\n"
     ]
    }
   ],
   "source": [
    "prompt_set = create_prompt_set(ds_train, NUM_PROMPT_EXAMPLES)\n",
    "print(prompt_set)"
   ]
  },
  {
   "cell_type": "markdown",
   "metadata": {},
   "source": [
    "### Initialize lists to hold correct and incorrect pairs"
   ]
  },
  {
   "cell_type": "code",
   "execution_count": 600,
   "metadata": {},
   "outputs": [],
   "source": [
    "correct_pairs = []\n",
    "incorrect_pairs = []\n",
    "unanswered_paris = []"
   ]
  },
  {
   "cell_type": "markdown",
   "metadata": {},
   "source": [
    "### Iterate over each example in the subset"
   ]
  },
  {
   "cell_type": "code",
   "execution_count": 601,
   "metadata": {},
   "outputs": [],
   "source": [
    "def extract_answer_text(rationale):\n",
    "    \"\"\"\n",
    "    Extracts the answer text from the rationale using regex.\n",
    "    \n",
    "    Args:\n",
    "        rationale (str): Generated rationale string.\n",
    "    \n",
    "    Returns:\n",
    "        str or None: Extracted answer text if found, else None.\n",
    "    \"\"\"\n",
    "    # Attempt to extract the answer text after 'Answer:'\n",
    "    match = re.search(r'Answer:\\s*(.+)', rationale, re.IGNORECASE)\n",
    "    if match:\n",
    "        return match.group(1)\n",
    "    return None"
   ]
  },
  {
   "cell_type": "code",
   "execution_count": 602,
   "metadata": {},
   "outputs": [
    {
     "name": "stdout",
     "output_type": "stream",
     "text": [
      "correct_answer_text: II and III only\n",
      "clean options: ['A) None', 'B) I only', 'C) II only', 'D) II and III only', 'E) I, II, and III']\n",
      "extracted answer: None\n",
      "incorrect\n",
      "Incorrect: {'question': 'If two sides of a triangle have lengths 3 and 7, which of the following could be the perimeter of the triangle?\\nI. 9\\nII. 15\\nIII. 19', 'rationale': \"To determine the possible perimeters of the triangle, we need to consider the properties of triangles.\\n\\nStep 1: Recall the Triangle Inequality Theorem.\\nThe Triangle Inequality Theorem states that for any triangle with sides a, b, and c, the sum of the lengths of any two sides must be greater than the length of the remaining side. Mathematically, this can be expressed as:\\n\\na + b > c\\nb + c > a\\nc + a > b\\n\\nStep 2: Apply the Triangle Inequality Theorem to find possible values for the third side.\\nGiven that two sides have lengths 3 and 7, we know that the third side must satisfy the inequalities.\\n\\nSince 3 + 7 = 10, we can say that the third side must be less than 10. We can also determine that the third side cannot be greater than or equal to 3 or 7 since those would violate the triangle inequality for the respective pair of sides.\\n\\nStep 3: Consider possible perimeters based on combinations of side lengths.\\nLet's examine each possibility:\\n\\n- Option I (Perimeter = 9)\\nIf we assume one side is x, then 3 + 7 > x. Therefore, the third side must be less than 10. The smallest whole number value for the third side that satisfies this condition is 8 (since it cannot be greater than or equal to 3). Thus, if the sides were 3, 7, and 8, the perimeter would indeed be 18. However, we need to check other combinations as well.\\n\\nLet's calculate with another combination where the third side is 5. In this case, x = 5; therefore, 9 (the sum of all three sides) cannot be a valid answer for the given option I because it doesn't follow our previously derived conclusion.\\n\\n\\nStep 4: Further analysis and elimination.\\nSimilarly, we should eliminate options II and III if any possible combination of side lengths gives us those perimeters.\\n\\nFor instance, if x = 6, then 3 + 7 > 6 holds true. Therefore the perimeter is 16, not 15. And finally for x = 9, it violates the Triangle Inequality Theorem since 3+7 < 9 doesn't hold true.\\n\\n\\nStep 5: Now that we know none of the options meet the possible perimeter criteria based on the above analysis and elimination process we get our answer.\\n\\nAnswer: None\", 'answer': 'None'}\n",
      "Processed 1 questions.\n",
      "\n",
      "correct_answer_text: 5:3\n",
      "clean options: ['A) 3:5', 'B) 5:3', 'C) 2:5', 'D) 2:3', 'E) None of the above']\n",
      "extracted answer: None\n",
      "correct\n",
      "Correct: {'question': 'In what ratio tea of Rs.80 per kg be mixed with 12kg tea of Rs.64 per kg, so thai cost price of mixture is Rs.74 per kg?', 'rationale': \"To find the ratio in which the tea of Rs.80 per kg should be mixed with the tea of Rs.64 per kg to get a mixture costing Rs.74 per kg, let's consider the total weight of the mixture as 12x kg.\\n\\nThe cost price of the mixture is given by the formula: (Cost Price) = (Weight of Tea 1 × Cost Price of Tea 1 + Weight of Tea 2 × Cost Price of Tea 2) / Total Weight\\n\\nSubstituting the values, we get:\\n74 = (80 × 12x) + (64 × x) / (12x)\\n\\nSimplifying this equation, we get:\\n74(12x) = 960x^2 + 64x\\n888x = 960x^2 + 64x\\n\\nRearranging the terms to form a quadratic equation in x, we have:\\n960x^2 - 824x = 0\\nx(960x - 824) = 0\\nEither x = 0 or x = 826/960 which simplifies to x = 41/48\\n\\nThis value of x represents the ratio of the mixture. However, we are looking for the ratio in which tea of Rs.80 per kg should be mixed with the tea of Rs.64 per kg.\\n\\nSo, let's take tea of Rs.80 per kg as Tea A and tea of Rs.64 per kg as Tea B. The problem asks us to find the ratio in which Tea A is mixed with Tea B.\\n\\nLet the weight of Tea A be x kg and the weight of Tea B be (12x) - x = 11x kg\\n\\nThe cost price of the mixture is given by:\\n74 = ((80 × x) + (64 × 11x)) / 12x\\n74(12x) = 80x + 704x\\n888x = 784x\\n4x = 0\\nThis result shows that there must be an error in our steps as we cannot have a weight of zero.\\n\\nHowever, let's analyze the equation 960x^2 - 824x = 0 to find another valid solution. Factoring out x from this equation gives us:\\nx(960x - 824) = 0\\n\\nThis factors into two solutions: x = 0 or (960x - 824) = 0, where the second factor is a quadratic in disguise.\\n\\nSolving for the second factor by setting it equal to zero yields:\\n960x - 824 = 0\\n960x = 824\\nx = 17/60\\n\\nHowever, this value of x will still give us a weight of zero when multiplied by either Tea A or Tea B. Therefore, our initial approach has not produced any valid solutions.\\n\\nLet's reconsider the formula for the cost price of the mixture:\\n74 = (80 × 12x) + (64 × x) / (12x)\\n\\nWe want to find the ratio in which tea of Rs.80 per kg is mixed with tea of Rs.64 per kg to get a mixture costing Rs.74 per kg.\\n\\nThe correct approach would be to treat the cost price of the mixture as an average, and calculate it as follows:\\n\\nCost Price = ((Cost Price of Tea A × Weight of Tea A + Cost Price of Tea B × Weight of Tea B) / Total Weight)\\n= ((80 × x) + (64 × 12x)) / (12x)\\n\\nThis simplifies to:\\n74 = 80 + (64 × 11x) / (12x)\\n74(12x) - 80(12x) = 704x\\n888x - 960x = 0\\n-72x = 0\\n\\nThis result is incorrect, indicating an error in the reasoning. The actual calculation of the cost price should have been done differently.\\n\\nThe correct calculation for the mixture's cost price should be:\\nCost Price = (Weight of Tea A × Cost Price of Tea A + Weight of Tea B × Cost Price of Tea B) / Total Weight\\n= ((80x + 64(12x - x)) / (12x)\\n= ((80x + 544x) / (12x)\\n\\nThis results in:\\nCost Price = (624x / 12x\\n= 52\\n\\nHowever, this result does not match the given mixture's cost price of Rs.74 per kg.\\n\\nLet's revisit the initial equation to find a valid solution for x:\\n\\nCost Price = ((80 × x) + (64 × 11x)) / (12x)\\n74(12x) - (80 × x) = (640x) \\n888x-960x=72x\\nNow this will be correct:\\n96x=-72x\\n528x=-0\\n\\nThis equation is actually incorrect and results in a zero value for x.\\n\\nLet's re-examine the original problem statement to determine if there was an oversight. Upon reviewing it again, we can find that the cost price of the mixture has not been calculated correctly due to an error in manipulating the formula for the average.\\n\\nThe initial setup should have been:\\n(80x + 64(12x - x)) = 74(12x)\\n\\nThis simplifies to:\\n(80x + 64 × 11x) = 888x\\n624x = 888x\\n\\nSolving for this, we get:\\n-264x = 0\\n\\nHowever, this yields an incorrect result.\\n\\nThe mistake was in the manipulation of the formula to find the cost price of the mixture.\\n\\nTo correctly solve this problem, let's reevaluate the given information and recalculate the ratio:\\n\\nCost Price = ((80 × x) + (64 × 11x)) / 12x\\n74(12x) - (80 × x) = (640x)\\n888x-960x=72x\\n\\nThis simplifies to:\\n96x=-72x\\n\\nThe calculation of the cost price was incorrect, and this error led us down a path where we incorrectly assumed that x would be 0.\\n\\nTo calculate the correct ratio, let's start again from the beginning:\\n\\nCost Price = ((80 × x) + (64 × 11x)) / 12x\\n74(12x) - (80 × x) = 888x-960x\\n\\nHowever, we cannot have a negative value for this calculation. Therefore, our initial approach was incorrect.\\n\\nLet's reconsider the equation:\\n960x^2 - 824x = 0\\n\\nWe should not assume that x is zero when there are other solutions to the quadratic equation.\\n\\nUpon re-examining the steps and recalculating the values, we realize that the original problem statement has been misinterpreted.\\n\\nLet's calculate the correct ratio by considering the given information again:\\n\\nCost Price of Tea A = Rs.80 per kg\\nWeight of Tea A = x kg\\nCost Price of Tea B = Rs.64 per kg\\nWeight of Tea B = (12x - x) = 11x kg\\n\\nThe problem asks us to find the correct ratio in which tea of Rs.80 per kg should be mixed with tea of Rs.64 per kg.\\n\\nTo correctly calculate this ratio, we must re-evaluate our initial equation:\\n74(12x) = 80x + (64 × 11x)\\n\\nThis simplifies to:\\n888x - 960x = 0\\n96x=-72x\\n\\nThe cost price calculation was initially incorrect. We should not have used the values given in this equation.\\n\\nHowever, we can re-evaluate our approach by considering the ratio of tea A to tea B:\\n\\nLet's assume Tea A has x kg and Tea B has (12x - x) = 11x kg\\n\\nCost Price of the Mixture = Cost Price of Tea A × Weight of Tea A + Cost Price of Tea B × Weight of Tea B\\n= ((80 × x) + (64 × 11x)) / (12x)\\n74(12x) = (80x + (640x))\\n888x-960x=72x\\n\\nThis calculation is still incorrect.\\n\\nUpon reviewing our steps, we can see that the cost price was calculated incorrectly due to an error in manipulating the formula for the average.\\n\\nLet's re-examine the initial setup and correctly calculate the ratio:\\n\\nCost Price = ((80 × x) + (64 × 11x)) / (12x)\\n74(12x) - (80 × x) = 888x-960x\\n96x=-72x\\n\\nHowever, this is still incorrect.\\n\\nThe correct calculation of the cost price should be done using a different approach.\", 'answer': None}\n",
      "Processed 2 questions.\n",
      "\n",
      "correct_answer_text: 1/3\n",
      "clean options: ['A) 1/5', 'B) 1/3', 'C) 3/7', 'D) 2/7', 'E) 3/7']\n",
      "extracted answer: 1/3\n",
      "correct\n",
      "Correct: {'question': 'A family has two children. find the probability that both the children are girls given that at least\\none of them is a girl?', 'rationale': 'To solve this problem, we need to calculate the probabilities step by step.\\n\\nStep 1: Calculate the total number of possible outcomes for the gender of the two children.\\n\\nSince each child can be either a boy or a girl, there are 2 possibilities for each child. Therefore, the total number of possible outcomes is:\\n\\nTotal outcomes = Number of outcomes for the first child × Number of outcomes for the second child\\n= 2 × 2\\n= 4\\n\\nStep 2: Calculate the number of favorable outcomes where at least one of the children is a girl.\\n\\nThis includes scenarios where exactly one of the children is a girl and where both children are girls.\\n\\n- Exactly one girl: There are two possibilities here - either the first child is a girl and the second is a boy, or vice versa.\\n  - Girl then Boy (GB): 1 × 1 = 1\\n  - Boy then Girl (BG): 1 × 1 = 1\\n  Total favorable outcomes for exactly one girl = GB + BG = 2\\n\\n- Both girls: There is only 1 way for both children to be girls.\\n  - GG: 1 × 1 = 1\\n\\nTotal favorable outcomes = Favorable outcomes for exactly one girl + Favorable outcomes for both girls\\n= 2 + 1\\n= 3\\n\\nStep 3: Calculate the probability that at least one of the children is a girl.\\n\\nProbability = Number of favorable outcomes / Total number of possible outcomes\\n= 3 / 4\\n\\nHowever, we are specifically asked to find the probability that both the children are girls given that at least one of them is a girl. This requires us to consider the conditional probability:\\n\\nConditional Probability = (Number of favorable outcomes for both girls) / (Total favorable outcomes)\\n= 1 / 3\\n\\nAnswer: 1/3', 'answer': '1/3'}\n",
      "Processed 3 questions.\n",
      "\n",
      "correct_answer_text: $844.10\n",
      "clean options: ['A) $844.10', 'B) $895.90', 'C) $1,055.70', 'D) $1,135.60', 'E) $1,263.10']\n",
      "extracted answer: No possible answer.\n",
      "incorrect\n",
      "Incorrect: {'question': 'If the price of a computer were reduced by 15 percent, which of the following could not be the final price of the computer? (Assume initial price to be integer in cents)', 'rationale': \"To solve this problem, we will first determine the possible final prices after a 15% reduction and then identify which of the given options cannot be the final price.\\n\\nStep 1: Calculate the amount by which the price is reduced.\\nThe price is reduced by 15%, which means that the final price is 85% of the initial price. This can also be expressed as (100 - 15) = 85% or a reduction of $0.15 per dollar.\\n\\nStep 2: Determine the relationship between the initial and final prices.\\nIf the initial price is reduced by $0.15, then the final price will be $0.85 for each dollar of the initial price. This can also be expressed as a fraction: $\\\\frac{4}{5}$ or 80%.\\n\\nStep 3: Consider possible scenarios where the final price is not an integer.\\nFor the final price to be non-integer (in cents), we need to consider the multiples of 0.85.\\n\\nMultiplying any number by 0.85 will result in a value that ends in .35, which means it's always going to have .35 in its decimal part and thus never be an integer.\\n\\nStep 4: Determine the final price.\\nGiven this information, we can conclude that there is no specific final price for the computer after applying the reduction of 15%, other than stating that it will not be an integer due to the multiplication factor of 0.85.\\n\\n\\n\\nAnswer: No possible answer.\", 'answer': 'No possible answer.'}\n",
      "Processed 4 questions.\n",
      "\n",
      "correct_answer_text: 40\n",
      "clean options: ['A) 28', 'B) 32', 'C) 40', 'D) 64', 'E) 68']\n",
      "extracted answer: 40\n",
      "correct\n",
      "Correct: {'question': 'The L.C.M. of two numbers is 48. The numbers are in the ratio 2 : 3. Then sum of the number is:\\n.', 'rationale': \"To solve this problem, let's follow a step-by-step process:\\n\\nStep 1: Understand that the two numbers are in the ratio 2:3, which means we can represent them as 2x and 3x for some value of x.\\n\\nStep 2: The Least Common Multiple (LCM) of these two numbers is given as 48. We need to find a relationship between 2x, 3x, and their LCM.\\n\\nStep 3: The product of two numbers divided by their GCD (Greatest Common Divisor) gives us their LCM. Since the numbers are in the ratio 2:3, let's consider what happens if we multiply them together to get a multiple that is divisible by both numbers. If we take the smallest number as 2x and the larger one as 3x, it would seem like taking the least common multiple as 6x might work.\\n\\nStep 4: Since we know the LCM is 48, let's see if 6x could indeed equal 48 for some x. This is possible if we consider 6x = 48. Solving this equation gives us x = 8.\\n\\nStep 5: Now that we have the value of x as 8, we can find the actual numbers by substituting it back into our expressions for them (2x and 3x). Therefore, one number is 2*8 = 16, and the other is 3*8 = 24.\\n\\nStep 6: To get the sum of these two numbers, simply add them together: 16 + 24.\\n\\nLet's calculate this sum to find out what it is:\\n\\nSum = 16 + 24\\nSum = 40\\n\\nTherefore, the sum of the numbers is 40.\\n\\n\\nAnswer: 40\", 'answer': '40'}\n",
      "Processed 5 questions.\n",
      "\n",
      "correct_answer_text: 315\n",
      "clean options: ['A) 42', 'B) 70', 'C) 140', 'D) 165', 'E) 315']\n",
      "extracted answer: 315\n",
      "correct\n",
      "Correct: {'question': 'A certain university will select 1 of 7 candidates eligible to fill a position in the mathematics department and 2 of 10 candidates eligible to fill 2 identical positions in the computer science department. If none of the candidates is eligible for a position in both departments, how many different sets of 3 candidates are there to fill the 3 positions?', 'rationale': \"To find the number of different sets of 3 candidates that can be selected to fill the 3 positions, we need to calculate the total number of ways to select 1 candidate from 7 eligible for the mathematics department and 2 candidates from 10 eligible for the computer science department.\\n\\nFirst, let's consider the selection process in two steps:\\n\\nStep 1: Selecting 1 candidate from 7 eligible for the mathematics department\\nSince there are 7 candidates, any one of them can be selected. This gives us 7 choices.\\n\\nStep 2: Selecting 2 candidates from 10 eligible for the computer science department\\nWe need to select 2 candidates out of 10, where order doesn't matter (since we're filling identical positions). The number of ways to do this is given by the combination formula:\\n\\nC(n, r) = n! / [r!(n-r)!]\\n\\nwhere n is the total number of items to choose from (10 in this case), and r is the number of items to choose (2 in this case).\\n\\nPlugging in the values, we get:\\nC(10, 2) = 10! / [2!(10-2)!] = 10 * 9 / 2 = 45\\n\\nStep 3: Calculating the total number of sets\\nSince each selection from Step 1 can be paired with any selection from Step 2 (in terms of being a different set), we multiply the results from both steps to get the total number of different sets.\\n\\nTotal sets = Number of choices for mathematics department * Number of ways to select 2 candidates for computer science department\\n= 7 * 45\\n= 315\\n\\nTherefore, there are a total of 315 different sets of 3 candidates that can be selected to fill the 3 positions.\\n\\nAnswer: 315\", 'answer': '315'}\n",
      "Processed 6 questions.\n",
      "\n",
      "correct_answer_text: 36\n",
      "clean options: ['A) 15', 'B) 16', 'C) 19', 'D) 20', 'E) 36']\n",
      "extracted answer: 20\n",
      "incorrect\n",
      "Incorrect: {'question': 'A = {2, 3, 5, 7, 17}\\nB = {2, 4, 6, 13}\\nTwo integers will be randomly selected from sets A and B, one integer from set A and one from set B, and then multiplied together. How many different products can be obtained?', 'rationale': 'To find the number of different products that can be obtained, we need to consider all possible combinations of two integers, one from set A and one from set B.\\n\\nStep 1: List out the elements of sets A and B.\\nA = {2, 3, 5, 7, 17}\\nB = {2, 4, 6, 13}\\n\\nStep 2: Identify all possible pairs of integers, one from set A and one from set B.\\n\\nPossible pairs:\\n(2, 2), (2, 4), (2, 6), (2, 13)\\n(3, 2), (3, 4), (3, 6), (3, 13)\\n(5, 2), (5, 4), (5, 6), (5, 13)\\n(7, 2), (7, 4), (7, 6), (7, 13)\\n(17, 2), (17, 4), (17, 6), (17, 13)\\n\\nStep 3: Calculate the product for each pair.\\n\\nProducts:\\n(2, 2) = 4\\n(2, 4) = 8\\n(2, 6) = 12\\n(2, 13) = 26\\n(3, 2) = 6\\n(3, 4) = 12\\n(3, 6) = 18\\n(3, 13) = 39\\n(5, 2) = 10\\n(5, 4) = 20\\n(5, 6) = 30\\n(5, 13) = 65\\n(7, 2) = 14\\n(7, 4) = 28\\n(7, 6) = 42\\n(7, 13) = 91\\n(17, 2) = 34\\n(17, 4) = 68\\n(17, 6) = 102\\n(17, 13) = 221\\n\\nStep 4: Count the number of unique products.\\n\\nUnique products:\\n4, 8, 12, 26, 6, 12, 18, 39, 10, 20, 30, 65, 14, 28, 42, 91, 34, 68, 102, 221\\n\\nThere are 20 unique products.\\n\\nAnswer: 20', 'answer': '20'}\n",
      "Processed 7 questions.\n",
      "\n",
      "correct_answer_text: Three hours and 0 minutes.\n",
      "clean options: ['A) Two hours and 30 minutes.', 'B) One hour and 10 minutes.', 'C) Two hours and 25 minutes.', 'D) Three hours and 0 minutes.', 'E) Four hours and 20 minutes.']\n",
      "extracted answer: 3\n",
      "incorrect\n",
      "Incorrect: {'question': 'Two trains are traveling on a collision course. If train A is traveling at a speed of 350 mph and train B is traveling 28% slower, how much time will it take the trains to collide if the initial distance between the two is 1806 miles?', 'rationale': 'To find the speed of train B, we need to calculate 28% of the speed of train A and subtract it from the speed of train A.\\n\\nSpeed of train A = 350 mph\\n28% of 350 = (28/100) * 350 = 98\\n\\nSo, the speed of train B is:\\n350 - 98 = 252 mph\\n\\nThe relative speed of the two trains is the sum of their speeds:\\nRelative speed = Speed of train A + Speed of train B\\n= 350 + 252\\n= 602 mph\\n\\nNow, we can use the formula: Time = Distance / Relative speed to find the time it will take for the trains to collide.\\n\\nDistance between the trains = 1806 miles\\nTime = 1806 / 602 ≈ 3 hours\\n\\nAnswer: 3', 'answer': '3'}\n",
      "Processed 8 questions.\n",
      "\n",
      "correct_answer_text: 600 ways\n",
      "clean options: ['A) 657 ways', 'B) 600 ways', 'C) 345 ways', 'D) 876 ways', 'E) 415 ways']\n",
      "extracted answer: 3600\n",
      "incorrect\n",
      "Incorrect: {'question': 'A group consists of 4 men, 6 women and 5 children. In how many ways can 2 men , 3 women and 1 child selected from the given group?', 'rationale': 'To find the number of ways to select 2 men, 3 women, and 1 child from the given group, we need to calculate the combinations for each category separately and then multiply them together.\\n\\nStep 1: Selecting 2 men out of 4\\nWe can use the combination formula C(n, r) = n! / (r!(n-r)!) where n is the total number of items and r is the number of items to be chosen.\\nC(4, 2) = 4! / (2!(4-2)!)\\n= 24 / (2 x 2)\\n= 6\\n\\nStep 2: Selecting 3 women out of 6\\nUsing the same combination formula:\\nC(6, 3) = 6! / (3!(6-3)!)\\n= 720 / (6 x 6)\\n= 20\\n\\nStep 3: Selecting 1 child out of 5\\nAgain using the combination formula:\\nC(5, 1) = 5! / (1!(5-1)!)\\n= 120 / (1 x 4)\\n= 30\\n\\nNow that we have the combinations for each category, we can multiply them together to find the total number of ways to select 2 men, 3 women, and 1 child.\\n\\nTotal combinations = C(4, 2) x C(6, 3) x C(5, 1)\\n= 6 x 20 x 30\\n= 3600\\n\\nTherefore, there are 3600 different ways to select 2 men, 3 women, and 1 child from the given group.\\n\\nAnswer: 3600', 'answer': '3600'}\n",
      "Processed 9 questions.\n",
      "\n",
      "correct_answer_text: 5/9\n",
      "clean options: ['A) 1/3', 'B) 4/9', 'C) 5/9', 'D) 2/3', 'E) 3/4']\n",
      "extracted answer: $\\boxed{\\frac{1}{6}}$\n",
      "correct\n",
      "Correct: {'question': 'In Football game, one player throws two fair, six-sided die at the same time. If the player receives at least a five or a one on either die, that player wins. What is the probability that a player wins after playing the game once?', 'rationale': \"To find the probability of winning, we need to calculate the number of favorable outcomes (winning outcomes) and divide it by the total number of possible outcomes.\\n\\nThe player wins if he receives at least a five or a one on either die. Let's count the favorable outcomes:\\n\\n* The player can get 1 or 5 on either die (2 dice, each with 2 favorable faces). This gives us a total of 4 favorable outcomes: (1,1), (1,5), (5,1), and (5,5).\\n* However, we also need to consider the cases where both dice show the same number (either 1 or 5). In this case, there are two additional favorable outcomes: (1,1) and (5,5).\\n\\nThe total number of possible outcomes is 6 x 6 = 36 (since each die has 6 faces).\\n\\nNow, let's calculate the probability:\\n\\nNumber of favorable outcomes = 4 + 2 = 6\\nTotal number of possible outcomes = 36\\n\\nProbability of winning = Number of favorable outcomes / Total number of possible outcomes = 6/36 = 1/6\\n\\nTherefore, the probability that a player wins after playing the game once is 1/6.\\n\\nAnswer: $\\\\boxed{\\\\frac{1}{6}}$\", 'answer': '$\\\\boxed{\\\\frac{1}{6}}$'}\n",
      "Processed 10 questions.\n",
      "\n"
     ]
    }
   ],
   "source": [
    "for idx, example in enumerate(dataset_D_subset):\n",
    "    question = example['question']\n",
    "    # Map 'correct' label to answer text\n",
    "    raw_options = example['options']\n",
    "    cleaned_options = clean_options(raw_options)\n",
    "    correct_label = example['correct'].strip().upper()\n",
    "    correct_answer_text = get_correct_answer_text(cleaned_options, correct_label)\n",
    "\n",
    "    print(f\"correct_answer_text: {correct_answer_text}\")\n",
    "    print(f\"clean options: {cleaned_options}\")\n",
    "    \n",
    "    if correct_answer_text is None:\n",
    "        print(f\"Skipping example {idx} due to missing correct answer.\")\n",
    "        continue  # Skip this example\n",
    "    \n",
    "    # Generate rationale and answer\n",
    "    generated_rationale = generate_rationale_and_answer(question, prompt_set)\n",
    "    \n",
    "    # Extract the answer text from the rationale\n",
    "    extracted_answer = extract_answer_text(generated_rationale)\n",
    "    print(f\"extracted answer: {extracted_answer}\")\n",
    "\n",
    "    response = ollama.chat(model=\"llama3.1:8b\", messages=[\n",
    "            {\n",
    "                'role': 'user',\n",
    "                'content':\n",
    "                f\"\"\"\n",
    "                    Your task is to compare two numerical answers and determine if they are the same answer, ignoring differences in units or formatting.\\n\\n\n",
    "                    Comparison Rules:\\n\\n\n",
    "                    - If the answers are the same, for example, First Answer: '90' and Second Answer: '90 miles' or ( km, %, sec, ml, etc) this is a match and return 'correct' in your response.\\n\n",
    "                    - If the answers are different, consider them NOT a match and return 'incorrect' in your response.\\n\\n\n",
    "                    Ignore differences in formatting, such as trailing zeros.\\n\\n\n",
    "\n",
    "                    Compare the Following Answers:\\n\n",
    "                    First answer: {extracted_answer}\\n\n",
    "                    Second answer: {correct_answer_text}\\n\\n\n",
    "                    Respond with:\\n\n",
    "                    \"correct\" if the two answers are the same\\n\n",
    "                    \"incorrect\" if the two answers are not the same\\n\\n\n",
    "                    Please respond with only one of the above options, without any explanations.\n",
    "                \"\"\"\n",
    "            },\n",
    "     ])\n",
    "    \n",
    "    decision = response['message']['content'].strip()\n",
    "    print(decision)\n",
    "    \n",
    "    # Categorize based on extracted answer\n",
    "    if decision.lower() == \"correct\":\n",
    "        correct_pairs.append({\n",
    "            'question': question,\n",
    "            'rationale': generated_rationale,\n",
    "            'answer': extracted_answer\n",
    "        })\n",
    "        print('Correct:', {\n",
    "            'question': question,\n",
    "            'rationale': generated_rationale,\n",
    "            'answer': extracted_answer\n",
    "        })\n",
    "    elif decision.lower() == \"incorrect\":\n",
    "        incorrect_pairs.append({\n",
    "            'question': question,\n",
    "            'rationale': generated_rationale,\n",
    "            'answer': extracted_answer if extracted_answer else \"No Answer Extracted\"\n",
    "        })\n",
    "        print(\"Incorrect:\",  {\n",
    "            'question': question,\n",
    "            'rationale': generated_rationale,\n",
    "            'answer': extracted_answer if extracted_answer else \"No Answer Extracted\"\n",
    "        })\n",
    "    else:\n",
    "        unanswered_paris.append({\n",
    "            'question': question,\n",
    "            'rationale': generated_rationale,\n",
    "            'answer': extracted_answer if extracted_answer else \"No Answer Extracted\"\n",
    "        })\n",
    "        print(\"Unanswered:\",  {\n",
    "            'question': question,\n",
    "            'rationale': generated_rationale,\n",
    "            'answer': extracted_answer if extracted_answer else \"No Answer Extracted\"\n",
    "        })\n",
    "        \n",
    "\n",
    "    # Print progress every example\n",
    "    print(f\"Processed {idx + 1} questions.\\n\")"
   ]
  },
  {
   "cell_type": "code",
   "execution_count": 607,
   "metadata": {},
   "outputs": [
    {
     "data": {
      "text/plain": [
       "[{'question': 'In what ratio tea of Rs.80 per kg be mixed with 12kg tea of Rs.64 per kg, so thai cost price of mixture is Rs.74 per kg?',\n",
       "  'rationale': \"To find the ratio in which the tea of Rs.80 per kg should be mixed with the tea of Rs.64 per kg to get a mixture costing Rs.74 per kg, let's consider the total weight of the mixture as 12x kg.\\n\\nThe cost price of the mixture is given by the formula: (Cost Price) = (Weight of Tea 1 × Cost Price of Tea 1 + Weight of Tea 2 × Cost Price of Tea 2) / Total Weight\\n\\nSubstituting the values, we get:\\n74 = (80 × 12x) + (64 × x) / (12x)\\n\\nSimplifying this equation, we get:\\n74(12x) = 960x^2 + 64x\\n888x = 960x^2 + 64x\\n\\nRearranging the terms to form a quadratic equation in x, we have:\\n960x^2 - 824x = 0\\nx(960x - 824) = 0\\nEither x = 0 or x = 826/960 which simplifies to x = 41/48\\n\\nThis value of x represents the ratio of the mixture. However, we are looking for the ratio in which tea of Rs.80 per kg should be mixed with the tea of Rs.64 per kg.\\n\\nSo, let's take tea of Rs.80 per kg as Tea A and tea of Rs.64 per kg as Tea B. The problem asks us to find the ratio in which Tea A is mixed with Tea B.\\n\\nLet the weight of Tea A be x kg and the weight of Tea B be (12x) - x = 11x kg\\n\\nThe cost price of the mixture is given by:\\n74 = ((80 × x) + (64 × 11x)) / 12x\\n74(12x) = 80x + 704x\\n888x = 784x\\n4x = 0\\nThis result shows that there must be an error in our steps as we cannot have a weight of zero.\\n\\nHowever, let's analyze the equation 960x^2 - 824x = 0 to find another valid solution. Factoring out x from this equation gives us:\\nx(960x - 824) = 0\\n\\nThis factors into two solutions: x = 0 or (960x - 824) = 0, where the second factor is a quadratic in disguise.\\n\\nSolving for the second factor by setting it equal to zero yields:\\n960x - 824 = 0\\n960x = 824\\nx = 17/60\\n\\nHowever, this value of x will still give us a weight of zero when multiplied by either Tea A or Tea B. Therefore, our initial approach has not produced any valid solutions.\\n\\nLet's reconsider the formula for the cost price of the mixture:\\n74 = (80 × 12x) + (64 × x) / (12x)\\n\\nWe want to find the ratio in which tea of Rs.80 per kg is mixed with tea of Rs.64 per kg to get a mixture costing Rs.74 per kg.\\n\\nThe correct approach would be to treat the cost price of the mixture as an average, and calculate it as follows:\\n\\nCost Price = ((Cost Price of Tea A × Weight of Tea A + Cost Price of Tea B × Weight of Tea B) / Total Weight)\\n= ((80 × x) + (64 × 12x)) / (12x)\\n\\nThis simplifies to:\\n74 = 80 + (64 × 11x) / (12x)\\n74(12x) - 80(12x) = 704x\\n888x - 960x = 0\\n-72x = 0\\n\\nThis result is incorrect, indicating an error in the reasoning. The actual calculation of the cost price should have been done differently.\\n\\nThe correct calculation for the mixture's cost price should be:\\nCost Price = (Weight of Tea A × Cost Price of Tea A + Weight of Tea B × Cost Price of Tea B) / Total Weight\\n= ((80x + 64(12x - x)) / (12x)\\n= ((80x + 544x) / (12x)\\n\\nThis results in:\\nCost Price = (624x / 12x\\n= 52\\n\\nHowever, this result does not match the given mixture's cost price of Rs.74 per kg.\\n\\nLet's revisit the initial equation to find a valid solution for x:\\n\\nCost Price = ((80 × x) + (64 × 11x)) / (12x)\\n74(12x) - (80 × x) = (640x) \\n888x-960x=72x\\nNow this will be correct:\\n96x=-72x\\n528x=-0\\n\\nThis equation is actually incorrect and results in a zero value for x.\\n\\nLet's re-examine the original problem statement to determine if there was an oversight. Upon reviewing it again, we can find that the cost price of the mixture has not been calculated correctly due to an error in manipulating the formula for the average.\\n\\nThe initial setup should have been:\\n(80x + 64(12x - x)) = 74(12x)\\n\\nThis simplifies to:\\n(80x + 64 × 11x) = 888x\\n624x = 888x\\n\\nSolving for this, we get:\\n-264x = 0\\n\\nHowever, this yields an incorrect result.\\n\\nThe mistake was in the manipulation of the formula to find the cost price of the mixture.\\n\\nTo correctly solve this problem, let's reevaluate the given information and recalculate the ratio:\\n\\nCost Price = ((80 × x) + (64 × 11x)) / 12x\\n74(12x) - (80 × x) = (640x)\\n888x-960x=72x\\n\\nThis simplifies to:\\n96x=-72x\\n\\nThe calculation of the cost price was incorrect, and this error led us down a path where we incorrectly assumed that x would be 0.\\n\\nTo calculate the correct ratio, let's start again from the beginning:\\n\\nCost Price = ((80 × x) + (64 × 11x)) / 12x\\n74(12x) - (80 × x) = 888x-960x\\n\\nHowever, we cannot have a negative value for this calculation. Therefore, our initial approach was incorrect.\\n\\nLet's reconsider the equation:\\n960x^2 - 824x = 0\\n\\nWe should not assume that x is zero when there are other solutions to the quadratic equation.\\n\\nUpon re-examining the steps and recalculating the values, we realize that the original problem statement has been misinterpreted.\\n\\nLet's calculate the correct ratio by considering the given information again:\\n\\nCost Price of Tea A = Rs.80 per kg\\nWeight of Tea A = x kg\\nCost Price of Tea B = Rs.64 per kg\\nWeight of Tea B = (12x - x) = 11x kg\\n\\nThe problem asks us to find the correct ratio in which tea of Rs.80 per kg should be mixed with tea of Rs.64 per kg.\\n\\nTo correctly calculate this ratio, we must re-evaluate our initial equation:\\n74(12x) = 80x + (64 × 11x)\\n\\nThis simplifies to:\\n888x - 960x = 0\\n96x=-72x\\n\\nThe cost price calculation was initially incorrect. We should not have used the values given in this equation.\\n\\nHowever, we can re-evaluate our approach by considering the ratio of tea A to tea B:\\n\\nLet's assume Tea A has x kg and Tea B has (12x - x) = 11x kg\\n\\nCost Price of the Mixture = Cost Price of Tea A × Weight of Tea A + Cost Price of Tea B × Weight of Tea B\\n= ((80 × x) + (64 × 11x)) / (12x)\\n74(12x) = (80x + (640x))\\n888x-960x=72x\\n\\nThis calculation is still incorrect.\\n\\nUpon reviewing our steps, we can see that the cost price was calculated incorrectly due to an error in manipulating the formula for the average.\\n\\nLet's re-examine the initial setup and correctly calculate the ratio:\\n\\nCost Price = ((80 × x) + (64 × 11x)) / (12x)\\n74(12x) - (80 × x) = 888x-960x\\n96x=-72x\\n\\nHowever, this is still incorrect.\\n\\nThe correct calculation of the cost price should be done using a different approach.\",\n",
       "  'answer': None},\n",
       " {'question': 'A family has two children. find the probability that both the children are girls given that at least\\none of them is a girl?',\n",
       "  'rationale': 'To solve this problem, we need to calculate the probabilities step by step.\\n\\nStep 1: Calculate the total number of possible outcomes for the gender of the two children.\\n\\nSince each child can be either a boy or a girl, there are 2 possibilities for each child. Therefore, the total number of possible outcomes is:\\n\\nTotal outcomes = Number of outcomes for the first child × Number of outcomes for the second child\\n= 2 × 2\\n= 4\\n\\nStep 2: Calculate the number of favorable outcomes where at least one of the children is a girl.\\n\\nThis includes scenarios where exactly one of the children is a girl and where both children are girls.\\n\\n- Exactly one girl: There are two possibilities here - either the first child is a girl and the second is a boy, or vice versa.\\n  - Girl then Boy (GB): 1 × 1 = 1\\n  - Boy then Girl (BG): 1 × 1 = 1\\n  Total favorable outcomes for exactly one girl = GB + BG = 2\\n\\n- Both girls: There is only 1 way for both children to be girls.\\n  - GG: 1 × 1 = 1\\n\\nTotal favorable outcomes = Favorable outcomes for exactly one girl + Favorable outcomes for both girls\\n= 2 + 1\\n= 3\\n\\nStep 3: Calculate the probability that at least one of the children is a girl.\\n\\nProbability = Number of favorable outcomes / Total number of possible outcomes\\n= 3 / 4\\n\\nHowever, we are specifically asked to find the probability that both the children are girls given that at least one of them is a girl. This requires us to consider the conditional probability:\\n\\nConditional Probability = (Number of favorable outcomes for both girls) / (Total favorable outcomes)\\n= 1 / 3\\n\\nAnswer: 1/3',\n",
       "  'answer': '1/3'},\n",
       " {'question': 'The L.C.M. of two numbers is 48. The numbers are in the ratio 2 : 3. Then sum of the number is:\\n.',\n",
       "  'rationale': \"To solve this problem, let's follow a step-by-step process:\\n\\nStep 1: Understand that the two numbers are in the ratio 2:3, which means we can represent them as 2x and 3x for some value of x.\\n\\nStep 2: The Least Common Multiple (LCM) of these two numbers is given as 48. We need to find a relationship between 2x, 3x, and their LCM.\\n\\nStep 3: The product of two numbers divided by their GCD (Greatest Common Divisor) gives us their LCM. Since the numbers are in the ratio 2:3, let's consider what happens if we multiply them together to get a multiple that is divisible by both numbers. If we take the smallest number as 2x and the larger one as 3x, it would seem like taking the least common multiple as 6x might work.\\n\\nStep 4: Since we know the LCM is 48, let's see if 6x could indeed equal 48 for some x. This is possible if we consider 6x = 48. Solving this equation gives us x = 8.\\n\\nStep 5: Now that we have the value of x as 8, we can find the actual numbers by substituting it back into our expressions for them (2x and 3x). Therefore, one number is 2*8 = 16, and the other is 3*8 = 24.\\n\\nStep 6: To get the sum of these two numbers, simply add them together: 16 + 24.\\n\\nLet's calculate this sum to find out what it is:\\n\\nSum = 16 + 24\\nSum = 40\\n\\nTherefore, the sum of the numbers is 40.\\n\\n\\nAnswer: 40\",\n",
       "  'answer': '40'},\n",
       " {'question': 'A certain university will select 1 of 7 candidates eligible to fill a position in the mathematics department and 2 of 10 candidates eligible to fill 2 identical positions in the computer science department. If none of the candidates is eligible for a position in both departments, how many different sets of 3 candidates are there to fill the 3 positions?',\n",
       "  'rationale': \"To find the number of different sets of 3 candidates that can be selected to fill the 3 positions, we need to calculate the total number of ways to select 1 candidate from 7 eligible for the mathematics department and 2 candidates from 10 eligible for the computer science department.\\n\\nFirst, let's consider the selection process in two steps:\\n\\nStep 1: Selecting 1 candidate from 7 eligible for the mathematics department\\nSince there are 7 candidates, any one of them can be selected. This gives us 7 choices.\\n\\nStep 2: Selecting 2 candidates from 10 eligible for the computer science department\\nWe need to select 2 candidates out of 10, where order doesn't matter (since we're filling identical positions). The number of ways to do this is given by the combination formula:\\n\\nC(n, r) = n! / [r!(n-r)!]\\n\\nwhere n is the total number of items to choose from (10 in this case), and r is the number of items to choose (2 in this case).\\n\\nPlugging in the values, we get:\\nC(10, 2) = 10! / [2!(10-2)!] = 10 * 9 / 2 = 45\\n\\nStep 3: Calculating the total number of sets\\nSince each selection from Step 1 can be paired with any selection from Step 2 (in terms of being a different set), we multiply the results from both steps to get the total number of different sets.\\n\\nTotal sets = Number of choices for mathematics department * Number of ways to select 2 candidates for computer science department\\n= 7 * 45\\n= 315\\n\\nTherefore, there are a total of 315 different sets of 3 candidates that can be selected to fill the 3 positions.\\n\\nAnswer: 315\",\n",
       "  'answer': '315'},\n",
       " {'question': 'In Football game, one player throws two fair, six-sided die at the same time. If the player receives at least a five or a one on either die, that player wins. What is the probability that a player wins after playing the game once?',\n",
       "  'rationale': \"To find the probability of winning, we need to calculate the number of favorable outcomes (winning outcomes) and divide it by the total number of possible outcomes.\\n\\nThe player wins if he receives at least a five or a one on either die. Let's count the favorable outcomes:\\n\\n* The player can get 1 or 5 on either die (2 dice, each with 2 favorable faces). This gives us a total of 4 favorable outcomes: (1,1), (1,5), (5,1), and (5,5).\\n* However, we also need to consider the cases where both dice show the same number (either 1 or 5). In this case, there are two additional favorable outcomes: (1,1) and (5,5).\\n\\nThe total number of possible outcomes is 6 x 6 = 36 (since each die has 6 faces).\\n\\nNow, let's calculate the probability:\\n\\nNumber of favorable outcomes = 4 + 2 = 6\\nTotal number of possible outcomes = 36\\n\\nProbability of winning = Number of favorable outcomes / Total number of possible outcomes = 6/36 = 1/6\\n\\nTherefore, the probability that a player wins after playing the game once is 1/6.\\n\\nAnswer: $\\\\boxed{\\\\frac{1}{6}}$\",\n",
       "  'answer': '$\\\\boxed{\\\\frac{1}{6}}$'},\n",
       " {'question': 'Two trains are traveling on a collision course. If train A is traveling at a speed of 350 mph and train B is traveling 28% slower, how much time will it take the trains to collide if the initial distance between the two is 1806 miles?',\n",
       "  'rationale': 'To find the speed of train B, we need to calculate 28% of the speed of train A and subtract it from the speed of train A.\\n\\nSpeed of train A = 350 mph\\n28% of 350 = (28/100) * 350 = 98\\n\\nSo, the speed of train B is:\\n350 - 98 = 252 mph\\n\\nThe relative speed of the two trains is the sum of their speeds:\\nRelative speed = Speed of train A + Speed of train B\\n= 350 + 252\\n= 602 mph\\n\\nNow, we can use the formula: Time = Distance / Relative speed to find the time it will take for the trains to collide.\\n\\nDistance between the trains = 1806 miles\\nTime = 1806 / 602 ≈ 3 hours\\n\\nAnswer: 3',\n",
       "  'answer': '3'}]"
      ]
     },
     "execution_count": 607,
     "metadata": {},
     "output_type": "execute_result"
    }
   ],
   "source": [
    "correct_pairs"
   ]
  },
  {
   "cell_type": "code",
   "execution_count": 604,
   "metadata": {},
   "outputs": [
    {
     "data": {
      "text/plain": [
       "[{'question': 'If two sides of a triangle have lengths 3 and 7, which of the following could be the perimeter of the triangle?\\nI. 9\\nII. 15\\nIII. 19',\n",
       "  'rationale': \"To determine the possible perimeters of the triangle, we need to consider the properties of triangles.\\n\\nStep 1: Recall the Triangle Inequality Theorem.\\nThe Triangle Inequality Theorem states that for any triangle with sides a, b, and c, the sum of the lengths of any two sides must be greater than the length of the remaining side. Mathematically, this can be expressed as:\\n\\na + b > c\\nb + c > a\\nc + a > b\\n\\nStep 2: Apply the Triangle Inequality Theorem to find possible values for the third side.\\nGiven that two sides have lengths 3 and 7, we know that the third side must satisfy the inequalities.\\n\\nSince 3 + 7 = 10, we can say that the third side must be less than 10. We can also determine that the third side cannot be greater than or equal to 3 or 7 since those would violate the triangle inequality for the respective pair of sides.\\n\\nStep 3: Consider possible perimeters based on combinations of side lengths.\\nLet's examine each possibility:\\n\\n- Option I (Perimeter = 9)\\nIf we assume one side is x, then 3 + 7 > x. Therefore, the third side must be less than 10. The smallest whole number value for the third side that satisfies this condition is 8 (since it cannot be greater than or equal to 3). Thus, if the sides were 3, 7, and 8, the perimeter would indeed be 18. However, we need to check other combinations as well.\\n\\nLet's calculate with another combination where the third side is 5. In this case, x = 5; therefore, 9 (the sum of all three sides) cannot be a valid answer for the given option I because it doesn't follow our previously derived conclusion.\\n\\n\\nStep 4: Further analysis and elimination.\\nSimilarly, we should eliminate options II and III if any possible combination of side lengths gives us those perimeters.\\n\\nFor instance, if x = 6, then 3 + 7 > 6 holds true. Therefore the perimeter is 16, not 15. And finally for x = 9, it violates the Triangle Inequality Theorem since 3+7 < 9 doesn't hold true.\\n\\n\\nStep 5: Now that we know none of the options meet the possible perimeter criteria based on the above analysis and elimination process we get our answer.\\n\\nAnswer: None\",\n",
       "  'answer': 'None'},\n",
       " {'question': 'If the price of a computer were reduced by 15 percent, which of the following could not be the final price of the computer? (Assume initial price to be integer in cents)',\n",
       "  'rationale': \"To solve this problem, we will first determine the possible final prices after a 15% reduction and then identify which of the given options cannot be the final price.\\n\\nStep 1: Calculate the amount by which the price is reduced.\\nThe price is reduced by 15%, which means that the final price is 85% of the initial price. This can also be expressed as (100 - 15) = 85% or a reduction of $0.15 per dollar.\\n\\nStep 2: Determine the relationship between the initial and final prices.\\nIf the initial price is reduced by $0.15, then the final price will be $0.85 for each dollar of the initial price. This can also be expressed as a fraction: $\\\\frac{4}{5}$ or 80%.\\n\\nStep 3: Consider possible scenarios where the final price is not an integer.\\nFor the final price to be non-integer (in cents), we need to consider the multiples of 0.85.\\n\\nMultiplying any number by 0.85 will result in a value that ends in .35, which means it's always going to have .35 in its decimal part and thus never be an integer.\\n\\nStep 4: Determine the final price.\\nGiven this information, we can conclude that there is no specific final price for the computer after applying the reduction of 15%, other than stating that it will not be an integer due to the multiplication factor of 0.85.\\n\\n\\n\\nAnswer: No possible answer.\",\n",
       "  'answer': 'No possible answer.'},\n",
       " {'question': 'A = {2, 3, 5, 7, 17}\\nB = {2, 4, 6, 13}\\nTwo integers will be randomly selected from sets A and B, one integer from set A and one from set B, and then multiplied together. How many different products can be obtained?',\n",
       "  'rationale': 'To find the number of different products that can be obtained, we need to consider all possible combinations of two integers, one from set A and one from set B.\\n\\nStep 1: List out the elements of sets A and B.\\nA = {2, 3, 5, 7, 17}\\nB = {2, 4, 6, 13}\\n\\nStep 2: Identify all possible pairs of integers, one from set A and one from set B.\\n\\nPossible pairs:\\n(2, 2), (2, 4), (2, 6), (2, 13)\\n(3, 2), (3, 4), (3, 6), (3, 13)\\n(5, 2), (5, 4), (5, 6), (5, 13)\\n(7, 2), (7, 4), (7, 6), (7, 13)\\n(17, 2), (17, 4), (17, 6), (17, 13)\\n\\nStep 3: Calculate the product for each pair.\\n\\nProducts:\\n(2, 2) = 4\\n(2, 4) = 8\\n(2, 6) = 12\\n(2, 13) = 26\\n(3, 2) = 6\\n(3, 4) = 12\\n(3, 6) = 18\\n(3, 13) = 39\\n(5, 2) = 10\\n(5, 4) = 20\\n(5, 6) = 30\\n(5, 13) = 65\\n(7, 2) = 14\\n(7, 4) = 28\\n(7, 6) = 42\\n(7, 13) = 91\\n(17, 2) = 34\\n(17, 4) = 68\\n(17, 6) = 102\\n(17, 13) = 221\\n\\nStep 4: Count the number of unique products.\\n\\nUnique products:\\n4, 8, 12, 26, 6, 12, 18, 39, 10, 20, 30, 65, 14, 28, 42, 91, 34, 68, 102, 221\\n\\nThere are 20 unique products.\\n\\nAnswer: 20',\n",
       "  'answer': '20'},\n",
       " {'question': 'Two trains are traveling on a collision course. If train A is traveling at a speed of 350 mph and train B is traveling 28% slower, how much time will it take the trains to collide if the initial distance between the two is 1806 miles?',\n",
       "  'rationale': 'To find the speed of train B, we need to calculate 28% of the speed of train A and subtract it from the speed of train A.\\n\\nSpeed of train A = 350 mph\\n28% of 350 = (28/100) * 350 = 98\\n\\nSo, the speed of train B is:\\n350 - 98 = 252 mph\\n\\nThe relative speed of the two trains is the sum of their speeds:\\nRelative speed = Speed of train A + Speed of train B\\n= 350 + 252\\n= 602 mph\\n\\nNow, we can use the formula: Time = Distance / Relative speed to find the time it will take for the trains to collide.\\n\\nDistance between the trains = 1806 miles\\nTime = 1806 / 602 ≈ 3 hours\\n\\nAnswer: 3',\n",
       "  'answer': '3'},\n",
       " {'question': 'A group consists of 4 men, 6 women and 5 children. In how many ways can 2 men , 3 women and 1 child selected from the given group?',\n",
       "  'rationale': 'To find the number of ways to select 2 men, 3 women, and 1 child from the given group, we need to calculate the combinations for each category separately and then multiply them together.\\n\\nStep 1: Selecting 2 men out of 4\\nWe can use the combination formula C(n, r) = n! / (r!(n-r)!) where n is the total number of items and r is the number of items to be chosen.\\nC(4, 2) = 4! / (2!(4-2)!)\\n= 24 / (2 x 2)\\n= 6\\n\\nStep 2: Selecting 3 women out of 6\\nUsing the same combination formula:\\nC(6, 3) = 6! / (3!(6-3)!)\\n= 720 / (6 x 6)\\n= 20\\n\\nStep 3: Selecting 1 child out of 5\\nAgain using the combination formula:\\nC(5, 1) = 5! / (1!(5-1)!)\\n= 120 / (1 x 4)\\n= 30\\n\\nNow that we have the combinations for each category, we can multiply them together to find the total number of ways to select 2 men, 3 women, and 1 child.\\n\\nTotal combinations = C(4, 2) x C(6, 3) x C(5, 1)\\n= 6 x 20 x 30\\n= 3600\\n\\nTherefore, there are 3600 different ways to select 2 men, 3 women, and 1 child from the given group.\\n\\nAnswer: 3600',\n",
       "  'answer': '3600'}]"
      ]
     },
     "execution_count": 604,
     "metadata": {},
     "output_type": "execute_result"
    }
   ],
   "source": [
    "incorrect_pairs"
   ]
  },
  {
   "cell_type": "code",
   "execution_count": 531,
   "metadata": {},
   "outputs": [
    {
     "data": {
      "text/plain": [
       "[]"
      ]
     },
     "execution_count": 531,
     "metadata": {},
     "output_type": "execute_result"
    }
   ],
   "source": [
    "unanswered_paris"
   ]
  },
  {
   "cell_type": "code",
   "execution_count": 519,
   "metadata": {},
   "outputs": [
    {
     "name": "stdout",
     "output_type": "stream",
     "text": [
      "Total questions processed: 10\n",
      "Correct answers: 5\n",
      "Incorrect answers: 5\n",
      "Unanswered answers: 0\n",
      "Accuracy: 50.00%\n"
     ]
    }
   ],
   "source": [
    "total = len(correct_pairs) + len(incorrect_pairs) + len(unanswered_paris)\n",
    "accuracy = len(correct_pairs) / total * 100\n",
    "print(f\"Total questions processed: {total}\")\n",
    "print(f\"Correct answers: {len(correct_pairs)}\")\n",
    "print(f\"Incorrect answers: {len(incorrect_pairs)}\")\n",
    "print(f\"Unanswered answers: {len(unanswered_paris)}\")\n",
    "print(f\"Accuracy: {accuracy:.2f}%\")"
   ]
  },
  {
   "cell_type": "code",
   "execution_count": 26,
   "metadata": {},
   "outputs": [
    {
     "name": "stdout",
     "output_type": "stream",
     "text": [
      "{'question': 'Rs. 825 becomes Rs. 956 in 3 years at a certain rate of simple interest.If the rate of interest is increased by 4% ,What amount will Rs. 825 become in 3 years ?', 'options': {'A': 'Rs. 1020.80', 'B': 'Rs. 1025', 'C': 'Rs. 1055', 'D': 'Data inadequate', 'E': 'None of these'}, 'rationale': \"Let's break down the problem step by step.\\n\\nGiven:\\n\\n1. Principal (P) = Rs. 825\\n2. Amount after 3 years (A) = Rs. 956\\n\\nWe need to find the rate of interest (R) at which P becomes A in 3 years. We'll use the formula for simple interest:\\n\\nSimple Interest (SI) = (P × R × T)/100\\n\\nwhere T is the time period, which is 3 years here.\\n\\nFirst, let's calculate the SI for the given scenario:\\n\\nA = P + SI\\n956 = 825 + (SI)\\nSI = 131\\n\\nNow, we can use the formula to find the rate of interest (R):\\n\\nSI = (P × R × T)/100\\n131 = (825 × R × 3)/100\\n131 = 24.75R\\nR = 131/24.75 ≈ 5.29%\\n\\nThis is the original rate of interest.\\n\\nNow, let's consider what happens when the rate of interest is increased by 4%:\\n\\nNew Rate (R') = Original Rate + Increase in Rate\\n= 5.29% + 4%\\n= 9.29%\\n\\nWe need to find the new amount that Rs. 825 will become in 3 years at this increased rate.\\n\\nUsing the simple interest formula, we can calculate the new SI:\\n\\nNew SI = (P × R' × T)/100\\n= (825 × 9.29% × 3)/100\\n= 23.61\\n\\nNow, add this new SI to the principal to find the new amount:\\n\\nNew Amount = P + New SI\\n= 825 + 23.61\\n≈ Rs. 848.61\\n\\nHowever, we're asked for a multiple-choice answer, and none of the options match our calculation. This is because we assumed that the interest is compounded annually, but the question doesn't specify this.\\n\\nLet's try another approach using compound interest formula (since it's not specified to be simple interest):\\n\\nAmount after 3 years = P × (1 + R)^T\\n\\nUsing the original rate of interest (5.29%), we get:\\n\\nA = 825 × (1 + 0.0529)^3\\n≈ Rs. 1055\\n\\nThis is the amount that would become in 3 years if the interest is compounded annually.\\n\\nSo, the correct answer is:\\n\\nC: Rs. 1055\", 'answer': 'C'}\n"
     ]
    }
   ],
   "source": [
    "new_correct_pairs = []\n",
    "\n",
    "# Process the incorrect answers\n",
    "for pair in incorrect_pairs:\n",
    "    question = pair['question']\n",
    "    options = pair['options']\n",
    "    correct_answer = pair['correct_answer']\n",
    "\n",
    "    # Generate the rationale with the correct answer as a hint\n",
    "    generated_rationale = rationalize(question, options, correct_answer, prompt_set)\n",
    "\n",
    "    # Add the rationalized example to correct_pairs\n",
    "    new_correct_pairs.append({\n",
    "        'question': question,\n",
    "        'options': options,\n",
    "        'rationale': generated_rationale,\n",
    "        'answer': correct_answer\n",
    "    })\n",
    "\n",
    "    print({\n",
    "        'question': question,\n",
    "        'options': options,\n",
    "        'rationale': generated_rationale,\n",
    "        'answer': correct_answer\n",
    "    })"
   ]
  },
  {
   "cell_type": "markdown",
   "metadata": {},
   "source": [
    "### Converting our corrected pairs into a structure the Llama3.1 model will understand for fine tuning."
   ]
  },
  {
   "cell_type": "code",
   "execution_count": 23,
   "metadata": {},
   "outputs": [
    {
     "name": "stdout",
     "output_type": "stream",
     "text": [
      "Error decoding JSON on line 18: Extra data: line 1 column 1471 (char 1470). Skipping.\n",
      "Error decoding JSON on line 84: Extra data: line 1 column 936 (char 935). Skipping.\n",
      "Conversion complete. New file saved as 'finetuning_data_new.jsonl'.\n"
     ]
    }
   ],
   "source": [
    "import json\n",
    "import re\n",
    "\n",
    "def extract_question(human_message):\n",
    "    \"\"\"\n",
    "    Extracts the question from the human message.\n",
    "\n",
    "    Args:\n",
    "        human_message (str): The message content from the human.\n",
    "\n",
    "    Returns:\n",
    "        str: Extracted question text or the original message if extraction fails.\n",
    "    \"\"\"\n",
    "    match = re.search(r'Question:\\s*(.+)', human_message, re.IGNORECASE)\n",
    "    if match:\n",
    "        return match.group(1).strip()\n",
    "    return human_message.strip()\n",
    "\n",
    "def extract_rationale(gpt_message):\n",
    "    \"\"\"\n",
    "    Extracts the rationale from the GPT message by removing any initial 'A: ...' lines,\n",
    "    removing 'Rationale:' labels, and excluding 'Answer: ...' sections.\n",
    "\n",
    "    Args:\n",
    "        gpt_message (str): The message content from GPT.\n",
    "\n",
    "    Returns:\n",
    "        str: Extracted rationale text or an empty string if extraction fails.\n",
    "    \"\"\"\n",
    "    # Step 1: Remove any initial \"A: ...\" lines\n",
    "    gpt_message = re.sub(r'^A:\\s*.+\\n', '', gpt_message, flags=re.IGNORECASE)\n",
    "\n",
    "    # Step 2: Extract text after \"Rationale:\" up to \"Answer:\" or end of string\n",
    "    match = re.search(r'Rationale:\\s*(.*?)(?:\\nAnswer:.*|$)', gpt_message, re.IGNORECASE | re.DOTALL)\n",
    "    if match:\n",
    "        rationale = match.group(1).strip()\n",
    "        return rationale\n",
    "    else:\n",
    "        # If \"Rationale:\" is not found, remove any trailing \"Answer: ...\" and return the rest\n",
    "        gpt_message = re.sub(r'\\n*Answer:\\s*.+$', '', gpt_message, flags=re.IGNORECASE | re.DOTALL).strip()\n",
    "        return gpt_message\n",
    "\n",
    "def convert_existing_jsonl(input_file, output_file):\n",
    "    \"\"\"\n",
    "    Converts the existing finetuning_data.jsonl file to the new Q&A format.\n",
    "\n",
    "    Args:\n",
    "        input_file (str): Path to the existing JSONL file.\n",
    "        output_file (str): Path to the new JSONL file to be created.\n",
    "\n",
    "    Returns:\n",
    "        None\n",
    "    \"\"\"\n",
    "    with open(input_file, 'r', encoding='utf-8') as infile, \\\n",
    "         open(output_file, 'w', encoding='utf-8') as outfile:\n",
    "        \n",
    "        for line_num, line in enumerate(infile, 1):\n",
    "            try:\n",
    "                # Each line is expected to be a JSON array of messages\n",
    "                messages = json.loads(line)\n",
    "                \n",
    "                # Ensure there are at least two messages: human and gpt\n",
    "                if len(messages) < 2:\n",
    "                    print(f\"Warning: Line {line_num} has less than 2 messages. Skipping.\")\n",
    "                    continue\n",
    "                \n",
    "                # Extract human and gpt messages\n",
    "                human_message = \"\"\n",
    "                gpt_message = \"\"\n",
    "                for msg in messages:\n",
    "                    if msg.get(\"from\") == \"human\":\n",
    "                        human_message = msg.get(\"value\", \"\").strip()\n",
    "                    elif msg.get(\"from\") == \"gpt\":\n",
    "                        gpt_message = msg.get(\"value\", \"\").strip()\n",
    "                \n",
    "                if not human_message or not gpt_message:\n",
    "                    print(f\"Warning: Line {line_num} is missing human or gpt message. Skipping.\")\n",
    "                    continue\n",
    "                \n",
    "                # Extract question and rationale\n",
    "                question = extract_question(human_message)\n",
    "                rationale = extract_rationale(gpt_message)\n",
    "                \n",
    "                if not question or not rationale:\n",
    "                    print(f\"Warning: Line {line_num} could not extract question or rationale. Skipping.\")\n",
    "                    continue\n",
    "                \n",
    "                # Create the new format\n",
    "                new_entry = {\n",
    "                    \"text\": f\"Q: {question}\\nA: {rationale}\"\n",
    "                }\n",
    "                \n",
    "                # Write to the new JSONL file\n",
    "                outfile.write(json.dumps(new_entry, ensure_ascii=False) + '\\n')\n",
    "            \n",
    "            except json.JSONDecodeError as e:\n",
    "                print(f\"Error decoding JSON on line {line_num}: {e}. Skipping.\")\n",
    "                continue\n",
    "\n",
    "    print(f\"Conversion complete. New file saved as '{output_file}'.\")\n",
    "\n",
    "if __name__ == \"__main__\":\n",
    "    input_jsonl = 'finetuning_data.jsonl'        # Existing file\n",
    "    output_jsonl = 'finetuning_data_new.jsonl'   # New file\n",
    "        \n",
    "    # Perform the conversion\n",
    "    convert_existing_jsonl(input_jsonl, output_jsonl)"
   ]
  },
  {
   "cell_type": "markdown",
   "metadata": {},
   "source": [
    "### Appending New Data"
   ]
  },
  {
   "cell_type": "code",
   "execution_count": 520,
   "metadata": {},
   "outputs": [],
   "source": [
    "import json\n",
    "import re\n",
    "import os\n",
    "\n",
    "def convert_correct_pairs_to_conversations(correct_pairs):\n",
    "    \"\"\"\n",
    "    Converts a list of correct_pairs to the new conversation format.\n",
    "    \n",
    "    Args:\n",
    "        correct_pairs (list): List of dictionaries with keys 'question', 'rationale', and 'answer'.\n",
    "    \n",
    "    Returns:\n",
    "        list: List of dictionaries in the format {\"text\": \"Q: ...\\nA: ...\"}\n",
    "    \"\"\"\n",
    "    new_conversations = []\n",
    "    for pair in correct_pairs:\n",
    "        question = pair.get('question', '').strip()\n",
    "        rationale = pair.get('rationale', '').strip()\n",
    "        \n",
    "        if not question or not rationale:\n",
    "            print(f\"Warning: Missing question or rationale in pair: {pair}. Skipping.\")\n",
    "            continue\n",
    "        \n",
    "        # Remove any trailing \"Answer: ...\" lines from the rationale\n",
    "        # This ensures that the rationale does not contain explicit \"Answer:\" labels\n",
    "        rationale_cleaned = re.sub(r'\\n*Answer:\\s*.*$', '', rationale, flags=re.IGNORECASE).strip()\n",
    "        \n",
    "        # Additionally, remove any \"Rationale:\" labels if present\n",
    "        rationale_cleaned = re.sub(r'^Rationale:\\s*', '', rationale_cleaned, flags=re.IGNORECASE).strip()\n",
    "        \n",
    "        # Create the new conversation format\n",
    "        convo = {\n",
    "            \"text\": f\"Q: {question}\\nA: {rationale_cleaned}\"\n",
    "        }\n",
    "        new_conversations.append(convo)\n",
    "    return new_conversations\n",
    "\n",
    "def append_conversations_to_jsonl(conversations, file_path='finetuning_data.jsonl'):\n",
    "    \"\"\"\n",
    "    Appends a list of conversations to an existing JSONL file in the desired format.\n",
    "    \n",
    "    Each conversation is a dict with 'text': 'Q: ...\\nA: ...'\n",
    "    This function ensures that any residual 'Answer:' labels are removed from the 'A: ...' section.\n",
    "    \n",
    "    Args:\n",
    "        conversations (list): List of conversations to append, each as {\"text\": \"Q: ...\\nA: ...\"}.\n",
    "        file_path (str): Path to the existing JSONL file.\n",
    "    \n",
    "    Returns:\n",
    "        None\n",
    "    \"\"\"\n",
    "    # Check if the file exists\n",
    "    if os.path.exists(file_path):\n",
    "        # Check if the file ends with a newline\n",
    "        with open(file_path, 'rb') as f:\n",
    "            try:\n",
    "                f.seek(-1, os.SEEK_END)\n",
    "                last_char = f.read(1)\n",
    "                if last_char != b'\\n':\n",
    "                    newline_needed = True\n",
    "                else:\n",
    "                    newline_needed = False\n",
    "            except OSError:\n",
    "                # File is empty\n",
    "                newline_needed = False\n",
    "    else:\n",
    "        # File does not exist; will be created\n",
    "        newline_needed = False\n",
    "\n",
    "    with open(file_path, 'a', encoding='utf-8') as f:\n",
    "        # If a newline is needed before appending, add it\n",
    "        if newline_needed:\n",
    "            f.write('\\n')\n",
    "        \n",
    "        for convo in conversations:\n",
    "            text = convo.get('text', '').strip()\n",
    "            \n",
    "            # Ensure that the text starts with \"Q: \" and contains \"A: \"\n",
    "            if not text.startswith(\"Q: \") or \"\\nA: \" not in text:\n",
    "                print(f\"Warning: Conversation does not follow the 'Q: ...\\nA: ...' format. Skipping: {convo}\")\n",
    "                continue\n",
    "            \n",
    "            # Split the text into Question and Answer parts\n",
    "            try:\n",
    "                q_part, a_part = text.split(\"\\nA: \", 1)\n",
    "            except ValueError:\n",
    "                print(f\"Warning: Unable to split 'Q' and 'A' parts. Skipping: {convo}\")\n",
    "                continue\n",
    "            \n",
    "            # Clean the Answer part by removing any \"Answer:\" labels if present\n",
    "            # Although it should already be cleaned, this is an extra safeguard\n",
    "            a_part_cleaned = re.sub(r'\\n*Answer:\\s*.*$', '', a_part, flags=re.IGNORECASE).strip()\n",
    "            a_part_cleaned = re.sub(r'^Answer:\\s*', '', a_part_cleaned, flags=re.IGNORECASE).strip()\n",
    "            \n",
    "            # Reconstruct the cleaned conversation text\n",
    "            new_text = f\"{q_part}\\nA: {a_part_cleaned}\"\n",
    "            \n",
    "            # Append the cleaned conversation to the list\n",
    "            processed_convo = {\"text\": new_text}\n",
    "            \n",
    "            # Serialize and write to the file\n",
    "            json_line = json.dumps(processed_convo, ensure_ascii=False)\n",
    "            f.write(json_line + '\\n')\n",
    "    \n",
    "    print(f\"Successfully appended {len(conversations)} conversations to '{file_path}'.\")"
   ]
  },
  {
   "cell_type": "code",
   "execution_count": 608,
   "metadata": {},
   "outputs": [
    {
     "name": "stdout",
     "output_type": "stream",
     "text": [
      "Successfully appended 6 conversations to 'finetuning_data_new.jsonl'.\n"
     ]
    }
   ],
   "source": [
    "new_conversations = convert_correct_pairs_to_conversations(correct_pairs)\n",
    "    \n",
    "    # Append to the new JSONL file\n",
    "append_conversations_to_jsonl(new_conversations, 'finetuning_data_new.jsonl')"
   ]
  },
  {
   "cell_type": "code",
   "execution_count": null,
   "metadata": {},
   "outputs": [],
   "source": []
  }
 ],
 "metadata": {
  "kernelspec": {
   "display_name": ".venv",
   "language": "python",
   "name": "python3"
  },
  "language_info": {
   "codemirror_mode": {
    "name": "ipython",
    "version": 3
   },
   "file_extension": ".py",
   "mimetype": "text/x-python",
   "name": "python",
   "nbconvert_exporter": "python",
   "pygments_lexer": "ipython3",
   "version": "3.11.8"
  }
 },
 "nbformat": 4,
 "nbformat_minor": 2
}
