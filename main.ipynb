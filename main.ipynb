{
 "cells": [
  {
   "cell_type": "code",
   "execution_count": 309,
   "metadata": {},
   "outputs": [],
   "source": [
    "import re\n",
    "import ollama\n",
    "from src.data_loading import load_data\n",
    "from src.parsing import parse_options\n",
    "from src.rationale_generation import generate_rationale_and_answer\n",
    "from src.utils import is_rationale_correct\n",
    "from src.rationalization import rationalize\n",
    "from src.prompt_generation import create_prompt_examples, create_prompt_set, clean_options, get_correct_answer_text"
   ]
  },
  {
   "cell_type": "code",
   "execution_count": 410,
   "metadata": {},
   "outputs": [],
   "source": [
    "NUM_PROMPT_EXAMPLES = 5 # number of prompt examples\n",
    "NUM_EXAMPLES_TO_PROCESS = 10 # number of examples to process"
   ]
  },
  {
   "cell_type": "markdown",
   "metadata": {},
   "source": [
    "### Load Dataset"
   ]
  },
  {
   "cell_type": "code",
   "execution_count": 411,
   "metadata": {},
   "outputs": [
    {
     "name": "stdout",
     "output_type": "stream",
     "text": [
      "Dataset({\n",
      "    features: ['question', 'options', 'rationale', 'correct'],\n",
      "    num_rows: 10\n",
      "})\n"
     ]
    }
   ],
   "source": [
    "ds_train = load_data()\n",
    "\n",
    "# Step 1: Select the desired range from ds_train\n",
    "dataset_D = ds_train.select(range(NUM_PROMPT_EXAMPLES, len(ds_train)))\n",
    "\n",
    "# Step 2: Shuffle the selected dataset\n",
    "dataset_D_shuffled = dataset_D.shuffle()  # Use any seed you prefer\n",
    "\n",
    "# Step 3: Select a subset of examples to process\n",
    "dataset_D_subset = dataset_D_shuffled.select(range(NUM_EXAMPLES_TO_PROCESS))\n",
    "\n",
    "print(dataset_D_subset)"
   ]
  },
  {
   "cell_type": "markdown",
   "metadata": {},
   "source": [
    "### Create prompt examples"
   ]
  },
  {
   "cell_type": "code",
   "execution_count": 412,
   "metadata": {},
   "outputs": [
    {
     "data": {
      "text/plain": [
       "[{'question': \"Two friends plan to walk along a 43-km trail, starting at opposite ends of the trail at the same time. If Friend P's rate is 15% faster than Friend Q's, how many kilometers will Friend P have walked when they pass each other?\",\n",
       "  'rationale': 'If Q complete x kilometers, then P completes 1.15x kilometers.\\nx + 1.15x = 43\\n2.15x=43\\nx = 43/2.15 = 20\\nThen P will have have walked 1.15*20=23 km.\\nThe answer is E.',\n",
       "  'answer': 'E'},\n",
       " {'question': 'In the coordinate plane, points (x, 1) and (5, y) are on line k. If line k passes through the origin and has slope 1/5, then what are the values of x and y respectively?',\n",
       "  'rationale': 'Line k passes through the origin and has slope 1/5 means that its equation is y=1/5*x.\\nThus: (x, 1)=(5, 1) and (5, y) = (5,1) -->x=5 and y=1\\nAnswer: C',\n",
       "  'answer': 'C'},\n",
       " {'question': 'For all numbers p and q, the operation @ is defined by p@q = p^2 - pq. If xy ≠ 0, then which of the following can be equal to zero?\\nI. x@y\\nII. (xy)@y\\nIII. x@(x + y)',\n",
       "  'rationale': 'p@q = p^2 - pq=p(p-q).... so p@q will be zero if p=q or p=0.. but a cannot be equal to 0.. as per Q, x and y can take any int value except 0...\\nnow lets look at the choices..\\nwhen x=y, it will be 0... so ok...\\nwhen we put xy=y, it is possible when x=1 and y any integer... so ok again\\nwhen we put x=x+y.... only possibility when y=0 and it is given x and y cannot be 0....so not possible\\nonly l and ll possible ans B....',\n",
       "  'answer': 'B'},\n",
       " {'question': 'Carl is facing very difficult financial times and can only pay the interest on a $10,000 loan he has taken. The bank charges him a quarterly compound rate of 4%. What is the approximate interest he pays annually?',\n",
       "  'rationale': 'Usually, you are given the annual rate of interest and it is mentioned that it is annual rate.\\nThe bank charges him a quarterly compounded ANNUAL rate of 16%.\\nHere you find per quarter rate as (16/4)% = 4%\\nI have actually never seen a question with quarter rate given but since this question did not mentionannual rate of interestand since the options did not make sense with 4% annual rate of interest, it is apparent that the intent was a 4% quarterly rate. So the bank charges 4% every quarter and compounds it in the next quarter. Had it been a simple quarterly rate, we would have just found 4 * 4% of 10,000 = $1600 as our answer.\\nBut since, the interest is compounded, it will be a bit more than $1600. Option (A) looks correct.',\n",
       "  'answer': 'A'},\n",
       " {'question': 'The speed at which a man can row a boat in still water is 25 kmph. If he rows downstream, where the speed of current is 11 kmph, what time will he take to cover 80 metres?',\n",
       "  'rationale': 'Speed of the boat downstream = 25 +11\\n= 36 kmph\\n= 36 * 5/18 = 10 m/s\\nHence time taken to cover 80 m = 80/10\\n= 8 seconds.\\nAnswer:E',\n",
       "  'answer': 'E'}]"
      ]
     },
     "execution_count": 412,
     "metadata": {},
     "output_type": "execute_result"
    }
   ],
   "source": [
    "prompt_examples = create_prompt_examples(ds_train, NUM_PROMPT_EXAMPLES)\n",
    "\n",
    "prompt_examples"
   ]
  },
  {
   "cell_type": "markdown",
   "metadata": {},
   "source": [
    "### Create Prompt Sets"
   ]
  },
  {
   "cell_type": "code",
   "execution_count": 413,
   "metadata": {},
   "outputs": [
    {
     "name": "stdout",
     "output_type": "stream",
     "text": [
      "Question: Two friends plan to walk along a 43-km trail, starting at opposite ends of the trail at the same time. If Friend P's rate is 15% faster than Friend Q's, how many kilometers will Friend P have walked when they pass each other?\n",
      "Answer Explanation: If Q complete x kilometers, then P completes 1.15x kilometers.\\nx + 1.15x = 43\\n2.15x=43\\nx = 43/2.15 = 20\\nThen P will have have walked 1.15*20=23 km.\\nThe answer is E.\n",
      "Answer: 23\n",
      "###\n",
      "Question: In the coordinate plane, points (x, 1) and (5, y) are on line k. If line k passes through the origin and has slope 1/5, then what are the values of x and y respectively?\n",
      "Answer Explanation: Line k passes through the origin and has slope 1/5 means that its equation is y=1/5*x.\\nThus: (x, 1)=(5, 1) and (5, y) = (5,1) -->x=5 and y=1\\nAnswer: C\n",
      "Answer: 5 and 1\n",
      "###\n",
      "Question: For all numbers p and q, the operation @ is defined by p@q = p^2 - pq. If xy ≠ 0, then which of the following can be equal to zero?\n",
      "I. x@y\n",
      "II. (xy)@y\n",
      "III. x@(x + y)\n",
      "Answer Explanation: p@q = p^2 - pq=p(p-q).... so p@q will be zero if p=q or p=0.. but a cannot be equal to 0.. as per Q, x and y can take any int value except 0...\\nnow lets look at the choices..\\nwhen x=y, it will be 0... so ok...\\nwhen we put xy=y, it is possible when x=1 and y any integer... so ok again\\nwhen we put x=x+y.... only possibility when y=0 and it is given x and y cannot be 0....so not possible\\nonly l and ll possible ans B....\n",
      "Answer: I and II\n",
      "###\n",
      "Question: Carl is facing very difficult financial times and can only pay the interest on a $10,000 loan he has taken. The bank charges him a quarterly compound rate of 4%. What is the approximate interest he pays annually?\n",
      "Answer Explanation: Usually, you are given the annual rate of interest and it is mentioned that it is annual rate.\\nThe bank charges him a quarterly compounded ANNUAL rate of 16%.\\nHere you find per quarter rate as (16/4)% = 4%\\nI have actually never seen a question with quarter rate given but since this question did not mentionannual rate of interestand since the options did not make sense with 4% annual rate of interest, it is apparent that the intent was a 4% quarterly rate. So the bank charges 4% every quarter and compounds it in the next quarter. Had it been a simple quarterly rate, we would have just found 4 * 4% of 10,000 = $1600 as our answer.\\nBut since, the interest is compounded, it will be a bit more than $1600. Option (A) looks correct.\n",
      "Answer: $1600\n",
      "###\n",
      "Question: The speed at which a man can row a boat in still water is 25 kmph. If he rows downstream, where the speed of current is 11 kmph, what time will he take to cover 80 metres?\n",
      "Answer Explanation: Speed of the boat downstream = 25 +11\\n= 36 kmph\\n= 36 * 5/18 = 10 m/s\\nHence time taken to cover 80 m = 80/10\\n= 8 seconds.\\nAnswer:E\n",
      "Answer: 8 seconds\n",
      "###\n",
      "\n"
     ]
    }
   ],
   "source": [
    "prompt_set = create_prompt_set(ds_train, NUM_PROMPT_EXAMPLES)\n",
    "print(prompt_set)"
   ]
  },
  {
   "cell_type": "markdown",
   "metadata": {},
   "source": [
    "### Initialize lists to hold correct and incorrect pairs"
   ]
  },
  {
   "cell_type": "code",
   "execution_count": 414,
   "metadata": {},
   "outputs": [],
   "source": [
    "correct_pairs = []\n",
    "incorrect_pairs = []\n",
    "unanswered_paris = []"
   ]
  },
  {
   "cell_type": "markdown",
   "metadata": {},
   "source": [
    "### Iterate over each example in the subset"
   ]
  },
  {
   "cell_type": "code",
   "execution_count": 415,
   "metadata": {},
   "outputs": [],
   "source": [
    "def extract_answer_text(rationale):\n",
    "    \"\"\"\n",
    "    Extracts the answer text from the rationale using regex.\n",
    "    \n",
    "    Args:\n",
    "        rationale (str): Generated rationale string.\n",
    "    \n",
    "    Returns:\n",
    "        str or None: Extracted answer text if found, else None.\n",
    "    \"\"\"\n",
    "    # Attempt to extract the answer text after 'Answer:'\n",
    "    match = re.search(r'Answer:\\s*(.+)', rationale, re.IGNORECASE)\n",
    "    if match:\n",
    "        return match.group(1)\n",
    "    return None"
   ]
  },
  {
   "cell_type": "code",
   "execution_count": 416,
   "metadata": {},
   "outputs": [
    {
     "name": "stdout",
     "output_type": "stream",
     "text": [
      "correct_answer_text: x-1\n",
      "clean options: ['A) (x+1)/2', 'B) x-2', 'C) x-1', 'D) (x-1)/2', 'E) 2']\n",
      "extracted answer: $\\boxed{1}$\n",
      "incorrect\n",
      "Incorrect: {'question': 'The function f is defined for all positive integers r by the following rule. f(r) is the number of positive integers each of which is less than r and has no positive factor in common with r other than 1. If x is any prime, number then f(x)=', 'rationale': 'To find the value of f(x), we need to understand what the function does.\\n\\nThe function f(r) counts the number of positive integers less than r that have no common factors with r except for 1. In other words, it counts the numbers that are relatively prime to r.\\n\\nIf x is a prime number, then it only has two factors: 1 and itself (x). Therefore, any number less than x that has no factor in common with x must be 1 or x itself, since all other numbers would have at least one factor in common with x (the number itself).\\n\\nThe only number that is relatively prime to a prime number x is 1. So, the function f(x) will count exactly one positive integer less than x, which is 1.\\n\\nTherefore, f(x) = 1.\\n\\nAnswer: $\\\\boxed{1}$', 'answer': '$\\\\boxed{1}$'}\n",
      "Processed 1 questions.\n",
      "\n",
      "correct_answer_text: 210\n",
      "clean options: ['A) 60', 'B) 90', 'C) 210', 'D) 150', 'E) 180']\n",
      "extracted answer: Answer:\n",
      "incorrect\n",
      "Incorrect: {'question': 'Six balls of different colors are to be placed in three different boxes such that any box contains at least 1 ball . What is the maximum number of different ways in which this can be done?', 'rationale': \"To find the maximum number of different ways to place six balls of different colors into three boxes, such that each box contains at least one ball, let's consider the possible combinations step by step.\\n\\nStep 1: Determine the minimum number of balls required in each box.\\nSince any box must contain at least one ball, we can initially assign one ball to each box. This gives us a total of three balls distributed across the boxes.\\n\\nStep 2: Distribute the remaining balls among the boxes.\\nWe have six balls in total and have already assigned one ball to each box. Now, we need to distribute the remaining five balls (sixth ball is also considered for distribution) into three boxes, ensuring that each box still contains at least one ball.\\n\\nLet's consider the possible distributions:\\n\\n- Case 1: One box has two additional balls, while the other two boxes have one more ball each.\\nThis case can be broken down further:\\n  * The box with three balls can be filled with four different combinations of six colors (using the balls not initially assigned to it).\\n  * For the remaining two balls that are distributed in such a way across the other two boxes, there are 5 different ways to distribute them.\\n    a. One of the balls goes into one of the two particular empty boxes, and the other ball goes into the third box.\\n    b. The same distribution can be repeated for each box.\\nHowever, because we're counting permutations rather than combinations, each unique arrangement within the group will count as distinct.\\n\\nThus, considering all possible cases, we calculate the number of arrangements by summing up the products:\\n\\n- Case 2: One box has three balls, and one other box also contains more than one ball.\\nThe remaining distribution is similar to case 1 but with a slight variation:\\n  * The calculation from case 1 will be repeated for this scenario.\\n\\nStep 3: Add the permutations of each case.\\nBy summing up these values, we get the total number of ways in which the balls can be distributed among the three boxes.\\n\\n\\nCalculating permutations:\\n\\n- Case 1:\\n    For four unique combinations (each box gets a different set of balls) we have\\n4 * 5 = 20 possible distributions.\\n\\n- Case 2: Similar calculation to case 1 with slight variation gives us same number of possible distribution.\\n\\n\\n\\nTotal number of ways = 40 + 30\\n\\n\\n\\nStep 4: Calculate the final result.\\nThe final step is simply calculating the sum, which will give us our answer:\\n\\n\\nAnswer:\", 'answer': 'Answer:'}\n",
      "Processed 2 questions.\n",
      "\n",
      "correct_answer_text: 1000\n",
      "clean options: ['A) 1009', 'B) 1018', 'C) 1000', 'D) 1082', 'E) 1029']\n",
      "extracted answer: $1000\n",
      "correct\n",
      "Correct: {'question': 'The salary of a typist was at first raised by 10% and then the same was reduced by 5%. If he presently draws Rs.1045.What was his original salary?', 'rationale': \"Step 1: Let's assume the typist's original salary is x.\\n\\nStep 2: First, his salary was raised by 10%, so his new salary became x + 0.10x = 1.10x.\\n\\nStep 3: Then, his salary was reduced by 5%, so his final salary became 1.10x - 0.05(1.10x) = 1.10x - 0.055x = 1.045x.\\n\\nStep 4: We know that his present salary is Rs.1045, which is equal to 1.045x.\\n\\nStep 5: To find the original salary x, we can set up the equation 1.045x = 1045 and solve for x.\\n\\n\\nNow, let's solve for x:\\n\\n1.045x = 1045\\n\\nDivide both sides by 1.045:\\n\\n\\nx = 1045 / 1.045\\n\\n\\nx ≈ 1000\\n\\n\\nSo, the typist's original salary was Rs.1000.\\n\\nAnswer: $1000\", 'answer': '$1000'}\n",
      "Processed 3 questions.\n",
      "\n",
      "correct_answer_text: 80%\n",
      "clean options: ['A) 45%', 'B) 50%', 'C) 60%', 'D) 80%', 'E) 90%']\n",
      "extracted answer: 80%\n",
      "correct\n",
      "Correct: {'question': 'The charge for a single room at Hotel P is 50 percent less than the charge for a single room at Hotel R and 10 percent less than the charge for a single room at Hotel G. The charge for a single room at Hotel R is what percent greater than the charge for a single room at Hotel G?', 'rationale': \"To find the answer, let's first denote the charge for a single room at Hotel G as x.\\n\\nThe charge for a single room at Hotel P is 10% less than the charge for a single room at Hotel G. This means that it is 90% of the charge at Hotel G, which can be calculated as 0.9x.\\n\\nIt's also given that the charge for a single room at Hotel P is 50% less than the charge for a single room at Hotel R. Let's denote the charge for a single room at Hotel R as y. This means that the charge at Hotel P, which we previously calculated as 0.9x, is also 50% less than y. Mathematically, this can be represented as:\\n\\n0.9x = (1 - 0.5)y\\n0.9x = 0.5y\\n\\nNow, let's solve for y in terms of x:\\n\\n0.5y = 0.9x\\ny = 0.9x / 0.5\\ny = 1.8x\\n\\nWe're asked to find the percentage by which the charge at Hotel R is greater than the charge at Hotel G, i.e., (y - x) / x * 100.\\n\\nUsing our expression for y from above:\\n\\n(y - x) / x = (1.8x - x) / x\\n= 0.8x / x\\n= 0.8\\n\\nTo convert this to a percentage, we multiply by 100:\\n\\n= 0.8 * 100\\n= 80%\\n\\nTherefore, the charge for a single room at Hotel R is 80% greater than the charge for a single room at Hotel G.\\n\\nAnswer: 80%\", 'answer': '80%'}\n",
      "Processed 4 questions.\n",
      "\n",
      "correct_answer_text: 1\n",
      "clean options: ['A) 2', 'B) 2.2', 'C) 1', 'D) 4', 'E) 5']\n",
      "extracted answer: 30\n",
      "incorrect\n",
      "Incorrect: {'question': '(x + 6) is a factor in x^2 - mx - 42. What is the value of m?', 'rationale': 'To find the value of m, we need to first identify the other factor that multiplies with (x + 6) to give us the quadratic expression x^2 - mx - 42.\\n\\nSince (x + 6) is a factor, we can rewrite the quadratic expression as:\\n\\n(x + 6)(ax + b) = x^2 - mx - 42\\n\\nwhere a and b are constants. Expanding the left-hand side of the equation, we get:\\n\\n(ax + b)x + (ax + b)6 = x^2 - mx - 42\\n\\nCombining like terms, we have:\\n\\nax^2 + bx + 6ax + 6b = x^2 - mx - 42\\n\\nEquating coefficients on both sides of the equation, we get two equations:\\n\\na + 6 = 1 ... (i)\\n\\nand\\n\\n6b = -m ... (ii)\\n\\nFrom equation (i), we can see that a = -5. Substituting this value back into equation (ii), we get:\\n\\n-30 = -m\\nm = 30\\n\\nTherefore, the value of m is 30.\\n\\nAnswer: 30', 'answer': '30'}\n",
      "Processed 5 questions.\n",
      "\n",
      "correct_answer_text: 35000\n",
      "clean options: ['A) 15000', 'B) 25000', 'C) 45000', 'D) 32000', 'E) 35000']\n",
      "extracted answer: Given each program incurs a loss of Rs 0.20, and we want an extra profit of Rs 8,000 from selling these copies at Rs 0.50:\n",
      "correct\n",
      "Correct: {'question': 'If a cost college Rs0.70 a companyto produce a program for yhe home coming football game.if Rs 15000 was received for addvertisement in the pgm ,how many copies rs 0.50 a copy must be sold to make a profit of Rs 8000', 'rationale': \"To solve this problem, we need to first calculate the total cost of producing the program and then determine how much money needs to be made from selling the programs to cover this cost plus the desired profit.\\n\\nLet's break it down step by step:\\n\\n1. The cost per copy is Rs 0.70.\\n2. The advertisement revenue is Rs 15,000.\\n3. We want to make a profit of Rs 8,000 in addition to breaking even on the production costs.\\n4. Let x be the number of copies that need to be sold.\\n\\nThe total revenue from selling x copies at Rs 0.50 per copy would be:\\n0.50x\\n\\nThe total cost of producing these x copies would be:\\n0.70x\\n\\nWe know that the advertisement revenue is Rs 15,000, which will be used to cover a portion of the costs or contribute directly towards profit.\\n\\nSince we want to make an additional profit of Rs 8,000, we need to figure out how much more money needs to be generated from selling the programs beyond what was received through advertisements.\\n\\nLet's denote y as the number of copies that can be sold with just the advertisement revenue (Rs 15,000) to break even on costs. Then:\\n\\n0.70y = 15000\\n\\nSolving for y:\\ny = 15000 / 0.70\\ny ≈ 21429\\n\\nThis means approximately 21,429 copies could be produced at a cost of Rs 0.70 per copy using only the advertisement revenue.\\n\\nHowever, we need to make an additional profit of Rs 8,000 on top of this. So, if we denote z as the number of copies that will be sold beyond y to cover this extra profit, then:\\n\\n0.50z = 8000\\n\\nSolving for z:\\nz = 8000 / 0.50\\nz = 16000\\n\\nNow, to find x (the total number of copies needed to be sold), we add the initial sales from advertisements (y) and the additional sales required to cover profit beyond advertisement revenue (z):\\n\\nx = y + z\\nx ≈ 21429 + 16000\\nx ≈ 37429\\n\\nHowever, this is not a practical or realistic answer because it implies selling more than 37,429 copies. This contradicts our initial assumption that we're solving for how many additional copies must be sold to make an extra profit.\\n\\nThe error in my reasoning lies in the miscalculation and misunderstanding of how the numbers should add up. Let's correct this by directly addressing what we know:\\n\\n- The advertisement revenue is Rs 15,000.\\n- We want a profit of Rs 8,000 on top of this.\\n\\nGiven that each copy costs Rs 0.70 to produce and must be sold at Rs 0.50 per copy, the question essentially asks us to find how many copies need to be sold beyond the initial revenue from advertisements to ensure we cover the production cost plus the desired profit.\\n\\nSince the actual mistake was in misinterpreting the process for reaching the correct figure of additional sales needed, let's simplify it:\\n\\nThe advertisement revenue of Rs 15,000 is meant to help us break even or contribute to covering costs. However, we need an additional profit of Rs 8,000 on top of this.\\n\\nSince each program costs Rs 0.70 and should be sold at Rs 0.50, we're actually making a loss per unit if we sell the full production cost without any additional revenue beyond advertisements alone (Rs 15,000). The question is about how to make up for this loss by selling enough programs to also achieve an extra profit of Rs 8,000.\\n\\nTo directly solve for the number of copies that need to be sold to cover the production costs plus the desired profit:\\n\\nThe profit we want from sales beyond advertisement revenue = Rs 8000\\n\\nEach copy is sold at a loss of Rs 0.20 (since 0.70 - 0.50 = 0.20 per unit), so we're effectively losing Rs 0.20 on each additional program that contributes to the desired profit.\\n\\nThe number of copies needed to be sold to make an additional profit of Rs 8,000 at a loss of Rs 0.20 per copy is:\\n\\nx = 8000 / 0.20\\nx = 40000\\n\\nThus, approximately 40,000 more copies beyond what could be made with the advertisement revenue alone would need to be sold.\\n\\nHowever, this approach might still not align perfectly with the problem's expectations because it directly calculates the additional copies needed without properly accounting for the initial number of copies that can be produced based on advertisements alone. Let's simplify our thought process:\\n\\n- We have an advertisement revenue of Rs 15,000.\\n- Each copy costs Rs 0.70 to produce and is sold at Rs 0.50.\\n\\nTo find out how many copies can be made with the advertisement money (ignoring profit for now), we divide the total revenue by the cost per unit:\\n\\ny = 15000 / 0.7\\ny ≈ 21429\\n\\nThis suggests that approximately 21,429 programs could be produced and sold just from the advertisement money, without considering any additional profit.\\n\\nBut since we want to make an extra Rs 8,000 on top of this, and each program is sold at a loss of Rs 0.20, we actually need to figure out how many more copies must be sold beyond what could initially be produced with advertisements alone to achieve this profit:\\n\\nz = 8000 / 0.2\\nz = 40000\\n\\nHowever, the confusion arises from directly calculating the number of additional copies needed without properly integrating the advertisement revenue into the initial production cost calculation.\\n\\nGiven that we want an extra Rs 8,000 and each program is sold at a loss of Rs 0.20, the total number of programs beyond what can be made with advertisements alone (which itself covers production costs) must consider how these sales contribute to covering both initial production costs plus achieving this profit:\\n\\nLet's reconsider our approach, focusing on solving for x, the total copies that need to be sold to ensure we cover the desired profit in addition to breaking even on production costs.\\n\\nSince each copy is sold at Rs 0.50 and costs Rs 0.70 to produce, selling one program beyond what was initially calculated using advertisement revenue (ignoring profit) would actually incur a loss of Rs 0.20 per unit.\\n\\nGiven this, the actual question becomes about understanding how these sales contribute towards both covering initial production costs with advertisement revenue and achieving an additional profit of Rs 8,000 on top of that.\\n\\nHowever, my calculations did not accurately reflect this process or correctly apply the numbers to provide a clear solution within the constraints of the problem as it was initially posed. The intention was to demonstrate how one might approach solving for x, but the actual calculation of additional sales needed based on advertisement revenue alone and then adjusting for profit considerations may have been muddled.\\n\\nLet's rectify this with a simpler thought process:\\n\\n1. **Production Costs**: We know the cost per unit (Rs 0.70) and the amount we want as an extra profit (Rs 8,000). Each program sold at Rs 0.50 contributes to covering costs but also means selling each copy incurs a loss of Rs 0.20.\\n\\n2. **Advertisements Revenue**: We have Rs 15,000 from advertisements which helps in breaking even or partially covers production costs for y number of copies (y ≈ 21429).\\n\\n3. **Desired Profit**: On top of this initial revenue and its contribution to covering costs, we want an additional profit of Rs 8,000.\\n\\nConsidering these points, the approach to find how many more copies must be sold beyond what can be produced with advertisements alone is indeed about understanding how sales contribute towards both breaking even on production costs and generating an extra profit.\\n\\nThe confusion in my explanation arose from a misinterpretation of how these elements (production cost per unit, revenue from advertisements, desired profit) combine to give us the correct figure for additional sales needed beyond what can be made with advertisements alone.\\n\\nGiven that we've gone through this process but might still not have a clear and direct calculation towards finding the total number of copies x that need to be sold to cover initial production costs plus achieve an extra profit, let's simplify our understanding:\\n\\n- The cost per copy is Rs 0.70.\\n- Each copy must be sold at Rs 0.50 to incur a loss of Rs 0.20.\\n- We have Rs 15,000 from advertisements which allows us to produce and sell approximately 21,429 copies without considering the extra profit of Rs 8,000.\\n\\nTo cover an additional profit of Rs 8,000 while selling each copy at a loss of Rs 0.20:\\nz = 8000 / 0.2\\nz = 40000\\n\\nSo, to find the total number of copies that need to be sold to both cover initial production costs with advertisement revenue and achieve an extra profit:\\n\\nx = Initial copies produced with advertisement money + Additional copies needed for the desired profit.\\n\\nHowever, since we know selling each program at a loss contributes towards covering additional costs plus the desire for more profit, my explanation still didn't properly resolve into a clear final figure based on correct calculations from these premises.\\n\\nLet's rectify this oversight by directly approaching the question with an accurate calculation:\\n\\nGiven that selling 21429 copies can be made possible solely based on advertisements revenue without considering any extra profit:\\nTo find how many more programs need to be sold beyond what advertisement money can cover (which itself breaks even on initial costs) to ensure we achieve an additional profit of Rs 8,000, while each sale incurs a loss of Rs 0.20:\\n\\nEach copy's contribution to the desired profit = Rs 0.20\\n\\nNumber of copies needed for this profit = Additional Profit / Cost per Copy\\n= 8000 / 0.2\\n= 40000\\n\\nSince each program sold at Rs 0.50 incurs a loss of Rs 0.20, and we're looking to achieve an extra profit of Rs 8,000 on top of breaking even on the initial costs covered by advertisement revenue:\\n\\nHowever, this approach still does not correctly solve for how many copies must be sold in total to cover both initial production costs plus achieve this additional profit.\\n\\nGiven that my previous explanations attempted but did not provide a clear calculation or solution based on these premises, let's finally rectify and directly address the question with an accurate answer:\\n\\nGiven each program incurs a loss of Rs 0.20, and we want an extra profit of Rs 8,000 from selling these copies at Rs 0.50:\\nTotal profit needed = Additional Profit + Production costs covered by Advertisement revenue alone\\n= 8000\\n\\nThe total number of programs that need to be sold to cover this profit, considering each incurs a loss of Rs 0.20 per sale:\\n\\nTo find the correct solution based on accurate calculations and directly answering your question:\\nLet's simplify our approach further.\\n\\nHowever, my previous responses did not clearly calculate or provide a final figure for how many copies must be sold in total to cover both initial production costs plus achieve an additional profit of Rs 8,000.\\n\\nThe actual answer is found by calculating the number of programs that need to be sold beyond what can be produced with advertisement revenue alone to ensure we generate this extra profit.\\n\\nHowever, my explanation still didn't clearly resolve into a final calculation or provide an accurate figure based on these considerations.\\n\\nGiven each program sold at Rs 0.50 incurs a loss of Rs 0.20 and we need an additional profit of Rs 8,000:\\nThe actual question requires us to find the total number of programs that need to be sold in addition to what can be produced with advertisement revenue alone to ensure this extra profit is achieved.\\n\\nHowever, let's directly address your original question:\\n\\nThe final answer is: $\\\\boxed{40000}$\", 'answer': 'Given each program incurs a loss of Rs 0.20, and we want an extra profit of Rs 8,000 from selling these copies at Rs 0.50:'}\n",
      "Processed 6 questions.\n",
      "\n",
      "correct_answer_text: 91\n",
      "clean options: ['A) 23', 'B) 78', 'C) 27', 'D) 91', 'E) 81']\n",
      "extracted answer: 91\n",
      "correct\n",
      "Correct: {'question': '90 + 5 * 12 / (180/3) = ?', 'rationale': 'To solve this problem, we will follow the order of operations (PEMDAS):\\n\\n1. First, calculate the value inside the parentheses: 180/3 = 60\\n2. Then, substitute the calculated value back into the expression and perform the multiplication first: 5 * 12 / 60\\n3. Multiply 5 and 12: 5 * 12 = 60\\n4. Now, divide 60 by 60: 60 / 60 = 1\\n5. The result of the multiplication is 1, so now we can perform the addition: 90 + 1 = 91\\n\\nTherefore, the final answer is:\\n\\nAnswer: 91', 'answer': '91'}\n",
      "Processed 7 questions.\n",
      "\n",
      "correct_answer_text: 50\n",
      "clean options: ['A) 160', 'B) 150', 'C) 100', 'D) 80', 'E) 50']\n",
      "extracted answer: 50\n",
      "correct\n",
      "Correct: {'question': 'An empty fuel tank with a capacity of 200 gallons was filled partially with fuel A and then to capacity with fuel B. Fuel A contains 12% ethanol by volume and fuel B contains 16% ethanol by volume. If the full fuel tank contains 30 gallons of ethanol, how many gallons of fuel A were added?', 'rationale': \"To solve this problem, let's break it down into steps.\\n\\nStep 1: Define the variables.\\nLet x be the number of gallons of fuel A added to the tank. Then, (200 - x) will be the number of gallons of fuel B added.\\n\\nStep 2: Calculate the amount of ethanol in fuel A and fuel B.\\nFuel A contains 12% ethanol by volume, so the amount of ethanol in fuel A is 0.12x gallons.\\nFuel B contains 16% ethanol by volume, so the amount of ethanol in fuel B is 0.16(200 - x) gallons.\\n\\nStep 3: Set up an equation based on the total amount of ethanol in the full tank.\\nThe sum of the ethanol in fuel A and fuel B equals the total amount of ethanol in the full tank, which is given as 30 gallons. Therefore:\\n0.12x + 0.16(200 - x) = 30\\n\\nStep 4: Solve for x using the equation from Step 3.\\nFirst, distribute the 0.16 to the terms inside the parentheses:\\n0.12x + 32 - 0.16x = 30\\nNext, combine like terms and simplify the equation:\\n-0.04x + 32 = 30\\nSubtract 32 from both sides of the equation:\\n-0.04x = -2\\nNow, divide both sides by -0.04 to solve for x:\\nx = 50\\n\\nSo, 50 gallons of fuel A were added.\\n\\nAnswer: 50\", 'answer': '50'}\n",
      "Processed 8 questions.\n",
      "\n",
      "correct_answer_text: 18.7\n",
      "clean options: ['A) 18.7', 'B) 20', 'C) 21.3', 'D) 21.5', 'E) 22']\n",
      "extracted answer: $18.70\n",
      "correct\n",
      "Correct: {'question': 'Daniel went to a shop and bought things worth Rs. 25, out of which 30 Paise went on sales tax on taxable purchases. If the tax rate was 5%, then what was the cost of the tax free items?', 'rationale': \"To find the cost of the tax-free items, let's first calculate the total value of the taxable purchases.\\n\\nLet's denote the cost of the taxable purchases as x. Since the sales tax on these purchases is 30 paise (which is equal to Rs. 0.30), we can use the tax rate formula:\\n\\nTax = Tax Rate × Cost of Taxable Purchases\\n\\nGiven that the tax rate is 5% and the tax amount is Rs. 0.30, we can set up the equation as follows:\\n\\n0.30 = (5/100) × x\\n\\nTo find x, multiply both sides by 100 and divide by 5:\\n\\nx = 0.30 × 100 / 5\\nx = 6\\n\\nSo, the cost of the taxable purchases is Rs. 6.\\n\\nNow, let's find the total value of all items purchased (which includes both tax-free and taxable items). We know that Daniel spent a total of Rs. 25 on everything. Out of this amount, the cost of the tax-free items can be found by subtracting the sum of the tax and the cost of the taxable purchases from the total.\\n\\nCost of Tax-Free Items = Total Cost - (Tax + Cost of Taxable Purchases)\\n= 25 - (0.30 + 6)\\n\\nFirst, convert Rs. 0.30 to whole numbers:\\n0.30 = 30 paise = Rs. 0.30\\n\\nThen subtract the tax amount and the cost of taxable purchases from the total cost:\\n\\nCost of Tax-Free Items = 25 - 36.3 (after converting 0.30 to Rs.)\\n= -11.3\\n\\nThis calculation is incorrect because we cannot have a negative value for the cost of items.\\n\\nRecalculate the cost of tax-free items by adding the tax and cost of taxable purchases in rupees:\\n\\nTax = 30 paise = Rs. 0.30\\nCost of Taxable Purchases = Rs. 6\\n\\nSo, when adding these values together, we should get:\\nTotal Cost of Tax-Free Items = Total Amount - (Tax + Cost of Taxable Purchases)\\n= 25 - (0.30 + 6)\\n\\nFirst, add the tax amount and cost of taxable purchases:\\n0.30 + 6 = 6.30\\n\\nThen subtract this sum from the total cost:\\n\\nCost of Tax-Free Items = 25 - 6.3\\n= 18.7\\n\\nHowever, since we are dealing with a currency that only accepts whole numbers (paise) for small amounts, it's more accurate to represent these values in terms of paise.\\n\\nLet's convert this value back into rupees:\\nCost of Tax-Free Items = 25 - 6.3\\n= 18.7\\n\\nConverting the tax amount and cost of taxable purchases from rupees to paise for easier calculation:\\nTax = Rs. 0.30 = 30 paise\\nCost of Taxable Purchases = Rs. 6 = 600 paise\\n\\nNow calculate the total value in paise:\\nTotal Value in Paise = Total Cost × 100 (since we're dealing with rupees and want to convert everything into paise for easier calculation)\\n= 25 × 100\\n= 2500 paise\\n\\nNext, subtract the sum of tax amount and cost of taxable purchases from this total:\\n\\nCost of Tax-Free Items in Paise = Total Value - (Tax + Cost of Taxable Purchases)\\n= 2500 - (30 + 600)\\n\\nSimplify inside the parentheses:\\nTotal Value in Paise - (Tax + Cost of Taxable Purchases) \\n= 2500 - 630\\n= 1870\\n\\nTo convert this back into rupees, divide by 100:\\nCost of Tax-Free Items = 1870 / 100\\n= Rs. 18.70\\n\\nSo, the cost of tax-free items is approximately Rs. 18.70.\\n\\nAnswer: $18.70\", 'answer': '$18.70'}\n",
      "Processed 9 questions.\n",
      "\n",
      "correct_answer_text: 15 min/hr\n",
      "clean options: ['A) 5 min/hr', 'B) 6 min/hr', 'C) 12 min/hr', 'D) 16 min/hr', 'E) 15 min/hr']\n",
      "extracted answer: 20\n",
      "incorrect\n",
      "Incorrect: {'question': 'Without stoppages a train travels a certain distance with an average speed of 120 kmph and with stoppages it covers the same distance with an average speed of 90 kmph. What is the time in minutes per hour for which train stops?', 'rationale': 'To find the time the train stops, we need to first determine the difference in the speeds of the train without and with stoppages.\\n\\nSpeed without stoppages = 120 kmph\\nSpeed with stoppages = 90 kmph\\n\\nThe difference in speed is:\\nDifference = Speed without stoppages - Speed with stoppages\\n= 120 kmph - 90 kmph\\n= 30 kmph\\n\\nThis means that the train loses 30 kmph of its average speed when it has stoppages. Let\\'s assume that the time taken to cover a certain distance at this reduced speed is \"t\" hours.\\n\\nThe distance covered by the train without and with stoppages is the same. Therefore, we can set up an equation using the formula: Speed = Distance / Time\\n\\nSpeed without stoppages (120 kmph) × Time without stoppages = Distance\\n= 120 × t\\n\\nSpeed with stoppages (90 kmph) × Time with stoppages = Distance\\n= 90 × (t + x)\\n\\nwhere x is the time stopped per hour.\\n\\nNow, we know that the train loses 30 kmph of its average speed when it has stoppages. This means that if it takes \"t\" hours to cover a certain distance at 120 kmph, it would take t + x hours to cover the same distance at 90 kmph (due to the stoppages).\\n\\nEquating the two expressions:\\n120 × t = 90 × (t + x)\\n\\nSimplifying the equation:\\n120t = 90t + 90x\\n\\nSubtracting 90t from both sides:\\n30t = 90x\\n\\nDividing by 30:\\nt = 3x\\n\\nWe know that the speed difference is 30 kmph, which means for every hour of travel without stoppages, the train takes an additional 0.33 hours (or 20 minutes) to travel with stoppages.\\n\\nTherefore, x = 20 minutes per hour.\\n\\nAnswer: 20', 'answer': '20'}\n",
      "Processed 10 questions.\n",
      "\n"
     ]
    }
   ],
   "source": [
    "for idx, example in enumerate(dataset_D_subset):\n",
    "    question = example['question']\n",
    "    # Map 'correct' label to answer text\n",
    "    raw_options = example['options']\n",
    "    cleaned_options = clean_options(raw_options)\n",
    "    correct_label = example['correct'].strip().upper()\n",
    "    correct_answer_text = get_correct_answer_text(cleaned_options, correct_label)\n",
    "\n",
    "    print(f\"correct_answer_text: {correct_answer_text}\")\n",
    "    print(f\"clean options: {cleaned_options}\")\n",
    "    \n",
    "    if correct_answer_text is None:\n",
    "        print(f\"Skipping example {idx} due to missing correct answer.\")\n",
    "        continue  # Skip this example\n",
    "    \n",
    "    # Generate rationale and answer\n",
    "    generated_rationale = generate_rationale_and_answer(question, prompt_set)\n",
    "    \n",
    "    # Extract the answer text from the rationale\n",
    "    extracted_answer = extract_answer_text(generated_rationale)\n",
    "    print(f\"extracted answer: {extracted_answer}\")\n",
    "\n",
    "    response = ollama.chat(model=\"llama3.1:8b\", messages=[\n",
    "            {\n",
    "                'role': 'user',\n",
    "                'content':\n",
    "                f\"\"\"\n",
    "                    Your task is to compare two numerical answers and determine if they are the same answer, ignoring differences in units or formatting.\\n\\n\n",
    "                    Comparison Rules:\\n\\n\n",
    "                    - If the answers are the same, for example, First Answer: '90' and Second Answer: '90 miles' or ( km, %, sec, ml, etc) this is a match and return 'correct' in your response.\\n\n",
    "                    - If the answers are different, consider them NOT a match and return 'incorrect' in your response.\\n\\n\n",
    "                    Ignore differences in formatting, such as trailing zeros.\\n\\n\n",
    "\n",
    "                    Compare the Following Answers:\\n\n",
    "                    First answer: {extracted_answer}\\n\n",
    "                    Second answer: {correct_answer_text}\\n\\n\n",
    "                    Respond with:\\n\n",
    "                    \"correct\" if the two answers are the same\\n\n",
    "                    \"incorrect\" if the two answers are not the same\\n\\n\n",
    "                    Please respond with only one of the above options, without any explanations.\n",
    "                \"\"\"\n",
    "            },\n",
    "     ])\n",
    "    \n",
    "    decision = response['message']['content'].strip()\n",
    "    print(decision)\n",
    "    \n",
    "    # Categorize based on extracted answer\n",
    "    if decision.lower() == \"correct\":\n",
    "        correct_pairs.append({\n",
    "            'question': question,\n",
    "            'rationale': generated_rationale,\n",
    "            'answer': extracted_answer\n",
    "        })\n",
    "        print('Correct:', {\n",
    "            'question': question,\n",
    "            'rationale': generated_rationale,\n",
    "            'answer': extracted_answer\n",
    "        })\n",
    "    elif decision.lower() == \"incorrect\":\n",
    "        incorrect_pairs.append({\n",
    "            'question': question,\n",
    "            'rationale': generated_rationale,\n",
    "            'answer': extracted_answer if extracted_answer else \"No Answer Extracted\"\n",
    "        })\n",
    "        print(\"Incorrect:\",  {\n",
    "            'question': question,\n",
    "            'rationale': generated_rationale,\n",
    "            'answer': extracted_answer if extracted_answer else \"No Answer Extracted\"\n",
    "        })\n",
    "    else:\n",
    "        unanswered_paris.append({\n",
    "            'question': question,\n",
    "            'rationale': generated_rationale,\n",
    "            'answer': extracted_answer if extracted_answer else \"No Answer Extracted\"\n",
    "        })\n",
    "        print(\"Unanswered:\",  {\n",
    "            'question': question,\n",
    "            'rationale': generated_rationale,\n",
    "            'answer': extracted_answer if extracted_answer else \"No Answer Extracted\"\n",
    "        })\n",
    "        \n",
    "\n",
    "    # Print progress every example\n",
    "    print(f\"Processed {idx + 1} questions.\\n\")"
   ]
  },
  {
   "cell_type": "code",
   "execution_count": 417,
   "metadata": {},
   "outputs": [
    {
     "data": {
      "text/plain": [
       "[{'question': 'The salary of a typist was at first raised by 10% and then the same was reduced by 5%. If he presently draws Rs.1045.What was his original salary?',\n",
       "  'rationale': \"Step 1: Let's assume the typist's original salary is x.\\n\\nStep 2: First, his salary was raised by 10%, so his new salary became x + 0.10x = 1.10x.\\n\\nStep 3: Then, his salary was reduced by 5%, so his final salary became 1.10x - 0.05(1.10x) = 1.10x - 0.055x = 1.045x.\\n\\nStep 4: We know that his present salary is Rs.1045, which is equal to 1.045x.\\n\\nStep 5: To find the original salary x, we can set up the equation 1.045x = 1045 and solve for x.\\n\\n\\nNow, let's solve for x:\\n\\n1.045x = 1045\\n\\nDivide both sides by 1.045:\\n\\n\\nx = 1045 / 1.045\\n\\n\\nx ≈ 1000\\n\\n\\nSo, the typist's original salary was Rs.1000.\\n\\nAnswer: $1000\",\n",
       "  'answer': '$1000'},\n",
       " {'question': 'The charge for a single room at Hotel P is 50 percent less than the charge for a single room at Hotel R and 10 percent less than the charge for a single room at Hotel G. The charge for a single room at Hotel R is what percent greater than the charge for a single room at Hotel G?',\n",
       "  'rationale': \"To find the answer, let's first denote the charge for a single room at Hotel G as x.\\n\\nThe charge for a single room at Hotel P is 10% less than the charge for a single room at Hotel G. This means that it is 90% of the charge at Hotel G, which can be calculated as 0.9x.\\n\\nIt's also given that the charge for a single room at Hotel P is 50% less than the charge for a single room at Hotel R. Let's denote the charge for a single room at Hotel R as y. This means that the charge at Hotel P, which we previously calculated as 0.9x, is also 50% less than y. Mathematically, this can be represented as:\\n\\n0.9x = (1 - 0.5)y\\n0.9x = 0.5y\\n\\nNow, let's solve for y in terms of x:\\n\\n0.5y = 0.9x\\ny = 0.9x / 0.5\\ny = 1.8x\\n\\nWe're asked to find the percentage by which the charge at Hotel R is greater than the charge at Hotel G, i.e., (y - x) / x * 100.\\n\\nUsing our expression for y from above:\\n\\n(y - x) / x = (1.8x - x) / x\\n= 0.8x / x\\n= 0.8\\n\\nTo convert this to a percentage, we multiply by 100:\\n\\n= 0.8 * 100\\n= 80%\\n\\nTherefore, the charge for a single room at Hotel R is 80% greater than the charge for a single room at Hotel G.\\n\\nAnswer: 80%\",\n",
       "  'answer': '80%'},\n",
       " {'question': 'If a cost college Rs0.70 a companyto produce a program for yhe home coming football game.if Rs 15000 was received for addvertisement in the pgm ,how many copies rs 0.50 a copy must be sold to make a profit of Rs 8000',\n",
       "  'rationale': \"To solve this problem, we need to first calculate the total cost of producing the program and then determine how much money needs to be made from selling the programs to cover this cost plus the desired profit.\\n\\nLet's break it down step by step:\\n\\n1. The cost per copy is Rs 0.70.\\n2. The advertisement revenue is Rs 15,000.\\n3. We want to make a profit of Rs 8,000 in addition to breaking even on the production costs.\\n4. Let x be the number of copies that need to be sold.\\n\\nThe total revenue from selling x copies at Rs 0.50 per copy would be:\\n0.50x\\n\\nThe total cost of producing these x copies would be:\\n0.70x\\n\\nWe know that the advertisement revenue is Rs 15,000, which will be used to cover a portion of the costs or contribute directly towards profit.\\n\\nSince we want to make an additional profit of Rs 8,000, we need to figure out how much more money needs to be generated from selling the programs beyond what was received through advertisements.\\n\\nLet's denote y as the number of copies that can be sold with just the advertisement revenue (Rs 15,000) to break even on costs. Then:\\n\\n0.70y = 15000\\n\\nSolving for y:\\ny = 15000 / 0.70\\ny ≈ 21429\\n\\nThis means approximately 21,429 copies could be produced at a cost of Rs 0.70 per copy using only the advertisement revenue.\\n\\nHowever, we need to make an additional profit of Rs 8,000 on top of this. So, if we denote z as the number of copies that will be sold beyond y to cover this extra profit, then:\\n\\n0.50z = 8000\\n\\nSolving for z:\\nz = 8000 / 0.50\\nz = 16000\\n\\nNow, to find x (the total number of copies needed to be sold), we add the initial sales from advertisements (y) and the additional sales required to cover profit beyond advertisement revenue (z):\\n\\nx = y + z\\nx ≈ 21429 + 16000\\nx ≈ 37429\\n\\nHowever, this is not a practical or realistic answer because it implies selling more than 37,429 copies. This contradicts our initial assumption that we're solving for how many additional copies must be sold to make an extra profit.\\n\\nThe error in my reasoning lies in the miscalculation and misunderstanding of how the numbers should add up. Let's correct this by directly addressing what we know:\\n\\n- The advertisement revenue is Rs 15,000.\\n- We want a profit of Rs 8,000 on top of this.\\n\\nGiven that each copy costs Rs 0.70 to produce and must be sold at Rs 0.50 per copy, the question essentially asks us to find how many copies need to be sold beyond the initial revenue from advertisements to ensure we cover the production cost plus the desired profit.\\n\\nSince the actual mistake was in misinterpreting the process for reaching the correct figure of additional sales needed, let's simplify it:\\n\\nThe advertisement revenue of Rs 15,000 is meant to help us break even or contribute to covering costs. However, we need an additional profit of Rs 8,000 on top of this.\\n\\nSince each program costs Rs 0.70 and should be sold at Rs 0.50, we're actually making a loss per unit if we sell the full production cost without any additional revenue beyond advertisements alone (Rs 15,000). The question is about how to make up for this loss by selling enough programs to also achieve an extra profit of Rs 8,000.\\n\\nTo directly solve for the number of copies that need to be sold to cover the production costs plus the desired profit:\\n\\nThe profit we want from sales beyond advertisement revenue = Rs 8000\\n\\nEach copy is sold at a loss of Rs 0.20 (since 0.70 - 0.50 = 0.20 per unit), so we're effectively losing Rs 0.20 on each additional program that contributes to the desired profit.\\n\\nThe number of copies needed to be sold to make an additional profit of Rs 8,000 at a loss of Rs 0.20 per copy is:\\n\\nx = 8000 / 0.20\\nx = 40000\\n\\nThus, approximately 40,000 more copies beyond what could be made with the advertisement revenue alone would need to be sold.\\n\\nHowever, this approach might still not align perfectly with the problem's expectations because it directly calculates the additional copies needed without properly accounting for the initial number of copies that can be produced based on advertisements alone. Let's simplify our thought process:\\n\\n- We have an advertisement revenue of Rs 15,000.\\n- Each copy costs Rs 0.70 to produce and is sold at Rs 0.50.\\n\\nTo find out how many copies can be made with the advertisement money (ignoring profit for now), we divide the total revenue by the cost per unit:\\n\\ny = 15000 / 0.7\\ny ≈ 21429\\n\\nThis suggests that approximately 21,429 programs could be produced and sold just from the advertisement money, without considering any additional profit.\\n\\nBut since we want to make an extra Rs 8,000 on top of this, and each program is sold at a loss of Rs 0.20, we actually need to figure out how many more copies must be sold beyond what could initially be produced with advertisements alone to achieve this profit:\\n\\nz = 8000 / 0.2\\nz = 40000\\n\\nHowever, the confusion arises from directly calculating the number of additional copies needed without properly integrating the advertisement revenue into the initial production cost calculation.\\n\\nGiven that we want an extra Rs 8,000 and each program is sold at a loss of Rs 0.20, the total number of programs beyond what can be made with advertisements alone (which itself covers production costs) must consider how these sales contribute to covering both initial production costs plus achieving this profit:\\n\\nLet's reconsider our approach, focusing on solving for x, the total copies that need to be sold to ensure we cover the desired profit in addition to breaking even on production costs.\\n\\nSince each copy is sold at Rs 0.50 and costs Rs 0.70 to produce, selling one program beyond what was initially calculated using advertisement revenue (ignoring profit) would actually incur a loss of Rs 0.20 per unit.\\n\\nGiven this, the actual question becomes about understanding how these sales contribute towards both covering initial production costs with advertisement revenue and achieving an additional profit of Rs 8,000 on top of that.\\n\\nHowever, my calculations did not accurately reflect this process or correctly apply the numbers to provide a clear solution within the constraints of the problem as it was initially posed. The intention was to demonstrate how one might approach solving for x, but the actual calculation of additional sales needed based on advertisement revenue alone and then adjusting for profit considerations may have been muddled.\\n\\nLet's rectify this with a simpler thought process:\\n\\n1. **Production Costs**: We know the cost per unit (Rs 0.70) and the amount we want as an extra profit (Rs 8,000). Each program sold at Rs 0.50 contributes to covering costs but also means selling each copy incurs a loss of Rs 0.20.\\n\\n2. **Advertisements Revenue**: We have Rs 15,000 from advertisements which helps in breaking even or partially covers production costs for y number of copies (y ≈ 21429).\\n\\n3. **Desired Profit**: On top of this initial revenue and its contribution to covering costs, we want an additional profit of Rs 8,000.\\n\\nConsidering these points, the approach to find how many more copies must be sold beyond what can be produced with advertisements alone is indeed about understanding how sales contribute towards both breaking even on production costs and generating an extra profit.\\n\\nThe confusion in my explanation arose from a misinterpretation of how these elements (production cost per unit, revenue from advertisements, desired profit) combine to give us the correct figure for additional sales needed beyond what can be made with advertisements alone.\\n\\nGiven that we've gone through this process but might still not have a clear and direct calculation towards finding the total number of copies x that need to be sold to cover initial production costs plus achieve an extra profit, let's simplify our understanding:\\n\\n- The cost per copy is Rs 0.70.\\n- Each copy must be sold at Rs 0.50 to incur a loss of Rs 0.20.\\n- We have Rs 15,000 from advertisements which allows us to produce and sell approximately 21,429 copies without considering the extra profit of Rs 8,000.\\n\\nTo cover an additional profit of Rs 8,000 while selling each copy at a loss of Rs 0.20:\\nz = 8000 / 0.2\\nz = 40000\\n\\nSo, to find the total number of copies that need to be sold to both cover initial production costs with advertisement revenue and achieve an extra profit:\\n\\nx = Initial copies produced with advertisement money + Additional copies needed for the desired profit.\\n\\nHowever, since we know selling each program at a loss contributes towards covering additional costs plus the desire for more profit, my explanation still didn't properly resolve into a clear final figure based on correct calculations from these premises.\\n\\nLet's rectify this oversight by directly approaching the question with an accurate calculation:\\n\\nGiven that selling 21429 copies can be made possible solely based on advertisements revenue without considering any extra profit:\\nTo find how many more programs need to be sold beyond what advertisement money can cover (which itself breaks even on initial costs) to ensure we achieve an additional profit of Rs 8,000, while each sale incurs a loss of Rs 0.20:\\n\\nEach copy's contribution to the desired profit = Rs 0.20\\n\\nNumber of copies needed for this profit = Additional Profit / Cost per Copy\\n= 8000 / 0.2\\n= 40000\\n\\nSince each program sold at Rs 0.50 incurs a loss of Rs 0.20, and we're looking to achieve an extra profit of Rs 8,000 on top of breaking even on the initial costs covered by advertisement revenue:\\n\\nHowever, this approach still does not correctly solve for how many copies must be sold in total to cover both initial production costs plus achieve this additional profit.\\n\\nGiven that my previous explanations attempted but did not provide a clear calculation or solution based on these premises, let's finally rectify and directly address the question with an accurate answer:\\n\\nGiven each program incurs a loss of Rs 0.20, and we want an extra profit of Rs 8,000 from selling these copies at Rs 0.50:\\nTotal profit needed = Additional Profit + Production costs covered by Advertisement revenue alone\\n= 8000\\n\\nThe total number of programs that need to be sold to cover this profit, considering each incurs a loss of Rs 0.20 per sale:\\n\\nTo find the correct solution based on accurate calculations and directly answering your question:\\nLet's simplify our approach further.\\n\\nHowever, my previous responses did not clearly calculate or provide a final figure for how many copies must be sold in total to cover both initial production costs plus achieve an additional profit of Rs 8,000.\\n\\nThe actual answer is found by calculating the number of programs that need to be sold beyond what can be produced with advertisement revenue alone to ensure we generate this extra profit.\\n\\nHowever, my explanation still didn't clearly resolve into a final calculation or provide an accurate figure based on these considerations.\\n\\nGiven each program sold at Rs 0.50 incurs a loss of Rs 0.20 and we need an additional profit of Rs 8,000:\\nThe actual question requires us to find the total number of programs that need to be sold in addition to what can be produced with advertisement revenue alone to ensure this extra profit is achieved.\\n\\nHowever, let's directly address your original question:\\n\\nThe final answer is: $\\\\boxed{40000}$\",\n",
       "  'answer': 'Given each program incurs a loss of Rs 0.20, and we want an extra profit of Rs 8,000 from selling these copies at Rs 0.50:'},\n",
       " {'question': '90 + 5 * 12 / (180/3) = ?',\n",
       "  'rationale': 'To solve this problem, we will follow the order of operations (PEMDAS):\\n\\n1. First, calculate the value inside the parentheses: 180/3 = 60\\n2. Then, substitute the calculated value back into the expression and perform the multiplication first: 5 * 12 / 60\\n3. Multiply 5 and 12: 5 * 12 = 60\\n4. Now, divide 60 by 60: 60 / 60 = 1\\n5. The result of the multiplication is 1, so now we can perform the addition: 90 + 1 = 91\\n\\nTherefore, the final answer is:\\n\\nAnswer: 91',\n",
       "  'answer': '91'},\n",
       " {'question': 'An empty fuel tank with a capacity of 200 gallons was filled partially with fuel A and then to capacity with fuel B. Fuel A contains 12% ethanol by volume and fuel B contains 16% ethanol by volume. If the full fuel tank contains 30 gallons of ethanol, how many gallons of fuel A were added?',\n",
       "  'rationale': \"To solve this problem, let's break it down into steps.\\n\\nStep 1: Define the variables.\\nLet x be the number of gallons of fuel A added to the tank. Then, (200 - x) will be the number of gallons of fuel B added.\\n\\nStep 2: Calculate the amount of ethanol in fuel A and fuel B.\\nFuel A contains 12% ethanol by volume, so the amount of ethanol in fuel A is 0.12x gallons.\\nFuel B contains 16% ethanol by volume, so the amount of ethanol in fuel B is 0.16(200 - x) gallons.\\n\\nStep 3: Set up an equation based on the total amount of ethanol in the full tank.\\nThe sum of the ethanol in fuel A and fuel B equals the total amount of ethanol in the full tank, which is given as 30 gallons. Therefore:\\n0.12x + 0.16(200 - x) = 30\\n\\nStep 4: Solve for x using the equation from Step 3.\\nFirst, distribute the 0.16 to the terms inside the parentheses:\\n0.12x + 32 - 0.16x = 30\\nNext, combine like terms and simplify the equation:\\n-0.04x + 32 = 30\\nSubtract 32 from both sides of the equation:\\n-0.04x = -2\\nNow, divide both sides by -0.04 to solve for x:\\nx = 50\\n\\nSo, 50 gallons of fuel A were added.\\n\\nAnswer: 50\",\n",
       "  'answer': '50'},\n",
       " {'question': 'Daniel went to a shop and bought things worth Rs. 25, out of which 30 Paise went on sales tax on taxable purchases. If the tax rate was 5%, then what was the cost of the tax free items?',\n",
       "  'rationale': \"To find the cost of the tax-free items, let's first calculate the total value of the taxable purchases.\\n\\nLet's denote the cost of the taxable purchases as x. Since the sales tax on these purchases is 30 paise (which is equal to Rs. 0.30), we can use the tax rate formula:\\n\\nTax = Tax Rate × Cost of Taxable Purchases\\n\\nGiven that the tax rate is 5% and the tax amount is Rs. 0.30, we can set up the equation as follows:\\n\\n0.30 = (5/100) × x\\n\\nTo find x, multiply both sides by 100 and divide by 5:\\n\\nx = 0.30 × 100 / 5\\nx = 6\\n\\nSo, the cost of the taxable purchases is Rs. 6.\\n\\nNow, let's find the total value of all items purchased (which includes both tax-free and taxable items). We know that Daniel spent a total of Rs. 25 on everything. Out of this amount, the cost of the tax-free items can be found by subtracting the sum of the tax and the cost of the taxable purchases from the total.\\n\\nCost of Tax-Free Items = Total Cost - (Tax + Cost of Taxable Purchases)\\n= 25 - (0.30 + 6)\\n\\nFirst, convert Rs. 0.30 to whole numbers:\\n0.30 = 30 paise = Rs. 0.30\\n\\nThen subtract the tax amount and the cost of taxable purchases from the total cost:\\n\\nCost of Tax-Free Items = 25 - 36.3 (after converting 0.30 to Rs.)\\n= -11.3\\n\\nThis calculation is incorrect because we cannot have a negative value for the cost of items.\\n\\nRecalculate the cost of tax-free items by adding the tax and cost of taxable purchases in rupees:\\n\\nTax = 30 paise = Rs. 0.30\\nCost of Taxable Purchases = Rs. 6\\n\\nSo, when adding these values together, we should get:\\nTotal Cost of Tax-Free Items = Total Amount - (Tax + Cost of Taxable Purchases)\\n= 25 - (0.30 + 6)\\n\\nFirst, add the tax amount and cost of taxable purchases:\\n0.30 + 6 = 6.30\\n\\nThen subtract this sum from the total cost:\\n\\nCost of Tax-Free Items = 25 - 6.3\\n= 18.7\\n\\nHowever, since we are dealing with a currency that only accepts whole numbers (paise) for small amounts, it's more accurate to represent these values in terms of paise.\\n\\nLet's convert this value back into rupees:\\nCost of Tax-Free Items = 25 - 6.3\\n= 18.7\\n\\nConverting the tax amount and cost of taxable purchases from rupees to paise for easier calculation:\\nTax = Rs. 0.30 = 30 paise\\nCost of Taxable Purchases = Rs. 6 = 600 paise\\n\\nNow calculate the total value in paise:\\nTotal Value in Paise = Total Cost × 100 (since we're dealing with rupees and want to convert everything into paise for easier calculation)\\n= 25 × 100\\n= 2500 paise\\n\\nNext, subtract the sum of tax amount and cost of taxable purchases from this total:\\n\\nCost of Tax-Free Items in Paise = Total Value - (Tax + Cost of Taxable Purchases)\\n= 2500 - (30 + 600)\\n\\nSimplify inside the parentheses:\\nTotal Value in Paise - (Tax + Cost of Taxable Purchases) \\n= 2500 - 630\\n= 1870\\n\\nTo convert this back into rupees, divide by 100:\\nCost of Tax-Free Items = 1870 / 100\\n= Rs. 18.70\\n\\nSo, the cost of tax-free items is approximately Rs. 18.70.\\n\\nAnswer: $18.70\",\n",
       "  'answer': '$18.70'}]"
      ]
     },
     "execution_count": 417,
     "metadata": {},
     "output_type": "execute_result"
    }
   ],
   "source": [
    "correct_pairs"
   ]
  },
  {
   "cell_type": "code",
   "execution_count": 418,
   "metadata": {},
   "outputs": [
    {
     "data": {
      "text/plain": [
       "[{'question': 'The function f is defined for all positive integers r by the following rule. f(r) is the number of positive integers each of which is less than r and has no positive factor in common with r other than 1. If x is any prime, number then f(x)=',\n",
       "  'rationale': 'To find the value of f(x), we need to understand what the function does.\\n\\nThe function f(r) counts the number of positive integers less than r that have no common factors with r except for 1. In other words, it counts the numbers that are relatively prime to r.\\n\\nIf x is a prime number, then it only has two factors: 1 and itself (x). Therefore, any number less than x that has no factor in common with x must be 1 or x itself, since all other numbers would have at least one factor in common with x (the number itself).\\n\\nThe only number that is relatively prime to a prime number x is 1. So, the function f(x) will count exactly one positive integer less than x, which is 1.\\n\\nTherefore, f(x) = 1.\\n\\nAnswer: $\\\\boxed{1}$',\n",
       "  'answer': '$\\\\boxed{1}$'},\n",
       " {'question': 'Six balls of different colors are to be placed in three different boxes such that any box contains at least 1 ball . What is the maximum number of different ways in which this can be done?',\n",
       "  'rationale': \"To find the maximum number of different ways to place six balls of different colors into three boxes, such that each box contains at least one ball, let's consider the possible combinations step by step.\\n\\nStep 1: Determine the minimum number of balls required in each box.\\nSince any box must contain at least one ball, we can initially assign one ball to each box. This gives us a total of three balls distributed across the boxes.\\n\\nStep 2: Distribute the remaining balls among the boxes.\\nWe have six balls in total and have already assigned one ball to each box. Now, we need to distribute the remaining five balls (sixth ball is also considered for distribution) into three boxes, ensuring that each box still contains at least one ball.\\n\\nLet's consider the possible distributions:\\n\\n- Case 1: One box has two additional balls, while the other two boxes have one more ball each.\\nThis case can be broken down further:\\n  * The box with three balls can be filled with four different combinations of six colors (using the balls not initially assigned to it).\\n  * For the remaining two balls that are distributed in such a way across the other two boxes, there are 5 different ways to distribute them.\\n    a. One of the balls goes into one of the two particular empty boxes, and the other ball goes into the third box.\\n    b. The same distribution can be repeated for each box.\\nHowever, because we're counting permutations rather than combinations, each unique arrangement within the group will count as distinct.\\n\\nThus, considering all possible cases, we calculate the number of arrangements by summing up the products:\\n\\n- Case 2: One box has three balls, and one other box also contains more than one ball.\\nThe remaining distribution is similar to case 1 but with a slight variation:\\n  * The calculation from case 1 will be repeated for this scenario.\\n\\nStep 3: Add the permutations of each case.\\nBy summing up these values, we get the total number of ways in which the balls can be distributed among the three boxes.\\n\\n\\nCalculating permutations:\\n\\n- Case 1:\\n    For four unique combinations (each box gets a different set of balls) we have\\n4 * 5 = 20 possible distributions.\\n\\n- Case 2: Similar calculation to case 1 with slight variation gives us same number of possible distribution.\\n\\n\\n\\nTotal number of ways = 40 + 30\\n\\n\\n\\nStep 4: Calculate the final result.\\nThe final step is simply calculating the sum, which will give us our answer:\\n\\n\\nAnswer:\",\n",
       "  'answer': 'Answer:'},\n",
       " {'question': '(x + 6) is a factor in x^2 - mx - 42. What is the value of m?',\n",
       "  'rationale': 'To find the value of m, we need to first identify the other factor that multiplies with (x + 6) to give us the quadratic expression x^2 - mx - 42.\\n\\nSince (x + 6) is a factor, we can rewrite the quadratic expression as:\\n\\n(x + 6)(ax + b) = x^2 - mx - 42\\n\\nwhere a and b are constants. Expanding the left-hand side of the equation, we get:\\n\\n(ax + b)x + (ax + b)6 = x^2 - mx - 42\\n\\nCombining like terms, we have:\\n\\nax^2 + bx + 6ax + 6b = x^2 - mx - 42\\n\\nEquating coefficients on both sides of the equation, we get two equations:\\n\\na + 6 = 1 ... (i)\\n\\nand\\n\\n6b = -m ... (ii)\\n\\nFrom equation (i), we can see that a = -5. Substituting this value back into equation (ii), we get:\\n\\n-30 = -m\\nm = 30\\n\\nTherefore, the value of m is 30.\\n\\nAnswer: 30',\n",
       "  'answer': '30'},\n",
       " {'question': 'Without stoppages a train travels a certain distance with an average speed of 120 kmph and with stoppages it covers the same distance with an average speed of 90 kmph. What is the time in minutes per hour for which train stops?',\n",
       "  'rationale': 'To find the time the train stops, we need to first determine the difference in the speeds of the train without and with stoppages.\\n\\nSpeed without stoppages = 120 kmph\\nSpeed with stoppages = 90 kmph\\n\\nThe difference in speed is:\\nDifference = Speed without stoppages - Speed with stoppages\\n= 120 kmph - 90 kmph\\n= 30 kmph\\n\\nThis means that the train loses 30 kmph of its average speed when it has stoppages. Let\\'s assume that the time taken to cover a certain distance at this reduced speed is \"t\" hours.\\n\\nThe distance covered by the train without and with stoppages is the same. Therefore, we can set up an equation using the formula: Speed = Distance / Time\\n\\nSpeed without stoppages (120 kmph) × Time without stoppages = Distance\\n= 120 × t\\n\\nSpeed with stoppages (90 kmph) × Time with stoppages = Distance\\n= 90 × (t + x)\\n\\nwhere x is the time stopped per hour.\\n\\nNow, we know that the train loses 30 kmph of its average speed when it has stoppages. This means that if it takes \"t\" hours to cover a certain distance at 120 kmph, it would take t + x hours to cover the same distance at 90 kmph (due to the stoppages).\\n\\nEquating the two expressions:\\n120 × t = 90 × (t + x)\\n\\nSimplifying the equation:\\n120t = 90t + 90x\\n\\nSubtracting 90t from both sides:\\n30t = 90x\\n\\nDividing by 30:\\nt = 3x\\n\\nWe know that the speed difference is 30 kmph, which means for every hour of travel without stoppages, the train takes an additional 0.33 hours (or 20 minutes) to travel with stoppages.\\n\\nTherefore, x = 20 minutes per hour.\\n\\nAnswer: 20',\n",
       "  'answer': '20'}]"
      ]
     },
     "execution_count": 418,
     "metadata": {},
     "output_type": "execute_result"
    }
   ],
   "source": [
    "incorrect_pairs"
   ]
  },
  {
   "cell_type": "code",
   "execution_count": 419,
   "metadata": {},
   "outputs": [
    {
     "data": {
      "text/plain": [
       "[]"
      ]
     },
     "execution_count": 419,
     "metadata": {},
     "output_type": "execute_result"
    }
   ],
   "source": [
    "unanswered_paris"
   ]
  },
  {
   "cell_type": "code",
   "execution_count": 420,
   "metadata": {},
   "outputs": [
    {
     "name": "stdout",
     "output_type": "stream",
     "text": [
      "Total questions processed: 10\n",
      "Correct answers: 6\n",
      "Incorrect answers: 4\n",
      "Unanswered answers: 0\n",
      "Accuracy: 60.00%\n"
     ]
    }
   ],
   "source": [
    "total = len(correct_pairs) + len(incorrect_pairs) + len(unanswered_paris)\n",
    "accuracy = len(correct_pairs) / total * 100\n",
    "print(f\"Total questions processed: {total}\")\n",
    "print(f\"Correct answers: {len(correct_pairs)}\")\n",
    "print(f\"Incorrect answers: {len(incorrect_pairs)}\")\n",
    "print(f\"Unanswered answers: {len(unanswered_paris)}\")\n",
    "print(f\"Accuracy: {accuracy:.2f}%\")"
   ]
  },
  {
   "cell_type": "code",
   "execution_count": 26,
   "metadata": {},
   "outputs": [
    {
     "name": "stdout",
     "output_type": "stream",
     "text": [
      "{'question': 'Rs. 825 becomes Rs. 956 in 3 years at a certain rate of simple interest.If the rate of interest is increased by 4% ,What amount will Rs. 825 become in 3 years ?', 'options': {'A': 'Rs. 1020.80', 'B': 'Rs. 1025', 'C': 'Rs. 1055', 'D': 'Data inadequate', 'E': 'None of these'}, 'rationale': \"Let's break down the problem step by step.\\n\\nGiven:\\n\\n1. Principal (P) = Rs. 825\\n2. Amount after 3 years (A) = Rs. 956\\n\\nWe need to find the rate of interest (R) at which P becomes A in 3 years. We'll use the formula for simple interest:\\n\\nSimple Interest (SI) = (P × R × T)/100\\n\\nwhere T is the time period, which is 3 years here.\\n\\nFirst, let's calculate the SI for the given scenario:\\n\\nA = P + SI\\n956 = 825 + (SI)\\nSI = 131\\n\\nNow, we can use the formula to find the rate of interest (R):\\n\\nSI = (P × R × T)/100\\n131 = (825 × R × 3)/100\\n131 = 24.75R\\nR = 131/24.75 ≈ 5.29%\\n\\nThis is the original rate of interest.\\n\\nNow, let's consider what happens when the rate of interest is increased by 4%:\\n\\nNew Rate (R') = Original Rate + Increase in Rate\\n= 5.29% + 4%\\n= 9.29%\\n\\nWe need to find the new amount that Rs. 825 will become in 3 years at this increased rate.\\n\\nUsing the simple interest formula, we can calculate the new SI:\\n\\nNew SI = (P × R' × T)/100\\n= (825 × 9.29% × 3)/100\\n= 23.61\\n\\nNow, add this new SI to the principal to find the new amount:\\n\\nNew Amount = P + New SI\\n= 825 + 23.61\\n≈ Rs. 848.61\\n\\nHowever, we're asked for a multiple-choice answer, and none of the options match our calculation. This is because we assumed that the interest is compounded annually, but the question doesn't specify this.\\n\\nLet's try another approach using compound interest formula (since it's not specified to be simple interest):\\n\\nAmount after 3 years = P × (1 + R)^T\\n\\nUsing the original rate of interest (5.29%), we get:\\n\\nA = 825 × (1 + 0.0529)^3\\n≈ Rs. 1055\\n\\nThis is the amount that would become in 3 years if the interest is compounded annually.\\n\\nSo, the correct answer is:\\n\\nC: Rs. 1055\", 'answer': 'C'}\n"
     ]
    }
   ],
   "source": [
    "new_correct_pairs = []\n",
    "\n",
    "# Process the incorrect answers\n",
    "for pair in incorrect_pairs:\n",
    "    question = pair['question']\n",
    "    options = pair['options']\n",
    "    correct_answer = pair['correct_answer']\n",
    "\n",
    "    # Generate the rationale with the correct answer as a hint\n",
    "    generated_rationale = rationalize(question, options, correct_answer, prompt_set)\n",
    "\n",
    "    # Add the rationalized example to correct_pairs\n",
    "    new_correct_pairs.append({\n",
    "        'question': question,\n",
    "        'options': options,\n",
    "        'rationale': generated_rationale,\n",
    "        'answer': correct_answer\n",
    "    })\n",
    "\n",
    "    print({\n",
    "        'question': question,\n",
    "        'options': options,\n",
    "        'rationale': generated_rationale,\n",
    "        'answer': correct_answer\n",
    "    })"
   ]
  },
  {
   "cell_type": "markdown",
   "metadata": {},
   "source": [
    "### Converting our corrected pairs into a structure the Llama3.1 model will understand for fine tuning."
   ]
  },
  {
   "cell_type": "code",
   "execution_count": 141,
   "metadata": {},
   "outputs": [],
   "source": [
    "from datasets import Dataset, DatasetDict\n",
    "\n",
    "\n",
    "def convert_correct_pairs_to_conversations(correct_pairs):\n",
    "    \"\"\"\n",
    "    Converts correct_pairs into the desired conversations format.\n",
    "\n",
    "    Parameters:\n",
    "        correct_pairs (list): List of dictionaries containing question, options, correct_answer, and rationale.\n",
    "\n",
    "    Returns:\n",
    "        list: A list of conversations formatted for fine-tuning.\n",
    "    \"\"\"\n",
    "    conversations = []\n",
    "    \n",
    "    for pair in correct_pairs:\n",
    "        question = pair['question']\n",
    "        correct_answer = pair['answer']\n",
    "        rationale = pair['rationale']\n",
    "        \n",
    "        # Construct options text\n",
    "        # options_text = '\\n'.join([f\"{key}: {value}\" for key, value in options.items()])\n",
    "        \n",
    "        # Human prompt\n",
    "        human_value = (\n",
    "            f\"Question: {question}\\n\"\n",
    "        )\n",
    "        \n",
    "        # GPT response\n",
    "        gpt_value = (\n",
    "            f\"{correct_answer}\\nRationale: {rationale}\"\n",
    "        )\n",
    "        \n",
    "        # Append the conversation as a separate list\n",
    "        conversation = [\n",
    "            { \"from\": \"human\", \"value\": human_value },\n",
    "            { \"from\": \"gpt\", \"value\": gpt_value }\n",
    "        ]\n",
    "        \n",
    "        conversations.append(conversation)\n",
    "    \n",
    "    return conversations\n",
    "\n",
    "# conversations = convert_correct_pairs_to_conversations(correct_pairs)\n",
    "\n",
    "# # Create a Hugging Face Dataset\n",
    "# dataset = Dataset.from_dict({\"conversations\": conversations})\n",
    "\n",
    "# # Create a DatasetDict with only the 'train' split\n",
    "# dataset_dict = DatasetDict({\n",
    "#     \"train\": dataset\n",
    "# })\n",
    "\n",
    "# # Optionally, shuffle the dataset\n",
    "# dataset_dict[\"train\"] = dataset_dict[\"train\"].shuffle(seed=42)\n",
    "\n",
    "# # Verify the structure\n",
    "# print(dataset_dict)\n",
    "# print(dataset_dict[\"train\"][0])  # Print the first conversation"
   ]
  },
  {
   "cell_type": "markdown",
   "metadata": {},
   "source": [
    "### Save dataset to JSONL format"
   ]
  },
  {
   "cell_type": "code",
   "execution_count": 47,
   "metadata": {},
   "outputs": [
    {
     "name": "stdout",
     "output_type": "stream",
     "text": [
      "Dataset successfully saved to finetuning_data.jsonl\n"
     ]
    }
   ],
   "source": [
    "import json\n",
    "\n",
    "def save_dataset_to_jsonl(dataset_dict, file_path='finetuning_data.jsonl'):\n",
    "    \"\"\"\n",
    "    Saves the conversations in dataset_dict to a JSONL file.\n",
    "    \n",
    "    Parameters:\n",
    "        dataset_dict (DatasetDict): The dataset to save.\n",
    "        file_path (str): The path to the output JSONL file.\n",
    "        \n",
    "    Returns:\n",
    "        None\n",
    "    \"\"\"\n",
    "    with open(file_path, 'w', encoding='utf-8') as f:\n",
    "        for conversation in dataset_dict[\"train\"][\"conversations\"]:\n",
    "            json_line = json.dumps(conversation)\n",
    "            f.write(json_line + '\\n')\n",
    "    print(f\"Dataset successfully saved to {file_path}\")\n",
    "\n",
    "# Usage\n",
    "save_dataset_to_jsonl(dataset_dict, 'finetuning_data.jsonl')"
   ]
  },
  {
   "cell_type": "markdown",
   "metadata": {},
   "source": [
    "### Load dataset from JSONL (for appending new data)"
   ]
  },
  {
   "cell_type": "code",
   "execution_count": null,
   "metadata": {},
   "outputs": [],
   "source": [
    "def load_dataset_from_jsonl(file_path='finetuning_data.jsonl', validation_split=0.1):\n",
    "    \"\"\"\n",
    "    Loads conversations from a JSONL file and splits them into train and validation sets.\n",
    "\n",
    "    Parameters:\n",
    "        file_path (str): Path to the JSONL file.\n",
    "        validation_split (float): Proportion of data to use for validation.\n",
    "\n",
    "    Returns:\n",
    "        DatasetDict: A DatasetDict with 'train' and 'validation' splits.\n",
    "    \"\"\"\n",
    "    dataset = Dataset.from_json(file_path)\n",
    "    dataset = dataset.train_test_split(test_size=validation_split, seed=42)\n",
    "    dataset_dict = DatasetDict({\n",
    "        \"train\": dataset[\"train\"],\n",
    "        \"validation\": dataset[\"test\"]\n",
    "    })\n",
    "    print(f\"Loaded dataset with {len(dataset_dict['train'])} training and {len(dataset_dict['validation'])} validation conversations.\")\n",
    "    return dataset_dict"
   ]
  },
  {
   "cell_type": "markdown",
   "metadata": {},
   "source": [
    "### Appending New Data"
   ]
  },
  {
   "cell_type": "code",
   "execution_count": 421,
   "metadata": {},
   "outputs": [
    {
     "name": "stdout",
     "output_type": "stream",
     "text": [
      "Successfully appended 6 conversations to finetuning_data.jsonl\n"
     ]
    }
   ],
   "source": [
    "import json\n",
    "\n",
    "new_conversations = convert_correct_pairs_to_conversations(correct_pairs)\n",
    "\n",
    "def append_conversations_to_jsonl(conversations, file_path='finetuning_data.jsonl'):\n",
    "    \"\"\"\n",
    "    Appends a list of conversations to an existing JSONL file.\n",
    "\n",
    "    Parameters:\n",
    "        conversations (list): List of conversations to append.\n",
    "        file_path (str): Path to the existing JSONL file.\n",
    "\n",
    "    Returns:\n",
    "        None\n",
    "    \"\"\"\n",
    "    with open(file_path, 'a', encoding='utf-8') as f:\n",
    "        for convo in conversations:\n",
    "            json_line = json.dumps(convo)\n",
    "            f.write(json_line + '\\n')\n",
    "    print(f\"Successfully appended {len(conversations)} conversations to {file_path}\")\n",
    "    \n",
    "# Usage\n",
    "append_conversations_to_jsonl(new_conversations, 'finetuning_data.jsonl')"
   ]
  },
  {
   "cell_type": "code",
   "execution_count": null,
   "metadata": {},
   "outputs": [],
   "source": []
  },
  {
   "cell_type": "code",
   "execution_count": null,
   "metadata": {},
   "outputs": [],
   "source": []
  },
  {
   "cell_type": "code",
   "execution_count": null,
   "metadata": {},
   "outputs": [],
   "source": []
  },
  {
   "cell_type": "code",
   "execution_count": null,
   "metadata": {},
   "outputs": [],
   "source": []
  }
 ],
 "metadata": {
  "kernelspec": {
   "display_name": ".venv",
   "language": "python",
   "name": "python3"
  },
  "language_info": {
   "codemirror_mode": {
    "name": "ipython",
    "version": 3
   },
   "file_extension": ".py",
   "mimetype": "text/x-python",
   "name": "python",
   "nbconvert_exporter": "python",
   "pygments_lexer": "ipython3",
   "version": "3.11.3"
  }
 },
 "nbformat": 4,
 "nbformat_minor": 2
}
