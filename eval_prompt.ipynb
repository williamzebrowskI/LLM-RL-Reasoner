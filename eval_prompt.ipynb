{
 "cells": [
  {
   "cell_type": "code",
   "execution_count": 3,
   "metadata": {},
   "outputs": [],
   "source": [
    "import ollama\n",
    "\n",
    "OLLOMA_MODEL_NAME = \"llama-reason-05:latest\"\n",
    "model_name = \"llama3.1:8b\""
   ]
  },
  {
   "cell_type": "code",
   "execution_count": 4,
   "metadata": {},
   "outputs": [],
   "source": [
    "extracted_answer = \"there are 5 birds\"\n",
    "correct_answer = \"5\""
   ]
  },
  {
   "cell_type": "code",
   "execution_count": 6,
   "metadata": {},
   "outputs": [
    {
     "name": "stdout",
     "output_type": "stream",
     "text": [
      "correct\n"
     ]
    }
   ],
   "source": [
    "            # If programmatic evaluation fails, use model-based evaluation\n",
    "\n",
    "\n",
    "evaluation_prompt = f\"\"\"\n",
    "                You are an assistant that evaluates two answers.\\n\\n\n",
    "\n",
    "                Examples:\\n\n",
    "\n",
    "                Example 1:\\n\n",
    "                Correct Answer: 4 \\n\n",
    "                Extracted Answer: This gives us a answer of 4.\\n\n",
    "                Decision:\\n\n",
    "                correct\\n\\n\n",
    "\n",
    "                Example 2:\\n\n",
    "                Correct Answer: 10\\n\n",
    "                Extracted Answer: Therefore, the answer is 11.\\n\n",
    "                Answer: 11\\n\n",
    "                Decision:\\n\n",
    "                incorrect\\n\\n\n",
    "\n",
    "                Instructions:\\n\n",
    "                1. Retrieve the Correct Answer\\n\n",
    "                2. Retrieve the Extracted Answer\\n\n",
    "                3. Compare both the Correct Answer and Extracted Answer.\\n\n",
    "                3. Decision:\\n\n",
    "                - If the 'Extracted Answer' matches the 'Correct Answer', respond with the single word: correct\\n\n",
    "                - If it does not, respond with the single word: incorrect\\n\n",
    "                4. Response Format:\\n\n",
    "                - Do not provide any additional text or explanations.\\n\n",
    "                - Only respond with one word: 'correct' or 'incorrect'.\\n\\n\n",
    "\n",
    "                Correct Answer:\\n\n",
    "                {correct_answer}\\n\\n\n",
    "\n",
    "                Extracted Amswer:\\n\n",
    "                {extracted_answer}\\n\\n\n",
    "\n",
    "                Decision: ___ \\n\n",
    "                \"\"\"\n",
    "\n",
    "response = ollama.chat(model=model_name, messages=[\n",
    "            {\n",
    "                'role': 'user',\n",
    "                'content': evaluation_prompt\n",
    "            },\n",
    "        ])\n",
    "\n",
    "decision = response['message']['content'].lower()\n",
    "print(decision)"
   ]
  },
  {
   "cell_type": "code",
   "execution_count": null,
   "metadata": {},
   "outputs": [],
   "source": []
  }
 ],
 "metadata": {
  "kernelspec": {
   "display_name": ".venv",
   "language": "python",
   "name": "python3"
  },
  "language_info": {
   "codemirror_mode": {
    "name": "ipython",
    "version": 3
   },
   "file_extension": ".py",
   "mimetype": "text/x-python",
   "name": "python",
   "nbconvert_exporter": "python",
   "pygments_lexer": "ipython3",
   "version": "3.11.3"
  }
 },
 "nbformat": 4,
 "nbformat_minor": 2
}
